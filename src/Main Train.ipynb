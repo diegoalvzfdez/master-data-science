{
  "nbformat": 4,
  "nbformat_minor": 0,
  "metadata": {
    "colab": {
      "name": "Main Train.ipynb",
      "version": "0.3.2",
      "provenance": [],
      "collapsed_sections": []
    },
    "language_info": {
      "codemirror_mode": {
        "name": "ipython",
        "version": 3
      },
      "file_extension": ".py",
      "mimetype": "text/x-python",
      "name": "python",
      "nbconvert_exporter": "python",
      "pygments_lexer": "ipython3",
      "version": "3.7.1"
    },
    "kernelspec": {
      "display_name": "Python 3",
      "language": "python",
      "name": "python3"
    },
    "accelerator": "GPU"
  },
  "cells": [
    {
      "cell_type": "markdown",
      "metadata": {
        "colab_type": "text",
        "id": "nqnbhbaic2eR"
      },
      "source": [
        "Librerias utilizadas:"
      ]
    },
    {
      "cell_type": "code",
      "metadata": {
        "colab_type": "code",
        "id": "TV4eNPAoc2eT",
        "outputId": "fda310af-48b4-49fe-f351-3c59a18eee8b",
        "colab": {
          "base_uri": "https://localhost:8080/",
          "height": 84
        }
      },
      "source": [
        "import pandas as pd\n",
        "%pylab inline\n",
        "import copy\n",
        "from sklearn.linear_model import LogisticRegression\n",
        "from sklearn.metrics import accuracy_score\n",
        "from sklearn.model_selection import cross_val_score\n",
        "from sklearn.model_selection import GridSearchCV\n",
        "from sklearn.neighbors import KNeighborsClassifier\n",
        "from sklearn.tree import DecisionTreeClassifier\n",
        "from sklearn.metrics import classification_report, accuracy_score, make_scorer\n",
        "from sklearn.svm import SVC\n",
        "from sklearn.ensemble import RandomForestClassifier\n",
        "from xgboost import XGBClassifier\n",
        "from sklearn import ensemble\n",
        "from sklearn.ensemble import VotingClassifier\n",
        "from sklearn.ensemble import BaggingClassifier\n",
        "from keras import layers\n",
        "from keras import models\n",
        "from keras import optimizers\n",
        "from keras import losses\n",
        "from keras import metrics\n",
        "from keras import utils\n",
        "from sklearn.preprocessing import StandardScaler\n",
        "from sklearn.model_selection import train_test_split\n",
        "from sklearn.metrics import confusion_matrix"
      ],
      "execution_count": 360,
      "outputs": [
        {
          "output_type": "stream",
          "text": [
            "Populating the interactive namespace from numpy and matplotlib\n"
          ],
          "name": "stdout"
        },
        {
          "output_type": "stream",
          "text": [
            "/usr/local/lib/python3.6/dist-packages/IPython/core/magics/pylab.py:161: UserWarning: pylab import has clobbered these variables: ['copy']\n",
            "`%matplotlib` prevents importing * from pylab and numpy\n",
            "  \"\\n`%matplotlib` prevents importing * from pylab and numpy\"\n"
          ],
          "name": "stderr"
        }
      ]
    },
    {
      "cell_type": "code",
      "metadata": {
        "colab_type": "code",
        "id": "-dMUolKxdXO-",
        "colab": {}
      },
      "source": [
        "url = 'https://raw.githubusercontent.com/diegoalvzfdez/master-data-science/master/preprocessed_data/csv_eye.csv'\n"
      ],
      "execution_count": 0,
      "outputs": []
    },
    {
      "cell_type": "markdown",
      "metadata": {
        "id": "rm_GQwer0idV",
        "colab_type": "text"
      },
      "source": [
        "## Estudio del Dataset Obtenido"
      ]
    },
    {
      "cell_type": "markdown",
      "metadata": {
        "colab_type": "text",
        "id": "uxwVpuVPc2eZ"
      },
      "source": [
        "Abrimos el fichero que hemos generado de los scripts anteriores"
      ]
    },
    {
      "cell_type": "code",
      "metadata": {
        "colab_type": "code",
        "id": "JGrbPxrFc2ea",
        "outputId": "953b5c6b-6972-470e-a3c1-5db5a0822f1e",
        "colab": {
          "base_uri": "https://localhost:8080/",
          "height": 3936
        }
      },
      "source": [
        "eye_df = pd.read_csv(url, sep = \";\")\n",
        "eye_df"
      ],
      "execution_count": 3,
      "outputs": [
        {
          "output_type": "execute_result",
          "data": {
            "text/html": [
              "<div>\n",
              "<style scoped>\n",
              "    .dataframe tbody tr th:only-of-type {\n",
              "        vertical-align: middle;\n",
              "    }\n",
              "\n",
              "    .dataframe tbody tr th {\n",
              "        vertical-align: top;\n",
              "    }\n",
              "\n",
              "    .dataframe thead th {\n",
              "        text-align: right;\n",
              "    }\n",
              "</style>\n",
              "<table border=\"1\" class=\"dataframe\">\n",
              "  <thead>\n",
              "    <tr style=\"text-align: right;\">\n",
              "      <th></th>\n",
              "      <th>Max Depth Front</th>\n",
              "      <th>Max Depth Back</th>\n",
              "      <th>Max Curve Front</th>\n",
              "      <th>Max Curve Back</th>\n",
              "      <th>Max Variation Curve Front</th>\n",
              "      <th>Max Variation Curve Back</th>\n",
              "      <th>Mean Curve Front</th>\n",
              "      <th>Mean Curve Back</th>\n",
              "      <th>Age</th>\n",
              "      <th>K Max</th>\n",
              "      <th>Paqui Min</th>\n",
              "      <th>Distance Between Max Curve and Min Paqui</th>\n",
              "      <th>Position of Most Curve Point Relative to Center</th>\n",
              "      <th>Treatment</th>\n",
              "    </tr>\n",
              "  </thead>\n",
              "  <tbody>\n",
              "    <tr>\n",
              "      <th>0</th>\n",
              "      <td>2590</td>\n",
              "      <td>2670</td>\n",
              "      <td>6.24</td>\n",
              "      <td>4.56</td>\n",
              "      <td>3.72</td>\n",
              "      <td>3.64</td>\n",
              "      <td>7.86</td>\n",
              "      <td>6.49</td>\n",
              "      <td>24</td>\n",
              "      <td>54.11</td>\n",
              "      <td>429</td>\n",
              "      <td>0.78</td>\n",
              "      <td>1.09</td>\n",
              "      <td>Pacientes tratados mediante anillos</td>\n",
              "    </tr>\n",
              "    <tr>\n",
              "      <th>1</th>\n",
              "      <td>2432</td>\n",
              "      <td>2449</td>\n",
              "      <td>6.35</td>\n",
              "      <td>4.62</td>\n",
              "      <td>3.41</td>\n",
              "      <td>3.44</td>\n",
              "      <td>7.86</td>\n",
              "      <td>6.51</td>\n",
              "      <td>24</td>\n",
              "      <td>53.18</td>\n",
              "      <td>425</td>\n",
              "      <td>0.54</td>\n",
              "      <td>0.96</td>\n",
              "      <td>Pacientes tratados mediante anillos</td>\n",
              "    </tr>\n",
              "    <tr>\n",
              "      <th>2</th>\n",
              "      <td>2833</td>\n",
              "      <td>2842</td>\n",
              "      <td>5.04</td>\n",
              "      <td>3.51</td>\n",
              "      <td>5.54</td>\n",
              "      <td>5.35</td>\n",
              "      <td>7.84</td>\n",
              "      <td>6.37</td>\n",
              "      <td>35</td>\n",
              "      <td>66.97</td>\n",
              "      <td>408</td>\n",
              "      <td>4.87</td>\n",
              "      <td>4.65</td>\n",
              "      <td>Pacientes tratados mediante anillos</td>\n",
              "    </tr>\n",
              "    <tr>\n",
              "      <th>3</th>\n",
              "      <td>3101</td>\n",
              "      <td>3124</td>\n",
              "      <td>5.26</td>\n",
              "      <td>3.62</td>\n",
              "      <td>5.10</td>\n",
              "      <td>4.91</td>\n",
              "      <td>7.93</td>\n",
              "      <td>6.44</td>\n",
              "      <td>35</td>\n",
              "      <td>64.18</td>\n",
              "      <td>372</td>\n",
              "      <td>5.50</td>\n",
              "      <td>4.88</td>\n",
              "      <td>Pacientes tratados mediante anillos</td>\n",
              "    </tr>\n",
              "    <tr>\n",
              "      <th>4</th>\n",
              "      <td>2435</td>\n",
              "      <td>2692</td>\n",
              "      <td>5.25</td>\n",
              "      <td>3.44</td>\n",
              "      <td>4.61</td>\n",
              "      <td>5.25</td>\n",
              "      <td>7.20</td>\n",
              "      <td>5.85</td>\n",
              "      <td>35</td>\n",
              "      <td>64.33</td>\n",
              "      <td>466</td>\n",
              "      <td>0.40</td>\n",
              "      <td>1.02</td>\n",
              "      <td>Pacientes tratados mediante anillos</td>\n",
              "    </tr>\n",
              "    <tr>\n",
              "      <th>5</th>\n",
              "      <td>2527</td>\n",
              "      <td>2641</td>\n",
              "      <td>6.61</td>\n",
              "      <td>4.82</td>\n",
              "      <td>2.47</td>\n",
              "      <td>2.88</td>\n",
              "      <td>8.17</td>\n",
              "      <td>6.61</td>\n",
              "      <td>20</td>\n",
              "      <td>51.06</td>\n",
              "      <td>473</td>\n",
              "      <td>0.61</td>\n",
              "      <td>0.40</td>\n",
              "      <td>Pacientes tratados mediante anillos</td>\n",
              "    </tr>\n",
              "    <tr>\n",
              "      <th>6</th>\n",
              "      <td>2614</td>\n",
              "      <td>2735</td>\n",
              "      <td>6.66</td>\n",
              "      <td>4.87</td>\n",
              "      <td>3.28</td>\n",
              "      <td>3.01</td>\n",
              "      <td>8.03</td>\n",
              "      <td>6.60</td>\n",
              "      <td>79</td>\n",
              "      <td>50.68</td>\n",
              "      <td>502</td>\n",
              "      <td>0.71</td>\n",
              "      <td>1.28</td>\n",
              "      <td>Pacientes tratados mediante anillos</td>\n",
              "    </tr>\n",
              "    <tr>\n",
              "      <th>7</th>\n",
              "      <td>2339</td>\n",
              "      <td>2542</td>\n",
              "      <td>6.37</td>\n",
              "      <td>3.84</td>\n",
              "      <td>2.78</td>\n",
              "      <td>4.63</td>\n",
              "      <td>7.90</td>\n",
              "      <td>6.24</td>\n",
              "      <td>49</td>\n",
              "      <td>52.97</td>\n",
              "      <td>398</td>\n",
              "      <td>0.50</td>\n",
              "      <td>0.15</td>\n",
              "      <td>Pacientes tratados mediante anillos</td>\n",
              "    </tr>\n",
              "    <tr>\n",
              "      <th>8</th>\n",
              "      <td>2695</td>\n",
              "      <td>2665</td>\n",
              "      <td>6.42</td>\n",
              "      <td>4.76</td>\n",
              "      <td>3.35</td>\n",
              "      <td>4.80</td>\n",
              "      <td>7.87</td>\n",
              "      <td>6.57</td>\n",
              "      <td>48</td>\n",
              "      <td>52.61</td>\n",
              "      <td>533</td>\n",
              "      <td>1.92</td>\n",
              "      <td>3.82</td>\n",
              "      <td>Pacientes tratados mediante anillos</td>\n",
              "    </tr>\n",
              "    <tr>\n",
              "      <th>9</th>\n",
              "      <td>2568</td>\n",
              "      <td>2742</td>\n",
              "      <td>5.33</td>\n",
              "      <td>3.25</td>\n",
              "      <td>3.66</td>\n",
              "      <td>4.47</td>\n",
              "      <td>7.51</td>\n",
              "      <td>6.14</td>\n",
              "      <td>75</td>\n",
              "      <td>63.37</td>\n",
              "      <td>414</td>\n",
              "      <td>0.28</td>\n",
              "      <td>0.33</td>\n",
              "      <td>Pacientes tratados mediante anillos</td>\n",
              "    </tr>\n",
              "    <tr>\n",
              "      <th>10</th>\n",
              "      <td>2490</td>\n",
              "      <td>2551</td>\n",
              "      <td>5.85</td>\n",
              "      <td>3.98</td>\n",
              "      <td>3.56</td>\n",
              "      <td>3.48</td>\n",
              "      <td>7.72</td>\n",
              "      <td>6.38</td>\n",
              "      <td>75</td>\n",
              "      <td>57.70</td>\n",
              "      <td>428</td>\n",
              "      <td>0.76</td>\n",
              "      <td>1.08</td>\n",
              "      <td>Pacientes tratados mediante anillos</td>\n",
              "    </tr>\n",
              "    <tr>\n",
              "      <th>11</th>\n",
              "      <td>2601</td>\n",
              "      <td>2657</td>\n",
              "      <td>6.96</td>\n",
              "      <td>4.72</td>\n",
              "      <td>2.22</td>\n",
              "      <td>3.12</td>\n",
              "      <td>8.14</td>\n",
              "      <td>6.68</td>\n",
              "      <td>44</td>\n",
              "      <td>48.49</td>\n",
              "      <td>483</td>\n",
              "      <td>1.34</td>\n",
              "      <td>1.87</td>\n",
              "      <td>Pacientes tratados mediante anillos</td>\n",
              "    </tr>\n",
              "    <tr>\n",
              "      <th>12</th>\n",
              "      <td>2469</td>\n",
              "      <td>2510</td>\n",
              "      <td>5.82</td>\n",
              "      <td>3.61</td>\n",
              "      <td>2.92</td>\n",
              "      <td>4.71</td>\n",
              "      <td>7.55</td>\n",
              "      <td>6.32</td>\n",
              "      <td>42</td>\n",
              "      <td>57.97</td>\n",
              "      <td>453</td>\n",
              "      <td>0.50</td>\n",
              "      <td>0.57</td>\n",
              "      <td>Pacientes tratados mediante anillos</td>\n",
              "    </tr>\n",
              "    <tr>\n",
              "      <th>13</th>\n",
              "      <td>2329</td>\n",
              "      <td>2493</td>\n",
              "      <td>6.52</td>\n",
              "      <td>4.98</td>\n",
              "      <td>2.31</td>\n",
              "      <td>2.76</td>\n",
              "      <td>7.50</td>\n",
              "      <td>6.17</td>\n",
              "      <td>54</td>\n",
              "      <td>51.79</td>\n",
              "      <td>446</td>\n",
              "      <td>2.66</td>\n",
              "      <td>3.66</td>\n",
              "      <td>Pacientes tratados mediante anillos</td>\n",
              "    </tr>\n",
              "    <tr>\n",
              "      <th>14</th>\n",
              "      <td>2581</td>\n",
              "      <td>2622</td>\n",
              "      <td>6.43</td>\n",
              "      <td>4.62</td>\n",
              "      <td>3.42</td>\n",
              "      <td>3.70</td>\n",
              "      <td>8.17</td>\n",
              "      <td>6.63</td>\n",
              "      <td>37</td>\n",
              "      <td>52.49</td>\n",
              "      <td>470</td>\n",
              "      <td>0.82</td>\n",
              "      <td>1.08</td>\n",
              "      <td>Pacientes tratados mediante anillos</td>\n",
              "    </tr>\n",
              "    <tr>\n",
              "      <th>15</th>\n",
              "      <td>2562</td>\n",
              "      <td>2774</td>\n",
              "      <td>6.26</td>\n",
              "      <td>4.65</td>\n",
              "      <td>3.32</td>\n",
              "      <td>5.02</td>\n",
              "      <td>8.00</td>\n",
              "      <td>6.73</td>\n",
              "      <td>52</td>\n",
              "      <td>53.89</td>\n",
              "      <td>478</td>\n",
              "      <td>1.14</td>\n",
              "      <td>1.91</td>\n",
              "      <td>Pacientes tratados mediante anillos</td>\n",
              "    </tr>\n",
              "    <tr>\n",
              "      <th>16</th>\n",
              "      <td>2675</td>\n",
              "      <td>2791</td>\n",
              "      <td>7.17</td>\n",
              "      <td>5.60</td>\n",
              "      <td>2.67</td>\n",
              "      <td>3.36</td>\n",
              "      <td>8.53</td>\n",
              "      <td>7.11</td>\n",
              "      <td>37</td>\n",
              "      <td>47.09</td>\n",
              "      <td>455</td>\n",
              "      <td>0.64</td>\n",
              "      <td>0.56</td>\n",
              "      <td>Pacientes tratados mediante anillos</td>\n",
              "    </tr>\n",
              "    <tr>\n",
              "      <th>17</th>\n",
              "      <td>2528</td>\n",
              "      <td>2459</td>\n",
              "      <td>7.10</td>\n",
              "      <td>5.58</td>\n",
              "      <td>2.82</td>\n",
              "      <td>3.55</td>\n",
              "      <td>8.55</td>\n",
              "      <td>7.07</td>\n",
              "      <td>37</td>\n",
              "      <td>47.56</td>\n",
              "      <td>465</td>\n",
              "      <td>0.22</td>\n",
              "      <td>0.73</td>\n",
              "      <td>Pacientes tratados mediante anillos</td>\n",
              "    </tr>\n",
              "    <tr>\n",
              "      <th>18</th>\n",
              "      <td>2808</td>\n",
              "      <td>2894</td>\n",
              "      <td>6.60</td>\n",
              "      <td>4.63</td>\n",
              "      <td>2.11</td>\n",
              "      <td>3.01</td>\n",
              "      <td>7.67</td>\n",
              "      <td>6.35</td>\n",
              "      <td>59</td>\n",
              "      <td>51.14</td>\n",
              "      <td>496</td>\n",
              "      <td>0.92</td>\n",
              "      <td>0.90</td>\n",
              "      <td>Pacientes tratados mediante anillos</td>\n",
              "    </tr>\n",
              "    <tr>\n",
              "      <th>19</th>\n",
              "      <td>2980</td>\n",
              "      <td>3019</td>\n",
              "      <td>5.42</td>\n",
              "      <td>3.94</td>\n",
              "      <td>4.17</td>\n",
              "      <td>4.96</td>\n",
              "      <td>7.80</td>\n",
              "      <td>6.52</td>\n",
              "      <td>34</td>\n",
              "      <td>62.23</td>\n",
              "      <td>424</td>\n",
              "      <td>1.32</td>\n",
              "      <td>1.98</td>\n",
              "      <td>Pacientes tratados mediante anillos</td>\n",
              "    </tr>\n",
              "    <tr>\n",
              "      <th>20</th>\n",
              "      <td>2695</td>\n",
              "      <td>2738</td>\n",
              "      <td>5.75</td>\n",
              "      <td>4.19</td>\n",
              "      <td>3.90</td>\n",
              "      <td>4.63</td>\n",
              "      <td>8.02</td>\n",
              "      <td>6.70</td>\n",
              "      <td>34</td>\n",
              "      <td>58.72</td>\n",
              "      <td>443</td>\n",
              "      <td>1.43</td>\n",
              "      <td>2.25</td>\n",
              "      <td>Pacientes tratados mediante anillos</td>\n",
              "    </tr>\n",
              "    <tr>\n",
              "      <th>21</th>\n",
              "      <td>3049</td>\n",
              "      <td>3128</td>\n",
              "      <td>6.33</td>\n",
              "      <td>4.87</td>\n",
              "      <td>2.68</td>\n",
              "      <td>2.58</td>\n",
              "      <td>7.84</td>\n",
              "      <td>6.41</td>\n",
              "      <td>41</td>\n",
              "      <td>53.30</td>\n",
              "      <td>606</td>\n",
              "      <td>1.41</td>\n",
              "      <td>1.63</td>\n",
              "      <td>Pacientes tratados mediante anillos</td>\n",
              "    </tr>\n",
              "    <tr>\n",
              "      <th>22</th>\n",
              "      <td>2778</td>\n",
              "      <td>2853</td>\n",
              "      <td>5.42</td>\n",
              "      <td>3.72</td>\n",
              "      <td>3.14</td>\n",
              "      <td>3.94</td>\n",
              "      <td>7.40</td>\n",
              "      <td>6.11</td>\n",
              "      <td>64</td>\n",
              "      <td>62.33</td>\n",
              "      <td>452</td>\n",
              "      <td>0.36</td>\n",
              "      <td>0.68</td>\n",
              "      <td>Pacientes tratados mediante anillos</td>\n",
              "    </tr>\n",
              "    <tr>\n",
              "      <th>23</th>\n",
              "      <td>2413</td>\n",
              "      <td>2523</td>\n",
              "      <td>5.72</td>\n",
              "      <td>3.85</td>\n",
              "      <td>3.07</td>\n",
              "      <td>3.50</td>\n",
              "      <td>7.81</td>\n",
              "      <td>6.23</td>\n",
              "      <td>23</td>\n",
              "      <td>59.03</td>\n",
              "      <td>473</td>\n",
              "      <td>1.03</td>\n",
              "      <td>0.92</td>\n",
              "      <td>Pacientes tratados mediante anillos</td>\n",
              "    </tr>\n",
              "    <tr>\n",
              "      <th>24</th>\n",
              "      <td>2385</td>\n",
              "      <td>2628</td>\n",
              "      <td>5.19</td>\n",
              "      <td>3.55</td>\n",
              "      <td>3.59</td>\n",
              "      <td>4.55</td>\n",
              "      <td>7.69</td>\n",
              "      <td>6.18</td>\n",
              "      <td>23</td>\n",
              "      <td>65.07</td>\n",
              "      <td>462</td>\n",
              "      <td>0.73</td>\n",
              "      <td>1.02</td>\n",
              "      <td>Pacientes tratados mediante anillos</td>\n",
              "    </tr>\n",
              "    <tr>\n",
              "      <th>25</th>\n",
              "      <td>2492</td>\n",
              "      <td>2638</td>\n",
              "      <td>5.23</td>\n",
              "      <td>3.45</td>\n",
              "      <td>3.58</td>\n",
              "      <td>4.51</td>\n",
              "      <td>7.70</td>\n",
              "      <td>6.16</td>\n",
              "      <td>23</td>\n",
              "      <td>64.53</td>\n",
              "      <td>454</td>\n",
              "      <td>0.86</td>\n",
              "      <td>0.60</td>\n",
              "      <td>Pacientes tratados mediante anillos</td>\n",
              "    </tr>\n",
              "    <tr>\n",
              "      <th>26</th>\n",
              "      <td>2754</td>\n",
              "      <td>2929</td>\n",
              "      <td>7.52</td>\n",
              "      <td>6.12</td>\n",
              "      <td>1.55</td>\n",
              "      <td>1.24</td>\n",
              "      <td>8.08</td>\n",
              "      <td>6.66</td>\n",
              "      <td>39</td>\n",
              "      <td>44.91</td>\n",
              "      <td>539</td>\n",
              "      <td>3.35</td>\n",
              "      <td>2.36</td>\n",
              "      <td>Pacientes tratados mediante anillos</td>\n",
              "    </tr>\n",
              "    <tr>\n",
              "      <th>27</th>\n",
              "      <td>2426</td>\n",
              "      <td>2463</td>\n",
              "      <td>5.60</td>\n",
              "      <td>3.59</td>\n",
              "      <td>3.30</td>\n",
              "      <td>4.53</td>\n",
              "      <td>7.65</td>\n",
              "      <td>6.10</td>\n",
              "      <td>25</td>\n",
              "      <td>60.29</td>\n",
              "      <td>490</td>\n",
              "      <td>0.22</td>\n",
              "      <td>0.45</td>\n",
              "      <td>Pacientes tratados mediante anillos</td>\n",
              "    </tr>\n",
              "    <tr>\n",
              "      <th>28</th>\n",
              "      <td>2895</td>\n",
              "      <td>2785</td>\n",
              "      <td>6.13</td>\n",
              "      <td>4.93</td>\n",
              "      <td>2.80</td>\n",
              "      <td>2.39</td>\n",
              "      <td>7.28</td>\n",
              "      <td>6.00</td>\n",
              "      <td>37</td>\n",
              "      <td>55.02</td>\n",
              "      <td>399</td>\n",
              "      <td>2.83</td>\n",
              "      <td>1.25</td>\n",
              "      <td>Pacientes tratados mediante anillos</td>\n",
              "    </tr>\n",
              "    <tr>\n",
              "      <th>29</th>\n",
              "      <td>2818</td>\n",
              "      <td>2915</td>\n",
              "      <td>4.99</td>\n",
              "      <td>3.41</td>\n",
              "      <td>4.61</td>\n",
              "      <td>5.36</td>\n",
              "      <td>7.43</td>\n",
              "      <td>6.17</td>\n",
              "      <td>38</td>\n",
              "      <td>67.70</td>\n",
              "      <td>378</td>\n",
              "      <td>0.36</td>\n",
              "      <td>1.06</td>\n",
              "      <td>Pacientes tratados mediante anillos</td>\n",
              "    </tr>\n",
              "    <tr>\n",
              "      <th>...</th>\n",
              "      <td>...</td>\n",
              "      <td>...</td>\n",
              "      <td>...</td>\n",
              "      <td>...</td>\n",
              "      <td>...</td>\n",
              "      <td>...</td>\n",
              "      <td>...</td>\n",
              "      <td>...</td>\n",
              "      <td>...</td>\n",
              "      <td>...</td>\n",
              "      <td>...</td>\n",
              "      <td>...</td>\n",
              "      <td>...</td>\n",
              "      <td>...</td>\n",
              "    </tr>\n",
              "    <tr>\n",
              "      <th>431</th>\n",
              "      <td>2529</td>\n",
              "      <td>2622</td>\n",
              "      <td>6.78</td>\n",
              "      <td>5.10</td>\n",
              "      <td>1.95</td>\n",
              "      <td>2.15</td>\n",
              "      <td>7.72</td>\n",
              "      <td>6.27</td>\n",
              "      <td>49</td>\n",
              "      <td>49.80</td>\n",
              "      <td>513</td>\n",
              "      <td>0.92</td>\n",
              "      <td>1.70</td>\n",
              "      <td>Pacientes sin operar</td>\n",
              "    </tr>\n",
              "    <tr>\n",
              "      <th>432</th>\n",
              "      <td>2415</td>\n",
              "      <td>2510</td>\n",
              "      <td>7.71</td>\n",
              "      <td>6.20</td>\n",
              "      <td>1.50</td>\n",
              "      <td>1.38</td>\n",
              "      <td>8.23</td>\n",
              "      <td>6.74</td>\n",
              "      <td>43</td>\n",
              "      <td>43.79</td>\n",
              "      <td>527</td>\n",
              "      <td>2.38</td>\n",
              "      <td>3.28</td>\n",
              "      <td>Pacientes sin operar</td>\n",
              "    </tr>\n",
              "    <tr>\n",
              "      <th>433</th>\n",
              "      <td>2359</td>\n",
              "      <td>2550</td>\n",
              "      <td>6.55</td>\n",
              "      <td>5.08</td>\n",
              "      <td>2.69</td>\n",
              "      <td>2.93</td>\n",
              "      <td>7.59</td>\n",
              "      <td>6.30</td>\n",
              "      <td>63</td>\n",
              "      <td>51.55</td>\n",
              "      <td>467</td>\n",
              "      <td>1.21</td>\n",
              "      <td>0.85</td>\n",
              "      <td>Pacientes sin operar</td>\n",
              "    </tr>\n",
              "    <tr>\n",
              "      <th>434</th>\n",
              "      <td>2763</td>\n",
              "      <td>2762</td>\n",
              "      <td>7.00</td>\n",
              "      <td>5.20</td>\n",
              "      <td>1.53</td>\n",
              "      <td>2.26</td>\n",
              "      <td>7.67</td>\n",
              "      <td>6.30</td>\n",
              "      <td>34</td>\n",
              "      <td>48.22</td>\n",
              "      <td>486</td>\n",
              "      <td>0.86</td>\n",
              "      <td>1.02</td>\n",
              "      <td>Pacientes sin operar</td>\n",
              "    </tr>\n",
              "    <tr>\n",
              "      <th>435</th>\n",
              "      <td>2452</td>\n",
              "      <td>2634</td>\n",
              "      <td>7.29</td>\n",
              "      <td>5.32</td>\n",
              "      <td>2.26</td>\n",
              "      <td>2.41</td>\n",
              "      <td>8.45</td>\n",
              "      <td>6.67</td>\n",
              "      <td>42</td>\n",
              "      <td>46.29</td>\n",
              "      <td>484</td>\n",
              "      <td>1.04</td>\n",
              "      <td>0.82</td>\n",
              "      <td>Pacientes sin operar</td>\n",
              "    </tr>\n",
              "    <tr>\n",
              "      <th>436</th>\n",
              "      <td>2294</td>\n",
              "      <td>2327</td>\n",
              "      <td>6.95</td>\n",
              "      <td>4.85</td>\n",
              "      <td>2.51</td>\n",
              "      <td>3.15</td>\n",
              "      <td>8.20</td>\n",
              "      <td>6.78</td>\n",
              "      <td>62</td>\n",
              "      <td>48.54</td>\n",
              "      <td>492</td>\n",
              "      <td>1.10</td>\n",
              "      <td>1.41</td>\n",
              "      <td>Pacientes sin operar</td>\n",
              "    </tr>\n",
              "    <tr>\n",
              "      <th>437</th>\n",
              "      <td>2842</td>\n",
              "      <td>2933</td>\n",
              "      <td>5.24</td>\n",
              "      <td>3.50</td>\n",
              "      <td>4.20</td>\n",
              "      <td>4.51</td>\n",
              "      <td>7.40</td>\n",
              "      <td>6.03</td>\n",
              "      <td>38</td>\n",
              "      <td>64.39</td>\n",
              "      <td>404</td>\n",
              "      <td>0.14</td>\n",
              "      <td>0.96</td>\n",
              "      <td>Pacientes sin operar</td>\n",
              "    </tr>\n",
              "    <tr>\n",
              "      <th>438</th>\n",
              "      <td>2538</td>\n",
              "      <td>2677</td>\n",
              "      <td>6.74</td>\n",
              "      <td>5.00</td>\n",
              "      <td>2.20</td>\n",
              "      <td>2.75</td>\n",
              "      <td>7.86</td>\n",
              "      <td>6.42</td>\n",
              "      <td>38</td>\n",
              "      <td>50.10</td>\n",
              "      <td>486</td>\n",
              "      <td>1.49</td>\n",
              "      <td>2.08</td>\n",
              "      <td>Pacientes sin operar</td>\n",
              "    </tr>\n",
              "    <tr>\n",
              "      <th>439</th>\n",
              "      <td>2363</td>\n",
              "      <td>2610</td>\n",
              "      <td>6.60</td>\n",
              "      <td>4.91</td>\n",
              "      <td>2.00</td>\n",
              "      <td>2.50</td>\n",
              "      <td>7.63</td>\n",
              "      <td>6.21</td>\n",
              "      <td>39</td>\n",
              "      <td>51.16</td>\n",
              "      <td>486</td>\n",
              "      <td>0.92</td>\n",
              "      <td>0.36</td>\n",
              "      <td>Pacientes sin operar</td>\n",
              "    </tr>\n",
              "    <tr>\n",
              "      <th>440</th>\n",
              "      <td>2439</td>\n",
              "      <td>2625</td>\n",
              "      <td>6.93</td>\n",
              "      <td>5.13</td>\n",
              "      <td>2.12</td>\n",
              "      <td>2.15</td>\n",
              "      <td>7.71</td>\n",
              "      <td>6.22</td>\n",
              "      <td>39</td>\n",
              "      <td>48.69</td>\n",
              "      <td>492</td>\n",
              "      <td>0.64</td>\n",
              "      <td>0.28</td>\n",
              "      <td>Pacientes sin operar</td>\n",
              "    </tr>\n",
              "    <tr>\n",
              "      <th>441</th>\n",
              "      <td>2921</td>\n",
              "      <td>2996</td>\n",
              "      <td>6.96</td>\n",
              "      <td>5.32</td>\n",
              "      <td>2.01</td>\n",
              "      <td>2.47</td>\n",
              "      <td>8.02</td>\n",
              "      <td>6.66</td>\n",
              "      <td>36</td>\n",
              "      <td>48.48</td>\n",
              "      <td>414</td>\n",
              "      <td>2.25</td>\n",
              "      <td>3.58</td>\n",
              "      <td>Pacientes sin operar</td>\n",
              "    </tr>\n",
              "    <tr>\n",
              "      <th>442</th>\n",
              "      <td>2979</td>\n",
              "      <td>3137</td>\n",
              "      <td>6.59</td>\n",
              "      <td>4.74</td>\n",
              "      <td>2.85</td>\n",
              "      <td>2.63</td>\n",
              "      <td>7.80</td>\n",
              "      <td>6.20</td>\n",
              "      <td>57</td>\n",
              "      <td>51.28</td>\n",
              "      <td>460</td>\n",
              "      <td>0.95</td>\n",
              "      <td>0.12</td>\n",
              "      <td>Pacientes sin operar</td>\n",
              "    </tr>\n",
              "    <tr>\n",
              "      <th>443</th>\n",
              "      <td>2763</td>\n",
              "      <td>3011</td>\n",
              "      <td>7.40</td>\n",
              "      <td>5.08</td>\n",
              "      <td>3.08</td>\n",
              "      <td>2.21</td>\n",
              "      <td>8.02</td>\n",
              "      <td>6.35</td>\n",
              "      <td>57</td>\n",
              "      <td>45.61</td>\n",
              "      <td>484</td>\n",
              "      <td>5.19</td>\n",
              "      <td>5.41</td>\n",
              "      <td>Pacientes sin operar</td>\n",
              "    </tr>\n",
              "    <tr>\n",
              "      <th>444</th>\n",
              "      <td>2804</td>\n",
              "      <td>2681</td>\n",
              "      <td>5.86</td>\n",
              "      <td>4.35</td>\n",
              "      <td>3.04</td>\n",
              "      <td>3.56</td>\n",
              "      <td>7.64</td>\n",
              "      <td>6.40</td>\n",
              "      <td>31</td>\n",
              "      <td>57.57</td>\n",
              "      <td>450</td>\n",
              "      <td>1.39</td>\n",
              "      <td>2.22</td>\n",
              "      <td>Pacientes sin operar</td>\n",
              "    </tr>\n",
              "    <tr>\n",
              "      <th>445</th>\n",
              "      <td>3018</td>\n",
              "      <td>3047</td>\n",
              "      <td>7.05</td>\n",
              "      <td>5.45</td>\n",
              "      <td>1.62</td>\n",
              "      <td>2.04</td>\n",
              "      <td>7.77</td>\n",
              "      <td>6.45</td>\n",
              "      <td>36</td>\n",
              "      <td>47.86</td>\n",
              "      <td>477</td>\n",
              "      <td>1.78</td>\n",
              "      <td>1.87</td>\n",
              "      <td>Pacientes sin operar</td>\n",
              "    </tr>\n",
              "    <tr>\n",
              "      <th>446</th>\n",
              "      <td>2780</td>\n",
              "      <td>2895</td>\n",
              "      <td>6.76</td>\n",
              "      <td>5.25</td>\n",
              "      <td>2.30</td>\n",
              "      <td>2.32</td>\n",
              "      <td>7.68</td>\n",
              "      <td>6.24</td>\n",
              "      <td>39</td>\n",
              "      <td>49.96</td>\n",
              "      <td>488</td>\n",
              "      <td>2.34</td>\n",
              "      <td>2.63</td>\n",
              "      <td>Pacientes sin operar</td>\n",
              "    </tr>\n",
              "    <tr>\n",
              "      <th>447</th>\n",
              "      <td>4071</td>\n",
              "      <td>4292</td>\n",
              "      <td>6.60</td>\n",
              "      <td>5.00</td>\n",
              "      <td>2.84</td>\n",
              "      <td>2.94</td>\n",
              "      <td>7.94</td>\n",
              "      <td>6.49</td>\n",
              "      <td>59</td>\n",
              "      <td>51.17</td>\n",
              "      <td>466</td>\n",
              "      <td>1.64</td>\n",
              "      <td>1.84</td>\n",
              "      <td>Pacientes sin operar</td>\n",
              "    </tr>\n",
              "    <tr>\n",
              "      <th>448</th>\n",
              "      <td>2916</td>\n",
              "      <td>3000</td>\n",
              "      <td>6.32</td>\n",
              "      <td>4.57</td>\n",
              "      <td>2.09</td>\n",
              "      <td>2.88</td>\n",
              "      <td>7.47</td>\n",
              "      <td>6.15</td>\n",
              "      <td>45</td>\n",
              "      <td>53.42</td>\n",
              "      <td>421</td>\n",
              "      <td>0.71</td>\n",
              "      <td>0.36</td>\n",
              "      <td>Pacientes sin operar</td>\n",
              "    </tr>\n",
              "    <tr>\n",
              "      <th>449</th>\n",
              "      <td>3162</td>\n",
              "      <td>3223</td>\n",
              "      <td>6.79</td>\n",
              "      <td>5.22</td>\n",
              "      <td>1.81</td>\n",
              "      <td>2.34</td>\n",
              "      <td>7.54</td>\n",
              "      <td>6.24</td>\n",
              "      <td>45</td>\n",
              "      <td>49.69</td>\n",
              "      <td>453</td>\n",
              "      <td>1.42</td>\n",
              "      <td>2.01</td>\n",
              "      <td>Pacientes sin operar</td>\n",
              "    </tr>\n",
              "    <tr>\n",
              "      <th>450</th>\n",
              "      <td>2709</td>\n",
              "      <td>2905</td>\n",
              "      <td>6.99</td>\n",
              "      <td>5.31</td>\n",
              "      <td>2.22</td>\n",
              "      <td>2.31</td>\n",
              "      <td>7.93</td>\n",
              "      <td>6.38</td>\n",
              "      <td>47</td>\n",
              "      <td>48.30</td>\n",
              "      <td>435</td>\n",
              "      <td>1.78</td>\n",
              "      <td>2.06</td>\n",
              "      <td>Pacientes sin operar</td>\n",
              "    </tr>\n",
              "    <tr>\n",
              "      <th>451</th>\n",
              "      <td>2823</td>\n",
              "      <td>2854</td>\n",
              "      <td>7.08</td>\n",
              "      <td>5.36</td>\n",
              "      <td>1.26</td>\n",
              "      <td>1.65</td>\n",
              "      <td>7.56</td>\n",
              "      <td>6.16</td>\n",
              "      <td>35</td>\n",
              "      <td>47.65</td>\n",
              "      <td>536</td>\n",
              "      <td>2.05</td>\n",
              "      <td>2.86</td>\n",
              "      <td>Pacientes sin operar</td>\n",
              "    </tr>\n",
              "    <tr>\n",
              "      <th>452</th>\n",
              "      <td>2404</td>\n",
              "      <td>2565</td>\n",
              "      <td>7.31</td>\n",
              "      <td>5.71</td>\n",
              "      <td>1.80</td>\n",
              "      <td>2.17</td>\n",
              "      <td>8.05</td>\n",
              "      <td>6.61</td>\n",
              "      <td>49</td>\n",
              "      <td>46.17</td>\n",
              "      <td>486</td>\n",
              "      <td>0.51</td>\n",
              "      <td>0.91</td>\n",
              "      <td>Pacientes sin operar</td>\n",
              "    </tr>\n",
              "    <tr>\n",
              "      <th>453</th>\n",
              "      <td>2484</td>\n",
              "      <td>2714</td>\n",
              "      <td>6.42</td>\n",
              "      <td>4.69</td>\n",
              "      <td>2.57</td>\n",
              "      <td>3.41</td>\n",
              "      <td>7.90</td>\n",
              "      <td>6.48</td>\n",
              "      <td>49</td>\n",
              "      <td>52.59</td>\n",
              "      <td>471</td>\n",
              "      <td>0.67</td>\n",
              "      <td>0.30</td>\n",
              "      <td>Pacientes sin operar</td>\n",
              "    </tr>\n",
              "    <tr>\n",
              "      <th>454</th>\n",
              "      <td>3207</td>\n",
              "      <td>3378</td>\n",
              "      <td>6.21</td>\n",
              "      <td>4.53</td>\n",
              "      <td>2.88</td>\n",
              "      <td>3.08</td>\n",
              "      <td>7.50</td>\n",
              "      <td>6.16</td>\n",
              "      <td>41</td>\n",
              "      <td>54.34</td>\n",
              "      <td>440</td>\n",
              "      <td>1.36</td>\n",
              "      <td>1.20</td>\n",
              "      <td>Pacientes sin operar</td>\n",
              "    </tr>\n",
              "    <tr>\n",
              "      <th>455</th>\n",
              "      <td>2520</td>\n",
              "      <td>2583</td>\n",
              "      <td>6.30</td>\n",
              "      <td>4.84</td>\n",
              "      <td>3.12</td>\n",
              "      <td>3.08</td>\n",
              "      <td>7.82</td>\n",
              "      <td>6.50</td>\n",
              "      <td>27</td>\n",
              "      <td>53.58</td>\n",
              "      <td>458</td>\n",
              "      <td>1.25</td>\n",
              "      <td>1.60</td>\n",
              "      <td>Pacientes sin operar</td>\n",
              "    </tr>\n",
              "    <tr>\n",
              "      <th>456</th>\n",
              "      <td>3560</td>\n",
              "      <td>3971</td>\n",
              "      <td>6.84</td>\n",
              "      <td>5.05</td>\n",
              "      <td>2.66</td>\n",
              "      <td>3.07</td>\n",
              "      <td>7.78</td>\n",
              "      <td>6.51</td>\n",
              "      <td>63</td>\n",
              "      <td>49.32</td>\n",
              "      <td>525</td>\n",
              "      <td>1.40</td>\n",
              "      <td>2.10</td>\n",
              "      <td>Pacientes sin operar</td>\n",
              "    </tr>\n",
              "    <tr>\n",
              "      <th>457</th>\n",
              "      <td>3047</td>\n",
              "      <td>3408</td>\n",
              "      <td>6.17</td>\n",
              "      <td>4.50</td>\n",
              "      <td>2.89</td>\n",
              "      <td>3.70</td>\n",
              "      <td>7.58</td>\n",
              "      <td>6.14</td>\n",
              "      <td>63</td>\n",
              "      <td>54.70</td>\n",
              "      <td>525</td>\n",
              "      <td>2.30</td>\n",
              "      <td>2.70</td>\n",
              "      <td>Pacientes sin operar</td>\n",
              "    </tr>\n",
              "    <tr>\n",
              "      <th>458</th>\n",
              "      <td>3191</td>\n",
              "      <td>3189</td>\n",
              "      <td>7.01</td>\n",
              "      <td>5.10</td>\n",
              "      <td>2.27</td>\n",
              "      <td>2.88</td>\n",
              "      <td>7.95</td>\n",
              "      <td>6.68</td>\n",
              "      <td>68</td>\n",
              "      <td>48.16</td>\n",
              "      <td>495</td>\n",
              "      <td>1.12</td>\n",
              "      <td>2.00</td>\n",
              "      <td>Pacientes sin operar</td>\n",
              "    </tr>\n",
              "    <tr>\n",
              "      <th>459</th>\n",
              "      <td>2548</td>\n",
              "      <td>2710</td>\n",
              "      <td>6.45</td>\n",
              "      <td>4.46</td>\n",
              "      <td>2.86</td>\n",
              "      <td>3.16</td>\n",
              "      <td>8.18</td>\n",
              "      <td>6.58</td>\n",
              "      <td>39</td>\n",
              "      <td>52.33</td>\n",
              "      <td>552</td>\n",
              "      <td>0.41</td>\n",
              "      <td>0.51</td>\n",
              "      <td>Pacientes sin operar</td>\n",
              "    </tr>\n",
              "    <tr>\n",
              "      <th>460</th>\n",
              "      <td>2832</td>\n",
              "      <td>3167</td>\n",
              "      <td>6.30</td>\n",
              "      <td>4.54</td>\n",
              "      <td>3.20</td>\n",
              "      <td>4.87</td>\n",
              "      <td>7.85</td>\n",
              "      <td>6.51</td>\n",
              "      <td>55</td>\n",
              "      <td>53.58</td>\n",
              "      <td>482</td>\n",
              "      <td>1.17</td>\n",
              "      <td>2.34</td>\n",
              "      <td>Pacientes sin operar</td>\n",
              "    </tr>\n",
              "  </tbody>\n",
              "</table>\n",
              "<p>461 rows × 14 columns</p>\n",
              "</div>"
            ],
            "text/plain": [
              "     Max Depth Front  ...                            Treatment\n",
              "0               2590  ...  Pacientes tratados mediante anillos\n",
              "1               2432  ...  Pacientes tratados mediante anillos\n",
              "2               2833  ...  Pacientes tratados mediante anillos\n",
              "3               3101  ...  Pacientes tratados mediante anillos\n",
              "4               2435  ...  Pacientes tratados mediante anillos\n",
              "5               2527  ...  Pacientes tratados mediante anillos\n",
              "6               2614  ...  Pacientes tratados mediante anillos\n",
              "7               2339  ...  Pacientes tratados mediante anillos\n",
              "8               2695  ...  Pacientes tratados mediante anillos\n",
              "9               2568  ...  Pacientes tratados mediante anillos\n",
              "10              2490  ...  Pacientes tratados mediante anillos\n",
              "11              2601  ...  Pacientes tratados mediante anillos\n",
              "12              2469  ...  Pacientes tratados mediante anillos\n",
              "13              2329  ...  Pacientes tratados mediante anillos\n",
              "14              2581  ...  Pacientes tratados mediante anillos\n",
              "15              2562  ...  Pacientes tratados mediante anillos\n",
              "16              2675  ...  Pacientes tratados mediante anillos\n",
              "17              2528  ...  Pacientes tratados mediante anillos\n",
              "18              2808  ...  Pacientes tratados mediante anillos\n",
              "19              2980  ...  Pacientes tratados mediante anillos\n",
              "20              2695  ...  Pacientes tratados mediante anillos\n",
              "21              3049  ...  Pacientes tratados mediante anillos\n",
              "22              2778  ...  Pacientes tratados mediante anillos\n",
              "23              2413  ...  Pacientes tratados mediante anillos\n",
              "24              2385  ...  Pacientes tratados mediante anillos\n",
              "25              2492  ...  Pacientes tratados mediante anillos\n",
              "26              2754  ...  Pacientes tratados mediante anillos\n",
              "27              2426  ...  Pacientes tratados mediante anillos\n",
              "28              2895  ...  Pacientes tratados mediante anillos\n",
              "29              2818  ...  Pacientes tratados mediante anillos\n",
              "..               ...  ...                                  ...\n",
              "431             2529  ...                 Pacientes sin operar\n",
              "432             2415  ...                 Pacientes sin operar\n",
              "433             2359  ...                 Pacientes sin operar\n",
              "434             2763  ...                 Pacientes sin operar\n",
              "435             2452  ...                 Pacientes sin operar\n",
              "436             2294  ...                 Pacientes sin operar\n",
              "437             2842  ...                 Pacientes sin operar\n",
              "438             2538  ...                 Pacientes sin operar\n",
              "439             2363  ...                 Pacientes sin operar\n",
              "440             2439  ...                 Pacientes sin operar\n",
              "441             2921  ...                 Pacientes sin operar\n",
              "442             2979  ...                 Pacientes sin operar\n",
              "443             2763  ...                 Pacientes sin operar\n",
              "444             2804  ...                 Pacientes sin operar\n",
              "445             3018  ...                 Pacientes sin operar\n",
              "446             2780  ...                 Pacientes sin operar\n",
              "447             4071  ...                 Pacientes sin operar\n",
              "448             2916  ...                 Pacientes sin operar\n",
              "449             3162  ...                 Pacientes sin operar\n",
              "450             2709  ...                 Pacientes sin operar\n",
              "451             2823  ...                 Pacientes sin operar\n",
              "452             2404  ...                 Pacientes sin operar\n",
              "453             2484  ...                 Pacientes sin operar\n",
              "454             3207  ...                 Pacientes sin operar\n",
              "455             2520  ...                 Pacientes sin operar\n",
              "456             3560  ...                 Pacientes sin operar\n",
              "457             3047  ...                 Pacientes sin operar\n",
              "458             3191  ...                 Pacientes sin operar\n",
              "459             2548  ...                 Pacientes sin operar\n",
              "460             2832  ...                 Pacientes sin operar\n",
              "\n",
              "[461 rows x 14 columns]"
            ]
          },
          "metadata": {
            "tags": []
          },
          "execution_count": 3
        }
      ]
    },
    {
      "cell_type": "markdown",
      "metadata": {
        "colab_type": "text",
        "id": "aztjeb8ic2ee"
      },
      "source": [
        "Como podemos ver existe correlación entre las elevaciones y las curvaturas máximas entre la cara anterior y posterior."
      ]
    },
    {
      "cell_type": "code",
      "metadata": {
        "colab_type": "code",
        "id": "YyjmOeRBc2ee",
        "outputId": "34e71c87-57d5-4d5a-cf63-4cd014956202",
        "colab": {
          "base_uri": "https://localhost:8080/",
          "height": 585
        }
      },
      "source": [
        "eye_df.corr()"
      ],
      "execution_count": 4,
      "outputs": [
        {
          "output_type": "execute_result",
          "data": {
            "text/html": [
              "<div>\n",
              "<style scoped>\n",
              "    .dataframe tbody tr th:only-of-type {\n",
              "        vertical-align: middle;\n",
              "    }\n",
              "\n",
              "    .dataframe tbody tr th {\n",
              "        vertical-align: top;\n",
              "    }\n",
              "\n",
              "    .dataframe thead th {\n",
              "        text-align: right;\n",
              "    }\n",
              "</style>\n",
              "<table border=\"1\" class=\"dataframe\">\n",
              "  <thead>\n",
              "    <tr style=\"text-align: right;\">\n",
              "      <th></th>\n",
              "      <th>Max Depth Front</th>\n",
              "      <th>Max Depth Back</th>\n",
              "      <th>Max Curve Front</th>\n",
              "      <th>Max Curve Back</th>\n",
              "      <th>Max Variation Curve Front</th>\n",
              "      <th>Max Variation Curve Back</th>\n",
              "      <th>Mean Curve Front</th>\n",
              "      <th>Mean Curve Back</th>\n",
              "      <th>Age</th>\n",
              "      <th>K Max</th>\n",
              "      <th>Paqui Min</th>\n",
              "      <th>Distance Between Max Curve and Min Paqui</th>\n",
              "      <th>Position of Most Curve Point Relative to Center</th>\n",
              "    </tr>\n",
              "  </thead>\n",
              "  <tbody>\n",
              "    <tr>\n",
              "      <th>Max Depth Front</th>\n",
              "      <td>1.000000</td>\n",
              "      <td>0.918769</td>\n",
              "      <td>0.148906</td>\n",
              "      <td>0.180076</td>\n",
              "      <td>-0.101847</td>\n",
              "      <td>-0.177493</td>\n",
              "      <td>-0.008407</td>\n",
              "      <td>0.015985</td>\n",
              "      <td>0.038626</td>\n",
              "      <td>-0.166420</td>\n",
              "      <td>0.007536</td>\n",
              "      <td>0.099422</td>\n",
              "      <td>0.130465</td>\n",
              "    </tr>\n",
              "    <tr>\n",
              "      <th>Max Depth Back</th>\n",
              "      <td>0.918769</td>\n",
              "      <td>1.000000</td>\n",
              "      <td>0.135230</td>\n",
              "      <td>0.146079</td>\n",
              "      <td>-0.076268</td>\n",
              "      <td>-0.140805</td>\n",
              "      <td>-0.028989</td>\n",
              "      <td>-0.052281</td>\n",
              "      <td>0.045135</td>\n",
              "      <td>-0.140972</td>\n",
              "      <td>-0.008846</td>\n",
              "      <td>0.137598</td>\n",
              "      <td>0.141763</td>\n",
              "    </tr>\n",
              "    <tr>\n",
              "      <th>Max Curve Front</th>\n",
              "      <td>0.148906</td>\n",
              "      <td>0.135230</td>\n",
              "      <td>1.000000</td>\n",
              "      <td>0.931793</td>\n",
              "      <td>-0.744736</td>\n",
              "      <td>-0.435254</td>\n",
              "      <td>0.539516</td>\n",
              "      <td>0.518290</td>\n",
              "      <td>0.160518</td>\n",
              "      <td>-0.983708</td>\n",
              "      <td>0.556916</td>\n",
              "      <td>0.020488</td>\n",
              "      <td>0.055171</td>\n",
              "    </tr>\n",
              "    <tr>\n",
              "      <th>Max Curve Back</th>\n",
              "      <td>0.180076</td>\n",
              "      <td>0.146079</td>\n",
              "      <td>0.931793</td>\n",
              "      <td>1.000000</td>\n",
              "      <td>-0.675757</td>\n",
              "      <td>-0.485264</td>\n",
              "      <td>0.483655</td>\n",
              "      <td>0.519664</td>\n",
              "      <td>0.129078</td>\n",
              "      <td>-0.909349</td>\n",
              "      <td>0.544147</td>\n",
              "      <td>0.073439</td>\n",
              "      <td>0.134985</td>\n",
              "    </tr>\n",
              "    <tr>\n",
              "      <th>Max Variation Curve Front</th>\n",
              "      <td>-0.101847</td>\n",
              "      <td>-0.076268</td>\n",
              "      <td>-0.744736</td>\n",
              "      <td>-0.675757</td>\n",
              "      <td>1.000000</td>\n",
              "      <td>0.438443</td>\n",
              "      <td>-0.169504</td>\n",
              "      <td>-0.189050</td>\n",
              "      <td>-0.033004</td>\n",
              "      <td>0.740876</td>\n",
              "      <td>-0.443434</td>\n",
              "      <td>0.340081</td>\n",
              "      <td>0.306191</td>\n",
              "    </tr>\n",
              "    <tr>\n",
              "      <th>Max Variation Curve Back</th>\n",
              "      <td>-0.177493</td>\n",
              "      <td>-0.140805</td>\n",
              "      <td>-0.435254</td>\n",
              "      <td>-0.485264</td>\n",
              "      <td>0.438443</td>\n",
              "      <td>1.000000</td>\n",
              "      <td>-0.148551</td>\n",
              "      <td>-0.031054</td>\n",
              "      <td>-0.015036</td>\n",
              "      <td>0.425902</td>\n",
              "      <td>-0.194438</td>\n",
              "      <td>0.131606</td>\n",
              "      <td>-0.000394</td>\n",
              "    </tr>\n",
              "    <tr>\n",
              "      <th>Mean Curve Front</th>\n",
              "      <td>-0.008407</td>\n",
              "      <td>-0.028989</td>\n",
              "      <td>0.539516</td>\n",
              "      <td>0.483655</td>\n",
              "      <td>-0.169504</td>\n",
              "      <td>-0.148551</td>\n",
              "      <td>1.000000</td>\n",
              "      <td>0.896174</td>\n",
              "      <td>-0.140134</td>\n",
              "      <td>-0.526604</td>\n",
              "      <td>0.360344</td>\n",
              "      <td>0.115398</td>\n",
              "      <td>0.135702</td>\n",
              "    </tr>\n",
              "    <tr>\n",
              "      <th>Mean Curve Back</th>\n",
              "      <td>0.015985</td>\n",
              "      <td>-0.052281</td>\n",
              "      <td>0.518290</td>\n",
              "      <td>0.519664</td>\n",
              "      <td>-0.189050</td>\n",
              "      <td>-0.031054</td>\n",
              "      <td>0.896174</td>\n",
              "      <td>1.000000</td>\n",
              "      <td>-0.023933</td>\n",
              "      <td>-0.505723</td>\n",
              "      <td>0.309405</td>\n",
              "      <td>0.108834</td>\n",
              "      <td>0.163733</td>\n",
              "    </tr>\n",
              "    <tr>\n",
              "      <th>Age</th>\n",
              "      <td>0.038626</td>\n",
              "      <td>0.045135</td>\n",
              "      <td>0.160518</td>\n",
              "      <td>0.129078</td>\n",
              "      <td>-0.033004</td>\n",
              "      <td>-0.015036</td>\n",
              "      <td>-0.140134</td>\n",
              "      <td>-0.023933</td>\n",
              "      <td>1.000000</td>\n",
              "      <td>-0.168898</td>\n",
              "      <td>0.070463</td>\n",
              "      <td>0.089815</td>\n",
              "      <td>0.101973</td>\n",
              "    </tr>\n",
              "    <tr>\n",
              "      <th>K Max</th>\n",
              "      <td>-0.166420</td>\n",
              "      <td>-0.140972</td>\n",
              "      <td>-0.983708</td>\n",
              "      <td>-0.909349</td>\n",
              "      <td>0.740876</td>\n",
              "      <td>0.425902</td>\n",
              "      <td>-0.526604</td>\n",
              "      <td>-0.505723</td>\n",
              "      <td>-0.168898</td>\n",
              "      <td>1.000000</td>\n",
              "      <td>-0.545111</td>\n",
              "      <td>-0.001841</td>\n",
              "      <td>-0.032807</td>\n",
              "    </tr>\n",
              "    <tr>\n",
              "      <th>Paqui Min</th>\n",
              "      <td>0.007536</td>\n",
              "      <td>-0.008846</td>\n",
              "      <td>0.556916</td>\n",
              "      <td>0.544147</td>\n",
              "      <td>-0.443434</td>\n",
              "      <td>-0.194438</td>\n",
              "      <td>0.360344</td>\n",
              "      <td>0.309405</td>\n",
              "      <td>0.070463</td>\n",
              "      <td>-0.545111</td>\n",
              "      <td>1.000000</td>\n",
              "      <td>-0.013823</td>\n",
              "      <td>0.009084</td>\n",
              "    </tr>\n",
              "    <tr>\n",
              "      <th>Distance Between Max Curve and Min Paqui</th>\n",
              "      <td>0.099422</td>\n",
              "      <td>0.137598</td>\n",
              "      <td>0.020488</td>\n",
              "      <td>0.073439</td>\n",
              "      <td>0.340081</td>\n",
              "      <td>0.131606</td>\n",
              "      <td>0.115398</td>\n",
              "      <td>0.108834</td>\n",
              "      <td>0.089815</td>\n",
              "      <td>-0.001841</td>\n",
              "      <td>-0.013823</td>\n",
              "      <td>1.000000</td>\n",
              "      <td>0.886387</td>\n",
              "    </tr>\n",
              "    <tr>\n",
              "      <th>Position of Most Curve Point Relative to Center</th>\n",
              "      <td>0.130465</td>\n",
              "      <td>0.141763</td>\n",
              "      <td>0.055171</td>\n",
              "      <td>0.134985</td>\n",
              "      <td>0.306191</td>\n",
              "      <td>-0.000394</td>\n",
              "      <td>0.135702</td>\n",
              "      <td>0.163733</td>\n",
              "      <td>0.101973</td>\n",
              "      <td>-0.032807</td>\n",
              "      <td>0.009084</td>\n",
              "      <td>0.886387</td>\n",
              "      <td>1.000000</td>\n",
              "    </tr>\n",
              "  </tbody>\n",
              "</table>\n",
              "</div>"
            ],
            "text/plain": [
              "                                                 Max Depth Front  ...  Position of Most Curve Point Relative to Center\n",
              "Max Depth Front                                         1.000000  ...                                         0.130465\n",
              "Max Depth Back                                          0.918769  ...                                         0.141763\n",
              "Max Curve Front                                         0.148906  ...                                         0.055171\n",
              "Max Curve Back                                          0.180076  ...                                         0.134985\n",
              "Max Variation Curve Front                              -0.101847  ...                                         0.306191\n",
              "Max Variation Curve Back                               -0.177493  ...                                        -0.000394\n",
              "Mean Curve Front                                       -0.008407  ...                                         0.135702\n",
              "Mean Curve Back                                         0.015985  ...                                         0.163733\n",
              "Age                                                     0.038626  ...                                         0.101973\n",
              "K Max                                                  -0.166420  ...                                        -0.032807\n",
              "Paqui Min                                               0.007536  ...                                         0.009084\n",
              "Distance Between Max Curve and Min Paqui                0.099422  ...                                         0.886387\n",
              "Position of Most Curve Point Relative to Center         0.130465  ...                                         1.000000\n",
              "\n",
              "[13 rows x 13 columns]"
            ]
          },
          "metadata": {
            "tags": []
          },
          "execution_count": 4
        }
      ]
    },
    {
      "cell_type": "markdown",
      "metadata": {
        "colab_type": "text",
        "id": "CrEKvUyMc2ei"
      },
      "source": [
        "Vamos a intentar reducir la correlación, cogiendo únicamente un valor máximo de los dos que poseemos."
      ]
    },
    {
      "cell_type": "code",
      "metadata": {
        "colab_type": "code",
        "id": "cahhRmvQc2ej",
        "outputId": "069038f7-eefc-4889-d6e5-381647a4cb1f",
        "colab": {
          "base_uri": "https://localhost:8080/",
          "height": 397
        }
      },
      "source": [
        "eye_df['Max Depth'] = np.where(eye_df['Max Depth Front'] > eye_df['Max Depth Back'], eye_df['Max Depth Front'], eye_df['Max Depth Back'])\n",
        "eye_df.drop(['Max Depth Front', 'Max Depth Back'], axis = 1, inplace = True)\n",
        "eye_df.head(5)"
      ],
      "execution_count": 5,
      "outputs": [
        {
          "output_type": "execute_result",
          "data": {
            "text/html": [
              "<div>\n",
              "<style scoped>\n",
              "    .dataframe tbody tr th:only-of-type {\n",
              "        vertical-align: middle;\n",
              "    }\n",
              "\n",
              "    .dataframe tbody tr th {\n",
              "        vertical-align: top;\n",
              "    }\n",
              "\n",
              "    .dataframe thead th {\n",
              "        text-align: right;\n",
              "    }\n",
              "</style>\n",
              "<table border=\"1\" class=\"dataframe\">\n",
              "  <thead>\n",
              "    <tr style=\"text-align: right;\">\n",
              "      <th></th>\n",
              "      <th>Max Curve Front</th>\n",
              "      <th>Max Curve Back</th>\n",
              "      <th>Max Variation Curve Front</th>\n",
              "      <th>Max Variation Curve Back</th>\n",
              "      <th>Mean Curve Front</th>\n",
              "      <th>Mean Curve Back</th>\n",
              "      <th>Age</th>\n",
              "      <th>K Max</th>\n",
              "      <th>Paqui Min</th>\n",
              "      <th>Distance Between Max Curve and Min Paqui</th>\n",
              "      <th>Position of Most Curve Point Relative to Center</th>\n",
              "      <th>Treatment</th>\n",
              "      <th>Max Depth</th>\n",
              "    </tr>\n",
              "  </thead>\n",
              "  <tbody>\n",
              "    <tr>\n",
              "      <th>0</th>\n",
              "      <td>6.24</td>\n",
              "      <td>4.56</td>\n",
              "      <td>3.72</td>\n",
              "      <td>3.64</td>\n",
              "      <td>7.86</td>\n",
              "      <td>6.49</td>\n",
              "      <td>24</td>\n",
              "      <td>54.11</td>\n",
              "      <td>429</td>\n",
              "      <td>0.78</td>\n",
              "      <td>1.09</td>\n",
              "      <td>Pacientes tratados mediante anillos</td>\n",
              "      <td>2670</td>\n",
              "    </tr>\n",
              "    <tr>\n",
              "      <th>1</th>\n",
              "      <td>6.35</td>\n",
              "      <td>4.62</td>\n",
              "      <td>3.41</td>\n",
              "      <td>3.44</td>\n",
              "      <td>7.86</td>\n",
              "      <td>6.51</td>\n",
              "      <td>24</td>\n",
              "      <td>53.18</td>\n",
              "      <td>425</td>\n",
              "      <td>0.54</td>\n",
              "      <td>0.96</td>\n",
              "      <td>Pacientes tratados mediante anillos</td>\n",
              "      <td>2449</td>\n",
              "    </tr>\n",
              "    <tr>\n",
              "      <th>2</th>\n",
              "      <td>5.04</td>\n",
              "      <td>3.51</td>\n",
              "      <td>5.54</td>\n",
              "      <td>5.35</td>\n",
              "      <td>7.84</td>\n",
              "      <td>6.37</td>\n",
              "      <td>35</td>\n",
              "      <td>66.97</td>\n",
              "      <td>408</td>\n",
              "      <td>4.87</td>\n",
              "      <td>4.65</td>\n",
              "      <td>Pacientes tratados mediante anillos</td>\n",
              "      <td>2842</td>\n",
              "    </tr>\n",
              "    <tr>\n",
              "      <th>3</th>\n",
              "      <td>5.26</td>\n",
              "      <td>3.62</td>\n",
              "      <td>5.10</td>\n",
              "      <td>4.91</td>\n",
              "      <td>7.93</td>\n",
              "      <td>6.44</td>\n",
              "      <td>35</td>\n",
              "      <td>64.18</td>\n",
              "      <td>372</td>\n",
              "      <td>5.50</td>\n",
              "      <td>4.88</td>\n",
              "      <td>Pacientes tratados mediante anillos</td>\n",
              "      <td>3124</td>\n",
              "    </tr>\n",
              "    <tr>\n",
              "      <th>4</th>\n",
              "      <td>5.25</td>\n",
              "      <td>3.44</td>\n",
              "      <td>4.61</td>\n",
              "      <td>5.25</td>\n",
              "      <td>7.20</td>\n",
              "      <td>5.85</td>\n",
              "      <td>35</td>\n",
              "      <td>64.33</td>\n",
              "      <td>466</td>\n",
              "      <td>0.40</td>\n",
              "      <td>1.02</td>\n",
              "      <td>Pacientes tratados mediante anillos</td>\n",
              "      <td>2692</td>\n",
              "    </tr>\n",
              "  </tbody>\n",
              "</table>\n",
              "</div>"
            ],
            "text/plain": [
              "   Max Curve Front  ...  Max Depth\n",
              "0             6.24  ...       2670\n",
              "1             6.35  ...       2449\n",
              "2             5.04  ...       2842\n",
              "3             5.26  ...       3124\n",
              "4             5.25  ...       2692\n",
              "\n",
              "[5 rows x 13 columns]"
            ]
          },
          "metadata": {
            "tags": []
          },
          "execution_count": 5
        }
      ]
    },
    {
      "cell_type": "code",
      "metadata": {
        "colab_type": "code",
        "id": "5t6Gg1Hac2em",
        "outputId": "b83476a4-9708-4bba-9c50-e3c98fc62cb9",
        "colab": {
          "base_uri": "https://localhost:8080/",
          "height": 313
        }
      },
      "source": [
        "eye_df['Max Curve'] = np.where(eye_df['Max Curve Front'] > eye_df['Max Curve Back'], eye_df['Max Curve Front'], eye_df['Max Curve Back'])\n",
        "eye_df.drop(['Max Curve Front', 'Max Curve Back'], axis = 1, inplace = True)\n",
        "eye_df.head(5)"
      ],
      "execution_count": 6,
      "outputs": [
        {
          "output_type": "execute_result",
          "data": {
            "text/html": [
              "<div>\n",
              "<style scoped>\n",
              "    .dataframe tbody tr th:only-of-type {\n",
              "        vertical-align: middle;\n",
              "    }\n",
              "\n",
              "    .dataframe tbody tr th {\n",
              "        vertical-align: top;\n",
              "    }\n",
              "\n",
              "    .dataframe thead th {\n",
              "        text-align: right;\n",
              "    }\n",
              "</style>\n",
              "<table border=\"1\" class=\"dataframe\">\n",
              "  <thead>\n",
              "    <tr style=\"text-align: right;\">\n",
              "      <th></th>\n",
              "      <th>Max Variation Curve Front</th>\n",
              "      <th>Max Variation Curve Back</th>\n",
              "      <th>Mean Curve Front</th>\n",
              "      <th>Mean Curve Back</th>\n",
              "      <th>Age</th>\n",
              "      <th>K Max</th>\n",
              "      <th>Paqui Min</th>\n",
              "      <th>Distance Between Max Curve and Min Paqui</th>\n",
              "      <th>Position of Most Curve Point Relative to Center</th>\n",
              "      <th>Treatment</th>\n",
              "      <th>Max Depth</th>\n",
              "      <th>Max Curve</th>\n",
              "    </tr>\n",
              "  </thead>\n",
              "  <tbody>\n",
              "    <tr>\n",
              "      <th>0</th>\n",
              "      <td>3.72</td>\n",
              "      <td>3.64</td>\n",
              "      <td>7.86</td>\n",
              "      <td>6.49</td>\n",
              "      <td>24</td>\n",
              "      <td>54.11</td>\n",
              "      <td>429</td>\n",
              "      <td>0.78</td>\n",
              "      <td>1.09</td>\n",
              "      <td>Pacientes tratados mediante anillos</td>\n",
              "      <td>2670</td>\n",
              "      <td>6.24</td>\n",
              "    </tr>\n",
              "    <tr>\n",
              "      <th>1</th>\n",
              "      <td>3.41</td>\n",
              "      <td>3.44</td>\n",
              "      <td>7.86</td>\n",
              "      <td>6.51</td>\n",
              "      <td>24</td>\n",
              "      <td>53.18</td>\n",
              "      <td>425</td>\n",
              "      <td>0.54</td>\n",
              "      <td>0.96</td>\n",
              "      <td>Pacientes tratados mediante anillos</td>\n",
              "      <td>2449</td>\n",
              "      <td>6.35</td>\n",
              "    </tr>\n",
              "    <tr>\n",
              "      <th>2</th>\n",
              "      <td>5.54</td>\n",
              "      <td>5.35</td>\n",
              "      <td>7.84</td>\n",
              "      <td>6.37</td>\n",
              "      <td>35</td>\n",
              "      <td>66.97</td>\n",
              "      <td>408</td>\n",
              "      <td>4.87</td>\n",
              "      <td>4.65</td>\n",
              "      <td>Pacientes tratados mediante anillos</td>\n",
              "      <td>2842</td>\n",
              "      <td>5.04</td>\n",
              "    </tr>\n",
              "    <tr>\n",
              "      <th>3</th>\n",
              "      <td>5.10</td>\n",
              "      <td>4.91</td>\n",
              "      <td>7.93</td>\n",
              "      <td>6.44</td>\n",
              "      <td>35</td>\n",
              "      <td>64.18</td>\n",
              "      <td>372</td>\n",
              "      <td>5.50</td>\n",
              "      <td>4.88</td>\n",
              "      <td>Pacientes tratados mediante anillos</td>\n",
              "      <td>3124</td>\n",
              "      <td>5.26</td>\n",
              "    </tr>\n",
              "    <tr>\n",
              "      <th>4</th>\n",
              "      <td>4.61</td>\n",
              "      <td>5.25</td>\n",
              "      <td>7.20</td>\n",
              "      <td>5.85</td>\n",
              "      <td>35</td>\n",
              "      <td>64.33</td>\n",
              "      <td>466</td>\n",
              "      <td>0.40</td>\n",
              "      <td>1.02</td>\n",
              "      <td>Pacientes tratados mediante anillos</td>\n",
              "      <td>2692</td>\n",
              "      <td>5.25</td>\n",
              "    </tr>\n",
              "  </tbody>\n",
              "</table>\n",
              "</div>"
            ],
            "text/plain": [
              "   Max Variation Curve Front  Max Variation Curve Back  ...  Max Depth  Max Curve\n",
              "0                       3.72                      3.64  ...       2670       6.24\n",
              "1                       3.41                      3.44  ...       2449       6.35\n",
              "2                       5.54                      5.35  ...       2842       5.04\n",
              "3                       5.10                      4.91  ...       3124       5.26\n",
              "4                       4.61                      5.25  ...       2692       5.25\n",
              "\n",
              "[5 rows x 12 columns]"
            ]
          },
          "metadata": {
            "tags": []
          },
          "execution_count": 6
        }
      ]
    },
    {
      "cell_type": "markdown",
      "metadata": {
        "colab_type": "text",
        "id": "TlCJ0okrc2eq"
      },
      "source": [
        "Volvemos a comprobar la correlación entre las variables"
      ]
    },
    {
      "cell_type": "code",
      "metadata": {
        "colab_type": "code",
        "id": "PAjenmAHc2er",
        "outputId": "f66b1501-abdd-48cf-d80d-0c2139862d82",
        "colab": {
          "base_uri": "https://localhost:8080/",
          "height": 492
        }
      },
      "source": [
        "eye_df.corr()"
      ],
      "execution_count": 7,
      "outputs": [
        {
          "output_type": "execute_result",
          "data": {
            "text/html": [
              "<div>\n",
              "<style scoped>\n",
              "    .dataframe tbody tr th:only-of-type {\n",
              "        vertical-align: middle;\n",
              "    }\n",
              "\n",
              "    .dataframe tbody tr th {\n",
              "        vertical-align: top;\n",
              "    }\n",
              "\n",
              "    .dataframe thead th {\n",
              "        text-align: right;\n",
              "    }\n",
              "</style>\n",
              "<table border=\"1\" class=\"dataframe\">\n",
              "  <thead>\n",
              "    <tr style=\"text-align: right;\">\n",
              "      <th></th>\n",
              "      <th>Max Variation Curve Front</th>\n",
              "      <th>Max Variation Curve Back</th>\n",
              "      <th>Mean Curve Front</th>\n",
              "      <th>Mean Curve Back</th>\n",
              "      <th>Age</th>\n",
              "      <th>K Max</th>\n",
              "      <th>Paqui Min</th>\n",
              "      <th>Distance Between Max Curve and Min Paqui</th>\n",
              "      <th>Position of Most Curve Point Relative to Center</th>\n",
              "      <th>Max Depth</th>\n",
              "      <th>Max Curve</th>\n",
              "    </tr>\n",
              "  </thead>\n",
              "  <tbody>\n",
              "    <tr>\n",
              "      <th>Max Variation Curve Front</th>\n",
              "      <td>1.000000</td>\n",
              "      <td>0.438443</td>\n",
              "      <td>-0.169504</td>\n",
              "      <td>-0.189050</td>\n",
              "      <td>-0.033004</td>\n",
              "      <td>0.740876</td>\n",
              "      <td>-0.443434</td>\n",
              "      <td>0.340081</td>\n",
              "      <td>0.306191</td>\n",
              "      <td>-0.050586</td>\n",
              "      <td>-0.744736</td>\n",
              "    </tr>\n",
              "    <tr>\n",
              "      <th>Max Variation Curve Back</th>\n",
              "      <td>0.438443</td>\n",
              "      <td>1.000000</td>\n",
              "      <td>-0.148551</td>\n",
              "      <td>-0.031054</td>\n",
              "      <td>-0.015036</td>\n",
              "      <td>0.425902</td>\n",
              "      <td>-0.194438</td>\n",
              "      <td>0.131606</td>\n",
              "      <td>-0.000394</td>\n",
              "      <td>-0.129462</td>\n",
              "      <td>-0.435254</td>\n",
              "    </tr>\n",
              "    <tr>\n",
              "      <th>Mean Curve Front</th>\n",
              "      <td>-0.169504</td>\n",
              "      <td>-0.148551</td>\n",
              "      <td>1.000000</td>\n",
              "      <td>0.896174</td>\n",
              "      <td>-0.140134</td>\n",
              "      <td>-0.526604</td>\n",
              "      <td>0.360344</td>\n",
              "      <td>0.115398</td>\n",
              "      <td>0.135702</td>\n",
              "      <td>-0.030029</td>\n",
              "      <td>0.539516</td>\n",
              "    </tr>\n",
              "    <tr>\n",
              "      <th>Mean Curve Back</th>\n",
              "      <td>-0.189050</td>\n",
              "      <td>-0.031054</td>\n",
              "      <td>0.896174</td>\n",
              "      <td>1.000000</td>\n",
              "      <td>-0.023933</td>\n",
              "      <td>-0.505723</td>\n",
              "      <td>0.309405</td>\n",
              "      <td>0.108834</td>\n",
              "      <td>0.163733</td>\n",
              "      <td>-0.049156</td>\n",
              "      <td>0.518290</td>\n",
              "    </tr>\n",
              "    <tr>\n",
              "      <th>Age</th>\n",
              "      <td>-0.033004</td>\n",
              "      <td>-0.015036</td>\n",
              "      <td>-0.140134</td>\n",
              "      <td>-0.023933</td>\n",
              "      <td>1.000000</td>\n",
              "      <td>-0.168898</td>\n",
              "      <td>0.070463</td>\n",
              "      <td>0.089815</td>\n",
              "      <td>0.101973</td>\n",
              "      <td>0.047569</td>\n",
              "      <td>0.160518</td>\n",
              "    </tr>\n",
              "    <tr>\n",
              "      <th>K Max</th>\n",
              "      <td>0.740876</td>\n",
              "      <td>0.425902</td>\n",
              "      <td>-0.526604</td>\n",
              "      <td>-0.505723</td>\n",
              "      <td>-0.168898</td>\n",
              "      <td>1.000000</td>\n",
              "      <td>-0.545111</td>\n",
              "      <td>-0.001841</td>\n",
              "      <td>-0.032807</td>\n",
              "      <td>-0.130900</td>\n",
              "      <td>-0.983708</td>\n",
              "    </tr>\n",
              "    <tr>\n",
              "      <th>Paqui Min</th>\n",
              "      <td>-0.443434</td>\n",
              "      <td>-0.194438</td>\n",
              "      <td>0.360344</td>\n",
              "      <td>0.309405</td>\n",
              "      <td>0.070463</td>\n",
              "      <td>-0.545111</td>\n",
              "      <td>1.000000</td>\n",
              "      <td>-0.013823</td>\n",
              "      <td>0.009084</td>\n",
              "      <td>-0.008025</td>\n",
              "      <td>0.556916</td>\n",
              "    </tr>\n",
              "    <tr>\n",
              "      <th>Distance Between Max Curve and Min Paqui</th>\n",
              "      <td>0.340081</td>\n",
              "      <td>0.131606</td>\n",
              "      <td>0.115398</td>\n",
              "      <td>0.108834</td>\n",
              "      <td>0.089815</td>\n",
              "      <td>-0.001841</td>\n",
              "      <td>-0.013823</td>\n",
              "      <td>1.000000</td>\n",
              "      <td>0.886387</td>\n",
              "      <td>0.158610</td>\n",
              "      <td>0.020488</td>\n",
              "    </tr>\n",
              "    <tr>\n",
              "      <th>Position of Most Curve Point Relative to Center</th>\n",
              "      <td>0.306191</td>\n",
              "      <td>-0.000394</td>\n",
              "      <td>0.135702</td>\n",
              "      <td>0.163733</td>\n",
              "      <td>0.101973</td>\n",
              "      <td>-0.032807</td>\n",
              "      <td>0.009084</td>\n",
              "      <td>0.886387</td>\n",
              "      <td>1.000000</td>\n",
              "      <td>0.162860</td>\n",
              "      <td>0.055171</td>\n",
              "    </tr>\n",
              "    <tr>\n",
              "      <th>Max Depth</th>\n",
              "      <td>-0.050586</td>\n",
              "      <td>-0.129462</td>\n",
              "      <td>-0.030029</td>\n",
              "      <td>-0.049156</td>\n",
              "      <td>0.047569</td>\n",
              "      <td>-0.130900</td>\n",
              "      <td>-0.008025</td>\n",
              "      <td>0.158610</td>\n",
              "      <td>0.162860</td>\n",
              "      <td>1.000000</td>\n",
              "      <td>0.123125</td>\n",
              "    </tr>\n",
              "    <tr>\n",
              "      <th>Max Curve</th>\n",
              "      <td>-0.744736</td>\n",
              "      <td>-0.435254</td>\n",
              "      <td>0.539516</td>\n",
              "      <td>0.518290</td>\n",
              "      <td>0.160518</td>\n",
              "      <td>-0.983708</td>\n",
              "      <td>0.556916</td>\n",
              "      <td>0.020488</td>\n",
              "      <td>0.055171</td>\n",
              "      <td>0.123125</td>\n",
              "      <td>1.000000</td>\n",
              "    </tr>\n",
              "  </tbody>\n",
              "</table>\n",
              "</div>"
            ],
            "text/plain": [
              "                                                 Max Variation Curve Front  ...  Max Curve\n",
              "Max Variation Curve Front                                         1.000000  ...  -0.744736\n",
              "Max Variation Curve Back                                          0.438443  ...  -0.435254\n",
              "Mean Curve Front                                                 -0.169504  ...   0.539516\n",
              "Mean Curve Back                                                  -0.189050  ...   0.518290\n",
              "Age                                                              -0.033004  ...   0.160518\n",
              "K Max                                                             0.740876  ...  -0.983708\n",
              "Paqui Min                                                        -0.443434  ...   0.556916\n",
              "Distance Between Max Curve and Min Paqui                          0.340081  ...   0.020488\n",
              "Position of Most Curve Point Relative to Center                   0.306191  ...   0.055171\n",
              "Max Depth                                                        -0.050586  ...   0.123125\n",
              "Max Curve                                                        -0.744736  ...   1.000000\n",
              "\n",
              "[11 rows x 11 columns]"
            ]
          },
          "metadata": {
            "tags": []
          },
          "execution_count": 7
        }
      ]
    },
    {
      "cell_type": "markdown",
      "metadata": {
        "colab_type": "text",
        "id": "0ZG1ZsS8c2ew"
      },
      "source": [
        "Podemos ver que hay una gran correlación entre las curvaturas y la k max\n",
        "\n",
        "Vamos a sacar la máxima variación total de curvatura igual que en los procedimientos anteriores, para reducir el número de parámetros"
      ]
    },
    {
      "cell_type": "code",
      "metadata": {
        "colab_type": "code",
        "id": "SiYCjmmfc2ex",
        "outputId": "5b508628-1572-47ae-ac08-9ee9efd0c4ae",
        "colab": {
          "base_uri": "https://localhost:8080/",
          "height": 313
        }
      },
      "source": [
        "eye_df['Max Variation Curve'] = np.where(eye_df['Max Variation Curve Front'] > eye_df['Max Variation Curve Back'], eye_df['Max Variation Curve Front'], eye_df['Max Variation Curve Back'])\n",
        "eye_df.drop(['Max Variation Curve Front', 'Max Variation Curve Back'], axis = 1, inplace = True)\n",
        "eye_df.head(5)"
      ],
      "execution_count": 8,
      "outputs": [
        {
          "output_type": "execute_result",
          "data": {
            "text/html": [
              "<div>\n",
              "<style scoped>\n",
              "    .dataframe tbody tr th:only-of-type {\n",
              "        vertical-align: middle;\n",
              "    }\n",
              "\n",
              "    .dataframe tbody tr th {\n",
              "        vertical-align: top;\n",
              "    }\n",
              "\n",
              "    .dataframe thead th {\n",
              "        text-align: right;\n",
              "    }\n",
              "</style>\n",
              "<table border=\"1\" class=\"dataframe\">\n",
              "  <thead>\n",
              "    <tr style=\"text-align: right;\">\n",
              "      <th></th>\n",
              "      <th>Mean Curve Front</th>\n",
              "      <th>Mean Curve Back</th>\n",
              "      <th>Age</th>\n",
              "      <th>K Max</th>\n",
              "      <th>Paqui Min</th>\n",
              "      <th>Distance Between Max Curve and Min Paqui</th>\n",
              "      <th>Position of Most Curve Point Relative to Center</th>\n",
              "      <th>Treatment</th>\n",
              "      <th>Max Depth</th>\n",
              "      <th>Max Curve</th>\n",
              "      <th>Max Variation Curve</th>\n",
              "    </tr>\n",
              "  </thead>\n",
              "  <tbody>\n",
              "    <tr>\n",
              "      <th>0</th>\n",
              "      <td>7.86</td>\n",
              "      <td>6.49</td>\n",
              "      <td>24</td>\n",
              "      <td>54.11</td>\n",
              "      <td>429</td>\n",
              "      <td>0.78</td>\n",
              "      <td>1.09</td>\n",
              "      <td>Pacientes tratados mediante anillos</td>\n",
              "      <td>2670</td>\n",
              "      <td>6.24</td>\n",
              "      <td>3.72</td>\n",
              "    </tr>\n",
              "    <tr>\n",
              "      <th>1</th>\n",
              "      <td>7.86</td>\n",
              "      <td>6.51</td>\n",
              "      <td>24</td>\n",
              "      <td>53.18</td>\n",
              "      <td>425</td>\n",
              "      <td>0.54</td>\n",
              "      <td>0.96</td>\n",
              "      <td>Pacientes tratados mediante anillos</td>\n",
              "      <td>2449</td>\n",
              "      <td>6.35</td>\n",
              "      <td>3.44</td>\n",
              "    </tr>\n",
              "    <tr>\n",
              "      <th>2</th>\n",
              "      <td>7.84</td>\n",
              "      <td>6.37</td>\n",
              "      <td>35</td>\n",
              "      <td>66.97</td>\n",
              "      <td>408</td>\n",
              "      <td>4.87</td>\n",
              "      <td>4.65</td>\n",
              "      <td>Pacientes tratados mediante anillos</td>\n",
              "      <td>2842</td>\n",
              "      <td>5.04</td>\n",
              "      <td>5.54</td>\n",
              "    </tr>\n",
              "    <tr>\n",
              "      <th>3</th>\n",
              "      <td>7.93</td>\n",
              "      <td>6.44</td>\n",
              "      <td>35</td>\n",
              "      <td>64.18</td>\n",
              "      <td>372</td>\n",
              "      <td>5.50</td>\n",
              "      <td>4.88</td>\n",
              "      <td>Pacientes tratados mediante anillos</td>\n",
              "      <td>3124</td>\n",
              "      <td>5.26</td>\n",
              "      <td>5.10</td>\n",
              "    </tr>\n",
              "    <tr>\n",
              "      <th>4</th>\n",
              "      <td>7.20</td>\n",
              "      <td>5.85</td>\n",
              "      <td>35</td>\n",
              "      <td>64.33</td>\n",
              "      <td>466</td>\n",
              "      <td>0.40</td>\n",
              "      <td>1.02</td>\n",
              "      <td>Pacientes tratados mediante anillos</td>\n",
              "      <td>2692</td>\n",
              "      <td>5.25</td>\n",
              "      <td>5.25</td>\n",
              "    </tr>\n",
              "  </tbody>\n",
              "</table>\n",
              "</div>"
            ],
            "text/plain": [
              "   Mean Curve Front  Mean Curve Back  ...  Max Curve  Max Variation Curve\n",
              "0              7.86             6.49  ...       6.24                 3.72\n",
              "1              7.86             6.51  ...       6.35                 3.44\n",
              "2              7.84             6.37  ...       5.04                 5.54\n",
              "3              7.93             6.44  ...       5.26                 5.10\n",
              "4              7.20             5.85  ...       5.25                 5.25\n",
              "\n",
              "[5 rows x 11 columns]"
            ]
          },
          "metadata": {
            "tags": []
          },
          "execution_count": 8
        }
      ]
    },
    {
      "cell_type": "code",
      "metadata": {
        "colab_type": "code",
        "id": "-dZEatPbc2e2",
        "outputId": "c493cdab-7c6a-413c-aa76-4d2f6ef27029",
        "colab": {
          "base_uri": "https://localhost:8080/",
          "height": 412
        }
      },
      "source": [
        "eye_df.corr()"
      ],
      "execution_count": 9,
      "outputs": [
        {
          "output_type": "execute_result",
          "data": {
            "text/html": [
              "<div>\n",
              "<style scoped>\n",
              "    .dataframe tbody tr th:only-of-type {\n",
              "        vertical-align: middle;\n",
              "    }\n",
              "\n",
              "    .dataframe tbody tr th {\n",
              "        vertical-align: top;\n",
              "    }\n",
              "\n",
              "    .dataframe thead th {\n",
              "        text-align: right;\n",
              "    }\n",
              "</style>\n",
              "<table border=\"1\" class=\"dataframe\">\n",
              "  <thead>\n",
              "    <tr style=\"text-align: right;\">\n",
              "      <th></th>\n",
              "      <th>Mean Curve Front</th>\n",
              "      <th>Mean Curve Back</th>\n",
              "      <th>Age</th>\n",
              "      <th>K Max</th>\n",
              "      <th>Paqui Min</th>\n",
              "      <th>Distance Between Max Curve and Min Paqui</th>\n",
              "      <th>Position of Most Curve Point Relative to Center</th>\n",
              "      <th>Max Depth</th>\n",
              "      <th>Max Curve</th>\n",
              "      <th>Max Variation Curve</th>\n",
              "    </tr>\n",
              "  </thead>\n",
              "  <tbody>\n",
              "    <tr>\n",
              "      <th>Mean Curve Front</th>\n",
              "      <td>1.000000</td>\n",
              "      <td>0.896174</td>\n",
              "      <td>-0.140134</td>\n",
              "      <td>-0.526604</td>\n",
              "      <td>0.360344</td>\n",
              "      <td>0.115398</td>\n",
              "      <td>0.135702</td>\n",
              "      <td>-0.030029</td>\n",
              "      <td>0.539516</td>\n",
              "      <td>-0.160306</td>\n",
              "    </tr>\n",
              "    <tr>\n",
              "      <th>Mean Curve Back</th>\n",
              "      <td>0.896174</td>\n",
              "      <td>1.000000</td>\n",
              "      <td>-0.023933</td>\n",
              "      <td>-0.505723</td>\n",
              "      <td>0.309405</td>\n",
              "      <td>0.108834</td>\n",
              "      <td>0.163733</td>\n",
              "      <td>-0.049156</td>\n",
              "      <td>0.518290</td>\n",
              "      <td>-0.057291</td>\n",
              "    </tr>\n",
              "    <tr>\n",
              "      <th>Age</th>\n",
              "      <td>-0.140134</td>\n",
              "      <td>-0.023933</td>\n",
              "      <td>1.000000</td>\n",
              "      <td>-0.168898</td>\n",
              "      <td>0.070463</td>\n",
              "      <td>0.089815</td>\n",
              "      <td>0.101973</td>\n",
              "      <td>0.047569</td>\n",
              "      <td>0.160518</td>\n",
              "      <td>0.011298</td>\n",
              "    </tr>\n",
              "    <tr>\n",
              "      <th>K Max</th>\n",
              "      <td>-0.526604</td>\n",
              "      <td>-0.505723</td>\n",
              "      <td>-0.168898</td>\n",
              "      <td>1.000000</td>\n",
              "      <td>-0.545111</td>\n",
              "      <td>-0.001841</td>\n",
              "      <td>-0.032807</td>\n",
              "      <td>-0.130900</td>\n",
              "      <td>-0.983708</td>\n",
              "      <td>0.435817</td>\n",
              "    </tr>\n",
              "    <tr>\n",
              "      <th>Paqui Min</th>\n",
              "      <td>0.360344</td>\n",
              "      <td>0.309405</td>\n",
              "      <td>0.070463</td>\n",
              "      <td>-0.545111</td>\n",
              "      <td>1.000000</td>\n",
              "      <td>-0.013823</td>\n",
              "      <td>0.009084</td>\n",
              "      <td>-0.008025</td>\n",
              "      <td>0.556916</td>\n",
              "      <td>-0.211920</td>\n",
              "    </tr>\n",
              "    <tr>\n",
              "      <th>Distance Between Max Curve and Min Paqui</th>\n",
              "      <td>0.115398</td>\n",
              "      <td>0.108834</td>\n",
              "      <td>0.089815</td>\n",
              "      <td>-0.001841</td>\n",
              "      <td>-0.013823</td>\n",
              "      <td>1.000000</td>\n",
              "      <td>0.886387</td>\n",
              "      <td>0.158610</td>\n",
              "      <td>0.020488</td>\n",
              "      <td>0.234977</td>\n",
              "    </tr>\n",
              "    <tr>\n",
              "      <th>Position of Most Curve Point Relative to Center</th>\n",
              "      <td>0.135702</td>\n",
              "      <td>0.163733</td>\n",
              "      <td>0.101973</td>\n",
              "      <td>-0.032807</td>\n",
              "      <td>0.009084</td>\n",
              "      <td>0.886387</td>\n",
              "      <td>1.000000</td>\n",
              "      <td>0.162860</td>\n",
              "      <td>0.055171</td>\n",
              "      <td>0.103506</td>\n",
              "    </tr>\n",
              "    <tr>\n",
              "      <th>Max Depth</th>\n",
              "      <td>-0.030029</td>\n",
              "      <td>-0.049156</td>\n",
              "      <td>0.047569</td>\n",
              "      <td>-0.130900</td>\n",
              "      <td>-0.008025</td>\n",
              "      <td>0.158610</td>\n",
              "      <td>0.162860</td>\n",
              "      <td>1.000000</td>\n",
              "      <td>0.123125</td>\n",
              "      <td>-0.112890</td>\n",
              "    </tr>\n",
              "    <tr>\n",
              "      <th>Max Curve</th>\n",
              "      <td>0.539516</td>\n",
              "      <td>0.518290</td>\n",
              "      <td>0.160518</td>\n",
              "      <td>-0.983708</td>\n",
              "      <td>0.556916</td>\n",
              "      <td>0.020488</td>\n",
              "      <td>0.055171</td>\n",
              "      <td>0.123125</td>\n",
              "      <td>1.000000</td>\n",
              "      <td>-0.442067</td>\n",
              "    </tr>\n",
              "    <tr>\n",
              "      <th>Max Variation Curve</th>\n",
              "      <td>-0.160306</td>\n",
              "      <td>-0.057291</td>\n",
              "      <td>0.011298</td>\n",
              "      <td>0.435817</td>\n",
              "      <td>-0.211920</td>\n",
              "      <td>0.234977</td>\n",
              "      <td>0.103506</td>\n",
              "      <td>-0.112890</td>\n",
              "      <td>-0.442067</td>\n",
              "      <td>1.000000</td>\n",
              "    </tr>\n",
              "  </tbody>\n",
              "</table>\n",
              "</div>"
            ],
            "text/plain": [
              "                                                 Mean Curve Front  ...  Max Variation Curve\n",
              "Mean Curve Front                                         1.000000  ...            -0.160306\n",
              "Mean Curve Back                                          0.896174  ...            -0.057291\n",
              "Age                                                     -0.140134  ...             0.011298\n",
              "K Max                                                   -0.526604  ...             0.435817\n",
              "Paqui Min                                                0.360344  ...            -0.211920\n",
              "Distance Between Max Curve and Min Paqui                 0.115398  ...             0.234977\n",
              "Position of Most Curve Point Relative to Center          0.135702  ...             0.103506\n",
              "Max Depth                                               -0.030029  ...            -0.112890\n",
              "Max Curve                                                0.539516  ...            -0.442067\n",
              "Max Variation Curve                                     -0.160306  ...             1.000000\n",
              "\n",
              "[10 rows x 10 columns]"
            ]
          },
          "metadata": {
            "tags": []
          },
          "execution_count": 9
        }
      ]
    },
    {
      "cell_type": "markdown",
      "metadata": {
        "colab_type": "text",
        "id": "pMLgVD49c2e5"
      },
      "source": [
        "Vemos que obtenemos una gran correlación entre las medias de las curvaturas, por lo que tambien vamos a unificar las medias de las curvaturas"
      ]
    },
    {
      "cell_type": "code",
      "metadata": {
        "colab_type": "code",
        "id": "4JuPWFEzc2e6",
        "outputId": "2adf7350-e76f-43e3-ce1f-5e0e88df778b",
        "colab": {
          "base_uri": "https://localhost:8080/",
          "height": 297
        }
      },
      "source": [
        "eye_df['Mean Curve'] = np.where(eye_df['Mean Curve Front'] > eye_df['Mean Curve Back'], eye_df['Mean Curve Front'], eye_df['Mean Curve Back'])\n",
        "eye_df.drop(['Mean Curve Front', 'Mean Curve Back'], axis = 1, inplace = True)\n",
        "eye_df.head(5)"
      ],
      "execution_count": 10,
      "outputs": [
        {
          "output_type": "execute_result",
          "data": {
            "text/html": [
              "<div>\n",
              "<style scoped>\n",
              "    .dataframe tbody tr th:only-of-type {\n",
              "        vertical-align: middle;\n",
              "    }\n",
              "\n",
              "    .dataframe tbody tr th {\n",
              "        vertical-align: top;\n",
              "    }\n",
              "\n",
              "    .dataframe thead th {\n",
              "        text-align: right;\n",
              "    }\n",
              "</style>\n",
              "<table border=\"1\" class=\"dataframe\">\n",
              "  <thead>\n",
              "    <tr style=\"text-align: right;\">\n",
              "      <th></th>\n",
              "      <th>Age</th>\n",
              "      <th>K Max</th>\n",
              "      <th>Paqui Min</th>\n",
              "      <th>Distance Between Max Curve and Min Paqui</th>\n",
              "      <th>Position of Most Curve Point Relative to Center</th>\n",
              "      <th>Treatment</th>\n",
              "      <th>Max Depth</th>\n",
              "      <th>Max Curve</th>\n",
              "      <th>Max Variation Curve</th>\n",
              "      <th>Mean Curve</th>\n",
              "    </tr>\n",
              "  </thead>\n",
              "  <tbody>\n",
              "    <tr>\n",
              "      <th>0</th>\n",
              "      <td>24</td>\n",
              "      <td>54.11</td>\n",
              "      <td>429</td>\n",
              "      <td>0.78</td>\n",
              "      <td>1.09</td>\n",
              "      <td>Pacientes tratados mediante anillos</td>\n",
              "      <td>2670</td>\n",
              "      <td>6.24</td>\n",
              "      <td>3.72</td>\n",
              "      <td>7.86</td>\n",
              "    </tr>\n",
              "    <tr>\n",
              "      <th>1</th>\n",
              "      <td>24</td>\n",
              "      <td>53.18</td>\n",
              "      <td>425</td>\n",
              "      <td>0.54</td>\n",
              "      <td>0.96</td>\n",
              "      <td>Pacientes tratados mediante anillos</td>\n",
              "      <td>2449</td>\n",
              "      <td>6.35</td>\n",
              "      <td>3.44</td>\n",
              "      <td>7.86</td>\n",
              "    </tr>\n",
              "    <tr>\n",
              "      <th>2</th>\n",
              "      <td>35</td>\n",
              "      <td>66.97</td>\n",
              "      <td>408</td>\n",
              "      <td>4.87</td>\n",
              "      <td>4.65</td>\n",
              "      <td>Pacientes tratados mediante anillos</td>\n",
              "      <td>2842</td>\n",
              "      <td>5.04</td>\n",
              "      <td>5.54</td>\n",
              "      <td>7.84</td>\n",
              "    </tr>\n",
              "    <tr>\n",
              "      <th>3</th>\n",
              "      <td>35</td>\n",
              "      <td>64.18</td>\n",
              "      <td>372</td>\n",
              "      <td>5.50</td>\n",
              "      <td>4.88</td>\n",
              "      <td>Pacientes tratados mediante anillos</td>\n",
              "      <td>3124</td>\n",
              "      <td>5.26</td>\n",
              "      <td>5.10</td>\n",
              "      <td>7.93</td>\n",
              "    </tr>\n",
              "    <tr>\n",
              "      <th>4</th>\n",
              "      <td>35</td>\n",
              "      <td>64.33</td>\n",
              "      <td>466</td>\n",
              "      <td>0.40</td>\n",
              "      <td>1.02</td>\n",
              "      <td>Pacientes tratados mediante anillos</td>\n",
              "      <td>2692</td>\n",
              "      <td>5.25</td>\n",
              "      <td>5.25</td>\n",
              "      <td>7.20</td>\n",
              "    </tr>\n",
              "  </tbody>\n",
              "</table>\n",
              "</div>"
            ],
            "text/plain": [
              "   Age  K Max  Paqui Min  ...  Max Curve  Max Variation Curve Mean Curve\n",
              "0   24  54.11        429  ...       6.24                 3.72       7.86\n",
              "1   24  53.18        425  ...       6.35                 3.44       7.86\n",
              "2   35  66.97        408  ...       5.04                 5.54       7.84\n",
              "3   35  64.18        372  ...       5.26                 5.10       7.93\n",
              "4   35  64.33        466  ...       5.25                 5.25       7.20\n",
              "\n",
              "[5 rows x 10 columns]"
            ]
          },
          "metadata": {
            "tags": []
          },
          "execution_count": 10
        }
      ]
    },
    {
      "cell_type": "code",
      "metadata": {
        "colab_type": "code",
        "id": "vreFskVxc2e9",
        "outputId": "40b7e7b8-f135-4107-f63d-1f9842a9ac84",
        "colab": {
          "base_uri": "https://localhost:8080/",
          "height": 382
        }
      },
      "source": [
        "eye_df.corr()"
      ],
      "execution_count": 12,
      "outputs": [
        {
          "output_type": "execute_result",
          "data": {
            "text/html": [
              "<div>\n",
              "<style scoped>\n",
              "    .dataframe tbody tr th:only-of-type {\n",
              "        vertical-align: middle;\n",
              "    }\n",
              "\n",
              "    .dataframe tbody tr th {\n",
              "        vertical-align: top;\n",
              "    }\n",
              "\n",
              "    .dataframe thead th {\n",
              "        text-align: right;\n",
              "    }\n",
              "</style>\n",
              "<table border=\"1\" class=\"dataframe\">\n",
              "  <thead>\n",
              "    <tr style=\"text-align: right;\">\n",
              "      <th></th>\n",
              "      <th>Age</th>\n",
              "      <th>K Max</th>\n",
              "      <th>Paqui Min</th>\n",
              "      <th>Distance Between Max Curve and Min Paqui</th>\n",
              "      <th>Position of Most Curve Point Relative to Center</th>\n",
              "      <th>Max Depth</th>\n",
              "      <th>Max Curve</th>\n",
              "      <th>Max Variation Curve</th>\n",
              "      <th>Mean Curve</th>\n",
              "    </tr>\n",
              "  </thead>\n",
              "  <tbody>\n",
              "    <tr>\n",
              "      <th>Age</th>\n",
              "      <td>1.000000</td>\n",
              "      <td>-0.168898</td>\n",
              "      <td>0.070463</td>\n",
              "      <td>0.089815</td>\n",
              "      <td>0.101973</td>\n",
              "      <td>0.047569</td>\n",
              "      <td>0.160518</td>\n",
              "      <td>0.011298</td>\n",
              "      <td>-0.140134</td>\n",
              "    </tr>\n",
              "    <tr>\n",
              "      <th>K Max</th>\n",
              "      <td>-0.168898</td>\n",
              "      <td>1.000000</td>\n",
              "      <td>-0.545111</td>\n",
              "      <td>-0.001841</td>\n",
              "      <td>-0.032807</td>\n",
              "      <td>-0.130900</td>\n",
              "      <td>-0.983708</td>\n",
              "      <td>0.435817</td>\n",
              "      <td>-0.526604</td>\n",
              "    </tr>\n",
              "    <tr>\n",
              "      <th>Paqui Min</th>\n",
              "      <td>0.070463</td>\n",
              "      <td>-0.545111</td>\n",
              "      <td>1.000000</td>\n",
              "      <td>-0.013823</td>\n",
              "      <td>0.009084</td>\n",
              "      <td>-0.008025</td>\n",
              "      <td>0.556916</td>\n",
              "      <td>-0.211920</td>\n",
              "      <td>0.360344</td>\n",
              "    </tr>\n",
              "    <tr>\n",
              "      <th>Distance Between Max Curve and Min Paqui</th>\n",
              "      <td>0.089815</td>\n",
              "      <td>-0.001841</td>\n",
              "      <td>-0.013823</td>\n",
              "      <td>1.000000</td>\n",
              "      <td>0.886387</td>\n",
              "      <td>0.158610</td>\n",
              "      <td>0.020488</td>\n",
              "      <td>0.234977</td>\n",
              "      <td>0.115398</td>\n",
              "    </tr>\n",
              "    <tr>\n",
              "      <th>Position of Most Curve Point Relative to Center</th>\n",
              "      <td>0.101973</td>\n",
              "      <td>-0.032807</td>\n",
              "      <td>0.009084</td>\n",
              "      <td>0.886387</td>\n",
              "      <td>1.000000</td>\n",
              "      <td>0.162860</td>\n",
              "      <td>0.055171</td>\n",
              "      <td>0.103506</td>\n",
              "      <td>0.135702</td>\n",
              "    </tr>\n",
              "    <tr>\n",
              "      <th>Max Depth</th>\n",
              "      <td>0.047569</td>\n",
              "      <td>-0.130900</td>\n",
              "      <td>-0.008025</td>\n",
              "      <td>0.158610</td>\n",
              "      <td>0.162860</td>\n",
              "      <td>1.000000</td>\n",
              "      <td>0.123125</td>\n",
              "      <td>-0.112890</td>\n",
              "      <td>-0.030029</td>\n",
              "    </tr>\n",
              "    <tr>\n",
              "      <th>Max Curve</th>\n",
              "      <td>0.160518</td>\n",
              "      <td>-0.983708</td>\n",
              "      <td>0.556916</td>\n",
              "      <td>0.020488</td>\n",
              "      <td>0.055171</td>\n",
              "      <td>0.123125</td>\n",
              "      <td>1.000000</td>\n",
              "      <td>-0.442067</td>\n",
              "      <td>0.539516</td>\n",
              "    </tr>\n",
              "    <tr>\n",
              "      <th>Max Variation Curve</th>\n",
              "      <td>0.011298</td>\n",
              "      <td>0.435817</td>\n",
              "      <td>-0.211920</td>\n",
              "      <td>0.234977</td>\n",
              "      <td>0.103506</td>\n",
              "      <td>-0.112890</td>\n",
              "      <td>-0.442067</td>\n",
              "      <td>1.000000</td>\n",
              "      <td>-0.160306</td>\n",
              "    </tr>\n",
              "    <tr>\n",
              "      <th>Mean Curve</th>\n",
              "      <td>-0.140134</td>\n",
              "      <td>-0.526604</td>\n",
              "      <td>0.360344</td>\n",
              "      <td>0.115398</td>\n",
              "      <td>0.135702</td>\n",
              "      <td>-0.030029</td>\n",
              "      <td>0.539516</td>\n",
              "      <td>-0.160306</td>\n",
              "      <td>1.000000</td>\n",
              "    </tr>\n",
              "  </tbody>\n",
              "</table>\n",
              "</div>"
            ],
            "text/plain": [
              "                                                      Age  ...  Mean Curve\n",
              "Age                                              1.000000  ...   -0.140134\n",
              "K Max                                           -0.168898  ...   -0.526604\n",
              "Paqui Min                                        0.070463  ...    0.360344\n",
              "Distance Between Max Curve and Min Paqui         0.089815  ...    0.115398\n",
              "Position of Most Curve Point Relative to Center  0.101973  ...    0.135702\n",
              "Max Depth                                        0.047569  ...   -0.030029\n",
              "Max Curve                                        0.160518  ...    0.539516\n",
              "Max Variation Curve                              0.011298  ...   -0.160306\n",
              "Mean Curve                                      -0.140134  ...    1.000000\n",
              "\n",
              "[9 rows x 9 columns]"
            ]
          },
          "metadata": {
            "tags": []
          },
          "execution_count": 12
        }
      ]
    },
    {
      "cell_type": "markdown",
      "metadata": {
        "colab_type": "text",
        "id": "Ql5dV-brc2fA"
      },
      "source": [
        "Como estos valores están sacados del Pentacam, la máquina que nos permite obtener los mapas paquimétricos, de elevación y de curvatura , empleando un describe podemos ver si tenemos algún dato máximo o mínimo que no se ajusten a un ojo real. En este caso, con ayuda de un especialista en óptica, podemos ver que no tenemos ningún dato fuera de la normalidad."
      ]
    },
    {
      "cell_type": "code",
      "metadata": {
        "colab_type": "code",
        "id": "tbUv8QvNc2fB",
        "outputId": "0f861865-3b40-44fc-e3b6-78bc325d5ba4",
        "colab": {
          "base_uri": "https://localhost:8080/",
          "height": 319
        }
      },
      "source": [
        "eye_df.describe()"
      ],
      "execution_count": 13,
      "outputs": [
        {
          "output_type": "execute_result",
          "data": {
            "text/html": [
              "<div>\n",
              "<style scoped>\n",
              "    .dataframe tbody tr th:only-of-type {\n",
              "        vertical-align: middle;\n",
              "    }\n",
              "\n",
              "    .dataframe tbody tr th {\n",
              "        vertical-align: top;\n",
              "    }\n",
              "\n",
              "    .dataframe thead th {\n",
              "        text-align: right;\n",
              "    }\n",
              "</style>\n",
              "<table border=\"1\" class=\"dataframe\">\n",
              "  <thead>\n",
              "    <tr style=\"text-align: right;\">\n",
              "      <th></th>\n",
              "      <th>Age</th>\n",
              "      <th>K Max</th>\n",
              "      <th>Paqui Min</th>\n",
              "      <th>Distance Between Max Curve and Min Paqui</th>\n",
              "      <th>Position of Most Curve Point Relative to Center</th>\n",
              "      <th>Max Depth</th>\n",
              "      <th>Max Curve</th>\n",
              "      <th>Max Variation Curve</th>\n",
              "      <th>Mean Curve</th>\n",
              "    </tr>\n",
              "  </thead>\n",
              "  <tbody>\n",
              "    <tr>\n",
              "      <th>count</th>\n",
              "      <td>461.000000</td>\n",
              "      <td>461.000000</td>\n",
              "      <td>461.000000</td>\n",
              "      <td>461.000000</td>\n",
              "      <td>461.000000</td>\n",
              "      <td>461.000000</td>\n",
              "      <td>461.000000</td>\n",
              "      <td>461.000000</td>\n",
              "      <td>461.000000</td>\n",
              "    </tr>\n",
              "    <tr>\n",
              "      <th>mean</th>\n",
              "      <td>42.121475</td>\n",
              "      <td>53.808872</td>\n",
              "      <td>468.449024</td>\n",
              "      <td>1.503449</td>\n",
              "      <td>1.687657</td>\n",
              "      <td>2851.835141</td>\n",
              "      <td>6.352169</td>\n",
              "      <td>3.552560</td>\n",
              "      <td>7.821931</td>\n",
              "    </tr>\n",
              "    <tr>\n",
              "      <th>std</th>\n",
              "      <td>13.967758</td>\n",
              "      <td>6.350378</td>\n",
              "      <td>46.357544</td>\n",
              "      <td>1.362391</td>\n",
              "      <td>1.396684</td>\n",
              "      <td>381.546964</td>\n",
              "      <td>0.670969</td>\n",
              "      <td>1.963347</td>\n",
              "      <td>0.304846</td>\n",
              "    </tr>\n",
              "    <tr>\n",
              "      <th>min</th>\n",
              "      <td>15.000000</td>\n",
              "      <td>42.730000</td>\n",
              "      <td>297.000000</td>\n",
              "      <td>0.100000</td>\n",
              "      <td>0.060000</td>\n",
              "      <td>1854.000000</td>\n",
              "      <td>3.850000</td>\n",
              "      <td>1.290000</td>\n",
              "      <td>6.540000</td>\n",
              "    </tr>\n",
              "    <tr>\n",
              "      <th>25%</th>\n",
              "      <td>31.000000</td>\n",
              "      <td>49.190000</td>\n",
              "      <td>435.000000</td>\n",
              "      <td>0.760000</td>\n",
              "      <td>0.780000</td>\n",
              "      <td>2622.000000</td>\n",
              "      <td>5.930000</td>\n",
              "      <td>2.710000</td>\n",
              "      <td>7.630000</td>\n",
              "    </tr>\n",
              "    <tr>\n",
              "      <th>50%</th>\n",
              "      <td>42.000000</td>\n",
              "      <td>52.490000</td>\n",
              "      <td>472.000000</td>\n",
              "      <td>1.080000</td>\n",
              "      <td>1.250000</td>\n",
              "      <td>2807.000000</td>\n",
              "      <td>6.430000</td>\n",
              "      <td>3.240000</td>\n",
              "      <td>7.830000</td>\n",
              "    </tr>\n",
              "    <tr>\n",
              "      <th>75%</th>\n",
              "      <td>50.000000</td>\n",
              "      <td>56.930000</td>\n",
              "      <td>498.000000</td>\n",
              "      <td>1.490000</td>\n",
              "      <td>2.070000</td>\n",
              "      <td>3003.000000</td>\n",
              "      <td>6.860000</td>\n",
              "      <td>4.000000</td>\n",
              "      <td>8.020000</td>\n",
              "    </tr>\n",
              "    <tr>\n",
              "      <th>max</th>\n",
              "      <td>95.000000</td>\n",
              "      <td>88.100000</td>\n",
              "      <td>617.000000</td>\n",
              "      <td>6.930000</td>\n",
              "      <td>6.900000</td>\n",
              "      <td>4787.000000</td>\n",
              "      <td>7.900000</td>\n",
              "      <td>31.000000</td>\n",
              "      <td>8.680000</td>\n",
              "    </tr>\n",
              "  </tbody>\n",
              "</table>\n",
              "</div>"
            ],
            "text/plain": [
              "              Age       K Max  ...  Max Variation Curve  Mean Curve\n",
              "count  461.000000  461.000000  ...           461.000000  461.000000\n",
              "mean    42.121475   53.808872  ...             3.552560    7.821931\n",
              "std     13.967758    6.350378  ...             1.963347    0.304846\n",
              "min     15.000000   42.730000  ...             1.290000    6.540000\n",
              "25%     31.000000   49.190000  ...             2.710000    7.630000\n",
              "50%     42.000000   52.490000  ...             3.240000    7.830000\n",
              "75%     50.000000   56.930000  ...             4.000000    8.020000\n",
              "max     95.000000   88.100000  ...            31.000000    8.680000\n",
              "\n",
              "[8 rows x 9 columns]"
            ]
          },
          "metadata": {
            "tags": []
          },
          "execution_count": 13
        }
      ]
    },
    {
      "cell_type": "markdown",
      "metadata": {
        "colab_type": "text",
        "id": "aPlBvZvec2fD"
      },
      "source": [
        "Vamos a comprobar el numero de muestras que poseemos de cada una de las etiquetas"
      ]
    },
    {
      "cell_type": "code",
      "metadata": {
        "colab_type": "code",
        "id": "zMe7F4E1c2fE",
        "outputId": "6f123c10-81a3-4a66-b3b7-054a2d532f91",
        "colab": {
          "base_uri": "https://localhost:8080/",
          "height": 100
        }
      },
      "source": [
        "eye_df.groupby(['Treatment'])['Treatment'].count()"
      ],
      "execution_count": 14,
      "outputs": [
        {
          "output_type": "execute_result",
          "data": {
            "text/plain": [
              "Treatment\n",
              "Pacientes sin operar                        230\n",
              "Pacientes tratados mediante anillos         169\n",
              "Pacientes tratados mediante crosslinking     62\n",
              "Name: Treatment, dtype: int64"
            ]
          },
          "metadata": {
            "tags": []
          },
          "execution_count": 14
        }
      ]
    },
    {
      "cell_type": "markdown",
      "metadata": {
        "id": "duzdf0YW0ie9",
        "colab_type": "text"
      },
      "source": [
        "## Modelado"
      ]
    },
    {
      "cell_type": "markdown",
      "metadata": {
        "colab_type": "text",
        "id": "xDo1s8yHc2fI"
      },
      "source": [
        "Como podemos ver, tenemos el dataset bastante desbalanceado, siendo el número de pacientes sin tratar mayor que el numero de pacientes tratados mediante anillos y mediante crosslinking.\n",
        "\n",
        "Vamos a intentar, en primera instancia, crear un clasificador capaz de detectar si un paciente se le debe operar o no, por lo que debemos crear una nueva columna"
      ]
    },
    {
      "cell_type": "code",
      "metadata": {
        "colab_type": "code",
        "id": "DhYDB8pjc2fJ",
        "colab": {}
      },
      "source": [
        "eye_df_cl_1 = copy.deepcopy(eye_df)"
      ],
      "execution_count": 0,
      "outputs": []
    },
    {
      "cell_type": "code",
      "metadata": {
        "colab_type": "code",
        "id": "pRrvPRJzc2fL",
        "outputId": "185f8f05-2874-48c7-ee22-36174584bc06",
        "colab": {
          "base_uri": "https://localhost:8080/",
          "height": 297
        }
      },
      "source": [
        "eye_df_cl_1['Operated'] = np.where(eye_df_cl_1['Treatment'] == 'Pacientes sin operar', 0, 1)\n",
        "eye_df_cl_1.head(5)"
      ],
      "execution_count": 86,
      "outputs": [
        {
          "output_type": "execute_result",
          "data": {
            "text/html": [
              "<div>\n",
              "<style scoped>\n",
              "    .dataframe tbody tr th:only-of-type {\n",
              "        vertical-align: middle;\n",
              "    }\n",
              "\n",
              "    .dataframe tbody tr th {\n",
              "        vertical-align: top;\n",
              "    }\n",
              "\n",
              "    .dataframe thead th {\n",
              "        text-align: right;\n",
              "    }\n",
              "</style>\n",
              "<table border=\"1\" class=\"dataframe\">\n",
              "  <thead>\n",
              "    <tr style=\"text-align: right;\">\n",
              "      <th></th>\n",
              "      <th>Age</th>\n",
              "      <th>K Max</th>\n",
              "      <th>Paqui Min</th>\n",
              "      <th>Distance Between Max Curve and Min Paqui</th>\n",
              "      <th>Position of Most Curve Point Relative to Center</th>\n",
              "      <th>Treatment</th>\n",
              "      <th>Max Depth</th>\n",
              "      <th>Max Curve</th>\n",
              "      <th>Max Variation Curve</th>\n",
              "      <th>Mean Curve</th>\n",
              "      <th>Operated</th>\n",
              "    </tr>\n",
              "  </thead>\n",
              "  <tbody>\n",
              "    <tr>\n",
              "      <th>0</th>\n",
              "      <td>24</td>\n",
              "      <td>54.11</td>\n",
              "      <td>429</td>\n",
              "      <td>0.78</td>\n",
              "      <td>1.09</td>\n",
              "      <td>Pacientes tratados mediante anillos</td>\n",
              "      <td>2670</td>\n",
              "      <td>6.24</td>\n",
              "      <td>3.72</td>\n",
              "      <td>7.86</td>\n",
              "      <td>1</td>\n",
              "    </tr>\n",
              "    <tr>\n",
              "      <th>1</th>\n",
              "      <td>24</td>\n",
              "      <td>53.18</td>\n",
              "      <td>425</td>\n",
              "      <td>0.54</td>\n",
              "      <td>0.96</td>\n",
              "      <td>Pacientes tratados mediante anillos</td>\n",
              "      <td>2449</td>\n",
              "      <td>6.35</td>\n",
              "      <td>3.44</td>\n",
              "      <td>7.86</td>\n",
              "      <td>1</td>\n",
              "    </tr>\n",
              "    <tr>\n",
              "      <th>2</th>\n",
              "      <td>35</td>\n",
              "      <td>66.97</td>\n",
              "      <td>408</td>\n",
              "      <td>4.87</td>\n",
              "      <td>4.65</td>\n",
              "      <td>Pacientes tratados mediante anillos</td>\n",
              "      <td>2842</td>\n",
              "      <td>5.04</td>\n",
              "      <td>5.54</td>\n",
              "      <td>7.84</td>\n",
              "      <td>1</td>\n",
              "    </tr>\n",
              "    <tr>\n",
              "      <th>3</th>\n",
              "      <td>35</td>\n",
              "      <td>64.18</td>\n",
              "      <td>372</td>\n",
              "      <td>5.50</td>\n",
              "      <td>4.88</td>\n",
              "      <td>Pacientes tratados mediante anillos</td>\n",
              "      <td>3124</td>\n",
              "      <td>5.26</td>\n",
              "      <td>5.10</td>\n",
              "      <td>7.93</td>\n",
              "      <td>1</td>\n",
              "    </tr>\n",
              "    <tr>\n",
              "      <th>4</th>\n",
              "      <td>35</td>\n",
              "      <td>64.33</td>\n",
              "      <td>466</td>\n",
              "      <td>0.40</td>\n",
              "      <td>1.02</td>\n",
              "      <td>Pacientes tratados mediante anillos</td>\n",
              "      <td>2692</td>\n",
              "      <td>5.25</td>\n",
              "      <td>5.25</td>\n",
              "      <td>7.20</td>\n",
              "      <td>1</td>\n",
              "    </tr>\n",
              "  </tbody>\n",
              "</table>\n",
              "</div>"
            ],
            "text/plain": [
              "   Age  K Max  Paqui Min  ...  Max Variation Curve  Mean Curve Operated\n",
              "0   24  54.11        429  ...                 3.72        7.86        1\n",
              "1   24  53.18        425  ...                 3.44        7.86        1\n",
              "2   35  66.97        408  ...                 5.54        7.84        1\n",
              "3   35  64.18        372  ...                 5.10        7.93        1\n",
              "4   35  64.33        466  ...                 5.25        7.20        1\n",
              "\n",
              "[5 rows x 11 columns]"
            ]
          },
          "metadata": {
            "tags": []
          },
          "execution_count": 86
        }
      ]
    },
    {
      "cell_type": "markdown",
      "metadata": {
        "colab_type": "text",
        "id": "X1jVCAaEc2fO"
      },
      "source": [
        "Como podemos ver, en este caso tenemos el dataset mucho más balaceado que en el caso anterior, por lo que se convierte en un buen inicio para probar clasificadores"
      ]
    },
    {
      "cell_type": "code",
      "metadata": {
        "colab_type": "code",
        "id": "E4As0o24c2fP",
        "outputId": "8e821397-6801-47b7-83cf-10d7da231805",
        "colab": {
          "base_uri": "https://localhost:8080/",
          "height": 84
        }
      },
      "source": [
        "eye_df_cl_1.groupby(['Operated'])['Operated'].count()"
      ],
      "execution_count": 87,
      "outputs": [
        {
          "output_type": "execute_result",
          "data": {
            "text/plain": [
              "Operated\n",
              "0    230\n",
              "1    231\n",
              "Name: Operated, dtype: int64"
            ]
          },
          "metadata": {
            "tags": []
          },
          "execution_count": 87
        }
      ]
    },
    {
      "cell_type": "markdown",
      "metadata": {
        "colab_type": "text",
        "id": "DgDiVY_sc2fS"
      },
      "source": [
        "Para probar los modelos, creamos los vectores x e y que nos permitirán entrenarlos"
      ]
    },
    {
      "cell_type": "code",
      "metadata": {
        "colab_type": "code",
        "id": "RMFioTl4c2fT",
        "colab": {}
      },
      "source": [
        "x = eye_df_cl_1[['Max Depth', 'Max Curve', 'Max Variation Curve', 'Mean Curve', 'Age', 'K Max', 'Paqui Min', 'Distance Between Max Curve and Min Paqui', 'Position of Most Curve Point Relative to Center']]\n",
        "y = eye_df_cl_1['Operated']"
      ],
      "execution_count": 0,
      "outputs": []
    },
    {
      "cell_type": "markdown",
      "metadata": {
        "id": "qD5oRD7i0ifT",
        "colab_type": "text"
      },
      "source": [
        "### Regresión Logística"
      ]
    },
    {
      "cell_type": "markdown",
      "metadata": {
        "colab_type": "text",
        "id": "EYBzUNlpc2fV"
      },
      "source": [
        "Vamos a comenzar con una regresión logistica"
      ]
    },
    {
      "cell_type": "code",
      "metadata": {
        "colab_type": "code",
        "id": "fdNP5p9Qc2fW",
        "colab": {}
      },
      "source": [
        "clf = LogisticRegression()"
      ],
      "execution_count": 0,
      "outputs": []
    },
    {
      "cell_type": "code",
      "metadata": {
        "colab_type": "code",
        "id": "-pUmq7dQc2fY",
        "outputId": "7c8861a0-5240-48b1-a85b-55cb622021d9",
        "colab": {
          "base_uri": "https://localhost:8080/",
          "height": 154
        }
      },
      "source": [
        "clf.fit(x, y)"
      ],
      "execution_count": 90,
      "outputs": [
        {
          "output_type": "stream",
          "text": [
            "/usr/local/lib/python3.6/dist-packages/sklearn/linear_model/logistic.py:432: FutureWarning: Default solver will be changed to 'lbfgs' in 0.22. Specify a solver to silence this warning.\n",
            "  FutureWarning)\n"
          ],
          "name": "stderr"
        },
        {
          "output_type": "execute_result",
          "data": {
            "text/plain": [
              "LogisticRegression(C=1.0, class_weight=None, dual=False, fit_intercept=True,\n",
              "                   intercept_scaling=1, l1_ratio=None, max_iter=100,\n",
              "                   multi_class='warn', n_jobs=None, penalty='l2',\n",
              "                   random_state=None, solver='warn', tol=0.0001, verbose=0,\n",
              "                   warm_start=False)"
            ]
          },
          "metadata": {
            "tags": []
          },
          "execution_count": 90
        }
      ]
    },
    {
      "cell_type": "markdown",
      "metadata": {
        "colab_type": "text",
        "id": "mZzurNr6c2fb"
      },
      "source": [
        "Para probar los clasificadores, vamos a emplear una validación cruzada. Vamos a utilizar la siguiente función para valorar mediante la función classification_report los resultados obtenidos mediante la validación cruzada. Esta función la introduciremos dentro de un make_scorer."
      ]
    },
    {
      "cell_type": "code",
      "metadata": {
        "colab_type": "code",
        "id": "8VYk7eEec2fc",
        "colab": {}
      },
      "source": [
        "def classification_report_with_accuracy_score(y_true, y_pred):\n",
        "\n",
        "    print (classification_report(y_true, y_pred))\n",
        "    return accuracy_score(y_true, y_pred)"
      ],
      "execution_count": 0,
      "outputs": []
    },
    {
      "cell_type": "markdown",
      "metadata": {
        "colab_type": "text",
        "id": "bOY-0B6Kc2fe"
      },
      "source": [
        "Como podemos comprobar, tenemos un accuracy medio en las 10 iteraciones de un 70 %."
      ]
    },
    {
      "cell_type": "code",
      "metadata": {
        "colab_type": "code",
        "id": "1pcSLo-qc2ff",
        "outputId": "31e437e1-be4f-4012-c98f-1396d661bd00",
        "colab": {
          "base_uri": "https://localhost:8080/",
          "height": 1893
        }
      },
      "source": [
        "cross_val_score(clf, x, y, cv=10, scoring = make_scorer(classification_report_with_accuracy_score)).mean()"
      ],
      "execution_count": 92,
      "outputs": [
        {
          "output_type": "stream",
          "text": [
            "              precision    recall  f1-score   support\n",
            "\n",
            "           0       0.68      0.74      0.71        23\n",
            "           1       0.73      0.67      0.70        24\n",
            "\n",
            "    accuracy                           0.70        47\n",
            "   macro avg       0.70      0.70      0.70        47\n",
            "weighted avg       0.70      0.70      0.70        47\n",
            "\n",
            "              precision    recall  f1-score   support\n",
            "\n",
            "           0       0.75      0.65      0.70        23\n",
            "           1       0.69      0.78      0.73        23\n",
            "\n",
            "    accuracy                           0.72        46\n",
            "   macro avg       0.72      0.72      0.72        46\n",
            "weighted avg       0.72      0.72      0.72        46\n",
            "\n",
            "              precision    recall  f1-score   support\n",
            "\n",
            "           0       0.73      0.83      0.78        23\n",
            "           1       0.80      0.70      0.74        23\n",
            "\n",
            "    accuracy                           0.76        46\n",
            "   macro avg       0.77      0.76      0.76        46\n",
            "weighted avg       0.77      0.76      0.76        46\n",
            "\n",
            "              precision    recall  f1-score   support\n",
            "\n",
            "           0       0.53      0.70      0.60        23\n",
            "           1       0.56      0.39      0.46        23\n",
            "\n",
            "    accuracy                           0.54        46\n",
            "   macro avg       0.55      0.54      0.53        46\n",
            "weighted avg       0.55      0.54      0.53        46\n",
            "\n",
            "              precision    recall  f1-score   support\n",
            "\n",
            "           0       0.75      0.65      0.70        23\n",
            "           1       0.69      0.78      0.73        23\n",
            "\n",
            "    accuracy                           0.72        46\n",
            "   macro avg       0.72      0.72      0.72        46\n",
            "weighted avg       0.72      0.72      0.72        46\n",
            "\n",
            "              precision    recall  f1-score   support\n",
            "\n",
            "           0       0.73      0.83      0.78        23\n",
            "           1       0.80      0.70      0.74        23\n",
            "\n",
            "    accuracy                           0.76        46\n",
            "   macro avg       0.77      0.76      0.76        46\n",
            "weighted avg       0.77      0.76      0.76        46\n",
            "\n",
            "              precision    recall  f1-score   support\n",
            "\n",
            "           0       0.59      0.70      0.64        23\n",
            "           1       0.63      0.52      0.57        23\n",
            "\n",
            "    accuracy                           0.61        46\n",
            "   macro avg       0.61      0.61      0.61        46\n",
            "weighted avg       0.61      0.61      0.61        46\n",
            "\n",
            "              precision    recall  f1-score   support\n",
            "\n",
            "           0       0.72      0.78      0.75        23\n",
            "           1       0.76      0.70      0.73        23\n",
            "\n",
            "    accuracy                           0.74        46\n",
            "   macro avg       0.74      0.74      0.74        46\n",
            "weighted avg       0.74      0.74      0.74        46\n",
            "\n",
            "              precision    recall  f1-score   support\n",
            "\n",
            "           0       0.80      0.70      0.74        23\n",
            "           1       0.73      0.83      0.78        23\n",
            "\n",
            "    accuracy                           0.76        46\n",
            "   macro avg       0.77      0.76      0.76        46\n",
            "weighted avg       0.77      0.76      0.76        46\n",
            "\n",
            "              precision    recall  f1-score   support\n",
            "\n",
            "           0       0.76      0.83      0.79        23\n",
            "           1       0.81      0.74      0.77        23\n",
            "\n",
            "    accuracy                           0.78        46\n",
            "   macro avg       0.78      0.78      0.78        46\n",
            "weighted avg       0.78      0.78      0.78        46\n",
            "\n"
          ],
          "name": "stdout"
        },
        {
          "output_type": "stream",
          "text": [
            "/usr/local/lib/python3.6/dist-packages/sklearn/linear_model/logistic.py:432: FutureWarning: Default solver will be changed to 'lbfgs' in 0.22. Specify a solver to silence this warning.\n",
            "  FutureWarning)\n",
            "/usr/local/lib/python3.6/dist-packages/sklearn/linear_model/logistic.py:432: FutureWarning: Default solver will be changed to 'lbfgs' in 0.22. Specify a solver to silence this warning.\n",
            "  FutureWarning)\n",
            "/usr/local/lib/python3.6/dist-packages/sklearn/linear_model/logistic.py:432: FutureWarning: Default solver will be changed to 'lbfgs' in 0.22. Specify a solver to silence this warning.\n",
            "  FutureWarning)\n",
            "/usr/local/lib/python3.6/dist-packages/sklearn/linear_model/logistic.py:432: FutureWarning: Default solver will be changed to 'lbfgs' in 0.22. Specify a solver to silence this warning.\n",
            "  FutureWarning)\n",
            "/usr/local/lib/python3.6/dist-packages/sklearn/linear_model/logistic.py:432: FutureWarning: Default solver will be changed to 'lbfgs' in 0.22. Specify a solver to silence this warning.\n",
            "  FutureWarning)\n",
            "/usr/local/lib/python3.6/dist-packages/sklearn/linear_model/logistic.py:432: FutureWarning: Default solver will be changed to 'lbfgs' in 0.22. Specify a solver to silence this warning.\n",
            "  FutureWarning)\n",
            "/usr/local/lib/python3.6/dist-packages/sklearn/linear_model/logistic.py:432: FutureWarning: Default solver will be changed to 'lbfgs' in 0.22. Specify a solver to silence this warning.\n",
            "  FutureWarning)\n",
            "/usr/local/lib/python3.6/dist-packages/sklearn/linear_model/logistic.py:432: FutureWarning: Default solver will be changed to 'lbfgs' in 0.22. Specify a solver to silence this warning.\n",
            "  FutureWarning)\n",
            "/usr/local/lib/python3.6/dist-packages/sklearn/linear_model/logistic.py:432: FutureWarning: Default solver will be changed to 'lbfgs' in 0.22. Specify a solver to silence this warning.\n",
            "  FutureWarning)\n",
            "/usr/local/lib/python3.6/dist-packages/sklearn/linear_model/logistic.py:432: FutureWarning: Default solver will be changed to 'lbfgs' in 0.22. Specify a solver to silence this warning.\n",
            "  FutureWarning)\n"
          ],
          "name": "stderr"
        },
        {
          "output_type": "execute_result",
          "data": {
            "text/plain": [
              "0.7093432007400555"
            ]
          },
          "metadata": {
            "tags": []
          },
          "execution_count": 92
        }
      ]
    },
    {
      "cell_type": "markdown",
      "metadata": {
        "id": "CyfiBHBp0ifo",
        "colab_type": "text"
      },
      "source": [
        "### K Nearest Neighbors"
      ]
    },
    {
      "cell_type": "markdown",
      "metadata": {
        "colab_type": "text",
        "id": "tzuq0fzJc2fi"
      },
      "source": [
        "Una vez probada la regresión logística, vamos a probar a implementar un k nearest neighbors. Para este caso, para encontrar los hiperparámetros más óptimos, vamos a emplear un gridsearch. Vamos a utilizar un número de vecinos bajo ya que el número de muestras de nuestro dataset es bajo."
      ]
    },
    {
      "cell_type": "code",
      "metadata": {
        "colab_type": "code",
        "id": "XFXIA4GTc2fj",
        "colab": {}
      },
      "source": [
        "clf_kn = GridSearchCV(KNeighborsClassifier(),\n",
        "                  param_grid={\"n_neighbors\":np.arange(2, 20)},\n",
        "                  cv=5,\n",
        "                  scoring='accuracy')"
      ],
      "execution_count": 0,
      "outputs": []
    },
    {
      "cell_type": "code",
      "metadata": {
        "colab_type": "code",
        "id": "Gp3yDRvLc2fl",
        "outputId": "40e04dc6-5687-487f-d8e2-aae41c5c8950",
        "colab": {
          "base_uri": "https://localhost:8080/",
          "height": 201
        }
      },
      "source": [
        "clf_kn.fit(x, y)"
      ],
      "execution_count": 94,
      "outputs": [
        {
          "output_type": "execute_result",
          "data": {
            "text/plain": [
              "GridSearchCV(cv=5, error_score='raise-deprecating',\n",
              "             estimator=KNeighborsClassifier(algorithm='auto', leaf_size=30,\n",
              "                                            metric='minkowski',\n",
              "                                            metric_params=None, n_jobs=None,\n",
              "                                            n_neighbors=5, p=2,\n",
              "                                            weights='uniform'),\n",
              "             iid='warn', n_jobs=None,\n",
              "             param_grid={'n_neighbors': array([ 2,  3,  4,  5,  6,  7,  8,  9, 10, 11, 12, 13, 14, 15, 16, 17, 18,\n",
              "       19])},\n",
              "             pre_dispatch='2*n_jobs', refit=True, return_train_score=False,\n",
              "             scoring='accuracy', verbose=0)"
            ]
          },
          "metadata": {
            "tags": []
          },
          "execution_count": 94
        }
      ]
    },
    {
      "cell_type": "markdown",
      "metadata": {
        "colab_type": "text",
        "id": "EXCX5BASc2fp"
      },
      "source": [
        "Como podemos ver, para este caso los k nearest neighbors no funcionan tan bien como el modelo anterior, obteniendo un accuracy máximo de 61%, lo cual es inferior al 70 % de la regresión logística. "
      ]
    },
    {
      "cell_type": "code",
      "metadata": {
        "colab_type": "code",
        "id": "gqX87jaCc2fp",
        "outputId": "d6b7b12b-55da-493d-afa9-6144e324bd91",
        "colab": {
          "base_uri": "https://localhost:8080/",
          "height": 33
        }
      },
      "source": [
        "clf_kn.best_score_"
      ],
      "execution_count": 95,
      "outputs": [
        {
          "output_type": "execute_result",
          "data": {
            "text/plain": [
              "0.613882863340564"
            ]
          },
          "metadata": {
            "tags": []
          },
          "execution_count": 95
        }
      ]
    },
    {
      "cell_type": "code",
      "metadata": {
        "colab_type": "code",
        "id": "xxiiWUs-c2fs",
        "outputId": "0e9dc51a-93b2-46b5-ff8f-ff09ba808a25",
        "colab": {
          "base_uri": "https://localhost:8080/",
          "height": 33
        }
      },
      "source": [
        "clf_kn.best_params_"
      ],
      "execution_count": 96,
      "outputs": [
        {
          "output_type": "execute_result",
          "data": {
            "text/plain": [
              "{'n_neighbors': 9}"
            ]
          },
          "metadata": {
            "tags": []
          },
          "execution_count": 96
        }
      ]
    },
    {
      "cell_type": "markdown",
      "metadata": {
        "id": "pYMiQDqW0if5",
        "colab_type": "text"
      },
      "source": [
        "### SVM"
      ]
    },
    {
      "cell_type": "markdown",
      "metadata": {
        "colab_type": "text",
        "id": "KzXMVv15c2fv"
      },
      "source": [
        "El siguiente paso es probar con un Support Vector Machine. Vamos a comprobar los distintos tipos que existen de este clasificador para comprobar si alguno de estos se puede ajustar más al dataset que tenemos. En primer lugar vamos a probar con un kernel linear, empleando un gridsearch para encontrar el mejor hiperparámetro. Obtenemos un resultado parecido a la regresión logística, con aproximadamente un 70 % de accuracy."
      ]
    },
    {
      "cell_type": "code",
      "metadata": {
        "colab_type": "code",
        "id": "iLSQSZYDc2fw",
        "colab": {}
      },
      "source": [
        "clf_svml = GridSearchCV(SVC(kernel=\"linear\",),\n",
        "                  param_grid={\"C\":[1,10,100,1000,10000]},\n",
        "                  cv=10,\n",
        "                  scoring=\"accuracy\")"
      ],
      "execution_count": 0,
      "outputs": []
    },
    {
      "cell_type": "code",
      "metadata": {
        "colab_type": "code",
        "id": "LjTIAU7qc2fx",
        "outputId": "b60031ba-6ad0-40df-da2a-cc75c14296e9",
        "colab": {
          "base_uri": "https://localhost:8080/",
          "height": 184
        }
      },
      "source": [
        "clf_svml.fit(x, y)"
      ],
      "execution_count": 28,
      "outputs": [
        {
          "output_type": "execute_result",
          "data": {
            "text/plain": [
              "GridSearchCV(cv=10, error_score='raise-deprecating',\n",
              "             estimator=SVC(C=1.0, cache_size=200, class_weight=None, coef0=0.0,\n",
              "                           decision_function_shape='ovr', degree=3,\n",
              "                           gamma='auto_deprecated', kernel='linear',\n",
              "                           max_iter=-1, probability=False, random_state=None,\n",
              "                           shrinking=True, tol=0.001, verbose=False),\n",
              "             iid='warn', n_jobs=None,\n",
              "             param_grid={'C': [1, 10, 100, 1000, 10000]},\n",
              "             pre_dispatch='2*n_jobs', refit=True, return_train_score=False,\n",
              "             scoring='accuracy', verbose=0)"
            ]
          },
          "metadata": {
            "tags": []
          },
          "execution_count": 28
        }
      ]
    },
    {
      "cell_type": "code",
      "metadata": {
        "colab_type": "code",
        "id": "t-t3UFSxc2f1",
        "outputId": "3547beb2-8872-4380-af9e-323dfc12abff",
        "colab": {
          "base_uri": "https://localhost:8080/",
          "height": 33
        }
      },
      "source": [
        "clf_svml.best_score_"
      ],
      "execution_count": 29,
      "outputs": [
        {
          "output_type": "execute_result",
          "data": {
            "text/plain": [
              "0.702819956616052"
            ]
          },
          "metadata": {
            "tags": []
          },
          "execution_count": 29
        }
      ]
    },
    {
      "cell_type": "code",
      "metadata": {
        "colab_type": "code",
        "id": "wM-gYyLCc2f4",
        "outputId": "377a998f-5e51-4d5f-cf22-3b722ed53347",
        "colab": {
          "base_uri": "https://localhost:8080/",
          "height": 33
        }
      },
      "source": [
        "clf_svml.best_params_"
      ],
      "execution_count": 30,
      "outputs": [
        {
          "output_type": "execute_result",
          "data": {
            "text/plain": [
              "{'C': 10}"
            ]
          },
          "metadata": {
            "tags": []
          },
          "execution_count": 30
        }
      ]
    },
    {
      "cell_type": "markdown",
      "metadata": {
        "id": "DyTDwGkZ0igO",
        "colab_type": "text"
      },
      "source": [
        "### Decision Tree"
      ]
    },
    {
      "cell_type": "markdown",
      "metadata": {
        "colab_type": "text",
        "id": "c7ZKA3k3c_to"
      },
      "source": [
        "Una vez comprobados los SVM, vamos a comprobar los árboles de decisión. Como podemos observar, mediante el árbol de decisión somos capaces de conseguir un poco más de accuracy comparado con la regresión logística."
      ]
    },
    {
      "cell_type": "code",
      "metadata": {
        "colab_type": "code",
        "id": "5SP47Sxhc2gG",
        "colab": {}
      },
      "source": [
        "clf_dt = GridSearchCV(DecisionTreeClassifier(),\n",
        "                      param_grid={\"min_samples_leaf\":np.arange(1,100),\n",
        "                                 'max_depth': np.arange(2, 20)},\n",
        "                     cv = 10,\n",
        "                     scoring = \"accuracy\")"
      ],
      "execution_count": 0,
      "outputs": []
    },
    {
      "cell_type": "code",
      "metadata": {
        "colab_type": "code",
        "id": "2xv1_MyCc2gM",
        "outputId": "87eeecbf-e0d9-4699-90a7-41d4e253947c",
        "colab": {
          "base_uri": "https://localhost:8080/",
          "height": 421
        }
      },
      "source": [
        "clf_dt.fit(x, y)"
      ],
      "execution_count": 32,
      "outputs": [
        {
          "output_type": "stream",
          "text": [
            "/usr/local/lib/python3.6/dist-packages/sklearn/model_selection/_search.py:813: DeprecationWarning: The default of the `iid` parameter will change from True to False in version 0.22 and will be removed in 0.24. This will change numeric results when test-set sizes are unequal.\n",
            "  DeprecationWarning)\n"
          ],
          "name": "stderr"
        },
        {
          "output_type": "execute_result",
          "data": {
            "text/plain": [
              "GridSearchCV(cv=10, error_score='raise-deprecating',\n",
              "             estimator=DecisionTreeClassifier(class_weight=None,\n",
              "                                              criterion='gini', max_depth=None,\n",
              "                                              max_features=None,\n",
              "                                              max_leaf_nodes=None,\n",
              "                                              min_impurity_decrease=0.0,\n",
              "                                              min_impurity_split=None,\n",
              "                                              min_samples_leaf=1,\n",
              "                                              min_samples_split=2,\n",
              "                                              min_weight_fraction_leaf=0.0,\n",
              "                                              presort=False, random_state=None,\n",
              "                                              splitter='best'),\n",
              "             iid='warn',...\n",
              "                         'min_samples_leaf': array([ 1,  2,  3,  4,  5,  6,  7,  8,  9, 10, 11, 12, 13, 14, 15, 16, 17,\n",
              "       18, 19, 20, 21, 22, 23, 24, 25, 26, 27, 28, 29, 30, 31, 32, 33, 34,\n",
              "       35, 36, 37, 38, 39, 40, 41, 42, 43, 44, 45, 46, 47, 48, 49, 50, 51,\n",
              "       52, 53, 54, 55, 56, 57, 58, 59, 60, 61, 62, 63, 64, 65, 66, 67, 68,\n",
              "       69, 70, 71, 72, 73, 74, 75, 76, 77, 78, 79, 80, 81, 82, 83, 84, 85,\n",
              "       86, 87, 88, 89, 90, 91, 92, 93, 94, 95, 96, 97, 98, 99])},\n",
              "             pre_dispatch='2*n_jobs', refit=True, return_train_score=False,\n",
              "             scoring='accuracy', verbose=0)"
            ]
          },
          "metadata": {
            "tags": []
          },
          "execution_count": 32
        }
      ]
    },
    {
      "cell_type": "code",
      "metadata": {
        "colab_type": "code",
        "id": "2dd5qR8xc2gP",
        "outputId": "56c88c68-f8ce-47ea-ec72-c14bffcb3388",
        "colab": {
          "base_uri": "https://localhost:8080/",
          "height": 33
        }
      },
      "source": [
        "clf_dt.best_params_"
      ],
      "execution_count": 33,
      "outputs": [
        {
          "output_type": "execute_result",
          "data": {
            "text/plain": [
              "{'max_depth': 6, 'min_samples_leaf': 7}"
            ]
          },
          "metadata": {
            "tags": []
          },
          "execution_count": 33
        }
      ]
    },
    {
      "cell_type": "code",
      "metadata": {
        "colab_type": "code",
        "id": "Ab8NkGi0c2gT",
        "outputId": "09893714-5851-4a75-8758-61e6fbc11bef",
        "colab": {
          "base_uri": "https://localhost:8080/",
          "height": 33
        }
      },
      "source": [
        "clf_dt.best_score_"
      ],
      "execution_count": 34,
      "outputs": [
        {
          "output_type": "execute_result",
          "data": {
            "text/plain": [
              "0.7136659436008677"
            ]
          },
          "metadata": {
            "tags": []
          },
          "execution_count": 34
        }
      ]
    },
    {
      "cell_type": "markdown",
      "metadata": {
        "id": "Sf14QgIj0igu",
        "colab_type": "text"
      },
      "source": [
        "### Random Forest"
      ]
    },
    {
      "cell_type": "markdown",
      "metadata": {
        "colab_type": "text",
        "id": "O06w5oLAPOEo"
      },
      "source": [
        "Una vez visto el resultado satisfactorio de los árboles de decisión, vamos a intentar implementar un Random Forest. Como hemos podido ver, heredando el valor de min_samples_leaf del árbol de decisión, hemos conseguido mejorar el accuracy hasta un 75%"
      ]
    },
    {
      "cell_type": "code",
      "metadata": {
        "colab_type": "code",
        "id": "yUkEMRtEc2gX",
        "colab": {}
      },
      "source": [
        "clf_rf = GridSearchCV(RandomForestClassifier(min_samples_leaf = 4),\n",
        "                      param_grid = {'n_estimators': np.arange(20,300, 20),\n",
        "                                    'max_depth': np.arange(2,10)\n",
        "                      },\n",
        "                      cv = 10,\n",
        "                      scoring = 'accuracy',\n",
        "                      n_jobs = -1)"
      ],
      "execution_count": 0,
      "outputs": []
    },
    {
      "cell_type": "code",
      "metadata": {
        "colab_type": "code",
        "id": "JzM_MlZwc2gO",
        "outputId": "cdb6c0f4-335d-4092-8d2f-18e302756b24",
        "colab": {
          "base_uri": "https://localhost:8080/",
          "height": 405
        }
      },
      "source": [
        "clf_rf.fit(x, y)"
      ],
      "execution_count": 36,
      "outputs": [
        {
          "output_type": "stream",
          "text": [
            "/usr/local/lib/python3.6/dist-packages/sklearn/model_selection/_search.py:813: DeprecationWarning: The default of the `iid` parameter will change from True to False in version 0.22 and will be removed in 0.24. This will change numeric results when test-set sizes are unequal.\n",
            "  DeprecationWarning)\n"
          ],
          "name": "stderr"
        },
        {
          "output_type": "execute_result",
          "data": {
            "text/plain": [
              "GridSearchCV(cv=10, error_score='raise-deprecating',\n",
              "             estimator=RandomForestClassifier(bootstrap=True, class_weight=None,\n",
              "                                              criterion='gini', max_depth=None,\n",
              "                                              max_features='auto',\n",
              "                                              max_leaf_nodes=None,\n",
              "                                              min_impurity_decrease=0.0,\n",
              "                                              min_impurity_split=None,\n",
              "                                              min_samples_leaf=4,\n",
              "                                              min_samples_split=2,\n",
              "                                              min_weight_fraction_leaf=0.0,\n",
              "                                              n_estimators='warn', n_jobs=None,\n",
              "                                              oob_score=False,\n",
              "                                              random_state=None, verbose=0,\n",
              "                                              warm_start=False),\n",
              "             iid='warn', n_jobs=-1,\n",
              "             param_grid={'max_depth': array([2, 3, 4, 5, 6, 7, 8, 9]),\n",
              "                         'n_estimators': array([ 20,  40,  60,  80, 100, 120, 140, 160, 180, 200, 220, 240, 260,\n",
              "       280])},\n",
              "             pre_dispatch='2*n_jobs', refit=True, return_train_score=False,\n",
              "             scoring='accuracy', verbose=0)"
            ]
          },
          "metadata": {
            "tags": []
          },
          "execution_count": 36
        }
      ]
    },
    {
      "cell_type": "code",
      "metadata": {
        "colab_type": "code",
        "id": "L8GSyfeXc2gP",
        "outputId": "2e315d07-88ad-44d1-85f2-1d9d734e03ed",
        "colab": {
          "base_uri": "https://localhost:8080/",
          "height": 33
        }
      },
      "source": [
        "clf_rf.best_score_"
      ],
      "execution_count": 37,
      "outputs": [
        {
          "output_type": "execute_result",
          "data": {
            "text/plain": [
              "0.7483731019522777"
            ]
          },
          "metadata": {
            "tags": []
          },
          "execution_count": 37
        }
      ]
    },
    {
      "cell_type": "code",
      "metadata": {
        "colab_type": "code",
        "id": "8UEOsUNcc2gS",
        "outputId": "73320dc9-9188-44b0-de82-fb8cf2f6f560",
        "colab": {
          "base_uri": "https://localhost:8080/",
          "height": 33
        }
      },
      "source": [
        "clf_rf.best_params_"
      ],
      "execution_count": 38,
      "outputs": [
        {
          "output_type": "execute_result",
          "data": {
            "text/plain": [
              "{'max_depth': 9, 'n_estimators': 160}"
            ]
          },
          "metadata": {
            "tags": []
          },
          "execution_count": 38
        }
      ]
    },
    {
      "cell_type": "code",
      "metadata": {
        "colab_type": "code",
        "id": "M4Mmp-Fwc2gU",
        "colab": {}
      },
      "source": [
        "clf_rf_good = clf_rf.best_estimator_"
      ],
      "execution_count": 0,
      "outputs": []
    },
    {
      "cell_type": "markdown",
      "metadata": {
        "colab_type": "text",
        "id": "nqo86Xp3TJa0"
      },
      "source": [
        "Mediante el método feature_importances_ podemos ver cómo influyen cada una de las variables a la decisión tomada por el Random Forest, siendo la más importante la máxima variación de la curvatura y la menos importante la media de las curvaturas."
      ]
    },
    {
      "cell_type": "code",
      "metadata": {
        "colab_type": "code",
        "id": "sOezR4qBc2gZ",
        "outputId": "75d97845-5ebc-4681-dbdb-be158ebcfb09",
        "colab": {
          "base_uri": "https://localhost:8080/",
          "height": 50
        }
      },
      "source": [
        "clf_rf_good.feature_importances_"
      ],
      "execution_count": 40,
      "outputs": [
        {
          "output_type": "execute_result",
          "data": {
            "text/plain": [
              "array([0.11334154, 0.12124215, 0.18427532, 0.04775782, 0.1672021 ,\n",
              "       0.14219228, 0.08001251, 0.07936108, 0.06461521])"
            ]
          },
          "metadata": {
            "tags": []
          },
          "execution_count": 40
        }
      ]
    },
    {
      "cell_type": "code",
      "metadata": {
        "colab_type": "code",
        "id": "dyhIqfBPTHV-",
        "outputId": "5b3d0b6e-2795-48fb-99b3-764e7da5fec9",
        "colab": {
          "base_uri": "https://localhost:8080/",
          "height": 84
        }
      },
      "source": [
        "x.columns"
      ],
      "execution_count": 41,
      "outputs": [
        {
          "output_type": "execute_result",
          "data": {
            "text/plain": [
              "Index(['Max Depth', 'Max Curve', 'Max Variation Curve', 'Mean Curve', 'Age',\n",
              "       'K Max', 'Paqui Min', 'Distance Between Max Curve and Min Paqui',\n",
              "       'Position of Most Curve Point Relative to Center'],\n",
              "      dtype='object')"
            ]
          },
          "metadata": {
            "tags": []
          },
          "execution_count": 41
        }
      ]
    },
    {
      "cell_type": "markdown",
      "metadata": {
        "colab_type": "text",
        "id": "0JNFsOB1TrOu"
      },
      "source": [
        "Vamos a  hacer una prueba eliminando las columnas menos influyentes, para comprobar como se comporta el Random Forest, y como podemos comprobar, eliminando la media de las curvaturas, podemos subir a un 76% el accuracy."
      ]
    },
    {
      "cell_type": "code",
      "metadata": {
        "colab_type": "code",
        "id": "phcKWNpkS0qJ",
        "colab": {}
      },
      "source": [
        "x_upgrade = eye_df_cl_1[['Max Depth', 'Max Curve', 'Max Variation Curve', 'Age', 'K Max', 'Paqui Min', 'Distance Between Max Curve and Min Paqui', 'Position of Most Curve Point Relative to Center']]"
      ],
      "execution_count": 0,
      "outputs": []
    },
    {
      "cell_type": "code",
      "metadata": {
        "colab_type": "code",
        "id": "BdwQbzaUS0nC",
        "outputId": "1dc7a724-6db1-4953-d163-11002467c4e2",
        "colab": {
          "base_uri": "https://localhost:8080/",
          "height": 405
        }
      },
      "source": [
        "clf_rf.fit(x_upgrade, y)"
      ],
      "execution_count": 43,
      "outputs": [
        {
          "output_type": "stream",
          "text": [
            "/usr/local/lib/python3.6/dist-packages/sklearn/model_selection/_search.py:813: DeprecationWarning: The default of the `iid` parameter will change from True to False in version 0.22 and will be removed in 0.24. This will change numeric results when test-set sizes are unequal.\n",
            "  DeprecationWarning)\n"
          ],
          "name": "stderr"
        },
        {
          "output_type": "execute_result",
          "data": {
            "text/plain": [
              "GridSearchCV(cv=10, error_score='raise-deprecating',\n",
              "             estimator=RandomForestClassifier(bootstrap=True, class_weight=None,\n",
              "                                              criterion='gini', max_depth=None,\n",
              "                                              max_features='auto',\n",
              "                                              max_leaf_nodes=None,\n",
              "                                              min_impurity_decrease=0.0,\n",
              "                                              min_impurity_split=None,\n",
              "                                              min_samples_leaf=4,\n",
              "                                              min_samples_split=2,\n",
              "                                              min_weight_fraction_leaf=0.0,\n",
              "                                              n_estimators='warn', n_jobs=None,\n",
              "                                              oob_score=False,\n",
              "                                              random_state=None, verbose=0,\n",
              "                                              warm_start=False),\n",
              "             iid='warn', n_jobs=-1,\n",
              "             param_grid={'max_depth': array([2, 3, 4, 5, 6, 7, 8, 9]),\n",
              "                         'n_estimators': array([ 20,  40,  60,  80, 100, 120, 140, 160, 180, 200, 220, 240, 260,\n",
              "       280])},\n",
              "             pre_dispatch='2*n_jobs', refit=True, return_train_score=False,\n",
              "             scoring='accuracy', verbose=0)"
            ]
          },
          "metadata": {
            "tags": []
          },
          "execution_count": 43
        }
      ]
    },
    {
      "cell_type": "code",
      "metadata": {
        "colab_type": "code",
        "id": "INfxIlopS0lB",
        "outputId": "48b3999f-c712-4cd8-c616-0b03d19dad45",
        "colab": {
          "base_uri": "https://localhost:8080/",
          "height": 33
        }
      },
      "source": [
        "clf_rf.best_params_"
      ],
      "execution_count": 44,
      "outputs": [
        {
          "output_type": "execute_result",
          "data": {
            "text/plain": [
              "{'max_depth': 7, 'n_estimators': 120}"
            ]
          },
          "metadata": {
            "tags": []
          },
          "execution_count": 44
        }
      ]
    },
    {
      "cell_type": "code",
      "metadata": {
        "colab_type": "code",
        "id": "AU42tuUpS0jK",
        "outputId": "a88b99da-4c6b-4793-98c8-6c79c4fcfd73",
        "colab": {
          "base_uri": "https://localhost:8080/",
          "height": 33
        }
      },
      "source": [
        "clf_rf.best_score_"
      ],
      "execution_count": 45,
      "outputs": [
        {
          "output_type": "execute_result",
          "data": {
            "text/plain": [
              "0.7570498915401301"
            ]
          },
          "metadata": {
            "tags": []
          },
          "execution_count": 45
        }
      ]
    },
    {
      "cell_type": "markdown",
      "metadata": {
        "colab_type": "text",
        "id": "klHQksN7U-RL"
      },
      "source": [
        "Vamos a intentar volver a iterar eliminando un parámetro más que no sea determinante para el predictor. Como podemos ver, en este caso el parámetro menos influyente es la posición del punto más curvo con respecto al centro. En este caso, perdemos accuracy a pesar de quitar un parámetro poco influyente, por lo que vamos a mantener el vector x anterior."
      ]
    },
    {
      "cell_type": "code",
      "metadata": {
        "colab_type": "code",
        "id": "540QIeRYS0hV",
        "colab": {}
      },
      "source": [
        "clf_rf_good = clf_rf.best_estimator_"
      ],
      "execution_count": 0,
      "outputs": []
    },
    {
      "cell_type": "code",
      "metadata": {
        "colab_type": "code",
        "id": "2s2VYUIGS0cZ",
        "outputId": "b3ab83e5-e66c-4c13-96ea-46f628ab2497",
        "colab": {
          "base_uri": "https://localhost:8080/",
          "height": 50
        }
      },
      "source": [
        "clf_rf_good.feature_importances_"
      ],
      "execution_count": 47,
      "outputs": [
        {
          "output_type": "execute_result",
          "data": {
            "text/plain": [
              "array([0.12274128, 0.17764288, 0.18752464, 0.15819823, 0.12878742,\n",
              "       0.08561035, 0.0795373 , 0.05995791])"
            ]
          },
          "metadata": {
            "tags": []
          },
          "execution_count": 47
        }
      ]
    },
    {
      "cell_type": "code",
      "metadata": {
        "colab_type": "code",
        "id": "FlCUuKK3S0aT",
        "outputId": "cf0d3aa6-8198-4ee7-b8a8-062e69450c2d",
        "colab": {
          "base_uri": "https://localhost:8080/",
          "height": 84
        }
      },
      "source": [
        "x_upgrade.columns"
      ],
      "execution_count": 48,
      "outputs": [
        {
          "output_type": "execute_result",
          "data": {
            "text/plain": [
              "Index(['Max Depth', 'Max Curve', 'Max Variation Curve', 'Age', 'K Max',\n",
              "       'Paqui Min', 'Distance Between Max Curve and Min Paqui',\n",
              "       'Position of Most Curve Point Relative to Center'],\n",
              "      dtype='object')"
            ]
          },
          "metadata": {
            "tags": []
          },
          "execution_count": 48
        }
      ]
    },
    {
      "cell_type": "code",
      "metadata": {
        "colab_type": "code",
        "id": "GFTUQO9GS0Wc",
        "colab": {}
      },
      "source": [
        "x_upgrade_2 = eye_df_cl_1[['Max Depth', 'Max Curve', 'Max Variation Curve', 'Age', 'K Max', 'Paqui Min', 'Distance Between Max Curve and Min Paqui']]"
      ],
      "execution_count": 0,
      "outputs": []
    },
    {
      "cell_type": "code",
      "metadata": {
        "colab_type": "code",
        "id": "kevLsEQNS0Tk",
        "outputId": "a0c664da-e5e2-4df1-961b-633ed06450aa",
        "colab": {
          "base_uri": "https://localhost:8080/",
          "height": 405
        }
      },
      "source": [
        "clf_rf.fit(x_upgrade_2, y)"
      ],
      "execution_count": 50,
      "outputs": [
        {
          "output_type": "stream",
          "text": [
            "/usr/local/lib/python3.6/dist-packages/sklearn/model_selection/_search.py:813: DeprecationWarning: The default of the `iid` parameter will change from True to False in version 0.22 and will be removed in 0.24. This will change numeric results when test-set sizes are unequal.\n",
            "  DeprecationWarning)\n"
          ],
          "name": "stderr"
        },
        {
          "output_type": "execute_result",
          "data": {
            "text/plain": [
              "GridSearchCV(cv=10, error_score='raise-deprecating',\n",
              "             estimator=RandomForestClassifier(bootstrap=True, class_weight=None,\n",
              "                                              criterion='gini', max_depth=None,\n",
              "                                              max_features='auto',\n",
              "                                              max_leaf_nodes=None,\n",
              "                                              min_impurity_decrease=0.0,\n",
              "                                              min_impurity_split=None,\n",
              "                                              min_samples_leaf=4,\n",
              "                                              min_samples_split=2,\n",
              "                                              min_weight_fraction_leaf=0.0,\n",
              "                                              n_estimators='warn', n_jobs=None,\n",
              "                                              oob_score=False,\n",
              "                                              random_state=None, verbose=0,\n",
              "                                              warm_start=False),\n",
              "             iid='warn', n_jobs=-1,\n",
              "             param_grid={'max_depth': array([2, 3, 4, 5, 6, 7, 8, 9]),\n",
              "                         'n_estimators': array([ 20,  40,  60,  80, 100, 120, 140, 160, 180, 200, 220, 240, 260,\n",
              "       280])},\n",
              "             pre_dispatch='2*n_jobs', refit=True, return_train_score=False,\n",
              "             scoring='accuracy', verbose=0)"
            ]
          },
          "metadata": {
            "tags": []
          },
          "execution_count": 50
        }
      ]
    },
    {
      "cell_type": "code",
      "metadata": {
        "colab_type": "code",
        "id": "lOsnsVl-VzYV",
        "outputId": "802c58af-d0d6-4eb1-df84-01ad8ad89858",
        "colab": {
          "base_uri": "https://localhost:8080/",
          "height": 33
        }
      },
      "source": [
        "clf_rf.best_score_"
      ],
      "execution_count": 51,
      "outputs": [
        {
          "output_type": "execute_result",
          "data": {
            "text/plain": [
              "0.7505422993492408"
            ]
          },
          "metadata": {
            "tags": []
          },
          "execution_count": 51
        }
      ]
    },
    {
      "cell_type": "code",
      "metadata": {
        "colab_type": "code",
        "id": "yJO6xkD-VzWs",
        "outputId": "99b79889-6d39-42b2-c428-e796305c3362",
        "colab": {
          "base_uri": "https://localhost:8080/",
          "height": 33
        }
      },
      "source": [
        "clf_rf.best_params_"
      ],
      "execution_count": 52,
      "outputs": [
        {
          "output_type": "execute_result",
          "data": {
            "text/plain": [
              "{'max_depth': 5, 'n_estimators': 220}"
            ]
          },
          "metadata": {
            "tags": []
          },
          "execution_count": 52
        }
      ]
    },
    {
      "cell_type": "markdown",
      "metadata": {
        "id": "qH_LkTY10ih5",
        "colab_type": "text"
      },
      "source": [
        "### XGBoost"
      ]
    },
    {
      "cell_type": "markdown",
      "metadata": {
        "colab_type": "text",
        "id": "sNev7a9LYN0M"
      },
      "source": [
        "Para el siguiente paso vamos a comprobar la eficacia de un xgboost en nuestro sistema. Como podemos ver se comporta de manera parecida al Random Forest, obteniendo resultados del 76 % de aciertos."
      ]
    },
    {
      "cell_type": "code",
      "metadata": {
        "colab_type": "code",
        "id": "KxZPfamPVzVO",
        "colab": {}
      },
      "source": [
        "clf_xg = GridSearchCV(XGBClassifier(),\n",
        "                      param_grid = {'max_depth': np.arange(2,10),\n",
        "                                   \"learning_rate\": np.arange(0.04, 0.32, 0.04),\n",
        "                                   \"n_estimators\": np.arange(100, 150, 10)},\n",
        "                      cv = 10,\n",
        "                      scoring = 'accuracy',\n",
        "                      n_jobs = -1\n",
        "         )"
      ],
      "execution_count": 0,
      "outputs": []
    },
    {
      "cell_type": "code",
      "metadata": {
        "colab_type": "code",
        "id": "X1bRbsn_VzTy",
        "outputId": "ca45d8a6-4d76-4573-a14e-f18f25a50d18",
        "colab": {
          "base_uri": "https://localhost:8080/",
          "height": 354
        }
      },
      "source": [
        "clf_xg.fit(x_upgrade, y)"
      ],
      "execution_count": 386,
      "outputs": [
        {
          "output_type": "stream",
          "text": [
            "/usr/local/lib/python3.6/dist-packages/sklearn/model_selection/_search.py:813: DeprecationWarning: The default of the `iid` parameter will change from True to False in version 0.22 and will be removed in 0.24. This will change numeric results when test-set sizes are unequal.\n",
            "  DeprecationWarning)\n"
          ],
          "name": "stderr"
        },
        {
          "output_type": "execute_result",
          "data": {
            "text/plain": [
              "GridSearchCV(cv=10, error_score='raise-deprecating',\n",
              "             estimator=XGBClassifier(base_score=0.5, booster='gbtree',\n",
              "                                     colsample_bylevel=1, colsample_bynode=1,\n",
              "                                     colsample_bytree=1, gamma=0,\n",
              "                                     learning_rate=0.1, max_delta_step=0,\n",
              "                                     max_depth=3, min_child_weight=1,\n",
              "                                     missing=None, n_estimators=100, n_jobs=1,\n",
              "                                     nthread=None, objective='binary:logistic',\n",
              "                                     random_state=0, reg_alpha=0, reg_lambda=1,\n",
              "                                     scale_pos_weight=1, seed=None, silent=None,\n",
              "                                     subsample=1, verbosity=1),\n",
              "             iid='warn', n_jobs=-1,\n",
              "             param_grid={'learning_rate': array([0.04, 0.08, 0.12, 0.16, 0.2 , 0.24, 0.28, 0.32]),\n",
              "                         'max_depth': array([2, 3, 4, 5, 6, 7, 8, 9]),\n",
              "                         'n_estimators': array([100, 110, 120, 130, 140])},\n",
              "             pre_dispatch='2*n_jobs', refit=True, return_train_score=False,\n",
              "             scoring='accuracy', verbose=0)"
            ]
          },
          "metadata": {
            "tags": []
          },
          "execution_count": 386
        }
      ]
    },
    {
      "cell_type": "code",
      "metadata": {
        "colab_type": "code",
        "id": "NTY1gcu3VzR4",
        "outputId": "d7e60362-fa87-4c0c-a688-db46cc2514d2",
        "colab": {
          "base_uri": "https://localhost:8080/",
          "height": 33
        }
      },
      "source": [
        "clf_xg.best_params_"
      ],
      "execution_count": 387,
      "outputs": [
        {
          "output_type": "execute_result",
          "data": {
            "text/plain": [
              "{'learning_rate': 0.08, 'max_depth': 3, 'n_estimators': 100}"
            ]
          },
          "metadata": {
            "tags": []
          },
          "execution_count": 387
        }
      ]
    },
    {
      "cell_type": "code",
      "metadata": {
        "colab_type": "code",
        "id": "pcebiQHAVzQh",
        "outputId": "b5252b37-2d85-47db-df92-b2e48e3c0861",
        "colab": {
          "base_uri": "https://localhost:8080/",
          "height": 33
        }
      },
      "source": [
        "clf_xg.best_score_"
      ],
      "execution_count": 388,
      "outputs": [
        {
          "output_type": "execute_result",
          "data": {
            "text/plain": [
              "0.7635574837310195"
            ]
          },
          "metadata": {
            "tags": []
          },
          "execution_count": 388
        }
      ]
    },
    {
      "cell_type": "markdown",
      "metadata": {
        "id": "5gaM6lJN0iiV",
        "colab_type": "text"
      },
      "source": [
        "### Gradient Boosted Trees"
      ]
    },
    {
      "cell_type": "markdown",
      "metadata": {
        "id": "i_7caY5c9IVj",
        "colab_type": "text"
      },
      "source": [
        "Para el siguiente caso vamos a utilizar un Gradient Boosted Tree, de la libreria de Scikit Learn. Como podemos ver, el resultado obtenido no supera a los resultados del XGBoost, por lo que nuestro mejor resultado sigue siendo el 76.35 %.\n",
        "\n"
      ]
    },
    {
      "cell_type": "code",
      "metadata": {
        "id": "JPkEEsED0iiZ",
        "colab_type": "code",
        "colab": {}
      },
      "source": [
        "clf_gbt = GridSearchCV(ensemble.GradientBoostingClassifier(),\n",
        "                      param_grid = {'max_depth': np.arange(2,10),\n",
        "                                   \"n_estimators\": np.arange(1000, 2000, 100),\n",
        "                                   \"max_leaf_nodes\": np.arange(2, 6, 1),\n",
        "                                   \"min_samples_leaf\": np.arange(2, 6, 1)},\n",
        "                      cv = 10,\n",
        "                      scoring = 'accuracy',\n",
        "         )"
      ],
      "execution_count": 0,
      "outputs": []
    },
    {
      "cell_type": "code",
      "metadata": {
        "id": "7mpH_G2O0iib",
        "colab_type": "code",
        "colab": {
          "base_uri": "https://localhost:8080/",
          "height": 302
        },
        "outputId": "b1086654-b15d-4d52-9f27-e2caef0d9bae"
      },
      "source": [
        "clf_gbt.fit(x_upgrade, y)"
      ],
      "execution_count": 378,
      "outputs": [
        {
          "output_type": "error",
          "ename": "KeyboardInterrupt",
          "evalue": "ignored",
          "traceback": [
            "\u001b[0;31m---------------------------------------------------------------------------\u001b[0m",
            "\u001b[0;31mKeyboardInterrupt\u001b[0m                         Traceback (most recent call last)",
            "\u001b[0;32m<ipython-input-378-049de391bc0e>\u001b[0m in \u001b[0;36m<module>\u001b[0;34m()\u001b[0m\n\u001b[0;32m----> 1\u001b[0;31m \u001b[0mclf_gbt\u001b[0m\u001b[0;34m.\u001b[0m\u001b[0mfit\u001b[0m\u001b[0;34m(\u001b[0m\u001b[0mx_upgrade\u001b[0m\u001b[0;34m,\u001b[0m \u001b[0my\u001b[0m\u001b[0;34m)\u001b[0m\u001b[0;34m\u001b[0m\u001b[0;34m\u001b[0m\u001b[0m\n\u001b[0m",
            "\u001b[0;32m/usr/local/lib/python3.6/dist-packages/sklearn/model_selection/_search.py\u001b[0m in \u001b[0;36mfit\u001b[0;34m(self, X, y, groups, **fit_params)\u001b[0m\n\u001b[1;32m    685\u001b[0m                 \u001b[0;32mreturn\u001b[0m \u001b[0mresults\u001b[0m\u001b[0;34m\u001b[0m\u001b[0;34m\u001b[0m\u001b[0m\n\u001b[1;32m    686\u001b[0m \u001b[0;34m\u001b[0m\u001b[0m\n\u001b[0;32m--> 687\u001b[0;31m             \u001b[0mself\u001b[0m\u001b[0;34m.\u001b[0m\u001b[0m_run_search\u001b[0m\u001b[0;34m(\u001b[0m\u001b[0mevaluate_candidates\u001b[0m\u001b[0;34m)\u001b[0m\u001b[0;34m\u001b[0m\u001b[0;34m\u001b[0m\u001b[0m\n\u001b[0m\u001b[1;32m    688\u001b[0m \u001b[0;34m\u001b[0m\u001b[0m\n\u001b[1;32m    689\u001b[0m         \u001b[0;31m# For multi-metric evaluation, store the best_index_, best_params_ and\u001b[0m\u001b[0;34m\u001b[0m\u001b[0;34m\u001b[0m\u001b[0;34m\u001b[0m\u001b[0m\n",
            "\u001b[0;32m/usr/local/lib/python3.6/dist-packages/sklearn/model_selection/_search.py\u001b[0m in \u001b[0;36m_run_search\u001b[0;34m(self, evaluate_candidates)\u001b[0m\n\u001b[1;32m   1146\u001b[0m     \u001b[0;32mdef\u001b[0m \u001b[0m_run_search\u001b[0m\u001b[0;34m(\u001b[0m\u001b[0mself\u001b[0m\u001b[0;34m,\u001b[0m \u001b[0mevaluate_candidates\u001b[0m\u001b[0;34m)\u001b[0m\u001b[0;34m:\u001b[0m\u001b[0;34m\u001b[0m\u001b[0;34m\u001b[0m\u001b[0m\n\u001b[1;32m   1147\u001b[0m         \u001b[0;34m\"\"\"Search all candidates in param_grid\"\"\"\u001b[0m\u001b[0;34m\u001b[0m\u001b[0;34m\u001b[0m\u001b[0m\n\u001b[0;32m-> 1148\u001b[0;31m         \u001b[0mevaluate_candidates\u001b[0m\u001b[0;34m(\u001b[0m\u001b[0mParameterGrid\u001b[0m\u001b[0;34m(\u001b[0m\u001b[0mself\u001b[0m\u001b[0;34m.\u001b[0m\u001b[0mparam_grid\u001b[0m\u001b[0;34m)\u001b[0m\u001b[0;34m)\u001b[0m\u001b[0;34m\u001b[0m\u001b[0;34m\u001b[0m\u001b[0m\n\u001b[0m\u001b[1;32m   1149\u001b[0m \u001b[0;34m\u001b[0m\u001b[0m\n\u001b[1;32m   1150\u001b[0m \u001b[0;34m\u001b[0m\u001b[0m\n",
            "\u001b[0;32m/usr/local/lib/python3.6/dist-packages/sklearn/model_selection/_search.py\u001b[0m in \u001b[0;36mevaluate_candidates\u001b[0;34m(candidate_params)\u001b[0m\n\u001b[1;32m    664\u001b[0m                                \u001b[0;32mfor\u001b[0m \u001b[0mparameters\u001b[0m\u001b[0;34m,\u001b[0m \u001b[0;34m(\u001b[0m\u001b[0mtrain\u001b[0m\u001b[0;34m,\u001b[0m \u001b[0mtest\u001b[0m\u001b[0;34m)\u001b[0m\u001b[0;34m\u001b[0m\u001b[0;34m\u001b[0m\u001b[0m\n\u001b[1;32m    665\u001b[0m                                in product(candidate_params,\n\u001b[0;32m--> 666\u001b[0;31m                                           cv.split(X, y, groups)))\n\u001b[0m\u001b[1;32m    667\u001b[0m \u001b[0;34m\u001b[0m\u001b[0m\n\u001b[1;32m    668\u001b[0m                 \u001b[0;32mif\u001b[0m \u001b[0mlen\u001b[0m\u001b[0;34m(\u001b[0m\u001b[0mout\u001b[0m\u001b[0;34m)\u001b[0m \u001b[0;34m<\u001b[0m \u001b[0;36m1\u001b[0m\u001b[0;34m:\u001b[0m\u001b[0;34m\u001b[0m\u001b[0;34m\u001b[0m\u001b[0m\n",
            "\u001b[0;32m/usr/local/lib/python3.6/dist-packages/joblib/parallel.py\u001b[0m in \u001b[0;36m__call__\u001b[0;34m(self, iterable)\u001b[0m\n\u001b[1;32m    922\u001b[0m                 \u001b[0mself\u001b[0m\u001b[0;34m.\u001b[0m\u001b[0m_iterating\u001b[0m \u001b[0;34m=\u001b[0m \u001b[0mself\u001b[0m\u001b[0;34m.\u001b[0m\u001b[0m_original_iterator\u001b[0m \u001b[0;32mis\u001b[0m \u001b[0;32mnot\u001b[0m \u001b[0;32mNone\u001b[0m\u001b[0;34m\u001b[0m\u001b[0;34m\u001b[0m\u001b[0m\n\u001b[1;32m    923\u001b[0m \u001b[0;34m\u001b[0m\u001b[0m\n\u001b[0;32m--> 924\u001b[0;31m             \u001b[0;32mwhile\u001b[0m \u001b[0mself\u001b[0m\u001b[0;34m.\u001b[0m\u001b[0mdispatch_one_batch\u001b[0m\u001b[0;34m(\u001b[0m\u001b[0miterator\u001b[0m\u001b[0;34m)\u001b[0m\u001b[0;34m:\u001b[0m\u001b[0;34m\u001b[0m\u001b[0;34m\u001b[0m\u001b[0m\n\u001b[0m\u001b[1;32m    925\u001b[0m                 \u001b[0;32mpass\u001b[0m\u001b[0;34m\u001b[0m\u001b[0;34m\u001b[0m\u001b[0m\n\u001b[1;32m    926\u001b[0m \u001b[0;34m\u001b[0m\u001b[0m\n",
            "\u001b[0;32m/usr/local/lib/python3.6/dist-packages/joblib/parallel.py\u001b[0m in \u001b[0;36mdispatch_one_batch\u001b[0;34m(self, iterator)\u001b[0m\n\u001b[1;32m    757\u001b[0m                 \u001b[0;32mreturn\u001b[0m \u001b[0;32mFalse\u001b[0m\u001b[0;34m\u001b[0m\u001b[0;34m\u001b[0m\u001b[0m\n\u001b[1;32m    758\u001b[0m             \u001b[0;32melse\u001b[0m\u001b[0;34m:\u001b[0m\u001b[0;34m\u001b[0m\u001b[0;34m\u001b[0m\u001b[0m\n\u001b[0;32m--> 759\u001b[0;31m                 \u001b[0mself\u001b[0m\u001b[0;34m.\u001b[0m\u001b[0m_dispatch\u001b[0m\u001b[0;34m(\u001b[0m\u001b[0mtasks\u001b[0m\u001b[0;34m)\u001b[0m\u001b[0;34m\u001b[0m\u001b[0;34m\u001b[0m\u001b[0m\n\u001b[0m\u001b[1;32m    760\u001b[0m                 \u001b[0;32mreturn\u001b[0m \u001b[0;32mTrue\u001b[0m\u001b[0;34m\u001b[0m\u001b[0;34m\u001b[0m\u001b[0m\n\u001b[1;32m    761\u001b[0m \u001b[0;34m\u001b[0m\u001b[0m\n",
            "\u001b[0;32m/usr/local/lib/python3.6/dist-packages/joblib/parallel.py\u001b[0m in \u001b[0;36m_dispatch\u001b[0;34m(self, batch)\u001b[0m\n\u001b[1;32m    714\u001b[0m         \u001b[0;32mwith\u001b[0m \u001b[0mself\u001b[0m\u001b[0;34m.\u001b[0m\u001b[0m_lock\u001b[0m\u001b[0;34m:\u001b[0m\u001b[0;34m\u001b[0m\u001b[0;34m\u001b[0m\u001b[0m\n\u001b[1;32m    715\u001b[0m             \u001b[0mjob_idx\u001b[0m \u001b[0;34m=\u001b[0m \u001b[0mlen\u001b[0m\u001b[0;34m(\u001b[0m\u001b[0mself\u001b[0m\u001b[0;34m.\u001b[0m\u001b[0m_jobs\u001b[0m\u001b[0;34m)\u001b[0m\u001b[0;34m\u001b[0m\u001b[0;34m\u001b[0m\u001b[0m\n\u001b[0;32m--> 716\u001b[0;31m             \u001b[0mjob\u001b[0m \u001b[0;34m=\u001b[0m \u001b[0mself\u001b[0m\u001b[0;34m.\u001b[0m\u001b[0m_backend\u001b[0m\u001b[0;34m.\u001b[0m\u001b[0mapply_async\u001b[0m\u001b[0;34m(\u001b[0m\u001b[0mbatch\u001b[0m\u001b[0;34m,\u001b[0m \u001b[0mcallback\u001b[0m\u001b[0;34m=\u001b[0m\u001b[0mcb\u001b[0m\u001b[0;34m)\u001b[0m\u001b[0;34m\u001b[0m\u001b[0;34m\u001b[0m\u001b[0m\n\u001b[0m\u001b[1;32m    717\u001b[0m             \u001b[0;31m# A job can complete so quickly than its callback is\u001b[0m\u001b[0;34m\u001b[0m\u001b[0;34m\u001b[0m\u001b[0;34m\u001b[0m\u001b[0m\n\u001b[1;32m    718\u001b[0m             \u001b[0;31m# called before we get here, causing self._jobs to\u001b[0m\u001b[0;34m\u001b[0m\u001b[0;34m\u001b[0m\u001b[0;34m\u001b[0m\u001b[0m\n",
            "\u001b[0;32m/usr/local/lib/python3.6/dist-packages/joblib/_parallel_backends.py\u001b[0m in \u001b[0;36mapply_async\u001b[0;34m(self, func, callback)\u001b[0m\n\u001b[1;32m    180\u001b[0m     \u001b[0;32mdef\u001b[0m \u001b[0mapply_async\u001b[0m\u001b[0;34m(\u001b[0m\u001b[0mself\u001b[0m\u001b[0;34m,\u001b[0m \u001b[0mfunc\u001b[0m\u001b[0;34m,\u001b[0m \u001b[0mcallback\u001b[0m\u001b[0;34m=\u001b[0m\u001b[0;32mNone\u001b[0m\u001b[0;34m)\u001b[0m\u001b[0;34m:\u001b[0m\u001b[0;34m\u001b[0m\u001b[0;34m\u001b[0m\u001b[0m\n\u001b[1;32m    181\u001b[0m         \u001b[0;34m\"\"\"Schedule a func to be run\"\"\"\u001b[0m\u001b[0;34m\u001b[0m\u001b[0;34m\u001b[0m\u001b[0m\n\u001b[0;32m--> 182\u001b[0;31m         \u001b[0mresult\u001b[0m \u001b[0;34m=\u001b[0m \u001b[0mImmediateResult\u001b[0m\u001b[0;34m(\u001b[0m\u001b[0mfunc\u001b[0m\u001b[0;34m)\u001b[0m\u001b[0;34m\u001b[0m\u001b[0;34m\u001b[0m\u001b[0m\n\u001b[0m\u001b[1;32m    183\u001b[0m         \u001b[0;32mif\u001b[0m \u001b[0mcallback\u001b[0m\u001b[0;34m:\u001b[0m\u001b[0;34m\u001b[0m\u001b[0;34m\u001b[0m\u001b[0m\n\u001b[1;32m    184\u001b[0m             \u001b[0mcallback\u001b[0m\u001b[0;34m(\u001b[0m\u001b[0mresult\u001b[0m\u001b[0;34m)\u001b[0m\u001b[0;34m\u001b[0m\u001b[0;34m\u001b[0m\u001b[0m\n",
            "\u001b[0;32m/usr/local/lib/python3.6/dist-packages/joblib/_parallel_backends.py\u001b[0m in \u001b[0;36m__init__\u001b[0;34m(self, batch)\u001b[0m\n\u001b[1;32m    547\u001b[0m         \u001b[0;31m# Don't delay the application, to avoid keeping the input\u001b[0m\u001b[0;34m\u001b[0m\u001b[0;34m\u001b[0m\u001b[0;34m\u001b[0m\u001b[0m\n\u001b[1;32m    548\u001b[0m         \u001b[0;31m# arguments in memory\u001b[0m\u001b[0;34m\u001b[0m\u001b[0;34m\u001b[0m\u001b[0;34m\u001b[0m\u001b[0m\n\u001b[0;32m--> 549\u001b[0;31m         \u001b[0mself\u001b[0m\u001b[0;34m.\u001b[0m\u001b[0mresults\u001b[0m \u001b[0;34m=\u001b[0m \u001b[0mbatch\u001b[0m\u001b[0;34m(\u001b[0m\u001b[0;34m)\u001b[0m\u001b[0;34m\u001b[0m\u001b[0;34m\u001b[0m\u001b[0m\n\u001b[0m\u001b[1;32m    550\u001b[0m \u001b[0;34m\u001b[0m\u001b[0m\n\u001b[1;32m    551\u001b[0m     \u001b[0;32mdef\u001b[0m \u001b[0mget\u001b[0m\u001b[0;34m(\u001b[0m\u001b[0mself\u001b[0m\u001b[0;34m)\u001b[0m\u001b[0;34m:\u001b[0m\u001b[0;34m\u001b[0m\u001b[0;34m\u001b[0m\u001b[0m\n",
            "\u001b[0;32m/usr/local/lib/python3.6/dist-packages/joblib/parallel.py\u001b[0m in \u001b[0;36m__call__\u001b[0;34m(self)\u001b[0m\n\u001b[1;32m    223\u001b[0m         \u001b[0;32mwith\u001b[0m \u001b[0mparallel_backend\u001b[0m\u001b[0;34m(\u001b[0m\u001b[0mself\u001b[0m\u001b[0;34m.\u001b[0m\u001b[0m_backend\u001b[0m\u001b[0;34m,\u001b[0m \u001b[0mn_jobs\u001b[0m\u001b[0;34m=\u001b[0m\u001b[0mself\u001b[0m\u001b[0;34m.\u001b[0m\u001b[0m_n_jobs\u001b[0m\u001b[0;34m)\u001b[0m\u001b[0;34m:\u001b[0m\u001b[0;34m\u001b[0m\u001b[0;34m\u001b[0m\u001b[0m\n\u001b[1;32m    224\u001b[0m             return [func(*args, **kwargs)\n\u001b[0;32m--> 225\u001b[0;31m                     for func, args, kwargs in self.items]\n\u001b[0m\u001b[1;32m    226\u001b[0m \u001b[0;34m\u001b[0m\u001b[0m\n\u001b[1;32m    227\u001b[0m     \u001b[0;32mdef\u001b[0m \u001b[0m__len__\u001b[0m\u001b[0;34m(\u001b[0m\u001b[0mself\u001b[0m\u001b[0;34m)\u001b[0m\u001b[0;34m:\u001b[0m\u001b[0;34m\u001b[0m\u001b[0;34m\u001b[0m\u001b[0m\n",
            "\u001b[0;32m/usr/local/lib/python3.6/dist-packages/joblib/parallel.py\u001b[0m in \u001b[0;36m<listcomp>\u001b[0;34m(.0)\u001b[0m\n\u001b[1;32m    223\u001b[0m         \u001b[0;32mwith\u001b[0m \u001b[0mparallel_backend\u001b[0m\u001b[0;34m(\u001b[0m\u001b[0mself\u001b[0m\u001b[0;34m.\u001b[0m\u001b[0m_backend\u001b[0m\u001b[0;34m,\u001b[0m \u001b[0mn_jobs\u001b[0m\u001b[0;34m=\u001b[0m\u001b[0mself\u001b[0m\u001b[0;34m.\u001b[0m\u001b[0m_n_jobs\u001b[0m\u001b[0;34m)\u001b[0m\u001b[0;34m:\u001b[0m\u001b[0;34m\u001b[0m\u001b[0;34m\u001b[0m\u001b[0m\n\u001b[1;32m    224\u001b[0m             return [func(*args, **kwargs)\n\u001b[0;32m--> 225\u001b[0;31m                     for func, args, kwargs in self.items]\n\u001b[0m\u001b[1;32m    226\u001b[0m \u001b[0;34m\u001b[0m\u001b[0m\n\u001b[1;32m    227\u001b[0m     \u001b[0;32mdef\u001b[0m \u001b[0m__len__\u001b[0m\u001b[0;34m(\u001b[0m\u001b[0mself\u001b[0m\u001b[0;34m)\u001b[0m\u001b[0;34m:\u001b[0m\u001b[0;34m\u001b[0m\u001b[0;34m\u001b[0m\u001b[0m\n",
            "\u001b[0;32m/usr/local/lib/python3.6/dist-packages/sklearn/model_selection/_validation.py\u001b[0m in \u001b[0;36m_fit_and_score\u001b[0;34m(estimator, X, y, scorer, train, test, verbose, parameters, fit_params, return_train_score, return_parameters, return_n_test_samples, return_times, return_estimator, error_score)\u001b[0m\n\u001b[1;32m    512\u001b[0m             \u001b[0mestimator\u001b[0m\u001b[0;34m.\u001b[0m\u001b[0mfit\u001b[0m\u001b[0;34m(\u001b[0m\u001b[0mX_train\u001b[0m\u001b[0;34m,\u001b[0m \u001b[0;34m**\u001b[0m\u001b[0mfit_params\u001b[0m\u001b[0;34m)\u001b[0m\u001b[0;34m\u001b[0m\u001b[0;34m\u001b[0m\u001b[0m\n\u001b[1;32m    513\u001b[0m         \u001b[0;32melse\u001b[0m\u001b[0;34m:\u001b[0m\u001b[0;34m\u001b[0m\u001b[0;34m\u001b[0m\u001b[0m\n\u001b[0;32m--> 514\u001b[0;31m             \u001b[0mestimator\u001b[0m\u001b[0;34m.\u001b[0m\u001b[0mfit\u001b[0m\u001b[0;34m(\u001b[0m\u001b[0mX_train\u001b[0m\u001b[0;34m,\u001b[0m \u001b[0my_train\u001b[0m\u001b[0;34m,\u001b[0m \u001b[0;34m**\u001b[0m\u001b[0mfit_params\u001b[0m\u001b[0;34m)\u001b[0m\u001b[0;34m\u001b[0m\u001b[0;34m\u001b[0m\u001b[0m\n\u001b[0m\u001b[1;32m    515\u001b[0m \u001b[0;34m\u001b[0m\u001b[0m\n\u001b[1;32m    516\u001b[0m     \u001b[0;32mexcept\u001b[0m \u001b[0mException\u001b[0m \u001b[0;32mas\u001b[0m \u001b[0me\u001b[0m\u001b[0;34m:\u001b[0m\u001b[0;34m\u001b[0m\u001b[0;34m\u001b[0m\u001b[0m\n",
            "\u001b[0;32m/usr/local/lib/python3.6/dist-packages/sklearn/ensemble/gradient_boosting.py\u001b[0m in \u001b[0;36mfit\u001b[0;34m(self, X, y, sample_weight, monitor)\u001b[0m\n\u001b[1;32m   1544\u001b[0m         n_stages = self._fit_stages(\n\u001b[1;32m   1545\u001b[0m             \u001b[0mX\u001b[0m\u001b[0;34m,\u001b[0m \u001b[0my\u001b[0m\u001b[0;34m,\u001b[0m \u001b[0mraw_predictions\u001b[0m\u001b[0;34m,\u001b[0m \u001b[0msample_weight\u001b[0m\u001b[0;34m,\u001b[0m \u001b[0mself\u001b[0m\u001b[0;34m.\u001b[0m\u001b[0m_rng\u001b[0m\u001b[0;34m,\u001b[0m \u001b[0mX_val\u001b[0m\u001b[0;34m,\u001b[0m \u001b[0my_val\u001b[0m\u001b[0;34m,\u001b[0m\u001b[0;34m\u001b[0m\u001b[0;34m\u001b[0m\u001b[0m\n\u001b[0;32m-> 1546\u001b[0;31m             sample_weight_val, begin_at_stage, monitor, X_idx_sorted)\n\u001b[0m\u001b[1;32m   1547\u001b[0m \u001b[0;34m\u001b[0m\u001b[0m\n\u001b[1;32m   1548\u001b[0m         \u001b[0;31m# change shape of arrays after fit (early-stopping or additional ests)\u001b[0m\u001b[0;34m\u001b[0m\u001b[0;34m\u001b[0m\u001b[0;34m\u001b[0m\u001b[0m\n",
            "\u001b[0;32m/usr/local/lib/python3.6/dist-packages/sklearn/ensemble/gradient_boosting.py\u001b[0m in \u001b[0;36m_fit_stages\u001b[0;34m(self, X, y, raw_predictions, sample_weight, random_state, X_val, y_val, sample_weight_val, begin_at_stage, monitor, X_idx_sorted)\u001b[0m\n\u001b[1;32m   1608\u001b[0m             raw_predictions = self._fit_stage(\n\u001b[1;32m   1609\u001b[0m                 \u001b[0mi\u001b[0m\u001b[0;34m,\u001b[0m \u001b[0mX\u001b[0m\u001b[0;34m,\u001b[0m \u001b[0my\u001b[0m\u001b[0;34m,\u001b[0m \u001b[0mraw_predictions\u001b[0m\u001b[0;34m,\u001b[0m \u001b[0msample_weight\u001b[0m\u001b[0;34m,\u001b[0m \u001b[0msample_mask\u001b[0m\u001b[0;34m,\u001b[0m\u001b[0;34m\u001b[0m\u001b[0;34m\u001b[0m\u001b[0m\n\u001b[0;32m-> 1610\u001b[0;31m                 random_state, X_idx_sorted, X_csc, X_csr)\n\u001b[0m\u001b[1;32m   1611\u001b[0m \u001b[0;34m\u001b[0m\u001b[0m\n\u001b[1;32m   1612\u001b[0m             \u001b[0;31m# track deviance (= loss)\u001b[0m\u001b[0;34m\u001b[0m\u001b[0;34m\u001b[0m\u001b[0;34m\u001b[0m\u001b[0m\n",
            "\u001b[0;32m/usr/local/lib/python3.6/dist-packages/sklearn/ensemble/gradient_boosting.py\u001b[0m in \u001b[0;36m_fit_stage\u001b[0;34m(self, i, X, y, raw_predictions, sample_weight, sample_mask, random_state, X_idx_sorted, X_csc, X_csr)\u001b[0m\n\u001b[1;32m   1242\u001b[0m             \u001b[0mX\u001b[0m \u001b[0;34m=\u001b[0m \u001b[0mX_csr\u001b[0m \u001b[0;32mif\u001b[0m \u001b[0mX_csr\u001b[0m \u001b[0;32mis\u001b[0m \u001b[0;32mnot\u001b[0m \u001b[0;32mNone\u001b[0m \u001b[0;32melse\u001b[0m \u001b[0mX\u001b[0m\u001b[0;34m\u001b[0m\u001b[0;34m\u001b[0m\u001b[0m\n\u001b[1;32m   1243\u001b[0m             tree.fit(X, residual, sample_weight=sample_weight,\n\u001b[0;32m-> 1244\u001b[0;31m                      check_input=False, X_idx_sorted=X_idx_sorted)\n\u001b[0m\u001b[1;32m   1245\u001b[0m \u001b[0;34m\u001b[0m\u001b[0m\n\u001b[1;32m   1246\u001b[0m             \u001b[0;31m# update tree leaves\u001b[0m\u001b[0;34m\u001b[0m\u001b[0;34m\u001b[0m\u001b[0;34m\u001b[0m\u001b[0m\n",
            "\u001b[0;32m/usr/local/lib/python3.6/dist-packages/sklearn/tree/tree.py\u001b[0m in \u001b[0;36mfit\u001b[0;34m(self, X, y, sample_weight, check_input, X_idx_sorted)\u001b[0m\n\u001b[1;32m   1116\u001b[0m             presort=presort)\n\u001b[1;32m   1117\u001b[0m \u001b[0;34m\u001b[0m\u001b[0m\n\u001b[0;32m-> 1118\u001b[0;31m     def fit(self, X, y, sample_weight=None, check_input=True,\n\u001b[0m\u001b[1;32m   1119\u001b[0m             X_idx_sorted=None):\n\u001b[1;32m   1120\u001b[0m         \"\"\"Build a decision tree regressor from the training set (X, y).\n",
            "\u001b[0;31mKeyboardInterrupt\u001b[0m: "
          ]
        }
      ]
    },
    {
      "cell_type": "code",
      "metadata": {
        "id": "e90579oq0iig",
        "colab_type": "code",
        "colab": {}
      },
      "source": [
        "clf_gbt.best_params_"
      ],
      "execution_count": 0,
      "outputs": []
    },
    {
      "cell_type": "code",
      "metadata": {
        "colab_type": "code",
        "id": "IOofXbOBVzLf",
        "colab": {}
      },
      "source": [
        "clf_gbt.best_score_"
      ],
      "execution_count": 0,
      "outputs": []
    },
    {
      "cell_type": "markdown",
      "metadata": {
        "id": "a_KSF_a_-c_C",
        "colab_type": "text"
      },
      "source": [
        "### Ensamblaje de modelos"
      ]
    },
    {
      "cell_type": "markdown",
      "metadata": {
        "id": "Mfd-8tun-f-H",
        "colab_type": "text"
      },
      "source": [
        "Una vez que tenemos ya una buena serie de modelos creados, y con sus métricas establecidas, vamos a intentar combinarlos para conseguir obtener mejores resultados. En primera instancia vamos a intentar crear un VottingClassifier para intentar combinar los dos clasificadores que nos dieron mejores resultados. Como podemos ver, si juntamos el Gradient Boosted Tree con el XGBoost (el mejor clasificador hasta ahora), no obtenemos mejores resultados que con el Random Forest solo."
      ]
    },
    {
      "cell_type": "code",
      "metadata": {
        "id": "XoHyoC4Y0ii7",
        "colab_type": "code",
        "colab": {}
      },
      "source": [
        "clf_xg.best_params_"
      ],
      "execution_count": 0,
      "outputs": []
    },
    {
      "cell_type": "code",
      "metadata": {
        "id": "ZJ4yEGXH0ii-",
        "colab_type": "code",
        "colab": {}
      },
      "source": [
        "clf_gbt.best_params_"
      ],
      "execution_count": 0,
      "outputs": []
    },
    {
      "cell_type": "code",
      "metadata": {
        "colab_type": "code",
        "id": "6AHK_YSfVzC9",
        "colab": {}
      },
      "source": [
        "clf_votting = VotingClassifier(estimators=[('xgboost', XGBClassifier(learning_rate = 0.08, max_depth = 3, n_estimators = 100)), \n",
        "                                           ('gbt', ensemble.GradientBoostingClassifier(max_depth = 2, max_leaf_nodes = 5, min_samples_leaf = 4, n_estimators = 1300))])"
      ],
      "execution_count": 0,
      "outputs": []
    },
    {
      "cell_type": "code",
      "metadata": {
        "colab_type": "code",
        "id": "zUB6HBMeVzA-",
        "scrolled": true,
        "colab": {}
      },
      "source": [
        "#para entrenar al sistema utilizaremos una validación cruzada\n",
        "\n",
        "cross_val_score(clf_votting, x_upgrade, y, cv = 10, scoring = make_scorer(classification_report_with_accuracy_score)).mean()"
      ],
      "execution_count": 0,
      "outputs": []
    },
    {
      "cell_type": "markdown",
      "metadata": {
        "id": "S6r6MzP--pmP",
        "colab_type": "text"
      },
      "source": [
        "Si por otro lado juntamos el mejor clasificador que hemos obtenido, el XGBoost, con el Random Forest, podemos ver que mejoramos los resultados con el intento anterior, pero no llegamos a superar los resultados obtenidos con el XGBoost por separado."
      ]
    },
    {
      "cell_type": "code",
      "metadata": {
        "colab_type": "code",
        "id": "ldNZxpFES0RQ",
        "colab": {},
        "outputId": "b69cfd97-b9c1-42e8-8a16-fa7a79ce83bc"
      },
      "source": [
        "clf_rf.best_params_"
      ],
      "execution_count": 0,
      "outputs": [
        {
          "output_type": "execute_result",
          "data": {
            "text/plain": [
              "{'max_depth': 8, 'n_estimators': 220}"
            ]
          },
          "metadata": {
            "tags": []
          },
          "execution_count": 93
        }
      ]
    },
    {
      "cell_type": "code",
      "metadata": {
        "id": "t4M-4ybt0ijb",
        "colab_type": "code",
        "colab": {}
      },
      "source": [
        "clf_votting_v2 = VotingClassifier(estimators=[('xgboost', XGBClassifier(learning_rate = 0.08, max_depth = 3, n_estimators = 100)), \n",
        "                                           ('rf', RandomForestClassifier(min_samples_leaf = 4, max_depth = 9, n_estimators = 80))])"
      ],
      "execution_count": 0,
      "outputs": []
    },
    {
      "cell_type": "code",
      "metadata": {
        "scrolled": true,
        "id": "q0SSHeh30ijc",
        "colab_type": "code",
        "colab": {},
        "outputId": "21056b4f-31ca-4447-f088-b10dfef52b31"
      },
      "source": [
        "cross_val_score(clf_votting_v2, x_upgrade, y, cv = 10, scoring = make_scorer(classification_report_with_accuracy_score)).mean()"
      ],
      "execution_count": 0,
      "outputs": [
        {
          "output_type": "stream",
          "text": [
            "              precision    recall  f1-score   support\n",
            "\n",
            "          No       0.71      0.87      0.78        23\n",
            "         Yes       0.84      0.67      0.74        24\n",
            "\n",
            "   micro avg       0.77      0.77      0.77        47\n",
            "   macro avg       0.78      0.77      0.76        47\n",
            "weighted avg       0.78      0.77      0.76        47\n",
            "\n",
            "              precision    recall  f1-score   support\n",
            "\n",
            "          No       0.76      0.70      0.73        23\n",
            "         Yes       0.72      0.78      0.75        23\n",
            "\n",
            "   micro avg       0.74      0.74      0.74        46\n",
            "   macro avg       0.74      0.74      0.74        46\n",
            "weighted avg       0.74      0.74      0.74        46\n",
            "\n",
            "              precision    recall  f1-score   support\n",
            "\n",
            "          No       0.75      0.91      0.82        23\n",
            "         Yes       0.89      0.70      0.78        23\n",
            "\n",
            "   micro avg       0.80      0.80      0.80        46\n",
            "   macro avg       0.82      0.80      0.80        46\n",
            "weighted avg       0.82      0.80      0.80        46\n",
            "\n",
            "              precision    recall  f1-score   support\n",
            "\n",
            "          No       0.62      0.78      0.69        23\n",
            "         Yes       0.71      0.52      0.60        23\n",
            "\n",
            "   micro avg       0.65      0.65      0.65        46\n",
            "   macro avg       0.66      0.65      0.65        46\n",
            "weighted avg       0.66      0.65      0.65        46\n",
            "\n",
            "              precision    recall  f1-score   support\n",
            "\n",
            "          No       0.68      0.74      0.71        23\n",
            "         Yes       0.71      0.65      0.68        23\n",
            "\n",
            "   micro avg       0.70      0.70      0.70        46\n",
            "   macro avg       0.70      0.70      0.70        46\n",
            "weighted avg       0.70      0.70      0.70        46\n",
            "\n",
            "              precision    recall  f1-score   support\n",
            "\n",
            "          No       0.75      0.91      0.82        23\n",
            "         Yes       0.89      0.70      0.78        23\n",
            "\n",
            "   micro avg       0.80      0.80      0.80        46\n",
            "   macro avg       0.82      0.80      0.80        46\n",
            "weighted avg       0.82      0.80      0.80        46\n",
            "\n",
            "              precision    recall  f1-score   support\n",
            "\n",
            "          No       0.67      0.78      0.72        23\n",
            "         Yes       0.74      0.61      0.67        23\n",
            "\n",
            "   micro avg       0.70      0.70      0.70        46\n",
            "   macro avg       0.70      0.70      0.69        46\n",
            "weighted avg       0.70      0.70      0.69        46\n",
            "\n",
            "              precision    recall  f1-score   support\n",
            "\n",
            "          No       0.79      0.83      0.81        23\n",
            "         Yes       0.82      0.78      0.80        23\n",
            "\n",
            "   micro avg       0.80      0.80      0.80        46\n",
            "   macro avg       0.80      0.80      0.80        46\n",
            "weighted avg       0.80      0.80      0.80        46\n",
            "\n",
            "              precision    recall  f1-score   support\n",
            "\n",
            "          No       0.82      0.78      0.80        23\n",
            "         Yes       0.79      0.83      0.81        23\n",
            "\n",
            "   micro avg       0.80      0.80      0.80        46\n",
            "   macro avg       0.80      0.80      0.80        46\n",
            "weighted avg       0.80      0.80      0.80        46\n",
            "\n",
            "              precision    recall  f1-score   support\n",
            "\n",
            "          No       0.73      0.83      0.78        23\n",
            "         Yes       0.80      0.70      0.74        23\n",
            "\n",
            "   micro avg       0.76      0.76      0.76        46\n",
            "   macro avg       0.77      0.76      0.76        46\n",
            "weighted avg       0.77      0.76      0.76        46\n",
            "\n"
          ],
          "name": "stdout"
        },
        {
          "output_type": "execute_result",
          "data": {
            "text/plain": [
              "0.7526827012025902"
            ]
          },
          "metadata": {
            "tags": []
          },
          "execution_count": 100
        }
      ]
    },
    {
      "cell_type": "markdown",
      "metadata": {
        "id": "vcySQd430ijp",
        "colab_type": "text"
      },
      "source": [
        "Como último intento, vamos a intentar juntar los tres clasificadores en uno solo, para comprobar los resultados que obtenemos. Como podemos ver, se sigue notando una mejoría, pero seguimos sin superar el 76,35 % del accuracy obtenido con el XGBoost"
      ]
    },
    {
      "cell_type": "code",
      "metadata": {
        "id": "ibrswzAR0ijq",
        "colab_type": "code",
        "colab": {}
      },
      "source": [
        "clf_votting_v3 = VotingClassifier(estimators=[('xgboost', XGBClassifier(learning_rate = 0.08, max_depth = 3, n_estimators = 100)), \n",
        "                                           ('rf', RandomForestClassifier(min_samples_leaf = 4, max_depth = 9, n_estimators = 80)),\n",
        "                                           ('gbt', ensemble.GradientBoostingClassifier(max_depth = 2, max_leaf_nodes = 5, min_samples_leaf = 4, n_estimators = 1300))])"
      ],
      "execution_count": 0,
      "outputs": []
    },
    {
      "cell_type": "code",
      "metadata": {
        "scrolled": true,
        "id": "wY8R-mWh0iju",
        "colab_type": "code",
        "colab": {},
        "outputId": "ccee7b7b-aa32-4a55-970b-c8e490701560"
      },
      "source": [
        "cross_val_score(clf_votting_v3, x_upgrade, y, cv = 10, scoring = make_scorer(classification_report_with_accuracy_score)).mean()"
      ],
      "execution_count": 0,
      "outputs": [
        {
          "output_type": "stream",
          "text": [
            "              precision    recall  f1-score   support\n",
            "\n",
            "          No       0.70      0.83      0.76        23\n",
            "         Yes       0.80      0.67      0.73        24\n",
            "\n",
            "   micro avg       0.74      0.74      0.74        47\n",
            "   macro avg       0.75      0.75      0.74        47\n",
            "weighted avg       0.75      0.74      0.74        47\n",
            "\n",
            "              precision    recall  f1-score   support\n",
            "\n",
            "          No       0.80      0.70      0.74        23\n",
            "         Yes       0.73      0.83      0.78        23\n",
            "\n",
            "   micro avg       0.76      0.76      0.76        46\n",
            "   macro avg       0.77      0.76      0.76        46\n",
            "weighted avg       0.77      0.76      0.76        46\n",
            "\n",
            "              precision    recall  f1-score   support\n",
            "\n",
            "          No       0.77      0.87      0.82        23\n",
            "         Yes       0.85      0.74      0.79        23\n",
            "\n",
            "   micro avg       0.80      0.80      0.80        46\n",
            "   macro avg       0.81      0.80      0.80        46\n",
            "weighted avg       0.81      0.80      0.80        46\n",
            "\n",
            "              precision    recall  f1-score   support\n",
            "\n",
            "          No       0.62      0.78      0.69        23\n",
            "         Yes       0.71      0.52      0.60        23\n",
            "\n",
            "   micro avg       0.65      0.65      0.65        46\n",
            "   macro avg       0.66      0.65      0.65        46\n",
            "weighted avg       0.66      0.65      0.65        46\n",
            "\n",
            "              precision    recall  f1-score   support\n",
            "\n",
            "          No       0.74      0.74      0.74        23\n",
            "         Yes       0.74      0.74      0.74        23\n",
            "\n",
            "   micro avg       0.74      0.74      0.74        46\n",
            "   macro avg       0.74      0.74      0.74        46\n",
            "weighted avg       0.74      0.74      0.74        46\n",
            "\n",
            "              precision    recall  f1-score   support\n",
            "\n",
            "          No       0.76      0.83      0.79        23\n",
            "         Yes       0.81      0.74      0.77        23\n",
            "\n",
            "   micro avg       0.78      0.78      0.78        46\n",
            "   macro avg       0.78      0.78      0.78        46\n",
            "weighted avg       0.78      0.78      0.78        46\n",
            "\n",
            "              precision    recall  f1-score   support\n",
            "\n",
            "          No       0.72      0.78      0.75        23\n",
            "         Yes       0.76      0.70      0.73        23\n",
            "\n",
            "   micro avg       0.74      0.74      0.74        46\n",
            "   macro avg       0.74      0.74      0.74        46\n",
            "weighted avg       0.74      0.74      0.74        46\n",
            "\n",
            "              precision    recall  f1-score   support\n",
            "\n",
            "          No       0.84      0.70      0.76        23\n",
            "         Yes       0.74      0.87      0.80        23\n",
            "\n",
            "   micro avg       0.78      0.78      0.78        46\n",
            "   macro avg       0.79      0.78      0.78        46\n",
            "weighted avg       0.79      0.78      0.78        46\n",
            "\n",
            "              precision    recall  f1-score   support\n",
            "\n",
            "          No       0.85      0.74      0.79        23\n",
            "         Yes       0.77      0.87      0.82        23\n",
            "\n",
            "   micro avg       0.80      0.80      0.80        46\n",
            "   macro avg       0.81      0.80      0.80        46\n",
            "weighted avg       0.81      0.80      0.80        46\n",
            "\n",
            "              precision    recall  f1-score   support\n",
            "\n",
            "          No       0.78      0.78      0.78        23\n",
            "         Yes       0.78      0.78      0.78        23\n",
            "\n",
            "   micro avg       0.78      0.78      0.78        46\n",
            "   macro avg       0.78      0.78      0.78        46\n",
            "weighted avg       0.78      0.78      0.78        46\n",
            "\n"
          ],
          "name": "stdout"
        },
        {
          "output_type": "execute_result",
          "data": {
            "text/plain": [
              "0.7592506938020351"
            ]
          },
          "metadata": {
            "tags": []
          },
          "execution_count": 104
        }
      ]
    },
    {
      "cell_type": "markdown",
      "metadata": {
        "id": "KaqbPi9p0ij1",
        "colab_type": "text"
      },
      "source": [
        "### Bagging"
      ]
    },
    {
      "cell_type": "markdown",
      "metadata": {
        "id": "-feZAQJr0ij1",
        "colab_type": "text"
      },
      "source": [
        "Una vez hemos terminado de probar modelos, vamos a tratar de mejorar el Decision Tree con la técnica del Bagging. Como podemos ver, mejoramos un poco los resultados obtenidos pero sin llegar a los resultados obtenidos por el Random Forest ni, por supuesto, por el XGBoost."
      ]
    },
    {
      "cell_type": "code",
      "metadata": {
        "id": "U1tCBnzj0ij2",
        "colab_type": "code",
        "colab": {},
        "outputId": "976f53bf-9831-42ab-c75e-56754d96c49f"
      },
      "source": [
        "clf_dt.best_params_"
      ],
      "execution_count": 0,
      "outputs": [
        {
          "output_type": "execute_result",
          "data": {
            "text/plain": [
              "{'max_depth': 6, 'min_samples_leaf': 3}"
            ]
          },
          "metadata": {
            "tags": []
          },
          "execution_count": 112
        }
      ]
    },
    {
      "cell_type": "code",
      "metadata": {
        "id": "yloKtXee0ij3",
        "colab_type": "code",
        "colab": {}
      },
      "source": [
        "clf_xbg_bag = BaggingClassifier(base_estimator=DecisionTreeClassifier(min_samples_leaf = 3, max_depth = 6), n_estimators=100, oob_score =True)"
      ],
      "execution_count": 0,
      "outputs": []
    },
    {
      "cell_type": "code",
      "metadata": {
        "scrolled": true,
        "id": "ziHpzqYE0ij5",
        "colab_type": "code",
        "colab": {},
        "outputId": "1560f818-2a89-464d-d9ec-248c870b24ac"
      },
      "source": [
        "cross_val_score(clf_xbg_bag, x_upgrade, y, cv = 10, scoring = make_scorer(classification_report_with_accuracy_score)).mean()"
      ],
      "execution_count": 0,
      "outputs": [
        {
          "output_type": "stream",
          "text": [
            "              precision    recall  f1-score   support\n",
            "\n",
            "          No       0.69      0.78      0.73        23\n",
            "         Yes       0.76      0.67      0.71        24\n",
            "\n",
            "   micro avg       0.72      0.72      0.72        47\n",
            "   macro avg       0.73      0.72      0.72        47\n",
            "weighted avg       0.73      0.72      0.72        47\n",
            "\n",
            "              precision    recall  f1-score   support\n",
            "\n",
            "          No       0.79      0.65      0.71        23\n",
            "         Yes       0.70      0.83      0.76        23\n",
            "\n",
            "   micro avg       0.74      0.74      0.74        46\n",
            "   macro avg       0.75      0.74      0.74        46\n",
            "weighted avg       0.75      0.74      0.74        46\n",
            "\n",
            "              precision    recall  f1-score   support\n",
            "\n",
            "          No       0.80      0.87      0.83        23\n",
            "         Yes       0.86      0.78      0.82        23\n",
            "\n",
            "   micro avg       0.83      0.83      0.83        46\n",
            "   macro avg       0.83      0.83      0.83        46\n",
            "weighted avg       0.83      0.83      0.83        46\n",
            "\n",
            "              precision    recall  f1-score   support\n",
            "\n",
            "          No       0.62      0.70      0.65        23\n",
            "         Yes       0.65      0.57      0.60        23\n",
            "\n",
            "   micro avg       0.63      0.63      0.63        46\n",
            "   macro avg       0.63      0.63      0.63        46\n",
            "weighted avg       0.63      0.63      0.63        46\n",
            "\n",
            "              precision    recall  f1-score   support\n",
            "\n",
            "          No       0.68      0.74      0.71        23\n",
            "         Yes       0.71      0.65      0.68        23\n",
            "\n",
            "   micro avg       0.70      0.70      0.70        46\n",
            "   macro avg       0.70      0.70      0.70        46\n",
            "weighted avg       0.70      0.70      0.70        46\n",
            "\n",
            "              precision    recall  f1-score   support\n",
            "\n",
            "          No       0.71      0.74      0.72        23\n",
            "         Yes       0.73      0.70      0.71        23\n",
            "\n",
            "   micro avg       0.72      0.72      0.72        46\n",
            "   macro avg       0.72      0.72      0.72        46\n",
            "weighted avg       0.72      0.72      0.72        46\n",
            "\n",
            "              precision    recall  f1-score   support\n",
            "\n",
            "          No       0.60      0.78      0.68        23\n",
            "         Yes       0.69      0.48      0.56        23\n",
            "\n",
            "   micro avg       0.63      0.63      0.63        46\n",
            "   macro avg       0.64      0.63      0.62        46\n",
            "weighted avg       0.64      0.63      0.62        46\n",
            "\n",
            "              precision    recall  f1-score   support\n",
            "\n",
            "          No       0.80      0.70      0.74        23\n",
            "         Yes       0.73      0.83      0.78        23\n",
            "\n",
            "   micro avg       0.76      0.76      0.76        46\n",
            "   macro avg       0.77      0.76      0.76        46\n",
            "weighted avg       0.77      0.76      0.76        46\n",
            "\n",
            "              precision    recall  f1-score   support\n",
            "\n",
            "          No       0.74      0.74      0.74        23\n",
            "         Yes       0.74      0.74      0.74        23\n",
            "\n",
            "   micro avg       0.74      0.74      0.74        46\n",
            "   macro avg       0.74      0.74      0.74        46\n",
            "weighted avg       0.74      0.74      0.74        46\n",
            "\n",
            "              precision    recall  f1-score   support\n",
            "\n",
            "          No       0.77      0.74      0.76        23\n",
            "         Yes       0.75      0.78      0.77        23\n",
            "\n",
            "   micro avg       0.76      0.76      0.76        46\n",
            "   macro avg       0.76      0.76      0.76        46\n",
            "weighted avg       0.76      0.76      0.76        46\n",
            "\n"
          ],
          "name": "stdout"
        },
        {
          "output_type": "execute_result",
          "data": {
            "text/plain": [
              "0.7223404255319149"
            ]
          },
          "metadata": {
            "tags": []
          },
          "execution_count": 114
        }
      ]
    },
    {
      "cell_type": "markdown",
      "metadata": {
        "id": "NqUrqYYy0ij8",
        "colab_type": "text"
      },
      "source": [
        "### Deep Learning"
      ]
    },
    {
      "cell_type": "markdown",
      "metadata": {
        "id": "9wCudAFb0ij8",
        "colab_type": "text"
      },
      "source": [
        "Con las nociones aprendidas durante el curso, vamos a intentar implementar una red neuronal capaz de superar los resultados obtenidos por el XGBoost, sin llegar a producir overfitting."
      ]
    },
    {
      "cell_type": "code",
      "metadata": {
        "id": "xN5JJvrINV__",
        "colab_type": "code",
        "colab": {
          "base_uri": "https://localhost:8080/",
          "height": 33
        },
        "outputId": "8bfb5436-3be7-4090-b02d-27c59138e387"
      },
      "source": [
        "x_upgrade.shape"
      ],
      "execution_count": 60,
      "outputs": [
        {
          "output_type": "execute_result",
          "data": {
            "text/plain": [
              "(461, 8)"
            ]
          },
          "metadata": {
            "tags": []
          },
          "execution_count": 60
        }
      ]
    },
    {
      "cell_type": "code",
      "metadata": {
        "id": "LQubJBFgZnKQ",
        "colab_type": "code",
        "colab": {}
      },
      "source": [
        "x_upgrade"
      ],
      "execution_count": 0,
      "outputs": []
    },
    {
      "cell_type": "markdown",
      "metadata": {
        "id": "RZE6lsUDYu8t",
        "colab_type": "text"
      },
      "source": [
        "Vamos a normalizar los datos de nuestro dataset para que sean más sencillos de tratar para nuestra red"
      ]
    },
    {
      "cell_type": "code",
      "metadata": {
        "id": "l2EyySOaaFpL",
        "colab_type": "code",
        "colab": {
          "base_uri": "https://localhost:8080/",
          "height": 84
        },
        "outputId": "f79ce615-1456-43aa-c443-563b43389b7c"
      },
      "source": [
        "x_upgrade.columns"
      ],
      "execution_count": 201,
      "outputs": [
        {
          "output_type": "execute_result",
          "data": {
            "text/plain": [
              "Index(['Max Depth', 'Max Curve', 'Max Variation Curve', 'Age', 'K Max',\n",
              "       'Paqui Min', 'Distance Between Max Curve and Min Paqui',\n",
              "       'Position of Most Curve Point Relative to Center', 'Max Depth Max'],\n",
              "      dtype='object')"
            ]
          },
          "metadata": {
            "tags": []
          },
          "execution_count": 201
        }
      ]
    },
    {
      "cell_type": "code",
      "metadata": {
        "id": "nkJ2Va0JYtOE",
        "colab_type": "code",
        "colab": {}
      },
      "source": [
        "x_upgrade['Max Depth Norm'] = x_upgrade['Max Depth'] / x_upgrade['Max Depth'].max()\n",
        "x_upgrade['Max Curve Norm'] = x_upgrade['Max Curve'] / x_upgrade['Max Curve'].max()\n",
        "x_upgrade['Max Variation Curve Norm'] = x_upgrade['Max Variation Curve'] / x_upgrade['Max Variation Curve'].max()\n",
        "x_upgrade['Age Norm'] = x_upgrade['Age'] / x_upgrade['Age'].max()\n",
        "x_upgrade['K Max Norm'] = x_upgrade['K Max'] / x_upgrade['K Max'].max()\n",
        "x_upgrade['Paqui Min Norm'] = x_upgrade['Paqui Min'] / x_upgrade['Paqui Min'].max()\n",
        "x_upgrade['Distance Between Max Curve and Min Paqui Norm'] = x_upgrade['Distance Between Max Curve and Min Paqui'] / x_upgrade['Distance Between Max Curve and Min Paqui'].max()\n",
        "x_upgrade['Position of Most Curve Point Relative to Center Norm'] = x_upgrade['Position of Most Curve Point Relative to Center'] / x_upgrade['Position of Most Curve Point Relative to Center'].max()"
      ],
      "execution_count": 0,
      "outputs": []
    },
    {
      "cell_type": "code",
      "metadata": {
        "id": "6CxB1GYLbLZ5",
        "colab_type": "code",
        "colab": {}
      },
      "source": [
        "x_upgrade_dl = x_upgrade[['Max Depth Norm', 'Max Curve Norm', 'Max Variation Curve Norm', 'Age Norm', 'K Max Norm', 'Paqui Min Norm', 'Distance Between Max Curve and Min Paqui Norm', 'Position of Most Curve Point Relative to Center Norm']]"
      ],
      "execution_count": 0,
      "outputs": []
    },
    {
      "cell_type": "code",
      "metadata": {
        "id": "qp3hdOrfU7YK",
        "colab_type": "code",
        "colab": {}
      },
      "source": [
        "x_train_list = x_upgrade_dl.values\n",
        "y_cat = y.values\n",
        "y_list = y.values\n",
        "y_cat = utils.to_categorical(y_cat)"
      ],
      "execution_count": 0,
      "outputs": []
    },
    {
      "cell_type": "markdown",
      "metadata": {
        "id": "0cjVo-1mdgIS",
        "colab_type": "text"
      },
      "source": [
        "Vamos a utilizar esta función enseñada durante el curso para ir comprobando los resultados que vamos obteniendo"
      ]
    },
    {
      "cell_type": "code",
      "metadata": {
        "id": "S1lVuK6MddXz",
        "colab_type": "code",
        "colab": {}
      },
      "source": [
        "def plot_metric(history, metric):\n",
        "    history_dict = history.history\n",
        "    values = history_dict[metric]\n",
        "    if 'val_' + metric in history_dict.keys():  \n",
        "        val_values = history_dict['val_' + metric]\n",
        "\n",
        "    epochs = range(1, len(values) + 1)\n",
        "\n",
        "    if 'val_' + metric in history_dict.keys():  \n",
        "        plt.plot(epochs, val_values, label='Validation')\n",
        "    plt.semilogy(epochs, values, label='Training')\n",
        "\n",
        "    if 'val_' + metric in history_dict.keys():  \n",
        "        plt.title('Training and validation %s' % metric)\n",
        "    else:\n",
        "        plt.title('Training %s' % metric)\n",
        "    plt.xlabel('Epochs')\n",
        "    plt.ylabel(metric.capitalize())\n",
        "    plt.legend()\n",
        "    plt.grid()\n",
        "\n",
        "    plt.show()  "
      ],
      "execution_count": 0,
      "outputs": []
    },
    {
      "cell_type": "markdown",
      "metadata": {
        "id": "ldA4UXIWPTiV",
        "colab_type": "text"
      },
      "source": [
        "Vamos a intentar crear una red neuronal sencilla para observar los resultados obtenidos"
      ]
    },
    {
      "cell_type": "code",
      "metadata": {
        "id": "SBoNrh8B0ij9",
        "colab_type": "code",
        "colab": {}
      },
      "source": [
        "def build_model():\n",
        "  m = models.Sequential()\n",
        "  m.add(layers.Dense(32, input_shape = (8, ), activation='relu'))\n",
        "  m.add(layers.Dense(16, activation='relu'))\n",
        "  m.add(layers.Dense(2, activation='softmax'))\n",
        "  return m"
      ],
      "execution_count": 0,
      "outputs": []
    },
    {
      "cell_type": "code",
      "metadata": {
        "id": "msZBLzOu0ij_",
        "colab_type": "code",
        "colab": {}
      },
      "source": [
        "model = build_model()"
      ],
      "execution_count": 0,
      "outputs": []
    },
    {
      "cell_type": "code",
      "metadata": {
        "id": "Kyq1KfWs0ikB",
        "colab_type": "code",
        "colab": {}
      },
      "source": [
        "model.compile(\n",
        "    optimizer=optimizers.rmsprop(),\n",
        "    loss=losses.categorical_crossentropy,\n",
        "    metrics=[metrics.categorical_accuracy]   \n",
        "    )"
      ],
      "execution_count": 0,
      "outputs": []
    },
    {
      "cell_type": "code",
      "metadata": {
        "id": "m8PrDZ6P0ikE",
        "colab_type": "code",
        "colab": {
          "base_uri": "https://localhost:8080/",
          "height": 234
        },
        "outputId": "e5de1e29-3850-4733-c8a7-56fa2e9f84fe"
      },
      "source": [
        "model.summary()"
      ],
      "execution_count": 271,
      "outputs": [
        {
          "output_type": "stream",
          "text": [
            "_________________________________________________________________\n",
            "Layer (type)                 Output Shape              Param #   \n",
            "=================================================================\n",
            "dense_40 (Dense)             (None, 32)                288       \n",
            "_________________________________________________________________\n",
            "dense_41 (Dense)             (None, 16)                528       \n",
            "_________________________________________________________________\n",
            "dense_42 (Dense)             (None, 2)                 34        \n",
            "=================================================================\n",
            "Total params: 850\n",
            "Trainable params: 850\n",
            "Non-trainable params: 0\n",
            "_________________________________________________________________\n"
          ],
          "name": "stdout"
        }
      ]
    },
    {
      "cell_type": "code",
      "metadata": {
        "id": "BvA1FctP0ikM",
        "colab_type": "code",
        "colab": {
          "base_uri": "https://localhost:8080/",
          "height": 1372
        },
        "outputId": "2c6fa6fc-06b7-48c7-81b6-c94f3978c518"
      },
      "source": [
        "h = model.fit(x_train_list, y_cat, epochs=40, batch_size=10, validation_split=.2)"
      ],
      "execution_count": 272,
      "outputs": [
        {
          "output_type": "stream",
          "text": [
            "Train on 368 samples, validate on 93 samples\n",
            "Epoch 1/40\n",
            "368/368 [==============================] - 1s 2ms/step - loss: 0.6829 - categorical_accuracy: 0.5870 - val_loss: 1.0033 - val_categorical_accuracy: 0.0000e+00\n",
            "Epoch 2/40\n",
            "368/368 [==============================] - 0s 324us/step - loss: 0.6668 - categorical_accuracy: 0.6277 - val_loss: 0.9920 - val_categorical_accuracy: 0.0000e+00\n",
            "Epoch 3/40\n",
            "368/368 [==============================] - 0s 344us/step - loss: 0.6554 - categorical_accuracy: 0.6277 - val_loss: 0.9496 - val_categorical_accuracy: 0.0000e+00\n",
            "Epoch 4/40\n",
            "368/368 [==============================] - 0s 332us/step - loss: 0.6498 - categorical_accuracy: 0.6277 - val_loss: 0.8872 - val_categorical_accuracy: 0.0000e+00\n",
            "Epoch 5/40\n",
            "368/368 [==============================] - 0s 332us/step - loss: 0.6453 - categorical_accuracy: 0.6277 - val_loss: 0.9660 - val_categorical_accuracy: 0.0000e+00\n",
            "Epoch 6/40\n",
            "368/368 [==============================] - 0s 372us/step - loss: 0.6388 - categorical_accuracy: 0.6277 - val_loss: 1.0098 - val_categorical_accuracy: 0.0000e+00\n",
            "Epoch 7/40\n",
            "368/368 [==============================] - 0s 326us/step - loss: 0.6339 - categorical_accuracy: 0.6277 - val_loss: 1.0406 - val_categorical_accuracy: 0.0000e+00\n",
            "Epoch 8/40\n",
            "368/368 [==============================] - 0s 319us/step - loss: 0.6311 - categorical_accuracy: 0.6277 - val_loss: 0.9524 - val_categorical_accuracy: 0.0000e+00\n",
            "Epoch 9/40\n",
            "368/368 [==============================] - 0s 342us/step - loss: 0.6217 - categorical_accuracy: 0.6386 - val_loss: 0.9586 - val_categorical_accuracy: 0.0000e+00\n",
            "Epoch 10/40\n",
            "368/368 [==============================] - 0s 325us/step - loss: 0.6195 - categorical_accuracy: 0.6304 - val_loss: 0.9161 - val_categorical_accuracy: 0.0215\n",
            "Epoch 11/40\n",
            "368/368 [==============================] - 0s 367us/step - loss: 0.6143 - categorical_accuracy: 0.6250 - val_loss: 0.8398 - val_categorical_accuracy: 0.1505\n",
            "Epoch 12/40\n",
            "368/368 [==============================] - 0s 334us/step - loss: 0.6079 - categorical_accuracy: 0.6522 - val_loss: 0.9277 - val_categorical_accuracy: 0.0645\n",
            "Epoch 13/40\n",
            "368/368 [==============================] - 0s 329us/step - loss: 0.6056 - categorical_accuracy: 0.6332 - val_loss: 0.8772 - val_categorical_accuracy: 0.1398\n",
            "Epoch 14/40\n",
            "368/368 [==============================] - 0s 341us/step - loss: 0.5982 - categorical_accuracy: 0.6576 - val_loss: 0.9520 - val_categorical_accuracy: 0.0860\n",
            "Epoch 15/40\n",
            "368/368 [==============================] - 0s 317us/step - loss: 0.5913 - categorical_accuracy: 0.6332 - val_loss: 0.7288 - val_categorical_accuracy: 0.4839\n",
            "Epoch 16/40\n",
            "368/368 [==============================] - 0s 320us/step - loss: 0.5859 - categorical_accuracy: 0.6739 - val_loss: 0.7952 - val_categorical_accuracy: 0.3871\n",
            "Epoch 17/40\n",
            "368/368 [==============================] - 0s 322us/step - loss: 0.5838 - categorical_accuracy: 0.6576 - val_loss: 0.8372 - val_categorical_accuracy: 0.3333\n",
            "Epoch 18/40\n",
            "368/368 [==============================] - 0s 315us/step - loss: 0.5770 - categorical_accuracy: 0.6793 - val_loss: 0.9156 - val_categorical_accuracy: 0.1935\n",
            "Epoch 19/40\n",
            "368/368 [==============================] - 0s 374us/step - loss: 0.5703 - categorical_accuracy: 0.6957 - val_loss: 0.8232 - val_categorical_accuracy: 0.3763\n",
            "Epoch 20/40\n",
            "368/368 [==============================] - 0s 317us/step - loss: 0.5673 - categorical_accuracy: 0.7065 - val_loss: 0.8342 - val_categorical_accuracy: 0.3871\n",
            "Epoch 21/40\n",
            "368/368 [==============================] - 0s 360us/step - loss: 0.5612 - categorical_accuracy: 0.6821 - val_loss: 0.6616 - val_categorical_accuracy: 0.6882\n",
            "Epoch 22/40\n",
            "368/368 [==============================] - 0s 353us/step - loss: 0.5606 - categorical_accuracy: 0.7120 - val_loss: 0.8680 - val_categorical_accuracy: 0.3548\n",
            "Epoch 23/40\n",
            "368/368 [==============================] - 0s 347us/step - loss: 0.5565 - categorical_accuracy: 0.6875 - val_loss: 0.8297 - val_categorical_accuracy: 0.4086\n",
            "Epoch 24/40\n",
            "368/368 [==============================] - 0s 334us/step - loss: 0.5531 - categorical_accuracy: 0.7038 - val_loss: 0.7749 - val_categorical_accuracy: 0.4946\n",
            "Epoch 25/40\n",
            "368/368 [==============================] - 0s 332us/step - loss: 0.5527 - categorical_accuracy: 0.6957 - val_loss: 0.7090 - val_categorical_accuracy: 0.6129\n",
            "Epoch 26/40\n",
            "368/368 [==============================] - 0s 324us/step - loss: 0.5483 - categorical_accuracy: 0.7011 - val_loss: 0.9353 - val_categorical_accuracy: 0.3226\n",
            "Epoch 27/40\n",
            "368/368 [==============================] - 0s 382us/step - loss: 0.5469 - categorical_accuracy: 0.7011 - val_loss: 0.8298 - val_categorical_accuracy: 0.4409\n",
            "Epoch 28/40\n",
            "368/368 [==============================] - 0s 321us/step - loss: 0.5430 - categorical_accuracy: 0.7092 - val_loss: 0.8116 - val_categorical_accuracy: 0.4731\n",
            "Epoch 29/40\n",
            "368/368 [==============================] - 0s 320us/step - loss: 0.5411 - categorical_accuracy: 0.7255 - val_loss: 0.7611 - val_categorical_accuracy: 0.5376\n",
            "Epoch 30/40\n",
            "368/368 [==============================] - 0s 330us/step - loss: 0.5321 - categorical_accuracy: 0.7147 - val_loss: 0.7228 - val_categorical_accuracy: 0.5914\n",
            "Epoch 31/40\n",
            "368/368 [==============================] - 0s 324us/step - loss: 0.5385 - categorical_accuracy: 0.7418 - val_loss: 0.7282 - val_categorical_accuracy: 0.6129\n",
            "Epoch 32/40\n",
            "368/368 [==============================] - 0s 320us/step - loss: 0.5342 - categorical_accuracy: 0.7201 - val_loss: 0.8315 - val_categorical_accuracy: 0.4731\n",
            "Epoch 33/40\n",
            "368/368 [==============================] - 0s 320us/step - loss: 0.5314 - categorical_accuracy: 0.7255 - val_loss: 0.6571 - val_categorical_accuracy: 0.7204\n",
            "Epoch 34/40\n",
            "368/368 [==============================] - 0s 314us/step - loss: 0.5312 - categorical_accuracy: 0.7310 - val_loss: 0.8727 - val_categorical_accuracy: 0.4624\n",
            "Epoch 35/40\n",
            "368/368 [==============================] - 0s 327us/step - loss: 0.5255 - categorical_accuracy: 0.7337 - val_loss: 0.9142 - val_categorical_accuracy: 0.4086\n",
            "Epoch 36/40\n",
            "368/368 [==============================] - 0s 346us/step - loss: 0.5243 - categorical_accuracy: 0.7283 - val_loss: 0.9126 - val_categorical_accuracy: 0.4086\n",
            "Epoch 37/40\n",
            "368/368 [==============================] - 0s 341us/step - loss: 0.5280 - categorical_accuracy: 0.7337 - val_loss: 0.7050 - val_categorical_accuracy: 0.6452\n",
            "Epoch 38/40\n",
            "368/368 [==============================] - 0s 325us/step - loss: 0.5255 - categorical_accuracy: 0.7283 - val_loss: 0.7941 - val_categorical_accuracy: 0.5484\n",
            "Epoch 39/40\n",
            "368/368 [==============================] - 0s 333us/step - loss: 0.5253 - categorical_accuracy: 0.7174 - val_loss: 0.7257 - val_categorical_accuracy: 0.6022\n",
            "Epoch 40/40\n",
            "368/368 [==============================] - 0s 313us/step - loss: 0.5245 - categorical_accuracy: 0.7391 - val_loss: 0.7620 - val_categorical_accuracy: 0.5806\n"
          ],
          "name": "stdout"
        }
      ]
    },
    {
      "cell_type": "markdown",
      "metadata": {
        "id": "yl8OI97egcqI",
        "colab_type": "text"
      },
      "source": [
        "Como podemos ver, con esta red sencilla no nos acercamos nada a los resultados obtenidos por el XGBoost."
      ]
    },
    {
      "cell_type": "code",
      "metadata": {
        "id": "T21ZiQRx0ikP",
        "colab_type": "code",
        "colab": {
          "base_uri": "https://localhost:8080/",
          "height": 294
        },
        "outputId": "0be13ab2-cfc7-417b-ef56-8946a07d71bc"
      },
      "source": [
        "plot_metric(h, 'loss')"
      ],
      "execution_count": 273,
      "outputs": [
        {
          "output_type": "display_data",
          "data": {
            "image/png": "[encoded data removed]",
            "text/plain": [
              "<Figure size 432x288 with 1 Axes>"
            ]
          },
          "metadata": {
            "tags": []
          }
        }
      ]
    },
    {
      "cell_type": "code",
      "metadata": {
        "id": "UBpR2Jez0ikR",
        "colab_type": "code",
        "colab": {
          "base_uri": "https://localhost:8080/",
          "height": 294
        },
        "outputId": "af5e726d-92ec-4283-86d4-13205621c9d4"
      },
      "source": [
        "plot_metric(h, 'categorical_accuracy')"
      ],
      "execution_count": 274,
      "outputs": [
        {
          "output_type": "display_data",
          "data": {
            "image/png": "[encoded data removed]",
            "text/plain": [
              "<Figure size 432x288 with 1 Axes>"
            ]
          },
          "metadata": {
            "tags": []
          }
        }
      ]
    },
    {
      "cell_type": "markdown",
      "metadata": {
        "id": "LQmEYZ-rgtlt",
        "colab_type": "text"
      },
      "source": [
        "Vamos a jugar un poco con la configuración del entrenamiento para conseguir encontrar la configuración más idonea."
      ]
    },
    {
      "cell_type": "code",
      "metadata": {
        "id": "AOM-qsiOegUA",
        "colab_type": "code",
        "colab": {
          "base_uri": "https://localhost:8080/",
          "height": 5942
        },
        "outputId": "05110051-adf9-48e6-f6fe-0b89f8c2c34f"
      },
      "source": [
        "model = build_model()\n",
        "model.compile(\n",
        "    optimizer=optimizers.rmsprop(),\n",
        "    loss=losses.categorical_crossentropy,\n",
        "    metrics=[metrics.categorical_accuracy]   \n",
        "    )\n",
        "h = model.fit(x_train_list, y_cat, epochs=160, batch_size=5, validation_split=.2)\n",
        "plot_metric(h, 'loss')\n",
        "plot_metric(h, 'categorical_accuracy')"
      ],
      "execution_count": 284,
      "outputs": [
        {
          "output_type": "stream",
          "text": [
            "Train on 368 samples, validate on 93 samples\n",
            "Epoch 1/160\n",
            "368/368 [==============================] - 1s 3ms/step - loss: 0.6806 - categorical_accuracy: 0.5734 - val_loss: 0.8616 - val_categorical_accuracy: 0.0000e+00\n",
            "Epoch 2/160\n",
            "368/368 [==============================] - 0s 732us/step - loss: 0.6566 - categorical_accuracy: 0.6277 - val_loss: 0.9376 - val_categorical_accuracy: 0.0000e+00\n",
            "Epoch 3/160\n",
            "368/368 [==============================] - 0s 671us/step - loss: 0.6473 - categorical_accuracy: 0.6277 - val_loss: 1.1228 - val_categorical_accuracy: 0.0000e+00\n",
            "Epoch 4/160\n",
            "368/368 [==============================] - 0s 727us/step - loss: 0.6450 - categorical_accuracy: 0.6277 - val_loss: 0.9360 - val_categorical_accuracy: 0.0000e+00\n",
            "Epoch 5/160\n",
            "368/368 [==============================] - 0s 701us/step - loss: 0.6376 - categorical_accuracy: 0.6277 - val_loss: 0.9440 - val_categorical_accuracy: 0.0000e+00\n",
            "Epoch 6/160\n",
            "368/368 [==============================] - 0s 681us/step - loss: 0.6339 - categorical_accuracy: 0.6277 - val_loss: 0.9655 - val_categorical_accuracy: 0.0000e+00\n",
            "Epoch 7/160\n",
            "368/368 [==============================] - 0s 677us/step - loss: 0.6283 - categorical_accuracy: 0.6332 - val_loss: 1.0078 - val_categorical_accuracy: 0.0000e+00\n",
            "Epoch 8/160\n",
            "368/368 [==============================] - 0s 654us/step - loss: 0.6207 - categorical_accuracy: 0.6277 - val_loss: 0.9867 - val_categorical_accuracy: 0.0000e+00\n",
            "Epoch 9/160\n",
            "368/368 [==============================] - 0s 696us/step - loss: 0.6147 - categorical_accuracy: 0.6277 - val_loss: 1.0102 - val_categorical_accuracy: 0.0000e+00\n",
            "Epoch 10/160\n",
            "368/368 [==============================] - 0s 659us/step - loss: 0.6069 - categorical_accuracy: 0.6603 - val_loss: 0.8468 - val_categorical_accuracy: 0.2688\n",
            "Epoch 11/160\n",
            "368/368 [==============================] - 0s 668us/step - loss: 0.5974 - categorical_accuracy: 0.6766 - val_loss: 0.7793 - val_categorical_accuracy: 0.4409\n",
            "Epoch 12/160\n",
            "368/368 [==============================] - 0s 624us/step - loss: 0.5951 - categorical_accuracy: 0.6793 - val_loss: 0.9119 - val_categorical_accuracy: 0.1935\n",
            "Epoch 13/160\n",
            "368/368 [==============================] - 0s 699us/step - loss: 0.5871 - categorical_accuracy: 0.6766 - val_loss: 0.7931 - val_categorical_accuracy: 0.4301\n",
            "Epoch 14/160\n",
            "368/368 [==============================] - 0s 690us/step - loss: 0.5802 - categorical_accuracy: 0.6848 - val_loss: 0.9624 - val_categorical_accuracy: 0.1935\n",
            "Epoch 15/160\n",
            "368/368 [==============================] - 0s 680us/step - loss: 0.5776 - categorical_accuracy: 0.6712 - val_loss: 0.8632 - val_categorical_accuracy: 0.3763\n",
            "Epoch 16/160\n",
            "368/368 [==============================] - 0s 684us/step - loss: 0.5654 - categorical_accuracy: 0.6984 - val_loss: 0.9626 - val_categorical_accuracy: 0.2366\n",
            "Epoch 17/160\n",
            "368/368 [==============================] - 0s 736us/step - loss: 0.5591 - categorical_accuracy: 0.7065 - val_loss: 0.8579 - val_categorical_accuracy: 0.3871\n",
            "Epoch 18/160\n",
            "368/368 [==============================] - 0s 754us/step - loss: 0.5547 - categorical_accuracy: 0.7092 - val_loss: 0.8136 - val_categorical_accuracy: 0.4516\n",
            "Epoch 19/160\n",
            "368/368 [==============================] - 0s 692us/step - loss: 0.5512 - categorical_accuracy: 0.7174 - val_loss: 0.8411 - val_categorical_accuracy: 0.4516\n",
            "Epoch 20/160\n",
            "368/368 [==============================] - 0s 685us/step - loss: 0.5431 - categorical_accuracy: 0.7283 - val_loss: 1.0271 - val_categorical_accuracy: 0.2581\n",
            "Epoch 21/160\n",
            "368/368 [==============================] - 0s 704us/step - loss: 0.5451 - categorical_accuracy: 0.7174 - val_loss: 0.9228 - val_categorical_accuracy: 0.3656\n",
            "Epoch 22/160\n",
            "368/368 [==============================] - 0s 665us/step - loss: 0.5416 - categorical_accuracy: 0.7310 - val_loss: 1.0151 - val_categorical_accuracy: 0.3011\n",
            "Epoch 23/160\n",
            "368/368 [==============================] - 0s 682us/step - loss: 0.5348 - categorical_accuracy: 0.7310 - val_loss: 0.8323 - val_categorical_accuracy: 0.4624\n",
            "Epoch 24/160\n",
            "368/368 [==============================] - 0s 679us/step - loss: 0.5326 - categorical_accuracy: 0.7364 - val_loss: 0.8097 - val_categorical_accuracy: 0.4946\n",
            "Epoch 25/160\n",
            "368/368 [==============================] - 0s 725us/step - loss: 0.5332 - categorical_accuracy: 0.7310 - val_loss: 0.8498 - val_categorical_accuracy: 0.4624\n",
            "Epoch 26/160\n",
            "368/368 [==============================] - 0s 682us/step - loss: 0.5298 - categorical_accuracy: 0.7310 - val_loss: 0.6512 - val_categorical_accuracy: 0.6882\n",
            "Epoch 27/160\n",
            "368/368 [==============================] - 0s 684us/step - loss: 0.5252 - categorical_accuracy: 0.7310 - val_loss: 0.6661 - val_categorical_accuracy: 0.6667\n",
            "Epoch 28/160\n",
            "368/368 [==============================] - 0s 651us/step - loss: 0.5214 - categorical_accuracy: 0.7446 - val_loss: 0.8719 - val_categorical_accuracy: 0.4301\n",
            "Epoch 29/160\n",
            "368/368 [==============================] - 0s 683us/step - loss: 0.5213 - categorical_accuracy: 0.7310 - val_loss: 0.6740 - val_categorical_accuracy: 0.6559\n",
            "Epoch 30/160\n",
            "368/368 [==============================] - 0s 657us/step - loss: 0.5150 - categorical_accuracy: 0.7527 - val_loss: 0.6059 - val_categorical_accuracy: 0.7097\n",
            "Epoch 31/160\n",
            "368/368 [==============================] - 0s 664us/step - loss: 0.5165 - categorical_accuracy: 0.7391 - val_loss: 0.9297 - val_categorical_accuracy: 0.3978\n",
            "Epoch 32/160\n",
            "368/368 [==============================] - 0s 653us/step - loss: 0.5159 - categorical_accuracy: 0.7391 - val_loss: 0.7557 - val_categorical_accuracy: 0.5591\n",
            "Epoch 33/160\n",
            "368/368 [==============================] - 0s 676us/step - loss: 0.5147 - categorical_accuracy: 0.7337 - val_loss: 0.6205 - val_categorical_accuracy: 0.7097\n",
            "Epoch 34/160\n",
            "368/368 [==============================] - 0s 642us/step - loss: 0.5131 - categorical_accuracy: 0.7337 - val_loss: 0.7898 - val_categorical_accuracy: 0.5376\n",
            "Epoch 35/160\n",
            "368/368 [==============================] - 0s 670us/step - loss: 0.5104 - categorical_accuracy: 0.7418 - val_loss: 0.7555 - val_categorical_accuracy: 0.5806\n",
            "Epoch 36/160\n",
            "368/368 [==============================] - 0s 645us/step - loss: 0.5098 - categorical_accuracy: 0.7364 - val_loss: 0.7056 - val_categorical_accuracy: 0.6237\n",
            "Epoch 37/160\n",
            "368/368 [==============================] - 0s 641us/step - loss: 0.5121 - categorical_accuracy: 0.7446 - val_loss: 0.6004 - val_categorical_accuracy: 0.7204\n",
            "Epoch 38/160\n",
            "368/368 [==============================] - 0s 681us/step - loss: 0.5086 - categorical_accuracy: 0.7446 - val_loss: 0.6709 - val_categorical_accuracy: 0.6559\n",
            "Epoch 39/160\n",
            "368/368 [==============================] - 0s 670us/step - loss: 0.5075 - categorical_accuracy: 0.7418 - val_loss: 0.8129 - val_categorical_accuracy: 0.5269\n",
            "Epoch 40/160\n",
            "368/368 [==============================] - 0s 641us/step - loss: 0.5065 - categorical_accuracy: 0.7446 - val_loss: 0.7366 - val_categorical_accuracy: 0.6022\n",
            "Epoch 41/160\n",
            "368/368 [==============================] - 0s 651us/step - loss: 0.5046 - categorical_accuracy: 0.7473 - val_loss: 0.7804 - val_categorical_accuracy: 0.5376\n",
            "Epoch 42/160\n",
            "368/368 [==============================] - 0s 683us/step - loss: 0.5050 - categorical_accuracy: 0.7337 - val_loss: 0.8053 - val_categorical_accuracy: 0.5376\n",
            "Epoch 43/160\n",
            "368/368 [==============================] - 0s 672us/step - loss: 0.5045 - categorical_accuracy: 0.7527 - val_loss: 0.8121 - val_categorical_accuracy: 0.5376\n",
            "Epoch 44/160\n",
            "368/368 [==============================] - 0s 657us/step - loss: 0.5036 - categorical_accuracy: 0.7636 - val_loss: 0.8652 - val_categorical_accuracy: 0.5161\n",
            "Epoch 45/160\n",
            "368/368 [==============================] - 0s 645us/step - loss: 0.5026 - categorical_accuracy: 0.7500 - val_loss: 0.5220 - val_categorical_accuracy: 0.7634\n",
            "Epoch 46/160\n",
            "368/368 [==============================] - 0s 676us/step - loss: 0.5009 - categorical_accuracy: 0.7582 - val_loss: 0.8056 - val_categorical_accuracy: 0.5376\n",
            "Epoch 47/160\n",
            "368/368 [==============================] - 0s 659us/step - loss: 0.5003 - categorical_accuracy: 0.7446 - val_loss: 0.6546 - val_categorical_accuracy: 0.6774\n",
            "Epoch 48/160\n",
            "368/368 [==============================] - 0s 651us/step - loss: 0.4943 - categorical_accuracy: 0.7446 - val_loss: 0.5985 - val_categorical_accuracy: 0.7097\n",
            "Epoch 49/160\n",
            "368/368 [==============================] - 0s 641us/step - loss: 0.4953 - categorical_accuracy: 0.7473 - val_loss: 0.9595 - val_categorical_accuracy: 0.4194\n",
            "Epoch 50/160\n",
            "368/368 [==============================] - 0s 684us/step - loss: 0.5023 - categorical_accuracy: 0.7500 - val_loss: 0.6263 - val_categorical_accuracy: 0.6882\n",
            "Epoch 51/160\n",
            "368/368 [==============================] - 0s 665us/step - loss: 0.5008 - categorical_accuracy: 0.7527 - val_loss: 0.6857 - val_categorical_accuracy: 0.6452\n",
            "Epoch 52/160\n",
            "368/368 [==============================] - 0s 644us/step - loss: 0.4959 - categorical_accuracy: 0.7527 - val_loss: 0.6407 - val_categorical_accuracy: 0.6882\n",
            "Epoch 53/160\n",
            "368/368 [==============================] - 0s 687us/step - loss: 0.4957 - categorical_accuracy: 0.7473 - val_loss: 0.7858 - val_categorical_accuracy: 0.5591\n",
            "Epoch 54/160\n",
            "368/368 [==============================] - 0s 706us/step - loss: 0.4976 - categorical_accuracy: 0.7582 - val_loss: 0.7774 - val_categorical_accuracy: 0.5376\n",
            "Epoch 55/160\n",
            "368/368 [==============================] - 0s 675us/step - loss: 0.4974 - categorical_accuracy: 0.7527 - val_loss: 0.7969 - val_categorical_accuracy: 0.5376\n",
            "Epoch 56/160\n",
            "368/368 [==============================] - 0s 655us/step - loss: 0.4952 - categorical_accuracy: 0.7418 - val_loss: 0.8141 - val_categorical_accuracy: 0.5376\n",
            "Epoch 57/160\n",
            "368/368 [==============================] - 0s 655us/step - loss: 0.4933 - categorical_accuracy: 0.7446 - val_loss: 0.7953 - val_categorical_accuracy: 0.5484\n",
            "Epoch 58/160\n",
            "368/368 [==============================] - 0s 687us/step - loss: 0.4889 - categorical_accuracy: 0.7663 - val_loss: 0.5889 - val_categorical_accuracy: 0.7097\n",
            "Epoch 59/160\n",
            "368/368 [==============================] - 0s 671us/step - loss: 0.4968 - categorical_accuracy: 0.7609 - val_loss: 0.6739 - val_categorical_accuracy: 0.6559\n",
            "Epoch 60/160\n",
            "368/368 [==============================] - 0s 704us/step - loss: 0.4924 - categorical_accuracy: 0.7636 - val_loss: 0.7512 - val_categorical_accuracy: 0.5914\n",
            "Epoch 61/160\n",
            "368/368 [==============================] - 0s 671us/step - loss: 0.4906 - categorical_accuracy: 0.7500 - val_loss: 0.4795 - val_categorical_accuracy: 0.7849\n",
            "Epoch 62/160\n",
            "368/368 [==============================] - 0s 694us/step - loss: 0.4987 - categorical_accuracy: 0.7582 - val_loss: 0.7407 - val_categorical_accuracy: 0.5806\n",
            "Epoch 63/160\n",
            "368/368 [==============================] - 0s 681us/step - loss: 0.4958 - categorical_accuracy: 0.7609 - val_loss: 0.7038 - val_categorical_accuracy: 0.6237\n",
            "Epoch 64/160\n",
            "368/368 [==============================] - 0s 666us/step - loss: 0.4958 - categorical_accuracy: 0.7690 - val_loss: 0.8006 - val_categorical_accuracy: 0.5484\n",
            "Epoch 65/160\n",
            "368/368 [==============================] - 0s 678us/step - loss: 0.4952 - categorical_accuracy: 0.7554 - val_loss: 0.7448 - val_categorical_accuracy: 0.5699\n",
            "Epoch 66/160\n",
            "368/368 [==============================] - 0s 689us/step - loss: 0.4864 - categorical_accuracy: 0.7527 - val_loss: 0.7921 - val_categorical_accuracy: 0.5591\n",
            "Epoch 67/160\n",
            "368/368 [==============================] - 0s 716us/step - loss: 0.4935 - categorical_accuracy: 0.7554 - val_loss: 0.6280 - val_categorical_accuracy: 0.6989\n",
            "Epoch 68/160\n",
            "368/368 [==============================] - 0s 698us/step - loss: 0.4840 - categorical_accuracy: 0.7418 - val_loss: 0.5723 - val_categorical_accuracy: 0.7204\n",
            "Epoch 69/160\n",
            "368/368 [==============================] - 0s 678us/step - loss: 0.4939 - categorical_accuracy: 0.7582 - val_loss: 0.5749 - val_categorical_accuracy: 0.7312\n",
            "Epoch 70/160\n",
            "368/368 [==============================] - 0s 679us/step - loss: 0.4925 - categorical_accuracy: 0.7609 - val_loss: 0.7464 - val_categorical_accuracy: 0.5914\n",
            "Epoch 71/160\n",
            "368/368 [==============================] - 0s 697us/step - loss: 0.4900 - categorical_accuracy: 0.7554 - val_loss: 0.7673 - val_categorical_accuracy: 0.5699\n",
            "Epoch 72/160\n",
            "368/368 [==============================] - 0s 657us/step - loss: 0.4920 - categorical_accuracy: 0.7690 - val_loss: 0.7761 - val_categorical_accuracy: 0.5591\n",
            "Epoch 73/160\n",
            "368/368 [==============================] - 0s 658us/step - loss: 0.4872 - categorical_accuracy: 0.7908 - val_loss: 0.6424 - val_categorical_accuracy: 0.6882\n",
            "Epoch 74/160\n",
            "368/368 [==============================] - 0s 649us/step - loss: 0.4849 - categorical_accuracy: 0.7582 - val_loss: 0.6954 - val_categorical_accuracy: 0.6559\n",
            "Epoch 75/160\n",
            "368/368 [==============================] - 0s 687us/step - loss: 0.4902 - categorical_accuracy: 0.7690 - val_loss: 0.6182 - val_categorical_accuracy: 0.6882\n",
            "Epoch 76/160\n",
            "368/368 [==============================] - 0s 654us/step - loss: 0.4914 - categorical_accuracy: 0.7582 - val_loss: 0.5791 - val_categorical_accuracy: 0.7312\n",
            "Epoch 77/160\n",
            "368/368 [==============================] - 0s 651us/step - loss: 0.4903 - categorical_accuracy: 0.7609 - val_loss: 0.7677 - val_categorical_accuracy: 0.5699\n",
            "Epoch 78/160\n",
            "368/368 [==============================] - 0s 648us/step - loss: 0.4860 - categorical_accuracy: 0.7527 - val_loss: 0.7674 - val_categorical_accuracy: 0.5699\n",
            "Epoch 79/160\n",
            "368/368 [==============================] - 0s 676us/step - loss: 0.4901 - categorical_accuracy: 0.7609 - val_loss: 0.6475 - val_categorical_accuracy: 0.6882\n",
            "Epoch 80/160\n",
            "368/368 [==============================] - 0s 649us/step - loss: 0.4870 - categorical_accuracy: 0.7582 - val_loss: 0.5829 - val_categorical_accuracy: 0.7204\n",
            "Epoch 81/160\n",
            "368/368 [==============================] - 0s 643us/step - loss: 0.4890 - categorical_accuracy: 0.7473 - val_loss: 0.7978 - val_categorical_accuracy: 0.5376\n",
            "Epoch 82/160\n",
            "368/368 [==============================] - 0s 641us/step - loss: 0.4844 - categorical_accuracy: 0.7663 - val_loss: 0.7468 - val_categorical_accuracy: 0.5806\n",
            "Epoch 83/160\n",
            "368/368 [==============================] - 0s 680us/step - loss: 0.4897 - categorical_accuracy: 0.7717 - val_loss: 0.5912 - val_categorical_accuracy: 0.7312\n",
            "Epoch 84/160\n",
            "368/368 [==============================] - 0s 676us/step - loss: 0.4862 - categorical_accuracy: 0.7554 - val_loss: 0.7830 - val_categorical_accuracy: 0.5484\n",
            "Epoch 85/160\n",
            "368/368 [==============================] - 0s 633us/step - loss: 0.4844 - categorical_accuracy: 0.7554 - val_loss: 0.9150 - val_categorical_accuracy: 0.4624\n",
            "Epoch 86/160\n",
            "368/368 [==============================] - 0s 659us/step - loss: 0.4831 - categorical_accuracy: 0.7663 - val_loss: 0.4243 - val_categorical_accuracy: 0.8387\n",
            "Epoch 87/160\n",
            "368/368 [==============================] - 0s 665us/step - loss: 0.4822 - categorical_accuracy: 0.7717 - val_loss: 0.7211 - val_categorical_accuracy: 0.6344\n",
            "Epoch 88/160\n",
            "368/368 [==============================] - 0s 648us/step - loss: 0.4898 - categorical_accuracy: 0.7609 - val_loss: 0.6992 - val_categorical_accuracy: 0.6452\n",
            "Epoch 89/160\n",
            "368/368 [==============================] - 0s 648us/step - loss: 0.4861 - categorical_accuracy: 0.7663 - val_loss: 0.7610 - val_categorical_accuracy: 0.5806\n",
            "Epoch 90/160\n",
            "368/368 [==============================] - 0s 616us/step - loss: 0.4860 - categorical_accuracy: 0.7636 - val_loss: 0.7231 - val_categorical_accuracy: 0.6237\n",
            "Epoch 91/160\n",
            "368/368 [==============================] - 0s 627us/step - loss: 0.4860 - categorical_accuracy: 0.7609 - val_loss: 0.7270 - val_categorical_accuracy: 0.6344\n",
            "Epoch 92/160\n",
            "368/368 [==============================] - 0s 691us/step - loss: 0.4822 - categorical_accuracy: 0.7772 - val_loss: 0.6531 - val_categorical_accuracy: 0.6774\n",
            "Epoch 93/160\n",
            "368/368 [==============================] - 0s 668us/step - loss: 0.4841 - categorical_accuracy: 0.7609 - val_loss: 0.5796 - val_categorical_accuracy: 0.7097\n",
            "Epoch 94/160\n",
            "368/368 [==============================] - 0s 653us/step - loss: 0.4847 - categorical_accuracy: 0.7663 - val_loss: 0.7737 - val_categorical_accuracy: 0.5591\n",
            "Epoch 95/160\n",
            "368/368 [==============================] - 0s 658us/step - loss: 0.4878 - categorical_accuracy: 0.7636 - val_loss: 0.6353 - val_categorical_accuracy: 0.6882\n",
            "Epoch 96/160\n",
            "368/368 [==============================] - 0s 682us/step - loss: 0.4822 - categorical_accuracy: 0.7636 - val_loss: 0.7431 - val_categorical_accuracy: 0.5806\n",
            "Epoch 97/160\n",
            "368/368 [==============================] - 0s 663us/step - loss: 0.4763 - categorical_accuracy: 0.7690 - val_loss: 0.5900 - val_categorical_accuracy: 0.6989\n",
            "Epoch 98/160\n",
            "368/368 [==============================] - 0s 643us/step - loss: 0.4796 - categorical_accuracy: 0.7636 - val_loss: 0.5951 - val_categorical_accuracy: 0.6882\n",
            "Epoch 99/160\n",
            "368/368 [==============================] - 0s 650us/step - loss: 0.4787 - categorical_accuracy: 0.7717 - val_loss: 0.5650 - val_categorical_accuracy: 0.7419\n",
            "Epoch 100/160\n",
            "368/368 [==============================] - 0s 695us/step - loss: 0.4877 - categorical_accuracy: 0.7636 - val_loss: 0.6245 - val_categorical_accuracy: 0.6774\n",
            "Epoch 101/160\n",
            "368/368 [==============================] - 0s 713us/step - loss: 0.4805 - categorical_accuracy: 0.7663 - val_loss: 0.5937 - val_categorical_accuracy: 0.7097\n",
            "Epoch 102/160\n",
            "368/368 [==============================] - 0s 644us/step - loss: 0.4806 - categorical_accuracy: 0.7582 - val_loss: 0.9262 - val_categorical_accuracy: 0.4624\n",
            "Epoch 103/160\n",
            "368/368 [==============================] - 0s 656us/step - loss: 0.4823 - categorical_accuracy: 0.7717 - val_loss: 0.9632 - val_categorical_accuracy: 0.4409\n",
            "Epoch 104/160\n",
            "368/368 [==============================] - 0s 690us/step - loss: 0.4838 - categorical_accuracy: 0.7609 - val_loss: 0.7180 - val_categorical_accuracy: 0.6774\n",
            "Epoch 105/160\n",
            "368/368 [==============================] - 0s 658us/step - loss: 0.4835 - categorical_accuracy: 0.7609 - val_loss: 0.6616 - val_categorical_accuracy: 0.6989\n",
            "Epoch 106/160\n",
            "368/368 [==============================] - 0s 685us/step - loss: 0.4794 - categorical_accuracy: 0.7609 - val_loss: 0.9325 - val_categorical_accuracy: 0.4624\n",
            "Epoch 107/160\n",
            "368/368 [==============================] - 0s 652us/step - loss: 0.4695 - categorical_accuracy: 0.7772 - val_loss: 0.9385 - val_categorical_accuracy: 0.4409\n",
            "Epoch 108/160\n",
            "368/368 [==============================] - 0s 674us/step - loss: 0.4808 - categorical_accuracy: 0.7582 - val_loss: 0.6901 - val_categorical_accuracy: 0.6452\n",
            "Epoch 109/160\n",
            "368/368 [==============================] - 0s 668us/step - loss: 0.4786 - categorical_accuracy: 0.7717 - val_loss: 0.9576 - val_categorical_accuracy: 0.4194\n",
            "Epoch 110/160\n",
            "368/368 [==============================] - 0s 654us/step - loss: 0.4821 - categorical_accuracy: 0.7826 - val_loss: 0.7179 - val_categorical_accuracy: 0.6452\n",
            "Epoch 111/160\n",
            "368/368 [==============================] - 0s 652us/step - loss: 0.4806 - categorical_accuracy: 0.7636 - val_loss: 0.5342 - val_categorical_accuracy: 0.7527\n",
            "Epoch 112/160\n",
            "368/368 [==============================] - 0s 701us/step - loss: 0.4821 - categorical_accuracy: 0.7582 - val_loss: 0.9884 - val_categorical_accuracy: 0.4409\n",
            "Epoch 113/160\n",
            "368/368 [==============================] - 0s 650us/step - loss: 0.4773 - categorical_accuracy: 0.7717 - val_loss: 0.7761 - val_categorical_accuracy: 0.5914\n",
            "Epoch 114/160\n",
            "368/368 [==============================] - 0s 657us/step - loss: 0.4814 - categorical_accuracy: 0.7962 - val_loss: 0.5864 - val_categorical_accuracy: 0.6989\n",
            "Epoch 115/160\n",
            "368/368 [==============================] - 0s 665us/step - loss: 0.4801 - categorical_accuracy: 0.7663 - val_loss: 0.6298 - val_categorical_accuracy: 0.7204\n",
            "Epoch 116/160\n",
            "368/368 [==============================] - 0s 645us/step - loss: 0.4774 - categorical_accuracy: 0.7690 - val_loss: 0.7922 - val_categorical_accuracy: 0.6022\n",
            "Epoch 117/160\n",
            "368/368 [==============================] - 0s 682us/step - loss: 0.4793 - categorical_accuracy: 0.7880 - val_loss: 0.5627 - val_categorical_accuracy: 0.7312\n",
            "Epoch 118/160\n",
            "368/368 [==============================] - 0s 650us/step - loss: 0.4796 - categorical_accuracy: 0.7663 - val_loss: 0.5891 - val_categorical_accuracy: 0.7312\n",
            "Epoch 119/160\n",
            "368/368 [==============================] - 0s 661us/step - loss: 0.4715 - categorical_accuracy: 0.7772 - val_loss: 0.5928 - val_categorical_accuracy: 0.6989\n",
            "Epoch 120/160\n",
            "368/368 [==============================] - 0s 663us/step - loss: 0.4751 - categorical_accuracy: 0.7772 - val_loss: 0.6498 - val_categorical_accuracy: 0.7097\n",
            "Epoch 121/160\n",
            "368/368 [==============================] - 0s 707us/step - loss: 0.4688 - categorical_accuracy: 0.7609 - val_loss: 0.6518 - val_categorical_accuracy: 0.6882\n",
            "Epoch 122/160\n",
            "368/368 [==============================] - 0s 628us/step - loss: 0.4769 - categorical_accuracy: 0.7772 - val_loss: 0.7048 - val_categorical_accuracy: 0.6667\n",
            "Epoch 123/160\n",
            "368/368 [==============================] - 0s 659us/step - loss: 0.4745 - categorical_accuracy: 0.7636 - val_loss: 0.7643 - val_categorical_accuracy: 0.5699\n",
            "Epoch 124/160\n",
            "368/368 [==============================] - 0s 672us/step - loss: 0.4770 - categorical_accuracy: 0.7690 - val_loss: 0.7676 - val_categorical_accuracy: 0.6129\n",
            "Epoch 125/160\n",
            "368/368 [==============================] - 0s 685us/step - loss: 0.4765 - categorical_accuracy: 0.7799 - val_loss: 0.8424 - val_categorical_accuracy: 0.5376\n",
            "Epoch 126/160\n",
            "368/368 [==============================] - 0s 638us/step - loss: 0.4788 - categorical_accuracy: 0.7826 - val_loss: 0.6438 - val_categorical_accuracy: 0.6989\n",
            "Epoch 127/160\n",
            "368/368 [==============================] - 0s 646us/step - loss: 0.4769 - categorical_accuracy: 0.7582 - val_loss: 0.8194 - val_categorical_accuracy: 0.5484\n",
            "Epoch 128/160\n",
            "368/368 [==============================] - 0s 666us/step - loss: 0.4722 - categorical_accuracy: 0.7799 - val_loss: 0.5590 - val_categorical_accuracy: 0.7527\n",
            "Epoch 129/160\n",
            "368/368 [==============================] - 0s 687us/step - loss: 0.4726 - categorical_accuracy: 0.7826 - val_loss: 0.5745 - val_categorical_accuracy: 0.7097\n",
            "Epoch 130/160\n",
            "368/368 [==============================] - 0s 657us/step - loss: 0.4746 - categorical_accuracy: 0.7745 - val_loss: 0.6048 - val_categorical_accuracy: 0.6989\n",
            "Epoch 131/160\n",
            "368/368 [==============================] - 0s 657us/step - loss: 0.4670 - categorical_accuracy: 0.7690 - val_loss: 0.9307 - val_categorical_accuracy: 0.4301\n",
            "Epoch 132/160\n",
            "368/368 [==============================] - 0s 655us/step - loss: 0.4733 - categorical_accuracy: 0.7663 - val_loss: 0.7589 - val_categorical_accuracy: 0.5914\n",
            "Epoch 133/160\n",
            "368/368 [==============================] - 0s 704us/step - loss: 0.4787 - categorical_accuracy: 0.7609 - val_loss: 0.6062 - val_categorical_accuracy: 0.6989\n",
            "Epoch 134/160\n",
            "368/368 [==============================] - 0s 658us/step - loss: 0.4730 - categorical_accuracy: 0.7745 - val_loss: 0.8753 - val_categorical_accuracy: 0.5376\n",
            "Epoch 135/160\n",
            "368/368 [==============================] - 0s 644us/step - loss: 0.4766 - categorical_accuracy: 0.7636 - val_loss: 0.7361 - val_categorical_accuracy: 0.6129\n",
            "Epoch 136/160\n",
            "368/368 [==============================] - 0s 651us/step - loss: 0.4737 - categorical_accuracy: 0.7690 - val_loss: 0.5182 - val_categorical_accuracy: 0.8065\n",
            "Epoch 137/160\n",
            "368/368 [==============================] - 0s 653us/step - loss: 0.4716 - categorical_accuracy: 0.7690 - val_loss: 0.6781 - val_categorical_accuracy: 0.6989\n",
            "Epoch 138/160\n",
            "368/368 [==============================] - 0s 690us/step - loss: 0.4695 - categorical_accuracy: 0.7690 - val_loss: 0.9202 - val_categorical_accuracy: 0.4839\n",
            "Epoch 139/160\n",
            "368/368 [==============================] - 0s 668us/step - loss: 0.4706 - categorical_accuracy: 0.7717 - val_loss: 0.9056 - val_categorical_accuracy: 0.5376\n",
            "Epoch 140/160\n",
            "368/368 [==============================] - 0s 652us/step - loss: 0.4798 - categorical_accuracy: 0.7690 - val_loss: 0.7944 - val_categorical_accuracy: 0.5699\n",
            "Epoch 141/160\n",
            "368/368 [==============================] - 0s 646us/step - loss: 0.4716 - categorical_accuracy: 0.7717 - val_loss: 0.7899 - val_categorical_accuracy: 0.6237\n",
            "Epoch 142/160\n",
            "368/368 [==============================] - 0s 680us/step - loss: 0.4746 - categorical_accuracy: 0.7663 - val_loss: 0.6632 - val_categorical_accuracy: 0.6882\n",
            "Epoch 143/160\n",
            "368/368 [==============================] - 0s 717us/step - loss: 0.4693 - categorical_accuracy: 0.7772 - val_loss: 0.7618 - val_categorical_accuracy: 0.6129\n",
            "Epoch 144/160\n",
            "368/368 [==============================] - 0s 654us/step - loss: 0.4709 - categorical_accuracy: 0.7745 - val_loss: 0.5786 - val_categorical_accuracy: 0.7312\n",
            "Epoch 145/160\n",
            "368/368 [==============================] - 0s 650us/step - loss: 0.4736 - categorical_accuracy: 0.7826 - val_loss: 0.7123 - val_categorical_accuracy: 0.6774\n",
            "Epoch 146/160\n",
            "368/368 [==============================] - 0s 678us/step - loss: 0.4707 - categorical_accuracy: 0.7745 - val_loss: 0.9420 - val_categorical_accuracy: 0.4731\n",
            "Epoch 147/160\n",
            "368/368 [==============================] - 0s 651us/step - loss: 0.4699 - categorical_accuracy: 0.7717 - val_loss: 0.5735 - val_categorical_accuracy: 0.7204\n",
            "Epoch 148/160\n",
            "368/368 [==============================] - 0s 643us/step - loss: 0.4660 - categorical_accuracy: 0.7717 - val_loss: 0.9872 - val_categorical_accuracy: 0.4194\n",
            "Epoch 149/160\n",
            "368/368 [==============================] - 0s 660us/step - loss: 0.4679 - categorical_accuracy: 0.7880 - val_loss: 0.5962 - val_categorical_accuracy: 0.7097\n",
            "Epoch 150/160\n",
            "368/368 [==============================] - 0s 691us/step - loss: 0.4695 - categorical_accuracy: 0.7772 - val_loss: 0.6148 - val_categorical_accuracy: 0.6882\n",
            "Epoch 151/160\n",
            "368/368 [==============================] - 0s 662us/step - loss: 0.4679 - categorical_accuracy: 0.7799 - val_loss: 0.6011 - val_categorical_accuracy: 0.6989\n",
            "Epoch 152/160\n",
            "368/368 [==============================] - 0s 659us/step - loss: 0.4687 - categorical_accuracy: 0.7799 - val_loss: 0.7750 - val_categorical_accuracy: 0.6022\n",
            "Epoch 153/160\n",
            "368/368 [==============================] - 0s 658us/step - loss: 0.4628 - categorical_accuracy: 0.7717 - val_loss: 0.6321 - val_categorical_accuracy: 0.6989\n",
            "Epoch 154/160\n",
            "368/368 [==============================] - 0s 689us/step - loss: 0.4696 - categorical_accuracy: 0.7826 - val_loss: 0.7984 - val_categorical_accuracy: 0.6129\n",
            "Epoch 155/160\n",
            "368/368 [==============================] - 0s 668us/step - loss: 0.4621 - categorical_accuracy: 0.7853 - val_loss: 0.5581 - val_categorical_accuracy: 0.7419\n",
            "Epoch 156/160\n",
            "368/368 [==============================] - 0s 654us/step - loss: 0.4706 - categorical_accuracy: 0.7853 - val_loss: 0.8802 - val_categorical_accuracy: 0.5376\n",
            "Epoch 157/160\n",
            "368/368 [==============================] - 0s 655us/step - loss: 0.4680 - categorical_accuracy: 0.7772 - val_loss: 0.5097 - val_categorical_accuracy: 0.7849\n",
            "Epoch 158/160\n",
            "368/368 [==============================] - 0s 668us/step - loss: 0.4598 - categorical_accuracy: 0.7690 - val_loss: 0.9089 - val_categorical_accuracy: 0.5484\n",
            "Epoch 159/160\n",
            "368/368 [==============================] - 0s 664us/step - loss: 0.4703 - categorical_accuracy: 0.7799 - val_loss: 0.6639 - val_categorical_accuracy: 0.6774\n",
            "Epoch 160/160\n",
            "368/368 [==============================] - 0s 644us/step - loss: 0.4676 - categorical_accuracy: 0.7853 - val_loss: 0.6714 - val_categorical_accuracy: 0.6989\n"
          ],
          "name": "stdout"
        },
        {
          "output_type": "display_data",
          "data": {
            "image/png": "[encoded data removed]",
            "text/plain": [
              "<Figure size 432x288 with 1 Axes>"
            ]
          },
          "metadata": {
            "tags": []
          }
        },
        {
          "output_type": "display_data",
          "data": {
            "image/png": "[encoded data removed]",
            "text/plain": [
              "<Figure size 432x288 with 1 Axes>"
            ]
          },
          "metadata": {
            "tags": []
          }
        }
      ]
    },
    {
      "cell_type": "markdown",
      "metadata": {
        "id": "zo1tPL6LjpER",
        "colab_type": "text"
      },
      "source": [
        "Podemos ver que con un optimizador adam nuestra red funciona mejor."
      ]
    },
    {
      "cell_type": "code",
      "metadata": {
        "id": "q8htwNrHegSW",
        "colab_type": "code",
        "colab": {
          "base_uri": "https://localhost:8080/",
          "height": 5942
        },
        "outputId": "991ea31b-713c-4851-ea4e-363ef7bfc6c1"
      },
      "source": [
        "model = build_model()\n",
        "model.compile(\n",
        "    optimizer=optimizers.adam(),\n",
        "    loss=losses.categorical_crossentropy,\n",
        "    metrics=[metrics.categorical_accuracy]   \n",
        "    )\n",
        "h = model.fit(x_train_list, y_cat, epochs=160, batch_size=5, validation_split=.2)\n",
        "plot_metric(h, 'loss')\n",
        "plot_metric(h, 'categorical_accuracy')"
      ],
      "execution_count": 287,
      "outputs": [
        {
          "output_type": "stream",
          "text": [
            "Train on 368 samples, validate on 93 samples\n",
            "Epoch 1/160\n",
            "368/368 [==============================] - 1s 3ms/step - loss: 0.6665 - categorical_accuracy: 0.6277 - val_loss: 0.9760 - val_categorical_accuracy: 0.0000e+00\n",
            "Epoch 2/160\n",
            "368/368 [==============================] - 0s 785us/step - loss: 0.6485 - categorical_accuracy: 0.6304 - val_loss: 1.0817 - val_categorical_accuracy: 0.0000e+00\n",
            "Epoch 3/160\n",
            "368/368 [==============================] - 0s 732us/step - loss: 0.6409 - categorical_accuracy: 0.6277 - val_loss: 0.9624 - val_categorical_accuracy: 0.0000e+00\n",
            "Epoch 4/160\n",
            "368/368 [==============================] - 0s 715us/step - loss: 0.6282 - categorical_accuracy: 0.6304 - val_loss: 1.0577 - val_categorical_accuracy: 0.0000e+00\n",
            "Epoch 5/160\n",
            "368/368 [==============================] - 0s 713us/step - loss: 0.6178 - categorical_accuracy: 0.6277 - val_loss: 0.9529 - val_categorical_accuracy: 0.0108\n",
            "Epoch 6/160\n",
            "368/368 [==============================] - 0s 729us/step - loss: 0.6059 - categorical_accuracy: 0.6386 - val_loss: 0.9202 - val_categorical_accuracy: 0.0645\n",
            "Epoch 7/160\n",
            "368/368 [==============================] - 0s 712us/step - loss: 0.5985 - categorical_accuracy: 0.6739 - val_loss: 0.8314 - val_categorical_accuracy: 0.2366\n",
            "Epoch 8/160\n",
            "368/368 [==============================] - 0s 725us/step - loss: 0.5909 - categorical_accuracy: 0.6875 - val_loss: 0.8306 - val_categorical_accuracy: 0.3011\n",
            "Epoch 9/160\n",
            "368/368 [==============================] - 0s 709us/step - loss: 0.5807 - categorical_accuracy: 0.6658 - val_loss: 0.8901 - val_categorical_accuracy: 0.1935\n",
            "Epoch 10/160\n",
            "368/368 [==============================] - 0s 751us/step - loss: 0.5754 - categorical_accuracy: 0.6793 - val_loss: 0.8755 - val_categorical_accuracy: 0.2903\n",
            "Epoch 11/160\n",
            "368/368 [==============================] - 0s 688us/step - loss: 0.5643 - categorical_accuracy: 0.6821 - val_loss: 0.6986 - val_categorical_accuracy: 0.6129\n",
            "Epoch 12/160\n",
            "368/368 [==============================] - 0s 724us/step - loss: 0.5530 - categorical_accuracy: 0.7310 - val_loss: 1.0527 - val_categorical_accuracy: 0.1613\n",
            "Epoch 13/160\n",
            "368/368 [==============================] - 0s 733us/step - loss: 0.5543 - categorical_accuracy: 0.7120 - val_loss: 0.6626 - val_categorical_accuracy: 0.7097\n",
            "Epoch 14/160\n",
            "368/368 [==============================] - 0s 720us/step - loss: 0.5515 - categorical_accuracy: 0.7201 - val_loss: 1.0454 - val_categorical_accuracy: 0.1935\n",
            "Epoch 15/160\n",
            "368/368 [==============================] - 0s 711us/step - loss: 0.5402 - categorical_accuracy: 0.7255 - val_loss: 0.9489 - val_categorical_accuracy: 0.3333\n",
            "Epoch 16/160\n",
            "368/368 [==============================] - 0s 704us/step - loss: 0.5404 - categorical_accuracy: 0.7120 - val_loss: 0.7867 - val_categorical_accuracy: 0.5161\n",
            "Epoch 17/160\n",
            "368/368 [==============================] - 0s 717us/step - loss: 0.5360 - categorical_accuracy: 0.7201 - val_loss: 0.7511 - val_categorical_accuracy: 0.5591\n",
            "Epoch 18/160\n",
            "368/368 [==============================] - 0s 745us/step - loss: 0.5311 - categorical_accuracy: 0.7255 - val_loss: 0.6682 - val_categorical_accuracy: 0.6559\n",
            "Epoch 19/160\n",
            "368/368 [==============================] - 0s 707us/step - loss: 0.5325 - categorical_accuracy: 0.7310 - val_loss: 0.8693 - val_categorical_accuracy: 0.4086\n",
            "Epoch 20/160\n",
            "368/368 [==============================] - 0s 702us/step - loss: 0.5246 - categorical_accuracy: 0.7446 - val_loss: 0.9832 - val_categorical_accuracy: 0.3333\n",
            "Epoch 21/160\n",
            "368/368 [==============================] - 0s 752us/step - loss: 0.5332 - categorical_accuracy: 0.7310 - val_loss: 0.9866 - val_categorical_accuracy: 0.3226\n",
            "Epoch 22/160\n",
            "368/368 [==============================] - 0s 698us/step - loss: 0.5231 - categorical_accuracy: 0.7391 - val_loss: 0.5629 - val_categorical_accuracy: 0.7419\n",
            "Epoch 23/160\n",
            "368/368 [==============================] - 0s 708us/step - loss: 0.5302 - categorical_accuracy: 0.7228 - val_loss: 0.7532 - val_categorical_accuracy: 0.5914\n",
            "Epoch 24/160\n",
            "368/368 [==============================] - 0s 722us/step - loss: 0.5203 - categorical_accuracy: 0.7473 - val_loss: 0.7648 - val_categorical_accuracy: 0.5806\n",
            "Epoch 25/160\n",
            "368/368 [==============================] - 0s 742us/step - loss: 0.5197 - categorical_accuracy: 0.7337 - val_loss: 0.8019 - val_categorical_accuracy: 0.5484\n",
            "Epoch 26/160\n",
            "368/368 [==============================] - 0s 719us/step - loss: 0.5193 - categorical_accuracy: 0.7418 - val_loss: 1.0792 - val_categorical_accuracy: 0.2688\n",
            "Epoch 27/160\n",
            "368/368 [==============================] - 0s 710us/step - loss: 0.5158 - categorical_accuracy: 0.7418 - val_loss: 0.8412 - val_categorical_accuracy: 0.4946\n",
            "Epoch 28/160\n",
            "368/368 [==============================] - 0s 715us/step - loss: 0.5159 - categorical_accuracy: 0.7364 - val_loss: 0.7667 - val_categorical_accuracy: 0.5806\n",
            "Epoch 29/160\n",
            "368/368 [==============================] - 0s 727us/step - loss: 0.5130 - categorical_accuracy: 0.7527 - val_loss: 0.7274 - val_categorical_accuracy: 0.6129\n",
            "Epoch 30/160\n",
            "368/368 [==============================] - 0s 723us/step - loss: 0.5106 - categorical_accuracy: 0.7473 - val_loss: 0.8965 - val_categorical_accuracy: 0.4409\n",
            "Epoch 31/160\n",
            "368/368 [==============================] - 0s 710us/step - loss: 0.5013 - categorical_accuracy: 0.7364 - val_loss: 1.0420 - val_categorical_accuracy: 0.3333\n",
            "Epoch 32/160\n",
            "368/368 [==============================] - 0s 734us/step - loss: 0.5138 - categorical_accuracy: 0.7283 - val_loss: 0.8910 - val_categorical_accuracy: 0.4409\n",
            "Epoch 33/160\n",
            "368/368 [==============================] - 0s 752us/step - loss: 0.5167 - categorical_accuracy: 0.7283 - val_loss: 0.7539 - val_categorical_accuracy: 0.6022\n",
            "Epoch 34/160\n",
            "368/368 [==============================] - 0s 723us/step - loss: 0.5073 - categorical_accuracy: 0.7337 - val_loss: 0.6375 - val_categorical_accuracy: 0.7204\n",
            "Epoch 35/160\n",
            "368/368 [==============================] - 0s 727us/step - loss: 0.5166 - categorical_accuracy: 0.7446 - val_loss: 0.5568 - val_categorical_accuracy: 0.7419\n",
            "Epoch 36/160\n",
            "368/368 [==============================] - 0s 709us/step - loss: 0.5224 - categorical_accuracy: 0.7228 - val_loss: 0.8107 - val_categorical_accuracy: 0.5806\n",
            "Epoch 37/160\n",
            "368/368 [==============================] - 0s 728us/step - loss: 0.5047 - categorical_accuracy: 0.7554 - val_loss: 0.6467 - val_categorical_accuracy: 0.7204\n",
            "Epoch 38/160\n",
            "368/368 [==============================] - 0s 714us/step - loss: 0.5120 - categorical_accuracy: 0.7201 - val_loss: 0.7306 - val_categorical_accuracy: 0.6344\n",
            "Epoch 39/160\n",
            "368/368 [==============================] - 0s 700us/step - loss: 0.5010 - categorical_accuracy: 0.7582 - val_loss: 0.6569 - val_categorical_accuracy: 0.7097\n",
            "Epoch 40/160\n",
            "368/368 [==============================] - 0s 716us/step - loss: 0.5081 - categorical_accuracy: 0.7364 - val_loss: 0.7080 - val_categorical_accuracy: 0.6559\n",
            "Epoch 41/160\n",
            "368/368 [==============================] - 0s 724us/step - loss: 0.5066 - categorical_accuracy: 0.7255 - val_loss: 0.7140 - val_categorical_accuracy: 0.6237\n",
            "Epoch 42/160\n",
            "368/368 [==============================] - 0s 702us/step - loss: 0.5033 - categorical_accuracy: 0.7500 - val_loss: 0.6579 - val_categorical_accuracy: 0.7097\n",
            "Epoch 43/160\n",
            "368/368 [==============================] - 0s 725us/step - loss: 0.4992 - categorical_accuracy: 0.7527 - val_loss: 0.5842 - val_categorical_accuracy: 0.7419\n",
            "Epoch 44/160\n",
            "368/368 [==============================] - 0s 710us/step - loss: 0.5000 - categorical_accuracy: 0.7418 - val_loss: 0.6099 - val_categorical_accuracy: 0.7419\n",
            "Epoch 45/160\n",
            "368/368 [==============================] - 0s 717us/step - loss: 0.5116 - categorical_accuracy: 0.7473 - val_loss: 0.9178 - val_categorical_accuracy: 0.4731\n",
            "Epoch 46/160\n",
            "368/368 [==============================] - 0s 709us/step - loss: 0.4962 - categorical_accuracy: 0.7500 - val_loss: 0.8463 - val_categorical_accuracy: 0.5269\n",
            "Epoch 47/160\n",
            "368/368 [==============================] - 0s 704us/step - loss: 0.5058 - categorical_accuracy: 0.7364 - val_loss: 0.8921 - val_categorical_accuracy: 0.4946\n",
            "Epoch 48/160\n",
            "368/368 [==============================] - 0s 727us/step - loss: 0.5060 - categorical_accuracy: 0.7609 - val_loss: 0.7192 - val_categorical_accuracy: 0.6344\n",
            "Epoch 49/160\n",
            "368/368 [==============================] - 0s 707us/step - loss: 0.4968 - categorical_accuracy: 0.7554 - val_loss: 0.6554 - val_categorical_accuracy: 0.6882\n",
            "Epoch 50/160\n",
            "368/368 [==============================] - 0s 700us/step - loss: 0.4951 - categorical_accuracy: 0.7636 - val_loss: 0.7726 - val_categorical_accuracy: 0.6129\n",
            "Epoch 51/160\n",
            "368/368 [==============================] - 0s 706us/step - loss: 0.4984 - categorical_accuracy: 0.7554 - val_loss: 0.6587 - val_categorical_accuracy: 0.6774\n",
            "Epoch 52/160\n",
            "368/368 [==============================] - 0s 735us/step - loss: 0.4961 - categorical_accuracy: 0.7500 - val_loss: 0.5481 - val_categorical_accuracy: 0.7634\n",
            "Epoch 53/160\n",
            "368/368 [==============================] - 0s 718us/step - loss: 0.5152 - categorical_accuracy: 0.7201 - val_loss: 0.9103 - val_categorical_accuracy: 0.4516\n",
            "Epoch 54/160\n",
            "368/368 [==============================] - 0s 726us/step - loss: 0.5013 - categorical_accuracy: 0.7745 - val_loss: 0.7417 - val_categorical_accuracy: 0.6237\n",
            "Epoch 55/160\n",
            "368/368 [==============================] - 0s 712us/step - loss: 0.4975 - categorical_accuracy: 0.7446 - val_loss: 0.8027 - val_categorical_accuracy: 0.5591\n",
            "Epoch 56/160\n",
            "368/368 [==============================] - 0s 728us/step - loss: 0.4960 - categorical_accuracy: 0.7636 - val_loss: 0.7747 - val_categorical_accuracy: 0.6022\n",
            "Epoch 57/160\n",
            "368/368 [==============================] - 0s 700us/step - loss: 0.4984 - categorical_accuracy: 0.7527 - val_loss: 0.7586 - val_categorical_accuracy: 0.6237\n",
            "Epoch 58/160\n",
            "368/368 [==============================] - 0s 757us/step - loss: 0.4949 - categorical_accuracy: 0.7500 - val_loss: 0.8929 - val_categorical_accuracy: 0.4731\n",
            "Epoch 59/160\n",
            "368/368 [==============================] - 0s 703us/step - loss: 0.4968 - categorical_accuracy: 0.7527 - val_loss: 0.5841 - val_categorical_accuracy: 0.7527\n",
            "Epoch 60/160\n",
            "368/368 [==============================] - 0s 749us/step - loss: 0.4963 - categorical_accuracy: 0.7527 - val_loss: 0.7655 - val_categorical_accuracy: 0.6129\n",
            "Epoch 61/160\n",
            "368/368 [==============================] - 0s 721us/step - loss: 0.4953 - categorical_accuracy: 0.7473 - val_loss: 0.6683 - val_categorical_accuracy: 0.6774\n",
            "Epoch 62/160\n",
            "368/368 [==============================] - 0s 712us/step - loss: 0.4857 - categorical_accuracy: 0.7690 - val_loss: 0.9280 - val_categorical_accuracy: 0.4194\n",
            "Epoch 63/160\n",
            "368/368 [==============================] - 0s 705us/step - loss: 0.4901 - categorical_accuracy: 0.7772 - val_loss: 0.6974 - val_categorical_accuracy: 0.6452\n",
            "Epoch 64/160\n",
            "368/368 [==============================] - 0s 725us/step - loss: 0.4918 - categorical_accuracy: 0.7582 - val_loss: 0.6956 - val_categorical_accuracy: 0.6452\n",
            "Epoch 65/160\n",
            "368/368 [==============================] - 0s 713us/step - loss: 0.4921 - categorical_accuracy: 0.7636 - val_loss: 0.7164 - val_categorical_accuracy: 0.6237\n",
            "Epoch 66/160\n",
            "368/368 [==============================] - 0s 716us/step - loss: 0.4927 - categorical_accuracy: 0.7609 - val_loss: 0.6428 - val_categorical_accuracy: 0.7097\n",
            "Epoch 67/160\n",
            "368/368 [==============================] - 0s 698us/step - loss: 0.4851 - categorical_accuracy: 0.7690 - val_loss: 0.7226 - val_categorical_accuracy: 0.6344\n",
            "Epoch 68/160\n",
            "368/368 [==============================] - 0s 742us/step - loss: 0.4900 - categorical_accuracy: 0.7690 - val_loss: 0.9583 - val_categorical_accuracy: 0.4194\n",
            "Epoch 69/160\n",
            "368/368 [==============================] - 0s 725us/step - loss: 0.4884 - categorical_accuracy: 0.7717 - val_loss: 0.6375 - val_categorical_accuracy: 0.7204\n",
            "Epoch 70/160\n",
            "368/368 [==============================] - 0s 694us/step - loss: 0.4835 - categorical_accuracy: 0.7663 - val_loss: 0.7742 - val_categorical_accuracy: 0.6129\n",
            "Epoch 71/160\n",
            "368/368 [==============================] - 0s 691us/step - loss: 0.4889 - categorical_accuracy: 0.7826 - val_loss: 0.6712 - val_categorical_accuracy: 0.6989\n",
            "Epoch 72/160\n",
            "368/368 [==============================] - 0s 734us/step - loss: 0.4907 - categorical_accuracy: 0.7582 - val_loss: 0.7079 - val_categorical_accuracy: 0.6559\n",
            "Epoch 73/160\n",
            "368/368 [==============================] - 0s 714us/step - loss: 0.4889 - categorical_accuracy: 0.7636 - val_loss: 0.7318 - val_categorical_accuracy: 0.6237\n",
            "Epoch 74/160\n",
            "368/368 [==============================] - 0s 726us/step - loss: 0.4819 - categorical_accuracy: 0.7690 - val_loss: 0.5378 - val_categorical_accuracy: 0.7849\n",
            "Epoch 75/160\n",
            "368/368 [==============================] - 0s 726us/step - loss: 0.4874 - categorical_accuracy: 0.7663 - val_loss: 0.7215 - val_categorical_accuracy: 0.6452\n",
            "Epoch 76/160\n",
            "368/368 [==============================] - 0s 742us/step - loss: 0.4827 - categorical_accuracy: 0.7717 - val_loss: 0.7219 - val_categorical_accuracy: 0.6452\n",
            "Epoch 77/160\n",
            "368/368 [==============================] - 0s 720us/step - loss: 0.4872 - categorical_accuracy: 0.7636 - val_loss: 0.8244 - val_categorical_accuracy: 0.5484\n",
            "Epoch 78/160\n",
            "368/368 [==============================] - 0s 751us/step - loss: 0.4891 - categorical_accuracy: 0.7636 - val_loss: 0.7755 - val_categorical_accuracy: 0.5591\n",
            "Epoch 79/160\n",
            "368/368 [==============================] - 0s 737us/step - loss: 0.4844 - categorical_accuracy: 0.7636 - val_loss: 0.4995 - val_categorical_accuracy: 0.7957\n",
            "Epoch 80/160\n",
            "368/368 [==============================] - 0s 709us/step - loss: 0.4817 - categorical_accuracy: 0.7690 - val_loss: 0.6391 - val_categorical_accuracy: 0.7097\n",
            "Epoch 81/160\n",
            "368/368 [==============================] - 0s 723us/step - loss: 0.4956 - categorical_accuracy: 0.7446 - val_loss: 0.6660 - val_categorical_accuracy: 0.7312\n",
            "Epoch 82/160\n",
            "368/368 [==============================] - 0s 731us/step - loss: 0.4770 - categorical_accuracy: 0.7636 - val_loss: 0.8901 - val_categorical_accuracy: 0.5161\n",
            "Epoch 83/160\n",
            "368/368 [==============================] - 0s 744us/step - loss: 0.4825 - categorical_accuracy: 0.7717 - val_loss: 0.7863 - val_categorical_accuracy: 0.5806\n",
            "Epoch 84/160\n",
            "368/368 [==============================] - 0s 726us/step - loss: 0.4947 - categorical_accuracy: 0.7636 - val_loss: 0.6961 - val_categorical_accuracy: 0.6559\n",
            "Epoch 85/160\n",
            "368/368 [==============================] - 0s 714us/step - loss: 0.4860 - categorical_accuracy: 0.7609 - val_loss: 0.7179 - val_categorical_accuracy: 0.6559\n",
            "Epoch 86/160\n",
            "368/368 [==============================] - 0s 713us/step - loss: 0.4828 - categorical_accuracy: 0.7527 - val_loss: 0.7296 - val_categorical_accuracy: 0.6344\n",
            "Epoch 87/160\n",
            "368/368 [==============================] - 0s 760us/step - loss: 0.4875 - categorical_accuracy: 0.7690 - val_loss: 0.6948 - val_categorical_accuracy: 0.6989\n",
            "Epoch 88/160\n",
            "368/368 [==============================] - 0s 712us/step - loss: 0.4795 - categorical_accuracy: 0.7826 - val_loss: 0.6013 - val_categorical_accuracy: 0.7419\n",
            "Epoch 89/160\n",
            "368/368 [==============================] - 0s 706us/step - loss: 0.4876 - categorical_accuracy: 0.7364 - val_loss: 0.8470 - val_categorical_accuracy: 0.5161\n",
            "Epoch 90/160\n",
            "368/368 [==============================] - 0s 714us/step - loss: 0.4814 - categorical_accuracy: 0.7690 - val_loss: 0.6832 - val_categorical_accuracy: 0.6882\n",
            "Epoch 91/160\n",
            "368/368 [==============================] - 0s 748us/step - loss: 0.4951 - categorical_accuracy: 0.7663 - val_loss: 0.4746 - val_categorical_accuracy: 0.8065\n",
            "Epoch 92/160\n",
            "368/368 [==============================] - 0s 720us/step - loss: 0.4722 - categorical_accuracy: 0.7582 - val_loss: 1.0582 - val_categorical_accuracy: 0.3441\n",
            "Epoch 93/160\n",
            "368/368 [==============================] - 0s 719us/step - loss: 0.4790 - categorical_accuracy: 0.7962 - val_loss: 0.5220 - val_categorical_accuracy: 0.7957\n",
            "Epoch 94/160\n",
            "368/368 [==============================] - 0s 744us/step - loss: 0.4857 - categorical_accuracy: 0.7527 - val_loss: 0.8564 - val_categorical_accuracy: 0.5161\n",
            "Epoch 95/160\n",
            "368/368 [==============================] - 0s 719us/step - loss: 0.4947 - categorical_accuracy: 0.7636 - val_loss: 0.7683 - val_categorical_accuracy: 0.6022\n",
            "Epoch 96/160\n",
            "368/368 [==============================] - 0s 721us/step - loss: 0.4835 - categorical_accuracy: 0.7582 - val_loss: 1.0137 - val_categorical_accuracy: 0.3871\n",
            "Epoch 97/160\n",
            "368/368 [==============================] - 0s 743us/step - loss: 0.4852 - categorical_accuracy: 0.7717 - val_loss: 0.6928 - val_categorical_accuracy: 0.6559\n",
            "Epoch 98/160\n",
            "368/368 [==============================] - 0s 728us/step - loss: 0.4737 - categorical_accuracy: 0.7663 - val_loss: 0.7580 - val_categorical_accuracy: 0.6129\n",
            "Epoch 99/160\n",
            "368/368 [==============================] - 0s 726us/step - loss: 0.4783 - categorical_accuracy: 0.7690 - val_loss: 0.6645 - val_categorical_accuracy: 0.6989\n",
            "Epoch 100/160\n",
            "368/368 [==============================] - 0s 728us/step - loss: 0.4782 - categorical_accuracy: 0.7636 - val_loss: 0.8438 - val_categorical_accuracy: 0.5376\n",
            "Epoch 101/160\n",
            "368/368 [==============================] - 0s 716us/step - loss: 0.4777 - categorical_accuracy: 0.7935 - val_loss: 0.6090 - val_categorical_accuracy: 0.7527\n",
            "Epoch 102/160\n",
            "368/368 [==============================] - 0s 755us/step - loss: 0.4768 - categorical_accuracy: 0.7527 - val_loss: 0.5838 - val_categorical_accuracy: 0.7527\n",
            "Epoch 103/160\n",
            "368/368 [==============================] - 0s 731us/step - loss: 0.4798 - categorical_accuracy: 0.7663 - val_loss: 0.6690 - val_categorical_accuracy: 0.7419\n",
            "Epoch 104/160\n",
            "368/368 [==============================] - 0s 722us/step - loss: 0.4744 - categorical_accuracy: 0.7745 - val_loss: 0.5990 - val_categorical_accuracy: 0.7527\n",
            "Epoch 105/160\n",
            "368/368 [==============================] - 0s 728us/step - loss: 0.4767 - categorical_accuracy: 0.7772 - val_loss: 0.6367 - val_categorical_accuracy: 0.7312\n",
            "Epoch 106/160\n",
            "368/368 [==============================] - 0s 779us/step - loss: 0.4763 - categorical_accuracy: 0.7717 - val_loss: 0.5440 - val_categorical_accuracy: 0.7634\n",
            "Epoch 107/160\n",
            "368/368 [==============================] - 0s 728us/step - loss: 0.4766 - categorical_accuracy: 0.7527 - val_loss: 0.7407 - val_categorical_accuracy: 0.6667\n",
            "Epoch 108/160\n",
            "368/368 [==============================] - 0s 732us/step - loss: 0.4755 - categorical_accuracy: 0.7690 - val_loss: 0.6294 - val_categorical_accuracy: 0.7312\n",
            "Epoch 109/160\n",
            "368/368 [==============================] - 0s 753us/step - loss: 0.4741 - categorical_accuracy: 0.7582 - val_loss: 0.8583 - val_categorical_accuracy: 0.5269\n",
            "Epoch 110/160\n",
            "368/368 [==============================] - 0s 726us/step - loss: 0.4726 - categorical_accuracy: 0.7908 - val_loss: 0.6223 - val_categorical_accuracy: 0.7419\n",
            "Epoch 111/160\n",
            "368/368 [==============================] - 0s 720us/step - loss: 0.4689 - categorical_accuracy: 0.7717 - val_loss: 0.8537 - val_categorical_accuracy: 0.5269\n",
            "Epoch 112/160\n",
            "368/368 [==============================] - 0s 718us/step - loss: 0.4756 - categorical_accuracy: 0.7772 - val_loss: 0.5525 - val_categorical_accuracy: 0.7527\n",
            "Epoch 113/160\n",
            "368/368 [==============================] - 0s 751us/step - loss: 0.4800 - categorical_accuracy: 0.7717 - val_loss: 0.5059 - val_categorical_accuracy: 0.7957\n",
            "Epoch 114/160\n",
            "368/368 [==============================] - 0s 724us/step - loss: 0.4844 - categorical_accuracy: 0.7636 - val_loss: 0.5459 - val_categorical_accuracy: 0.7634\n",
            "Epoch 115/160\n",
            "368/368 [==============================] - 0s 709us/step - loss: 0.4777 - categorical_accuracy: 0.7690 - val_loss: 0.5381 - val_categorical_accuracy: 0.7742\n",
            "Epoch 116/160\n",
            "368/368 [==============================] - 0s 708us/step - loss: 0.4756 - categorical_accuracy: 0.7717 - val_loss: 0.7717 - val_categorical_accuracy: 0.6022\n",
            "Epoch 117/160\n",
            "368/368 [==============================] - 0s 738us/step - loss: 0.4669 - categorical_accuracy: 0.7772 - val_loss: 0.5655 - val_categorical_accuracy: 0.7527\n",
            "Epoch 118/160\n",
            "368/368 [==============================] - 0s 716us/step - loss: 0.4758 - categorical_accuracy: 0.7717 - val_loss: 0.6093 - val_categorical_accuracy: 0.7419\n",
            "Epoch 119/160\n",
            "368/368 [==============================] - 0s 699us/step - loss: 0.4704 - categorical_accuracy: 0.7663 - val_loss: 0.7180 - val_categorical_accuracy: 0.6882\n",
            "Epoch 120/160\n",
            "368/368 [==============================] - 0s 710us/step - loss: 0.4755 - categorical_accuracy: 0.7745 - val_loss: 0.6448 - val_categorical_accuracy: 0.7097\n",
            "Epoch 121/160\n",
            "368/368 [==============================] - 0s 759us/step - loss: 0.4712 - categorical_accuracy: 0.7717 - val_loss: 0.6216 - val_categorical_accuracy: 0.7312\n",
            "Epoch 122/160\n",
            "368/368 [==============================] - 0s 712us/step - loss: 0.4783 - categorical_accuracy: 0.7799 - val_loss: 0.6664 - val_categorical_accuracy: 0.7097\n",
            "Epoch 123/160\n",
            "368/368 [==============================] - 0s 709us/step - loss: 0.4704 - categorical_accuracy: 0.7717 - val_loss: 0.6274 - val_categorical_accuracy: 0.7419\n",
            "Epoch 124/160\n",
            "368/368 [==============================] - 0s 700us/step - loss: 0.4694 - categorical_accuracy: 0.7935 - val_loss: 0.5125 - val_categorical_accuracy: 0.7849\n",
            "Epoch 125/160\n",
            "368/368 [==============================] - 0s 761us/step - loss: 0.4661 - categorical_accuracy: 0.7663 - val_loss: 0.7510 - val_categorical_accuracy: 0.6344\n",
            "Epoch 126/160\n",
            "368/368 [==============================] - 0s 708us/step - loss: 0.4766 - categorical_accuracy: 0.7690 - val_loss: 0.5145 - val_categorical_accuracy: 0.7957\n",
            "Epoch 127/160\n",
            "368/368 [==============================] - 0s 702us/step - loss: 0.4678 - categorical_accuracy: 0.7880 - val_loss: 0.8042 - val_categorical_accuracy: 0.5806\n",
            "Epoch 128/160\n",
            "368/368 [==============================] - 0s 707us/step - loss: 0.4779 - categorical_accuracy: 0.7663 - val_loss: 0.7533 - val_categorical_accuracy: 0.6452\n",
            "Epoch 129/160\n",
            "368/368 [==============================] - 0s 754us/step - loss: 0.4713 - categorical_accuracy: 0.7853 - val_loss: 0.7074 - val_categorical_accuracy: 0.6774\n",
            "Epoch 130/160\n",
            "368/368 [==============================] - 0s 704us/step - loss: 0.4757 - categorical_accuracy: 0.7826 - val_loss: 0.6824 - val_categorical_accuracy: 0.6882\n",
            "Epoch 131/160\n",
            "368/368 [==============================] - 0s 684us/step - loss: 0.4621 - categorical_accuracy: 0.7636 - val_loss: 1.0378 - val_categorical_accuracy: 0.3763\n",
            "Epoch 132/160\n",
            "368/368 [==============================] - 0s 711us/step - loss: 0.4687 - categorical_accuracy: 0.7799 - val_loss: 0.5360 - val_categorical_accuracy: 0.7634\n",
            "Epoch 133/160\n",
            "368/368 [==============================] - 0s 740us/step - loss: 0.4640 - categorical_accuracy: 0.7717 - val_loss: 0.6869 - val_categorical_accuracy: 0.6989\n",
            "Epoch 134/160\n",
            "368/368 [==============================] - 0s 717us/step - loss: 0.4693 - categorical_accuracy: 0.7826 - val_loss: 0.7215 - val_categorical_accuracy: 0.6559\n",
            "Epoch 135/160\n",
            "368/368 [==============================] - 0s 710us/step - loss: 0.4663 - categorical_accuracy: 0.7853 - val_loss: 0.5292 - val_categorical_accuracy: 0.7849\n",
            "Epoch 136/160\n",
            "368/368 [==============================] - 0s 707us/step - loss: 0.4724 - categorical_accuracy: 0.7772 - val_loss: 0.5986 - val_categorical_accuracy: 0.7419\n",
            "Epoch 137/160\n",
            "368/368 [==============================] - 0s 746us/step - loss: 0.4635 - categorical_accuracy: 0.7853 - val_loss: 0.6995 - val_categorical_accuracy: 0.6452\n",
            "Epoch 138/160\n",
            "368/368 [==============================] - 0s 699us/step - loss: 0.4668 - categorical_accuracy: 0.7690 - val_loss: 0.6276 - val_categorical_accuracy: 0.7312\n",
            "Epoch 139/160\n",
            "368/368 [==============================] - 0s 716us/step - loss: 0.4694 - categorical_accuracy: 0.7799 - val_loss: 0.5963 - val_categorical_accuracy: 0.7419\n",
            "Epoch 140/160\n",
            "368/368 [==============================] - 0s 731us/step - loss: 0.4663 - categorical_accuracy: 0.7745 - val_loss: 0.5606 - val_categorical_accuracy: 0.7527\n",
            "Epoch 141/160\n",
            "368/368 [==============================] - 0s 712us/step - loss: 0.4717 - categorical_accuracy: 0.7554 - val_loss: 0.8418 - val_categorical_accuracy: 0.5376\n",
            "Epoch 142/160\n",
            "368/368 [==============================] - 0s 703us/step - loss: 0.4677 - categorical_accuracy: 0.7880 - val_loss: 0.6502 - val_categorical_accuracy: 0.7097\n",
            "Epoch 143/160\n",
            "368/368 [==============================] - 0s 705us/step - loss: 0.4778 - categorical_accuracy: 0.7609 - val_loss: 0.6329 - val_categorical_accuracy: 0.7097\n",
            "Epoch 144/160\n",
            "368/368 [==============================] - 0s 740us/step - loss: 0.4684 - categorical_accuracy: 0.7717 - val_loss: 0.6562 - val_categorical_accuracy: 0.6882\n",
            "Epoch 145/160\n",
            "368/368 [==============================] - 0s 690us/step - loss: 0.4665 - categorical_accuracy: 0.7690 - val_loss: 0.7737 - val_categorical_accuracy: 0.5914\n",
            "Epoch 146/160\n",
            "368/368 [==============================] - 0s 722us/step - loss: 0.4802 - categorical_accuracy: 0.7690 - val_loss: 0.6808 - val_categorical_accuracy: 0.6559\n",
            "Epoch 147/160\n",
            "368/368 [==============================] - 0s 719us/step - loss: 0.4640 - categorical_accuracy: 0.7663 - val_loss: 0.7769 - val_categorical_accuracy: 0.6022\n",
            "Epoch 148/160\n",
            "368/368 [==============================] - 0s 738us/step - loss: 0.4729 - categorical_accuracy: 0.7609 - val_loss: 0.7476 - val_categorical_accuracy: 0.6022\n",
            "Epoch 149/160\n",
            "368/368 [==============================] - 0s 709us/step - loss: 0.4704 - categorical_accuracy: 0.7554 - val_loss: 0.8644 - val_categorical_accuracy: 0.5161\n",
            "Epoch 150/160\n",
            "368/368 [==============================] - 0s 702us/step - loss: 0.4653 - categorical_accuracy: 0.7772 - val_loss: 0.8424 - val_categorical_accuracy: 0.5269\n",
            "Epoch 151/160\n",
            "368/368 [==============================] - 0s 714us/step - loss: 0.4637 - categorical_accuracy: 0.7826 - val_loss: 0.6767 - val_categorical_accuracy: 0.6989\n",
            "Epoch 152/160\n",
            "368/368 [==============================] - 0s 740us/step - loss: 0.4665 - categorical_accuracy: 0.7582 - val_loss: 0.8043 - val_categorical_accuracy: 0.5376\n",
            "Epoch 153/160\n",
            "368/368 [==============================] - 0s 683us/step - loss: 0.4639 - categorical_accuracy: 0.7663 - val_loss: 0.4853 - val_categorical_accuracy: 0.7849\n",
            "Epoch 154/160\n",
            "368/368 [==============================] - 0s 737us/step - loss: 0.4718 - categorical_accuracy: 0.7799 - val_loss: 0.6607 - val_categorical_accuracy: 0.7204\n",
            "Epoch 155/160\n",
            "368/368 [==============================] - 0s 700us/step - loss: 0.4624 - categorical_accuracy: 0.7799 - val_loss: 0.5956 - val_categorical_accuracy: 0.7527\n",
            "Epoch 156/160\n",
            "368/368 [==============================] - 0s 738us/step - loss: 0.4656 - categorical_accuracy: 0.7745 - val_loss: 0.7432 - val_categorical_accuracy: 0.6559\n",
            "Epoch 157/160\n",
            "368/368 [==============================] - 0s 699us/step - loss: 0.4633 - categorical_accuracy: 0.7663 - val_loss: 0.5428 - val_categorical_accuracy: 0.7527\n",
            "Epoch 158/160\n",
            "368/368 [==============================] - 0s 681us/step - loss: 0.4645 - categorical_accuracy: 0.7853 - val_loss: 0.7221 - val_categorical_accuracy: 0.6667\n",
            "Epoch 159/160\n",
            "368/368 [==============================] - 0s 733us/step - loss: 0.4756 - categorical_accuracy: 0.7500 - val_loss: 0.6911 - val_categorical_accuracy: 0.6667\n",
            "Epoch 160/160\n",
            "368/368 [==============================] - 0s 739us/step - loss: 0.4647 - categorical_accuracy: 0.7554 - val_loss: 0.7283 - val_categorical_accuracy: 0.6344\n"
          ],
          "name": "stdout"
        },
        {
          "output_type": "display_data",
          "data": {
            "image/png": "[encoded data removed]",
            "text/plain": [
              "<Figure size 432x288 with 1 Axes>"
            ]
          },
          "metadata": {
            "tags": []
          }
        },
        {
          "output_type": "display_data",
          "data": {
            "image/png": "[encoded data removed]",
            "text/plain": [
              "<Figure size 432x288 with 1 Axes>"
            ]
          },
          "metadata": {
            "tags": []
          }
        }
      ]
    },
    {
      "cell_type": "markdown",
      "metadata": {
        "id": "AYGmH-dzj1ZI",
        "colab_type": "text"
      },
      "source": [
        "En este punto, vamos a intentar modificar la configuración de la red para mejorar los resultados"
      ]
    },
    {
      "cell_type": "code",
      "metadata": {
        "id": "Z28GkhVzj9Z7",
        "colab_type": "code",
        "colab": {}
      },
      "source": [
        "def build_model():\n",
        "  m = models.Sequential()\n",
        "  m.add(layers.Dense(32, input_dim = 8, kernel_initializer='normal', activation='relu'))\n",
        "  m.add(layers.Dense(16, kernel_initializer='normal', activation='relu'))\n",
        "  #m.add(layers.Dense(8, kernel_initializer='normal', activation='relu'))\n",
        "  #m.add(layers.Dropout(0.1))\n",
        "  m.add(layers.Dense(2, kernel_initializer='normal', activation='sigmoid'))\n",
        "  return m"
      ],
      "execution_count": 0,
      "outputs": []
    },
    {
      "cell_type": "code",
      "metadata": {
        "id": "stedMGIcegQt",
        "colab_type": "code",
        "colab": {
          "base_uri": "https://localhost:8080/",
          "height": 10625
        },
        "outputId": "3356fec0-e948-4a1d-ba1b-7fb87f78ede2"
      },
      "source": [
        "model = build_model()\n",
        "model.compile(\n",
        "    optimizer=optimizers.adam(),\n",
        "    loss=losses.categorical_crossentropy,\n",
        "    metrics=[metrics.categorical_accuracy]   \n",
        "    )\n",
        "h = model.fit(x_train_list, y_cat, epochs=300, batch_size=5, validation_split=.2)\n",
        "plot_metric(h, 'loss')\n",
        "plot_metric(h, 'categorical_accuracy')"
      ],
      "execution_count": 327,
      "outputs": [
        {
          "output_type": "stream",
          "text": [
            "Train on 368 samples, validate on 93 samples\n",
            "Epoch 1/300\n",
            "368/368 [==============================] - 3s 7ms/step - loss: 0.6876 - categorical_accuracy: 0.6277 - val_loss: 0.7454 - val_categorical_accuracy: 0.0000e+00\n",
            "Epoch 2/300\n",
            "368/368 [==============================] - 0s 766us/step - loss: 0.6710 - categorical_accuracy: 0.6277 - val_loss: 0.9099 - val_categorical_accuracy: 0.0000e+00\n",
            "Epoch 3/300\n",
            "368/368 [==============================] - 0s 770us/step - loss: 0.6636 - categorical_accuracy: 0.6277 - val_loss: 0.9288 - val_categorical_accuracy: 0.0000e+00\n",
            "Epoch 4/300\n",
            "368/368 [==============================] - 0s 810us/step - loss: 0.6600 - categorical_accuracy: 0.6277 - val_loss: 0.9681 - val_categorical_accuracy: 0.0000e+00\n",
            "Epoch 5/300\n",
            "368/368 [==============================] - 0s 761us/step - loss: 0.6574 - categorical_accuracy: 0.6277 - val_loss: 0.9884 - val_categorical_accuracy: 0.0000e+00\n",
            "Epoch 6/300\n",
            "368/368 [==============================] - 0s 757us/step - loss: 0.6563 - categorical_accuracy: 0.6277 - val_loss: 0.9725 - val_categorical_accuracy: 0.0000e+00\n",
            "Epoch 7/300\n",
            "368/368 [==============================] - 0s 845us/step - loss: 0.6544 - categorical_accuracy: 0.6277 - val_loss: 0.9605 - val_categorical_accuracy: 0.0000e+00\n",
            "Epoch 8/300\n",
            "368/368 [==============================] - 0s 807us/step - loss: 0.6509 - categorical_accuracy: 0.6277 - val_loss: 1.0260 - val_categorical_accuracy: 0.0000e+00\n",
            "Epoch 9/300\n",
            "368/368 [==============================] - 0s 752us/step - loss: 0.6491 - categorical_accuracy: 0.6277 - val_loss: 0.9568 - val_categorical_accuracy: 0.0000e+00\n",
            "Epoch 10/300\n",
            "368/368 [==============================] - 0s 771us/step - loss: 0.6444 - categorical_accuracy: 0.6277 - val_loss: 0.9441 - val_categorical_accuracy: 0.0000e+00\n",
            "Epoch 11/300\n",
            "368/368 [==============================] - 0s 793us/step - loss: 0.6379 - categorical_accuracy: 0.6277 - val_loss: 0.9257 - val_categorical_accuracy: 0.0000e+00\n",
            "Epoch 12/300\n",
            "368/368 [==============================] - 0s 759us/step - loss: 0.6313 - categorical_accuracy: 0.6277 - val_loss: 0.9989 - val_categorical_accuracy: 0.0000e+00\n",
            "Epoch 13/300\n",
            "368/368 [==============================] - 0s 752us/step - loss: 0.6245 - categorical_accuracy: 0.6277 - val_loss: 0.8766 - val_categorical_accuracy: 0.0000e+00\n",
            "Epoch 14/300\n",
            "368/368 [==============================] - 0s 756us/step - loss: 0.6161 - categorical_accuracy: 0.6277 - val_loss: 0.9464 - val_categorical_accuracy: 0.0000e+00\n",
            "Epoch 15/300\n",
            "368/368 [==============================] - 0s 812us/step - loss: 0.6068 - categorical_accuracy: 0.6277 - val_loss: 0.9663 - val_categorical_accuracy: 0.0000e+00\n",
            "Epoch 16/300\n",
            "368/368 [==============================] - 0s 764us/step - loss: 0.5947 - categorical_accuracy: 0.6277 - val_loss: 0.8634 - val_categorical_accuracy: 0.0000e+00\n",
            "Epoch 17/300\n",
            "368/368 [==============================] - 0s 749us/step - loss: 0.5836 - categorical_accuracy: 0.6603 - val_loss: 1.0161 - val_categorical_accuracy: 0.0645\n",
            "Epoch 18/300\n",
            "368/368 [==============================] - 0s 819us/step - loss: 0.5776 - categorical_accuracy: 0.6848 - val_loss: 0.9131 - val_categorical_accuracy: 0.2581\n",
            "Epoch 19/300\n",
            "368/368 [==============================] - 0s 781us/step - loss: 0.5677 - categorical_accuracy: 0.6875 - val_loss: 0.8084 - val_categorical_accuracy: 0.4301\n",
            "Epoch 20/300\n",
            "368/368 [==============================] - 0s 787us/step - loss: 0.5627 - categorical_accuracy: 0.6848 - val_loss: 0.7894 - val_categorical_accuracy: 0.5376\n",
            "Epoch 21/300\n",
            "368/368 [==============================] - 0s 772us/step - loss: 0.5506 - categorical_accuracy: 0.7174 - val_loss: 0.8827 - val_categorical_accuracy: 0.3978\n",
            "Epoch 22/300\n",
            "368/368 [==============================] - 0s 818us/step - loss: 0.5462 - categorical_accuracy: 0.7174 - val_loss: 0.7089 - val_categorical_accuracy: 0.6452\n",
            "Epoch 23/300\n",
            "368/368 [==============================] - 0s 771us/step - loss: 0.5449 - categorical_accuracy: 0.7011 - val_loss: 0.8831 - val_categorical_accuracy: 0.4194\n",
            "Epoch 24/300\n",
            "368/368 [==============================] - 0s 780us/step - loss: 0.5431 - categorical_accuracy: 0.7310 - val_loss: 0.8027 - val_categorical_accuracy: 0.5699\n",
            "Epoch 25/300\n",
            "368/368 [==============================] - 0s 824us/step - loss: 0.5339 - categorical_accuracy: 0.7201 - val_loss: 0.6253 - val_categorical_accuracy: 0.7742\n",
            "Epoch 26/300\n",
            "368/368 [==============================] - 0s 783us/step - loss: 0.5434 - categorical_accuracy: 0.6929 - val_loss: 0.7522 - val_categorical_accuracy: 0.6344\n",
            "Epoch 27/300\n",
            "368/368 [==============================] - 0s 782us/step - loss: 0.5355 - categorical_accuracy: 0.7228 - val_loss: 1.1223 - val_categorical_accuracy: 0.3011\n",
            "Epoch 28/300\n",
            "368/368 [==============================] - 0s 795us/step - loss: 0.5470 - categorical_accuracy: 0.7038 - val_loss: 0.8406 - val_categorical_accuracy: 0.5376\n",
            "Epoch 29/300\n",
            "368/368 [==============================] - 0s 809us/step - loss: 0.5338 - categorical_accuracy: 0.7364 - val_loss: 0.7063 - val_categorical_accuracy: 0.7097\n",
            "Epoch 30/300\n",
            "368/368 [==============================] - 0s 770us/step - loss: 0.5331 - categorical_accuracy: 0.7283 - val_loss: 0.6736 - val_categorical_accuracy: 0.7419\n",
            "Epoch 31/300\n",
            "368/368 [==============================] - 0s 766us/step - loss: 0.5335 - categorical_accuracy: 0.7065 - val_loss: 0.6977 - val_categorical_accuracy: 0.7204\n",
            "Epoch 32/300\n",
            "368/368 [==============================] - 0s 822us/step - loss: 0.5301 - categorical_accuracy: 0.7174 - val_loss: 0.7879 - val_categorical_accuracy: 0.6129\n",
            "Epoch 33/300\n",
            "368/368 [==============================] - 0s 771us/step - loss: 0.5262 - categorical_accuracy: 0.7337 - val_loss: 1.0475 - val_categorical_accuracy: 0.3656\n",
            "Epoch 34/300\n",
            "368/368 [==============================] - 0s 776us/step - loss: 0.5312 - categorical_accuracy: 0.7364 - val_loss: 0.8225 - val_categorical_accuracy: 0.5484\n",
            "Epoch 35/300\n",
            "368/368 [==============================] - 0s 824us/step - loss: 0.5233 - categorical_accuracy: 0.7337 - val_loss: 0.6240 - val_categorical_accuracy: 0.7742\n",
            "Epoch 36/300\n",
            "368/368 [==============================] - 0s 850us/step - loss: 0.5300 - categorical_accuracy: 0.7364 - val_loss: 0.7023 - val_categorical_accuracy: 0.7204\n",
            "Epoch 37/300\n",
            "368/368 [==============================] - 0s 783us/step - loss: 0.5338 - categorical_accuracy: 0.7228 - val_loss: 0.7098 - val_categorical_accuracy: 0.7097\n",
            "Epoch 38/300\n",
            "368/368 [==============================] - 0s 773us/step - loss: 0.5309 - categorical_accuracy: 0.7174 - val_loss: 0.6713 - val_categorical_accuracy: 0.7419\n",
            "Epoch 39/300\n",
            "368/368 [==============================] - 0s 825us/step - loss: 0.5284 - categorical_accuracy: 0.7310 - val_loss: 0.7301 - val_categorical_accuracy: 0.6989\n",
            "Epoch 40/300\n",
            "368/368 [==============================] - 0s 784us/step - loss: 0.5280 - categorical_accuracy: 0.7283 - val_loss: 0.8216 - val_categorical_accuracy: 0.5699\n",
            "Epoch 41/300\n",
            "368/368 [==============================] - 0s 820us/step - loss: 0.5283 - categorical_accuracy: 0.7283 - val_loss: 0.7638 - val_categorical_accuracy: 0.6344\n",
            "Epoch 42/300\n",
            "368/368 [==============================] - 0s 797us/step - loss: 0.5253 - categorical_accuracy: 0.7364 - val_loss: 0.6923 - val_categorical_accuracy: 0.7312\n",
            "Epoch 43/300\n",
            "368/368 [==============================] - 0s 830us/step - loss: 0.5305 - categorical_accuracy: 0.7255 - val_loss: 0.6233 - val_categorical_accuracy: 0.7742\n",
            "Epoch 44/300\n",
            "368/368 [==============================] - 0s 782us/step - loss: 0.5272 - categorical_accuracy: 0.7201 - val_loss: 0.6262 - val_categorical_accuracy: 0.7742\n",
            "Epoch 45/300\n",
            "368/368 [==============================] - 0s 777us/step - loss: 0.5298 - categorical_accuracy: 0.7310 - val_loss: 0.7941 - val_categorical_accuracy: 0.6022\n",
            "Epoch 46/300\n",
            "368/368 [==============================] - 0s 830us/step - loss: 0.5231 - categorical_accuracy: 0.7391 - val_loss: 0.9185 - val_categorical_accuracy: 0.4946\n",
            "Epoch 47/300\n",
            "368/368 [==============================] - 0s 788us/step - loss: 0.5285 - categorical_accuracy: 0.7337 - val_loss: 0.6812 - val_categorical_accuracy: 0.7527\n",
            "Epoch 48/300\n",
            "368/368 [==============================] - 0s 784us/step - loss: 0.5313 - categorical_accuracy: 0.7283 - val_loss: 0.6535 - val_categorical_accuracy: 0.7527\n",
            "Epoch 49/300\n",
            "368/368 [==============================] - 0s 817us/step - loss: 0.5243 - categorical_accuracy: 0.7201 - val_loss: 0.8470 - val_categorical_accuracy: 0.5591\n",
            "Epoch 50/300\n",
            "368/368 [==============================] - 0s 828us/step - loss: 0.5270 - categorical_accuracy: 0.7147 - val_loss: 0.7576 - val_categorical_accuracy: 0.6237\n",
            "Epoch 51/300\n",
            "368/368 [==============================] - 0s 769us/step - loss: 0.5291 - categorical_accuracy: 0.7255 - val_loss: 1.0373 - val_categorical_accuracy: 0.3656\n",
            "Epoch 52/300\n",
            "368/368 [==============================] - 0s 783us/step - loss: 0.5301 - categorical_accuracy: 0.7283 - val_loss: 0.7339 - val_categorical_accuracy: 0.6344\n",
            "Epoch 53/300\n",
            "368/368 [==============================] - 0s 809us/step - loss: 0.5265 - categorical_accuracy: 0.7283 - val_loss: 0.7758 - val_categorical_accuracy: 0.6022\n",
            "Epoch 54/300\n",
            "368/368 [==============================] - 0s 812us/step - loss: 0.5283 - categorical_accuracy: 0.7201 - val_loss: 0.7840 - val_categorical_accuracy: 0.6022\n",
            "Epoch 55/300\n",
            "368/368 [==============================] - 0s 793us/step - loss: 0.5241 - categorical_accuracy: 0.7337 - val_loss: 0.7846 - val_categorical_accuracy: 0.5914\n",
            "Epoch 56/300\n",
            "368/368 [==============================] - 0s 760us/step - loss: 0.5242 - categorical_accuracy: 0.7310 - val_loss: 0.6956 - val_categorical_accuracy: 0.7204\n",
            "Epoch 57/300\n",
            "368/368 [==============================] - 0s 815us/step - loss: 0.5251 - categorical_accuracy: 0.7255 - val_loss: 0.7295 - val_categorical_accuracy: 0.6559\n",
            "Epoch 58/300\n",
            "368/368 [==============================] - 0s 770us/step - loss: 0.5254 - categorical_accuracy: 0.7283 - val_loss: 0.6977 - val_categorical_accuracy: 0.7097\n",
            "Epoch 59/300\n",
            "368/368 [==============================] - 0s 769us/step - loss: 0.5304 - categorical_accuracy: 0.7120 - val_loss: 0.6995 - val_categorical_accuracy: 0.7097\n",
            "Epoch 60/300\n",
            "368/368 [==============================] - 0s 813us/step - loss: 0.5277 - categorical_accuracy: 0.7310 - val_loss: 0.7211 - val_categorical_accuracy: 0.6774\n",
            "Epoch 61/300\n",
            "368/368 [==============================] - 0s 780us/step - loss: 0.5227 - categorical_accuracy: 0.7337 - val_loss: 0.8243 - val_categorical_accuracy: 0.5806\n",
            "Epoch 62/300\n",
            "368/368 [==============================] - 0s 759us/step - loss: 0.5260 - categorical_accuracy: 0.7310 - val_loss: 0.7921 - val_categorical_accuracy: 0.5914\n",
            "Epoch 63/300\n",
            "368/368 [==============================] - 0s 755us/step - loss: 0.5205 - categorical_accuracy: 0.7391 - val_loss: 0.7622 - val_categorical_accuracy: 0.6452\n",
            "Epoch 64/300\n",
            "368/368 [==============================] - 0s 802us/step - loss: 0.5224 - categorical_accuracy: 0.7120 - val_loss: 0.7617 - val_categorical_accuracy: 0.6237\n",
            "Epoch 65/300\n",
            "368/368 [==============================] - 0s 765us/step - loss: 0.5196 - categorical_accuracy: 0.7364 - val_loss: 0.6551 - val_categorical_accuracy: 0.7419\n",
            "Epoch 66/300\n",
            "368/368 [==============================] - 0s 758us/step - loss: 0.5252 - categorical_accuracy: 0.7473 - val_loss: 0.6570 - val_categorical_accuracy: 0.7419\n",
            "Epoch 67/300\n",
            "368/368 [==============================] - 0s 790us/step - loss: 0.5220 - categorical_accuracy: 0.7554 - val_loss: 0.7963 - val_categorical_accuracy: 0.5914\n",
            "Epoch 68/300\n",
            "368/368 [==============================] - 0s 770us/step - loss: 0.5200 - categorical_accuracy: 0.7337 - val_loss: 0.8111 - val_categorical_accuracy: 0.5914\n",
            "Epoch 69/300\n",
            "368/368 [==============================] - 0s 801us/step - loss: 0.5245 - categorical_accuracy: 0.7391 - val_loss: 0.7457 - val_categorical_accuracy: 0.6667\n",
            "Epoch 70/300\n",
            "368/368 [==============================] - 0s 758us/step - loss: 0.5214 - categorical_accuracy: 0.7310 - val_loss: 0.6351 - val_categorical_accuracy: 0.7527\n",
            "Epoch 71/300\n",
            "368/368 [==============================] - 0s 787us/step - loss: 0.5184 - categorical_accuracy: 0.7364 - val_loss: 0.8792 - val_categorical_accuracy: 0.5269\n",
            "Epoch 72/300\n",
            "368/368 [==============================] - 0s 768us/step - loss: 0.5188 - categorical_accuracy: 0.7337 - val_loss: 0.6776 - val_categorical_accuracy: 0.7312\n",
            "Epoch 73/300\n",
            "368/368 [==============================] - 0s 774us/step - loss: 0.5150 - categorical_accuracy: 0.7364 - val_loss: 0.9762 - val_categorical_accuracy: 0.4839\n",
            "Epoch 74/300\n",
            "368/368 [==============================] - 0s 803us/step - loss: 0.5244 - categorical_accuracy: 0.7337 - val_loss: 0.7057 - val_categorical_accuracy: 0.7097\n",
            "Epoch 75/300\n",
            "368/368 [==============================] - 0s 776us/step - loss: 0.5282 - categorical_accuracy: 0.7255 - val_loss: 0.6681 - val_categorical_accuracy: 0.7312\n",
            "Epoch 76/300\n",
            "368/368 [==============================] - 0s 748us/step - loss: 0.5212 - categorical_accuracy: 0.7337 - val_loss: 0.6296 - val_categorical_accuracy: 0.7634\n",
            "Epoch 77/300\n",
            "368/368 [==============================] - 0s 776us/step - loss: 0.5191 - categorical_accuracy: 0.7446 - val_loss: 0.7174 - val_categorical_accuracy: 0.7097\n",
            "Epoch 78/300\n",
            "368/368 [==============================] - 0s 856us/step - loss: 0.5226 - categorical_accuracy: 0.7391 - val_loss: 0.7754 - val_categorical_accuracy: 0.6237\n",
            "Epoch 79/300\n",
            "368/368 [==============================] - 0s 747us/step - loss: 0.5192 - categorical_accuracy: 0.7364 - val_loss: 0.9518 - val_categorical_accuracy: 0.4731\n",
            "Epoch 80/300\n",
            "368/368 [==============================] - 0s 763us/step - loss: 0.5218 - categorical_accuracy: 0.7228 - val_loss: 0.7397 - val_categorical_accuracy: 0.6559\n",
            "Epoch 81/300\n",
            "368/368 [==============================] - 0s 761us/step - loss: 0.5254 - categorical_accuracy: 0.7310 - val_loss: 0.8919 - val_categorical_accuracy: 0.5376\n",
            "Epoch 82/300\n",
            "368/368 [==============================] - 0s 782us/step - loss: 0.5183 - categorical_accuracy: 0.7364 - val_loss: 0.6923 - val_categorical_accuracy: 0.7204\n",
            "Epoch 83/300\n",
            "368/368 [==============================] - 0s 768us/step - loss: 0.5216 - categorical_accuracy: 0.7310 - val_loss: 0.7782 - val_categorical_accuracy: 0.6237\n",
            "Epoch 84/300\n",
            "368/368 [==============================] - 0s 782us/step - loss: 0.5194 - categorical_accuracy: 0.7391 - val_loss: 0.7542 - val_categorical_accuracy: 0.6667\n",
            "Epoch 85/300\n",
            "368/368 [==============================] - 0s 814us/step - loss: 0.5167 - categorical_accuracy: 0.7418 - val_loss: 0.7550 - val_categorical_accuracy: 0.6559\n",
            "Epoch 86/300\n",
            "368/368 [==============================] - 0s 761us/step - loss: 0.5252 - categorical_accuracy: 0.7391 - val_loss: 0.9068 - val_categorical_accuracy: 0.5054\n",
            "Epoch 87/300\n",
            "368/368 [==============================] - 0s 774us/step - loss: 0.5188 - categorical_accuracy: 0.7446 - val_loss: 0.7740 - val_categorical_accuracy: 0.6452\n",
            "Epoch 88/300\n",
            "368/368 [==============================] - 0s 776us/step - loss: 0.5220 - categorical_accuracy: 0.7310 - val_loss: 0.7582 - val_categorical_accuracy: 0.6667\n",
            "Epoch 89/300\n",
            "368/368 [==============================] - 0s 810us/step - loss: 0.5152 - categorical_accuracy: 0.7364 - val_loss: 0.6682 - val_categorical_accuracy: 0.7312\n",
            "Epoch 90/300\n",
            "368/368 [==============================] - 0s 750us/step - loss: 0.5214 - categorical_accuracy: 0.7201 - val_loss: 0.7561 - val_categorical_accuracy: 0.6559\n",
            "Epoch 91/300\n",
            "368/368 [==============================] - 0s 768us/step - loss: 0.5152 - categorical_accuracy: 0.7283 - val_loss: 0.7866 - val_categorical_accuracy: 0.6344\n",
            "Epoch 92/300\n",
            "368/368 [==============================] - 0s 813us/step - loss: 0.5176 - categorical_accuracy: 0.7391 - val_loss: 0.7722 - val_categorical_accuracy: 0.6344\n",
            "Epoch 93/300\n",
            "368/368 [==============================] - 0s 772us/step - loss: 0.5198 - categorical_accuracy: 0.7418 - val_loss: 0.7857 - val_categorical_accuracy: 0.6129\n",
            "Epoch 94/300\n",
            "368/368 [==============================] - 0s 772us/step - loss: 0.5195 - categorical_accuracy: 0.7337 - val_loss: 0.8383 - val_categorical_accuracy: 0.5806\n",
            "Epoch 95/300\n",
            "368/368 [==============================] - 0s 761us/step - loss: 0.5123 - categorical_accuracy: 0.7473 - val_loss: 0.6197 - val_categorical_accuracy: 0.7634\n",
            "Epoch 96/300\n",
            "368/368 [==============================] - 0s 788us/step - loss: 0.5155 - categorical_accuracy: 0.7500 - val_loss: 0.7037 - val_categorical_accuracy: 0.6882\n",
            "Epoch 97/300\n",
            "368/368 [==============================] - 0s 777us/step - loss: 0.5166 - categorical_accuracy: 0.7255 - val_loss: 0.6899 - val_categorical_accuracy: 0.7097\n",
            "Epoch 98/300\n",
            "368/368 [==============================] - 0s 790us/step - loss: 0.5156 - categorical_accuracy: 0.7418 - val_loss: 0.6266 - val_categorical_accuracy: 0.7419\n",
            "Epoch 99/300\n",
            "368/368 [==============================] - 0s 801us/step - loss: 0.5147 - categorical_accuracy: 0.7364 - val_loss: 0.7592 - val_categorical_accuracy: 0.6452\n",
            "Epoch 100/300\n",
            "368/368 [==============================] - 0s 756us/step - loss: 0.5140 - categorical_accuracy: 0.7500 - val_loss: 0.7066 - val_categorical_accuracy: 0.6989\n",
            "Epoch 101/300\n",
            "368/368 [==============================] - 0s 788us/step - loss: 0.5153 - categorical_accuracy: 0.7364 - val_loss: 0.7453 - val_categorical_accuracy: 0.6452\n",
            "Epoch 102/300\n",
            "368/368 [==============================] - 0s 769us/step - loss: 0.5175 - categorical_accuracy: 0.7473 - val_loss: 0.7155 - val_categorical_accuracy: 0.6774\n",
            "Epoch 103/300\n",
            "368/368 [==============================] - 0s 819us/step - loss: 0.5118 - categorical_accuracy: 0.7337 - val_loss: 0.7121 - val_categorical_accuracy: 0.6774\n",
            "Epoch 104/300\n",
            "368/368 [==============================] - 0s 776us/step - loss: 0.5137 - categorical_accuracy: 0.7391 - val_loss: 0.7972 - val_categorical_accuracy: 0.6129\n",
            "Epoch 105/300\n",
            "368/368 [==============================] - 0s 772us/step - loss: 0.5217 - categorical_accuracy: 0.7283 - val_loss: 0.7438 - val_categorical_accuracy: 0.6452\n",
            "Epoch 106/300\n",
            "368/368 [==============================] - 0s 787us/step - loss: 0.5172 - categorical_accuracy: 0.7337 - val_loss: 0.7936 - val_categorical_accuracy: 0.6237\n",
            "Epoch 107/300\n",
            "368/368 [==============================] - 0s 766us/step - loss: 0.5162 - categorical_accuracy: 0.7554 - val_loss: 0.6125 - val_categorical_accuracy: 0.7634\n",
            "Epoch 108/300\n",
            "368/368 [==============================] - 0s 785us/step - loss: 0.5166 - categorical_accuracy: 0.7364 - val_loss: 0.7860 - val_categorical_accuracy: 0.6344\n",
            "Epoch 109/300\n",
            "368/368 [==============================] - 0s 777us/step - loss: 0.5162 - categorical_accuracy: 0.7255 - val_loss: 0.8135 - val_categorical_accuracy: 0.6237\n",
            "Epoch 110/300\n",
            "368/368 [==============================] - 0s 803us/step - loss: 0.5131 - categorical_accuracy: 0.7310 - val_loss: 0.6871 - val_categorical_accuracy: 0.7097\n",
            "Epoch 111/300\n",
            "368/368 [==============================] - 0s 778us/step - loss: 0.5130 - categorical_accuracy: 0.7337 - val_loss: 0.7236 - val_categorical_accuracy: 0.6774\n",
            "Epoch 112/300\n",
            "368/368 [==============================] - 0s 767us/step - loss: 0.5093 - categorical_accuracy: 0.7310 - val_loss: 0.8154 - val_categorical_accuracy: 0.6022\n",
            "Epoch 113/300\n",
            "368/368 [==============================] - 0s 779us/step - loss: 0.5113 - categorical_accuracy: 0.7446 - val_loss: 0.6714 - val_categorical_accuracy: 0.7097\n",
            "Epoch 114/300\n",
            "368/368 [==============================] - 0s 851us/step - loss: 0.5099 - categorical_accuracy: 0.7364 - val_loss: 0.6405 - val_categorical_accuracy: 0.7204\n",
            "Epoch 115/300\n",
            "368/368 [==============================] - 0s 787us/step - loss: 0.5126 - categorical_accuracy: 0.7391 - val_loss: 0.7430 - val_categorical_accuracy: 0.6667\n",
            "Epoch 116/300\n",
            "368/368 [==============================] - 0s 763us/step - loss: 0.5113 - categorical_accuracy: 0.7418 - val_loss: 0.7280 - val_categorical_accuracy: 0.6774\n",
            "Epoch 117/300\n",
            "368/368 [==============================] - 0s 790us/step - loss: 0.5131 - categorical_accuracy: 0.7473 - val_loss: 0.6711 - val_categorical_accuracy: 0.7097\n",
            "Epoch 118/300\n",
            "368/368 [==============================] - 0s 781us/step - loss: 0.5135 - categorical_accuracy: 0.7283 - val_loss: 0.7519 - val_categorical_accuracy: 0.6452\n",
            "Epoch 119/300\n",
            "368/368 [==============================] - 0s 759us/step - loss: 0.5119 - categorical_accuracy: 0.7473 - val_loss: 0.5959 - val_categorical_accuracy: 0.7634\n",
            "Epoch 120/300\n",
            "368/368 [==============================] - 0s 775us/step - loss: 0.5116 - categorical_accuracy: 0.7418 - val_loss: 0.7161 - val_categorical_accuracy: 0.6882\n",
            "Epoch 121/300\n",
            "368/368 [==============================] - 0s 789us/step - loss: 0.5158 - categorical_accuracy: 0.7337 - val_loss: 0.7217 - val_categorical_accuracy: 0.6882\n",
            "Epoch 122/300\n",
            "368/368 [==============================] - 0s 780us/step - loss: 0.5106 - categorical_accuracy: 0.7391 - val_loss: 0.6164 - val_categorical_accuracy: 0.7419\n",
            "Epoch 123/300\n",
            "368/368 [==============================] - 0s 768us/step - loss: 0.5147 - categorical_accuracy: 0.7391 - val_loss: 0.6438 - val_categorical_accuracy: 0.7312\n",
            "Epoch 124/300\n",
            "368/368 [==============================] - 0s 818us/step - loss: 0.5107 - categorical_accuracy: 0.7527 - val_loss: 0.9319 - val_categorical_accuracy: 0.4409\n",
            "Epoch 125/300\n",
            "368/368 [==============================] - 0s 765us/step - loss: 0.5032 - categorical_accuracy: 0.7446 - val_loss: 0.6239 - val_categorical_accuracy: 0.7419\n",
            "Epoch 126/300\n",
            "368/368 [==============================] - 0s 762us/step - loss: 0.5097 - categorical_accuracy: 0.7500 - val_loss: 0.6771 - val_categorical_accuracy: 0.6989\n",
            "Epoch 127/300\n",
            "368/368 [==============================] - 0s 764us/step - loss: 0.5055 - categorical_accuracy: 0.7283 - val_loss: 0.8262 - val_categorical_accuracy: 0.5806\n",
            "Epoch 128/300\n",
            "368/368 [==============================] - 0s 814us/step - loss: 0.5066 - categorical_accuracy: 0.7418 - val_loss: 0.5380 - val_categorical_accuracy: 0.7849\n",
            "Epoch 129/300\n",
            "368/368 [==============================] - 0s 753us/step - loss: 0.5065 - categorical_accuracy: 0.7418 - val_loss: 0.6105 - val_categorical_accuracy: 0.7419\n",
            "Epoch 130/300\n",
            "368/368 [==============================] - 0s 768us/step - loss: 0.5111 - categorical_accuracy: 0.7391 - val_loss: 0.6729 - val_categorical_accuracy: 0.6989\n",
            "Epoch 131/300\n",
            "368/368 [==============================] - 0s 808us/step - loss: 0.5062 - categorical_accuracy: 0.7391 - val_loss: 0.6628 - val_categorical_accuracy: 0.6989\n",
            "Epoch 132/300\n",
            "368/368 [==============================] - 0s 775us/step - loss: 0.5049 - categorical_accuracy: 0.7446 - val_loss: 0.6721 - val_categorical_accuracy: 0.6989\n",
            "Epoch 133/300\n",
            "368/368 [==============================] - 0s 740us/step - loss: 0.5071 - categorical_accuracy: 0.7609 - val_loss: 0.6604 - val_categorical_accuracy: 0.7097\n",
            "Epoch 134/300\n",
            "368/368 [==============================] - 0s 772us/step - loss: 0.5195 - categorical_accuracy: 0.7310 - val_loss: 0.7002 - val_categorical_accuracy: 0.6774\n",
            "Epoch 135/300\n",
            "368/368 [==============================] - 0s 786us/step - loss: 0.5106 - categorical_accuracy: 0.7418 - val_loss: 0.8355 - val_categorical_accuracy: 0.5806\n",
            "Epoch 136/300\n",
            "368/368 [==============================] - 0s 777us/step - loss: 0.5091 - categorical_accuracy: 0.7310 - val_loss: 0.7696 - val_categorical_accuracy: 0.6452\n",
            "Epoch 137/300\n",
            "368/368 [==============================] - 0s 764us/step - loss: 0.5081 - categorical_accuracy: 0.7500 - val_loss: 0.6960 - val_categorical_accuracy: 0.6882\n",
            "Epoch 138/300\n",
            "368/368 [==============================] - 0s 775us/step - loss: 0.5072 - categorical_accuracy: 0.7201 - val_loss: 0.8199 - val_categorical_accuracy: 0.6022\n",
            "Epoch 139/300\n",
            "368/368 [==============================] - 0s 828us/step - loss: 0.5070 - categorical_accuracy: 0.7418 - val_loss: 0.8381 - val_categorical_accuracy: 0.5914\n",
            "Epoch 140/300\n",
            "368/368 [==============================] - 0s 767us/step - loss: 0.5044 - categorical_accuracy: 0.7418 - val_loss: 0.7231 - val_categorical_accuracy: 0.6774\n",
            "Epoch 141/300\n",
            "368/368 [==============================] - 0s 760us/step - loss: 0.5034 - categorical_accuracy: 0.7337 - val_loss: 0.5921 - val_categorical_accuracy: 0.7527\n",
            "Epoch 142/300\n",
            "368/368 [==============================] - 0s 791us/step - loss: 0.5046 - categorical_accuracy: 0.7500 - val_loss: 0.7153 - val_categorical_accuracy: 0.6882\n",
            "Epoch 143/300\n",
            "368/368 [==============================] - 0s 785us/step - loss: 0.5117 - categorical_accuracy: 0.7391 - val_loss: 0.6467 - val_categorical_accuracy: 0.7097\n",
            "Epoch 144/300\n",
            "368/368 [==============================] - 0s 789us/step - loss: 0.5041 - categorical_accuracy: 0.7473 - val_loss: 0.6539 - val_categorical_accuracy: 0.7097\n",
            "Epoch 145/300\n",
            "368/368 [==============================] - 0s 756us/step - loss: 0.5052 - categorical_accuracy: 0.7310 - val_loss: 0.6834 - val_categorical_accuracy: 0.6989\n",
            "Epoch 146/300\n",
            "368/368 [==============================] - 0s 789us/step - loss: 0.5039 - categorical_accuracy: 0.7609 - val_loss: 0.7061 - val_categorical_accuracy: 0.6774\n",
            "Epoch 147/300\n",
            "368/368 [==============================] - 0s 787us/step - loss: 0.5107 - categorical_accuracy: 0.7337 - val_loss: 0.7518 - val_categorical_accuracy: 0.6344\n",
            "Epoch 148/300\n",
            "368/368 [==============================] - 0s 758us/step - loss: 0.5044 - categorical_accuracy: 0.7364 - val_loss: 0.7544 - val_categorical_accuracy: 0.6667\n",
            "Epoch 149/300\n",
            "368/368 [==============================] - 0s 786us/step - loss: 0.5064 - categorical_accuracy: 0.7473 - val_loss: 0.7751 - val_categorical_accuracy: 0.6344\n",
            "Epoch 150/300\n",
            "368/368 [==============================] - 0s 791us/step - loss: 0.5124 - categorical_accuracy: 0.7228 - val_loss: 0.6803 - val_categorical_accuracy: 0.6989\n",
            "Epoch 151/300\n",
            "368/368 [==============================] - 0s 784us/step - loss: 0.5017 - categorical_accuracy: 0.7391 - val_loss: 0.5779 - val_categorical_accuracy: 0.7527\n",
            "Epoch 152/300\n",
            "368/368 [==============================] - 0s 763us/step - loss: 0.5040 - categorical_accuracy: 0.7391 - val_loss: 0.7708 - val_categorical_accuracy: 0.6452\n",
            "Epoch 153/300\n",
            "368/368 [==============================] - 0s 781us/step - loss: 0.5043 - categorical_accuracy: 0.7446 - val_loss: 0.7033 - val_categorical_accuracy: 0.6882\n",
            "Epoch 154/300\n",
            "368/368 [==============================] - 0s 757us/step - loss: 0.5049 - categorical_accuracy: 0.7310 - val_loss: 0.7517 - val_categorical_accuracy: 0.6559\n",
            "Epoch 155/300\n",
            "368/368 [==============================] - 0s 797us/step - loss: 0.5040 - categorical_accuracy: 0.7554 - val_loss: 0.6941 - val_categorical_accuracy: 0.6989\n",
            "Epoch 156/300\n",
            "368/368 [==============================] - 0s 816us/step - loss: 0.5093 - categorical_accuracy: 0.7418 - val_loss: 0.8654 - val_categorical_accuracy: 0.5376\n",
            "Epoch 157/300\n",
            "368/368 [==============================] - 0s 751us/step - loss: 0.5057 - categorical_accuracy: 0.7418 - val_loss: 0.7294 - val_categorical_accuracy: 0.6882\n",
            "Epoch 158/300\n",
            "368/368 [==============================] - 0s 776us/step - loss: 0.5038 - categorical_accuracy: 0.7418 - val_loss: 0.7058 - val_categorical_accuracy: 0.6989\n",
            "Epoch 159/300\n",
            "368/368 [==============================] - 0s 773us/step - loss: 0.5050 - categorical_accuracy: 0.7364 - val_loss: 0.7188 - val_categorical_accuracy: 0.6882\n",
            "Epoch 160/300\n",
            "368/368 [==============================] - 0s 828us/step - loss: 0.5038 - categorical_accuracy: 0.7364 - val_loss: 0.7968 - val_categorical_accuracy: 0.6129\n",
            "Epoch 161/300\n",
            "368/368 [==============================] - 0s 768us/step - loss: 0.5003 - categorical_accuracy: 0.7500 - val_loss: 0.8714 - val_categorical_accuracy: 0.5484\n",
            "Epoch 162/300\n",
            "368/368 [==============================] - 0s 781us/step - loss: 0.5100 - categorical_accuracy: 0.7364 - val_loss: 0.8761 - val_categorical_accuracy: 0.5591\n",
            "Epoch 163/300\n",
            "368/368 [==============================] - 0s 784us/step - loss: 0.5048 - categorical_accuracy: 0.7500 - val_loss: 0.8210 - val_categorical_accuracy: 0.5699\n",
            "Epoch 164/300\n",
            "368/368 [==============================] - 0s 768us/step - loss: 0.5012 - categorical_accuracy: 0.7446 - val_loss: 0.5670 - val_categorical_accuracy: 0.7742\n",
            "Epoch 165/300\n",
            "368/368 [==============================] - 0s 778us/step - loss: 0.5045 - categorical_accuracy: 0.7446 - val_loss: 0.7085 - val_categorical_accuracy: 0.6774\n",
            "Epoch 166/300\n",
            "368/368 [==============================] - 0s 767us/step - loss: 0.5007 - categorical_accuracy: 0.7473 - val_loss: 0.7252 - val_categorical_accuracy: 0.6774\n",
            "Epoch 167/300\n",
            "368/368 [==============================] - 0s 806us/step - loss: 0.5039 - categorical_accuracy: 0.7582 - val_loss: 0.7115 - val_categorical_accuracy: 0.6882\n",
            "Epoch 168/300\n",
            "368/368 [==============================] - 0s 764us/step - loss: 0.5008 - categorical_accuracy: 0.7446 - val_loss: 0.7134 - val_categorical_accuracy: 0.6774\n",
            "Epoch 169/300\n",
            "368/368 [==============================] - 0s 769us/step - loss: 0.5033 - categorical_accuracy: 0.7609 - val_loss: 0.6856 - val_categorical_accuracy: 0.6882\n",
            "Epoch 170/300\n",
            "368/368 [==============================] - 0s 771us/step - loss: 0.5046 - categorical_accuracy: 0.7418 - val_loss: 0.7059 - val_categorical_accuracy: 0.6989\n",
            "Epoch 171/300\n",
            "368/368 [==============================] - 0s 805us/step - loss: 0.5031 - categorical_accuracy: 0.7527 - val_loss: 0.7352 - val_categorical_accuracy: 0.6667\n",
            "Epoch 172/300\n",
            "368/368 [==============================] - 0s 751us/step - loss: 0.5018 - categorical_accuracy: 0.7446 - val_loss: 0.8971 - val_categorical_accuracy: 0.5161\n",
            "Epoch 173/300\n",
            "368/368 [==============================] - 0s 762us/step - loss: 0.4977 - categorical_accuracy: 0.7636 - val_loss: 0.6109 - val_categorical_accuracy: 0.7419\n",
            "Epoch 174/300\n",
            "368/368 [==============================] - 0s 783us/step - loss: 0.4982 - categorical_accuracy: 0.7391 - val_loss: 0.8412 - val_categorical_accuracy: 0.5806\n",
            "Epoch 175/300\n",
            "368/368 [==============================] - 0s 776us/step - loss: 0.4998 - categorical_accuracy: 0.7609 - val_loss: 0.7926 - val_categorical_accuracy: 0.5914\n",
            "Epoch 176/300\n",
            "368/368 [==============================] - 0s 768us/step - loss: 0.5080 - categorical_accuracy: 0.7446 - val_loss: 0.7205 - val_categorical_accuracy: 0.6882\n",
            "Epoch 177/300\n",
            "368/368 [==============================] - 0s 757us/step - loss: 0.4989 - categorical_accuracy: 0.7446 - val_loss: 0.7492 - val_categorical_accuracy: 0.6667\n",
            "Epoch 178/300\n",
            "368/368 [==============================] - 0s 793us/step - loss: 0.5030 - categorical_accuracy: 0.7527 - val_loss: 0.7514 - val_categorical_accuracy: 0.6559\n",
            "Epoch 179/300\n",
            "368/368 [==============================] - 0s 773us/step - loss: 0.4997 - categorical_accuracy: 0.7473 - val_loss: 0.7660 - val_categorical_accuracy: 0.6344\n",
            "Epoch 180/300\n",
            "368/368 [==============================] - 0s 787us/step - loss: 0.4992 - categorical_accuracy: 0.7446 - val_loss: 0.5803 - val_categorical_accuracy: 0.7527\n",
            "Epoch 181/300\n",
            "368/368 [==============================] - 0s 770us/step - loss: 0.5034 - categorical_accuracy: 0.7473 - val_loss: 0.8174 - val_categorical_accuracy: 0.5806\n",
            "Epoch 182/300\n",
            "368/368 [==============================] - 0s 764us/step - loss: 0.5037 - categorical_accuracy: 0.7772 - val_loss: 0.8085 - val_categorical_accuracy: 0.5914\n",
            "Epoch 183/300\n",
            "368/368 [==============================] - 0s 774us/step - loss: 0.5029 - categorical_accuracy: 0.7446 - val_loss: 0.6722 - val_categorical_accuracy: 0.7097\n",
            "Epoch 184/300\n",
            "368/368 [==============================] - 0s 766us/step - loss: 0.5030 - categorical_accuracy: 0.7473 - val_loss: 0.8456 - val_categorical_accuracy: 0.5699\n",
            "Epoch 185/300\n",
            "368/368 [==============================] - 0s 780us/step - loss: 0.4965 - categorical_accuracy: 0.7473 - val_loss: 0.6148 - val_categorical_accuracy: 0.7419\n",
            "Epoch 186/300\n",
            "368/368 [==============================] - 0s 873us/step - loss: 0.5020 - categorical_accuracy: 0.7636 - val_loss: 0.8325 - val_categorical_accuracy: 0.5806\n",
            "Epoch 187/300\n",
            "368/368 [==============================] - 0s 773us/step - loss: 0.4995 - categorical_accuracy: 0.7636 - val_loss: 0.8542 - val_categorical_accuracy: 0.5591\n",
            "Epoch 188/300\n",
            "368/368 [==============================] - 0s 783us/step - loss: 0.5025 - categorical_accuracy: 0.7391 - val_loss: 0.7582 - val_categorical_accuracy: 0.6344\n",
            "Epoch 189/300\n",
            "368/368 [==============================] - 0s 774us/step - loss: 0.5009 - categorical_accuracy: 0.7364 - val_loss: 0.7341 - val_categorical_accuracy: 0.6774\n",
            "Epoch 190/300\n",
            "368/368 [==============================] - 0s 774us/step - loss: 0.4965 - categorical_accuracy: 0.7473 - val_loss: 0.5694 - val_categorical_accuracy: 0.7634\n",
            "Epoch 191/300\n",
            "368/368 [==============================] - 0s 769us/step - loss: 0.5000 - categorical_accuracy: 0.7446 - val_loss: 0.5949 - val_categorical_accuracy: 0.7419\n",
            "Epoch 192/300\n",
            "368/368 [==============================] - 0s 788us/step - loss: 0.5011 - categorical_accuracy: 0.7364 - val_loss: 0.7933 - val_categorical_accuracy: 0.6022\n",
            "Epoch 193/300\n",
            "368/368 [==============================] - 0s 772us/step - loss: 0.5018 - categorical_accuracy: 0.7364 - val_loss: 0.4677 - val_categorical_accuracy: 0.8280\n",
            "Epoch 194/300\n",
            "368/368 [==============================] - 0s 767us/step - loss: 0.5057 - categorical_accuracy: 0.7418 - val_loss: 0.7514 - val_categorical_accuracy: 0.6452\n",
            "Epoch 195/300\n",
            "368/368 [==============================] - 0s 805us/step - loss: 0.4994 - categorical_accuracy: 0.7418 - val_loss: 0.7679 - val_categorical_accuracy: 0.6237\n",
            "Epoch 196/300\n",
            "368/368 [==============================] - 0s 765us/step - loss: 0.5047 - categorical_accuracy: 0.7364 - val_loss: 0.9697 - val_categorical_accuracy: 0.4086\n",
            "Epoch 197/300\n",
            "368/368 [==============================] - 0s 772us/step - loss: 0.5007 - categorical_accuracy: 0.7609 - val_loss: 0.7215 - val_categorical_accuracy: 0.6774\n",
            "Epoch 198/300\n",
            "368/368 [==============================] - 0s 773us/step - loss: 0.5025 - categorical_accuracy: 0.7554 - val_loss: 0.7028 - val_categorical_accuracy: 0.6774\n",
            "Epoch 199/300\n",
            "368/368 [==============================] - 0s 794us/step - loss: 0.4982 - categorical_accuracy: 0.7500 - val_loss: 0.8117 - val_categorical_accuracy: 0.5806\n",
            "Epoch 200/300\n",
            "368/368 [==============================] - 0s 763us/step - loss: 0.4979 - categorical_accuracy: 0.7554 - val_loss: 0.7433 - val_categorical_accuracy: 0.6667\n",
            "Epoch 201/300\n",
            "368/368 [==============================] - 0s 766us/step - loss: 0.5004 - categorical_accuracy: 0.7554 - val_loss: 0.7823 - val_categorical_accuracy: 0.6129\n",
            "Epoch 202/300\n",
            "368/368 [==============================] - 0s 758us/step - loss: 0.4990 - categorical_accuracy: 0.7527 - val_loss: 0.7676 - val_categorical_accuracy: 0.6022\n",
            "Epoch 203/300\n",
            "368/368 [==============================] - 0s 816us/step - loss: 0.5022 - categorical_accuracy: 0.7446 - val_loss: 0.7403 - val_categorical_accuracy: 0.6559\n",
            "Epoch 204/300\n",
            "368/368 [==============================] - 0s 773us/step - loss: 0.4973 - categorical_accuracy: 0.7717 - val_loss: 0.6328 - val_categorical_accuracy: 0.7097\n",
            "Epoch 205/300\n",
            "368/368 [==============================] - 0s 762us/step - loss: 0.4989 - categorical_accuracy: 0.7446 - val_loss: 0.8648 - val_categorical_accuracy: 0.5484\n",
            "Epoch 206/300\n",
            "368/368 [==============================] - 0s 776us/step - loss: 0.4999 - categorical_accuracy: 0.7500 - val_loss: 0.5971 - val_categorical_accuracy: 0.7419\n",
            "Epoch 207/300\n",
            "368/368 [==============================] - 0s 754us/step - loss: 0.4952 - categorical_accuracy: 0.7609 - val_loss: 0.7521 - val_categorical_accuracy: 0.6344\n",
            "Epoch 208/300\n",
            "368/368 [==============================] - 0s 763us/step - loss: 0.5003 - categorical_accuracy: 0.7473 - val_loss: 0.7764 - val_categorical_accuracy: 0.6022\n",
            "Epoch 209/300\n",
            "368/368 [==============================] - 0s 776us/step - loss: 0.4984 - categorical_accuracy: 0.7527 - val_loss: 0.8428 - val_categorical_accuracy: 0.5484\n",
            "Epoch 210/300\n",
            "368/368 [==============================] - 0s 814us/step - loss: 0.4961 - categorical_accuracy: 0.7473 - val_loss: 0.7648 - val_categorical_accuracy: 0.6344\n",
            "Epoch 211/300\n",
            "368/368 [==============================] - 0s 750us/step - loss: 0.4974 - categorical_accuracy: 0.7391 - val_loss: 0.7762 - val_categorical_accuracy: 0.6022\n",
            "Epoch 212/300\n",
            "368/368 [==============================] - 0s 755us/step - loss: 0.4946 - categorical_accuracy: 0.7582 - val_loss: 0.7507 - val_categorical_accuracy: 0.6452\n",
            "Epoch 213/300\n",
            "368/368 [==============================] - 0s 794us/step - loss: 0.4940 - categorical_accuracy: 0.7527 - val_loss: 0.6755 - val_categorical_accuracy: 0.6882\n",
            "Epoch 214/300\n",
            "368/368 [==============================] - 0s 773us/step - loss: 0.4949 - categorical_accuracy: 0.7473 - val_loss: 0.7923 - val_categorical_accuracy: 0.5806\n",
            "Epoch 215/300\n",
            "368/368 [==============================] - 0s 779us/step - loss: 0.4947 - categorical_accuracy: 0.7609 - val_loss: 0.6840 - val_categorical_accuracy: 0.6989\n",
            "Epoch 216/300\n",
            "368/368 [==============================] - 0s 763us/step - loss: 0.4931 - categorical_accuracy: 0.7582 - val_loss: 0.7801 - val_categorical_accuracy: 0.6022\n",
            "Epoch 217/300\n",
            "368/368 [==============================] - 0s 785us/step - loss: 0.4999 - categorical_accuracy: 0.7527 - val_loss: 0.7789 - val_categorical_accuracy: 0.6129\n",
            "Epoch 218/300\n",
            "368/368 [==============================] - 0s 783us/step - loss: 0.4967 - categorical_accuracy: 0.7446 - val_loss: 0.6243 - val_categorical_accuracy: 0.7204\n",
            "Epoch 219/300\n",
            "368/368 [==============================] - 0s 769us/step - loss: 0.4962 - categorical_accuracy: 0.7582 - val_loss: 0.7140 - val_categorical_accuracy: 0.6667\n",
            "Epoch 220/300\n",
            "368/368 [==============================] - 0s 826us/step - loss: 0.4928 - categorical_accuracy: 0.7473 - val_loss: 0.6104 - val_categorical_accuracy: 0.7419\n",
            "Epoch 221/300\n",
            "368/368 [==============================] - 0s 787us/step - loss: 0.4941 - categorical_accuracy: 0.7500 - val_loss: 0.6220 - val_categorical_accuracy: 0.7204\n",
            "Epoch 222/300\n",
            "368/368 [==============================] - 0s 845us/step - loss: 0.4917 - categorical_accuracy: 0.7663 - val_loss: 0.8503 - val_categorical_accuracy: 0.5376\n",
            "Epoch 223/300\n",
            "368/368 [==============================] - 0s 785us/step - loss: 0.4963 - categorical_accuracy: 0.7527 - val_loss: 0.9286 - val_categorical_accuracy: 0.4301\n",
            "Epoch 224/300\n",
            "368/368 [==============================] - 0s 815us/step - loss: 0.4970 - categorical_accuracy: 0.7446 - val_loss: 0.8812 - val_categorical_accuracy: 0.5054\n",
            "Epoch 225/300\n",
            "368/368 [==============================] - 0s 777us/step - loss: 0.4945 - categorical_accuracy: 0.7609 - val_loss: 0.8209 - val_categorical_accuracy: 0.5591\n",
            "Epoch 226/300\n",
            "368/368 [==============================] - 0s 766us/step - loss: 0.4917 - categorical_accuracy: 0.7636 - val_loss: 0.7268 - val_categorical_accuracy: 0.6667\n",
            "Epoch 227/300\n",
            "368/368 [==============================] - 0s 743us/step - loss: 0.4969 - categorical_accuracy: 0.7473 - val_loss: 0.6822 - val_categorical_accuracy: 0.7097\n",
            "Epoch 228/300\n",
            "368/368 [==============================] - 0s 788us/step - loss: 0.4924 - categorical_accuracy: 0.7582 - val_loss: 0.7079 - val_categorical_accuracy: 0.6989\n",
            "Epoch 229/300\n",
            "368/368 [==============================] - 0s 775us/step - loss: 0.4946 - categorical_accuracy: 0.7636 - val_loss: 0.7819 - val_categorical_accuracy: 0.5914\n",
            "Epoch 230/300\n",
            "368/368 [==============================] - 0s 766us/step - loss: 0.4977 - categorical_accuracy: 0.7609 - val_loss: 0.6143 - val_categorical_accuracy: 0.7204\n",
            "Epoch 231/300\n",
            "368/368 [==============================] - 0s 786us/step - loss: 0.4945 - categorical_accuracy: 0.7663 - val_loss: 0.7163 - val_categorical_accuracy: 0.6667\n",
            "Epoch 232/300\n",
            "368/368 [==============================] - 0s 760us/step - loss: 0.4924 - categorical_accuracy: 0.7582 - val_loss: 0.8126 - val_categorical_accuracy: 0.5699\n",
            "Epoch 233/300\n",
            "368/368 [==============================] - 0s 764us/step - loss: 0.4950 - categorical_accuracy: 0.7663 - val_loss: 0.6395 - val_categorical_accuracy: 0.7204\n",
            "Epoch 234/300\n",
            "368/368 [==============================] - 0s 758us/step - loss: 0.4928 - categorical_accuracy: 0.7609 - val_loss: 0.7852 - val_categorical_accuracy: 0.5806\n",
            "Epoch 235/300\n",
            "368/368 [==============================] - 0s 795us/step - loss: 0.4936 - categorical_accuracy: 0.7527 - val_loss: 0.7095 - val_categorical_accuracy: 0.6882\n",
            "Epoch 236/300\n",
            "368/368 [==============================] - 0s 774us/step - loss: 0.4914 - categorical_accuracy: 0.7582 - val_loss: 0.6032 - val_categorical_accuracy: 0.7527\n",
            "Epoch 237/300\n",
            "368/368 [==============================] - 0s 755us/step - loss: 0.4958 - categorical_accuracy: 0.7527 - val_loss: 0.6831 - val_categorical_accuracy: 0.6882\n",
            "Epoch 238/300\n",
            "368/368 [==============================] - 0s 821us/step - loss: 0.4963 - categorical_accuracy: 0.7473 - val_loss: 0.7509 - val_categorical_accuracy: 0.6129\n",
            "Epoch 239/300\n",
            "368/368 [==============================] - 0s 767us/step - loss: 0.4940 - categorical_accuracy: 0.7690 - val_loss: 0.7477 - val_categorical_accuracy: 0.6344\n",
            "Epoch 240/300\n",
            "368/368 [==============================] - 0s 770us/step - loss: 0.4974 - categorical_accuracy: 0.7636 - val_loss: 0.7308 - val_categorical_accuracy: 0.6344\n",
            "Epoch 241/300\n",
            "368/368 [==============================] - 0s 783us/step - loss: 0.4925 - categorical_accuracy: 0.7609 - val_loss: 0.6216 - val_categorical_accuracy: 0.7204\n",
            "Epoch 242/300\n",
            "368/368 [==============================] - 0s 787us/step - loss: 0.4924 - categorical_accuracy: 0.7582 - val_loss: 0.7428 - val_categorical_accuracy: 0.6237\n",
            "Epoch 243/300\n",
            "368/368 [==============================] - 0s 779us/step - loss: 0.4951 - categorical_accuracy: 0.7745 - val_loss: 0.8190 - val_categorical_accuracy: 0.5699\n",
            "Epoch 244/300\n",
            "368/368 [==============================] - 0s 769us/step - loss: 0.4933 - categorical_accuracy: 0.7554 - val_loss: 0.5647 - val_categorical_accuracy: 0.7527\n",
            "Epoch 245/300\n",
            "368/368 [==============================] - 0s 844us/step - loss: 0.4944 - categorical_accuracy: 0.7418 - val_loss: 0.5117 - val_categorical_accuracy: 0.7957\n",
            "Epoch 246/300\n",
            "368/368 [==============================] - 0s 757us/step - loss: 0.4976 - categorical_accuracy: 0.7500 - val_loss: 0.7270 - val_categorical_accuracy: 0.6667\n",
            "Epoch 247/300\n",
            "368/368 [==============================] - 0s 764us/step - loss: 0.4949 - categorical_accuracy: 0.7473 - val_loss: 0.7324 - val_categorical_accuracy: 0.6344\n",
            "Epoch 248/300\n",
            "368/368 [==============================] - 0s 791us/step - loss: 0.4974 - categorical_accuracy: 0.7446 - val_loss: 0.6974 - val_categorical_accuracy: 0.6667\n",
            "Epoch 249/300\n",
            "368/368 [==============================] - 0s 806us/step - loss: 0.4904 - categorical_accuracy: 0.7554 - val_loss: 0.7416 - val_categorical_accuracy: 0.6344\n",
            "Epoch 250/300\n",
            "368/368 [==============================] - 0s 742us/step - loss: 0.4902 - categorical_accuracy: 0.7609 - val_loss: 0.7255 - val_categorical_accuracy: 0.6667\n",
            "Epoch 251/300\n",
            "368/368 [==============================] - 0s 762us/step - loss: 0.4912 - categorical_accuracy: 0.7527 - val_loss: 0.5906 - val_categorical_accuracy: 0.7527\n",
            "Epoch 252/300\n",
            "368/368 [==============================] - 0s 766us/step - loss: 0.4953 - categorical_accuracy: 0.7391 - val_loss: 0.6452 - val_categorical_accuracy: 0.6989\n",
            "Epoch 253/300\n",
            "368/368 [==============================] - 0s 795us/step - loss: 0.4912 - categorical_accuracy: 0.7636 - val_loss: 0.7257 - val_categorical_accuracy: 0.6344\n",
            "Epoch 254/300\n",
            "368/368 [==============================] - 0s 761us/step - loss: 0.4895 - categorical_accuracy: 0.7663 - val_loss: 0.7239 - val_categorical_accuracy: 0.6559\n",
            "Epoch 255/300\n",
            "368/368 [==============================] - 0s 751us/step - loss: 0.4937 - categorical_accuracy: 0.7582 - val_loss: 0.7533 - val_categorical_accuracy: 0.6129\n",
            "Epoch 256/300\n",
            "368/368 [==============================] - 0s 789us/step - loss: 0.4919 - categorical_accuracy: 0.7609 - val_loss: 0.7358 - val_categorical_accuracy: 0.6559\n",
            "Epoch 257/300\n",
            "368/368 [==============================] - 0s 850us/step - loss: 0.4970 - categorical_accuracy: 0.7745 - val_loss: 0.7287 - val_categorical_accuracy: 0.6452\n",
            "Epoch 258/300\n",
            "368/368 [==============================] - 0s 758us/step - loss: 0.4919 - categorical_accuracy: 0.7717 - val_loss: 0.8385 - val_categorical_accuracy: 0.5699\n",
            "Epoch 259/300\n",
            "368/368 [==============================] - 0s 780us/step - loss: 0.4909 - categorical_accuracy: 0.7690 - val_loss: 0.5885 - val_categorical_accuracy: 0.7312\n",
            "Epoch 260/300\n",
            "368/368 [==============================] - 0s 806us/step - loss: 0.4900 - categorical_accuracy: 0.7527 - val_loss: 0.8207 - val_categorical_accuracy: 0.5699\n",
            "Epoch 261/300\n",
            "368/368 [==============================] - 0s 757us/step - loss: 0.4924 - categorical_accuracy: 0.7663 - val_loss: 0.6304 - val_categorical_accuracy: 0.7312\n",
            "Epoch 262/300\n",
            "368/368 [==============================] - 0s 751us/step - loss: 0.4927 - categorical_accuracy: 0.7582 - val_loss: 0.7433 - val_categorical_accuracy: 0.6237\n",
            "Epoch 263/300\n",
            "368/368 [==============================] - 0s 789us/step - loss: 0.4914 - categorical_accuracy: 0.7527 - val_loss: 0.7647 - val_categorical_accuracy: 0.6129\n",
            "Epoch 264/300\n",
            "368/368 [==============================] - 0s 768us/step - loss: 0.4902 - categorical_accuracy: 0.7663 - val_loss: 0.6848 - val_categorical_accuracy: 0.6989\n",
            "Epoch 265/300\n",
            "368/368 [==============================] - 0s 764us/step - loss: 0.4916 - categorical_accuracy: 0.7527 - val_loss: 0.5733 - val_categorical_accuracy: 0.7419\n",
            "Epoch 266/300\n",
            "368/368 [==============================] - 0s 772us/step - loss: 0.4972 - categorical_accuracy: 0.7527 - val_loss: 0.6259 - val_categorical_accuracy: 0.7204\n",
            "Epoch 267/300\n",
            "368/368 [==============================] - 0s 787us/step - loss: 0.4948 - categorical_accuracy: 0.7554 - val_loss: 0.8052 - val_categorical_accuracy: 0.5699\n",
            "Epoch 268/300\n",
            "368/368 [==============================] - 0s 783us/step - loss: 0.4889 - categorical_accuracy: 0.7527 - val_loss: 0.8522 - val_categorical_accuracy: 0.4839\n",
            "Epoch 269/300\n",
            "368/368 [==============================] - 0s 795us/step - loss: 0.4902 - categorical_accuracy: 0.7609 - val_loss: 0.7117 - val_categorical_accuracy: 0.6774\n",
            "Epoch 270/300\n",
            "368/368 [==============================] - 0s 782us/step - loss: 0.4931 - categorical_accuracy: 0.7717 - val_loss: 0.6053 - val_categorical_accuracy: 0.7527\n",
            "Epoch 271/300\n",
            "368/368 [==============================] - 0s 762us/step - loss: 0.4874 - categorical_accuracy: 0.7636 - val_loss: 0.7225 - val_categorical_accuracy: 0.6237\n",
            "Epoch 272/300\n",
            "368/368 [==============================] - 0s 770us/step - loss: 0.4916 - categorical_accuracy: 0.7609 - val_loss: 0.7923 - val_categorical_accuracy: 0.5914\n",
            "Epoch 273/300\n",
            "368/368 [==============================] - 0s 766us/step - loss: 0.4996 - categorical_accuracy: 0.7663 - val_loss: 0.8752 - val_categorical_accuracy: 0.5054\n",
            "Epoch 274/300\n",
            "368/368 [==============================] - 0s 776us/step - loss: 0.4933 - categorical_accuracy: 0.7717 - val_loss: 0.7599 - val_categorical_accuracy: 0.6129\n",
            "Epoch 275/300\n",
            "368/368 [==============================] - 0s 768us/step - loss: 0.4895 - categorical_accuracy: 0.7663 - val_loss: 0.7380 - val_categorical_accuracy: 0.6237\n",
            "Epoch 276/300\n",
            "368/368 [==============================] - 0s 772us/step - loss: 0.4879 - categorical_accuracy: 0.7690 - val_loss: 0.7071 - val_categorical_accuracy: 0.6882\n",
            "Epoch 277/300\n",
            "368/368 [==============================] - 0s 764us/step - loss: 0.4866 - categorical_accuracy: 0.7609 - val_loss: 0.6072 - val_categorical_accuracy: 0.7312\n",
            "Epoch 278/300\n",
            "368/368 [==============================] - 0s 797us/step - loss: 0.4865 - categorical_accuracy: 0.7500 - val_loss: 0.6999 - val_categorical_accuracy: 0.6774\n",
            "Epoch 279/300\n",
            "368/368 [==============================] - 0s 771us/step - loss: 0.4895 - categorical_accuracy: 0.7582 - val_loss: 0.7812 - val_categorical_accuracy: 0.6022\n",
            "Epoch 280/300\n",
            "368/368 [==============================] - 0s 765us/step - loss: 0.4889 - categorical_accuracy: 0.7582 - val_loss: 0.7573 - val_categorical_accuracy: 0.6237\n",
            "Epoch 281/300\n",
            "368/368 [==============================] - 0s 790us/step - loss: 0.4896 - categorical_accuracy: 0.7663 - val_loss: 0.8817 - val_categorical_accuracy: 0.4624\n",
            "Epoch 282/300\n",
            "368/368 [==============================] - 0s 764us/step - loss: 0.5019 - categorical_accuracy: 0.7364 - val_loss: 0.7246 - val_categorical_accuracy: 0.6667\n",
            "Epoch 283/300\n",
            "368/368 [==============================] - 0s 781us/step - loss: 0.4865 - categorical_accuracy: 0.7500 - val_loss: 0.6160 - val_categorical_accuracy: 0.7419\n",
            "Epoch 284/300\n",
            "368/368 [==============================] - 0s 757us/step - loss: 0.4857 - categorical_accuracy: 0.7554 - val_loss: 0.6254 - val_categorical_accuracy: 0.7312\n",
            "Epoch 285/300\n",
            "368/368 [==============================] - 0s 830us/step - loss: 0.4877 - categorical_accuracy: 0.7527 - val_loss: 0.7382 - val_categorical_accuracy: 0.6129\n",
            "Epoch 286/300\n",
            "368/368 [==============================] - 0s 760us/step - loss: 0.4870 - categorical_accuracy: 0.7500 - val_loss: 0.6431 - val_categorical_accuracy: 0.7097\n",
            "Epoch 287/300\n",
            "368/368 [==============================] - 0s 783us/step - loss: 0.4858 - categorical_accuracy: 0.7636 - val_loss: 0.6090 - val_categorical_accuracy: 0.7527\n",
            "Epoch 288/300\n",
            "368/368 [==============================] - 0s 821us/step - loss: 0.4851 - categorical_accuracy: 0.7500 - val_loss: 0.7761 - val_categorical_accuracy: 0.5914\n",
            "Epoch 289/300\n",
            "368/368 [==============================] - 0s 783us/step - loss: 0.4867 - categorical_accuracy: 0.7582 - val_loss: 0.6790 - val_categorical_accuracy: 0.6667\n",
            "Epoch 290/300\n",
            "368/368 [==============================] - 0s 762us/step - loss: 0.4930 - categorical_accuracy: 0.7636 - val_loss: 0.6018 - val_categorical_accuracy: 0.7312\n",
            "Epoch 291/300\n",
            "368/368 [==============================] - 0s 785us/step - loss: 0.4899 - categorical_accuracy: 0.7527 - val_loss: 0.7405 - val_categorical_accuracy: 0.6237\n",
            "Epoch 292/300\n",
            "368/368 [==============================] - 0s 827us/step - loss: 0.4878 - categorical_accuracy: 0.7554 - val_loss: 0.6769 - val_categorical_accuracy: 0.6667\n",
            "Epoch 293/300\n",
            "368/368 [==============================] - 0s 807us/step - loss: 0.4780 - categorical_accuracy: 0.7989 - val_loss: 1.0079 - val_categorical_accuracy: 0.3871\n",
            "Epoch 294/300\n",
            "368/368 [==============================] - 0s 778us/step - loss: 0.5001 - categorical_accuracy: 0.7418 - val_loss: 0.6983 - val_categorical_accuracy: 0.6667\n",
            "Epoch 295/300\n",
            "368/368 [==============================] - 0s 826us/step - loss: 0.4868 - categorical_accuracy: 0.7582 - val_loss: 0.7247 - val_categorical_accuracy: 0.6237\n",
            "Epoch 296/300\n",
            "368/368 [==============================] - 0s 767us/step - loss: 0.4839 - categorical_accuracy: 0.7690 - val_loss: 0.8990 - val_categorical_accuracy: 0.4624\n",
            "Epoch 297/300\n",
            "368/368 [==============================] - 0s 790us/step - loss: 0.4933 - categorical_accuracy: 0.7690 - val_loss: 0.8945 - val_categorical_accuracy: 0.4516\n",
            "Epoch 298/300\n",
            "368/368 [==============================] - 0s 765us/step - loss: 0.4862 - categorical_accuracy: 0.7636 - val_loss: 0.7888 - val_categorical_accuracy: 0.5914\n",
            "Epoch 299/300\n",
            "368/368 [==============================] - 0s 810us/step - loss: 0.4903 - categorical_accuracy: 0.7636 - val_loss: 0.7122 - val_categorical_accuracy: 0.6452\n",
            "Epoch 300/300\n",
            "368/368 [==============================] - 0s 794us/step - loss: 0.4879 - categorical_accuracy: 0.7582 - val_loss: 0.6570 - val_categorical_accuracy: 0.6882\n"
          ],
          "name": "stdout"
        },
        {
          "output_type": "display_data",
          "data": {
            "image/png": "[encoded data removed]",
            "text/plain": [
              "<Figure size 432x288 with 1 Axes>"
            ]
          },
          "metadata": {
            "tags": []
          }
        },
        {
          "output_type": "display_data",
          "data": {
            "image/png": "[encoded data removed]",
            "text/plain": [
              "<Figure size 432x288 with 1 Axes>"
            ]
          },
          "metadata": {
            "tags": []
          }
        }
      ]
    },
    {
      "cell_type": "markdown",
      "metadata": {
        "id": "sG4a0Q9Erjlx",
        "colab_type": "text"
      },
      "source": [
        "Viendo que no somos capaces de mejorar los resultados, vamos a intentar modificar los datos de entrada. Vamos a probar con estandarizar las escalas de los datos de entrada."
      ]
    },
    {
      "cell_type": "code",
      "metadata": {
        "id": "WaV2Bu9itSST",
        "colab_type": "code",
        "colab": {
          "base_uri": "https://localhost:8080/",
          "height": 134
        },
        "outputId": "1519e377-e779-4060-a830-e06ce7a01204"
      },
      "source": [
        "x_upgrade.columns"
      ],
      "execution_count": 339,
      "outputs": [
        {
          "output_type": "execute_result",
          "data": {
            "text/plain": [
              "Index(['Max Depth', 'Max Curve', 'Max Variation Curve', 'Age', 'K Max',\n",
              "       'Paqui Min', 'Distance Between Max Curve and Min Paqui',\n",
              "       'Position of Most Curve Point Relative to Center', 'Max Depth Norm',\n",
              "       'Max Curve Norm', 'Max Variation Curve Norm', 'Age Norm', 'K Max Norm',\n",
              "       'Paqui Min Norm', 'Distance Between Max Curve and Min Paqui Norm',\n",
              "       'Position of Most Curve Point Relative to Center Norm'],\n",
              "      dtype='object')"
            ]
          },
          "metadata": {
            "tags": []
          },
          "execution_count": 339
        }
      ]
    },
    {
      "cell_type": "code",
      "metadata": {
        "id": "NyThFhvvegO9",
        "colab_type": "code",
        "colab": {}
      },
      "source": [
        "sc = StandardScaler()\n",
        "x_upgrade.drop(['Max Depth Norm', 'Max Curve Norm', 'Max Variation Curve Norm', 'Age Norm', 'K Max Norm',\n",
        "       'Paqui Min Norm', 'Distance Between Max Curve and Min Paqui Norm',\n",
        "       'Position of Most Curve Point Relative to Center Norm'], axis = 1, inplace = True)\n",
        "x_SC = sc.fit_transform(x_upgrade.values)"
      ],
      "execution_count": 0,
      "outputs": []
    },
    {
      "cell_type": "code",
      "metadata": {
        "id": "sLsncHvgegNO",
        "colab_type": "code",
        "colab": {
          "base_uri": "https://localhost:8080/",
          "height": 234
        },
        "outputId": "79f4f2cd-6ffb-4f08-98e9-1172698684cb"
      },
      "source": [
        "x_SC"
      ],
      "execution_count": 341,
      "outputs": [
        {
          "output_type": "execute_result",
          "data": {
            "text/plain": [
              "array([[-0.47709115, -0.1673565 ,  0.08537577, ..., -0.8518976 ,\n",
              "        -0.53159119, -0.42837659],\n",
              "       [-1.05694136, -0.00323644, -0.05739278, ..., -0.93827718,\n",
              "        -0.70794347, -0.52155534],\n",
              "       [-0.02580502, -1.95775714,  1.01337129, ..., -1.30539043,\n",
              "         2.4737456 ,  2.12328765],\n",
              "       ...,\n",
              "       [ 0.88988604,  0.98148391, -0.34292986, ...,  0.57336559,\n",
              "        -0.28175879,  0.22387466],\n",
              "       [-0.37214089,  0.14596361, -0.20016132, ...,  1.8042747 ,\n",
              "        -0.80346762, -0.84409717],\n",
              "       [ 0.82691588, -0.07783647,  0.67174656, ...,  0.29263193,\n",
              "        -0.24501873,  0.46757293]])"
            ]
          },
          "metadata": {
            "tags": []
          },
          "execution_count": 341
        }
      ]
    },
    {
      "cell_type": "markdown",
      "metadata": {
        "id": "JgKv1f-JsaqH",
        "colab_type": "text"
      },
      "source": [
        "Vamos a separar las muestras en train y test, para realizar las comprobaciones necesarias posteriormente."
      ]
    },
    {
      "cell_type": "code",
      "metadata": {
        "id": "D6s6aYm_egLP",
        "colab_type": "code",
        "colab": {}
      },
      "source": [
        "X_train, X_test, y_train, y_test = train_test_split(x_SC, y_list, test_size=0.3)"
      ],
      "execution_count": 0,
      "outputs": []
    },
    {
      "cell_type": "code",
      "metadata": {
        "id": "z1ee4jmwtHe-",
        "colab_type": "code",
        "colab": {
          "base_uri": "https://localhost:8080/",
          "height": 33
        },
        "outputId": "0f74220c-8062-4078-860f-468247ee1179"
      },
      "source": [
        "X_train.shape"
      ],
      "execution_count": 343,
      "outputs": [
        {
          "output_type": "execute_result",
          "data": {
            "text/plain": [
              "(322, 8)"
            ]
          },
          "metadata": {
            "tags": []
          },
          "execution_count": 343
        }
      ]
    },
    {
      "cell_type": "code",
      "metadata": {
        "id": "9zqVGhptegHm",
        "colab_type": "code",
        "colab": {}
      },
      "source": [
        "def build_model():\n",
        "  m = models.Sequential()\n",
        "  m.add(layers.Dense(4, input_dim = 8, kernel_initializer='normal', activation='relu'))\n",
        "  m.add(layers.Dense(4, kernel_initializer='normal', activation='relu'))\n",
        "  #m.add(layers.Dense(8, kernel_initializer='normal', activation='relu'))\n",
        "  #m.add(layers.Dropout(0.1))\n",
        "  m.add(layers.Dense(1, kernel_initializer='normal', activation='sigmoid'))\n",
        "  return m"
      ],
      "execution_count": 0,
      "outputs": []
    },
    {
      "cell_type": "code",
      "metadata": {
        "id": "UFyw6uMdegEG",
        "colab_type": "code",
        "colab": {
          "base_uri": "https://localhost:8080/",
          "height": 7280
        },
        "outputId": "c76c4baa-5184-4809-ec47-374d26e59b58"
      },
      "source": [
        "model = build_model()\n",
        "model.compile(\n",
        "    optimizer=optimizers.adam(),\n",
        "    loss=losses.binary_crossentropy,\n",
        "    metrics=[metrics.binary_accuracy]   \n",
        "    )\n",
        "h = model.fit(X_train, y_train, epochs=200, batch_size=5, validation_split=.2)\n",
        "plot_metric(h, 'loss')\n",
        "plot_metric(h, 'binary_accuracy')"
      ],
      "execution_count": 356,
      "outputs": [
        {
          "output_type": "stream",
          "text": [
            "Train on 257 samples, validate on 65 samples\n",
            "Epoch 1/200\n",
            "257/257 [==============================] - 3s 12ms/step - loss: 0.6932 - binary_accuracy: 0.5097 - val_loss: 0.6925 - val_binary_accuracy: 0.5538\n",
            "Epoch 2/200\n",
            "257/257 [==============================] - 0s 864us/step - loss: 0.6924 - binary_accuracy: 0.5837 - val_loss: 0.6914 - val_binary_accuracy: 0.6615\n",
            "Epoch 3/200\n",
            "257/257 [==============================] - 0s 819us/step - loss: 0.6905 - binary_accuracy: 0.6693 - val_loss: 0.6884 - val_binary_accuracy: 0.6769\n",
            "Epoch 4/200\n",
            "257/257 [==============================] - 0s 790us/step - loss: 0.6856 - binary_accuracy: 0.6848 - val_loss: 0.6803 - val_binary_accuracy: 0.6923\n",
            "Epoch 5/200\n",
            "257/257 [==============================] - 0s 816us/step - loss: 0.6753 - binary_accuracy: 0.6887 - val_loss: 0.6664 - val_binary_accuracy: 0.7077\n",
            "Epoch 6/200\n",
            "257/257 [==============================] - 0s 803us/step - loss: 0.6581 - binary_accuracy: 0.7004 - val_loss: 0.6459 - val_binary_accuracy: 0.7385\n",
            "Epoch 7/200\n",
            "257/257 [==============================] - 0s 869us/step - loss: 0.6366 - binary_accuracy: 0.7043 - val_loss: 0.6220 - val_binary_accuracy: 0.7385\n",
            "Epoch 8/200\n",
            "257/257 [==============================] - 0s 797us/step - loss: 0.6142 - binary_accuracy: 0.7004 - val_loss: 0.5971 - val_binary_accuracy: 0.7231\n",
            "Epoch 9/200\n",
            "257/257 [==============================] - 0s 799us/step - loss: 0.5947 - binary_accuracy: 0.7043 - val_loss: 0.5769 - val_binary_accuracy: 0.7077\n",
            "Epoch 10/200\n",
            "257/257 [==============================] - 0s 805us/step - loss: 0.5793 - binary_accuracy: 0.7043 - val_loss: 0.5619 - val_binary_accuracy: 0.7077\n",
            "Epoch 11/200\n",
            "257/257 [==============================] - 0s 817us/step - loss: 0.5679 - binary_accuracy: 0.7043 - val_loss: 0.5488 - val_binary_accuracy: 0.7077\n",
            "Epoch 12/200\n",
            "257/257 [==============================] - 0s 869us/step - loss: 0.5584 - binary_accuracy: 0.7082 - val_loss: 0.5387 - val_binary_accuracy: 0.7077\n",
            "Epoch 13/200\n",
            "257/257 [==============================] - 0s 794us/step - loss: 0.5518 - binary_accuracy: 0.7121 - val_loss: 0.5304 - val_binary_accuracy: 0.7231\n",
            "Epoch 14/200\n",
            "257/257 [==============================] - 0s 798us/step - loss: 0.5466 - binary_accuracy: 0.7121 - val_loss: 0.5254 - val_binary_accuracy: 0.7231\n",
            "Epoch 15/200\n",
            "257/257 [==============================] - 0s 817us/step - loss: 0.5426 - binary_accuracy: 0.7237 - val_loss: 0.5199 - val_binary_accuracy: 0.7231\n",
            "Epoch 16/200\n",
            "257/257 [==============================] - 0s 806us/step - loss: 0.5404 - binary_accuracy: 0.7237 - val_loss: 0.5170 - val_binary_accuracy: 0.7231\n",
            "Epoch 17/200\n",
            "257/257 [==============================] - 0s 874us/step - loss: 0.5365 - binary_accuracy: 0.7354 - val_loss: 0.5145 - val_binary_accuracy: 0.7231\n",
            "Epoch 18/200\n",
            "257/257 [==============================] - 0s 788us/step - loss: 0.5351 - binary_accuracy: 0.7393 - val_loss: 0.5119 - val_binary_accuracy: 0.7231\n",
            "Epoch 19/200\n",
            "257/257 [==============================] - 0s 805us/step - loss: 0.5331 - binary_accuracy: 0.7354 - val_loss: 0.5095 - val_binary_accuracy: 0.7231\n",
            "Epoch 20/200\n",
            "257/257 [==============================] - 0s 809us/step - loss: 0.5312 - binary_accuracy: 0.7354 - val_loss: 0.5078 - val_binary_accuracy: 0.7231\n",
            "Epoch 21/200\n",
            "257/257 [==============================] - 0s 837us/step - loss: 0.5304 - binary_accuracy: 0.7315 - val_loss: 0.5082 - val_binary_accuracy: 0.7231\n",
            "Epoch 22/200\n",
            "257/257 [==============================] - 0s 853us/step - loss: 0.5280 - binary_accuracy: 0.7315 - val_loss: 0.5075 - val_binary_accuracy: 0.7231\n",
            "Epoch 23/200\n",
            "257/257 [==============================] - 0s 785us/step - loss: 0.5263 - binary_accuracy: 0.7276 - val_loss: 0.5071 - val_binary_accuracy: 0.7231\n",
            "Epoch 24/200\n",
            "257/257 [==============================] - 0s 789us/step - loss: 0.5253 - binary_accuracy: 0.7237 - val_loss: 0.5069 - val_binary_accuracy: 0.7385\n",
            "Epoch 25/200\n",
            "257/257 [==============================] - 0s 812us/step - loss: 0.5247 - binary_accuracy: 0.7276 - val_loss: 0.5059 - val_binary_accuracy: 0.7385\n",
            "Epoch 26/200\n",
            "257/257 [==============================] - 0s 867us/step - loss: 0.5228 - binary_accuracy: 0.7276 - val_loss: 0.5051 - val_binary_accuracy: 0.7385\n",
            "Epoch 27/200\n",
            "257/257 [==============================] - 0s 820us/step - loss: 0.5220 - binary_accuracy: 0.7276 - val_loss: 0.5056 - val_binary_accuracy: 0.7385\n",
            "Epoch 28/200\n",
            "257/257 [==============================] - 0s 810us/step - loss: 0.5203 - binary_accuracy: 0.7276 - val_loss: 0.5057 - val_binary_accuracy: 0.7385\n",
            "Epoch 29/200\n",
            "257/257 [==============================] - 0s 797us/step - loss: 0.5196 - binary_accuracy: 0.7276 - val_loss: 0.5050 - val_binary_accuracy: 0.7538\n",
            "Epoch 30/200\n",
            "257/257 [==============================] - 0s 809us/step - loss: 0.5185 - binary_accuracy: 0.7354 - val_loss: 0.5047 - val_binary_accuracy: 0.7538\n",
            "Epoch 31/200\n",
            "257/257 [==============================] - 0s 840us/step - loss: 0.5171 - binary_accuracy: 0.7354 - val_loss: 0.5040 - val_binary_accuracy: 0.7538\n",
            "Epoch 32/200\n",
            "257/257 [==============================] - 0s 811us/step - loss: 0.5161 - binary_accuracy: 0.7315 - val_loss: 0.5045 - val_binary_accuracy: 0.7538\n",
            "Epoch 33/200\n",
            "257/257 [==============================] - 0s 809us/step - loss: 0.5160 - binary_accuracy: 0.7315 - val_loss: 0.5045 - val_binary_accuracy: 0.7538\n",
            "Epoch 34/200\n",
            "257/257 [==============================] - 0s 810us/step - loss: 0.5140 - binary_accuracy: 0.7354 - val_loss: 0.5043 - val_binary_accuracy: 0.7538\n",
            "Epoch 35/200\n",
            "257/257 [==============================] - 0s 823us/step - loss: 0.5132 - binary_accuracy: 0.7354 - val_loss: 0.5043 - val_binary_accuracy: 0.7538\n",
            "Epoch 36/200\n",
            "257/257 [==============================] - 0s 852us/step - loss: 0.5130 - binary_accuracy: 0.7315 - val_loss: 0.5043 - val_binary_accuracy: 0.7538\n",
            "Epoch 37/200\n",
            "257/257 [==============================] - 0s 817us/step - loss: 0.5115 - binary_accuracy: 0.7354 - val_loss: 0.5048 - val_binary_accuracy: 0.7385\n",
            "Epoch 38/200\n",
            "257/257 [==============================] - 0s 806us/step - loss: 0.5111 - binary_accuracy: 0.7315 - val_loss: 0.5052 - val_binary_accuracy: 0.7538\n",
            "Epoch 39/200\n",
            "257/257 [==============================] - 0s 809us/step - loss: 0.5103 - binary_accuracy: 0.7315 - val_loss: 0.5050 - val_binary_accuracy: 0.7385\n",
            "Epoch 40/200\n",
            "257/257 [==============================] - 0s 803us/step - loss: 0.5087 - binary_accuracy: 0.7276 - val_loss: 0.5055 - val_binary_accuracy: 0.7385\n",
            "Epoch 41/200\n",
            "257/257 [==============================] - 0s 833us/step - loss: 0.5079 - binary_accuracy: 0.7276 - val_loss: 0.5053 - val_binary_accuracy: 0.7385\n",
            "Epoch 42/200\n",
            "257/257 [==============================] - 0s 815us/step - loss: 0.5076 - binary_accuracy: 0.7315 - val_loss: 0.5055 - val_binary_accuracy: 0.7538\n",
            "Epoch 43/200\n",
            "257/257 [==============================] - 0s 816us/step - loss: 0.5062 - binary_accuracy: 0.7315 - val_loss: 0.5053 - val_binary_accuracy: 0.7385\n",
            "Epoch 44/200\n",
            "257/257 [==============================] - 0s 824us/step - loss: 0.5051 - binary_accuracy: 0.7315 - val_loss: 0.5064 - val_binary_accuracy: 0.7385\n",
            "Epoch 45/200\n",
            "257/257 [==============================] - 0s 848us/step - loss: 0.5044 - binary_accuracy: 0.7393 - val_loss: 0.5066 - val_binary_accuracy: 0.7538\n",
            "Epoch 46/200\n",
            "257/257 [==============================] - 0s 849us/step - loss: 0.5039 - binary_accuracy: 0.7393 - val_loss: 0.5071 - val_binary_accuracy: 0.7538\n",
            "Epoch 47/200\n",
            "257/257 [==============================] - 0s 860us/step - loss: 0.5032 - binary_accuracy: 0.7393 - val_loss: 0.5074 - val_binary_accuracy: 0.7538\n",
            "Epoch 48/200\n",
            "257/257 [==============================] - 0s 814us/step - loss: 0.5027 - binary_accuracy: 0.7393 - val_loss: 0.5077 - val_binary_accuracy: 0.7538\n",
            "Epoch 49/200\n",
            "257/257 [==============================] - 0s 803us/step - loss: 0.5028 - binary_accuracy: 0.7432 - val_loss: 0.5070 - val_binary_accuracy: 0.7538\n",
            "Epoch 50/200\n",
            "257/257 [==============================] - 0s 811us/step - loss: 0.5019 - binary_accuracy: 0.7393 - val_loss: 0.5074 - val_binary_accuracy: 0.7538\n",
            "Epoch 51/200\n",
            "257/257 [==============================] - 0s 831us/step - loss: 0.5008 - binary_accuracy: 0.7354 - val_loss: 0.5075 - val_binary_accuracy: 0.7538\n",
            "Epoch 52/200\n",
            "257/257 [==============================] - 0s 819us/step - loss: 0.5004 - binary_accuracy: 0.7432 - val_loss: 0.5076 - val_binary_accuracy: 0.7538\n",
            "Epoch 53/200\n",
            "257/257 [==============================] - 0s 831us/step - loss: 0.5001 - binary_accuracy: 0.7432 - val_loss: 0.5076 - val_binary_accuracy: 0.7538\n",
            "Epoch 54/200\n",
            "257/257 [==============================] - 0s 817us/step - loss: 0.4995 - binary_accuracy: 0.7393 - val_loss: 0.5080 - val_binary_accuracy: 0.7538\n",
            "Epoch 55/200\n",
            "257/257 [==============================] - 0s 848us/step - loss: 0.5006 - binary_accuracy: 0.7354 - val_loss: 0.5086 - val_binary_accuracy: 0.7538\n",
            "Epoch 56/200\n",
            "257/257 [==============================] - 0s 825us/step - loss: 0.4989 - binary_accuracy: 0.7471 - val_loss: 0.5087 - val_binary_accuracy: 0.7538\n",
            "Epoch 57/200\n",
            "257/257 [==============================] - 0s 819us/step - loss: 0.4992 - binary_accuracy: 0.7471 - val_loss: 0.5088 - val_binary_accuracy: 0.7538\n",
            "Epoch 58/200\n",
            "257/257 [==============================] - 0s 821us/step - loss: 0.4984 - binary_accuracy: 0.7471 - val_loss: 0.5096 - val_binary_accuracy: 0.7538\n",
            "Epoch 59/200\n",
            "257/257 [==============================] - 0s 818us/step - loss: 0.4973 - binary_accuracy: 0.7432 - val_loss: 0.5097 - val_binary_accuracy: 0.7538\n",
            "Epoch 60/200\n",
            "257/257 [==============================] - 0s 856us/step - loss: 0.4975 - binary_accuracy: 0.7432 - val_loss: 0.5099 - val_binary_accuracy: 0.7538\n",
            "Epoch 61/200\n",
            "257/257 [==============================] - 0s 811us/step - loss: 0.4969 - binary_accuracy: 0.7471 - val_loss: 0.5101 - val_binary_accuracy: 0.7538\n",
            "Epoch 62/200\n",
            "257/257 [==============================] - 0s 800us/step - loss: 0.4967 - binary_accuracy: 0.7471 - val_loss: 0.5101 - val_binary_accuracy: 0.7538\n",
            "Epoch 63/200\n",
            "257/257 [==============================] - 0s 805us/step - loss: 0.4966 - binary_accuracy: 0.7393 - val_loss: 0.5104 - val_binary_accuracy: 0.7538\n",
            "Epoch 64/200\n",
            "257/257 [==============================] - 0s 811us/step - loss: 0.4963 - binary_accuracy: 0.7432 - val_loss: 0.5113 - val_binary_accuracy: 0.7538\n",
            "Epoch 65/200\n",
            "257/257 [==============================] - 0s 834us/step - loss: 0.4961 - binary_accuracy: 0.7471 - val_loss: 0.5111 - val_binary_accuracy: 0.7538\n",
            "Epoch 66/200\n",
            "257/257 [==============================] - 0s 815us/step - loss: 0.4953 - binary_accuracy: 0.7432 - val_loss: 0.5110 - val_binary_accuracy: 0.7538\n",
            "Epoch 67/200\n",
            "257/257 [==============================] - 0s 789us/step - loss: 0.4948 - binary_accuracy: 0.7471 - val_loss: 0.5115 - val_binary_accuracy: 0.7538\n",
            "Epoch 68/200\n",
            "257/257 [==============================] - 0s 837us/step - loss: 0.4946 - binary_accuracy: 0.7432 - val_loss: 0.5118 - val_binary_accuracy: 0.7538\n",
            "Epoch 69/200\n",
            "257/257 [==============================] - 0s 808us/step - loss: 0.4946 - binary_accuracy: 0.7471 - val_loss: 0.5120 - val_binary_accuracy: 0.7538\n",
            "Epoch 70/200\n",
            "257/257 [==============================] - 0s 846us/step - loss: 0.4935 - binary_accuracy: 0.7393 - val_loss: 0.5118 - val_binary_accuracy: 0.7538\n",
            "Epoch 71/200\n",
            "257/257 [==============================] - 0s 796us/step - loss: 0.4936 - binary_accuracy: 0.7354 - val_loss: 0.5121 - val_binary_accuracy: 0.7538\n",
            "Epoch 72/200\n",
            "257/257 [==============================] - 0s 791us/step - loss: 0.4929 - binary_accuracy: 0.7432 - val_loss: 0.5122 - val_binary_accuracy: 0.7538\n",
            "Epoch 73/200\n",
            "257/257 [==============================] - 0s 802us/step - loss: 0.4935 - binary_accuracy: 0.7354 - val_loss: 0.5122 - val_binary_accuracy: 0.7538\n",
            "Epoch 74/200\n",
            "257/257 [==============================] - 0s 802us/step - loss: 0.4925 - binary_accuracy: 0.7393 - val_loss: 0.5128 - val_binary_accuracy: 0.7538\n",
            "Epoch 75/200\n",
            "257/257 [==============================] - 0s 862us/step - loss: 0.4913 - binary_accuracy: 0.7393 - val_loss: 0.5123 - val_binary_accuracy: 0.7538\n",
            "Epoch 76/200\n",
            "257/257 [==============================] - 0s 799us/step - loss: 0.4911 - binary_accuracy: 0.7432 - val_loss: 0.5132 - val_binary_accuracy: 0.7538\n",
            "Epoch 77/200\n",
            "257/257 [==============================] - 0s 786us/step - loss: 0.4913 - binary_accuracy: 0.7315 - val_loss: 0.5129 - val_binary_accuracy: 0.7538\n",
            "Epoch 78/200\n",
            "257/257 [==============================] - 0s 798us/step - loss: 0.4907 - binary_accuracy: 0.7354 - val_loss: 0.5136 - val_binary_accuracy: 0.7385\n",
            "Epoch 79/200\n",
            "257/257 [==============================] - 0s 814us/step - loss: 0.4902 - binary_accuracy: 0.7393 - val_loss: 0.5132 - val_binary_accuracy: 0.7538\n",
            "Epoch 80/200\n",
            "257/257 [==============================] - 0s 841us/step - loss: 0.4899 - binary_accuracy: 0.7393 - val_loss: 0.5132 - val_binary_accuracy: 0.7385\n",
            "Epoch 81/200\n",
            "257/257 [==============================] - 0s 826us/step - loss: 0.4905 - binary_accuracy: 0.7276 - val_loss: 0.5139 - val_binary_accuracy: 0.7385\n",
            "Epoch 82/200\n",
            "257/257 [==============================] - 0s 806us/step - loss: 0.4894 - binary_accuracy: 0.7315 - val_loss: 0.5138 - val_binary_accuracy: 0.7385\n",
            "Epoch 83/200\n",
            "257/257 [==============================] - 0s 818us/step - loss: 0.4890 - binary_accuracy: 0.7276 - val_loss: 0.5143 - val_binary_accuracy: 0.7385\n",
            "Epoch 84/200\n",
            "257/257 [==============================] - 0s 821us/step - loss: 0.4887 - binary_accuracy: 0.7471 - val_loss: 0.5144 - val_binary_accuracy: 0.7385\n",
            "Epoch 85/200\n",
            "257/257 [==============================] - 0s 857us/step - loss: 0.4883 - binary_accuracy: 0.7276 - val_loss: 0.5151 - val_binary_accuracy: 0.7385\n",
            "Epoch 86/200\n",
            "257/257 [==============================] - 0s 803us/step - loss: 0.4881 - binary_accuracy: 0.7237 - val_loss: 0.5151 - val_binary_accuracy: 0.7385\n",
            "Epoch 87/200\n",
            "257/257 [==============================] - 0s 807us/step - loss: 0.4884 - binary_accuracy: 0.7315 - val_loss: 0.5157 - val_binary_accuracy: 0.7385\n",
            "Epoch 88/200\n",
            "257/257 [==============================] - 0s 788us/step - loss: 0.4873 - binary_accuracy: 0.7276 - val_loss: 0.5153 - val_binary_accuracy: 0.7385\n",
            "Epoch 89/200\n",
            "257/257 [==============================] - 0s 887us/step - loss: 0.4875 - binary_accuracy: 0.7198 - val_loss: 0.5161 - val_binary_accuracy: 0.7385\n",
            "Epoch 90/200\n",
            "257/257 [==============================] - 0s 814us/step - loss: 0.4863 - binary_accuracy: 0.7315 - val_loss: 0.5155 - val_binary_accuracy: 0.7385\n",
            "Epoch 91/200\n",
            "257/257 [==============================] - 0s 802us/step - loss: 0.4862 - binary_accuracy: 0.7276 - val_loss: 0.5158 - val_binary_accuracy: 0.7385\n",
            "Epoch 92/200\n",
            "257/257 [==============================] - 0s 817us/step - loss: 0.4862 - binary_accuracy: 0.7393 - val_loss: 0.5155 - val_binary_accuracy: 0.7385\n",
            "Epoch 93/200\n",
            "257/257 [==============================] - 0s 797us/step - loss: 0.4850 - binary_accuracy: 0.7354 - val_loss: 0.5158 - val_binary_accuracy: 0.7385\n",
            "Epoch 94/200\n",
            "257/257 [==============================] - 0s 840us/step - loss: 0.4846 - binary_accuracy: 0.7393 - val_loss: 0.5156 - val_binary_accuracy: 0.7385\n",
            "Epoch 95/200\n",
            "257/257 [==============================] - 0s 848us/step - loss: 0.4843 - binary_accuracy: 0.7315 - val_loss: 0.5157 - val_binary_accuracy: 0.7385\n",
            "Epoch 96/200\n",
            "257/257 [==============================] - 0s 818us/step - loss: 0.4841 - binary_accuracy: 0.7315 - val_loss: 0.5163 - val_binary_accuracy: 0.7385\n",
            "Epoch 97/200\n",
            "257/257 [==============================] - 0s 821us/step - loss: 0.4835 - binary_accuracy: 0.7354 - val_loss: 0.5157 - val_binary_accuracy: 0.7385\n",
            "Epoch 98/200\n",
            "257/257 [==============================] - 0s 794us/step - loss: 0.4837 - binary_accuracy: 0.7354 - val_loss: 0.5160 - val_binary_accuracy: 0.7385\n",
            "Epoch 99/200\n",
            "257/257 [==============================] - 0s 853us/step - loss: 0.4829 - binary_accuracy: 0.7393 - val_loss: 0.5161 - val_binary_accuracy: 0.7385\n",
            "Epoch 100/200\n",
            "257/257 [==============================] - 0s 800us/step - loss: 0.4822 - binary_accuracy: 0.7393 - val_loss: 0.5166 - val_binary_accuracy: 0.7385\n",
            "Epoch 101/200\n",
            "257/257 [==============================] - 0s 806us/step - loss: 0.4823 - binary_accuracy: 0.7432 - val_loss: 0.5163 - val_binary_accuracy: 0.7385\n",
            "Epoch 102/200\n",
            "257/257 [==============================] - 0s 843us/step - loss: 0.4820 - binary_accuracy: 0.7393 - val_loss: 0.5169 - val_binary_accuracy: 0.7385\n",
            "Epoch 103/200\n",
            "257/257 [==============================] - 0s 826us/step - loss: 0.4823 - binary_accuracy: 0.7393 - val_loss: 0.5171 - val_binary_accuracy: 0.7385\n",
            "Epoch 104/200\n",
            "257/257 [==============================] - 0s 839us/step - loss: 0.4813 - binary_accuracy: 0.7393 - val_loss: 0.5164 - val_binary_accuracy: 0.7385\n",
            "Epoch 105/200\n",
            "257/257 [==============================] - 0s 806us/step - loss: 0.4813 - binary_accuracy: 0.7393 - val_loss: 0.5169 - val_binary_accuracy: 0.7385\n",
            "Epoch 106/200\n",
            "257/257 [==============================] - 0s 814us/step - loss: 0.4812 - binary_accuracy: 0.7432 - val_loss: 0.5167 - val_binary_accuracy: 0.7385\n",
            "Epoch 107/200\n",
            "257/257 [==============================] - 0s 799us/step - loss: 0.4808 - binary_accuracy: 0.7354 - val_loss: 0.5170 - val_binary_accuracy: 0.7385\n",
            "Epoch 108/200\n",
            "257/257 [==============================] - 0s 811us/step - loss: 0.4808 - binary_accuracy: 0.7432 - val_loss: 0.5173 - val_binary_accuracy: 0.7385\n",
            "Epoch 109/200\n",
            "257/257 [==============================] - 0s 864us/step - loss: 0.4798 - binary_accuracy: 0.7432 - val_loss: 0.5172 - val_binary_accuracy: 0.7385\n",
            "Epoch 110/200\n",
            "257/257 [==============================] - 0s 806us/step - loss: 0.4801 - binary_accuracy: 0.7432 - val_loss: 0.5174 - val_binary_accuracy: 0.7385\n",
            "Epoch 111/200\n",
            "257/257 [==============================] - 0s 795us/step - loss: 0.4799 - binary_accuracy: 0.7393 - val_loss: 0.5171 - val_binary_accuracy: 0.7385\n",
            "Epoch 112/200\n",
            "257/257 [==============================] - 0s 813us/step - loss: 0.4801 - binary_accuracy: 0.7471 - val_loss: 0.5178 - val_binary_accuracy: 0.7385\n",
            "Epoch 113/200\n",
            "257/257 [==============================] - 0s 798us/step - loss: 0.4794 - binary_accuracy: 0.7432 - val_loss: 0.5176 - val_binary_accuracy: 0.7385\n",
            "Epoch 114/200\n",
            "257/257 [==============================] - 0s 849us/step - loss: 0.4787 - binary_accuracy: 0.7432 - val_loss: 0.5177 - val_binary_accuracy: 0.7385\n",
            "Epoch 115/200\n",
            "257/257 [==============================] - 0s 829us/step - loss: 0.4795 - binary_accuracy: 0.7471 - val_loss: 0.5176 - val_binary_accuracy: 0.7385\n",
            "Epoch 116/200\n",
            "257/257 [==============================] - 0s 863us/step - loss: 0.4788 - binary_accuracy: 0.7471 - val_loss: 0.5179 - val_binary_accuracy: 0.7385\n",
            "Epoch 117/200\n",
            "257/257 [==============================] - 0s 802us/step - loss: 0.4784 - binary_accuracy: 0.7471 - val_loss: 0.5179 - val_binary_accuracy: 0.7385\n",
            "Epoch 118/200\n",
            "257/257 [==============================] - 0s 862us/step - loss: 0.4782 - binary_accuracy: 0.7432 - val_loss: 0.5181 - val_binary_accuracy: 0.7385\n",
            "Epoch 119/200\n",
            "257/257 [==============================] - 0s 817us/step - loss: 0.4779 - binary_accuracy: 0.7432 - val_loss: 0.5184 - val_binary_accuracy: 0.7385\n",
            "Epoch 120/200\n",
            "257/257 [==============================] - 0s 802us/step - loss: 0.4777 - binary_accuracy: 0.7471 - val_loss: 0.5187 - val_binary_accuracy: 0.7385\n",
            "Epoch 121/200\n",
            "257/257 [==============================] - 0s 819us/step - loss: 0.4786 - binary_accuracy: 0.7471 - val_loss: 0.5179 - val_binary_accuracy: 0.7385\n",
            "Epoch 122/200\n",
            "257/257 [==============================] - 0s 814us/step - loss: 0.4773 - binary_accuracy: 0.7471 - val_loss: 0.5183 - val_binary_accuracy: 0.7385\n",
            "Epoch 123/200\n",
            "257/257 [==============================] - 0s 836us/step - loss: 0.4775 - binary_accuracy: 0.7471 - val_loss: 0.5185 - val_binary_accuracy: 0.7385\n",
            "Epoch 124/200\n",
            "257/257 [==============================] - 0s 808us/step - loss: 0.4771 - binary_accuracy: 0.7510 - val_loss: 0.5191 - val_binary_accuracy: 0.7385\n",
            "Epoch 125/200\n",
            "257/257 [==============================] - 0s 791us/step - loss: 0.4766 - binary_accuracy: 0.7471 - val_loss: 0.5187 - val_binary_accuracy: 0.7385\n",
            "Epoch 126/200\n",
            "257/257 [==============================] - 0s 816us/step - loss: 0.4762 - binary_accuracy: 0.7432 - val_loss: 0.5184 - val_binary_accuracy: 0.7385\n",
            "Epoch 127/200\n",
            "257/257 [==============================] - 0s 810us/step - loss: 0.4756 - binary_accuracy: 0.7432 - val_loss: 0.5187 - val_binary_accuracy: 0.7385\n",
            "Epoch 128/200\n",
            "257/257 [==============================] - 0s 880us/step - loss: 0.4756 - binary_accuracy: 0.7432 - val_loss: 0.5186 - val_binary_accuracy: 0.7385\n",
            "Epoch 129/200\n",
            "257/257 [==============================] - 0s 794us/step - loss: 0.4755 - binary_accuracy: 0.7471 - val_loss: 0.5196 - val_binary_accuracy: 0.7385\n",
            "Epoch 130/200\n",
            "257/257 [==============================] - 0s 807us/step - loss: 0.4758 - binary_accuracy: 0.7432 - val_loss: 0.5191 - val_binary_accuracy: 0.7385\n",
            "Epoch 131/200\n",
            "257/257 [==============================] - 0s 807us/step - loss: 0.4765 - binary_accuracy: 0.7432 - val_loss: 0.5190 - val_binary_accuracy: 0.7231\n",
            "Epoch 132/200\n",
            "257/257 [==============================] - 0s 842us/step - loss: 0.4746 - binary_accuracy: 0.7432 - val_loss: 0.5185 - val_binary_accuracy: 0.7231\n",
            "Epoch 133/200\n",
            "257/257 [==============================] - 0s 848us/step - loss: 0.4745 - binary_accuracy: 0.7432 - val_loss: 0.5193 - val_binary_accuracy: 0.7385\n",
            "Epoch 134/200\n",
            "257/257 [==============================] - 0s 809us/step - loss: 0.4743 - binary_accuracy: 0.7432 - val_loss: 0.5190 - val_binary_accuracy: 0.7231\n",
            "Epoch 135/200\n",
            "257/257 [==============================] - 0s 806us/step - loss: 0.4744 - binary_accuracy: 0.7393 - val_loss: 0.5191 - val_binary_accuracy: 0.7231\n",
            "Epoch 136/200\n",
            "257/257 [==============================] - 0s 798us/step - loss: 0.4739 - binary_accuracy: 0.7393 - val_loss: 0.5183 - val_binary_accuracy: 0.7231\n",
            "Epoch 137/200\n",
            "257/257 [==============================] - 0s 820us/step - loss: 0.4737 - binary_accuracy: 0.7393 - val_loss: 0.5183 - val_binary_accuracy: 0.7231\n",
            "Epoch 138/200\n",
            "257/257 [==============================] - 0s 866us/step - loss: 0.4732 - binary_accuracy: 0.7393 - val_loss: 0.5181 - val_binary_accuracy: 0.7231\n",
            "Epoch 139/200\n",
            "257/257 [==============================] - 0s 791us/step - loss: 0.4731 - binary_accuracy: 0.7393 - val_loss: 0.5180 - val_binary_accuracy: 0.7231\n",
            "Epoch 140/200\n",
            "257/257 [==============================] - 0s 828us/step - loss: 0.4731 - binary_accuracy: 0.7393 - val_loss: 0.5190 - val_binary_accuracy: 0.7231\n",
            "Epoch 141/200\n",
            "257/257 [==============================] - 0s 812us/step - loss: 0.4731 - binary_accuracy: 0.7393 - val_loss: 0.5179 - val_binary_accuracy: 0.7231\n",
            "Epoch 142/200\n",
            "257/257 [==============================] - 0s 848us/step - loss: 0.4726 - binary_accuracy: 0.7393 - val_loss: 0.5188 - val_binary_accuracy: 0.7231\n",
            "Epoch 143/200\n",
            "257/257 [==============================] - 0s 845us/step - loss: 0.4725 - binary_accuracy: 0.7393 - val_loss: 0.5185 - val_binary_accuracy: 0.7231\n",
            "Epoch 144/200\n",
            "257/257 [==============================] - 0s 801us/step - loss: 0.4719 - binary_accuracy: 0.7393 - val_loss: 0.5180 - val_binary_accuracy: 0.7231\n",
            "Epoch 145/200\n",
            "257/257 [==============================] - 0s 810us/step - loss: 0.4721 - binary_accuracy: 0.7432 - val_loss: 0.5180 - val_binary_accuracy: 0.7231\n",
            "Epoch 146/200\n",
            "257/257 [==============================] - 0s 821us/step - loss: 0.4719 - binary_accuracy: 0.7393 - val_loss: 0.5175 - val_binary_accuracy: 0.7231\n",
            "Epoch 147/200\n",
            "257/257 [==============================] - 0s 811us/step - loss: 0.4722 - binary_accuracy: 0.7393 - val_loss: 0.5173 - val_binary_accuracy: 0.7231\n",
            "Epoch 148/200\n",
            "257/257 [==============================] - 0s 810us/step - loss: 0.4716 - binary_accuracy: 0.7393 - val_loss: 0.5170 - val_binary_accuracy: 0.7231\n",
            "Epoch 149/200\n",
            "257/257 [==============================] - 0s 890us/step - loss: 0.4711 - binary_accuracy: 0.7432 - val_loss: 0.5180 - val_binary_accuracy: 0.7231\n",
            "Epoch 150/200\n",
            "257/257 [==============================] - 0s 815us/step - loss: 0.4716 - binary_accuracy: 0.7393 - val_loss: 0.5171 - val_binary_accuracy: 0.7231\n",
            "Epoch 151/200\n",
            "257/257 [==============================] - 0s 809us/step - loss: 0.4717 - binary_accuracy: 0.7471 - val_loss: 0.5173 - val_binary_accuracy: 0.7231\n",
            "Epoch 152/200\n",
            "257/257 [==============================] - 0s 860us/step - loss: 0.4715 - binary_accuracy: 0.7393 - val_loss: 0.5175 - val_binary_accuracy: 0.7231\n",
            "Epoch 153/200\n",
            "257/257 [==============================] - 0s 793us/step - loss: 0.4706 - binary_accuracy: 0.7432 - val_loss: 0.5167 - val_binary_accuracy: 0.7231\n",
            "Epoch 154/200\n",
            "257/257 [==============================] - 0s 813us/step - loss: 0.4701 - binary_accuracy: 0.7432 - val_loss: 0.5166 - val_binary_accuracy: 0.7385\n",
            "Epoch 155/200\n",
            "257/257 [==============================] - 0s 820us/step - loss: 0.4705 - binary_accuracy: 0.7393 - val_loss: 0.5160 - val_binary_accuracy: 0.7385\n",
            "Epoch 156/200\n",
            "257/257 [==============================] - 0s 809us/step - loss: 0.4704 - binary_accuracy: 0.7393 - val_loss: 0.5161 - val_binary_accuracy: 0.7385\n",
            "Epoch 157/200\n",
            "257/257 [==============================] - 0s 833us/step - loss: 0.4706 - binary_accuracy: 0.7393 - val_loss: 0.5165 - val_binary_accuracy: 0.7231\n",
            "Epoch 158/200\n",
            "257/257 [==============================] - 0s 802us/step - loss: 0.4700 - binary_accuracy: 0.7432 - val_loss: 0.5157 - val_binary_accuracy: 0.7385\n",
            "Epoch 159/200\n",
            "257/257 [==============================] - 0s 806us/step - loss: 0.4694 - binary_accuracy: 0.7432 - val_loss: 0.5163 - val_binary_accuracy: 0.7385\n",
            "Epoch 160/200\n",
            "257/257 [==============================] - 0s 816us/step - loss: 0.4695 - binary_accuracy: 0.7432 - val_loss: 0.5167 - val_binary_accuracy: 0.7385\n",
            "Epoch 161/200\n",
            "257/257 [==============================] - 0s 816us/step - loss: 0.4691 - binary_accuracy: 0.7432 - val_loss: 0.5166 - val_binary_accuracy: 0.7385\n",
            "Epoch 162/200\n",
            "257/257 [==============================] - 0s 845us/step - loss: 0.4691 - binary_accuracy: 0.7432 - val_loss: 0.5157 - val_binary_accuracy: 0.7231\n",
            "Epoch 163/200\n",
            "257/257 [==============================] - 0s 830us/step - loss: 0.4698 - binary_accuracy: 0.7432 - val_loss: 0.5152 - val_binary_accuracy: 0.7231\n",
            "Epoch 164/200\n",
            "257/257 [==============================] - 0s 798us/step - loss: 0.4691 - binary_accuracy: 0.7432 - val_loss: 0.5155 - val_binary_accuracy: 0.7385\n",
            "Epoch 165/200\n",
            "257/257 [==============================] - 0s 820us/step - loss: 0.4683 - binary_accuracy: 0.7432 - val_loss: 0.5153 - val_binary_accuracy: 0.7385\n",
            "Epoch 166/200\n",
            "257/257 [==============================] - 0s 798us/step - loss: 0.4681 - binary_accuracy: 0.7432 - val_loss: 0.5148 - val_binary_accuracy: 0.7385\n",
            "Epoch 167/200\n",
            "257/257 [==============================] - 0s 854us/step - loss: 0.4683 - binary_accuracy: 0.7393 - val_loss: 0.5152 - val_binary_accuracy: 0.7231\n",
            "Epoch 168/200\n",
            "257/257 [==============================] - 0s 802us/step - loss: 0.4674 - binary_accuracy: 0.7432 - val_loss: 0.5145 - val_binary_accuracy: 0.7385\n",
            "Epoch 169/200\n",
            "257/257 [==============================] - 0s 818us/step - loss: 0.4673 - binary_accuracy: 0.7471 - val_loss: 0.5155 - val_binary_accuracy: 0.7385\n",
            "Epoch 170/200\n",
            "257/257 [==============================] - 0s 822us/step - loss: 0.4672 - binary_accuracy: 0.7471 - val_loss: 0.5149 - val_binary_accuracy: 0.7385\n",
            "Epoch 171/200\n",
            "257/257 [==============================] - 0s 821us/step - loss: 0.4666 - binary_accuracy: 0.7432 - val_loss: 0.5140 - val_binary_accuracy: 0.7385\n",
            "Epoch 172/200\n",
            "257/257 [==============================] - 0s 854us/step - loss: 0.4666 - binary_accuracy: 0.7432 - val_loss: 0.5136 - val_binary_accuracy: 0.7385\n",
            "Epoch 173/200\n",
            "257/257 [==============================] - 0s 807us/step - loss: 0.4662 - binary_accuracy: 0.7393 - val_loss: 0.5131 - val_binary_accuracy: 0.7385\n",
            "Epoch 174/200\n",
            "257/257 [==============================] - 0s 800us/step - loss: 0.4662 - binary_accuracy: 0.7432 - val_loss: 0.5130 - val_binary_accuracy: 0.7385\n",
            "Epoch 175/200\n",
            "257/257 [==============================] - 0s 837us/step - loss: 0.4651 - binary_accuracy: 0.7432 - val_loss: 0.5125 - val_binary_accuracy: 0.7385\n",
            "Epoch 176/200\n",
            "257/257 [==============================] - 0s 823us/step - loss: 0.4655 - binary_accuracy: 0.7393 - val_loss: 0.5120 - val_binary_accuracy: 0.7385\n",
            "Epoch 177/200\n",
            "257/257 [==============================] - 0s 833us/step - loss: 0.4648 - binary_accuracy: 0.7432 - val_loss: 0.5122 - val_binary_accuracy: 0.7385\n",
            "Epoch 178/200\n",
            "257/257 [==============================] - 0s 798us/step - loss: 0.4648 - binary_accuracy: 0.7471 - val_loss: 0.5122 - val_binary_accuracy: 0.7385\n",
            "Epoch 179/200\n",
            "257/257 [==============================] - 0s 807us/step - loss: 0.4640 - binary_accuracy: 0.7510 - val_loss: 0.5114 - val_binary_accuracy: 0.7385\n",
            "Epoch 180/200\n",
            "257/257 [==============================] - 0s 834us/step - loss: 0.4642 - binary_accuracy: 0.7471 - val_loss: 0.5108 - val_binary_accuracy: 0.7385\n",
            "Epoch 181/200\n",
            "257/257 [==============================] - 0s 875us/step - loss: 0.4630 - binary_accuracy: 0.7432 - val_loss: 0.5111 - val_binary_accuracy: 0.7385\n",
            "Epoch 182/200\n",
            "257/257 [==============================] - 0s 815us/step - loss: 0.4629 - binary_accuracy: 0.7432 - val_loss: 0.5115 - val_binary_accuracy: 0.7385\n",
            "Epoch 183/200\n",
            "257/257 [==============================] - 0s 804us/step - loss: 0.4628 - binary_accuracy: 0.7432 - val_loss: 0.5105 - val_binary_accuracy: 0.7385\n",
            "Epoch 184/200\n",
            "257/257 [==============================] - 0s 797us/step - loss: 0.4613 - binary_accuracy: 0.7471 - val_loss: 0.5110 - val_binary_accuracy: 0.7385\n",
            "Epoch 185/200\n",
            "257/257 [==============================] - 0s 817us/step - loss: 0.4613 - binary_accuracy: 0.7432 - val_loss: 0.5106 - val_binary_accuracy: 0.7385\n",
            "Epoch 186/200\n",
            "257/257 [==============================] - 0s 885us/step - loss: 0.4612 - binary_accuracy: 0.7432 - val_loss: 0.5115 - val_binary_accuracy: 0.7385\n",
            "Epoch 187/200\n",
            "257/257 [==============================] - 0s 825us/step - loss: 0.4609 - binary_accuracy: 0.7471 - val_loss: 0.5110 - val_binary_accuracy: 0.7385\n",
            "Epoch 188/200\n",
            "257/257 [==============================] - 0s 805us/step - loss: 0.4609 - binary_accuracy: 0.7432 - val_loss: 0.5113 - val_binary_accuracy: 0.7385\n",
            "Epoch 189/200\n",
            "257/257 [==============================] - 0s 796us/step - loss: 0.4596 - binary_accuracy: 0.7354 - val_loss: 0.5118 - val_binary_accuracy: 0.7231\n",
            "Epoch 190/200\n",
            "257/257 [==============================] - 0s 823us/step - loss: 0.4596 - binary_accuracy: 0.7393 - val_loss: 0.5120 - val_binary_accuracy: 0.7385\n",
            "Epoch 191/200\n",
            "257/257 [==============================] - 0s 882us/step - loss: 0.4582 - binary_accuracy: 0.7471 - val_loss: 0.5114 - val_binary_accuracy: 0.7231\n",
            "Epoch 192/200\n",
            "257/257 [==============================] - 0s 811us/step - loss: 0.4585 - binary_accuracy: 0.7471 - val_loss: 0.5108 - val_binary_accuracy: 0.7231\n",
            "Epoch 193/200\n",
            "257/257 [==============================] - 0s 796us/step - loss: 0.4576 - binary_accuracy: 0.7471 - val_loss: 0.5117 - val_binary_accuracy: 0.7231\n",
            "Epoch 194/200\n",
            "257/257 [==============================] - 0s 783us/step - loss: 0.4574 - binary_accuracy: 0.7432 - val_loss: 0.5120 - val_binary_accuracy: 0.7231\n",
            "Epoch 195/200\n",
            "257/257 [==============================] - 0s 818us/step - loss: 0.4561 - binary_accuracy: 0.7432 - val_loss: 0.5119 - val_binary_accuracy: 0.7231\n",
            "Epoch 196/200\n",
            "257/257 [==============================] - 0s 950us/step - loss: 0.4560 - binary_accuracy: 0.7432 - val_loss: 0.5115 - val_binary_accuracy: 0.7231\n",
            "Epoch 197/200\n",
            "257/257 [==============================] - 0s 797us/step - loss: 0.4559 - binary_accuracy: 0.7471 - val_loss: 0.5117 - val_binary_accuracy: 0.7385\n",
            "Epoch 198/200\n",
            "257/257 [==============================] - 0s 799us/step - loss: 0.4547 - binary_accuracy: 0.7471 - val_loss: 0.5111 - val_binary_accuracy: 0.7231\n",
            "Epoch 199/200\n",
            "257/257 [==============================] - 0s 797us/step - loss: 0.4540 - binary_accuracy: 0.7471 - val_loss: 0.5122 - val_binary_accuracy: 0.7385\n",
            "Epoch 200/200\n",
            "257/257 [==============================] - 0s 789us/step - loss: 0.4540 - binary_accuracy: 0.7510 - val_loss: 0.5115 - val_binary_accuracy: 0.7385\n"
          ],
          "name": "stdout"
        },
        {
          "output_type": "display_data",
          "data": {
            "image/png": "[encoded data removed]",
            "text/plain": [
              "<Figure size 432x288 with 1 Axes>"
            ]
          },
          "metadata": {
            "tags": []
          }
        },
        {
          "output_type": "display_data",
          "data": {
            "image/png": "[encoded data removed]",
            "text/plain": [
              "<Figure size 432x288 with 1 Axes>"
            ]
          },
          "metadata": {
            "tags": []
          }
        }
      ]
    },
    {
      "cell_type": "code",
      "metadata": {
        "id": "IgxJDUPWegCY",
        "colab_type": "code",
        "colab": {
          "base_uri": "https://localhost:8080/",
          "height": 50
        },
        "outputId": "9e051e43-fdaa-426c-d1e0-9b2ea0279ca9"
      },
      "source": [
        "eval_model=model.evaluate(X_train, y_train)\n",
        "eval_model"
      ],
      "execution_count": 357,
      "outputs": [
        {
          "output_type": "stream",
          "text": [
            "322/322 [==============================] - 0s 78us/step\n"
          ],
          "name": "stdout"
        },
        {
          "output_type": "execute_result",
          "data": {
            "text/plain": [
              "[0.4638240074519045, 0.7422360248447205]"
            ]
          },
          "metadata": {
            "tags": []
          },
          "execution_count": 357
        }
      ]
    },
    {
      "cell_type": "markdown",
      "metadata": {
        "id": "bvMe47-zxCUO",
        "colab_type": "text"
      },
      "source": [
        "Vamos a comprobar los resultados obtenidos en la red neuronal y mostrarla en una matriz de confusión. Como podemos observar, con el conjunto de test obtenemos un accuracy de 0.73 y una precisión de 0.76."
      ]
    },
    {
      "cell_type": "code",
      "metadata": {
        "id": "rK8azRAHegAS",
        "colab_type": "code",
        "colab": {
          "base_uri": "https://localhost:8080/",
          "height": 50
        },
        "outputId": "9887616d-a523-4778-b355-bf8732504fe1"
      },
      "source": [
        "y_pred=model.predict(X_test)\n",
        "y_pred =(y_pred>0.5)\n",
        "cm = confusion_matrix(y_test, y_pred)\n",
        "print(cm)"
      ],
      "execution_count": 361,
      "outputs": [
        {
          "output_type": "stream",
          "text": [
            "[[51 16]\n",
            " [21 51]]\n"
          ],
          "name": "stdout"
        }
      ]
    },
    {
      "cell_type": "code",
      "metadata": {
        "id": "kFx-0OrwxnMx",
        "colab_type": "code",
        "colab": {
          "base_uri": "https://localhost:8080/",
          "height": 50
        },
        "outputId": "c921332e-0ec2-4290-8c33-5de4f89689fa"
      },
      "source": [
        "Accuracy = (cm[0][0] + cm[1][1]) / (cm[0][0] + cm[1][1] + cm[1][0] + cm[0][1])\n",
        "print (\"El accuracy es \" + str(Accuracy))\n",
        "Precission = (cm[0][0]) / (cm[0][0] + cm[0][1])\n",
        "print (\"La precisión es \" + str(Precission))"
      ],
      "execution_count": 367,
      "outputs": [
        {
          "output_type": "stream",
          "text": [
            "El accuracy es 0.7338129496402878\n",
            "La precisión es 0.7611940298507462\n"
          ],
          "name": "stdout"
        }
      ]
    },
    {
      "cell_type": "markdown",
      "metadata": {
        "id": "fR6Twjx_y_KX",
        "colab_type": "text"
      },
      "source": [
        "Para hacer una comprobación final, vamos a entrenar el XGBoost con un train_test_split para compararlo con los resultado obtenidos con la red neuronal."
      ]
    },
    {
      "cell_type": "code",
      "metadata": {
        "id": "H-WqV2v7ef-Q",
        "colab_type": "code",
        "colab": {}
      },
      "source": [
        "X_train, X_test, y_train, y_test = train_test_split(x_upgrade, y, test_size=0.3)"
      ],
      "execution_count": 0,
      "outputs": []
    },
    {
      "cell_type": "code",
      "metadata": {
        "id": "c0Zluv2I6PAK",
        "colab_type": "code",
        "colab": {}
      },
      "source": [
        "xgb_clas = GridSearchCV(XGBClassifier(),\n",
        "                      param_grid = {'max_depth': np.arange(2,10),\n",
        "                                   \"learning_rate\": np.arange(0.04, 0.32, 0.04),\n",
        "                                   \"n_estimators\": np.arange(100, 150, 10)},\n",
        "                      cv = 10,\n",
        "                      scoring = 'accuracy',\n",
        "                      n_jobs = -1\n",
        "         )"
      ],
      "execution_count": 0,
      "outputs": []
    },
    {
      "cell_type": "code",
      "metadata": {
        "id": "7kjLWP1yy85_",
        "colab_type": "code",
        "colab": {
          "base_uri": "https://localhost:8080/",
          "height": 354
        },
        "outputId": "824fffe7-4b27-4822-f46a-65db8e04190b"
      },
      "source": [
        "xgb_clas.fit(X_train, y_train)"
      ],
      "execution_count": 390,
      "outputs": [
        {
          "output_type": "stream",
          "text": [
            "/usr/local/lib/python3.6/dist-packages/sklearn/model_selection/_search.py:813: DeprecationWarning: The default of the `iid` parameter will change from True to False in version 0.22 and will be removed in 0.24. This will change numeric results when test-set sizes are unequal.\n",
            "  DeprecationWarning)\n"
          ],
          "name": "stderr"
        },
        {
          "output_type": "execute_result",
          "data": {
            "text/plain": [
              "GridSearchCV(cv=10, error_score='raise-deprecating',\n",
              "             estimator=XGBClassifier(base_score=0.5, booster='gbtree',\n",
              "                                     colsample_bylevel=1, colsample_bynode=1,\n",
              "                                     colsample_bytree=1, gamma=0,\n",
              "                                     learning_rate=0.1, max_delta_step=0,\n",
              "                                     max_depth=3, min_child_weight=1,\n",
              "                                     missing=None, n_estimators=100, n_jobs=1,\n",
              "                                     nthread=None, objective='binary:logistic',\n",
              "                                     random_state=0, reg_alpha=0, reg_lambda=1,\n",
              "                                     scale_pos_weight=1, seed=None, silent=None,\n",
              "                                     subsample=1, verbosity=1),\n",
              "             iid='warn', n_jobs=-1,\n",
              "             param_grid={'learning_rate': array([0.04, 0.08, 0.12, 0.16, 0.2 , 0.24, 0.28, 0.32]),\n",
              "                         'max_depth': array([2, 3, 4, 5, 6, 7, 8, 9]),\n",
              "                         'n_estimators': array([100, 110, 120, 130, 140])},\n",
              "             pre_dispatch='2*n_jobs', refit=True, return_train_score=False,\n",
              "             scoring='accuracy', verbose=0)"
            ]
          },
          "metadata": {
            "tags": []
          },
          "execution_count": 390
        }
      ]
    },
    {
      "cell_type": "code",
      "metadata": {
        "id": "P2GcIfUSy81x",
        "colab_type": "code",
        "colab": {
          "base_uri": "https://localhost:8080/",
          "height": 50
        },
        "outputId": "8123dab1-0f19-4958-fcfc-b6b19e2b0741"
      },
      "source": [
        "y_result = xgb_clas.best_estimator_.predict(X_test)\n",
        "y_result =(y_result>0.5)\n",
        "cm_xgb = confusion_matrix(y_test, y_result)\n",
        "print(cm_xgb)"
      ],
      "execution_count": 392,
      "outputs": [
        {
          "output_type": "stream",
          "text": [
            "[[45 23]\n",
            " [17 54]]\n"
          ],
          "name": "stdout"
        }
      ]
    },
    {
      "cell_type": "markdown",
      "metadata": {
        "id": "GdOesX8L4Wwf",
        "colab_type": "text"
      },
      "source": [
        "Como se puede observar, en una prueba real las métricas del XGBoost bajan debido a que se ha producido cierto OverFitting durante el entrenamiento."
      ]
    },
    {
      "cell_type": "code",
      "metadata": {
        "id": "uikfm6sYy8y9",
        "colab_type": "code",
        "colab": {
          "base_uri": "https://localhost:8080/",
          "height": 50
        },
        "outputId": "f94c0882-4d60-4d22-a06a-e8b7d299c4a4"
      },
      "source": [
        "Accuracy = (cm_xgb[0][0] + cm_xgb[1][1]) / (cm_xgb[0][0] + cm_xgb[1][1] + cm_xgb[1][0] + cm_xgb[0][1])\n",
        "print (\"El accuracy es \" + str(Accuracy))\n",
        "Precission = (cm_xgb[0][0]) / (cm_xgb[0][0] + cm_xgb[0][1])\n",
        "print (\"La precisión es \" + str(Precission))"
      ],
      "execution_count": 393,
      "outputs": [
        {
          "output_type": "stream",
          "text": [
            "El accuracy es 0.7122302158273381\n",
            "La precisión es 0.6617647058823529\n"
          ],
          "name": "stdout"
        }
      ]
    },
    {
      "cell_type": "code",
      "metadata": {
        "id": "CXFslnk2y8w2",
        "colab_type": "code",
        "colab": {}
      },
      "source": [
        ""
      ],
      "execution_count": 0,
      "outputs": []
    },
    {
      "cell_type": "code",
      "metadata": {
        "id": "ClJ9ApX1y8uU",
        "colab_type": "code",
        "colab": {}
      },
      "source": [
        ""
      ],
      "execution_count": 0,
      "outputs": []
    }
  ]
}