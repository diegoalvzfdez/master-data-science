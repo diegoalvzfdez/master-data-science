{
 "cells": [
  {
   "cell_type": "markdown",
   "metadata": {
    "colab_type": "text",
    "id": "nqnbhbaic2eR"
   },
   "source": [
    "Librerias utilizadas:"
   ]
  },
  {
   "cell_type": "code",
   "execution_count": 116,
   "metadata": {
    "colab": {
     "base_uri": "https://localhost:8080/",
     "height": 85
    },
    "colab_type": "code",
    "executionInfo": {
     "elapsed": 764,
     "status": "ok",
     "timestamp": 1559599598761,
     "user": {
      "displayName": "Diego Álvarez Fernandez",
      "photoUrl": "",
      "userId": "05792570081424463411"
     },
     "user_tz": -120
    },
    "id": "TV4eNPAoc2eT",
    "outputId": "a0f43f59-30f3-4600-d9e1-f0cdbc87a1b1"
   },
   "outputs": [
    {
     "name": "stdout",
     "output_type": "stream",
     "text": [
      "Populating the interactive namespace from numpy and matplotlib\n"
     ]
    },
    {
     "ename": "ModuleNotFoundError",
     "evalue": "No module named 'keras'",
     "output_type": "error",
     "traceback": [
      "\u001b[1;31m---------------------------------------------------------------------------\u001b[0m",
      "\u001b[1;31mModuleNotFoundError\u001b[0m                       Traceback (most recent call last)",
      "\u001b[1;32m<ipython-input-116-ef072d39b5fc>\u001b[0m in \u001b[0;36m<module>\u001b[1;34m\u001b[0m\n\u001b[0;32m     15\u001b[0m \u001b[1;32mfrom\u001b[0m \u001b[0msklearn\u001b[0m\u001b[1;33m.\u001b[0m\u001b[0mensemble\u001b[0m \u001b[1;32mimport\u001b[0m \u001b[0mVotingClassifier\u001b[0m\u001b[1;33m\u001b[0m\u001b[1;33m\u001b[0m\u001b[0m\n\u001b[0;32m     16\u001b[0m \u001b[1;32mfrom\u001b[0m \u001b[0msklearn\u001b[0m\u001b[1;33m.\u001b[0m\u001b[0mensemble\u001b[0m \u001b[1;32mimport\u001b[0m \u001b[0mBaggingClassifier\u001b[0m\u001b[1;33m\u001b[0m\u001b[1;33m\u001b[0m\u001b[0m\n\u001b[1;32m---> 17\u001b[1;33m \u001b[1;32mfrom\u001b[0m \u001b[0mkeras\u001b[0m \u001b[1;32mimport\u001b[0m \u001b[0mlayers\u001b[0m\u001b[1;33m\u001b[0m\u001b[1;33m\u001b[0m\u001b[0m\n\u001b[0m\u001b[0;32m     18\u001b[0m \u001b[1;32mfrom\u001b[0m \u001b[0mkeras\u001b[0m \u001b[1;32mimport\u001b[0m \u001b[0mmodels\u001b[0m\u001b[1;33m\u001b[0m\u001b[1;33m\u001b[0m\u001b[0m\n",
      "\u001b[1;31mModuleNotFoundError\u001b[0m: No module named 'keras'"
     ]
    }
   ],
   "source": [
    "import pandas as pd\n",
    "%pylab inline\n",
    "import copy\n",
    "from sklearn.linear_model import LogisticRegression\n",
    "from sklearn.metrics import accuracy_score\n",
    "from sklearn.model_selection import cross_val_score\n",
    "from sklearn.model_selection import GridSearchCV\n",
    "from sklearn.neighbors import KNeighborsClassifier\n",
    "from sklearn.tree import DecisionTreeClassifier\n",
    "from sklearn.metrics import classification_report, accuracy_score, make_scorer\n",
    "from sklearn.svm import SVC\n",
    "from sklearn.ensemble import RandomForestClassifier\n",
    "from xgboost import XGBClassifier\n",
    "from sklearn import ensemble\n",
    "from sklearn.ensemble import VotingClassifier\n",
    "from sklearn.ensemble import BaggingClassifier"
   ]
  },
  {
   "cell_type": "code",
   "execution_count": 11,
   "metadata": {
    "colab": {},
    "colab_type": "code",
    "id": "-dMUolKxdXO-"
   },
   "outputs": [],
   "source": [
    "url = 'https://raw.githubusercontent.com/diegoalvzfdez/master-data-science/master/preprocessed_data/csv_eye.csv'\n"
   ]
  },
  {
   "cell_type": "markdown",
   "metadata": {},
   "source": [
    "## Estudio del Dataset Obtenido"
   ]
  },
  {
   "cell_type": "markdown",
   "metadata": {
    "colab_type": "text",
    "id": "uxwVpuVPc2eZ"
   },
   "source": [
    "Abrimos el fichero que hemos generado de los scripts anteriores"
   ]
  },
  {
   "cell_type": "code",
   "execution_count": 12,
   "metadata": {
    "colab": {
     "base_uri": "https://localhost:8080/",
     "height": 4043
    },
    "colab_type": "code",
    "executionInfo": {
     "elapsed": 5837,
     "status": "ok",
     "timestamp": 1559597155649,
     "user": {
      "displayName": "Diego Álvarez Fernandez",
      "photoUrl": "",
      "userId": "05792570081424463411"
     },
     "user_tz": -120
    },
    "id": "JGrbPxrFc2ea",
    "outputId": "3e4ec5e4-7437-42fe-c781-e6877b4285c0"
   },
   "outputs": [
    {
     "data": {
      "text/html": [
       "<div>\n",
       "<style scoped>\n",
       "    .dataframe tbody tr th:only-of-type {\n",
       "        vertical-align: middle;\n",
       "    }\n",
       "\n",
       "    .dataframe tbody tr th {\n",
       "        vertical-align: top;\n",
       "    }\n",
       "\n",
       "    .dataframe thead th {\n",
       "        text-align: right;\n",
       "    }\n",
       "</style>\n",
       "<table border=\"1\" class=\"dataframe\">\n",
       "  <thead>\n",
       "    <tr style=\"text-align: right;\">\n",
       "      <th></th>\n",
       "      <th>Max Depth Front</th>\n",
       "      <th>Max Depth Back</th>\n",
       "      <th>Max Curve Front</th>\n",
       "      <th>Max Curve Back</th>\n",
       "      <th>Max Variation Curve Front</th>\n",
       "      <th>Max Variation Curve Back</th>\n",
       "      <th>Mean Curve Front</th>\n",
       "      <th>Mean Curve Back</th>\n",
       "      <th>Age</th>\n",
       "      <th>K Max</th>\n",
       "      <th>Paqui Min</th>\n",
       "      <th>Distance Between Max Curve and Min Paqui</th>\n",
       "      <th>Position of Most Curve Point Relative to Center</th>\n",
       "      <th>Treatment</th>\n",
       "    </tr>\n",
       "  </thead>\n",
       "  <tbody>\n",
       "    <tr>\n",
       "      <th>0</th>\n",
       "      <td>2590</td>\n",
       "      <td>2670</td>\n",
       "      <td>6.24</td>\n",
       "      <td>4.56</td>\n",
       "      <td>3.72</td>\n",
       "      <td>3.64</td>\n",
       "      <td>7.86</td>\n",
       "      <td>6.49</td>\n",
       "      <td>24</td>\n",
       "      <td>54.11</td>\n",
       "      <td>429</td>\n",
       "      <td>0.78</td>\n",
       "      <td>1.09</td>\n",
       "      <td>Pacientes tratados mediante anillos</td>\n",
       "    </tr>\n",
       "    <tr>\n",
       "      <th>1</th>\n",
       "      <td>2432</td>\n",
       "      <td>2449</td>\n",
       "      <td>6.35</td>\n",
       "      <td>4.62</td>\n",
       "      <td>3.41</td>\n",
       "      <td>3.44</td>\n",
       "      <td>7.86</td>\n",
       "      <td>6.51</td>\n",
       "      <td>24</td>\n",
       "      <td>53.18</td>\n",
       "      <td>425</td>\n",
       "      <td>0.54</td>\n",
       "      <td>0.96</td>\n",
       "      <td>Pacientes tratados mediante anillos</td>\n",
       "    </tr>\n",
       "    <tr>\n",
       "      <th>2</th>\n",
       "      <td>2833</td>\n",
       "      <td>2842</td>\n",
       "      <td>5.04</td>\n",
       "      <td>3.51</td>\n",
       "      <td>5.54</td>\n",
       "      <td>5.35</td>\n",
       "      <td>7.84</td>\n",
       "      <td>6.37</td>\n",
       "      <td>35</td>\n",
       "      <td>66.97</td>\n",
       "      <td>408</td>\n",
       "      <td>4.87</td>\n",
       "      <td>4.65</td>\n",
       "      <td>Pacientes tratados mediante anillos</td>\n",
       "    </tr>\n",
       "    <tr>\n",
       "      <th>3</th>\n",
       "      <td>3101</td>\n",
       "      <td>3124</td>\n",
       "      <td>5.26</td>\n",
       "      <td>3.62</td>\n",
       "      <td>5.10</td>\n",
       "      <td>4.91</td>\n",
       "      <td>7.93</td>\n",
       "      <td>6.44</td>\n",
       "      <td>35</td>\n",
       "      <td>64.18</td>\n",
       "      <td>372</td>\n",
       "      <td>5.50</td>\n",
       "      <td>4.88</td>\n",
       "      <td>Pacientes tratados mediante anillos</td>\n",
       "    </tr>\n",
       "    <tr>\n",
       "      <th>4</th>\n",
       "      <td>2435</td>\n",
       "      <td>2692</td>\n",
       "      <td>5.25</td>\n",
       "      <td>3.44</td>\n",
       "      <td>4.61</td>\n",
       "      <td>5.25</td>\n",
       "      <td>7.20</td>\n",
       "      <td>5.85</td>\n",
       "      <td>35</td>\n",
       "      <td>64.33</td>\n",
       "      <td>466</td>\n",
       "      <td>0.40</td>\n",
       "      <td>1.02</td>\n",
       "      <td>Pacientes tratados mediante anillos</td>\n",
       "    </tr>\n",
       "    <tr>\n",
       "      <th>5</th>\n",
       "      <td>2527</td>\n",
       "      <td>2641</td>\n",
       "      <td>6.61</td>\n",
       "      <td>4.82</td>\n",
       "      <td>2.47</td>\n",
       "      <td>2.88</td>\n",
       "      <td>8.17</td>\n",
       "      <td>6.61</td>\n",
       "      <td>20</td>\n",
       "      <td>51.06</td>\n",
       "      <td>473</td>\n",
       "      <td>0.61</td>\n",
       "      <td>0.40</td>\n",
       "      <td>Pacientes tratados mediante anillos</td>\n",
       "    </tr>\n",
       "    <tr>\n",
       "      <th>6</th>\n",
       "      <td>2614</td>\n",
       "      <td>2735</td>\n",
       "      <td>6.66</td>\n",
       "      <td>4.87</td>\n",
       "      <td>3.28</td>\n",
       "      <td>3.01</td>\n",
       "      <td>8.03</td>\n",
       "      <td>6.60</td>\n",
       "      <td>79</td>\n",
       "      <td>50.68</td>\n",
       "      <td>502</td>\n",
       "      <td>0.71</td>\n",
       "      <td>1.28</td>\n",
       "      <td>Pacientes tratados mediante anillos</td>\n",
       "    </tr>\n",
       "    <tr>\n",
       "      <th>7</th>\n",
       "      <td>2339</td>\n",
       "      <td>2542</td>\n",
       "      <td>6.37</td>\n",
       "      <td>3.84</td>\n",
       "      <td>2.78</td>\n",
       "      <td>4.63</td>\n",
       "      <td>7.90</td>\n",
       "      <td>6.24</td>\n",
       "      <td>49</td>\n",
       "      <td>52.97</td>\n",
       "      <td>398</td>\n",
       "      <td>0.50</td>\n",
       "      <td>0.15</td>\n",
       "      <td>Pacientes tratados mediante anillos</td>\n",
       "    </tr>\n",
       "    <tr>\n",
       "      <th>8</th>\n",
       "      <td>2695</td>\n",
       "      <td>2665</td>\n",
       "      <td>6.42</td>\n",
       "      <td>4.76</td>\n",
       "      <td>3.35</td>\n",
       "      <td>4.80</td>\n",
       "      <td>7.87</td>\n",
       "      <td>6.57</td>\n",
       "      <td>48</td>\n",
       "      <td>52.61</td>\n",
       "      <td>533</td>\n",
       "      <td>1.92</td>\n",
       "      <td>3.82</td>\n",
       "      <td>Pacientes tratados mediante anillos</td>\n",
       "    </tr>\n",
       "    <tr>\n",
       "      <th>9</th>\n",
       "      <td>2568</td>\n",
       "      <td>2742</td>\n",
       "      <td>5.33</td>\n",
       "      <td>3.25</td>\n",
       "      <td>3.66</td>\n",
       "      <td>4.47</td>\n",
       "      <td>7.51</td>\n",
       "      <td>6.14</td>\n",
       "      <td>75</td>\n",
       "      <td>63.37</td>\n",
       "      <td>414</td>\n",
       "      <td>0.28</td>\n",
       "      <td>0.33</td>\n",
       "      <td>Pacientes tratados mediante anillos</td>\n",
       "    </tr>\n",
       "    <tr>\n",
       "      <th>10</th>\n",
       "      <td>2490</td>\n",
       "      <td>2551</td>\n",
       "      <td>5.85</td>\n",
       "      <td>3.98</td>\n",
       "      <td>3.56</td>\n",
       "      <td>3.48</td>\n",
       "      <td>7.72</td>\n",
       "      <td>6.38</td>\n",
       "      <td>75</td>\n",
       "      <td>57.70</td>\n",
       "      <td>428</td>\n",
       "      <td>0.76</td>\n",
       "      <td>1.08</td>\n",
       "      <td>Pacientes tratados mediante anillos</td>\n",
       "    </tr>\n",
       "    <tr>\n",
       "      <th>11</th>\n",
       "      <td>2601</td>\n",
       "      <td>2657</td>\n",
       "      <td>6.96</td>\n",
       "      <td>4.72</td>\n",
       "      <td>2.22</td>\n",
       "      <td>3.12</td>\n",
       "      <td>8.14</td>\n",
       "      <td>6.68</td>\n",
       "      <td>44</td>\n",
       "      <td>48.49</td>\n",
       "      <td>483</td>\n",
       "      <td>1.34</td>\n",
       "      <td>1.87</td>\n",
       "      <td>Pacientes tratados mediante anillos</td>\n",
       "    </tr>\n",
       "    <tr>\n",
       "      <th>12</th>\n",
       "      <td>2469</td>\n",
       "      <td>2510</td>\n",
       "      <td>5.82</td>\n",
       "      <td>3.61</td>\n",
       "      <td>2.92</td>\n",
       "      <td>4.71</td>\n",
       "      <td>7.55</td>\n",
       "      <td>6.32</td>\n",
       "      <td>42</td>\n",
       "      <td>57.97</td>\n",
       "      <td>453</td>\n",
       "      <td>0.50</td>\n",
       "      <td>0.57</td>\n",
       "      <td>Pacientes tratados mediante anillos</td>\n",
       "    </tr>\n",
       "    <tr>\n",
       "      <th>13</th>\n",
       "      <td>2329</td>\n",
       "      <td>2493</td>\n",
       "      <td>6.52</td>\n",
       "      <td>4.98</td>\n",
       "      <td>2.31</td>\n",
       "      <td>2.76</td>\n",
       "      <td>7.50</td>\n",
       "      <td>6.17</td>\n",
       "      <td>54</td>\n",
       "      <td>51.79</td>\n",
       "      <td>446</td>\n",
       "      <td>2.66</td>\n",
       "      <td>3.66</td>\n",
       "      <td>Pacientes tratados mediante anillos</td>\n",
       "    </tr>\n",
       "    <tr>\n",
       "      <th>14</th>\n",
       "      <td>2581</td>\n",
       "      <td>2622</td>\n",
       "      <td>6.43</td>\n",
       "      <td>4.62</td>\n",
       "      <td>3.42</td>\n",
       "      <td>3.70</td>\n",
       "      <td>8.17</td>\n",
       "      <td>6.63</td>\n",
       "      <td>37</td>\n",
       "      <td>52.49</td>\n",
       "      <td>470</td>\n",
       "      <td>0.82</td>\n",
       "      <td>1.08</td>\n",
       "      <td>Pacientes tratados mediante anillos</td>\n",
       "    </tr>\n",
       "    <tr>\n",
       "      <th>15</th>\n",
       "      <td>2562</td>\n",
       "      <td>2774</td>\n",
       "      <td>6.26</td>\n",
       "      <td>4.65</td>\n",
       "      <td>3.32</td>\n",
       "      <td>5.02</td>\n",
       "      <td>8.00</td>\n",
       "      <td>6.73</td>\n",
       "      <td>52</td>\n",
       "      <td>53.89</td>\n",
       "      <td>478</td>\n",
       "      <td>1.14</td>\n",
       "      <td>1.91</td>\n",
       "      <td>Pacientes tratados mediante anillos</td>\n",
       "    </tr>\n",
       "    <tr>\n",
       "      <th>16</th>\n",
       "      <td>2675</td>\n",
       "      <td>2791</td>\n",
       "      <td>7.17</td>\n",
       "      <td>5.60</td>\n",
       "      <td>2.67</td>\n",
       "      <td>3.36</td>\n",
       "      <td>8.53</td>\n",
       "      <td>7.11</td>\n",
       "      <td>37</td>\n",
       "      <td>47.09</td>\n",
       "      <td>455</td>\n",
       "      <td>0.64</td>\n",
       "      <td>0.56</td>\n",
       "      <td>Pacientes tratados mediante anillos</td>\n",
       "    </tr>\n",
       "    <tr>\n",
       "      <th>17</th>\n",
       "      <td>2528</td>\n",
       "      <td>2459</td>\n",
       "      <td>7.10</td>\n",
       "      <td>5.58</td>\n",
       "      <td>2.82</td>\n",
       "      <td>3.55</td>\n",
       "      <td>8.55</td>\n",
       "      <td>7.07</td>\n",
       "      <td>37</td>\n",
       "      <td>47.56</td>\n",
       "      <td>465</td>\n",
       "      <td>0.22</td>\n",
       "      <td>0.73</td>\n",
       "      <td>Pacientes tratados mediante anillos</td>\n",
       "    </tr>\n",
       "    <tr>\n",
       "      <th>18</th>\n",
       "      <td>2808</td>\n",
       "      <td>2894</td>\n",
       "      <td>6.60</td>\n",
       "      <td>4.63</td>\n",
       "      <td>2.11</td>\n",
       "      <td>3.01</td>\n",
       "      <td>7.67</td>\n",
       "      <td>6.35</td>\n",
       "      <td>59</td>\n",
       "      <td>51.14</td>\n",
       "      <td>496</td>\n",
       "      <td>0.92</td>\n",
       "      <td>0.90</td>\n",
       "      <td>Pacientes tratados mediante anillos</td>\n",
       "    </tr>\n",
       "    <tr>\n",
       "      <th>19</th>\n",
       "      <td>2980</td>\n",
       "      <td>3019</td>\n",
       "      <td>5.42</td>\n",
       "      <td>3.94</td>\n",
       "      <td>4.17</td>\n",
       "      <td>4.96</td>\n",
       "      <td>7.80</td>\n",
       "      <td>6.52</td>\n",
       "      <td>34</td>\n",
       "      <td>62.23</td>\n",
       "      <td>424</td>\n",
       "      <td>1.32</td>\n",
       "      <td>1.98</td>\n",
       "      <td>Pacientes tratados mediante anillos</td>\n",
       "    </tr>\n",
       "    <tr>\n",
       "      <th>20</th>\n",
       "      <td>2695</td>\n",
       "      <td>2738</td>\n",
       "      <td>5.75</td>\n",
       "      <td>4.19</td>\n",
       "      <td>3.90</td>\n",
       "      <td>4.63</td>\n",
       "      <td>8.02</td>\n",
       "      <td>6.70</td>\n",
       "      <td>34</td>\n",
       "      <td>58.72</td>\n",
       "      <td>443</td>\n",
       "      <td>1.43</td>\n",
       "      <td>2.25</td>\n",
       "      <td>Pacientes tratados mediante anillos</td>\n",
       "    </tr>\n",
       "    <tr>\n",
       "      <th>21</th>\n",
       "      <td>3049</td>\n",
       "      <td>3128</td>\n",
       "      <td>6.33</td>\n",
       "      <td>4.87</td>\n",
       "      <td>2.68</td>\n",
       "      <td>2.58</td>\n",
       "      <td>7.84</td>\n",
       "      <td>6.41</td>\n",
       "      <td>41</td>\n",
       "      <td>53.30</td>\n",
       "      <td>606</td>\n",
       "      <td>1.41</td>\n",
       "      <td>1.63</td>\n",
       "      <td>Pacientes tratados mediante anillos</td>\n",
       "    </tr>\n",
       "    <tr>\n",
       "      <th>22</th>\n",
       "      <td>2778</td>\n",
       "      <td>2853</td>\n",
       "      <td>5.42</td>\n",
       "      <td>3.72</td>\n",
       "      <td>3.14</td>\n",
       "      <td>3.94</td>\n",
       "      <td>7.40</td>\n",
       "      <td>6.11</td>\n",
       "      <td>64</td>\n",
       "      <td>62.33</td>\n",
       "      <td>452</td>\n",
       "      <td>0.36</td>\n",
       "      <td>0.68</td>\n",
       "      <td>Pacientes tratados mediante anillos</td>\n",
       "    </tr>\n",
       "    <tr>\n",
       "      <th>23</th>\n",
       "      <td>2413</td>\n",
       "      <td>2523</td>\n",
       "      <td>5.72</td>\n",
       "      <td>3.85</td>\n",
       "      <td>3.07</td>\n",
       "      <td>3.50</td>\n",
       "      <td>7.81</td>\n",
       "      <td>6.23</td>\n",
       "      <td>23</td>\n",
       "      <td>59.03</td>\n",
       "      <td>473</td>\n",
       "      <td>1.03</td>\n",
       "      <td>0.92</td>\n",
       "      <td>Pacientes tratados mediante anillos</td>\n",
       "    </tr>\n",
       "    <tr>\n",
       "      <th>24</th>\n",
       "      <td>2385</td>\n",
       "      <td>2628</td>\n",
       "      <td>5.19</td>\n",
       "      <td>3.55</td>\n",
       "      <td>3.59</td>\n",
       "      <td>4.55</td>\n",
       "      <td>7.69</td>\n",
       "      <td>6.18</td>\n",
       "      <td>23</td>\n",
       "      <td>65.07</td>\n",
       "      <td>462</td>\n",
       "      <td>0.73</td>\n",
       "      <td>1.02</td>\n",
       "      <td>Pacientes tratados mediante anillos</td>\n",
       "    </tr>\n",
       "    <tr>\n",
       "      <th>25</th>\n",
       "      <td>2492</td>\n",
       "      <td>2638</td>\n",
       "      <td>5.23</td>\n",
       "      <td>3.45</td>\n",
       "      <td>3.58</td>\n",
       "      <td>4.51</td>\n",
       "      <td>7.70</td>\n",
       "      <td>6.16</td>\n",
       "      <td>23</td>\n",
       "      <td>64.53</td>\n",
       "      <td>454</td>\n",
       "      <td>0.86</td>\n",
       "      <td>0.60</td>\n",
       "      <td>Pacientes tratados mediante anillos</td>\n",
       "    </tr>\n",
       "    <tr>\n",
       "      <th>26</th>\n",
       "      <td>2754</td>\n",
       "      <td>2929</td>\n",
       "      <td>7.52</td>\n",
       "      <td>6.12</td>\n",
       "      <td>1.55</td>\n",
       "      <td>1.24</td>\n",
       "      <td>8.08</td>\n",
       "      <td>6.66</td>\n",
       "      <td>39</td>\n",
       "      <td>44.91</td>\n",
       "      <td>539</td>\n",
       "      <td>3.35</td>\n",
       "      <td>2.36</td>\n",
       "      <td>Pacientes tratados mediante anillos</td>\n",
       "    </tr>\n",
       "    <tr>\n",
       "      <th>27</th>\n",
       "      <td>2426</td>\n",
       "      <td>2463</td>\n",
       "      <td>5.60</td>\n",
       "      <td>3.59</td>\n",
       "      <td>3.30</td>\n",
       "      <td>4.53</td>\n",
       "      <td>7.65</td>\n",
       "      <td>6.10</td>\n",
       "      <td>25</td>\n",
       "      <td>60.29</td>\n",
       "      <td>490</td>\n",
       "      <td>0.22</td>\n",
       "      <td>0.45</td>\n",
       "      <td>Pacientes tratados mediante anillos</td>\n",
       "    </tr>\n",
       "    <tr>\n",
       "      <th>28</th>\n",
       "      <td>2895</td>\n",
       "      <td>2785</td>\n",
       "      <td>6.13</td>\n",
       "      <td>4.93</td>\n",
       "      <td>2.80</td>\n",
       "      <td>2.39</td>\n",
       "      <td>7.28</td>\n",
       "      <td>6.00</td>\n",
       "      <td>37</td>\n",
       "      <td>55.02</td>\n",
       "      <td>399</td>\n",
       "      <td>2.83</td>\n",
       "      <td>1.25</td>\n",
       "      <td>Pacientes tratados mediante anillos</td>\n",
       "    </tr>\n",
       "    <tr>\n",
       "      <th>29</th>\n",
       "      <td>2818</td>\n",
       "      <td>2915</td>\n",
       "      <td>4.99</td>\n",
       "      <td>3.41</td>\n",
       "      <td>4.61</td>\n",
       "      <td>5.36</td>\n",
       "      <td>7.43</td>\n",
       "      <td>6.17</td>\n",
       "      <td>38</td>\n",
       "      <td>67.70</td>\n",
       "      <td>378</td>\n",
       "      <td>0.36</td>\n",
       "      <td>1.06</td>\n",
       "      <td>Pacientes tratados mediante anillos</td>\n",
       "    </tr>\n",
       "    <tr>\n",
       "      <th>...</th>\n",
       "      <td>...</td>\n",
       "      <td>...</td>\n",
       "      <td>...</td>\n",
       "      <td>...</td>\n",
       "      <td>...</td>\n",
       "      <td>...</td>\n",
       "      <td>...</td>\n",
       "      <td>...</td>\n",
       "      <td>...</td>\n",
       "      <td>...</td>\n",
       "      <td>...</td>\n",
       "      <td>...</td>\n",
       "      <td>...</td>\n",
       "      <td>...</td>\n",
       "    </tr>\n",
       "    <tr>\n",
       "      <th>431</th>\n",
       "      <td>2529</td>\n",
       "      <td>2622</td>\n",
       "      <td>6.78</td>\n",
       "      <td>5.10</td>\n",
       "      <td>1.95</td>\n",
       "      <td>2.15</td>\n",
       "      <td>7.72</td>\n",
       "      <td>6.27</td>\n",
       "      <td>49</td>\n",
       "      <td>49.80</td>\n",
       "      <td>513</td>\n",
       "      <td>0.92</td>\n",
       "      <td>1.70</td>\n",
       "      <td>Pacientes sin operar</td>\n",
       "    </tr>\n",
       "    <tr>\n",
       "      <th>432</th>\n",
       "      <td>2415</td>\n",
       "      <td>2510</td>\n",
       "      <td>7.71</td>\n",
       "      <td>6.20</td>\n",
       "      <td>1.50</td>\n",
       "      <td>1.38</td>\n",
       "      <td>8.23</td>\n",
       "      <td>6.74</td>\n",
       "      <td>43</td>\n",
       "      <td>43.79</td>\n",
       "      <td>527</td>\n",
       "      <td>2.38</td>\n",
       "      <td>3.28</td>\n",
       "      <td>Pacientes sin operar</td>\n",
       "    </tr>\n",
       "    <tr>\n",
       "      <th>433</th>\n",
       "      <td>2359</td>\n",
       "      <td>2550</td>\n",
       "      <td>6.55</td>\n",
       "      <td>5.08</td>\n",
       "      <td>2.69</td>\n",
       "      <td>2.93</td>\n",
       "      <td>7.59</td>\n",
       "      <td>6.30</td>\n",
       "      <td>63</td>\n",
       "      <td>51.55</td>\n",
       "      <td>467</td>\n",
       "      <td>1.21</td>\n",
       "      <td>0.85</td>\n",
       "      <td>Pacientes sin operar</td>\n",
       "    </tr>\n",
       "    <tr>\n",
       "      <th>434</th>\n",
       "      <td>2763</td>\n",
       "      <td>2762</td>\n",
       "      <td>7.00</td>\n",
       "      <td>5.20</td>\n",
       "      <td>1.53</td>\n",
       "      <td>2.26</td>\n",
       "      <td>7.67</td>\n",
       "      <td>6.30</td>\n",
       "      <td>34</td>\n",
       "      <td>48.22</td>\n",
       "      <td>486</td>\n",
       "      <td>0.86</td>\n",
       "      <td>1.02</td>\n",
       "      <td>Pacientes sin operar</td>\n",
       "    </tr>\n",
       "    <tr>\n",
       "      <th>435</th>\n",
       "      <td>2452</td>\n",
       "      <td>2634</td>\n",
       "      <td>7.29</td>\n",
       "      <td>5.32</td>\n",
       "      <td>2.26</td>\n",
       "      <td>2.41</td>\n",
       "      <td>8.45</td>\n",
       "      <td>6.67</td>\n",
       "      <td>42</td>\n",
       "      <td>46.29</td>\n",
       "      <td>484</td>\n",
       "      <td>1.04</td>\n",
       "      <td>0.82</td>\n",
       "      <td>Pacientes sin operar</td>\n",
       "    </tr>\n",
       "    <tr>\n",
       "      <th>436</th>\n",
       "      <td>2294</td>\n",
       "      <td>2327</td>\n",
       "      <td>6.95</td>\n",
       "      <td>4.85</td>\n",
       "      <td>2.51</td>\n",
       "      <td>3.15</td>\n",
       "      <td>8.20</td>\n",
       "      <td>6.78</td>\n",
       "      <td>62</td>\n",
       "      <td>48.54</td>\n",
       "      <td>492</td>\n",
       "      <td>1.10</td>\n",
       "      <td>1.41</td>\n",
       "      <td>Pacientes sin operar</td>\n",
       "    </tr>\n",
       "    <tr>\n",
       "      <th>437</th>\n",
       "      <td>2842</td>\n",
       "      <td>2933</td>\n",
       "      <td>5.24</td>\n",
       "      <td>3.50</td>\n",
       "      <td>4.20</td>\n",
       "      <td>4.51</td>\n",
       "      <td>7.40</td>\n",
       "      <td>6.03</td>\n",
       "      <td>38</td>\n",
       "      <td>64.39</td>\n",
       "      <td>404</td>\n",
       "      <td>0.14</td>\n",
       "      <td>0.96</td>\n",
       "      <td>Pacientes sin operar</td>\n",
       "    </tr>\n",
       "    <tr>\n",
       "      <th>438</th>\n",
       "      <td>2538</td>\n",
       "      <td>2677</td>\n",
       "      <td>6.74</td>\n",
       "      <td>5.00</td>\n",
       "      <td>2.20</td>\n",
       "      <td>2.75</td>\n",
       "      <td>7.86</td>\n",
       "      <td>6.42</td>\n",
       "      <td>38</td>\n",
       "      <td>50.10</td>\n",
       "      <td>486</td>\n",
       "      <td>1.49</td>\n",
       "      <td>2.08</td>\n",
       "      <td>Pacientes sin operar</td>\n",
       "    </tr>\n",
       "    <tr>\n",
       "      <th>439</th>\n",
       "      <td>2363</td>\n",
       "      <td>2610</td>\n",
       "      <td>6.60</td>\n",
       "      <td>4.91</td>\n",
       "      <td>2.00</td>\n",
       "      <td>2.50</td>\n",
       "      <td>7.63</td>\n",
       "      <td>6.21</td>\n",
       "      <td>39</td>\n",
       "      <td>51.16</td>\n",
       "      <td>486</td>\n",
       "      <td>0.92</td>\n",
       "      <td>0.36</td>\n",
       "      <td>Pacientes sin operar</td>\n",
       "    </tr>\n",
       "    <tr>\n",
       "      <th>440</th>\n",
       "      <td>2439</td>\n",
       "      <td>2625</td>\n",
       "      <td>6.93</td>\n",
       "      <td>5.13</td>\n",
       "      <td>2.12</td>\n",
       "      <td>2.15</td>\n",
       "      <td>7.71</td>\n",
       "      <td>6.22</td>\n",
       "      <td>39</td>\n",
       "      <td>48.69</td>\n",
       "      <td>492</td>\n",
       "      <td>0.64</td>\n",
       "      <td>0.28</td>\n",
       "      <td>Pacientes sin operar</td>\n",
       "    </tr>\n",
       "    <tr>\n",
       "      <th>441</th>\n",
       "      <td>2921</td>\n",
       "      <td>2996</td>\n",
       "      <td>6.96</td>\n",
       "      <td>5.32</td>\n",
       "      <td>2.01</td>\n",
       "      <td>2.47</td>\n",
       "      <td>8.02</td>\n",
       "      <td>6.66</td>\n",
       "      <td>36</td>\n",
       "      <td>48.48</td>\n",
       "      <td>414</td>\n",
       "      <td>2.25</td>\n",
       "      <td>3.58</td>\n",
       "      <td>Pacientes sin operar</td>\n",
       "    </tr>\n",
       "    <tr>\n",
       "      <th>442</th>\n",
       "      <td>2979</td>\n",
       "      <td>3137</td>\n",
       "      <td>6.59</td>\n",
       "      <td>4.74</td>\n",
       "      <td>2.85</td>\n",
       "      <td>2.63</td>\n",
       "      <td>7.80</td>\n",
       "      <td>6.20</td>\n",
       "      <td>57</td>\n",
       "      <td>51.28</td>\n",
       "      <td>460</td>\n",
       "      <td>0.95</td>\n",
       "      <td>0.12</td>\n",
       "      <td>Pacientes sin operar</td>\n",
       "    </tr>\n",
       "    <tr>\n",
       "      <th>443</th>\n",
       "      <td>2763</td>\n",
       "      <td>3011</td>\n",
       "      <td>7.40</td>\n",
       "      <td>5.08</td>\n",
       "      <td>3.08</td>\n",
       "      <td>2.21</td>\n",
       "      <td>8.02</td>\n",
       "      <td>6.35</td>\n",
       "      <td>57</td>\n",
       "      <td>45.61</td>\n",
       "      <td>484</td>\n",
       "      <td>5.19</td>\n",
       "      <td>5.41</td>\n",
       "      <td>Pacientes sin operar</td>\n",
       "    </tr>\n",
       "    <tr>\n",
       "      <th>444</th>\n",
       "      <td>2804</td>\n",
       "      <td>2681</td>\n",
       "      <td>5.86</td>\n",
       "      <td>4.35</td>\n",
       "      <td>3.04</td>\n",
       "      <td>3.56</td>\n",
       "      <td>7.64</td>\n",
       "      <td>6.40</td>\n",
       "      <td>31</td>\n",
       "      <td>57.57</td>\n",
       "      <td>450</td>\n",
       "      <td>1.39</td>\n",
       "      <td>2.22</td>\n",
       "      <td>Pacientes sin operar</td>\n",
       "    </tr>\n",
       "    <tr>\n",
       "      <th>445</th>\n",
       "      <td>3018</td>\n",
       "      <td>3047</td>\n",
       "      <td>7.05</td>\n",
       "      <td>5.45</td>\n",
       "      <td>1.62</td>\n",
       "      <td>2.04</td>\n",
       "      <td>7.77</td>\n",
       "      <td>6.45</td>\n",
       "      <td>36</td>\n",
       "      <td>47.86</td>\n",
       "      <td>477</td>\n",
       "      <td>1.78</td>\n",
       "      <td>1.87</td>\n",
       "      <td>Pacientes sin operar</td>\n",
       "    </tr>\n",
       "    <tr>\n",
       "      <th>446</th>\n",
       "      <td>2780</td>\n",
       "      <td>2895</td>\n",
       "      <td>6.76</td>\n",
       "      <td>5.25</td>\n",
       "      <td>2.30</td>\n",
       "      <td>2.32</td>\n",
       "      <td>7.68</td>\n",
       "      <td>6.24</td>\n",
       "      <td>39</td>\n",
       "      <td>49.96</td>\n",
       "      <td>488</td>\n",
       "      <td>2.34</td>\n",
       "      <td>2.63</td>\n",
       "      <td>Pacientes sin operar</td>\n",
       "    </tr>\n",
       "    <tr>\n",
       "      <th>447</th>\n",
       "      <td>4071</td>\n",
       "      <td>4292</td>\n",
       "      <td>6.60</td>\n",
       "      <td>5.00</td>\n",
       "      <td>2.84</td>\n",
       "      <td>2.94</td>\n",
       "      <td>7.94</td>\n",
       "      <td>6.49</td>\n",
       "      <td>59</td>\n",
       "      <td>51.17</td>\n",
       "      <td>466</td>\n",
       "      <td>1.64</td>\n",
       "      <td>1.84</td>\n",
       "      <td>Pacientes sin operar</td>\n",
       "    </tr>\n",
       "    <tr>\n",
       "      <th>448</th>\n",
       "      <td>2916</td>\n",
       "      <td>3000</td>\n",
       "      <td>6.32</td>\n",
       "      <td>4.57</td>\n",
       "      <td>2.09</td>\n",
       "      <td>2.88</td>\n",
       "      <td>7.47</td>\n",
       "      <td>6.15</td>\n",
       "      <td>45</td>\n",
       "      <td>53.42</td>\n",
       "      <td>421</td>\n",
       "      <td>0.71</td>\n",
       "      <td>0.36</td>\n",
       "      <td>Pacientes sin operar</td>\n",
       "    </tr>\n",
       "    <tr>\n",
       "      <th>449</th>\n",
       "      <td>3162</td>\n",
       "      <td>3223</td>\n",
       "      <td>6.79</td>\n",
       "      <td>5.22</td>\n",
       "      <td>1.81</td>\n",
       "      <td>2.34</td>\n",
       "      <td>7.54</td>\n",
       "      <td>6.24</td>\n",
       "      <td>45</td>\n",
       "      <td>49.69</td>\n",
       "      <td>453</td>\n",
       "      <td>1.42</td>\n",
       "      <td>2.01</td>\n",
       "      <td>Pacientes sin operar</td>\n",
       "    </tr>\n",
       "    <tr>\n",
       "      <th>450</th>\n",
       "      <td>2709</td>\n",
       "      <td>2905</td>\n",
       "      <td>6.99</td>\n",
       "      <td>5.31</td>\n",
       "      <td>2.22</td>\n",
       "      <td>2.31</td>\n",
       "      <td>7.93</td>\n",
       "      <td>6.38</td>\n",
       "      <td>47</td>\n",
       "      <td>48.30</td>\n",
       "      <td>435</td>\n",
       "      <td>1.78</td>\n",
       "      <td>2.06</td>\n",
       "      <td>Pacientes sin operar</td>\n",
       "    </tr>\n",
       "    <tr>\n",
       "      <th>451</th>\n",
       "      <td>2823</td>\n",
       "      <td>2854</td>\n",
       "      <td>7.08</td>\n",
       "      <td>5.36</td>\n",
       "      <td>1.26</td>\n",
       "      <td>1.65</td>\n",
       "      <td>7.56</td>\n",
       "      <td>6.16</td>\n",
       "      <td>35</td>\n",
       "      <td>47.65</td>\n",
       "      <td>536</td>\n",
       "      <td>2.05</td>\n",
       "      <td>2.86</td>\n",
       "      <td>Pacientes sin operar</td>\n",
       "    </tr>\n",
       "    <tr>\n",
       "      <th>452</th>\n",
       "      <td>2404</td>\n",
       "      <td>2565</td>\n",
       "      <td>7.31</td>\n",
       "      <td>5.71</td>\n",
       "      <td>1.80</td>\n",
       "      <td>2.17</td>\n",
       "      <td>8.05</td>\n",
       "      <td>6.61</td>\n",
       "      <td>49</td>\n",
       "      <td>46.17</td>\n",
       "      <td>486</td>\n",
       "      <td>0.51</td>\n",
       "      <td>0.91</td>\n",
       "      <td>Pacientes sin operar</td>\n",
       "    </tr>\n",
       "    <tr>\n",
       "      <th>453</th>\n",
       "      <td>2484</td>\n",
       "      <td>2714</td>\n",
       "      <td>6.42</td>\n",
       "      <td>4.69</td>\n",
       "      <td>2.57</td>\n",
       "      <td>3.41</td>\n",
       "      <td>7.90</td>\n",
       "      <td>6.48</td>\n",
       "      <td>49</td>\n",
       "      <td>52.59</td>\n",
       "      <td>471</td>\n",
       "      <td>0.67</td>\n",
       "      <td>0.30</td>\n",
       "      <td>Pacientes sin operar</td>\n",
       "    </tr>\n",
       "    <tr>\n",
       "      <th>454</th>\n",
       "      <td>3207</td>\n",
       "      <td>3378</td>\n",
       "      <td>6.21</td>\n",
       "      <td>4.53</td>\n",
       "      <td>2.88</td>\n",
       "      <td>3.08</td>\n",
       "      <td>7.50</td>\n",
       "      <td>6.16</td>\n",
       "      <td>41</td>\n",
       "      <td>54.34</td>\n",
       "      <td>440</td>\n",
       "      <td>1.36</td>\n",
       "      <td>1.20</td>\n",
       "      <td>Pacientes sin operar</td>\n",
       "    </tr>\n",
       "    <tr>\n",
       "      <th>455</th>\n",
       "      <td>2520</td>\n",
       "      <td>2583</td>\n",
       "      <td>6.30</td>\n",
       "      <td>4.84</td>\n",
       "      <td>3.12</td>\n",
       "      <td>3.08</td>\n",
       "      <td>7.82</td>\n",
       "      <td>6.50</td>\n",
       "      <td>27</td>\n",
       "      <td>53.58</td>\n",
       "      <td>458</td>\n",
       "      <td>1.25</td>\n",
       "      <td>1.60</td>\n",
       "      <td>Pacientes sin operar</td>\n",
       "    </tr>\n",
       "    <tr>\n",
       "      <th>456</th>\n",
       "      <td>3560</td>\n",
       "      <td>3971</td>\n",
       "      <td>6.84</td>\n",
       "      <td>5.05</td>\n",
       "      <td>2.66</td>\n",
       "      <td>3.07</td>\n",
       "      <td>7.78</td>\n",
       "      <td>6.51</td>\n",
       "      <td>63</td>\n",
       "      <td>49.32</td>\n",
       "      <td>525</td>\n",
       "      <td>1.40</td>\n",
       "      <td>2.10</td>\n",
       "      <td>Pacientes sin operar</td>\n",
       "    </tr>\n",
       "    <tr>\n",
       "      <th>457</th>\n",
       "      <td>3047</td>\n",
       "      <td>3408</td>\n",
       "      <td>6.17</td>\n",
       "      <td>4.50</td>\n",
       "      <td>2.89</td>\n",
       "      <td>3.70</td>\n",
       "      <td>7.58</td>\n",
       "      <td>6.14</td>\n",
       "      <td>63</td>\n",
       "      <td>54.70</td>\n",
       "      <td>525</td>\n",
       "      <td>2.30</td>\n",
       "      <td>2.70</td>\n",
       "      <td>Pacientes sin operar</td>\n",
       "    </tr>\n",
       "    <tr>\n",
       "      <th>458</th>\n",
       "      <td>3191</td>\n",
       "      <td>3189</td>\n",
       "      <td>7.01</td>\n",
       "      <td>5.10</td>\n",
       "      <td>2.27</td>\n",
       "      <td>2.88</td>\n",
       "      <td>7.95</td>\n",
       "      <td>6.68</td>\n",
       "      <td>68</td>\n",
       "      <td>48.16</td>\n",
       "      <td>495</td>\n",
       "      <td>1.12</td>\n",
       "      <td>2.00</td>\n",
       "      <td>Pacientes sin operar</td>\n",
       "    </tr>\n",
       "    <tr>\n",
       "      <th>459</th>\n",
       "      <td>2548</td>\n",
       "      <td>2710</td>\n",
       "      <td>6.45</td>\n",
       "      <td>4.46</td>\n",
       "      <td>2.86</td>\n",
       "      <td>3.16</td>\n",
       "      <td>8.18</td>\n",
       "      <td>6.58</td>\n",
       "      <td>39</td>\n",
       "      <td>52.33</td>\n",
       "      <td>552</td>\n",
       "      <td>0.41</td>\n",
       "      <td>0.51</td>\n",
       "      <td>Pacientes sin operar</td>\n",
       "    </tr>\n",
       "    <tr>\n",
       "      <th>460</th>\n",
       "      <td>2832</td>\n",
       "      <td>3167</td>\n",
       "      <td>6.30</td>\n",
       "      <td>4.54</td>\n",
       "      <td>3.20</td>\n",
       "      <td>4.87</td>\n",
       "      <td>7.85</td>\n",
       "      <td>6.51</td>\n",
       "      <td>55</td>\n",
       "      <td>53.58</td>\n",
       "      <td>482</td>\n",
       "      <td>1.17</td>\n",
       "      <td>2.34</td>\n",
       "      <td>Pacientes sin operar</td>\n",
       "    </tr>\n",
       "  </tbody>\n",
       "</table>\n",
       "<p>461 rows × 14 columns</p>\n",
       "</div>"
      ],
      "text/plain": [
       "     Max Depth Front  Max Depth Back  Max Curve Front  Max Curve Back  \\\n",
       "0               2590            2670             6.24            4.56   \n",
       "1               2432            2449             6.35            4.62   \n",
       "2               2833            2842             5.04            3.51   \n",
       "3               3101            3124             5.26            3.62   \n",
       "4               2435            2692             5.25            3.44   \n",
       "5               2527            2641             6.61            4.82   \n",
       "6               2614            2735             6.66            4.87   \n",
       "7               2339            2542             6.37            3.84   \n",
       "8               2695            2665             6.42            4.76   \n",
       "9               2568            2742             5.33            3.25   \n",
       "10              2490            2551             5.85            3.98   \n",
       "11              2601            2657             6.96            4.72   \n",
       "12              2469            2510             5.82            3.61   \n",
       "13              2329            2493             6.52            4.98   \n",
       "14              2581            2622             6.43            4.62   \n",
       "15              2562            2774             6.26            4.65   \n",
       "16              2675            2791             7.17            5.60   \n",
       "17              2528            2459             7.10            5.58   \n",
       "18              2808            2894             6.60            4.63   \n",
       "19              2980            3019             5.42            3.94   \n",
       "20              2695            2738             5.75            4.19   \n",
       "21              3049            3128             6.33            4.87   \n",
       "22              2778            2853             5.42            3.72   \n",
       "23              2413            2523             5.72            3.85   \n",
       "24              2385            2628             5.19            3.55   \n",
       "25              2492            2638             5.23            3.45   \n",
       "26              2754            2929             7.52            6.12   \n",
       "27              2426            2463             5.60            3.59   \n",
       "28              2895            2785             6.13            4.93   \n",
       "29              2818            2915             4.99            3.41   \n",
       "..               ...             ...              ...             ...   \n",
       "431             2529            2622             6.78            5.10   \n",
       "432             2415            2510             7.71            6.20   \n",
       "433             2359            2550             6.55            5.08   \n",
       "434             2763            2762             7.00            5.20   \n",
       "435             2452            2634             7.29            5.32   \n",
       "436             2294            2327             6.95            4.85   \n",
       "437             2842            2933             5.24            3.50   \n",
       "438             2538            2677             6.74            5.00   \n",
       "439             2363            2610             6.60            4.91   \n",
       "440             2439            2625             6.93            5.13   \n",
       "441             2921            2996             6.96            5.32   \n",
       "442             2979            3137             6.59            4.74   \n",
       "443             2763            3011             7.40            5.08   \n",
       "444             2804            2681             5.86            4.35   \n",
       "445             3018            3047             7.05            5.45   \n",
       "446             2780            2895             6.76            5.25   \n",
       "447             4071            4292             6.60            5.00   \n",
       "448             2916            3000             6.32            4.57   \n",
       "449             3162            3223             6.79            5.22   \n",
       "450             2709            2905             6.99            5.31   \n",
       "451             2823            2854             7.08            5.36   \n",
       "452             2404            2565             7.31            5.71   \n",
       "453             2484            2714             6.42            4.69   \n",
       "454             3207            3378             6.21            4.53   \n",
       "455             2520            2583             6.30            4.84   \n",
       "456             3560            3971             6.84            5.05   \n",
       "457             3047            3408             6.17            4.50   \n",
       "458             3191            3189             7.01            5.10   \n",
       "459             2548            2710             6.45            4.46   \n",
       "460             2832            3167             6.30            4.54   \n",
       "\n",
       "     Max Variation Curve Front  Max Variation Curve Back  Mean Curve Front  \\\n",
       "0                         3.72                      3.64              7.86   \n",
       "1                         3.41                      3.44              7.86   \n",
       "2                         5.54                      5.35              7.84   \n",
       "3                         5.10                      4.91              7.93   \n",
       "4                         4.61                      5.25              7.20   \n",
       "5                         2.47                      2.88              8.17   \n",
       "6                         3.28                      3.01              8.03   \n",
       "7                         2.78                      4.63              7.90   \n",
       "8                         3.35                      4.80              7.87   \n",
       "9                         3.66                      4.47              7.51   \n",
       "10                        3.56                      3.48              7.72   \n",
       "11                        2.22                      3.12              8.14   \n",
       "12                        2.92                      4.71              7.55   \n",
       "13                        2.31                      2.76              7.50   \n",
       "14                        3.42                      3.70              8.17   \n",
       "15                        3.32                      5.02              8.00   \n",
       "16                        2.67                      3.36              8.53   \n",
       "17                        2.82                      3.55              8.55   \n",
       "18                        2.11                      3.01              7.67   \n",
       "19                        4.17                      4.96              7.80   \n",
       "20                        3.90                      4.63              8.02   \n",
       "21                        2.68                      2.58              7.84   \n",
       "22                        3.14                      3.94              7.40   \n",
       "23                        3.07                      3.50              7.81   \n",
       "24                        3.59                      4.55              7.69   \n",
       "25                        3.58                      4.51              7.70   \n",
       "26                        1.55                      1.24              8.08   \n",
       "27                        3.30                      4.53              7.65   \n",
       "28                        2.80                      2.39              7.28   \n",
       "29                        4.61                      5.36              7.43   \n",
       "..                         ...                       ...               ...   \n",
       "431                       1.95                      2.15              7.72   \n",
       "432                       1.50                      1.38              8.23   \n",
       "433                       2.69                      2.93              7.59   \n",
       "434                       1.53                      2.26              7.67   \n",
       "435                       2.26                      2.41              8.45   \n",
       "436                       2.51                      3.15              8.20   \n",
       "437                       4.20                      4.51              7.40   \n",
       "438                       2.20                      2.75              7.86   \n",
       "439                       2.00                      2.50              7.63   \n",
       "440                       2.12                      2.15              7.71   \n",
       "441                       2.01                      2.47              8.02   \n",
       "442                       2.85                      2.63              7.80   \n",
       "443                       3.08                      2.21              8.02   \n",
       "444                       3.04                      3.56              7.64   \n",
       "445                       1.62                      2.04              7.77   \n",
       "446                       2.30                      2.32              7.68   \n",
       "447                       2.84                      2.94              7.94   \n",
       "448                       2.09                      2.88              7.47   \n",
       "449                       1.81                      2.34              7.54   \n",
       "450                       2.22                      2.31              7.93   \n",
       "451                       1.26                      1.65              7.56   \n",
       "452                       1.80                      2.17              8.05   \n",
       "453                       2.57                      3.41              7.90   \n",
       "454                       2.88                      3.08              7.50   \n",
       "455                       3.12                      3.08              7.82   \n",
       "456                       2.66                      3.07              7.78   \n",
       "457                       2.89                      3.70              7.58   \n",
       "458                       2.27                      2.88              7.95   \n",
       "459                       2.86                      3.16              8.18   \n",
       "460                       3.20                      4.87              7.85   \n",
       "\n",
       "     Mean Curve Back  Age  K Max  Paqui Min  \\\n",
       "0               6.49   24  54.11        429   \n",
       "1               6.51   24  53.18        425   \n",
       "2               6.37   35  66.97        408   \n",
       "3               6.44   35  64.18        372   \n",
       "4               5.85   35  64.33        466   \n",
       "5               6.61   20  51.06        473   \n",
       "6               6.60   79  50.68        502   \n",
       "7               6.24   49  52.97        398   \n",
       "8               6.57   48  52.61        533   \n",
       "9               6.14   75  63.37        414   \n",
       "10              6.38   75  57.70        428   \n",
       "11              6.68   44  48.49        483   \n",
       "12              6.32   42  57.97        453   \n",
       "13              6.17   54  51.79        446   \n",
       "14              6.63   37  52.49        470   \n",
       "15              6.73   52  53.89        478   \n",
       "16              7.11   37  47.09        455   \n",
       "17              7.07   37  47.56        465   \n",
       "18              6.35   59  51.14        496   \n",
       "19              6.52   34  62.23        424   \n",
       "20              6.70   34  58.72        443   \n",
       "21              6.41   41  53.30        606   \n",
       "22              6.11   64  62.33        452   \n",
       "23              6.23   23  59.03        473   \n",
       "24              6.18   23  65.07        462   \n",
       "25              6.16   23  64.53        454   \n",
       "26              6.66   39  44.91        539   \n",
       "27              6.10   25  60.29        490   \n",
       "28              6.00   37  55.02        399   \n",
       "29              6.17   38  67.70        378   \n",
       "..               ...  ...    ...        ...   \n",
       "431             6.27   49  49.80        513   \n",
       "432             6.74   43  43.79        527   \n",
       "433             6.30   63  51.55        467   \n",
       "434             6.30   34  48.22        486   \n",
       "435             6.67   42  46.29        484   \n",
       "436             6.78   62  48.54        492   \n",
       "437             6.03   38  64.39        404   \n",
       "438             6.42   38  50.10        486   \n",
       "439             6.21   39  51.16        486   \n",
       "440             6.22   39  48.69        492   \n",
       "441             6.66   36  48.48        414   \n",
       "442             6.20   57  51.28        460   \n",
       "443             6.35   57  45.61        484   \n",
       "444             6.40   31  57.57        450   \n",
       "445             6.45   36  47.86        477   \n",
       "446             6.24   39  49.96        488   \n",
       "447             6.49   59  51.17        466   \n",
       "448             6.15   45  53.42        421   \n",
       "449             6.24   45  49.69        453   \n",
       "450             6.38   47  48.30        435   \n",
       "451             6.16   35  47.65        536   \n",
       "452             6.61   49  46.17        486   \n",
       "453             6.48   49  52.59        471   \n",
       "454             6.16   41  54.34        440   \n",
       "455             6.50   27  53.58        458   \n",
       "456             6.51   63  49.32        525   \n",
       "457             6.14   63  54.70        525   \n",
       "458             6.68   68  48.16        495   \n",
       "459             6.58   39  52.33        552   \n",
       "460             6.51   55  53.58        482   \n",
       "\n",
       "     Distance Between Max Curve and Min Paqui  \\\n",
       "0                                        0.78   \n",
       "1                                        0.54   \n",
       "2                                        4.87   \n",
       "3                                        5.50   \n",
       "4                                        0.40   \n",
       "5                                        0.61   \n",
       "6                                        0.71   \n",
       "7                                        0.50   \n",
       "8                                        1.92   \n",
       "9                                        0.28   \n",
       "10                                       0.76   \n",
       "11                                       1.34   \n",
       "12                                       0.50   \n",
       "13                                       2.66   \n",
       "14                                       0.82   \n",
       "15                                       1.14   \n",
       "16                                       0.64   \n",
       "17                                       0.22   \n",
       "18                                       0.92   \n",
       "19                                       1.32   \n",
       "20                                       1.43   \n",
       "21                                       1.41   \n",
       "22                                       0.36   \n",
       "23                                       1.03   \n",
       "24                                       0.73   \n",
       "25                                       0.86   \n",
       "26                                       3.35   \n",
       "27                                       0.22   \n",
       "28                                       2.83   \n",
       "29                                       0.36   \n",
       "..                                        ...   \n",
       "431                                      0.92   \n",
       "432                                      2.38   \n",
       "433                                      1.21   \n",
       "434                                      0.86   \n",
       "435                                      1.04   \n",
       "436                                      1.10   \n",
       "437                                      0.14   \n",
       "438                                      1.49   \n",
       "439                                      0.92   \n",
       "440                                      0.64   \n",
       "441                                      2.25   \n",
       "442                                      0.95   \n",
       "443                                      5.19   \n",
       "444                                      1.39   \n",
       "445                                      1.78   \n",
       "446                                      2.34   \n",
       "447                                      1.64   \n",
       "448                                      0.71   \n",
       "449                                      1.42   \n",
       "450                                      1.78   \n",
       "451                                      2.05   \n",
       "452                                      0.51   \n",
       "453                                      0.67   \n",
       "454                                      1.36   \n",
       "455                                      1.25   \n",
       "456                                      1.40   \n",
       "457                                      2.30   \n",
       "458                                      1.12   \n",
       "459                                      0.41   \n",
       "460                                      1.17   \n",
       "\n",
       "     Position of Most Curve Point Relative to Center  \\\n",
       "0                                               1.09   \n",
       "1                                               0.96   \n",
       "2                                               4.65   \n",
       "3                                               4.88   \n",
       "4                                               1.02   \n",
       "5                                               0.40   \n",
       "6                                               1.28   \n",
       "7                                               0.15   \n",
       "8                                               3.82   \n",
       "9                                               0.33   \n",
       "10                                              1.08   \n",
       "11                                              1.87   \n",
       "12                                              0.57   \n",
       "13                                              3.66   \n",
       "14                                              1.08   \n",
       "15                                              1.91   \n",
       "16                                              0.56   \n",
       "17                                              0.73   \n",
       "18                                              0.90   \n",
       "19                                              1.98   \n",
       "20                                              2.25   \n",
       "21                                              1.63   \n",
       "22                                              0.68   \n",
       "23                                              0.92   \n",
       "24                                              1.02   \n",
       "25                                              0.60   \n",
       "26                                              2.36   \n",
       "27                                              0.45   \n",
       "28                                              1.25   \n",
       "29                                              1.06   \n",
       "..                                               ...   \n",
       "431                                             1.70   \n",
       "432                                             3.28   \n",
       "433                                             0.85   \n",
       "434                                             1.02   \n",
       "435                                             0.82   \n",
       "436                                             1.41   \n",
       "437                                             0.96   \n",
       "438                                             2.08   \n",
       "439                                             0.36   \n",
       "440                                             0.28   \n",
       "441                                             3.58   \n",
       "442                                             0.12   \n",
       "443                                             5.41   \n",
       "444                                             2.22   \n",
       "445                                             1.87   \n",
       "446                                             2.63   \n",
       "447                                             1.84   \n",
       "448                                             0.36   \n",
       "449                                             2.01   \n",
       "450                                             2.06   \n",
       "451                                             2.86   \n",
       "452                                             0.91   \n",
       "453                                             0.30   \n",
       "454                                             1.20   \n",
       "455                                             1.60   \n",
       "456                                             2.10   \n",
       "457                                             2.70   \n",
       "458                                             2.00   \n",
       "459                                             0.51   \n",
       "460                                             2.34   \n",
       "\n",
       "                               Treatment  \n",
       "0    Pacientes tratados mediante anillos  \n",
       "1    Pacientes tratados mediante anillos  \n",
       "2    Pacientes tratados mediante anillos  \n",
       "3    Pacientes tratados mediante anillos  \n",
       "4    Pacientes tratados mediante anillos  \n",
       "5    Pacientes tratados mediante anillos  \n",
       "6    Pacientes tratados mediante anillos  \n",
       "7    Pacientes tratados mediante anillos  \n",
       "8    Pacientes tratados mediante anillos  \n",
       "9    Pacientes tratados mediante anillos  \n",
       "10   Pacientes tratados mediante anillos  \n",
       "11   Pacientes tratados mediante anillos  \n",
       "12   Pacientes tratados mediante anillos  \n",
       "13   Pacientes tratados mediante anillos  \n",
       "14   Pacientes tratados mediante anillos  \n",
       "15   Pacientes tratados mediante anillos  \n",
       "16   Pacientes tratados mediante anillos  \n",
       "17   Pacientes tratados mediante anillos  \n",
       "18   Pacientes tratados mediante anillos  \n",
       "19   Pacientes tratados mediante anillos  \n",
       "20   Pacientes tratados mediante anillos  \n",
       "21   Pacientes tratados mediante anillos  \n",
       "22   Pacientes tratados mediante anillos  \n",
       "23   Pacientes tratados mediante anillos  \n",
       "24   Pacientes tratados mediante anillos  \n",
       "25   Pacientes tratados mediante anillos  \n",
       "26   Pacientes tratados mediante anillos  \n",
       "27   Pacientes tratados mediante anillos  \n",
       "28   Pacientes tratados mediante anillos  \n",
       "29   Pacientes tratados mediante anillos  \n",
       "..                                   ...  \n",
       "431                 Pacientes sin operar  \n",
       "432                 Pacientes sin operar  \n",
       "433                 Pacientes sin operar  \n",
       "434                 Pacientes sin operar  \n",
       "435                 Pacientes sin operar  \n",
       "436                 Pacientes sin operar  \n",
       "437                 Pacientes sin operar  \n",
       "438                 Pacientes sin operar  \n",
       "439                 Pacientes sin operar  \n",
       "440                 Pacientes sin operar  \n",
       "441                 Pacientes sin operar  \n",
       "442                 Pacientes sin operar  \n",
       "443                 Pacientes sin operar  \n",
       "444                 Pacientes sin operar  \n",
       "445                 Pacientes sin operar  \n",
       "446                 Pacientes sin operar  \n",
       "447                 Pacientes sin operar  \n",
       "448                 Pacientes sin operar  \n",
       "449                 Pacientes sin operar  \n",
       "450                 Pacientes sin operar  \n",
       "451                 Pacientes sin operar  \n",
       "452                 Pacientes sin operar  \n",
       "453                 Pacientes sin operar  \n",
       "454                 Pacientes sin operar  \n",
       "455                 Pacientes sin operar  \n",
       "456                 Pacientes sin operar  \n",
       "457                 Pacientes sin operar  \n",
       "458                 Pacientes sin operar  \n",
       "459                 Pacientes sin operar  \n",
       "460                 Pacientes sin operar  \n",
       "\n",
       "[461 rows x 14 columns]"
      ]
     },
     "execution_count": 12,
     "metadata": {},
     "output_type": "execute_result"
    }
   ],
   "source": [
    "eye_df = pd.read_csv(url, sep = \";\")\n",
    "eye_df"
   ]
  },
  {
   "cell_type": "markdown",
   "metadata": {
    "colab_type": "text",
    "id": "aztjeb8ic2ee"
   },
   "source": [
    "Como podemos ver existe correlación entre las elevaciones y las curvaturas máximas entre la cara anterior y posterior."
   ]
  },
  {
   "cell_type": "code",
   "execution_count": 13,
   "metadata": {
    "colab": {
     "base_uri": "https://localhost:8080/",
     "height": 639
    },
    "colab_type": "code",
    "executionInfo": {
     "elapsed": 2085,
     "status": "ok",
     "timestamp": 1559597155651,
     "user": {
      "displayName": "Diego Álvarez Fernandez",
      "photoUrl": "",
      "userId": "05792570081424463411"
     },
     "user_tz": -120
    },
    "id": "YyjmOeRBc2ee",
    "outputId": "fcdf3bcb-5cc9-4587-82c0-2f56fa38e06d"
   },
   "outputs": [
    {
     "data": {
      "text/html": [
       "<div>\n",
       "<style scoped>\n",
       "    .dataframe tbody tr th:only-of-type {\n",
       "        vertical-align: middle;\n",
       "    }\n",
       "\n",
       "    .dataframe tbody tr th {\n",
       "        vertical-align: top;\n",
       "    }\n",
       "\n",
       "    .dataframe thead th {\n",
       "        text-align: right;\n",
       "    }\n",
       "</style>\n",
       "<table border=\"1\" class=\"dataframe\">\n",
       "  <thead>\n",
       "    <tr style=\"text-align: right;\">\n",
       "      <th></th>\n",
       "      <th>Max Depth Front</th>\n",
       "      <th>Max Depth Back</th>\n",
       "      <th>Max Curve Front</th>\n",
       "      <th>Max Curve Back</th>\n",
       "      <th>Max Variation Curve Front</th>\n",
       "      <th>Max Variation Curve Back</th>\n",
       "      <th>Mean Curve Front</th>\n",
       "      <th>Mean Curve Back</th>\n",
       "      <th>Age</th>\n",
       "      <th>K Max</th>\n",
       "      <th>Paqui Min</th>\n",
       "      <th>Distance Between Max Curve and Min Paqui</th>\n",
       "      <th>Position of Most Curve Point Relative to Center</th>\n",
       "    </tr>\n",
       "  </thead>\n",
       "  <tbody>\n",
       "    <tr>\n",
       "      <th>Max Depth Front</th>\n",
       "      <td>1.000000</td>\n",
       "      <td>0.918769</td>\n",
       "      <td>0.148906</td>\n",
       "      <td>0.180076</td>\n",
       "      <td>-0.101847</td>\n",
       "      <td>-0.177493</td>\n",
       "      <td>-0.008407</td>\n",
       "      <td>0.015985</td>\n",
       "      <td>0.038626</td>\n",
       "      <td>-0.166420</td>\n",
       "      <td>0.007536</td>\n",
       "      <td>0.099422</td>\n",
       "      <td>0.130465</td>\n",
       "    </tr>\n",
       "    <tr>\n",
       "      <th>Max Depth Back</th>\n",
       "      <td>0.918769</td>\n",
       "      <td>1.000000</td>\n",
       "      <td>0.135230</td>\n",
       "      <td>0.146079</td>\n",
       "      <td>-0.076268</td>\n",
       "      <td>-0.140805</td>\n",
       "      <td>-0.028989</td>\n",
       "      <td>-0.052281</td>\n",
       "      <td>0.045135</td>\n",
       "      <td>-0.140972</td>\n",
       "      <td>-0.008846</td>\n",
       "      <td>0.137598</td>\n",
       "      <td>0.141763</td>\n",
       "    </tr>\n",
       "    <tr>\n",
       "      <th>Max Curve Front</th>\n",
       "      <td>0.148906</td>\n",
       "      <td>0.135230</td>\n",
       "      <td>1.000000</td>\n",
       "      <td>0.931793</td>\n",
       "      <td>-0.744736</td>\n",
       "      <td>-0.435254</td>\n",
       "      <td>0.539516</td>\n",
       "      <td>0.518290</td>\n",
       "      <td>0.160518</td>\n",
       "      <td>-0.983708</td>\n",
       "      <td>0.556916</td>\n",
       "      <td>0.020488</td>\n",
       "      <td>0.055171</td>\n",
       "    </tr>\n",
       "    <tr>\n",
       "      <th>Max Curve Back</th>\n",
       "      <td>0.180076</td>\n",
       "      <td>0.146079</td>\n",
       "      <td>0.931793</td>\n",
       "      <td>1.000000</td>\n",
       "      <td>-0.675757</td>\n",
       "      <td>-0.485264</td>\n",
       "      <td>0.483655</td>\n",
       "      <td>0.519664</td>\n",
       "      <td>0.129078</td>\n",
       "      <td>-0.909349</td>\n",
       "      <td>0.544147</td>\n",
       "      <td>0.073439</td>\n",
       "      <td>0.134985</td>\n",
       "    </tr>\n",
       "    <tr>\n",
       "      <th>Max Variation Curve Front</th>\n",
       "      <td>-0.101847</td>\n",
       "      <td>-0.076268</td>\n",
       "      <td>-0.744736</td>\n",
       "      <td>-0.675757</td>\n",
       "      <td>1.000000</td>\n",
       "      <td>0.438443</td>\n",
       "      <td>-0.169504</td>\n",
       "      <td>-0.189050</td>\n",
       "      <td>-0.033004</td>\n",
       "      <td>0.740876</td>\n",
       "      <td>-0.443434</td>\n",
       "      <td>0.340081</td>\n",
       "      <td>0.306191</td>\n",
       "    </tr>\n",
       "    <tr>\n",
       "      <th>Max Variation Curve Back</th>\n",
       "      <td>-0.177493</td>\n",
       "      <td>-0.140805</td>\n",
       "      <td>-0.435254</td>\n",
       "      <td>-0.485264</td>\n",
       "      <td>0.438443</td>\n",
       "      <td>1.000000</td>\n",
       "      <td>-0.148551</td>\n",
       "      <td>-0.031054</td>\n",
       "      <td>-0.015036</td>\n",
       "      <td>0.425902</td>\n",
       "      <td>-0.194438</td>\n",
       "      <td>0.131606</td>\n",
       "      <td>-0.000394</td>\n",
       "    </tr>\n",
       "    <tr>\n",
       "      <th>Mean Curve Front</th>\n",
       "      <td>-0.008407</td>\n",
       "      <td>-0.028989</td>\n",
       "      <td>0.539516</td>\n",
       "      <td>0.483655</td>\n",
       "      <td>-0.169504</td>\n",
       "      <td>-0.148551</td>\n",
       "      <td>1.000000</td>\n",
       "      <td>0.896174</td>\n",
       "      <td>-0.140134</td>\n",
       "      <td>-0.526604</td>\n",
       "      <td>0.360344</td>\n",
       "      <td>0.115398</td>\n",
       "      <td>0.135702</td>\n",
       "    </tr>\n",
       "    <tr>\n",
       "      <th>Mean Curve Back</th>\n",
       "      <td>0.015985</td>\n",
       "      <td>-0.052281</td>\n",
       "      <td>0.518290</td>\n",
       "      <td>0.519664</td>\n",
       "      <td>-0.189050</td>\n",
       "      <td>-0.031054</td>\n",
       "      <td>0.896174</td>\n",
       "      <td>1.000000</td>\n",
       "      <td>-0.023933</td>\n",
       "      <td>-0.505723</td>\n",
       "      <td>0.309405</td>\n",
       "      <td>0.108834</td>\n",
       "      <td>0.163733</td>\n",
       "    </tr>\n",
       "    <tr>\n",
       "      <th>Age</th>\n",
       "      <td>0.038626</td>\n",
       "      <td>0.045135</td>\n",
       "      <td>0.160518</td>\n",
       "      <td>0.129078</td>\n",
       "      <td>-0.033004</td>\n",
       "      <td>-0.015036</td>\n",
       "      <td>-0.140134</td>\n",
       "      <td>-0.023933</td>\n",
       "      <td>1.000000</td>\n",
       "      <td>-0.168898</td>\n",
       "      <td>0.070463</td>\n",
       "      <td>0.089815</td>\n",
       "      <td>0.101973</td>\n",
       "    </tr>\n",
       "    <tr>\n",
       "      <th>K Max</th>\n",
       "      <td>-0.166420</td>\n",
       "      <td>-0.140972</td>\n",
       "      <td>-0.983708</td>\n",
       "      <td>-0.909349</td>\n",
       "      <td>0.740876</td>\n",
       "      <td>0.425902</td>\n",
       "      <td>-0.526604</td>\n",
       "      <td>-0.505723</td>\n",
       "      <td>-0.168898</td>\n",
       "      <td>1.000000</td>\n",
       "      <td>-0.545111</td>\n",
       "      <td>-0.001841</td>\n",
       "      <td>-0.032807</td>\n",
       "    </tr>\n",
       "    <tr>\n",
       "      <th>Paqui Min</th>\n",
       "      <td>0.007536</td>\n",
       "      <td>-0.008846</td>\n",
       "      <td>0.556916</td>\n",
       "      <td>0.544147</td>\n",
       "      <td>-0.443434</td>\n",
       "      <td>-0.194438</td>\n",
       "      <td>0.360344</td>\n",
       "      <td>0.309405</td>\n",
       "      <td>0.070463</td>\n",
       "      <td>-0.545111</td>\n",
       "      <td>1.000000</td>\n",
       "      <td>-0.013823</td>\n",
       "      <td>0.009084</td>\n",
       "    </tr>\n",
       "    <tr>\n",
       "      <th>Distance Between Max Curve and Min Paqui</th>\n",
       "      <td>0.099422</td>\n",
       "      <td>0.137598</td>\n",
       "      <td>0.020488</td>\n",
       "      <td>0.073439</td>\n",
       "      <td>0.340081</td>\n",
       "      <td>0.131606</td>\n",
       "      <td>0.115398</td>\n",
       "      <td>0.108834</td>\n",
       "      <td>0.089815</td>\n",
       "      <td>-0.001841</td>\n",
       "      <td>-0.013823</td>\n",
       "      <td>1.000000</td>\n",
       "      <td>0.886387</td>\n",
       "    </tr>\n",
       "    <tr>\n",
       "      <th>Position of Most Curve Point Relative to Center</th>\n",
       "      <td>0.130465</td>\n",
       "      <td>0.141763</td>\n",
       "      <td>0.055171</td>\n",
       "      <td>0.134985</td>\n",
       "      <td>0.306191</td>\n",
       "      <td>-0.000394</td>\n",
       "      <td>0.135702</td>\n",
       "      <td>0.163733</td>\n",
       "      <td>0.101973</td>\n",
       "      <td>-0.032807</td>\n",
       "      <td>0.009084</td>\n",
       "      <td>0.886387</td>\n",
       "      <td>1.000000</td>\n",
       "    </tr>\n",
       "  </tbody>\n",
       "</table>\n",
       "</div>"
      ],
      "text/plain": [
       "                                                 Max Depth Front  \\\n",
       "Max Depth Front                                         1.000000   \n",
       "Max Depth Back                                          0.918769   \n",
       "Max Curve Front                                         0.148906   \n",
       "Max Curve Back                                          0.180076   \n",
       "Max Variation Curve Front                              -0.101847   \n",
       "Max Variation Curve Back                               -0.177493   \n",
       "Mean Curve Front                                       -0.008407   \n",
       "Mean Curve Back                                         0.015985   \n",
       "Age                                                     0.038626   \n",
       "K Max                                                  -0.166420   \n",
       "Paqui Min                                               0.007536   \n",
       "Distance Between Max Curve and Min Paqui                0.099422   \n",
       "Position of Most Curve Point Relative to Center         0.130465   \n",
       "\n",
       "                                                 Max Depth Back  \\\n",
       "Max Depth Front                                        0.918769   \n",
       "Max Depth Back                                         1.000000   \n",
       "Max Curve Front                                        0.135230   \n",
       "Max Curve Back                                         0.146079   \n",
       "Max Variation Curve Front                             -0.076268   \n",
       "Max Variation Curve Back                              -0.140805   \n",
       "Mean Curve Front                                      -0.028989   \n",
       "Mean Curve Back                                       -0.052281   \n",
       "Age                                                    0.045135   \n",
       "K Max                                                 -0.140972   \n",
       "Paqui Min                                             -0.008846   \n",
       "Distance Between Max Curve and Min Paqui               0.137598   \n",
       "Position of Most Curve Point Relative to Center        0.141763   \n",
       "\n",
       "                                                 Max Curve Front  \\\n",
       "Max Depth Front                                         0.148906   \n",
       "Max Depth Back                                          0.135230   \n",
       "Max Curve Front                                         1.000000   \n",
       "Max Curve Back                                          0.931793   \n",
       "Max Variation Curve Front                              -0.744736   \n",
       "Max Variation Curve Back                               -0.435254   \n",
       "Mean Curve Front                                        0.539516   \n",
       "Mean Curve Back                                         0.518290   \n",
       "Age                                                     0.160518   \n",
       "K Max                                                  -0.983708   \n",
       "Paqui Min                                               0.556916   \n",
       "Distance Between Max Curve and Min Paqui                0.020488   \n",
       "Position of Most Curve Point Relative to Center         0.055171   \n",
       "\n",
       "                                                 Max Curve Back  \\\n",
       "Max Depth Front                                        0.180076   \n",
       "Max Depth Back                                         0.146079   \n",
       "Max Curve Front                                        0.931793   \n",
       "Max Curve Back                                         1.000000   \n",
       "Max Variation Curve Front                             -0.675757   \n",
       "Max Variation Curve Back                              -0.485264   \n",
       "Mean Curve Front                                       0.483655   \n",
       "Mean Curve Back                                        0.519664   \n",
       "Age                                                    0.129078   \n",
       "K Max                                                 -0.909349   \n",
       "Paqui Min                                              0.544147   \n",
       "Distance Between Max Curve and Min Paqui               0.073439   \n",
       "Position of Most Curve Point Relative to Center        0.134985   \n",
       "\n",
       "                                                 Max Variation Curve Front  \\\n",
       "Max Depth Front                                                  -0.101847   \n",
       "Max Depth Back                                                   -0.076268   \n",
       "Max Curve Front                                                  -0.744736   \n",
       "Max Curve Back                                                   -0.675757   \n",
       "Max Variation Curve Front                                         1.000000   \n",
       "Max Variation Curve Back                                          0.438443   \n",
       "Mean Curve Front                                                 -0.169504   \n",
       "Mean Curve Back                                                  -0.189050   \n",
       "Age                                                              -0.033004   \n",
       "K Max                                                             0.740876   \n",
       "Paqui Min                                                        -0.443434   \n",
       "Distance Between Max Curve and Min Paqui                          0.340081   \n",
       "Position of Most Curve Point Relative to Center                   0.306191   \n",
       "\n",
       "                                                 Max Variation Curve Back  \\\n",
       "Max Depth Front                                                 -0.177493   \n",
       "Max Depth Back                                                  -0.140805   \n",
       "Max Curve Front                                                 -0.435254   \n",
       "Max Curve Back                                                  -0.485264   \n",
       "Max Variation Curve Front                                        0.438443   \n",
       "Max Variation Curve Back                                         1.000000   \n",
       "Mean Curve Front                                                -0.148551   \n",
       "Mean Curve Back                                                 -0.031054   \n",
       "Age                                                             -0.015036   \n",
       "K Max                                                            0.425902   \n",
       "Paqui Min                                                       -0.194438   \n",
       "Distance Between Max Curve and Min Paqui                         0.131606   \n",
       "Position of Most Curve Point Relative to Center                 -0.000394   \n",
       "\n",
       "                                                 Mean Curve Front  \\\n",
       "Max Depth Front                                         -0.008407   \n",
       "Max Depth Back                                          -0.028989   \n",
       "Max Curve Front                                          0.539516   \n",
       "Max Curve Back                                           0.483655   \n",
       "Max Variation Curve Front                               -0.169504   \n",
       "Max Variation Curve Back                                -0.148551   \n",
       "Mean Curve Front                                         1.000000   \n",
       "Mean Curve Back                                          0.896174   \n",
       "Age                                                     -0.140134   \n",
       "K Max                                                   -0.526604   \n",
       "Paqui Min                                                0.360344   \n",
       "Distance Between Max Curve and Min Paqui                 0.115398   \n",
       "Position of Most Curve Point Relative to Center          0.135702   \n",
       "\n",
       "                                                 Mean Curve Back       Age  \\\n",
       "Max Depth Front                                         0.015985  0.038626   \n",
       "Max Depth Back                                         -0.052281  0.045135   \n",
       "Max Curve Front                                         0.518290  0.160518   \n",
       "Max Curve Back                                          0.519664  0.129078   \n",
       "Max Variation Curve Front                              -0.189050 -0.033004   \n",
       "Max Variation Curve Back                               -0.031054 -0.015036   \n",
       "Mean Curve Front                                        0.896174 -0.140134   \n",
       "Mean Curve Back                                         1.000000 -0.023933   \n",
       "Age                                                    -0.023933  1.000000   \n",
       "K Max                                                  -0.505723 -0.168898   \n",
       "Paqui Min                                               0.309405  0.070463   \n",
       "Distance Between Max Curve and Min Paqui                0.108834  0.089815   \n",
       "Position of Most Curve Point Relative to Center         0.163733  0.101973   \n",
       "\n",
       "                                                    K Max  Paqui Min  \\\n",
       "Max Depth Front                                 -0.166420   0.007536   \n",
       "Max Depth Back                                  -0.140972  -0.008846   \n",
       "Max Curve Front                                 -0.983708   0.556916   \n",
       "Max Curve Back                                  -0.909349   0.544147   \n",
       "Max Variation Curve Front                        0.740876  -0.443434   \n",
       "Max Variation Curve Back                         0.425902  -0.194438   \n",
       "Mean Curve Front                                -0.526604   0.360344   \n",
       "Mean Curve Back                                 -0.505723   0.309405   \n",
       "Age                                             -0.168898   0.070463   \n",
       "K Max                                            1.000000  -0.545111   \n",
       "Paqui Min                                       -0.545111   1.000000   \n",
       "Distance Between Max Curve and Min Paqui        -0.001841  -0.013823   \n",
       "Position of Most Curve Point Relative to Center -0.032807   0.009084   \n",
       "\n",
       "                                                 Distance Between Max Curve and Min Paqui  \\\n",
       "Max Depth Front                                                                  0.099422   \n",
       "Max Depth Back                                                                   0.137598   \n",
       "Max Curve Front                                                                  0.020488   \n",
       "Max Curve Back                                                                   0.073439   \n",
       "Max Variation Curve Front                                                        0.340081   \n",
       "Max Variation Curve Back                                                         0.131606   \n",
       "Mean Curve Front                                                                 0.115398   \n",
       "Mean Curve Back                                                                  0.108834   \n",
       "Age                                                                              0.089815   \n",
       "K Max                                                                           -0.001841   \n",
       "Paqui Min                                                                       -0.013823   \n",
       "Distance Between Max Curve and Min Paqui                                         1.000000   \n",
       "Position of Most Curve Point Relative to Center                                  0.886387   \n",
       "\n",
       "                                                 Position of Most Curve Point Relative to Center  \n",
       "Max Depth Front                                                                         0.130465  \n",
       "Max Depth Back                                                                          0.141763  \n",
       "Max Curve Front                                                                         0.055171  \n",
       "Max Curve Back                                                                          0.134985  \n",
       "Max Variation Curve Front                                                               0.306191  \n",
       "Max Variation Curve Back                                                               -0.000394  \n",
       "Mean Curve Front                                                                        0.135702  \n",
       "Mean Curve Back                                                                         0.163733  \n",
       "Age                                                                                     0.101973  \n",
       "K Max                                                                                  -0.032807  \n",
       "Paqui Min                                                                               0.009084  \n",
       "Distance Between Max Curve and Min Paqui                                                0.886387  \n",
       "Position of Most Curve Point Relative to Center                                         1.000000  "
      ]
     },
     "execution_count": 13,
     "metadata": {},
     "output_type": "execute_result"
    }
   ],
   "source": [
    "eye_df.corr()"
   ]
  },
  {
   "cell_type": "markdown",
   "metadata": {
    "colab_type": "text",
    "id": "CrEKvUyMc2ei"
   },
   "source": [
    "Vamos a intentar reducir la correlación, cogiendo únicamente un valor máximo de los dos que poseemos."
   ]
  },
  {
   "cell_type": "code",
   "execution_count": 14,
   "metadata": {
    "colab": {
     "base_uri": "https://localhost:8080/",
     "height": 408
    },
    "colab_type": "code",
    "executionInfo": {
     "elapsed": 575,
     "status": "ok",
     "timestamp": 1559597156999,
     "user": {
      "displayName": "Diego Álvarez Fernandez",
      "photoUrl": "",
      "userId": "05792570081424463411"
     },
     "user_tz": -120
    },
    "id": "cahhRmvQc2ej",
    "outputId": "0c0eb408-8d55-4170-c1c2-fec403cb2937"
   },
   "outputs": [
    {
     "data": {
      "text/html": [
       "<div>\n",
       "<style scoped>\n",
       "    .dataframe tbody tr th:only-of-type {\n",
       "        vertical-align: middle;\n",
       "    }\n",
       "\n",
       "    .dataframe tbody tr th {\n",
       "        vertical-align: top;\n",
       "    }\n",
       "\n",
       "    .dataframe thead th {\n",
       "        text-align: right;\n",
       "    }\n",
       "</style>\n",
       "<table border=\"1\" class=\"dataframe\">\n",
       "  <thead>\n",
       "    <tr style=\"text-align: right;\">\n",
       "      <th></th>\n",
       "      <th>Max Curve Front</th>\n",
       "      <th>Max Curve Back</th>\n",
       "      <th>Max Variation Curve Front</th>\n",
       "      <th>Max Variation Curve Back</th>\n",
       "      <th>Mean Curve Front</th>\n",
       "      <th>Mean Curve Back</th>\n",
       "      <th>Age</th>\n",
       "      <th>K Max</th>\n",
       "      <th>Paqui Min</th>\n",
       "      <th>Distance Between Max Curve and Min Paqui</th>\n",
       "      <th>Position of Most Curve Point Relative to Center</th>\n",
       "      <th>Treatment</th>\n",
       "      <th>Max Depth</th>\n",
       "    </tr>\n",
       "  </thead>\n",
       "  <tbody>\n",
       "    <tr>\n",
       "      <th>0</th>\n",
       "      <td>6.24</td>\n",
       "      <td>4.56</td>\n",
       "      <td>3.72</td>\n",
       "      <td>3.64</td>\n",
       "      <td>7.86</td>\n",
       "      <td>6.49</td>\n",
       "      <td>24</td>\n",
       "      <td>54.11</td>\n",
       "      <td>429</td>\n",
       "      <td>0.78</td>\n",
       "      <td>1.09</td>\n",
       "      <td>Pacientes tratados mediante anillos</td>\n",
       "      <td>2670</td>\n",
       "    </tr>\n",
       "    <tr>\n",
       "      <th>1</th>\n",
       "      <td>6.35</td>\n",
       "      <td>4.62</td>\n",
       "      <td>3.41</td>\n",
       "      <td>3.44</td>\n",
       "      <td>7.86</td>\n",
       "      <td>6.51</td>\n",
       "      <td>24</td>\n",
       "      <td>53.18</td>\n",
       "      <td>425</td>\n",
       "      <td>0.54</td>\n",
       "      <td>0.96</td>\n",
       "      <td>Pacientes tratados mediante anillos</td>\n",
       "      <td>2449</td>\n",
       "    </tr>\n",
       "    <tr>\n",
       "      <th>2</th>\n",
       "      <td>5.04</td>\n",
       "      <td>3.51</td>\n",
       "      <td>5.54</td>\n",
       "      <td>5.35</td>\n",
       "      <td>7.84</td>\n",
       "      <td>6.37</td>\n",
       "      <td>35</td>\n",
       "      <td>66.97</td>\n",
       "      <td>408</td>\n",
       "      <td>4.87</td>\n",
       "      <td>4.65</td>\n",
       "      <td>Pacientes tratados mediante anillos</td>\n",
       "      <td>2842</td>\n",
       "    </tr>\n",
       "    <tr>\n",
       "      <th>3</th>\n",
       "      <td>5.26</td>\n",
       "      <td>3.62</td>\n",
       "      <td>5.10</td>\n",
       "      <td>4.91</td>\n",
       "      <td>7.93</td>\n",
       "      <td>6.44</td>\n",
       "      <td>35</td>\n",
       "      <td>64.18</td>\n",
       "      <td>372</td>\n",
       "      <td>5.50</td>\n",
       "      <td>4.88</td>\n",
       "      <td>Pacientes tratados mediante anillos</td>\n",
       "      <td>3124</td>\n",
       "    </tr>\n",
       "    <tr>\n",
       "      <th>4</th>\n",
       "      <td>5.25</td>\n",
       "      <td>3.44</td>\n",
       "      <td>4.61</td>\n",
       "      <td>5.25</td>\n",
       "      <td>7.20</td>\n",
       "      <td>5.85</td>\n",
       "      <td>35</td>\n",
       "      <td>64.33</td>\n",
       "      <td>466</td>\n",
       "      <td>0.40</td>\n",
       "      <td>1.02</td>\n",
       "      <td>Pacientes tratados mediante anillos</td>\n",
       "      <td>2692</td>\n",
       "    </tr>\n",
       "  </tbody>\n",
       "</table>\n",
       "</div>"
      ],
      "text/plain": [
       "   Max Curve Front  Max Curve Back  Max Variation Curve Front  \\\n",
       "0             6.24            4.56                       3.72   \n",
       "1             6.35            4.62                       3.41   \n",
       "2             5.04            3.51                       5.54   \n",
       "3             5.26            3.62                       5.10   \n",
       "4             5.25            3.44                       4.61   \n",
       "\n",
       "   Max Variation Curve Back  Mean Curve Front  Mean Curve Back  Age  K Max  \\\n",
       "0                      3.64              7.86             6.49   24  54.11   \n",
       "1                      3.44              7.86             6.51   24  53.18   \n",
       "2                      5.35              7.84             6.37   35  66.97   \n",
       "3                      4.91              7.93             6.44   35  64.18   \n",
       "4                      5.25              7.20             5.85   35  64.33   \n",
       "\n",
       "   Paqui Min  Distance Between Max Curve and Min Paqui  \\\n",
       "0        429                                      0.78   \n",
       "1        425                                      0.54   \n",
       "2        408                                      4.87   \n",
       "3        372                                      5.50   \n",
       "4        466                                      0.40   \n",
       "\n",
       "   Position of Most Curve Point Relative to Center  \\\n",
       "0                                             1.09   \n",
       "1                                             0.96   \n",
       "2                                             4.65   \n",
       "3                                             4.88   \n",
       "4                                             1.02   \n",
       "\n",
       "                             Treatment  Max Depth  \n",
       "0  Pacientes tratados mediante anillos       2670  \n",
       "1  Pacientes tratados mediante anillos       2449  \n",
       "2  Pacientes tratados mediante anillos       2842  \n",
       "3  Pacientes tratados mediante anillos       3124  \n",
       "4  Pacientes tratados mediante anillos       2692  "
      ]
     },
     "execution_count": 14,
     "metadata": {},
     "output_type": "execute_result"
    }
   ],
   "source": [
    "eye_df['Max Depth'] = np.where(eye_df['Max Depth Front'] > eye_df['Max Depth Back'], eye_df['Max Depth Front'], eye_df['Max Depth Back'])\n",
    "eye_df.drop(['Max Depth Front', 'Max Depth Back'], axis = 1, inplace = True)\n",
    "eye_df.head(5)"
   ]
  },
  {
   "cell_type": "code",
   "execution_count": 15,
   "metadata": {
    "colab": {
     "base_uri": "https://localhost:8080/",
     "height": 323
    },
    "colab_type": "code",
    "executionInfo": {
     "elapsed": 778,
     "status": "ok",
     "timestamp": 1559597160272,
     "user": {
      "displayName": "Diego Álvarez Fernandez",
      "photoUrl": "",
      "userId": "05792570081424463411"
     },
     "user_tz": -120
    },
    "id": "5t6Gg1Hac2em",
    "outputId": "e4823855-6cab-4438-b72a-ce851bec8269"
   },
   "outputs": [
    {
     "data": {
      "text/html": [
       "<div>\n",
       "<style scoped>\n",
       "    .dataframe tbody tr th:only-of-type {\n",
       "        vertical-align: middle;\n",
       "    }\n",
       "\n",
       "    .dataframe tbody tr th {\n",
       "        vertical-align: top;\n",
       "    }\n",
       "\n",
       "    .dataframe thead th {\n",
       "        text-align: right;\n",
       "    }\n",
       "</style>\n",
       "<table border=\"1\" class=\"dataframe\">\n",
       "  <thead>\n",
       "    <tr style=\"text-align: right;\">\n",
       "      <th></th>\n",
       "      <th>Max Variation Curve Front</th>\n",
       "      <th>Max Variation Curve Back</th>\n",
       "      <th>Mean Curve Front</th>\n",
       "      <th>Mean Curve Back</th>\n",
       "      <th>Age</th>\n",
       "      <th>K Max</th>\n",
       "      <th>Paqui Min</th>\n",
       "      <th>Distance Between Max Curve and Min Paqui</th>\n",
       "      <th>Position of Most Curve Point Relative to Center</th>\n",
       "      <th>Treatment</th>\n",
       "      <th>Max Depth</th>\n",
       "      <th>Max Curve</th>\n",
       "    </tr>\n",
       "  </thead>\n",
       "  <tbody>\n",
       "    <tr>\n",
       "      <th>0</th>\n",
       "      <td>3.72</td>\n",
       "      <td>3.64</td>\n",
       "      <td>7.86</td>\n",
       "      <td>6.49</td>\n",
       "      <td>24</td>\n",
       "      <td>54.11</td>\n",
       "      <td>429</td>\n",
       "      <td>0.78</td>\n",
       "      <td>1.09</td>\n",
       "      <td>Pacientes tratados mediante anillos</td>\n",
       "      <td>2670</td>\n",
       "      <td>6.24</td>\n",
       "    </tr>\n",
       "    <tr>\n",
       "      <th>1</th>\n",
       "      <td>3.41</td>\n",
       "      <td>3.44</td>\n",
       "      <td>7.86</td>\n",
       "      <td>6.51</td>\n",
       "      <td>24</td>\n",
       "      <td>53.18</td>\n",
       "      <td>425</td>\n",
       "      <td>0.54</td>\n",
       "      <td>0.96</td>\n",
       "      <td>Pacientes tratados mediante anillos</td>\n",
       "      <td>2449</td>\n",
       "      <td>6.35</td>\n",
       "    </tr>\n",
       "    <tr>\n",
       "      <th>2</th>\n",
       "      <td>5.54</td>\n",
       "      <td>5.35</td>\n",
       "      <td>7.84</td>\n",
       "      <td>6.37</td>\n",
       "      <td>35</td>\n",
       "      <td>66.97</td>\n",
       "      <td>408</td>\n",
       "      <td>4.87</td>\n",
       "      <td>4.65</td>\n",
       "      <td>Pacientes tratados mediante anillos</td>\n",
       "      <td>2842</td>\n",
       "      <td>5.04</td>\n",
       "    </tr>\n",
       "    <tr>\n",
       "      <th>3</th>\n",
       "      <td>5.10</td>\n",
       "      <td>4.91</td>\n",
       "      <td>7.93</td>\n",
       "      <td>6.44</td>\n",
       "      <td>35</td>\n",
       "      <td>64.18</td>\n",
       "      <td>372</td>\n",
       "      <td>5.50</td>\n",
       "      <td>4.88</td>\n",
       "      <td>Pacientes tratados mediante anillos</td>\n",
       "      <td>3124</td>\n",
       "      <td>5.26</td>\n",
       "    </tr>\n",
       "    <tr>\n",
       "      <th>4</th>\n",
       "      <td>4.61</td>\n",
       "      <td>5.25</td>\n",
       "      <td>7.20</td>\n",
       "      <td>5.85</td>\n",
       "      <td>35</td>\n",
       "      <td>64.33</td>\n",
       "      <td>466</td>\n",
       "      <td>0.40</td>\n",
       "      <td>1.02</td>\n",
       "      <td>Pacientes tratados mediante anillos</td>\n",
       "      <td>2692</td>\n",
       "      <td>5.25</td>\n",
       "    </tr>\n",
       "  </tbody>\n",
       "</table>\n",
       "</div>"
      ],
      "text/plain": [
       "   Max Variation Curve Front  Max Variation Curve Back  Mean Curve Front  \\\n",
       "0                       3.72                      3.64              7.86   \n",
       "1                       3.41                      3.44              7.86   \n",
       "2                       5.54                      5.35              7.84   \n",
       "3                       5.10                      4.91              7.93   \n",
       "4                       4.61                      5.25              7.20   \n",
       "\n",
       "   Mean Curve Back  Age  K Max  Paqui Min  \\\n",
       "0             6.49   24  54.11        429   \n",
       "1             6.51   24  53.18        425   \n",
       "2             6.37   35  66.97        408   \n",
       "3             6.44   35  64.18        372   \n",
       "4             5.85   35  64.33        466   \n",
       "\n",
       "   Distance Between Max Curve and Min Paqui  \\\n",
       "0                                      0.78   \n",
       "1                                      0.54   \n",
       "2                                      4.87   \n",
       "3                                      5.50   \n",
       "4                                      0.40   \n",
       "\n",
       "   Position of Most Curve Point Relative to Center  \\\n",
       "0                                             1.09   \n",
       "1                                             0.96   \n",
       "2                                             4.65   \n",
       "3                                             4.88   \n",
       "4                                             1.02   \n",
       "\n",
       "                             Treatment  Max Depth  Max Curve  \n",
       "0  Pacientes tratados mediante anillos       2670       6.24  \n",
       "1  Pacientes tratados mediante anillos       2449       6.35  \n",
       "2  Pacientes tratados mediante anillos       2842       5.04  \n",
       "3  Pacientes tratados mediante anillos       3124       5.26  \n",
       "4  Pacientes tratados mediante anillos       2692       5.25  "
      ]
     },
     "execution_count": 15,
     "metadata": {},
     "output_type": "execute_result"
    }
   ],
   "source": [
    "eye_df['Max Curve'] = np.where(eye_df['Max Curve Front'] > eye_df['Max Curve Back'], eye_df['Max Curve Front'], eye_df['Max Curve Back'])\n",
    "eye_df.drop(['Max Curve Front', 'Max Curve Back'], axis = 1, inplace = True)\n",
    "eye_df.head(5)"
   ]
  },
  {
   "cell_type": "markdown",
   "metadata": {
    "colab_type": "text",
    "id": "TlCJ0okrc2eq"
   },
   "source": [
    "Volvemos a comprobar la correlación entre las variables"
   ]
  },
  {
   "cell_type": "code",
   "execution_count": 16,
   "metadata": {
    "colab": {
     "base_uri": "https://localhost:8080/",
     "height": 543
    },
    "colab_type": "code",
    "executionInfo": {
     "elapsed": 529,
     "status": "ok",
     "timestamp": 1559584848565,
     "user": {
      "displayName": "Diego Álvarez Fernandez",
      "photoUrl": "",
      "userId": "05792570081424463411"
     },
     "user_tz": -120
    },
    "id": "PAjenmAHc2er",
    "outputId": "b68fa232-c537-47e0-cb11-1e07e38b327c"
   },
   "outputs": [
    {
     "data": {
      "text/html": [
       "<div>\n",
       "<style scoped>\n",
       "    .dataframe tbody tr th:only-of-type {\n",
       "        vertical-align: middle;\n",
       "    }\n",
       "\n",
       "    .dataframe tbody tr th {\n",
       "        vertical-align: top;\n",
       "    }\n",
       "\n",
       "    .dataframe thead th {\n",
       "        text-align: right;\n",
       "    }\n",
       "</style>\n",
       "<table border=\"1\" class=\"dataframe\">\n",
       "  <thead>\n",
       "    <tr style=\"text-align: right;\">\n",
       "      <th></th>\n",
       "      <th>Max Variation Curve Front</th>\n",
       "      <th>Max Variation Curve Back</th>\n",
       "      <th>Mean Curve Front</th>\n",
       "      <th>Mean Curve Back</th>\n",
       "      <th>Age</th>\n",
       "      <th>K Max</th>\n",
       "      <th>Paqui Min</th>\n",
       "      <th>Distance Between Max Curve and Min Paqui</th>\n",
       "      <th>Position of Most Curve Point Relative to Center</th>\n",
       "      <th>Max Depth</th>\n",
       "      <th>Max Curve</th>\n",
       "    </tr>\n",
       "  </thead>\n",
       "  <tbody>\n",
       "    <tr>\n",
       "      <th>Max Variation Curve Front</th>\n",
       "      <td>1.000000</td>\n",
       "      <td>0.438443</td>\n",
       "      <td>-0.169504</td>\n",
       "      <td>-0.189050</td>\n",
       "      <td>-0.033004</td>\n",
       "      <td>0.740876</td>\n",
       "      <td>-0.443434</td>\n",
       "      <td>0.340081</td>\n",
       "      <td>0.306191</td>\n",
       "      <td>-0.050586</td>\n",
       "      <td>-0.744736</td>\n",
       "    </tr>\n",
       "    <tr>\n",
       "      <th>Max Variation Curve Back</th>\n",
       "      <td>0.438443</td>\n",
       "      <td>1.000000</td>\n",
       "      <td>-0.148551</td>\n",
       "      <td>-0.031054</td>\n",
       "      <td>-0.015036</td>\n",
       "      <td>0.425902</td>\n",
       "      <td>-0.194438</td>\n",
       "      <td>0.131606</td>\n",
       "      <td>-0.000394</td>\n",
       "      <td>-0.129462</td>\n",
       "      <td>-0.435254</td>\n",
       "    </tr>\n",
       "    <tr>\n",
       "      <th>Mean Curve Front</th>\n",
       "      <td>-0.169504</td>\n",
       "      <td>-0.148551</td>\n",
       "      <td>1.000000</td>\n",
       "      <td>0.896174</td>\n",
       "      <td>-0.140134</td>\n",
       "      <td>-0.526604</td>\n",
       "      <td>0.360344</td>\n",
       "      <td>0.115398</td>\n",
       "      <td>0.135702</td>\n",
       "      <td>-0.030029</td>\n",
       "      <td>0.539516</td>\n",
       "    </tr>\n",
       "    <tr>\n",
       "      <th>Mean Curve Back</th>\n",
       "      <td>-0.189050</td>\n",
       "      <td>-0.031054</td>\n",
       "      <td>0.896174</td>\n",
       "      <td>1.000000</td>\n",
       "      <td>-0.023933</td>\n",
       "      <td>-0.505723</td>\n",
       "      <td>0.309405</td>\n",
       "      <td>0.108834</td>\n",
       "      <td>0.163733</td>\n",
       "      <td>-0.049156</td>\n",
       "      <td>0.518290</td>\n",
       "    </tr>\n",
       "    <tr>\n",
       "      <th>Age</th>\n",
       "      <td>-0.033004</td>\n",
       "      <td>-0.015036</td>\n",
       "      <td>-0.140134</td>\n",
       "      <td>-0.023933</td>\n",
       "      <td>1.000000</td>\n",
       "      <td>-0.168898</td>\n",
       "      <td>0.070463</td>\n",
       "      <td>0.089815</td>\n",
       "      <td>0.101973</td>\n",
       "      <td>0.047569</td>\n",
       "      <td>0.160518</td>\n",
       "    </tr>\n",
       "    <tr>\n",
       "      <th>K Max</th>\n",
       "      <td>0.740876</td>\n",
       "      <td>0.425902</td>\n",
       "      <td>-0.526604</td>\n",
       "      <td>-0.505723</td>\n",
       "      <td>-0.168898</td>\n",
       "      <td>1.000000</td>\n",
       "      <td>-0.545111</td>\n",
       "      <td>-0.001841</td>\n",
       "      <td>-0.032807</td>\n",
       "      <td>-0.130900</td>\n",
       "      <td>-0.983708</td>\n",
       "    </tr>\n",
       "    <tr>\n",
       "      <th>Paqui Min</th>\n",
       "      <td>-0.443434</td>\n",
       "      <td>-0.194438</td>\n",
       "      <td>0.360344</td>\n",
       "      <td>0.309405</td>\n",
       "      <td>0.070463</td>\n",
       "      <td>-0.545111</td>\n",
       "      <td>1.000000</td>\n",
       "      <td>-0.013823</td>\n",
       "      <td>0.009084</td>\n",
       "      <td>-0.008025</td>\n",
       "      <td>0.556916</td>\n",
       "    </tr>\n",
       "    <tr>\n",
       "      <th>Distance Between Max Curve and Min Paqui</th>\n",
       "      <td>0.340081</td>\n",
       "      <td>0.131606</td>\n",
       "      <td>0.115398</td>\n",
       "      <td>0.108834</td>\n",
       "      <td>0.089815</td>\n",
       "      <td>-0.001841</td>\n",
       "      <td>-0.013823</td>\n",
       "      <td>1.000000</td>\n",
       "      <td>0.886387</td>\n",
       "      <td>0.158610</td>\n",
       "      <td>0.020488</td>\n",
       "    </tr>\n",
       "    <tr>\n",
       "      <th>Position of Most Curve Point Relative to Center</th>\n",
       "      <td>0.306191</td>\n",
       "      <td>-0.000394</td>\n",
       "      <td>0.135702</td>\n",
       "      <td>0.163733</td>\n",
       "      <td>0.101973</td>\n",
       "      <td>-0.032807</td>\n",
       "      <td>0.009084</td>\n",
       "      <td>0.886387</td>\n",
       "      <td>1.000000</td>\n",
       "      <td>0.162860</td>\n",
       "      <td>0.055171</td>\n",
       "    </tr>\n",
       "    <tr>\n",
       "      <th>Max Depth</th>\n",
       "      <td>-0.050586</td>\n",
       "      <td>-0.129462</td>\n",
       "      <td>-0.030029</td>\n",
       "      <td>-0.049156</td>\n",
       "      <td>0.047569</td>\n",
       "      <td>-0.130900</td>\n",
       "      <td>-0.008025</td>\n",
       "      <td>0.158610</td>\n",
       "      <td>0.162860</td>\n",
       "      <td>1.000000</td>\n",
       "      <td>0.123125</td>\n",
       "    </tr>\n",
       "    <tr>\n",
       "      <th>Max Curve</th>\n",
       "      <td>-0.744736</td>\n",
       "      <td>-0.435254</td>\n",
       "      <td>0.539516</td>\n",
       "      <td>0.518290</td>\n",
       "      <td>0.160518</td>\n",
       "      <td>-0.983708</td>\n",
       "      <td>0.556916</td>\n",
       "      <td>0.020488</td>\n",
       "      <td>0.055171</td>\n",
       "      <td>0.123125</td>\n",
       "      <td>1.000000</td>\n",
       "    </tr>\n",
       "  </tbody>\n",
       "</table>\n",
       "</div>"
      ],
      "text/plain": [
       "                                                 Max Variation Curve Front  \\\n",
       "Max Variation Curve Front                                         1.000000   \n",
       "Max Variation Curve Back                                          0.438443   \n",
       "Mean Curve Front                                                 -0.169504   \n",
       "Mean Curve Back                                                  -0.189050   \n",
       "Age                                                              -0.033004   \n",
       "K Max                                                             0.740876   \n",
       "Paqui Min                                                        -0.443434   \n",
       "Distance Between Max Curve and Min Paqui                          0.340081   \n",
       "Position of Most Curve Point Relative to Center                   0.306191   \n",
       "Max Depth                                                        -0.050586   \n",
       "Max Curve                                                        -0.744736   \n",
       "\n",
       "                                                 Max Variation Curve Back  \\\n",
       "Max Variation Curve Front                                        0.438443   \n",
       "Max Variation Curve Back                                         1.000000   \n",
       "Mean Curve Front                                                -0.148551   \n",
       "Mean Curve Back                                                 -0.031054   \n",
       "Age                                                             -0.015036   \n",
       "K Max                                                            0.425902   \n",
       "Paqui Min                                                       -0.194438   \n",
       "Distance Between Max Curve and Min Paqui                         0.131606   \n",
       "Position of Most Curve Point Relative to Center                 -0.000394   \n",
       "Max Depth                                                       -0.129462   \n",
       "Max Curve                                                       -0.435254   \n",
       "\n",
       "                                                 Mean Curve Front  \\\n",
       "Max Variation Curve Front                               -0.169504   \n",
       "Max Variation Curve Back                                -0.148551   \n",
       "Mean Curve Front                                         1.000000   \n",
       "Mean Curve Back                                          0.896174   \n",
       "Age                                                     -0.140134   \n",
       "K Max                                                   -0.526604   \n",
       "Paqui Min                                                0.360344   \n",
       "Distance Between Max Curve and Min Paqui                 0.115398   \n",
       "Position of Most Curve Point Relative to Center          0.135702   \n",
       "Max Depth                                               -0.030029   \n",
       "Max Curve                                                0.539516   \n",
       "\n",
       "                                                 Mean Curve Back       Age  \\\n",
       "Max Variation Curve Front                              -0.189050 -0.033004   \n",
       "Max Variation Curve Back                               -0.031054 -0.015036   \n",
       "Mean Curve Front                                        0.896174 -0.140134   \n",
       "Mean Curve Back                                         1.000000 -0.023933   \n",
       "Age                                                    -0.023933  1.000000   \n",
       "K Max                                                  -0.505723 -0.168898   \n",
       "Paqui Min                                               0.309405  0.070463   \n",
       "Distance Between Max Curve and Min Paqui                0.108834  0.089815   \n",
       "Position of Most Curve Point Relative to Center         0.163733  0.101973   \n",
       "Max Depth                                              -0.049156  0.047569   \n",
       "Max Curve                                               0.518290  0.160518   \n",
       "\n",
       "                                                    K Max  Paqui Min  \\\n",
       "Max Variation Curve Front                        0.740876  -0.443434   \n",
       "Max Variation Curve Back                         0.425902  -0.194438   \n",
       "Mean Curve Front                                -0.526604   0.360344   \n",
       "Mean Curve Back                                 -0.505723   0.309405   \n",
       "Age                                             -0.168898   0.070463   \n",
       "K Max                                            1.000000  -0.545111   \n",
       "Paqui Min                                       -0.545111   1.000000   \n",
       "Distance Between Max Curve and Min Paqui        -0.001841  -0.013823   \n",
       "Position of Most Curve Point Relative to Center -0.032807   0.009084   \n",
       "Max Depth                                       -0.130900  -0.008025   \n",
       "Max Curve                                       -0.983708   0.556916   \n",
       "\n",
       "                                                 Distance Between Max Curve and Min Paqui  \\\n",
       "Max Variation Curve Front                                                        0.340081   \n",
       "Max Variation Curve Back                                                         0.131606   \n",
       "Mean Curve Front                                                                 0.115398   \n",
       "Mean Curve Back                                                                  0.108834   \n",
       "Age                                                                              0.089815   \n",
       "K Max                                                                           -0.001841   \n",
       "Paqui Min                                                                       -0.013823   \n",
       "Distance Between Max Curve and Min Paqui                                         1.000000   \n",
       "Position of Most Curve Point Relative to Center                                  0.886387   \n",
       "Max Depth                                                                        0.158610   \n",
       "Max Curve                                                                        0.020488   \n",
       "\n",
       "                                                 Position of Most Curve Point Relative to Center  \\\n",
       "Max Variation Curve Front                                                               0.306191   \n",
       "Max Variation Curve Back                                                               -0.000394   \n",
       "Mean Curve Front                                                                        0.135702   \n",
       "Mean Curve Back                                                                         0.163733   \n",
       "Age                                                                                     0.101973   \n",
       "K Max                                                                                  -0.032807   \n",
       "Paqui Min                                                                               0.009084   \n",
       "Distance Between Max Curve and Min Paqui                                                0.886387   \n",
       "Position of Most Curve Point Relative to Center                                         1.000000   \n",
       "Max Depth                                                                               0.162860   \n",
       "Max Curve                                                                               0.055171   \n",
       "\n",
       "                                                 Max Depth  Max Curve  \n",
       "Max Variation Curve Front                        -0.050586  -0.744736  \n",
       "Max Variation Curve Back                         -0.129462  -0.435254  \n",
       "Mean Curve Front                                 -0.030029   0.539516  \n",
       "Mean Curve Back                                  -0.049156   0.518290  \n",
       "Age                                               0.047569   0.160518  \n",
       "K Max                                            -0.130900  -0.983708  \n",
       "Paqui Min                                        -0.008025   0.556916  \n",
       "Distance Between Max Curve and Min Paqui          0.158610   0.020488  \n",
       "Position of Most Curve Point Relative to Center   0.162860   0.055171  \n",
       "Max Depth                                         1.000000   0.123125  \n",
       "Max Curve                                         0.123125   1.000000  "
      ]
     },
     "execution_count": 16,
     "metadata": {},
     "output_type": "execute_result"
    }
   ],
   "source": [
    "eye_df.corr()"
   ]
  },
  {
   "cell_type": "markdown",
   "metadata": {
    "colab_type": "text",
    "id": "0ZG1ZsS8c2ew"
   },
   "source": [
    "Podemos ver que hay una gran correlación entre las curvaturas y la k max\n",
    "\n",
    "Vamos a sacar la máxima variación total de curvatura igual que en los procedimientos anteriores, para reducir el número de parámetros"
   ]
  },
  {
   "cell_type": "code",
   "execution_count": 17,
   "metadata": {
    "colab": {
     "base_uri": "https://localhost:8080/",
     "height": 323
    },
    "colab_type": "code",
    "executionInfo": {
     "elapsed": 579,
     "status": "ok",
     "timestamp": 1559597164157,
     "user": {
      "displayName": "Diego Álvarez Fernandez",
      "photoUrl": "",
      "userId": "05792570081424463411"
     },
     "user_tz": -120
    },
    "id": "SiYCjmmfc2ex",
    "outputId": "3233a36e-fe45-41d3-a121-6c7f62844a1c"
   },
   "outputs": [
    {
     "data": {
      "text/html": [
       "<div>\n",
       "<style scoped>\n",
       "    .dataframe tbody tr th:only-of-type {\n",
       "        vertical-align: middle;\n",
       "    }\n",
       "\n",
       "    .dataframe tbody tr th {\n",
       "        vertical-align: top;\n",
       "    }\n",
       "\n",
       "    .dataframe thead th {\n",
       "        text-align: right;\n",
       "    }\n",
       "</style>\n",
       "<table border=\"1\" class=\"dataframe\">\n",
       "  <thead>\n",
       "    <tr style=\"text-align: right;\">\n",
       "      <th></th>\n",
       "      <th>Mean Curve Front</th>\n",
       "      <th>Mean Curve Back</th>\n",
       "      <th>Age</th>\n",
       "      <th>K Max</th>\n",
       "      <th>Paqui Min</th>\n",
       "      <th>Distance Between Max Curve and Min Paqui</th>\n",
       "      <th>Position of Most Curve Point Relative to Center</th>\n",
       "      <th>Treatment</th>\n",
       "      <th>Max Depth</th>\n",
       "      <th>Max Curve</th>\n",
       "      <th>Max Variation Curve</th>\n",
       "    </tr>\n",
       "  </thead>\n",
       "  <tbody>\n",
       "    <tr>\n",
       "      <th>0</th>\n",
       "      <td>7.86</td>\n",
       "      <td>6.49</td>\n",
       "      <td>24</td>\n",
       "      <td>54.11</td>\n",
       "      <td>429</td>\n",
       "      <td>0.78</td>\n",
       "      <td>1.09</td>\n",
       "      <td>Pacientes tratados mediante anillos</td>\n",
       "      <td>2670</td>\n",
       "      <td>6.24</td>\n",
       "      <td>3.72</td>\n",
       "    </tr>\n",
       "    <tr>\n",
       "      <th>1</th>\n",
       "      <td>7.86</td>\n",
       "      <td>6.51</td>\n",
       "      <td>24</td>\n",
       "      <td>53.18</td>\n",
       "      <td>425</td>\n",
       "      <td>0.54</td>\n",
       "      <td>0.96</td>\n",
       "      <td>Pacientes tratados mediante anillos</td>\n",
       "      <td>2449</td>\n",
       "      <td>6.35</td>\n",
       "      <td>3.44</td>\n",
       "    </tr>\n",
       "    <tr>\n",
       "      <th>2</th>\n",
       "      <td>7.84</td>\n",
       "      <td>6.37</td>\n",
       "      <td>35</td>\n",
       "      <td>66.97</td>\n",
       "      <td>408</td>\n",
       "      <td>4.87</td>\n",
       "      <td>4.65</td>\n",
       "      <td>Pacientes tratados mediante anillos</td>\n",
       "      <td>2842</td>\n",
       "      <td>5.04</td>\n",
       "      <td>5.54</td>\n",
       "    </tr>\n",
       "    <tr>\n",
       "      <th>3</th>\n",
       "      <td>7.93</td>\n",
       "      <td>6.44</td>\n",
       "      <td>35</td>\n",
       "      <td>64.18</td>\n",
       "      <td>372</td>\n",
       "      <td>5.50</td>\n",
       "      <td>4.88</td>\n",
       "      <td>Pacientes tratados mediante anillos</td>\n",
       "      <td>3124</td>\n",
       "      <td>5.26</td>\n",
       "      <td>5.10</td>\n",
       "    </tr>\n",
       "    <tr>\n",
       "      <th>4</th>\n",
       "      <td>7.20</td>\n",
       "      <td>5.85</td>\n",
       "      <td>35</td>\n",
       "      <td>64.33</td>\n",
       "      <td>466</td>\n",
       "      <td>0.40</td>\n",
       "      <td>1.02</td>\n",
       "      <td>Pacientes tratados mediante anillos</td>\n",
       "      <td>2692</td>\n",
       "      <td>5.25</td>\n",
       "      <td>5.25</td>\n",
       "    </tr>\n",
       "  </tbody>\n",
       "</table>\n",
       "</div>"
      ],
      "text/plain": [
       "   Mean Curve Front  Mean Curve Back  Age  K Max  Paqui Min  \\\n",
       "0              7.86             6.49   24  54.11        429   \n",
       "1              7.86             6.51   24  53.18        425   \n",
       "2              7.84             6.37   35  66.97        408   \n",
       "3              7.93             6.44   35  64.18        372   \n",
       "4              7.20             5.85   35  64.33        466   \n",
       "\n",
       "   Distance Between Max Curve and Min Paqui  \\\n",
       "0                                      0.78   \n",
       "1                                      0.54   \n",
       "2                                      4.87   \n",
       "3                                      5.50   \n",
       "4                                      0.40   \n",
       "\n",
       "   Position of Most Curve Point Relative to Center  \\\n",
       "0                                             1.09   \n",
       "1                                             0.96   \n",
       "2                                             4.65   \n",
       "3                                             4.88   \n",
       "4                                             1.02   \n",
       "\n",
       "                             Treatment  Max Depth  Max Curve  \\\n",
       "0  Pacientes tratados mediante anillos       2670       6.24   \n",
       "1  Pacientes tratados mediante anillos       2449       6.35   \n",
       "2  Pacientes tratados mediante anillos       2842       5.04   \n",
       "3  Pacientes tratados mediante anillos       3124       5.26   \n",
       "4  Pacientes tratados mediante anillos       2692       5.25   \n",
       "\n",
       "   Max Variation Curve  \n",
       "0                 3.72  \n",
       "1                 3.44  \n",
       "2                 5.54  \n",
       "3                 5.10  \n",
       "4                 5.25  "
      ]
     },
     "execution_count": 17,
     "metadata": {},
     "output_type": "execute_result"
    }
   ],
   "source": [
    "eye_df['Max Variation Curve'] = np.where(eye_df['Max Variation Curve Front'] > eye_df['Max Variation Curve Back'], eye_df['Max Variation Curve Front'], eye_df['Max Variation Curve Back'])\n",
    "eye_df.drop(['Max Variation Curve Front', 'Max Variation Curve Back'], axis = 1, inplace = True)\n",
    "eye_df.head(5)"
   ]
  },
  {
   "cell_type": "code",
   "execution_count": 18,
   "metadata": {
    "colab": {
     "base_uri": "https://localhost:8080/",
     "height": 427
    },
    "colab_type": "code",
    "executionInfo": {
     "elapsed": 524,
     "status": "ok",
     "timestamp": 1559584853204,
     "user": {
      "displayName": "Diego Álvarez Fernandez",
      "photoUrl": "",
      "userId": "05792570081424463411"
     },
     "user_tz": -120
    },
    "id": "-dZEatPbc2e2",
    "outputId": "950acbed-0eeb-40b6-e087-65a713837f89"
   },
   "outputs": [
    {
     "data": {
      "text/html": [
       "<div>\n",
       "<style scoped>\n",
       "    .dataframe tbody tr th:only-of-type {\n",
       "        vertical-align: middle;\n",
       "    }\n",
       "\n",
       "    .dataframe tbody tr th {\n",
       "        vertical-align: top;\n",
       "    }\n",
       "\n",
       "    .dataframe thead th {\n",
       "        text-align: right;\n",
       "    }\n",
       "</style>\n",
       "<table border=\"1\" class=\"dataframe\">\n",
       "  <thead>\n",
       "    <tr style=\"text-align: right;\">\n",
       "      <th></th>\n",
       "      <th>Mean Curve Front</th>\n",
       "      <th>Mean Curve Back</th>\n",
       "      <th>Age</th>\n",
       "      <th>K Max</th>\n",
       "      <th>Paqui Min</th>\n",
       "      <th>Distance Between Max Curve and Min Paqui</th>\n",
       "      <th>Position of Most Curve Point Relative to Center</th>\n",
       "      <th>Max Depth</th>\n",
       "      <th>Max Curve</th>\n",
       "      <th>Max Variation Curve</th>\n",
       "    </tr>\n",
       "  </thead>\n",
       "  <tbody>\n",
       "    <tr>\n",
       "      <th>Mean Curve Front</th>\n",
       "      <td>1.000000</td>\n",
       "      <td>0.896174</td>\n",
       "      <td>-0.140134</td>\n",
       "      <td>-0.526604</td>\n",
       "      <td>0.360344</td>\n",
       "      <td>0.115398</td>\n",
       "      <td>0.135702</td>\n",
       "      <td>-0.030029</td>\n",
       "      <td>0.539516</td>\n",
       "      <td>-0.160306</td>\n",
       "    </tr>\n",
       "    <tr>\n",
       "      <th>Mean Curve Back</th>\n",
       "      <td>0.896174</td>\n",
       "      <td>1.000000</td>\n",
       "      <td>-0.023933</td>\n",
       "      <td>-0.505723</td>\n",
       "      <td>0.309405</td>\n",
       "      <td>0.108834</td>\n",
       "      <td>0.163733</td>\n",
       "      <td>-0.049156</td>\n",
       "      <td>0.518290</td>\n",
       "      <td>-0.057291</td>\n",
       "    </tr>\n",
       "    <tr>\n",
       "      <th>Age</th>\n",
       "      <td>-0.140134</td>\n",
       "      <td>-0.023933</td>\n",
       "      <td>1.000000</td>\n",
       "      <td>-0.168898</td>\n",
       "      <td>0.070463</td>\n",
       "      <td>0.089815</td>\n",
       "      <td>0.101973</td>\n",
       "      <td>0.047569</td>\n",
       "      <td>0.160518</td>\n",
       "      <td>0.011298</td>\n",
       "    </tr>\n",
       "    <tr>\n",
       "      <th>K Max</th>\n",
       "      <td>-0.526604</td>\n",
       "      <td>-0.505723</td>\n",
       "      <td>-0.168898</td>\n",
       "      <td>1.000000</td>\n",
       "      <td>-0.545111</td>\n",
       "      <td>-0.001841</td>\n",
       "      <td>-0.032807</td>\n",
       "      <td>-0.130900</td>\n",
       "      <td>-0.983708</td>\n",
       "      <td>0.435817</td>\n",
       "    </tr>\n",
       "    <tr>\n",
       "      <th>Paqui Min</th>\n",
       "      <td>0.360344</td>\n",
       "      <td>0.309405</td>\n",
       "      <td>0.070463</td>\n",
       "      <td>-0.545111</td>\n",
       "      <td>1.000000</td>\n",
       "      <td>-0.013823</td>\n",
       "      <td>0.009084</td>\n",
       "      <td>-0.008025</td>\n",
       "      <td>0.556916</td>\n",
       "      <td>-0.211920</td>\n",
       "    </tr>\n",
       "    <tr>\n",
       "      <th>Distance Between Max Curve and Min Paqui</th>\n",
       "      <td>0.115398</td>\n",
       "      <td>0.108834</td>\n",
       "      <td>0.089815</td>\n",
       "      <td>-0.001841</td>\n",
       "      <td>-0.013823</td>\n",
       "      <td>1.000000</td>\n",
       "      <td>0.886387</td>\n",
       "      <td>0.158610</td>\n",
       "      <td>0.020488</td>\n",
       "      <td>0.234977</td>\n",
       "    </tr>\n",
       "    <tr>\n",
       "      <th>Position of Most Curve Point Relative to Center</th>\n",
       "      <td>0.135702</td>\n",
       "      <td>0.163733</td>\n",
       "      <td>0.101973</td>\n",
       "      <td>-0.032807</td>\n",
       "      <td>0.009084</td>\n",
       "      <td>0.886387</td>\n",
       "      <td>1.000000</td>\n",
       "      <td>0.162860</td>\n",
       "      <td>0.055171</td>\n",
       "      <td>0.103506</td>\n",
       "    </tr>\n",
       "    <tr>\n",
       "      <th>Max Depth</th>\n",
       "      <td>-0.030029</td>\n",
       "      <td>-0.049156</td>\n",
       "      <td>0.047569</td>\n",
       "      <td>-0.130900</td>\n",
       "      <td>-0.008025</td>\n",
       "      <td>0.158610</td>\n",
       "      <td>0.162860</td>\n",
       "      <td>1.000000</td>\n",
       "      <td>0.123125</td>\n",
       "      <td>-0.112890</td>\n",
       "    </tr>\n",
       "    <tr>\n",
       "      <th>Max Curve</th>\n",
       "      <td>0.539516</td>\n",
       "      <td>0.518290</td>\n",
       "      <td>0.160518</td>\n",
       "      <td>-0.983708</td>\n",
       "      <td>0.556916</td>\n",
       "      <td>0.020488</td>\n",
       "      <td>0.055171</td>\n",
       "      <td>0.123125</td>\n",
       "      <td>1.000000</td>\n",
       "      <td>-0.442067</td>\n",
       "    </tr>\n",
       "    <tr>\n",
       "      <th>Max Variation Curve</th>\n",
       "      <td>-0.160306</td>\n",
       "      <td>-0.057291</td>\n",
       "      <td>0.011298</td>\n",
       "      <td>0.435817</td>\n",
       "      <td>-0.211920</td>\n",
       "      <td>0.234977</td>\n",
       "      <td>0.103506</td>\n",
       "      <td>-0.112890</td>\n",
       "      <td>-0.442067</td>\n",
       "      <td>1.000000</td>\n",
       "    </tr>\n",
       "  </tbody>\n",
       "</table>\n",
       "</div>"
      ],
      "text/plain": [
       "                                                 Mean Curve Front  \\\n",
       "Mean Curve Front                                         1.000000   \n",
       "Mean Curve Back                                          0.896174   \n",
       "Age                                                     -0.140134   \n",
       "K Max                                                   -0.526604   \n",
       "Paqui Min                                                0.360344   \n",
       "Distance Between Max Curve and Min Paqui                 0.115398   \n",
       "Position of Most Curve Point Relative to Center          0.135702   \n",
       "Max Depth                                               -0.030029   \n",
       "Max Curve                                                0.539516   \n",
       "Max Variation Curve                                     -0.160306   \n",
       "\n",
       "                                                 Mean Curve Back       Age  \\\n",
       "Mean Curve Front                                        0.896174 -0.140134   \n",
       "Mean Curve Back                                         1.000000 -0.023933   \n",
       "Age                                                    -0.023933  1.000000   \n",
       "K Max                                                  -0.505723 -0.168898   \n",
       "Paqui Min                                               0.309405  0.070463   \n",
       "Distance Between Max Curve and Min Paqui                0.108834  0.089815   \n",
       "Position of Most Curve Point Relative to Center         0.163733  0.101973   \n",
       "Max Depth                                              -0.049156  0.047569   \n",
       "Max Curve                                               0.518290  0.160518   \n",
       "Max Variation Curve                                    -0.057291  0.011298   \n",
       "\n",
       "                                                    K Max  Paqui Min  \\\n",
       "Mean Curve Front                                -0.526604   0.360344   \n",
       "Mean Curve Back                                 -0.505723   0.309405   \n",
       "Age                                             -0.168898   0.070463   \n",
       "K Max                                            1.000000  -0.545111   \n",
       "Paqui Min                                       -0.545111   1.000000   \n",
       "Distance Between Max Curve and Min Paqui        -0.001841  -0.013823   \n",
       "Position of Most Curve Point Relative to Center -0.032807   0.009084   \n",
       "Max Depth                                       -0.130900  -0.008025   \n",
       "Max Curve                                       -0.983708   0.556916   \n",
       "Max Variation Curve                              0.435817  -0.211920   \n",
       "\n",
       "                                                 Distance Between Max Curve and Min Paqui  \\\n",
       "Mean Curve Front                                                                 0.115398   \n",
       "Mean Curve Back                                                                  0.108834   \n",
       "Age                                                                              0.089815   \n",
       "K Max                                                                           -0.001841   \n",
       "Paqui Min                                                                       -0.013823   \n",
       "Distance Between Max Curve and Min Paqui                                         1.000000   \n",
       "Position of Most Curve Point Relative to Center                                  0.886387   \n",
       "Max Depth                                                                        0.158610   \n",
       "Max Curve                                                                        0.020488   \n",
       "Max Variation Curve                                                              0.234977   \n",
       "\n",
       "                                                 Position of Most Curve Point Relative to Center  \\\n",
       "Mean Curve Front                                                                        0.135702   \n",
       "Mean Curve Back                                                                         0.163733   \n",
       "Age                                                                                     0.101973   \n",
       "K Max                                                                                  -0.032807   \n",
       "Paqui Min                                                                               0.009084   \n",
       "Distance Between Max Curve and Min Paqui                                                0.886387   \n",
       "Position of Most Curve Point Relative to Center                                         1.000000   \n",
       "Max Depth                                                                               0.162860   \n",
       "Max Curve                                                                               0.055171   \n",
       "Max Variation Curve                                                                     0.103506   \n",
       "\n",
       "                                                 Max Depth  Max Curve  \\\n",
       "Mean Curve Front                                 -0.030029   0.539516   \n",
       "Mean Curve Back                                  -0.049156   0.518290   \n",
       "Age                                               0.047569   0.160518   \n",
       "K Max                                            -0.130900  -0.983708   \n",
       "Paqui Min                                        -0.008025   0.556916   \n",
       "Distance Between Max Curve and Min Paqui          0.158610   0.020488   \n",
       "Position of Most Curve Point Relative to Center   0.162860   0.055171   \n",
       "Max Depth                                         1.000000   0.123125   \n",
       "Max Curve                                         0.123125   1.000000   \n",
       "Max Variation Curve                              -0.112890  -0.442067   \n",
       "\n",
       "                                                 Max Variation Curve  \n",
       "Mean Curve Front                                           -0.160306  \n",
       "Mean Curve Back                                            -0.057291  \n",
       "Age                                                         0.011298  \n",
       "K Max                                                       0.435817  \n",
       "Paqui Min                                                  -0.211920  \n",
       "Distance Between Max Curve and Min Paqui                    0.234977  \n",
       "Position of Most Curve Point Relative to Center             0.103506  \n",
       "Max Depth                                                  -0.112890  \n",
       "Max Curve                                                  -0.442067  \n",
       "Max Variation Curve                                         1.000000  "
      ]
     },
     "execution_count": 18,
     "metadata": {},
     "output_type": "execute_result"
    }
   ],
   "source": [
    "eye_df.corr()"
   ]
  },
  {
   "cell_type": "markdown",
   "metadata": {
    "colab_type": "text",
    "id": "pMLgVD49c2e5"
   },
   "source": [
    "Vemos que obtenemos una gran correlación entre las medias de las curvaturas, por lo que tambien vamos a unificar las medias de las curvaturas"
   ]
  },
  {
   "cell_type": "code",
   "execution_count": 19,
   "metadata": {
    "colab": {
     "base_uri": "https://localhost:8080/",
     "height": 306
    },
    "colab_type": "code",
    "executionInfo": {
     "elapsed": 532,
     "status": "ok",
     "timestamp": 1559597167101,
     "user": {
      "displayName": "Diego Álvarez Fernandez",
      "photoUrl": "",
      "userId": "05792570081424463411"
     },
     "user_tz": -120
    },
    "id": "4JuPWFEzc2e6",
    "outputId": "a32146c7-fa7f-40ea-b92d-079f3f63d058"
   },
   "outputs": [
    {
     "data": {
      "text/html": [
       "<div>\n",
       "<style scoped>\n",
       "    .dataframe tbody tr th:only-of-type {\n",
       "        vertical-align: middle;\n",
       "    }\n",
       "\n",
       "    .dataframe tbody tr th {\n",
       "        vertical-align: top;\n",
       "    }\n",
       "\n",
       "    .dataframe thead th {\n",
       "        text-align: right;\n",
       "    }\n",
       "</style>\n",
       "<table border=\"1\" class=\"dataframe\">\n",
       "  <thead>\n",
       "    <tr style=\"text-align: right;\">\n",
       "      <th></th>\n",
       "      <th>Age</th>\n",
       "      <th>K Max</th>\n",
       "      <th>Paqui Min</th>\n",
       "      <th>Distance Between Max Curve and Min Paqui</th>\n",
       "      <th>Position of Most Curve Point Relative to Center</th>\n",
       "      <th>Treatment</th>\n",
       "      <th>Max Depth</th>\n",
       "      <th>Max Curve</th>\n",
       "      <th>Max Variation Curve</th>\n",
       "      <th>Mean Curve</th>\n",
       "    </tr>\n",
       "  </thead>\n",
       "  <tbody>\n",
       "    <tr>\n",
       "      <th>0</th>\n",
       "      <td>24</td>\n",
       "      <td>54.11</td>\n",
       "      <td>429</td>\n",
       "      <td>0.78</td>\n",
       "      <td>1.09</td>\n",
       "      <td>Pacientes tratados mediante anillos</td>\n",
       "      <td>2670</td>\n",
       "      <td>6.24</td>\n",
       "      <td>3.72</td>\n",
       "      <td>7.86</td>\n",
       "    </tr>\n",
       "    <tr>\n",
       "      <th>1</th>\n",
       "      <td>24</td>\n",
       "      <td>53.18</td>\n",
       "      <td>425</td>\n",
       "      <td>0.54</td>\n",
       "      <td>0.96</td>\n",
       "      <td>Pacientes tratados mediante anillos</td>\n",
       "      <td>2449</td>\n",
       "      <td>6.35</td>\n",
       "      <td>3.44</td>\n",
       "      <td>7.86</td>\n",
       "    </tr>\n",
       "    <tr>\n",
       "      <th>2</th>\n",
       "      <td>35</td>\n",
       "      <td>66.97</td>\n",
       "      <td>408</td>\n",
       "      <td>4.87</td>\n",
       "      <td>4.65</td>\n",
       "      <td>Pacientes tratados mediante anillos</td>\n",
       "      <td>2842</td>\n",
       "      <td>5.04</td>\n",
       "      <td>5.54</td>\n",
       "      <td>7.84</td>\n",
       "    </tr>\n",
       "    <tr>\n",
       "      <th>3</th>\n",
       "      <td>35</td>\n",
       "      <td>64.18</td>\n",
       "      <td>372</td>\n",
       "      <td>5.50</td>\n",
       "      <td>4.88</td>\n",
       "      <td>Pacientes tratados mediante anillos</td>\n",
       "      <td>3124</td>\n",
       "      <td>5.26</td>\n",
       "      <td>5.10</td>\n",
       "      <td>7.93</td>\n",
       "    </tr>\n",
       "    <tr>\n",
       "      <th>4</th>\n",
       "      <td>35</td>\n",
       "      <td>64.33</td>\n",
       "      <td>466</td>\n",
       "      <td>0.40</td>\n",
       "      <td>1.02</td>\n",
       "      <td>Pacientes tratados mediante anillos</td>\n",
       "      <td>2692</td>\n",
       "      <td>5.25</td>\n",
       "      <td>5.25</td>\n",
       "      <td>7.20</td>\n",
       "    </tr>\n",
       "  </tbody>\n",
       "</table>\n",
       "</div>"
      ],
      "text/plain": [
       "   Age  K Max  Paqui Min  Distance Between Max Curve and Min Paqui  \\\n",
       "0   24  54.11        429                                      0.78   \n",
       "1   24  53.18        425                                      0.54   \n",
       "2   35  66.97        408                                      4.87   \n",
       "3   35  64.18        372                                      5.50   \n",
       "4   35  64.33        466                                      0.40   \n",
       "\n",
       "   Position of Most Curve Point Relative to Center  \\\n",
       "0                                             1.09   \n",
       "1                                             0.96   \n",
       "2                                             4.65   \n",
       "3                                             4.88   \n",
       "4                                             1.02   \n",
       "\n",
       "                             Treatment  Max Depth  Max Curve  \\\n",
       "0  Pacientes tratados mediante anillos       2670       6.24   \n",
       "1  Pacientes tratados mediante anillos       2449       6.35   \n",
       "2  Pacientes tratados mediante anillos       2842       5.04   \n",
       "3  Pacientes tratados mediante anillos       3124       5.26   \n",
       "4  Pacientes tratados mediante anillos       2692       5.25   \n",
       "\n",
       "   Max Variation Curve  Mean Curve  \n",
       "0                 3.72        7.86  \n",
       "1                 3.44        7.86  \n",
       "2                 5.54        7.84  \n",
       "3                 5.10        7.93  \n",
       "4                 5.25        7.20  "
      ]
     },
     "execution_count": 19,
     "metadata": {},
     "output_type": "execute_result"
    }
   ],
   "source": [
    "eye_df['Mean Curve'] = np.where(eye_df['Mean Curve Front'] > eye_df['Mean Curve Back'], eye_df['Mean Curve Front'], eye_df['Mean Curve Back'])\n",
    "eye_df.drop(['Mean Curve Front', 'Mean Curve Back'], axis = 1, inplace = True)\n",
    "eye_df.head(5)"
   ]
  },
  {
   "cell_type": "code",
   "execution_count": 20,
   "metadata": {
    "colab": {},
    "colab_type": "code",
    "id": "vreFskVxc2e9",
    "outputId": "dd74f41a-e675-4142-8455-6ebc53657907"
   },
   "outputs": [
    {
     "data": {
      "text/html": [
       "<div>\n",
       "<style scoped>\n",
       "    .dataframe tbody tr th:only-of-type {\n",
       "        vertical-align: middle;\n",
       "    }\n",
       "\n",
       "    .dataframe tbody tr th {\n",
       "        vertical-align: top;\n",
       "    }\n",
       "\n",
       "    .dataframe thead th {\n",
       "        text-align: right;\n",
       "    }\n",
       "</style>\n",
       "<table border=\"1\" class=\"dataframe\">\n",
       "  <thead>\n",
       "    <tr style=\"text-align: right;\">\n",
       "      <th></th>\n",
       "      <th>Age</th>\n",
       "      <th>K Max</th>\n",
       "      <th>Paqui Min</th>\n",
       "      <th>Distance Between Max Curve and Min Paqui</th>\n",
       "      <th>Position of Most Curve Point Relative to Center</th>\n",
       "      <th>Max Depth</th>\n",
       "      <th>Max Curve</th>\n",
       "      <th>Max Variation Curve</th>\n",
       "      <th>Mean Curve</th>\n",
       "    </tr>\n",
       "  </thead>\n",
       "  <tbody>\n",
       "    <tr>\n",
       "      <th>Age</th>\n",
       "      <td>1.000000</td>\n",
       "      <td>-0.168898</td>\n",
       "      <td>0.070463</td>\n",
       "      <td>0.089815</td>\n",
       "      <td>0.101973</td>\n",
       "      <td>0.047569</td>\n",
       "      <td>0.160518</td>\n",
       "      <td>0.011298</td>\n",
       "      <td>-0.140134</td>\n",
       "    </tr>\n",
       "    <tr>\n",
       "      <th>K Max</th>\n",
       "      <td>-0.168898</td>\n",
       "      <td>1.000000</td>\n",
       "      <td>-0.545111</td>\n",
       "      <td>-0.001841</td>\n",
       "      <td>-0.032807</td>\n",
       "      <td>-0.130900</td>\n",
       "      <td>-0.983708</td>\n",
       "      <td>0.435817</td>\n",
       "      <td>-0.526604</td>\n",
       "    </tr>\n",
       "    <tr>\n",
       "      <th>Paqui Min</th>\n",
       "      <td>0.070463</td>\n",
       "      <td>-0.545111</td>\n",
       "      <td>1.000000</td>\n",
       "      <td>-0.013823</td>\n",
       "      <td>0.009084</td>\n",
       "      <td>-0.008025</td>\n",
       "      <td>0.556916</td>\n",
       "      <td>-0.211920</td>\n",
       "      <td>0.360344</td>\n",
       "    </tr>\n",
       "    <tr>\n",
       "      <th>Distance Between Max Curve and Min Paqui</th>\n",
       "      <td>0.089815</td>\n",
       "      <td>-0.001841</td>\n",
       "      <td>-0.013823</td>\n",
       "      <td>1.000000</td>\n",
       "      <td>0.886387</td>\n",
       "      <td>0.158610</td>\n",
       "      <td>0.020488</td>\n",
       "      <td>0.234977</td>\n",
       "      <td>0.115398</td>\n",
       "    </tr>\n",
       "    <tr>\n",
       "      <th>Position of Most Curve Point Relative to Center</th>\n",
       "      <td>0.101973</td>\n",
       "      <td>-0.032807</td>\n",
       "      <td>0.009084</td>\n",
       "      <td>0.886387</td>\n",
       "      <td>1.000000</td>\n",
       "      <td>0.162860</td>\n",
       "      <td>0.055171</td>\n",
       "      <td>0.103506</td>\n",
       "      <td>0.135702</td>\n",
       "    </tr>\n",
       "    <tr>\n",
       "      <th>Max Depth</th>\n",
       "      <td>0.047569</td>\n",
       "      <td>-0.130900</td>\n",
       "      <td>-0.008025</td>\n",
       "      <td>0.158610</td>\n",
       "      <td>0.162860</td>\n",
       "      <td>1.000000</td>\n",
       "      <td>0.123125</td>\n",
       "      <td>-0.112890</td>\n",
       "      <td>-0.030029</td>\n",
       "    </tr>\n",
       "    <tr>\n",
       "      <th>Max Curve</th>\n",
       "      <td>0.160518</td>\n",
       "      <td>-0.983708</td>\n",
       "      <td>0.556916</td>\n",
       "      <td>0.020488</td>\n",
       "      <td>0.055171</td>\n",
       "      <td>0.123125</td>\n",
       "      <td>1.000000</td>\n",
       "      <td>-0.442067</td>\n",
       "      <td>0.539516</td>\n",
       "    </tr>\n",
       "    <tr>\n",
       "      <th>Max Variation Curve</th>\n",
       "      <td>0.011298</td>\n",
       "      <td>0.435817</td>\n",
       "      <td>-0.211920</td>\n",
       "      <td>0.234977</td>\n",
       "      <td>0.103506</td>\n",
       "      <td>-0.112890</td>\n",
       "      <td>-0.442067</td>\n",
       "      <td>1.000000</td>\n",
       "      <td>-0.160306</td>\n",
       "    </tr>\n",
       "    <tr>\n",
       "      <th>Mean Curve</th>\n",
       "      <td>-0.140134</td>\n",
       "      <td>-0.526604</td>\n",
       "      <td>0.360344</td>\n",
       "      <td>0.115398</td>\n",
       "      <td>0.135702</td>\n",
       "      <td>-0.030029</td>\n",
       "      <td>0.539516</td>\n",
       "      <td>-0.160306</td>\n",
       "      <td>1.000000</td>\n",
       "    </tr>\n",
       "  </tbody>\n",
       "</table>\n",
       "</div>"
      ],
      "text/plain": [
       "                                                      Age     K Max  \\\n",
       "Age                                              1.000000 -0.168898   \n",
       "K Max                                           -0.168898  1.000000   \n",
       "Paqui Min                                        0.070463 -0.545111   \n",
       "Distance Between Max Curve and Min Paqui         0.089815 -0.001841   \n",
       "Position of Most Curve Point Relative to Center  0.101973 -0.032807   \n",
       "Max Depth                                        0.047569 -0.130900   \n",
       "Max Curve                                        0.160518 -0.983708   \n",
       "Max Variation Curve                              0.011298  0.435817   \n",
       "Mean Curve                                      -0.140134 -0.526604   \n",
       "\n",
       "                                                 Paqui Min  \\\n",
       "Age                                               0.070463   \n",
       "K Max                                            -0.545111   \n",
       "Paqui Min                                         1.000000   \n",
       "Distance Between Max Curve and Min Paqui         -0.013823   \n",
       "Position of Most Curve Point Relative to Center   0.009084   \n",
       "Max Depth                                        -0.008025   \n",
       "Max Curve                                         0.556916   \n",
       "Max Variation Curve                              -0.211920   \n",
       "Mean Curve                                        0.360344   \n",
       "\n",
       "                                                 Distance Between Max Curve and Min Paqui  \\\n",
       "Age                                                                              0.089815   \n",
       "K Max                                                                           -0.001841   \n",
       "Paqui Min                                                                       -0.013823   \n",
       "Distance Between Max Curve and Min Paqui                                         1.000000   \n",
       "Position of Most Curve Point Relative to Center                                  0.886387   \n",
       "Max Depth                                                                        0.158610   \n",
       "Max Curve                                                                        0.020488   \n",
       "Max Variation Curve                                                              0.234977   \n",
       "Mean Curve                                                                       0.115398   \n",
       "\n",
       "                                                 Position of Most Curve Point Relative to Center  \\\n",
       "Age                                                                                     0.101973   \n",
       "K Max                                                                                  -0.032807   \n",
       "Paqui Min                                                                               0.009084   \n",
       "Distance Between Max Curve and Min Paqui                                                0.886387   \n",
       "Position of Most Curve Point Relative to Center                                         1.000000   \n",
       "Max Depth                                                                               0.162860   \n",
       "Max Curve                                                                               0.055171   \n",
       "Max Variation Curve                                                                     0.103506   \n",
       "Mean Curve                                                                              0.135702   \n",
       "\n",
       "                                                 Max Depth  Max Curve  \\\n",
       "Age                                               0.047569   0.160518   \n",
       "K Max                                            -0.130900  -0.983708   \n",
       "Paqui Min                                        -0.008025   0.556916   \n",
       "Distance Between Max Curve and Min Paqui          0.158610   0.020488   \n",
       "Position of Most Curve Point Relative to Center   0.162860   0.055171   \n",
       "Max Depth                                         1.000000   0.123125   \n",
       "Max Curve                                         0.123125   1.000000   \n",
       "Max Variation Curve                              -0.112890  -0.442067   \n",
       "Mean Curve                                       -0.030029   0.539516   \n",
       "\n",
       "                                                 Max Variation Curve  \\\n",
       "Age                                                         0.011298   \n",
       "K Max                                                       0.435817   \n",
       "Paqui Min                                                  -0.211920   \n",
       "Distance Between Max Curve and Min Paqui                    0.234977   \n",
       "Position of Most Curve Point Relative to Center             0.103506   \n",
       "Max Depth                                                  -0.112890   \n",
       "Max Curve                                                  -0.442067   \n",
       "Max Variation Curve                                         1.000000   \n",
       "Mean Curve                                                 -0.160306   \n",
       "\n",
       "                                                 Mean Curve  \n",
       "Age                                               -0.140134  \n",
       "K Max                                             -0.526604  \n",
       "Paqui Min                                          0.360344  \n",
       "Distance Between Max Curve and Min Paqui           0.115398  \n",
       "Position of Most Curve Point Relative to Center    0.135702  \n",
       "Max Depth                                         -0.030029  \n",
       "Max Curve                                          0.539516  \n",
       "Max Variation Curve                               -0.160306  \n",
       "Mean Curve                                         1.000000  "
      ]
     },
     "execution_count": 20,
     "metadata": {},
     "output_type": "execute_result"
    }
   ],
   "source": [
    "eye_df.corr()"
   ]
  },
  {
   "cell_type": "markdown",
   "metadata": {
    "colab_type": "text",
    "id": "Ql5dV-brc2fA"
   },
   "source": [
    "Como estos valores están sacados del Pentacam, la máquina que nos permite obtener los mapas paquimétricos, de elevación y de curvatura , empleando un describe podemos ver si tenemos algún dato máximo o mínimo que no se ajusten a un ojo real. En este caso, con ayuda de un especialista en óptica, podemos ver que no tenemos ningún dato fuera de la normalidad."
   ]
  },
  {
   "cell_type": "code",
   "execution_count": 21,
   "metadata": {
    "colab": {},
    "colab_type": "code",
    "id": "tbUv8QvNc2fB",
    "outputId": "e8789ae6-2121-4b49-da92-c447ac7983f0"
   },
   "outputs": [
    {
     "data": {
      "text/html": [
       "<div>\n",
       "<style scoped>\n",
       "    .dataframe tbody tr th:only-of-type {\n",
       "        vertical-align: middle;\n",
       "    }\n",
       "\n",
       "    .dataframe tbody tr th {\n",
       "        vertical-align: top;\n",
       "    }\n",
       "\n",
       "    .dataframe thead th {\n",
       "        text-align: right;\n",
       "    }\n",
       "</style>\n",
       "<table border=\"1\" class=\"dataframe\">\n",
       "  <thead>\n",
       "    <tr style=\"text-align: right;\">\n",
       "      <th></th>\n",
       "      <th>Age</th>\n",
       "      <th>K Max</th>\n",
       "      <th>Paqui Min</th>\n",
       "      <th>Distance Between Max Curve and Min Paqui</th>\n",
       "      <th>Position of Most Curve Point Relative to Center</th>\n",
       "      <th>Max Depth</th>\n",
       "      <th>Max Curve</th>\n",
       "      <th>Max Variation Curve</th>\n",
       "      <th>Mean Curve</th>\n",
       "    </tr>\n",
       "  </thead>\n",
       "  <tbody>\n",
       "    <tr>\n",
       "      <th>count</th>\n",
       "      <td>461.000000</td>\n",
       "      <td>461.000000</td>\n",
       "      <td>461.000000</td>\n",
       "      <td>461.000000</td>\n",
       "      <td>461.000000</td>\n",
       "      <td>461.000000</td>\n",
       "      <td>461.000000</td>\n",
       "      <td>461.000000</td>\n",
       "      <td>461.000000</td>\n",
       "    </tr>\n",
       "    <tr>\n",
       "      <th>mean</th>\n",
       "      <td>42.121475</td>\n",
       "      <td>53.808872</td>\n",
       "      <td>468.449024</td>\n",
       "      <td>1.503449</td>\n",
       "      <td>1.687657</td>\n",
       "      <td>2851.835141</td>\n",
       "      <td>6.352169</td>\n",
       "      <td>3.552560</td>\n",
       "      <td>7.821931</td>\n",
       "    </tr>\n",
       "    <tr>\n",
       "      <th>std</th>\n",
       "      <td>13.967758</td>\n",
       "      <td>6.350378</td>\n",
       "      <td>46.357544</td>\n",
       "      <td>1.362391</td>\n",
       "      <td>1.396684</td>\n",
       "      <td>381.546964</td>\n",
       "      <td>0.670969</td>\n",
       "      <td>1.963347</td>\n",
       "      <td>0.304846</td>\n",
       "    </tr>\n",
       "    <tr>\n",
       "      <th>min</th>\n",
       "      <td>15.000000</td>\n",
       "      <td>42.730000</td>\n",
       "      <td>297.000000</td>\n",
       "      <td>0.100000</td>\n",
       "      <td>0.060000</td>\n",
       "      <td>1854.000000</td>\n",
       "      <td>3.850000</td>\n",
       "      <td>1.290000</td>\n",
       "      <td>6.540000</td>\n",
       "    </tr>\n",
       "    <tr>\n",
       "      <th>25%</th>\n",
       "      <td>31.000000</td>\n",
       "      <td>49.190000</td>\n",
       "      <td>435.000000</td>\n",
       "      <td>0.760000</td>\n",
       "      <td>0.780000</td>\n",
       "      <td>2622.000000</td>\n",
       "      <td>5.930000</td>\n",
       "      <td>2.710000</td>\n",
       "      <td>7.630000</td>\n",
       "    </tr>\n",
       "    <tr>\n",
       "      <th>50%</th>\n",
       "      <td>42.000000</td>\n",
       "      <td>52.490000</td>\n",
       "      <td>472.000000</td>\n",
       "      <td>1.080000</td>\n",
       "      <td>1.250000</td>\n",
       "      <td>2807.000000</td>\n",
       "      <td>6.430000</td>\n",
       "      <td>3.240000</td>\n",
       "      <td>7.830000</td>\n",
       "    </tr>\n",
       "    <tr>\n",
       "      <th>75%</th>\n",
       "      <td>50.000000</td>\n",
       "      <td>56.930000</td>\n",
       "      <td>498.000000</td>\n",
       "      <td>1.490000</td>\n",
       "      <td>2.070000</td>\n",
       "      <td>3003.000000</td>\n",
       "      <td>6.860000</td>\n",
       "      <td>4.000000</td>\n",
       "      <td>8.020000</td>\n",
       "    </tr>\n",
       "    <tr>\n",
       "      <th>max</th>\n",
       "      <td>95.000000</td>\n",
       "      <td>88.100000</td>\n",
       "      <td>617.000000</td>\n",
       "      <td>6.930000</td>\n",
       "      <td>6.900000</td>\n",
       "      <td>4787.000000</td>\n",
       "      <td>7.900000</td>\n",
       "      <td>31.000000</td>\n",
       "      <td>8.680000</td>\n",
       "    </tr>\n",
       "  </tbody>\n",
       "</table>\n",
       "</div>"
      ],
      "text/plain": [
       "              Age       K Max   Paqui Min  \\\n",
       "count  461.000000  461.000000  461.000000   \n",
       "mean    42.121475   53.808872  468.449024   \n",
       "std     13.967758    6.350378   46.357544   \n",
       "min     15.000000   42.730000  297.000000   \n",
       "25%     31.000000   49.190000  435.000000   \n",
       "50%     42.000000   52.490000  472.000000   \n",
       "75%     50.000000   56.930000  498.000000   \n",
       "max     95.000000   88.100000  617.000000   \n",
       "\n",
       "       Distance Between Max Curve and Min Paqui  \\\n",
       "count                                461.000000   \n",
       "mean                                   1.503449   \n",
       "std                                    1.362391   \n",
       "min                                    0.100000   \n",
       "25%                                    0.760000   \n",
       "50%                                    1.080000   \n",
       "75%                                    1.490000   \n",
       "max                                    6.930000   \n",
       "\n",
       "       Position of Most Curve Point Relative to Center    Max Depth  \\\n",
       "count                                       461.000000   461.000000   \n",
       "mean                                          1.687657  2851.835141   \n",
       "std                                           1.396684   381.546964   \n",
       "min                                           0.060000  1854.000000   \n",
       "25%                                           0.780000  2622.000000   \n",
       "50%                                           1.250000  2807.000000   \n",
       "75%                                           2.070000  3003.000000   \n",
       "max                                           6.900000  4787.000000   \n",
       "\n",
       "        Max Curve  Max Variation Curve  Mean Curve  \n",
       "count  461.000000           461.000000  461.000000  \n",
       "mean     6.352169             3.552560    7.821931  \n",
       "std      0.670969             1.963347    0.304846  \n",
       "min      3.850000             1.290000    6.540000  \n",
       "25%      5.930000             2.710000    7.630000  \n",
       "50%      6.430000             3.240000    7.830000  \n",
       "75%      6.860000             4.000000    8.020000  \n",
       "max      7.900000            31.000000    8.680000  "
      ]
     },
     "execution_count": 21,
     "metadata": {},
     "output_type": "execute_result"
    }
   ],
   "source": [
    "eye_df.describe()"
   ]
  },
  {
   "cell_type": "markdown",
   "metadata": {
    "colab_type": "text",
    "id": "aPlBvZvec2fD"
   },
   "source": [
    "Vamos a comprobar el numero de muestras que poseemos de cada una de las etiquetas"
   ]
  },
  {
   "cell_type": "code",
   "execution_count": 22,
   "metadata": {
    "colab": {
     "base_uri": "https://localhost:8080/",
     "height": 102
    },
    "colab_type": "code",
    "executionInfo": {
     "elapsed": 567,
     "status": "ok",
     "timestamp": 1559584861850,
     "user": {
      "displayName": "Diego Álvarez Fernandez",
      "photoUrl": "",
      "userId": "05792570081424463411"
     },
     "user_tz": -120
    },
    "id": "zMe7F4E1c2fE",
    "outputId": "0ea8f471-5e1a-4b3f-8e27-443d50f8ec67"
   },
   "outputs": [
    {
     "data": {
      "text/plain": [
       "Treatment\n",
       "Pacientes sin operar                        230\n",
       "Pacientes tratados mediante anillos         169\n",
       "Pacientes tratados mediante crosslinking     62\n",
       "Name: Treatment, dtype: int64"
      ]
     },
     "execution_count": 22,
     "metadata": {},
     "output_type": "execute_result"
    }
   ],
   "source": [
    "eye_df.groupby(['Treatment'])['Treatment'].count()"
   ]
  },
  {
   "cell_type": "markdown",
   "metadata": {},
   "source": [
    "## Modelado"
   ]
  },
  {
   "cell_type": "markdown",
   "metadata": {
    "colab_type": "text",
    "id": "xDo1s8yHc2fI"
   },
   "source": [
    "Como podemos ver, tenemos el dataset bastante desbalanceado, siendo el número de pacientes sin tratar mayor que el numero de pacientes tratados mediante anillos y mediante crosslinking.\n",
    "\n",
    "Vamos a intentar, en primera instancia, crear un clasificador capaz de detectar si un paciente se le debe operar o no, por lo que debemos crear una nueva columna"
   ]
  },
  {
   "cell_type": "code",
   "execution_count": 23,
   "metadata": {
    "colab": {},
    "colab_type": "code",
    "id": "DhYDB8pjc2fJ"
   },
   "outputs": [],
   "source": [
    "eye_df_cl_1 = copy.deepcopy(eye_df)"
   ]
  },
  {
   "cell_type": "code",
   "execution_count": 24,
   "metadata": {
    "colab": {
     "base_uri": "https://localhost:8080/",
     "height": 306
    },
    "colab_type": "code",
    "executionInfo": {
     "elapsed": 797,
     "status": "ok",
     "timestamp": 1559597174442,
     "user": {
      "displayName": "Diego Álvarez Fernandez",
      "photoUrl": "",
      "userId": "05792570081424463411"
     },
     "user_tz": -120
    },
    "id": "pRrvPRJzc2fL",
    "outputId": "ba51b049-eef2-4eb7-e7d0-0d69edda3557"
   },
   "outputs": [
    {
     "data": {
      "text/html": [
       "<div>\n",
       "<style scoped>\n",
       "    .dataframe tbody tr th:only-of-type {\n",
       "        vertical-align: middle;\n",
       "    }\n",
       "\n",
       "    .dataframe tbody tr th {\n",
       "        vertical-align: top;\n",
       "    }\n",
       "\n",
       "    .dataframe thead th {\n",
       "        text-align: right;\n",
       "    }\n",
       "</style>\n",
       "<table border=\"1\" class=\"dataframe\">\n",
       "  <thead>\n",
       "    <tr style=\"text-align: right;\">\n",
       "      <th></th>\n",
       "      <th>Age</th>\n",
       "      <th>K Max</th>\n",
       "      <th>Paqui Min</th>\n",
       "      <th>Distance Between Max Curve and Min Paqui</th>\n",
       "      <th>Position of Most Curve Point Relative to Center</th>\n",
       "      <th>Treatment</th>\n",
       "      <th>Max Depth</th>\n",
       "      <th>Max Curve</th>\n",
       "      <th>Max Variation Curve</th>\n",
       "      <th>Mean Curve</th>\n",
       "      <th>Operated</th>\n",
       "    </tr>\n",
       "  </thead>\n",
       "  <tbody>\n",
       "    <tr>\n",
       "      <th>0</th>\n",
       "      <td>24</td>\n",
       "      <td>54.11</td>\n",
       "      <td>429</td>\n",
       "      <td>0.78</td>\n",
       "      <td>1.09</td>\n",
       "      <td>Pacientes tratados mediante anillos</td>\n",
       "      <td>2670</td>\n",
       "      <td>6.24</td>\n",
       "      <td>3.72</td>\n",
       "      <td>7.86</td>\n",
       "      <td>Yes</td>\n",
       "    </tr>\n",
       "    <tr>\n",
       "      <th>1</th>\n",
       "      <td>24</td>\n",
       "      <td>53.18</td>\n",
       "      <td>425</td>\n",
       "      <td>0.54</td>\n",
       "      <td>0.96</td>\n",
       "      <td>Pacientes tratados mediante anillos</td>\n",
       "      <td>2449</td>\n",
       "      <td>6.35</td>\n",
       "      <td>3.44</td>\n",
       "      <td>7.86</td>\n",
       "      <td>Yes</td>\n",
       "    </tr>\n",
       "    <tr>\n",
       "      <th>2</th>\n",
       "      <td>35</td>\n",
       "      <td>66.97</td>\n",
       "      <td>408</td>\n",
       "      <td>4.87</td>\n",
       "      <td>4.65</td>\n",
       "      <td>Pacientes tratados mediante anillos</td>\n",
       "      <td>2842</td>\n",
       "      <td>5.04</td>\n",
       "      <td>5.54</td>\n",
       "      <td>7.84</td>\n",
       "      <td>Yes</td>\n",
       "    </tr>\n",
       "    <tr>\n",
       "      <th>3</th>\n",
       "      <td>35</td>\n",
       "      <td>64.18</td>\n",
       "      <td>372</td>\n",
       "      <td>5.50</td>\n",
       "      <td>4.88</td>\n",
       "      <td>Pacientes tratados mediante anillos</td>\n",
       "      <td>3124</td>\n",
       "      <td>5.26</td>\n",
       "      <td>5.10</td>\n",
       "      <td>7.93</td>\n",
       "      <td>Yes</td>\n",
       "    </tr>\n",
       "    <tr>\n",
       "      <th>4</th>\n",
       "      <td>35</td>\n",
       "      <td>64.33</td>\n",
       "      <td>466</td>\n",
       "      <td>0.40</td>\n",
       "      <td>1.02</td>\n",
       "      <td>Pacientes tratados mediante anillos</td>\n",
       "      <td>2692</td>\n",
       "      <td>5.25</td>\n",
       "      <td>5.25</td>\n",
       "      <td>7.20</td>\n",
       "      <td>Yes</td>\n",
       "    </tr>\n",
       "  </tbody>\n",
       "</table>\n",
       "</div>"
      ],
      "text/plain": [
       "   Age  K Max  Paqui Min  Distance Between Max Curve and Min Paqui  \\\n",
       "0   24  54.11        429                                      0.78   \n",
       "1   24  53.18        425                                      0.54   \n",
       "2   35  66.97        408                                      4.87   \n",
       "3   35  64.18        372                                      5.50   \n",
       "4   35  64.33        466                                      0.40   \n",
       "\n",
       "   Position of Most Curve Point Relative to Center  \\\n",
       "0                                             1.09   \n",
       "1                                             0.96   \n",
       "2                                             4.65   \n",
       "3                                             4.88   \n",
       "4                                             1.02   \n",
       "\n",
       "                             Treatment  Max Depth  Max Curve  \\\n",
       "0  Pacientes tratados mediante anillos       2670       6.24   \n",
       "1  Pacientes tratados mediante anillos       2449       6.35   \n",
       "2  Pacientes tratados mediante anillos       2842       5.04   \n",
       "3  Pacientes tratados mediante anillos       3124       5.26   \n",
       "4  Pacientes tratados mediante anillos       2692       5.25   \n",
       "\n",
       "   Max Variation Curve  Mean Curve Operated  \n",
       "0                 3.72        7.86      Yes  \n",
       "1                 3.44        7.86      Yes  \n",
       "2                 5.54        7.84      Yes  \n",
       "3                 5.10        7.93      Yes  \n",
       "4                 5.25        7.20      Yes  "
      ]
     },
     "execution_count": 24,
     "metadata": {},
     "output_type": "execute_result"
    }
   ],
   "source": [
    "eye_df_cl_1['Operated'] = np.where(eye_df_cl_1['Treatment'] == 'Pacientes sin operar', 'No', 'Yes')\n",
    "eye_df_cl_1.head(5)"
   ]
  },
  {
   "cell_type": "markdown",
   "metadata": {
    "colab_type": "text",
    "id": "X1jVCAaEc2fO"
   },
   "source": [
    "Como podemos ver, en este caso tenemos el dataset mucho más balaceado que en el caso anterior, por lo que se convierte en un buen inicio para probar clasificadores"
   ]
  },
  {
   "cell_type": "code",
   "execution_count": 25,
   "metadata": {
    "colab": {
     "base_uri": "https://localhost:8080/",
     "height": 85
    },
    "colab_type": "code",
    "executionInfo": {
     "elapsed": 502,
     "status": "ok",
     "timestamp": 1559584869298,
     "user": {
      "displayName": "Diego Álvarez Fernandez",
      "photoUrl": "",
      "userId": "05792570081424463411"
     },
     "user_tz": -120
    },
    "id": "E4As0o24c2fP",
    "outputId": "48fbdafd-0009-4db1-e244-69ebb1ef48d8"
   },
   "outputs": [
    {
     "data": {
      "text/plain": [
       "Operated\n",
       "No     230\n",
       "Yes    231\n",
       "Name: Operated, dtype: int64"
      ]
     },
     "execution_count": 25,
     "metadata": {},
     "output_type": "execute_result"
    }
   ],
   "source": [
    "eye_df_cl_1.groupby(['Operated'])['Operated'].count()"
   ]
  },
  {
   "cell_type": "markdown",
   "metadata": {
    "colab_type": "text",
    "id": "DgDiVY_sc2fS"
   },
   "source": [
    "Para probar los modelos, creamos los vectores x e y que nos permitirán entrenarlos"
   ]
  },
  {
   "cell_type": "code",
   "execution_count": 26,
   "metadata": {
    "colab": {},
    "colab_type": "code",
    "id": "RMFioTl4c2fT"
   },
   "outputs": [],
   "source": [
    "x = eye_df_cl_1[['Max Depth', 'Max Curve', 'Max Variation Curve', 'Mean Curve', 'Age', 'K Max', 'Paqui Min', 'Distance Between Max Curve and Min Paqui', 'Position of Most Curve Point Relative to Center']]\n",
    "y = eye_df_cl_1['Operated']"
   ]
  },
  {
   "cell_type": "markdown",
   "metadata": {},
   "source": [
    "### Regresión Logística"
   ]
  },
  {
   "cell_type": "markdown",
   "metadata": {
    "colab_type": "text",
    "id": "EYBzUNlpc2fV"
   },
   "source": [
    "Vamos a comenzar con una regresión logistica"
   ]
  },
  {
   "cell_type": "code",
   "execution_count": 27,
   "metadata": {
    "colab": {},
    "colab_type": "code",
    "id": "fdNP5p9Qc2fW"
   },
   "outputs": [],
   "source": [
    "clf = LogisticRegression()"
   ]
  },
  {
   "cell_type": "code",
   "execution_count": 28,
   "metadata": {
    "colab": {},
    "colab_type": "code",
    "id": "-pUmq7dQc2fY",
    "outputId": "f70c8b06-f166-481c-db2f-cc7f8cbb42d2"
   },
   "outputs": [
    {
     "name": "stderr",
     "output_type": "stream",
     "text": [
      "C:\\Users\\lique\\Anaconda3\\lib\\site-packages\\sklearn\\linear_model\\logistic.py:433: FutureWarning: Default solver will be changed to 'lbfgs' in 0.22. Specify a solver to silence this warning.\n",
      "  FutureWarning)\n"
     ]
    },
    {
     "data": {
      "text/plain": [
       "LogisticRegression(C=1.0, class_weight=None, dual=False, fit_intercept=True,\n",
       "          intercept_scaling=1, max_iter=100, multi_class='warn',\n",
       "          n_jobs=None, penalty='l2', random_state=None, solver='warn',\n",
       "          tol=0.0001, verbose=0, warm_start=False)"
      ]
     },
     "execution_count": 28,
     "metadata": {},
     "output_type": "execute_result"
    }
   ],
   "source": [
    "clf.fit(x, y)"
   ]
  },
  {
   "cell_type": "markdown",
   "metadata": {
    "colab_type": "text",
    "id": "mZzurNr6c2fb"
   },
   "source": [
    "Para probar los clasificadores, vamos a emplear una validación cruzada. Vamos a utilizar la siguiente función para valorar mediante la función classification_report los resultados obtenidos mediante la validación cruzada. Esta función la introduciremos dentro de un make_scorer."
   ]
  },
  {
   "cell_type": "code",
   "execution_count": 29,
   "metadata": {
    "colab": {},
    "colab_type": "code",
    "id": "8VYk7eEec2fc"
   },
   "outputs": [],
   "source": [
    "def classification_report_with_accuracy_score(y_true, y_pred):\n",
    "\n",
    "    print (classification_report(y_true, y_pred))\n",
    "    return accuracy_score(y_true, y_pred)"
   ]
  },
  {
   "cell_type": "markdown",
   "metadata": {
    "colab_type": "text",
    "id": "bOY-0B6Kc2fe"
   },
   "source": [
    "Como podemos comprobar, tenemos un accuracy medio en las 10 iteraciones de un 70 %."
   ]
  },
  {
   "cell_type": "code",
   "execution_count": 30,
   "metadata": {
    "colab": {},
    "colab_type": "code",
    "id": "1pcSLo-qc2ff",
    "outputId": "f2878b7e-60c9-4d9a-d0ed-437318ccc1b5"
   },
   "outputs": [
    {
     "name": "stdout",
     "output_type": "stream",
     "text": [
      "              precision    recall  f1-score   support\n",
      "\n",
      "          No       0.68      0.74      0.71        23\n",
      "         Yes       0.73      0.67      0.70        24\n",
      "\n",
      "   micro avg       0.70      0.70      0.70        47\n",
      "   macro avg       0.70      0.70      0.70        47\n",
      "weighted avg       0.70      0.70      0.70        47\n",
      "\n",
      "              precision    recall  f1-score   support\n",
      "\n",
      "          No       0.75      0.65      0.70        23\n",
      "         Yes       0.69      0.78      0.73        23\n",
      "\n",
      "   micro avg       0.72      0.72      0.72        46\n",
      "   macro avg       0.72      0.72      0.72        46\n",
      "weighted avg       0.72      0.72      0.72        46\n",
      "\n",
      "              precision    recall  f1-score   support\n",
      "\n",
      "          No       0.73      0.83      0.78        23\n",
      "         Yes       0.80      0.70      0.74        23\n",
      "\n",
      "   micro avg       0.76      0.76      0.76        46\n",
      "   macro avg       0.77      0.76      0.76        46\n",
      "weighted avg       0.77      0.76      0.76        46\n",
      "\n",
      "              precision    recall  f1-score   support\n",
      "\n",
      "          No       0.53      0.70      0.60        23\n",
      "         Yes       0.56      0.39      0.46        23\n",
      "\n",
      "   micro avg       0.54      0.54      0.54        46\n",
      "   macro avg       0.55      0.54      0.53        46\n",
      "weighted avg       0.55      0.54      0.53        46\n",
      "\n",
      "              precision    recall  f1-score   support\n",
      "\n",
      "          No       0.75      0.65      0.70        23\n",
      "         Yes       0.69      0.78      0.73        23\n",
      "\n",
      "   micro avg       0.72      0.72      0.72        46\n",
      "   macro avg       0.72      0.72      0.72        46\n",
      "weighted avg       0.72      0.72      0.72        46\n",
      "\n",
      "              precision    recall  f1-score   support\n",
      "\n",
      "          No       0.73      0.83      0.78        23\n",
      "         Yes       0.80      0.70      0.74        23\n",
      "\n",
      "   micro avg       0.76      0.76      0.76        46\n",
      "   macro avg       0.77      0.76      0.76        46\n",
      "weighted avg       0.77      0.76      0.76        46\n",
      "\n",
      "              precision    recall  f1-score   support\n",
      "\n",
      "          No       0.59      0.70      0.64        23\n",
      "         Yes       0.63      0.52      0.57        23\n",
      "\n",
      "   micro avg       0.61      0.61      0.61        46\n",
      "   macro avg       0.61      0.61      0.61        46\n",
      "weighted avg       0.61      0.61      0.61        46\n",
      "\n",
      "              precision    recall  f1-score   support\n",
      "\n",
      "          No       0.72      0.78      0.75        23\n",
      "         Yes       0.76      0.70      0.73        23\n",
      "\n",
      "   micro avg       0.74      0.74      0.74        46\n",
      "   macro avg       0.74      0.74      0.74        46\n",
      "weighted avg       0.74      0.74      0.74        46\n",
      "\n",
      "              precision    recall  f1-score   support\n",
      "\n",
      "          No       0.80      0.70      0.74        23\n",
      "         Yes       0.73      0.83      0.78        23\n",
      "\n",
      "   micro avg       0.76      0.76      0.76        46\n",
      "   macro avg       0.77      0.76      0.76        46\n",
      "weighted avg       0.77      0.76      0.76        46\n",
      "\n",
      "              precision    recall  f1-score   support\n",
      "\n",
      "          No       0.76      0.83      0.79        23\n",
      "         Yes       0.81      0.74      0.77        23\n",
      "\n",
      "   micro avg       0.78      0.78      0.78        46\n",
      "   macro avg       0.78      0.78      0.78        46\n",
      "weighted avg       0.78      0.78      0.78        46\n",
      "\n"
     ]
    },
    {
     "name": "stderr",
     "output_type": "stream",
     "text": [
      "C:\\Users\\lique\\Anaconda3\\lib\\site-packages\\sklearn\\linear_model\\logistic.py:433: FutureWarning: Default solver will be changed to 'lbfgs' in 0.22. Specify a solver to silence this warning.\n",
      "  FutureWarning)\n",
      "C:\\Users\\lique\\Anaconda3\\lib\\site-packages\\sklearn\\linear_model\\logistic.py:433: FutureWarning: Default solver will be changed to 'lbfgs' in 0.22. Specify a solver to silence this warning.\n",
      "  FutureWarning)\n",
      "C:\\Users\\lique\\Anaconda3\\lib\\site-packages\\sklearn\\linear_model\\logistic.py:433: FutureWarning: Default solver will be changed to 'lbfgs' in 0.22. Specify a solver to silence this warning.\n",
      "  FutureWarning)\n",
      "C:\\Users\\lique\\Anaconda3\\lib\\site-packages\\sklearn\\linear_model\\logistic.py:433: FutureWarning: Default solver will be changed to 'lbfgs' in 0.22. Specify a solver to silence this warning.\n",
      "  FutureWarning)\n",
      "C:\\Users\\lique\\Anaconda3\\lib\\site-packages\\sklearn\\linear_model\\logistic.py:433: FutureWarning: Default solver will be changed to 'lbfgs' in 0.22. Specify a solver to silence this warning.\n",
      "  FutureWarning)\n",
      "C:\\Users\\lique\\Anaconda3\\lib\\site-packages\\sklearn\\linear_model\\logistic.py:433: FutureWarning: Default solver will be changed to 'lbfgs' in 0.22. Specify a solver to silence this warning.\n",
      "  FutureWarning)\n",
      "C:\\Users\\lique\\Anaconda3\\lib\\site-packages\\sklearn\\linear_model\\logistic.py:433: FutureWarning: Default solver will be changed to 'lbfgs' in 0.22. Specify a solver to silence this warning.\n",
      "  FutureWarning)\n",
      "C:\\Users\\lique\\Anaconda3\\lib\\site-packages\\sklearn\\linear_model\\logistic.py:433: FutureWarning: Default solver will be changed to 'lbfgs' in 0.22. Specify a solver to silence this warning.\n",
      "  FutureWarning)\n",
      "C:\\Users\\lique\\Anaconda3\\lib\\site-packages\\sklearn\\linear_model\\logistic.py:433: FutureWarning: Default solver will be changed to 'lbfgs' in 0.22. Specify a solver to silence this warning.\n",
      "  FutureWarning)\n",
      "C:\\Users\\lique\\Anaconda3\\lib\\site-packages\\sklearn\\linear_model\\logistic.py:433: FutureWarning: Default solver will be changed to 'lbfgs' in 0.22. Specify a solver to silence this warning.\n",
      "  FutureWarning)\n"
     ]
    },
    {
     "data": {
      "text/plain": [
       "0.7093432007400555"
      ]
     },
     "execution_count": 30,
     "metadata": {},
     "output_type": "execute_result"
    }
   ],
   "source": [
    "cross_val_score(clf, x, y, cv=10, scoring = make_scorer(classification_report_with_accuracy_score)).mean()"
   ]
  },
  {
   "cell_type": "markdown",
   "metadata": {},
   "source": [
    "### K Nearest Neighbors"
   ]
  },
  {
   "cell_type": "markdown",
   "metadata": {
    "colab_type": "text",
    "id": "tzuq0fzJc2fi"
   },
   "source": [
    "Una vez probada la regresión logística, vamos a probar a implementar un k nearest neighbors. Para este caso, para encontrar los hiperparámetros más óptimos, vamos a emplear un gridsearch. Vamos a utilizar un número de vecinos bajo ya que el número de muestras de nuestro dataset es bajo."
   ]
  },
  {
   "cell_type": "code",
   "execution_count": 31,
   "metadata": {
    "colab": {},
    "colab_type": "code",
    "id": "XFXIA4GTc2fj"
   },
   "outputs": [],
   "source": [
    "clf_kn = GridSearchCV(KNeighborsClassifier(),\n",
    "                  param_grid={\"n_neighbors\":np.arange(2, 20)},\n",
    "                  cv=5,\n",
    "                  scoring='accuracy')"
   ]
  },
  {
   "cell_type": "code",
   "execution_count": 32,
   "metadata": {
    "colab": {},
    "colab_type": "code",
    "id": "Gp3yDRvLc2fl",
    "outputId": "31b8de8b-c5e4-44ca-8ee7-741b44c62a1d"
   },
   "outputs": [
    {
     "data": {
      "text/plain": [
       "GridSearchCV(cv=5, error_score='raise-deprecating',\n",
       "       estimator=KNeighborsClassifier(algorithm='auto', leaf_size=30, metric='minkowski',\n",
       "           metric_params=None, n_jobs=None, n_neighbors=5, p=2,\n",
       "           weights='uniform'),\n",
       "       fit_params=None, iid='warn', n_jobs=None,\n",
       "       param_grid={'n_neighbors': array([ 2,  3,  4,  5,  6,  7,  8,  9, 10, 11, 12, 13, 14, 15, 16, 17, 18,\n",
       "       19])},\n",
       "       pre_dispatch='2*n_jobs', refit=True, return_train_score='warn',\n",
       "       scoring='accuracy', verbose=0)"
      ]
     },
     "execution_count": 32,
     "metadata": {},
     "output_type": "execute_result"
    }
   ],
   "source": [
    "clf_kn.fit(x, y)"
   ]
  },
  {
   "cell_type": "markdown",
   "metadata": {
    "colab_type": "text",
    "id": "EXCX5BASc2fp"
   },
   "source": [
    "Como podemos ver, para este caso los k nearest neighbors no funcionan tan bien como el modelo anterior, obteniendo un accuracy máximo de 61%, lo cual es inferior al 70 % de la regresión logística. "
   ]
  },
  {
   "cell_type": "code",
   "execution_count": 33,
   "metadata": {
    "colab": {},
    "colab_type": "code",
    "id": "gqX87jaCc2fp",
    "outputId": "ffe1c8e6-6921-492b-ce95-cc800fb8dcf5"
   },
   "outputs": [
    {
     "data": {
      "text/plain": [
       "0.613882863340564"
      ]
     },
     "execution_count": 33,
     "metadata": {},
     "output_type": "execute_result"
    }
   ],
   "source": [
    "clf_kn.best_score_"
   ]
  },
  {
   "cell_type": "code",
   "execution_count": 34,
   "metadata": {
    "colab": {},
    "colab_type": "code",
    "id": "xxiiWUs-c2fs",
    "outputId": "523db7bc-1b4e-4274-9a56-1a143417aa4b"
   },
   "outputs": [
    {
     "data": {
      "text/plain": [
       "{'n_neighbors': 9}"
      ]
     },
     "execution_count": 34,
     "metadata": {},
     "output_type": "execute_result"
    }
   ],
   "source": [
    "clf_kn.best_params_"
   ]
  },
  {
   "cell_type": "markdown",
   "metadata": {},
   "source": [
    "### SVM"
   ]
  },
  {
   "cell_type": "markdown",
   "metadata": {
    "colab_type": "text",
    "id": "KzXMVv15c2fv"
   },
   "source": [
    "El siguiente paso es probar con un Support Vector Machine. Vamos a comprobar los distintos tipos que existen de este clasificador para comprobar si alguno de estos se puede ajustar más al dataset que tenemos. En primer lugar vamos a probar con un kernel linear, empleando un gridsearch para encontrar el mejor hiperparámetro. Obtenemos un resultado parecido a la regresión logística, con aproximadamente un 70 % de accuracy."
   ]
  },
  {
   "cell_type": "code",
   "execution_count": 35,
   "metadata": {
    "colab": {},
    "colab_type": "code",
    "id": "iLSQSZYDc2fw"
   },
   "outputs": [],
   "source": [
    "clf_svml = GridSearchCV(SVC(kernel=\"linear\",),\n",
    "                  param_grid={\"C\":[1,10,100,1000,10000]},\n",
    "                  cv=10,\n",
    "                  scoring=\"accuracy\")"
   ]
  },
  {
   "cell_type": "code",
   "execution_count": 36,
   "metadata": {
    "colab": {},
    "colab_type": "code",
    "id": "LjTIAU7qc2fx",
    "outputId": "ad9c417f-e0d7-4445-d343-104d3a0a7403"
   },
   "outputs": [
    {
     "data": {
      "text/plain": [
       "GridSearchCV(cv=10, error_score='raise-deprecating',\n",
       "       estimator=SVC(C=1.0, cache_size=200, class_weight=None, coef0=0.0,\n",
       "  decision_function_shape='ovr', degree=3, gamma='auto_deprecated',\n",
       "  kernel='linear', max_iter=-1, probability=False, random_state=None,\n",
       "  shrinking=True, tol=0.001, verbose=False),\n",
       "       fit_params=None, iid='warn', n_jobs=None,\n",
       "       param_grid={'C': [1, 10, 100, 1000, 10000]},\n",
       "       pre_dispatch='2*n_jobs', refit=True, return_train_score='warn',\n",
       "       scoring='accuracy', verbose=0)"
      ]
     },
     "execution_count": 36,
     "metadata": {},
     "output_type": "execute_result"
    }
   ],
   "source": [
    "clf_svml.fit(x, y)"
   ]
  },
  {
   "cell_type": "code",
   "execution_count": 38,
   "metadata": {
    "colab": {},
    "colab_type": "code",
    "id": "t-t3UFSxc2f1",
    "outputId": "6783806e-8874-4410-d15e-e1089464fc78"
   },
   "outputs": [
    {
     "data": {
      "text/plain": [
       "0.702819956616052"
      ]
     },
     "execution_count": 38,
     "metadata": {},
     "output_type": "execute_result"
    }
   ],
   "source": [
    "clf_svml.best_score_"
   ]
  },
  {
   "cell_type": "code",
   "execution_count": 39,
   "metadata": {
    "colab": {},
    "colab_type": "code",
    "id": "wM-gYyLCc2f4",
    "outputId": "2dd48abc-4425-4671-aacd-930309af26f5"
   },
   "outputs": [
    {
     "data": {
      "text/plain": [
       "{'C': 10}"
      ]
     },
     "execution_count": 39,
     "metadata": {},
     "output_type": "execute_result"
    }
   ],
   "source": [
    "clf_svml.best_params_"
   ]
  },
  {
   "cell_type": "markdown",
   "metadata": {},
   "source": [
    "### Decision Tree"
   ]
  },
  {
   "cell_type": "markdown",
   "metadata": {
    "colab_type": "text",
    "id": "c7ZKA3k3c_to"
   },
   "source": [
    "Una vez comprobados los SVM, vamos a comprobar los árboles de decisión. Como podemos observar, mediante el árbol de decisión somos capaces de conseguir un poco más de accuracy comparado con la regresión logística."
   ]
  },
  {
   "cell_type": "code",
   "execution_count": 40,
   "metadata": {
    "colab": {},
    "colab_type": "code",
    "id": "5SP47Sxhc2gG"
   },
   "outputs": [],
   "source": [
    "clf_dt = GridSearchCV(DecisionTreeClassifier(),\n",
    "                      param_grid={\"min_samples_leaf\":np.arange(1,100),\n",
    "                                 'max_depth': np.arange(2, 20)},\n",
    "                     cv = 10,\n",
    "                     scoring = \"accuracy\")"
   ]
  },
  {
   "cell_type": "code",
   "execution_count": 41,
   "metadata": {
    "colab": {
     "base_uri": "https://localhost:8080/",
     "height": 428
    },
    "colab_type": "code",
    "executionInfo": {
     "elapsed": 79972,
     "status": "ok",
     "timestamp": 1559585218322,
     "user": {
      "displayName": "Diego Álvarez Fernandez",
      "photoUrl": "",
      "userId": "05792570081424463411"
     },
     "user_tz": -120
    },
    "id": "2xv1_MyCc2gM",
    "outputId": "b20d2385-890b-46fb-ded3-bc93004b2e70"
   },
   "outputs": [
    {
     "name": "stderr",
     "output_type": "stream",
     "text": [
      "C:\\Users\\lique\\Anaconda3\\lib\\site-packages\\sklearn\\model_selection\\_search.py:841: DeprecationWarning: The default of the `iid` parameter will change from True to False in version 0.22 and will be removed in 0.24. This will change numeric results when test-set sizes are unequal.\n",
      "  DeprecationWarning)\n"
     ]
    },
    {
     "data": {
      "text/plain": [
       "GridSearchCV(cv=10, error_score='raise-deprecating',\n",
       "       estimator=DecisionTreeClassifier(class_weight=None, criterion='gini', max_depth=None,\n",
       "            max_features=None, max_leaf_nodes=None,\n",
       "            min_impurity_decrease=0.0, min_impurity_split=None,\n",
       "            min_samples_leaf=1, min_samples_split=2,\n",
       "            min_weight_fraction_leaf=0.0, presort=False, random_state=None,\n",
       "            splitter='best'),\n",
       "       fit_params=None, iid='warn', n_jobs=None,\n",
       "       param_grid={'min_samples_leaf': array([ 1,  2, ..., 98, 99]), 'max_depth': array([ 2,  3,  4,  5,  6,  7,  8,  9, 10, 11, 12, 13, 14, 15, 16, 17, 18,\n",
       "       19])},\n",
       "       pre_dispatch='2*n_jobs', refit=True, return_train_score='warn',\n",
       "       scoring='accuracy', verbose=0)"
      ]
     },
     "execution_count": 41,
     "metadata": {},
     "output_type": "execute_result"
    }
   ],
   "source": [
    "clf_dt.fit(x, y)"
   ]
  },
  {
   "cell_type": "code",
   "execution_count": 42,
   "metadata": {
    "colab": {
     "base_uri": "https://localhost:8080/",
     "height": 34
    },
    "colab_type": "code",
    "executionInfo": {
     "elapsed": 517,
     "status": "ok",
     "timestamp": 1559585231239,
     "user": {
      "displayName": "Diego Álvarez Fernandez",
      "photoUrl": "",
      "userId": "05792570081424463411"
     },
     "user_tz": -120
    },
    "id": "2dd5qR8xc2gP",
    "outputId": "a53741b4-75f0-48d6-983a-8d05ffaf989a"
   },
   "outputs": [
    {
     "data": {
      "text/plain": [
       "{'max_depth': 6, 'min_samples_leaf': 3}"
      ]
     },
     "execution_count": 42,
     "metadata": {},
     "output_type": "execute_result"
    }
   ],
   "source": [
    "clf_dt.best_params_"
   ]
  },
  {
   "cell_type": "code",
   "execution_count": 43,
   "metadata": {
    "colab": {
     "base_uri": "https://localhost:8080/",
     "height": 34
    },
    "colab_type": "code",
    "executionInfo": {
     "elapsed": 522,
     "status": "ok",
     "timestamp": 1559585241310,
     "user": {
      "displayName": "Diego Álvarez Fernandez",
      "photoUrl": "",
      "userId": "05792570081424463411"
     },
     "user_tz": -120
    },
    "id": "Ab8NkGi0c2gT",
    "outputId": "25b4cb97-6bf8-4d99-ad56-738db742c45d"
   },
   "outputs": [
    {
     "data": {
      "text/plain": [
       "0.7114967462039046"
      ]
     },
     "execution_count": 43,
     "metadata": {},
     "output_type": "execute_result"
    }
   ],
   "source": [
    "clf_dt.best_score_"
   ]
  },
  {
   "cell_type": "markdown",
   "metadata": {},
   "source": [
    "### Random Forest"
   ]
  },
  {
   "cell_type": "markdown",
   "metadata": {
    "colab_type": "text",
    "id": "O06w5oLAPOEo"
   },
   "source": [
    "Una vez visto el resultado satisfactorio de los árboles de decisión, vamos a intentar implementar un Random Forest. Como hemos podido ver, heredando el valor de min_samples_leaf del árbol de decisión, hemos conseguido mejorar el accuracy hasta un 75%"
   ]
  },
  {
   "cell_type": "code",
   "execution_count": 44,
   "metadata": {
    "colab": {},
    "colab_type": "code",
    "id": "yUkEMRtEc2gX"
   },
   "outputs": [],
   "source": [
    "clf_rf = GridSearchCV(RandomForestClassifier(min_samples_leaf = 4),\n",
    "                      param_grid = {'n_estimators': np.arange(20,300, 20),\n",
    "                                    'max_depth': np.arange(2,10)\n",
    "                      },\n",
    "                      cv = 10,\n",
    "                      scoring = 'accuracy')"
   ]
  },
  {
   "cell_type": "code",
   "execution_count": 45,
   "metadata": {
    "colab": {
     "base_uri": "https://localhost:8080/",
     "height": 411
    },
    "colab_type": "code",
    "executionInfo": {
     "elapsed": 177340,
     "status": "ok",
     "timestamp": 1559597980536,
     "user": {
      "displayName": "Diego Álvarez Fernandez",
      "photoUrl": "",
      "userId": "05792570081424463411"
     },
     "user_tz": -120
    },
    "id": "JzM_MlZwc2gO",
    "outputId": "cf590457-e8e2-44d2-da92-1dcbb3a7da35"
   },
   "outputs": [
    {
     "name": "stderr",
     "output_type": "stream",
     "text": [
      "C:\\Users\\lique\\Anaconda3\\lib\\site-packages\\sklearn\\model_selection\\_search.py:841: DeprecationWarning: The default of the `iid` parameter will change from True to False in version 0.22 and will be removed in 0.24. This will change numeric results when test-set sizes are unequal.\n",
      "  DeprecationWarning)\n"
     ]
    },
    {
     "data": {
      "text/plain": [
       "GridSearchCV(cv=10, error_score='raise-deprecating',\n",
       "       estimator=RandomForestClassifier(bootstrap=True, class_weight=None, criterion='gini',\n",
       "            max_depth=None, max_features='auto', max_leaf_nodes=None,\n",
       "            min_impurity_decrease=0.0, min_impurity_split=None,\n",
       "            min_samples_leaf=4, min_samples_split=2,\n",
       "            min_weight_fraction_leaf=0.0, n_estimators='warn', n_jobs=None,\n",
       "            oob_score=False, random_state=None, verbose=0,\n",
       "            warm_start=False),\n",
       "       fit_params=None, iid='warn', n_jobs=None,\n",
       "       param_grid={'n_estimators': array([ 20,  40,  60,  80, 100, 120, 140, 160, 180, 200, 220, 240, 260,\n",
       "       280]), 'max_depth': array([2, 3, 4, 5, 6, 7, 8, 9])},\n",
       "       pre_dispatch='2*n_jobs', refit=True, return_train_score='warn',\n",
       "       scoring='accuracy', verbose=0)"
      ]
     },
     "execution_count": 45,
     "metadata": {},
     "output_type": "execute_result"
    }
   ],
   "source": [
    "clf_rf.fit(x, y)"
   ]
  },
  {
   "cell_type": "code",
   "execution_count": 46,
   "metadata": {
    "colab": {
     "base_uri": "https://localhost:8080/",
     "height": 34
    },
    "colab_type": "code",
    "executionInfo": {
     "elapsed": 503,
     "status": "ok",
     "timestamp": 1559597993022,
     "user": {
      "displayName": "Diego Álvarez Fernandez",
      "photoUrl": "",
      "userId": "05792570081424463411"
     },
     "user_tz": -120
    },
    "id": "L8GSyfeXc2gP",
    "outputId": "cf89acf5-a2c5-462d-f70d-acb7d8249497"
   },
   "outputs": [
    {
     "data": {
      "text/plain": [
       "0.7462039045553145"
      ]
     },
     "execution_count": 46,
     "metadata": {},
     "output_type": "execute_result"
    }
   ],
   "source": [
    "clf_rf.best_score_"
   ]
  },
  {
   "cell_type": "code",
   "execution_count": 47,
   "metadata": {
    "colab": {
     "base_uri": "https://localhost:8080/",
     "height": 34
    },
    "colab_type": "code",
    "executionInfo": {
     "elapsed": 497,
     "status": "ok",
     "timestamp": 1559597995243,
     "user": {
      "displayName": "Diego Álvarez Fernandez",
      "photoUrl": "",
      "userId": "05792570081424463411"
     },
     "user_tz": -120
    },
    "id": "8UEOsUNcc2gS",
    "outputId": "4b43514c-9496-4504-bf00-822c56d4d1f2"
   },
   "outputs": [
    {
     "data": {
      "text/plain": [
       "{'max_depth': 9, 'n_estimators': 180}"
      ]
     },
     "execution_count": 47,
     "metadata": {},
     "output_type": "execute_result"
    }
   ],
   "source": [
    "clf_rf.best_params_"
   ]
  },
  {
   "cell_type": "code",
   "execution_count": 48,
   "metadata": {
    "colab": {},
    "colab_type": "code",
    "id": "M4Mmp-Fwc2gU"
   },
   "outputs": [],
   "source": [
    "clf_rf_good = clf_rf.best_estimator_"
   ]
  },
  {
   "cell_type": "markdown",
   "metadata": {
    "colab_type": "text",
    "id": "nqo86Xp3TJa0"
   },
   "source": [
    "Mediante el método feature_importances_ podemos ver cómo influyen cada una de las variables a la decisión tomada por el Random Forest, siendo la más importante la máxima variación de la curvatura y la menos importante la media de las curvaturas."
   ]
  },
  {
   "cell_type": "code",
   "execution_count": 49,
   "metadata": {
    "colab": {
     "base_uri": "https://localhost:8080/",
     "height": 51
    },
    "colab_type": "code",
    "executionInfo": {
     "elapsed": 512,
     "status": "ok",
     "timestamp": 1559598172329,
     "user": {
      "displayName": "Diego Álvarez Fernandez",
      "photoUrl": "",
      "userId": "05792570081424463411"
     },
     "user_tz": -120
    },
    "id": "sOezR4qBc2gZ",
    "outputId": "69219c89-ed9b-4b69-8e3b-ad0c3c17ee40"
   },
   "outputs": [
    {
     "data": {
      "text/plain": [
       "array([0.11856322, 0.14919257, 0.17997446, 0.04866936, 0.15296937,\n",
       "       0.13130481, 0.08534458, 0.08188632, 0.0520953 ])"
      ]
     },
     "execution_count": 49,
     "metadata": {},
     "output_type": "execute_result"
    }
   ],
   "source": [
    "clf_rf_good.feature_importances_"
   ]
  },
  {
   "cell_type": "code",
   "execution_count": 50,
   "metadata": {
    "colab": {
     "base_uri": "https://localhost:8080/",
     "height": 85
    },
    "colab_type": "code",
    "executionInfo": {
     "elapsed": 482,
     "status": "ok",
     "timestamp": 1559598329293,
     "user": {
      "displayName": "Diego Álvarez Fernandez",
      "photoUrl": "",
      "userId": "05792570081424463411"
     },
     "user_tz": -120
    },
    "id": "dyhIqfBPTHV-",
    "outputId": "85859497-5d3d-4629-ef11-db0de22f1d45"
   },
   "outputs": [
    {
     "data": {
      "text/plain": [
       "Index(['Max Depth', 'Max Curve', 'Max Variation Curve', 'Mean Curve', 'Age',\n",
       "       'K Max', 'Paqui Min', 'Distance Between Max Curve and Min Paqui',\n",
       "       'Position of Most Curve Point Relative to Center'],\n",
       "      dtype='object')"
      ]
     },
     "execution_count": 50,
     "metadata": {},
     "output_type": "execute_result"
    }
   ],
   "source": [
    "x.columns"
   ]
  },
  {
   "cell_type": "markdown",
   "metadata": {
    "colab_type": "text",
    "id": "0JNFsOB1TrOu"
   },
   "source": [
    "Vamos a  hacer una prueba eliminando las columnas menos influyentes, para comprobar como se comporta el Random Forest, y como podemos comprobar, eliminando la media de las curvaturas, podemos subir a un 76% el accuracy."
   ]
  },
  {
   "cell_type": "code",
   "execution_count": 51,
   "metadata": {
    "colab": {},
    "colab_type": "code",
    "id": "phcKWNpkS0qJ"
   },
   "outputs": [],
   "source": [
    "x_upgrade = eye_df_cl_1[['Max Depth', 'Max Curve', 'Max Variation Curve', 'Age', 'K Max', 'Paqui Min', 'Distance Between Max Curve and Min Paqui', 'Position of Most Curve Point Relative to Center']]"
   ]
  },
  {
   "cell_type": "code",
   "execution_count": 52,
   "metadata": {
    "colab": {
     "base_uri": "https://localhost:8080/",
     "height": 411
    },
    "colab_type": "code",
    "executionInfo": {
     "elapsed": 161276,
     "status": "ok",
     "timestamp": 1559598634185,
     "user": {
      "displayName": "Diego Álvarez Fernandez",
      "photoUrl": "",
      "userId": "05792570081424463411"
     },
     "user_tz": -120
    },
    "id": "BdwQbzaUS0nC",
    "outputId": "a847717a-578f-41e2-80dd-fd882713e791"
   },
   "outputs": [
    {
     "name": "stderr",
     "output_type": "stream",
     "text": [
      "C:\\Users\\lique\\Anaconda3\\lib\\site-packages\\sklearn\\model_selection\\_search.py:841: DeprecationWarning: The default of the `iid` parameter will change from True to False in version 0.22 and will be removed in 0.24. This will change numeric results when test-set sizes are unequal.\n",
      "  DeprecationWarning)\n"
     ]
    },
    {
     "data": {
      "text/plain": [
       "GridSearchCV(cv=10, error_score='raise-deprecating',\n",
       "       estimator=RandomForestClassifier(bootstrap=True, class_weight=None, criterion='gini',\n",
       "            max_depth=None, max_features='auto', max_leaf_nodes=None,\n",
       "            min_impurity_decrease=0.0, min_impurity_split=None,\n",
       "            min_samples_leaf=4, min_samples_split=2,\n",
       "            min_weight_fraction_leaf=0.0, n_estimators='warn', n_jobs=None,\n",
       "            oob_score=False, random_state=None, verbose=0,\n",
       "            warm_start=False),\n",
       "       fit_params=None, iid='warn', n_jobs=None,\n",
       "       param_grid={'n_estimators': array([ 20,  40,  60,  80, 100, 120, 140, 160, 180, 200, 220, 240, 260,\n",
       "       280]), 'max_depth': array([2, 3, 4, 5, 6, 7, 8, 9])},\n",
       "       pre_dispatch='2*n_jobs', refit=True, return_train_score='warn',\n",
       "       scoring='accuracy', verbose=0)"
      ]
     },
     "execution_count": 52,
     "metadata": {},
     "output_type": "execute_result"
    }
   ],
   "source": [
    "clf_rf.fit(x_upgrade, y)"
   ]
  },
  {
   "cell_type": "code",
   "execution_count": 53,
   "metadata": {
    "colab": {
     "base_uri": "https://localhost:8080/",
     "height": 34
    },
    "colab_type": "code",
    "executionInfo": {
     "elapsed": 958,
     "status": "ok",
     "timestamp": 1559598657467,
     "user": {
      "displayName": "Diego Álvarez Fernandez",
      "photoUrl": "",
      "userId": "05792570081424463411"
     },
     "user_tz": -120
    },
    "id": "INfxIlopS0lB",
    "outputId": "bd92b65f-bf72-4a5e-a0cf-2be583cce981"
   },
   "outputs": [
    {
     "data": {
      "text/plain": [
       "{'max_depth': 9, 'n_estimators': 80}"
      ]
     },
     "execution_count": 53,
     "metadata": {},
     "output_type": "execute_result"
    }
   ],
   "source": [
    "clf_rf.best_params_"
   ]
  },
  {
   "cell_type": "code",
   "execution_count": 54,
   "metadata": {
    "colab": {
     "base_uri": "https://localhost:8080/",
     "height": 34
    },
    "colab_type": "code",
    "executionInfo": {
     "elapsed": 521,
     "status": "ok",
     "timestamp": 1559598714688,
     "user": {
      "displayName": "Diego Álvarez Fernandez",
      "photoUrl": "",
      "userId": "05792570081424463411"
     },
     "user_tz": -120
    },
    "id": "AU42tuUpS0jK",
    "outputId": "52b375cd-019d-4c09-867a-9dbe34660c94"
   },
   "outputs": [
    {
     "data": {
      "text/plain": [
       "0.7635574837310195"
      ]
     },
     "execution_count": 54,
     "metadata": {},
     "output_type": "execute_result"
    }
   ],
   "source": [
    "clf_rf.best_score_"
   ]
  },
  {
   "cell_type": "markdown",
   "metadata": {
    "colab_type": "text",
    "id": "klHQksN7U-RL"
   },
   "source": [
    "Vamos a intentar volver a iterar eliminando un parámetro más que no sea determinante para el predictor. Como podemos ver, en este caso el parámetro menos influyente es la posición del punto más curvo con respecto al centro. En este caso, perdemos accuracy a pesar de quitar un parámetro poco influyente, por lo que vamos a mantener el vector x anterior."
   ]
  },
  {
   "cell_type": "code",
   "execution_count": 55,
   "metadata": {
    "colab": {},
    "colab_type": "code",
    "id": "540QIeRYS0hV"
   },
   "outputs": [],
   "source": [
    "clf_rf_good = clf_rf.best_estimator_"
   ]
  },
  {
   "cell_type": "code",
   "execution_count": 56,
   "metadata": {
    "colab": {
     "base_uri": "https://localhost:8080/",
     "height": 51
    },
    "colab_type": "code",
    "executionInfo": {
     "elapsed": 505,
     "status": "ok",
     "timestamp": 1559598776258,
     "user": {
      "displayName": "Diego Álvarez Fernandez",
      "photoUrl": "",
      "userId": "05792570081424463411"
     },
     "user_tz": -120
    },
    "id": "2s2VYUIGS0cZ",
    "outputId": "aac65ffb-e213-4901-89e0-3d723f427f50"
   },
   "outputs": [
    {
     "data": {
      "text/plain": [
       "array([0.12512598, 0.13861032, 0.16322296, 0.15907925, 0.15970169,\n",
       "       0.10381482, 0.08727823, 0.06316675])"
      ]
     },
     "execution_count": 56,
     "metadata": {},
     "output_type": "execute_result"
    }
   ],
   "source": [
    "clf_rf_good.feature_importances_"
   ]
  },
  {
   "cell_type": "code",
   "execution_count": 57,
   "metadata": {
    "colab": {
     "base_uri": "https://localhost:8080/",
     "height": 85
    },
    "colab_type": "code",
    "executionInfo": {
     "elapsed": 513,
     "status": "ok",
     "timestamp": 1559598788485,
     "user": {
      "displayName": "Diego Álvarez Fernandez",
      "photoUrl": "",
      "userId": "05792570081424463411"
     },
     "user_tz": -120
    },
    "id": "FlCUuKK3S0aT",
    "outputId": "a4ffee80-26a9-48ac-b8ab-e9a8bf3dfe36"
   },
   "outputs": [
    {
     "data": {
      "text/plain": [
       "Index(['Max Depth', 'Max Curve', 'Max Variation Curve', 'Age', 'K Max',\n",
       "       'Paqui Min', 'Distance Between Max Curve and Min Paqui',\n",
       "       'Position of Most Curve Point Relative to Center'],\n",
       "      dtype='object')"
      ]
     },
     "execution_count": 57,
     "metadata": {},
     "output_type": "execute_result"
    }
   ],
   "source": [
    "x_upgrade.columns"
   ]
  },
  {
   "cell_type": "code",
   "execution_count": 58,
   "metadata": {
    "colab": {},
    "colab_type": "code",
    "id": "GFTUQO9GS0Wc"
   },
   "outputs": [],
   "source": [
    "x_upgrade_2 = eye_df_cl_1[['Max Depth', 'Max Curve', 'Max Variation Curve', 'Age', 'K Max', 'Paqui Min', 'Distance Between Max Curve and Min Paqui']]"
   ]
  },
  {
   "cell_type": "code",
   "execution_count": 59,
   "metadata": {
    "colab": {
     "base_uri": "https://localhost:8080/",
     "height": 411
    },
    "colab_type": "code",
    "executionInfo": {
     "elapsed": 159271,
     "status": "ok",
     "timestamp": 1559599039447,
     "user": {
      "displayName": "Diego Álvarez Fernandez",
      "photoUrl": "",
      "userId": "05792570081424463411"
     },
     "user_tz": -120
    },
    "id": "kevLsEQNS0Tk",
    "outputId": "4dc74bd1-d987-44e1-9438-cf6893cd9679"
   },
   "outputs": [
    {
     "name": "stderr",
     "output_type": "stream",
     "text": [
      "C:\\Users\\lique\\Anaconda3\\lib\\site-packages\\sklearn\\model_selection\\_search.py:841: DeprecationWarning: The default of the `iid` parameter will change from True to False in version 0.22 and will be removed in 0.24. This will change numeric results when test-set sizes are unequal.\n",
      "  DeprecationWarning)\n"
     ]
    },
    {
     "data": {
      "text/plain": [
       "GridSearchCV(cv=10, error_score='raise-deprecating',\n",
       "       estimator=RandomForestClassifier(bootstrap=True, class_weight=None, criterion='gini',\n",
       "            max_depth=None, max_features='auto', max_leaf_nodes=None,\n",
       "            min_impurity_decrease=0.0, min_impurity_split=None,\n",
       "            min_samples_leaf=4, min_samples_split=2,\n",
       "            min_weight_fraction_leaf=0.0, n_estimators='warn', n_jobs=None,\n",
       "            oob_score=False, random_state=None, verbose=0,\n",
       "            warm_start=False),\n",
       "       fit_params=None, iid='warn', n_jobs=None,\n",
       "       param_grid={'n_estimators': array([ 20,  40,  60,  80, 100, 120, 140, 160, 180, 200, 220, 240, 260,\n",
       "       280]), 'max_depth': array([2, 3, 4, 5, 6, 7, 8, 9])},\n",
       "       pre_dispatch='2*n_jobs', refit=True, return_train_score='warn',\n",
       "       scoring='accuracy', verbose=0)"
      ]
     },
     "execution_count": 59,
     "metadata": {},
     "output_type": "execute_result"
    }
   ],
   "source": [
    "clf_rf.fit(x_upgrade_2, y)"
   ]
  },
  {
   "cell_type": "code",
   "execution_count": 60,
   "metadata": {
    "colab": {
     "base_uri": "https://localhost:8080/",
     "height": 34
    },
    "colab_type": "code",
    "executionInfo": {
     "elapsed": 547,
     "status": "ok",
     "timestamp": 1559599055210,
     "user": {
      "displayName": "Diego Álvarez Fernandez",
      "photoUrl": "",
      "userId": "05792570081424463411"
     },
     "user_tz": -120
    },
    "id": "lOsnsVl-VzYV",
    "outputId": "8e570d50-3c58-4f29-8c4f-82bb729bd6d6"
   },
   "outputs": [
    {
     "data": {
      "text/plain": [
       "0.7505422993492408"
      ]
     },
     "execution_count": 60,
     "metadata": {},
     "output_type": "execute_result"
    }
   ],
   "source": [
    "clf_rf.best_score_"
   ]
  },
  {
   "cell_type": "code",
   "execution_count": 61,
   "metadata": {
    "colab": {
     "base_uri": "https://localhost:8080/",
     "height": 34
    },
    "colab_type": "code",
    "executionInfo": {
     "elapsed": 545,
     "status": "ok",
     "timestamp": 1559599074474,
     "user": {
      "displayName": "Diego Álvarez Fernandez",
      "photoUrl": "",
      "userId": "05792570081424463411"
     },
     "user_tz": -120
    },
    "id": "yJO6xkD-VzWs",
    "outputId": "771488a3-adc0-4306-bf78-375d3b6e242f"
   },
   "outputs": [
    {
     "data": {
      "text/plain": [
       "{'max_depth': 9, 'n_estimators': 100}"
      ]
     },
     "execution_count": 61,
     "metadata": {},
     "output_type": "execute_result"
    }
   ],
   "source": [
    "clf_rf.best_params_"
   ]
  },
  {
   "cell_type": "markdown",
   "metadata": {},
   "source": [
    "### XGBoost"
   ]
  },
  {
   "cell_type": "markdown",
   "metadata": {
    "colab_type": "text",
    "id": "sNev7a9LYN0M"
   },
   "source": [
    "Para el siguiente paso vamos a comprobar la eficacia de un xgboost en nuestro sistema. Como podemos ver se comporta de manera parecida al Random Forest, obteniendo resultados del 76 % de aciertos."
   ]
  },
  {
   "cell_type": "code",
   "execution_count": 67,
   "metadata": {
    "colab": {},
    "colab_type": "code",
    "id": "KxZPfamPVzVO"
   },
   "outputs": [],
   "source": [
    "clf_xg = GridSearchCV(XGBClassifier(),\n",
    "                      param_grid = {'max_depth': np.arange(2,10),\n",
    "                                   \"learning_rate\": np.arange(0.04, 0.32, 0.04),\n",
    "                                   \"n_estimators\": np.arange(100, 150, 10)},\n",
    "                      cv = 10,\n",
    "                      scoring = 'accuracy'\n",
    "         )"
   ]
  },
  {
   "cell_type": "code",
   "execution_count": 68,
   "metadata": {
    "colab": {
     "base_uri": "https://localhost:8080/",
     "height": 360
    },
    "colab_type": "code",
    "executionInfo": {
     "elapsed": 213301,
     "status": "ok",
     "timestamp": 1559600382884,
     "user": {
      "displayName": "Diego Álvarez Fernandez",
      "photoUrl": "",
      "userId": "05792570081424463411"
     },
     "user_tz": -120
    },
    "id": "X1bRbsn_VzTy",
    "outputId": "24cd627b-266f-4080-ab87-b9f1ddb4808f"
   },
   "outputs": [
    {
     "name": "stderr",
     "output_type": "stream",
     "text": [
      "C:\\Users\\lique\\Anaconda3\\lib\\site-packages\\sklearn\\model_selection\\_search.py:841: DeprecationWarning: The default of the `iid` parameter will change from True to False in version 0.22 and will be removed in 0.24. This will change numeric results when test-set sizes are unequal.\n",
      "  DeprecationWarning)\n"
     ]
    },
    {
     "data": {
      "text/plain": [
       "GridSearchCV(cv=10, error_score='raise-deprecating',\n",
       "       estimator=XGBClassifier(base_score=0.5, booster='gbtree', colsample_bylevel=1,\n",
       "       colsample_bynode=1, colsample_bytree=1, gamma=0, learning_rate=0.1,\n",
       "       max_delta_step=0, max_depth=3, min_child_weight=1, missing=None,\n",
       "       n_estimators=100, n_jobs=1, nthread=None,\n",
       "       objective='binary:logistic', random_state=0, reg_alpha=0,\n",
       "       reg_lambda=1, scale_pos_weight=1, seed=None, silent=None,\n",
       "       subsample=1, verbosity=1),\n",
       "       fit_params=None, iid='warn', n_jobs=None,\n",
       "       param_grid={'max_depth': array([2, 3, 4, 5, 6, 7, 8, 9]), 'learning_rate': array([0.04, 0.08, 0.12, 0.16, 0.2 , 0.24, 0.28, 0.32]), 'n_estimators': array([100, 110, 120, 130, 140])},\n",
       "       pre_dispatch='2*n_jobs', refit=True, return_train_score='warn',\n",
       "       scoring='accuracy', verbose=0)"
      ]
     },
     "execution_count": 68,
     "metadata": {},
     "output_type": "execute_result"
    }
   ],
   "source": [
    "clf_xg.fit(x_upgrade, y)"
   ]
  },
  {
   "cell_type": "code",
   "execution_count": 69,
   "metadata": {
    "colab": {
     "base_uri": "https://localhost:8080/",
     "height": 34
    },
    "colab_type": "code",
    "executionInfo": {
     "elapsed": 512,
     "status": "ok",
     "timestamp": 1559600388915,
     "user": {
      "displayName": "Diego Álvarez Fernandez",
      "photoUrl": "",
      "userId": "05792570081424463411"
     },
     "user_tz": -120
    },
    "id": "NTY1gcu3VzR4",
    "outputId": "b4e2a4b9-d401-4ee6-9a3f-f297be2fd10d"
   },
   "outputs": [
    {
     "data": {
      "text/plain": [
       "{'learning_rate': 0.08, 'max_depth': 3, 'n_estimators': 100}"
      ]
     },
     "execution_count": 69,
     "metadata": {},
     "output_type": "execute_result"
    }
   ],
   "source": [
    "clf_xg.best_params_"
   ]
  },
  {
   "cell_type": "code",
   "execution_count": 70,
   "metadata": {
    "colab": {
     "base_uri": "https://localhost:8080/",
     "height": 34
    },
    "colab_type": "code",
    "executionInfo": {
     "elapsed": 504,
     "status": "ok",
     "timestamp": 1559600391971,
     "user": {
      "displayName": "Diego Álvarez Fernandez",
      "photoUrl": "",
      "userId": "05792570081424463411"
     },
     "user_tz": -120
    },
    "id": "pcebiQHAVzQh",
    "outputId": "588fda9b-afc9-481b-d014-b16b1df4c8d5"
   },
   "outputs": [
    {
     "data": {
      "text/plain": [
       "0.7635574837310195"
      ]
     },
     "execution_count": 70,
     "metadata": {},
     "output_type": "execute_result"
    }
   ],
   "source": [
    "clf_xg.best_score_"
   ]
  },
  {
   "cell_type": "markdown",
   "metadata": {},
   "source": [
    "### Gradient Boosted Trees"
   ]
  },
  {
   "cell_type": "markdown",
   "metadata": {
    "colab": {},
    "colab_type": "code",
    "id": "Sq4Zet2fVzOc"
   },
   "source": [
    "Para el siguiente caso vamos a utilizar un Gradient Boosted Tree, de la libreria de Scikit Learn. Como podemos ver, el resultado obtenido no supera a los resultados del XGBoost, por lo que nuestro mejor resultado sigue siendo el 76.35 %."
   ]
  },
  {
   "cell_type": "code",
   "execution_count": 72,
   "metadata": {},
   "outputs": [],
   "source": [
    "clf_gbt = GridSearchCV(ensemble.GradientBoostingClassifier(),\n",
    "                      param_grid = {'max_depth': np.arange(2,10),\n",
    "                                   \"n_estimators\": np.arange(1000, 2000, 100),\n",
    "                                   \"max_leaf_nodes\": np.arange(2, 6, 1),\n",
    "                                   \"min_samples_leaf\": np.arange(2, 6, 1)},\n",
    "                      cv = 10,\n",
    "                      scoring = 'accuracy',\n",
    "                      n_jobs = -1\n",
    "         )"
   ]
  },
  {
   "cell_type": "code",
   "execution_count": 73,
   "metadata": {},
   "outputs": [
    {
     "name": "stderr",
     "output_type": "stream",
     "text": [
      "C:\\Users\\lique\\Anaconda3\\lib\\site-packages\\sklearn\\model_selection\\_search.py:841: DeprecationWarning: The default of the `iid` parameter will change from True to False in version 0.22 and will be removed in 0.24. This will change numeric results when test-set sizes are unequal.\n",
      "  DeprecationWarning)\n"
     ]
    },
    {
     "data": {
      "text/plain": [
       "GridSearchCV(cv=10, error_score='raise-deprecating',\n",
       "       estimator=GradientBoostingClassifier(criterion='friedman_mse', init=None,\n",
       "              learning_rate=0.1, loss='deviance', max_depth=3,\n",
       "              max_features=None, max_leaf_nodes=None,\n",
       "              min_impurity_decrease=0.0, min_impurity_split=None,\n",
       "              min_samples_leaf=1, min_sampl...      subsample=1.0, tol=0.0001, validation_fraction=0.1,\n",
       "              verbose=0, warm_start=False),\n",
       "       fit_params=None, iid='warn', n_jobs=-1,\n",
       "       param_grid={'max_depth': array([2, 3, 4, 5, 6, 7, 8, 9]), 'n_estimators': array([1000, 1100, 1200, 1300, 1400, 1500, 1600, 1700, 1800, 1900]), 'max_leaf_nodes': array([2, 3, 4, 5]), 'min_samples_leaf': array([2, 3, 4, 5])},\n",
       "       pre_dispatch='2*n_jobs', refit=True, return_train_score='warn',\n",
       "       scoring='accuracy', verbose=0)"
      ]
     },
     "execution_count": 73,
     "metadata": {},
     "output_type": "execute_result"
    }
   ],
   "source": [
    "clf_gbt.fit(x_upgrade, y)"
   ]
  },
  {
   "cell_type": "code",
   "execution_count": 74,
   "metadata": {},
   "outputs": [
    {
     "data": {
      "text/plain": [
       "{'max_depth': 2,\n",
       " 'max_leaf_nodes': 5,\n",
       " 'min_samples_leaf': 5,\n",
       " 'n_estimators': 1300}"
      ]
     },
     "execution_count": 74,
     "metadata": {},
     "output_type": "execute_result"
    }
   ],
   "source": [
    "clf_gbt.best_params_"
   ]
  },
  {
   "cell_type": "code",
   "execution_count": 75,
   "metadata": {
    "colab": {},
    "colab_type": "code",
    "id": "IOofXbOBVzLf"
   },
   "outputs": [
    {
     "data": {
      "text/plain": [
       "0.7527114967462039"
      ]
     },
     "execution_count": 75,
     "metadata": {},
     "output_type": "execute_result"
    }
   ],
   "source": [
    "clf_gbt.best_score_"
   ]
  },
  {
   "cell_type": "markdown",
   "metadata": {
    "colab": {},
    "colab_type": "code",
    "id": "Wc0mLVLBVzJR"
   },
   "source": [
    "### Ensamblaje de modelos"
   ]
  },
  {
   "cell_type": "markdown",
   "metadata": {
    "colab": {},
    "colab_type": "code",
    "id": "SWNiIxTmVzFa"
   },
   "source": [
    "Una vez que tenemos ya una buena serie de modelos creados, y con sus métricas establecidas, vamos a intentar combinarlos para conseguir obtener mejores resultados. En primera instancia vamos a intentar crear un VottingClassifier para intentar combinar los dos clasificadores que nos dieron mejores resultados. Como podemos ver, si juntamos el Gradient Boosted Tree con el XGBoost (el mejor clasificador hasta ahora), no obtenemos mejores resultados que con el Random Forest solo."
   ]
  },
  {
   "cell_type": "code",
   "execution_count": 81,
   "metadata": {},
   "outputs": [
    {
     "data": {
      "text/plain": [
       "{'learning_rate': 0.08, 'max_depth': 3, 'n_estimators': 100}"
      ]
     },
     "execution_count": 81,
     "metadata": {},
     "output_type": "execute_result"
    }
   ],
   "source": [
    "clf_xg.best_params_"
   ]
  },
  {
   "cell_type": "code",
   "execution_count": 88,
   "metadata": {},
   "outputs": [
    {
     "data": {
      "text/plain": [
       "{'max_depth': 2,\n",
       " 'max_leaf_nodes': 5,\n",
       " 'min_samples_leaf': 5,\n",
       " 'n_estimators': 1300}"
      ]
     },
     "execution_count": 88,
     "metadata": {},
     "output_type": "execute_result"
    }
   ],
   "source": [
    "clf_gbt.best_params_"
   ]
  },
  {
   "cell_type": "code",
   "execution_count": 89,
   "metadata": {
    "colab": {},
    "colab_type": "code",
    "id": "6AHK_YSfVzC9"
   },
   "outputs": [],
   "source": [
    "clf_votting = VotingClassifier(estimators=[('xgboost', XGBClassifier(learning_rate = 0.08, max_depth = 3, n_estimators = 100)), \n",
    "                                           ('gbt', ensemble.GradientBoostingClassifier(max_depth = 2, max_leaf_nodes = 5, min_samples_leaf = 4, n_estimators = 1300))])"
   ]
  },
  {
   "cell_type": "code",
   "execution_count": 92,
   "metadata": {
    "colab": {},
    "colab_type": "code",
    "id": "zUB6HBMeVzA-",
    "scrolled": true
   },
   "outputs": [
    {
     "name": "stdout",
     "output_type": "stream",
     "text": [
      "              precision    recall  f1-score   support\n",
      "\n",
      "          No       0.71      0.96      0.81        23\n",
      "         Yes       0.94      0.62      0.75        24\n",
      "\n",
      "   micro avg       0.79      0.79      0.79        47\n",
      "   macro avg       0.82      0.79      0.78        47\n",
      "weighted avg       0.83      0.79      0.78        47\n",
      "\n",
      "              precision    recall  f1-score   support\n",
      "\n",
      "          No       0.72      0.78      0.75        23\n",
      "         Yes       0.76      0.70      0.73        23\n",
      "\n",
      "   micro avg       0.74      0.74      0.74        46\n",
      "   macro avg       0.74      0.74      0.74        46\n",
      "weighted avg       0.74      0.74      0.74        46\n",
      "\n",
      "              precision    recall  f1-score   support\n",
      "\n",
      "          No       0.73      0.96      0.83        23\n",
      "         Yes       0.94      0.65      0.77        23\n",
      "\n",
      "   micro avg       0.80      0.80      0.80        46\n",
      "   macro avg       0.84      0.80      0.80        46\n",
      "weighted avg       0.84      0.80      0.80        46\n",
      "\n",
      "              precision    recall  f1-score   support\n",
      "\n",
      "          No       0.60      0.78      0.68        23\n",
      "         Yes       0.69      0.48      0.56        23\n",
      "\n",
      "   micro avg       0.63      0.63      0.63        46\n",
      "   macro avg       0.64      0.63      0.62        46\n",
      "weighted avg       0.64      0.63      0.62        46\n",
      "\n",
      "              precision    recall  f1-score   support\n",
      "\n",
      "          No       0.68      0.74      0.71        23\n",
      "         Yes       0.71      0.65      0.68        23\n",
      "\n",
      "   micro avg       0.70      0.70      0.70        46\n",
      "   macro avg       0.70      0.70      0.70        46\n",
      "weighted avg       0.70      0.70      0.70        46\n",
      "\n",
      "              precision    recall  f1-score   support\n",
      "\n",
      "          No       0.74      0.87      0.80        23\n",
      "         Yes       0.84      0.70      0.76        23\n",
      "\n",
      "   micro avg       0.78      0.78      0.78        46\n",
      "   macro avg       0.79      0.78      0.78        46\n",
      "weighted avg       0.79      0.78      0.78        46\n",
      "\n",
      "              precision    recall  f1-score   support\n",
      "\n",
      "          No       0.64      0.78      0.71        23\n",
      "         Yes       0.72      0.57      0.63        23\n",
      "\n",
      "   micro avg       0.67      0.67      0.67        46\n",
      "   macro avg       0.68      0.67      0.67        46\n",
      "weighted avg       0.68      0.67      0.67        46\n",
      "\n",
      "              precision    recall  f1-score   support\n",
      "\n",
      "          No       0.80      0.87      0.83        23\n",
      "         Yes       0.86      0.78      0.82        23\n",
      "\n",
      "   micro avg       0.83      0.83      0.83        46\n",
      "   macro avg       0.83      0.83      0.83        46\n",
      "weighted avg       0.83      0.83      0.83        46\n",
      "\n",
      "              precision    recall  f1-score   support\n",
      "\n",
      "          No       0.78      0.78      0.78        23\n",
      "         Yes       0.78      0.78      0.78        23\n",
      "\n",
      "   micro avg       0.78      0.78      0.78        46\n",
      "   macro avg       0.78      0.78      0.78        46\n",
      "weighted avg       0.78      0.78      0.78        46\n",
      "\n",
      "              precision    recall  f1-score   support\n",
      "\n",
      "          No       0.73      0.83      0.78        23\n",
      "         Yes       0.80      0.70      0.74        23\n",
      "\n",
      "   micro avg       0.76      0.76      0.76        46\n",
      "   macro avg       0.77      0.76      0.76        46\n",
      "weighted avg       0.77      0.76      0.76        46\n",
      "\n"
     ]
    },
    {
     "data": {
      "text/plain": [
       "0.7482886216466235"
      ]
     },
     "execution_count": 92,
     "metadata": {},
     "output_type": "execute_result"
    }
   ],
   "source": [
    "#para entrenar al sistema utilizaremos una validación cruzada\n",
    "\n",
    "cross_val_score(clf_votting, x_upgrade, y, cv = 10, scoring = make_scorer(classification_report_with_accuracy_score)).mean()"
   ]
  },
  {
   "cell_type": "markdown",
   "metadata": {
    "colab": {},
    "colab_type": "code",
    "id": "2rDYOiHZVy--"
   },
   "source": [
    "Si por otro lado juntamos el mejor clasificador que hemos obtenido, el XGBoost, con el Random Forest, podemos ver que mejoramos los resultados con el intento anterior, pero no llegamos a superar los resultados obtenidos con el XGBoost por separado."
   ]
  },
  {
   "cell_type": "code",
   "execution_count": 93,
   "metadata": {
    "colab": {},
    "colab_type": "code",
    "id": "ldNZxpFES0RQ"
   },
   "outputs": [
    {
     "data": {
      "text/plain": [
       "{'max_depth': 8, 'n_estimators': 220}"
      ]
     },
     "execution_count": 93,
     "metadata": {},
     "output_type": "execute_result"
    }
   ],
   "source": [
    "clf_rf.best_params_"
   ]
  },
  {
   "cell_type": "code",
   "execution_count": 99,
   "metadata": {},
   "outputs": [],
   "source": [
    "clf_votting_v2 = VotingClassifier(estimators=[('xgboost', XGBClassifier(learning_rate = 0.08, max_depth = 3, n_estimators = 100)), \n",
    "                                           ('rf', RandomForestClassifier(min_samples_leaf = 4, max_depth = 9, n_estimators = 80))])"
   ]
  },
  {
   "cell_type": "code",
   "execution_count": 100,
   "metadata": {
    "scrolled": true
   },
   "outputs": [
    {
     "name": "stdout",
     "output_type": "stream",
     "text": [
      "              precision    recall  f1-score   support\n",
      "\n",
      "          No       0.71      0.87      0.78        23\n",
      "         Yes       0.84      0.67      0.74        24\n",
      "\n",
      "   micro avg       0.77      0.77      0.77        47\n",
      "   macro avg       0.78      0.77      0.76        47\n",
      "weighted avg       0.78      0.77      0.76        47\n",
      "\n",
      "              precision    recall  f1-score   support\n",
      "\n",
      "          No       0.76      0.70      0.73        23\n",
      "         Yes       0.72      0.78      0.75        23\n",
      "\n",
      "   micro avg       0.74      0.74      0.74        46\n",
      "   macro avg       0.74      0.74      0.74        46\n",
      "weighted avg       0.74      0.74      0.74        46\n",
      "\n",
      "              precision    recall  f1-score   support\n",
      "\n",
      "          No       0.75      0.91      0.82        23\n",
      "         Yes       0.89      0.70      0.78        23\n",
      "\n",
      "   micro avg       0.80      0.80      0.80        46\n",
      "   macro avg       0.82      0.80      0.80        46\n",
      "weighted avg       0.82      0.80      0.80        46\n",
      "\n",
      "              precision    recall  f1-score   support\n",
      "\n",
      "          No       0.62      0.78      0.69        23\n",
      "         Yes       0.71      0.52      0.60        23\n",
      "\n",
      "   micro avg       0.65      0.65      0.65        46\n",
      "   macro avg       0.66      0.65      0.65        46\n",
      "weighted avg       0.66      0.65      0.65        46\n",
      "\n",
      "              precision    recall  f1-score   support\n",
      "\n",
      "          No       0.68      0.74      0.71        23\n",
      "         Yes       0.71      0.65      0.68        23\n",
      "\n",
      "   micro avg       0.70      0.70      0.70        46\n",
      "   macro avg       0.70      0.70      0.70        46\n",
      "weighted avg       0.70      0.70      0.70        46\n",
      "\n",
      "              precision    recall  f1-score   support\n",
      "\n",
      "          No       0.75      0.91      0.82        23\n",
      "         Yes       0.89      0.70      0.78        23\n",
      "\n",
      "   micro avg       0.80      0.80      0.80        46\n",
      "   macro avg       0.82      0.80      0.80        46\n",
      "weighted avg       0.82      0.80      0.80        46\n",
      "\n",
      "              precision    recall  f1-score   support\n",
      "\n",
      "          No       0.67      0.78      0.72        23\n",
      "         Yes       0.74      0.61      0.67        23\n",
      "\n",
      "   micro avg       0.70      0.70      0.70        46\n",
      "   macro avg       0.70      0.70      0.69        46\n",
      "weighted avg       0.70      0.70      0.69        46\n",
      "\n",
      "              precision    recall  f1-score   support\n",
      "\n",
      "          No       0.79      0.83      0.81        23\n",
      "         Yes       0.82      0.78      0.80        23\n",
      "\n",
      "   micro avg       0.80      0.80      0.80        46\n",
      "   macro avg       0.80      0.80      0.80        46\n",
      "weighted avg       0.80      0.80      0.80        46\n",
      "\n",
      "              precision    recall  f1-score   support\n",
      "\n",
      "          No       0.82      0.78      0.80        23\n",
      "         Yes       0.79      0.83      0.81        23\n",
      "\n",
      "   micro avg       0.80      0.80      0.80        46\n",
      "   macro avg       0.80      0.80      0.80        46\n",
      "weighted avg       0.80      0.80      0.80        46\n",
      "\n",
      "              precision    recall  f1-score   support\n",
      "\n",
      "          No       0.73      0.83      0.78        23\n",
      "         Yes       0.80      0.70      0.74        23\n",
      "\n",
      "   micro avg       0.76      0.76      0.76        46\n",
      "   macro avg       0.77      0.76      0.76        46\n",
      "weighted avg       0.77      0.76      0.76        46\n",
      "\n"
     ]
    },
    {
     "data": {
      "text/plain": [
       "0.7526827012025902"
      ]
     },
     "execution_count": 100,
     "metadata": {},
     "output_type": "execute_result"
    }
   ],
   "source": [
    "cross_val_score(clf_votting_v2, x_upgrade, y, cv = 10, scoring = make_scorer(classification_report_with_accuracy_score)).mean()"
   ]
  },
  {
   "cell_type": "markdown",
   "metadata": {},
   "source": [
    "Como último intento, vamos a intentar juntar los tres clasificadores en uno solo, para comprobar los resultados que obtenemos. Como podemos ver, se sigue notando una mejoría, pero seguimos sin superar el 76,35 % del accuracy obtenido con el XGBoost"
   ]
  },
  {
   "cell_type": "code",
   "execution_count": 103,
   "metadata": {},
   "outputs": [],
   "source": [
    "clf_votting_v3 = VotingClassifier(estimators=[('xgboost', XGBClassifier(learning_rate = 0.08, max_depth = 3, n_estimators = 100)), \n",
    "                                           ('rf', RandomForestClassifier(min_samples_leaf = 4, max_depth = 9, n_estimators = 80)),\n",
    "                                           ('gbt', ensemble.GradientBoostingClassifier(max_depth = 2, max_leaf_nodes = 5, min_samples_leaf = 4, n_estimators = 1300))])"
   ]
  },
  {
   "cell_type": "code",
   "execution_count": 104,
   "metadata": {
    "scrolled": true
   },
   "outputs": [
    {
     "name": "stdout",
     "output_type": "stream",
     "text": [
      "              precision    recall  f1-score   support\n",
      "\n",
      "          No       0.70      0.83      0.76        23\n",
      "         Yes       0.80      0.67      0.73        24\n",
      "\n",
      "   micro avg       0.74      0.74      0.74        47\n",
      "   macro avg       0.75      0.75      0.74        47\n",
      "weighted avg       0.75      0.74      0.74        47\n",
      "\n",
      "              precision    recall  f1-score   support\n",
      "\n",
      "          No       0.80      0.70      0.74        23\n",
      "         Yes       0.73      0.83      0.78        23\n",
      "\n",
      "   micro avg       0.76      0.76      0.76        46\n",
      "   macro avg       0.77      0.76      0.76        46\n",
      "weighted avg       0.77      0.76      0.76        46\n",
      "\n",
      "              precision    recall  f1-score   support\n",
      "\n",
      "          No       0.77      0.87      0.82        23\n",
      "         Yes       0.85      0.74      0.79        23\n",
      "\n",
      "   micro avg       0.80      0.80      0.80        46\n",
      "   macro avg       0.81      0.80      0.80        46\n",
      "weighted avg       0.81      0.80      0.80        46\n",
      "\n",
      "              precision    recall  f1-score   support\n",
      "\n",
      "          No       0.62      0.78      0.69        23\n",
      "         Yes       0.71      0.52      0.60        23\n",
      "\n",
      "   micro avg       0.65      0.65      0.65        46\n",
      "   macro avg       0.66      0.65      0.65        46\n",
      "weighted avg       0.66      0.65      0.65        46\n",
      "\n",
      "              precision    recall  f1-score   support\n",
      "\n",
      "          No       0.74      0.74      0.74        23\n",
      "         Yes       0.74      0.74      0.74        23\n",
      "\n",
      "   micro avg       0.74      0.74      0.74        46\n",
      "   macro avg       0.74      0.74      0.74        46\n",
      "weighted avg       0.74      0.74      0.74        46\n",
      "\n",
      "              precision    recall  f1-score   support\n",
      "\n",
      "          No       0.76      0.83      0.79        23\n",
      "         Yes       0.81      0.74      0.77        23\n",
      "\n",
      "   micro avg       0.78      0.78      0.78        46\n",
      "   macro avg       0.78      0.78      0.78        46\n",
      "weighted avg       0.78      0.78      0.78        46\n",
      "\n",
      "              precision    recall  f1-score   support\n",
      "\n",
      "          No       0.72      0.78      0.75        23\n",
      "         Yes       0.76      0.70      0.73        23\n",
      "\n",
      "   micro avg       0.74      0.74      0.74        46\n",
      "   macro avg       0.74      0.74      0.74        46\n",
      "weighted avg       0.74      0.74      0.74        46\n",
      "\n",
      "              precision    recall  f1-score   support\n",
      "\n",
      "          No       0.84      0.70      0.76        23\n",
      "         Yes       0.74      0.87      0.80        23\n",
      "\n",
      "   micro avg       0.78      0.78      0.78        46\n",
      "   macro avg       0.79      0.78      0.78        46\n",
      "weighted avg       0.79      0.78      0.78        46\n",
      "\n",
      "              precision    recall  f1-score   support\n",
      "\n",
      "          No       0.85      0.74      0.79        23\n",
      "         Yes       0.77      0.87      0.82        23\n",
      "\n",
      "   micro avg       0.80      0.80      0.80        46\n",
      "   macro avg       0.81      0.80      0.80        46\n",
      "weighted avg       0.81      0.80      0.80        46\n",
      "\n",
      "              precision    recall  f1-score   support\n",
      "\n",
      "          No       0.78      0.78      0.78        23\n",
      "         Yes       0.78      0.78      0.78        23\n",
      "\n",
      "   micro avg       0.78      0.78      0.78        46\n",
      "   macro avg       0.78      0.78      0.78        46\n",
      "weighted avg       0.78      0.78      0.78        46\n",
      "\n"
     ]
    },
    {
     "data": {
      "text/plain": [
       "0.7592506938020351"
      ]
     },
     "execution_count": 104,
     "metadata": {},
     "output_type": "execute_result"
    }
   ],
   "source": [
    "cross_val_score(clf_votting_v3, x_upgrade, y, cv = 10, scoring = make_scorer(classification_report_with_accuracy_score)).mean()"
   ]
  },
  {
   "cell_type": "markdown",
   "metadata": {},
   "source": [
    "### Bagging"
   ]
  },
  {
   "cell_type": "markdown",
   "metadata": {},
   "source": [
    "Una vez hemos terminado de probar modelos, vamos a tratar de mejorar el Decision Tree con la técnica del Bagging. Como podemos ver, mejoramos un poco los resultados obtenidos pero sin llegar a los resultados obtenidos por el Random Forest ni, por supuesto, por el XGBoost."
   ]
  },
  {
   "cell_type": "code",
   "execution_count": 112,
   "metadata": {},
   "outputs": [
    {
     "data": {
      "text/plain": [
       "{'max_depth': 6, 'min_samples_leaf': 3}"
      ]
     },
     "execution_count": 112,
     "metadata": {},
     "output_type": "execute_result"
    }
   ],
   "source": [
    "clf_dt.best_params_"
   ]
  },
  {
   "cell_type": "code",
   "execution_count": 113,
   "metadata": {},
   "outputs": [],
   "source": [
    "clf_xbg_bag = BaggingClassifier(base_estimator=DecisionTreeClassifier(min_samples_leaf = 3, max_depth = 6), n_estimators=100, oob_score =True)"
   ]
  },
  {
   "cell_type": "code",
   "execution_count": 114,
   "metadata": {
    "scrolled": true
   },
   "outputs": [
    {
     "name": "stdout",
     "output_type": "stream",
     "text": [
      "              precision    recall  f1-score   support\n",
      "\n",
      "          No       0.69      0.78      0.73        23\n",
      "         Yes       0.76      0.67      0.71        24\n",
      "\n",
      "   micro avg       0.72      0.72      0.72        47\n",
      "   macro avg       0.73      0.72      0.72        47\n",
      "weighted avg       0.73      0.72      0.72        47\n",
      "\n",
      "              precision    recall  f1-score   support\n",
      "\n",
      "          No       0.79      0.65      0.71        23\n",
      "         Yes       0.70      0.83      0.76        23\n",
      "\n",
      "   micro avg       0.74      0.74      0.74        46\n",
      "   macro avg       0.75      0.74      0.74        46\n",
      "weighted avg       0.75      0.74      0.74        46\n",
      "\n",
      "              precision    recall  f1-score   support\n",
      "\n",
      "          No       0.80      0.87      0.83        23\n",
      "         Yes       0.86      0.78      0.82        23\n",
      "\n",
      "   micro avg       0.83      0.83      0.83        46\n",
      "   macro avg       0.83      0.83      0.83        46\n",
      "weighted avg       0.83      0.83      0.83        46\n",
      "\n",
      "              precision    recall  f1-score   support\n",
      "\n",
      "          No       0.62      0.70      0.65        23\n",
      "         Yes       0.65      0.57      0.60        23\n",
      "\n",
      "   micro avg       0.63      0.63      0.63        46\n",
      "   macro avg       0.63      0.63      0.63        46\n",
      "weighted avg       0.63      0.63      0.63        46\n",
      "\n",
      "              precision    recall  f1-score   support\n",
      "\n",
      "          No       0.68      0.74      0.71        23\n",
      "         Yes       0.71      0.65      0.68        23\n",
      "\n",
      "   micro avg       0.70      0.70      0.70        46\n",
      "   macro avg       0.70      0.70      0.70        46\n",
      "weighted avg       0.70      0.70      0.70        46\n",
      "\n",
      "              precision    recall  f1-score   support\n",
      "\n",
      "          No       0.71      0.74      0.72        23\n",
      "         Yes       0.73      0.70      0.71        23\n",
      "\n",
      "   micro avg       0.72      0.72      0.72        46\n",
      "   macro avg       0.72      0.72      0.72        46\n",
      "weighted avg       0.72      0.72      0.72        46\n",
      "\n",
      "              precision    recall  f1-score   support\n",
      "\n",
      "          No       0.60      0.78      0.68        23\n",
      "         Yes       0.69      0.48      0.56        23\n",
      "\n",
      "   micro avg       0.63      0.63      0.63        46\n",
      "   macro avg       0.64      0.63      0.62        46\n",
      "weighted avg       0.64      0.63      0.62        46\n",
      "\n",
      "              precision    recall  f1-score   support\n",
      "\n",
      "          No       0.80      0.70      0.74        23\n",
      "         Yes       0.73      0.83      0.78        23\n",
      "\n",
      "   micro avg       0.76      0.76      0.76        46\n",
      "   macro avg       0.77      0.76      0.76        46\n",
      "weighted avg       0.77      0.76      0.76        46\n",
      "\n",
      "              precision    recall  f1-score   support\n",
      "\n",
      "          No       0.74      0.74      0.74        23\n",
      "         Yes       0.74      0.74      0.74        23\n",
      "\n",
      "   micro avg       0.74      0.74      0.74        46\n",
      "   macro avg       0.74      0.74      0.74        46\n",
      "weighted avg       0.74      0.74      0.74        46\n",
      "\n",
      "              precision    recall  f1-score   support\n",
      "\n",
      "          No       0.77      0.74      0.76        23\n",
      "         Yes       0.75      0.78      0.77        23\n",
      "\n",
      "   micro avg       0.76      0.76      0.76        46\n",
      "   macro avg       0.76      0.76      0.76        46\n",
      "weighted avg       0.76      0.76      0.76        46\n",
      "\n"
     ]
    },
    {
     "data": {
      "text/plain": [
       "0.7223404255319149"
      ]
     },
     "execution_count": 114,
     "metadata": {},
     "output_type": "execute_result"
    }
   ],
   "source": [
    "cross_val_score(clf_xbg_bag, x_upgrade, y, cv = 10, scoring = make_scorer(classification_report_with_accuracy_score)).mean()"
   ]
  },
  {
   "cell_type": "markdown",
   "metadata": {},
   "source": [
    "### Deep Learning"
   ]
  },
  {
   "cell_type": "markdown",
   "metadata": {},
   "source": [
    "Con las nociones aprendidas durante el curso, vamos a intentar implementar una red neuronal capaz de superar los resultados obtenidos por el XGBoost."
   ]
  },
  {
   "cell_type": "code",
   "execution_count": null,
   "metadata": {},
   "outputs": [],
   "source": []
  },
  {
   "cell_type": "code",
   "execution_count": null,
   "metadata": {},
   "outputs": [],
   "source": []
  },
  {
   "cell_type": "code",
   "execution_count": null,
   "metadata": {},
   "outputs": [],
   "source": []
  },
  {
   "cell_type": "code",
   "execution_count": null,
   "metadata": {},
   "outputs": [],
   "source": []
  },
  {
   "cell_type": "code",
   "execution_count": null,
   "metadata": {},
   "outputs": [],
   "source": []
  },
  {
   "cell_type": "code",
   "execution_count": null,
   "metadata": {},
   "outputs": [],
   "source": []
  },
  {
   "cell_type": "code",
   "execution_count": null,
   "metadata": {},
   "outputs": [],
   "source": []
  }
 ],
 "metadata": {
  "accelerator": "GPU",
  "colab": {
   "collapsed_sections": [],
   "name": "Main Train.ipynb",
   "provenance": [],
   "version": "0.3.2"
  },
  "kernelspec": {
   "display_name": "Python 3",
   "language": "python",
   "name": "python3"
  },
  "language_info": {
   "codemirror_mode": {
    "name": "ipython",
    "version": 3
   },
   "file_extension": ".py",
   "mimetype": "text/x-python",
   "name": "python",
   "nbconvert_exporter": "python",
   "pygments_lexer": "ipython3",
   "version": "3.7.1"
  }
 },
 "nbformat": 4,
 "nbformat_minor": 1
}
