{
  "nbformat": 4,
  "nbformat_minor": 0,
  "metadata": {
    "colab": {
      "name": "Main Train.ipynb",
      "version": "0.3.2",
      "provenance": [],
      "collapsed_sections": []
    },
    "language_info": {
      "codemirror_mode": {
        "name": "ipython",
        "version": 3
      },
      "file_extension": ".py",
      "mimetype": "text/x-python",
      "name": "python",
      "nbconvert_exporter": "python",
      "pygments_lexer": "ipython3",
      "version": "3.7.1"
    },
    "kernelspec": {
      "name": "python3",
      "display_name": "Python 3"
    },
    "accelerator": "GPU"
  },
  "cells": [
    {
      "cell_type": "markdown",
      "metadata": {
        "colab_type": "text",
        "id": "nqnbhbaic2eR"
      },
      "source": [
        "Librerias utilizadas:"
      ]
    },
    {
      "cell_type": "code",
      "metadata": {
        "colab_type": "code",
        "id": "TV4eNPAoc2eT",
        "outputId": "ba8f952b-fc4a-4626-b21d-311505dcb5d9",
        "colab": {
          "base_uri": "https://localhost:8080/",
          "height": 84
        }
      },
      "source": [
        "import pandas as pd\n",
        "%pylab inline\n",
        "import copy\n",
        "from sklearn.linear_model import LogisticRegression\n",
        "from sklearn.metrics import accuracy_score\n",
        "from sklearn.model_selection import cross_val_score\n",
        "from sklearn.model_selection import GridSearchCV\n",
        "from sklearn.neighbors import KNeighborsClassifier\n",
        "from sklearn.tree import DecisionTreeClassifier\n",
        "from sklearn.metrics import classification_report, accuracy_score, make_scorer\n",
        "from sklearn.svm import SVC\n",
        "from sklearn.ensemble import RandomForestClassifier\n",
        "from xgboost import XGBClassifier\n",
        "from sklearn import ensemble\n",
        "from sklearn.ensemble import VotingClassifier\n",
        "from sklearn.ensemble import BaggingClassifier\n",
        "from keras import layers\n",
        "from keras import models\n",
        "from keras import optimizers\n",
        "from keras import losses\n",
        "from keras import metrics\n",
        "from keras import utils\n",
        "from sklearn.preprocessing import StandardScaler\n",
        "from sklearn.model_selection import train_test_split\n",
        "from sklearn.metrics import confusion_matrix\n",
        "from sklearn.utils.multiclass import unique_labels"
      ],
      "execution_count": 73,
      "outputs": [
        {
          "output_type": "stream",
          "text": [
            "Populating the interactive namespace from numpy and matplotlib\n"
          ],
          "name": "stdout"
        },
        {
          "output_type": "stream",
          "text": [
            "/usr/local/lib/python3.6/dist-packages/IPython/core/magics/pylab.py:161: UserWarning: pylab import has clobbered these variables: ['copy', 'clf']\n",
            "`%matplotlib` prevents importing * from pylab and numpy\n",
            "  \"\\n`%matplotlib` prevents importing * from pylab and numpy\"\n"
          ],
          "name": "stderr"
        }
      ]
    },
    {
      "cell_type": "code",
      "metadata": {
        "colab_type": "code",
        "id": "-dMUolKxdXO-",
        "colab": {}
      },
      "source": [
        "url = 'https://raw.githubusercontent.com/diegoalvzfdez/master-data-science/master/preprocessed_data/csv_eye.csv'\n"
      ],
      "execution_count": 0,
      "outputs": []
    },
    {
      "cell_type": "markdown",
      "metadata": {
        "id": "rm_GQwer0idV",
        "colab_type": "text"
      },
      "source": [
        "## Estudio del Dataset Obtenido"
      ]
    },
    {
      "cell_type": "markdown",
      "metadata": {
        "colab_type": "text",
        "id": "uxwVpuVPc2eZ"
      },
      "source": [
        "Abrimos el fichero que hemos generado de los scripts anteriores"
      ]
    },
    {
      "cell_type": "code",
      "metadata": {
        "colab_type": "code",
        "id": "JGrbPxrFc2ea",
        "outputId": "a732c4cc-e35e-49cd-84df-dc5c470847ab",
        "colab": {
          "base_uri": "https://localhost:8080/",
          "height": 3936
        }
      },
      "source": [
        "eye_df = pd.read_csv(url, sep = \";\")\n",
        "eye_df"
      ],
      "execution_count": 75,
      "outputs": [
        {
          "output_type": "execute_result",
          "data": {
            "text/html": [
              "<div>\n",
              "<style scoped>\n",
              "    .dataframe tbody tr th:only-of-type {\n",
              "        vertical-align: middle;\n",
              "    }\n",
              "\n",
              "    .dataframe tbody tr th {\n",
              "        vertical-align: top;\n",
              "    }\n",
              "\n",
              "    .dataframe thead th {\n",
              "        text-align: right;\n",
              "    }\n",
              "</style>\n",
              "<table border=\"1\" class=\"dataframe\">\n",
              "  <thead>\n",
              "    <tr style=\"text-align: right;\">\n",
              "      <th></th>\n",
              "      <th>Max Depth Front</th>\n",
              "      <th>Max Depth Back</th>\n",
              "      <th>Max Curve Front</th>\n",
              "      <th>Max Curve Back</th>\n",
              "      <th>Max Variation Curve Front</th>\n",
              "      <th>Max Variation Curve Back</th>\n",
              "      <th>Mean Curve Front</th>\n",
              "      <th>Mean Curve Back</th>\n",
              "      <th>Age</th>\n",
              "      <th>K Max</th>\n",
              "      <th>Paqui Min</th>\n",
              "      <th>Distance Between Max Curve and Min Paqui</th>\n",
              "      <th>Position of Most Curve Point Relative to Center</th>\n",
              "      <th>Treatment</th>\n",
              "    </tr>\n",
              "  </thead>\n",
              "  <tbody>\n",
              "    <tr>\n",
              "      <th>0</th>\n",
              "      <td>2590</td>\n",
              "      <td>2670</td>\n",
              "      <td>6.24</td>\n",
              "      <td>4.56</td>\n",
              "      <td>3.72</td>\n",
              "      <td>3.64</td>\n",
              "      <td>7.86</td>\n",
              "      <td>6.49</td>\n",
              "      <td>24</td>\n",
              "      <td>54.11</td>\n",
              "      <td>429</td>\n",
              "      <td>0.78</td>\n",
              "      <td>1.09</td>\n",
              "      <td>Pacientes tratados mediante anillos</td>\n",
              "    </tr>\n",
              "    <tr>\n",
              "      <th>1</th>\n",
              "      <td>2432</td>\n",
              "      <td>2449</td>\n",
              "      <td>6.35</td>\n",
              "      <td>4.62</td>\n",
              "      <td>3.41</td>\n",
              "      <td>3.44</td>\n",
              "      <td>7.86</td>\n",
              "      <td>6.51</td>\n",
              "      <td>24</td>\n",
              "      <td>53.18</td>\n",
              "      <td>425</td>\n",
              "      <td>0.54</td>\n",
              "      <td>0.96</td>\n",
              "      <td>Pacientes tratados mediante anillos</td>\n",
              "    </tr>\n",
              "    <tr>\n",
              "      <th>2</th>\n",
              "      <td>2833</td>\n",
              "      <td>2842</td>\n",
              "      <td>5.04</td>\n",
              "      <td>3.51</td>\n",
              "      <td>5.54</td>\n",
              "      <td>5.35</td>\n",
              "      <td>7.84</td>\n",
              "      <td>6.37</td>\n",
              "      <td>35</td>\n",
              "      <td>66.97</td>\n",
              "      <td>408</td>\n",
              "      <td>4.87</td>\n",
              "      <td>4.65</td>\n",
              "      <td>Pacientes tratados mediante anillos</td>\n",
              "    </tr>\n",
              "    <tr>\n",
              "      <th>3</th>\n",
              "      <td>3101</td>\n",
              "      <td>3124</td>\n",
              "      <td>5.26</td>\n",
              "      <td>3.62</td>\n",
              "      <td>5.10</td>\n",
              "      <td>4.91</td>\n",
              "      <td>7.93</td>\n",
              "      <td>6.44</td>\n",
              "      <td>35</td>\n",
              "      <td>64.18</td>\n",
              "      <td>372</td>\n",
              "      <td>5.50</td>\n",
              "      <td>4.88</td>\n",
              "      <td>Pacientes tratados mediante anillos</td>\n",
              "    </tr>\n",
              "    <tr>\n",
              "      <th>4</th>\n",
              "      <td>2435</td>\n",
              "      <td>2692</td>\n",
              "      <td>5.25</td>\n",
              "      <td>3.44</td>\n",
              "      <td>4.61</td>\n",
              "      <td>5.25</td>\n",
              "      <td>7.20</td>\n",
              "      <td>5.85</td>\n",
              "      <td>35</td>\n",
              "      <td>64.33</td>\n",
              "      <td>466</td>\n",
              "      <td>0.40</td>\n",
              "      <td>1.02</td>\n",
              "      <td>Pacientes tratados mediante anillos</td>\n",
              "    </tr>\n",
              "    <tr>\n",
              "      <th>5</th>\n",
              "      <td>2527</td>\n",
              "      <td>2641</td>\n",
              "      <td>6.61</td>\n",
              "      <td>4.82</td>\n",
              "      <td>2.47</td>\n",
              "      <td>2.88</td>\n",
              "      <td>8.17</td>\n",
              "      <td>6.61</td>\n",
              "      <td>20</td>\n",
              "      <td>51.06</td>\n",
              "      <td>473</td>\n",
              "      <td>0.61</td>\n",
              "      <td>0.40</td>\n",
              "      <td>Pacientes tratados mediante anillos</td>\n",
              "    </tr>\n",
              "    <tr>\n",
              "      <th>6</th>\n",
              "      <td>2614</td>\n",
              "      <td>2735</td>\n",
              "      <td>6.66</td>\n",
              "      <td>4.87</td>\n",
              "      <td>3.28</td>\n",
              "      <td>3.01</td>\n",
              "      <td>8.03</td>\n",
              "      <td>6.60</td>\n",
              "      <td>79</td>\n",
              "      <td>50.68</td>\n",
              "      <td>502</td>\n",
              "      <td>0.71</td>\n",
              "      <td>1.28</td>\n",
              "      <td>Pacientes tratados mediante anillos</td>\n",
              "    </tr>\n",
              "    <tr>\n",
              "      <th>7</th>\n",
              "      <td>2339</td>\n",
              "      <td>2542</td>\n",
              "      <td>6.37</td>\n",
              "      <td>3.84</td>\n",
              "      <td>2.78</td>\n",
              "      <td>4.63</td>\n",
              "      <td>7.90</td>\n",
              "      <td>6.24</td>\n",
              "      <td>49</td>\n",
              "      <td>52.97</td>\n",
              "      <td>398</td>\n",
              "      <td>0.50</td>\n",
              "      <td>0.15</td>\n",
              "      <td>Pacientes tratados mediante anillos</td>\n",
              "    </tr>\n",
              "    <tr>\n",
              "      <th>8</th>\n",
              "      <td>2695</td>\n",
              "      <td>2665</td>\n",
              "      <td>6.42</td>\n",
              "      <td>4.76</td>\n",
              "      <td>3.35</td>\n",
              "      <td>4.80</td>\n",
              "      <td>7.87</td>\n",
              "      <td>6.57</td>\n",
              "      <td>48</td>\n",
              "      <td>52.61</td>\n",
              "      <td>533</td>\n",
              "      <td>1.92</td>\n",
              "      <td>3.82</td>\n",
              "      <td>Pacientes tratados mediante anillos</td>\n",
              "    </tr>\n",
              "    <tr>\n",
              "      <th>9</th>\n",
              "      <td>2568</td>\n",
              "      <td>2742</td>\n",
              "      <td>5.33</td>\n",
              "      <td>3.25</td>\n",
              "      <td>3.66</td>\n",
              "      <td>4.47</td>\n",
              "      <td>7.51</td>\n",
              "      <td>6.14</td>\n",
              "      <td>75</td>\n",
              "      <td>63.37</td>\n",
              "      <td>414</td>\n",
              "      <td>0.28</td>\n",
              "      <td>0.33</td>\n",
              "      <td>Pacientes tratados mediante anillos</td>\n",
              "    </tr>\n",
              "    <tr>\n",
              "      <th>10</th>\n",
              "      <td>2490</td>\n",
              "      <td>2551</td>\n",
              "      <td>5.85</td>\n",
              "      <td>3.98</td>\n",
              "      <td>3.56</td>\n",
              "      <td>3.48</td>\n",
              "      <td>7.72</td>\n",
              "      <td>6.38</td>\n",
              "      <td>75</td>\n",
              "      <td>57.70</td>\n",
              "      <td>428</td>\n",
              "      <td>0.76</td>\n",
              "      <td>1.08</td>\n",
              "      <td>Pacientes tratados mediante anillos</td>\n",
              "    </tr>\n",
              "    <tr>\n",
              "      <th>11</th>\n",
              "      <td>2601</td>\n",
              "      <td>2657</td>\n",
              "      <td>6.96</td>\n",
              "      <td>4.72</td>\n",
              "      <td>2.22</td>\n",
              "      <td>3.12</td>\n",
              "      <td>8.14</td>\n",
              "      <td>6.68</td>\n",
              "      <td>44</td>\n",
              "      <td>48.49</td>\n",
              "      <td>483</td>\n",
              "      <td>1.34</td>\n",
              "      <td>1.87</td>\n",
              "      <td>Pacientes tratados mediante anillos</td>\n",
              "    </tr>\n",
              "    <tr>\n",
              "      <th>12</th>\n",
              "      <td>2469</td>\n",
              "      <td>2510</td>\n",
              "      <td>5.82</td>\n",
              "      <td>3.61</td>\n",
              "      <td>2.92</td>\n",
              "      <td>4.71</td>\n",
              "      <td>7.55</td>\n",
              "      <td>6.32</td>\n",
              "      <td>42</td>\n",
              "      <td>57.97</td>\n",
              "      <td>453</td>\n",
              "      <td>0.50</td>\n",
              "      <td>0.57</td>\n",
              "      <td>Pacientes tratados mediante anillos</td>\n",
              "    </tr>\n",
              "    <tr>\n",
              "      <th>13</th>\n",
              "      <td>2329</td>\n",
              "      <td>2493</td>\n",
              "      <td>6.52</td>\n",
              "      <td>4.98</td>\n",
              "      <td>2.31</td>\n",
              "      <td>2.76</td>\n",
              "      <td>7.50</td>\n",
              "      <td>6.17</td>\n",
              "      <td>54</td>\n",
              "      <td>51.79</td>\n",
              "      <td>446</td>\n",
              "      <td>2.66</td>\n",
              "      <td>3.66</td>\n",
              "      <td>Pacientes tratados mediante anillos</td>\n",
              "    </tr>\n",
              "    <tr>\n",
              "      <th>14</th>\n",
              "      <td>2581</td>\n",
              "      <td>2622</td>\n",
              "      <td>6.43</td>\n",
              "      <td>4.62</td>\n",
              "      <td>3.42</td>\n",
              "      <td>3.70</td>\n",
              "      <td>8.17</td>\n",
              "      <td>6.63</td>\n",
              "      <td>37</td>\n",
              "      <td>52.49</td>\n",
              "      <td>470</td>\n",
              "      <td>0.82</td>\n",
              "      <td>1.08</td>\n",
              "      <td>Pacientes tratados mediante anillos</td>\n",
              "    </tr>\n",
              "    <tr>\n",
              "      <th>15</th>\n",
              "      <td>2562</td>\n",
              "      <td>2774</td>\n",
              "      <td>6.26</td>\n",
              "      <td>4.65</td>\n",
              "      <td>3.32</td>\n",
              "      <td>5.02</td>\n",
              "      <td>8.00</td>\n",
              "      <td>6.73</td>\n",
              "      <td>52</td>\n",
              "      <td>53.89</td>\n",
              "      <td>478</td>\n",
              "      <td>1.14</td>\n",
              "      <td>1.91</td>\n",
              "      <td>Pacientes tratados mediante anillos</td>\n",
              "    </tr>\n",
              "    <tr>\n",
              "      <th>16</th>\n",
              "      <td>2675</td>\n",
              "      <td>2791</td>\n",
              "      <td>7.17</td>\n",
              "      <td>5.60</td>\n",
              "      <td>2.67</td>\n",
              "      <td>3.36</td>\n",
              "      <td>8.53</td>\n",
              "      <td>7.11</td>\n",
              "      <td>37</td>\n",
              "      <td>47.09</td>\n",
              "      <td>455</td>\n",
              "      <td>0.64</td>\n",
              "      <td>0.56</td>\n",
              "      <td>Pacientes tratados mediante anillos</td>\n",
              "    </tr>\n",
              "    <tr>\n",
              "      <th>17</th>\n",
              "      <td>2528</td>\n",
              "      <td>2459</td>\n",
              "      <td>7.10</td>\n",
              "      <td>5.58</td>\n",
              "      <td>2.82</td>\n",
              "      <td>3.55</td>\n",
              "      <td>8.55</td>\n",
              "      <td>7.07</td>\n",
              "      <td>37</td>\n",
              "      <td>47.56</td>\n",
              "      <td>465</td>\n",
              "      <td>0.22</td>\n",
              "      <td>0.73</td>\n",
              "      <td>Pacientes tratados mediante anillos</td>\n",
              "    </tr>\n",
              "    <tr>\n",
              "      <th>18</th>\n",
              "      <td>2808</td>\n",
              "      <td>2894</td>\n",
              "      <td>6.60</td>\n",
              "      <td>4.63</td>\n",
              "      <td>2.11</td>\n",
              "      <td>3.01</td>\n",
              "      <td>7.67</td>\n",
              "      <td>6.35</td>\n",
              "      <td>59</td>\n",
              "      <td>51.14</td>\n",
              "      <td>496</td>\n",
              "      <td>0.92</td>\n",
              "      <td>0.90</td>\n",
              "      <td>Pacientes tratados mediante anillos</td>\n",
              "    </tr>\n",
              "    <tr>\n",
              "      <th>19</th>\n",
              "      <td>2980</td>\n",
              "      <td>3019</td>\n",
              "      <td>5.42</td>\n",
              "      <td>3.94</td>\n",
              "      <td>4.17</td>\n",
              "      <td>4.96</td>\n",
              "      <td>7.80</td>\n",
              "      <td>6.52</td>\n",
              "      <td>34</td>\n",
              "      <td>62.23</td>\n",
              "      <td>424</td>\n",
              "      <td>1.32</td>\n",
              "      <td>1.98</td>\n",
              "      <td>Pacientes tratados mediante anillos</td>\n",
              "    </tr>\n",
              "    <tr>\n",
              "      <th>20</th>\n",
              "      <td>2695</td>\n",
              "      <td>2738</td>\n",
              "      <td>5.75</td>\n",
              "      <td>4.19</td>\n",
              "      <td>3.90</td>\n",
              "      <td>4.63</td>\n",
              "      <td>8.02</td>\n",
              "      <td>6.70</td>\n",
              "      <td>34</td>\n",
              "      <td>58.72</td>\n",
              "      <td>443</td>\n",
              "      <td>1.43</td>\n",
              "      <td>2.25</td>\n",
              "      <td>Pacientes tratados mediante anillos</td>\n",
              "    </tr>\n",
              "    <tr>\n",
              "      <th>21</th>\n",
              "      <td>3049</td>\n",
              "      <td>3128</td>\n",
              "      <td>6.33</td>\n",
              "      <td>4.87</td>\n",
              "      <td>2.68</td>\n",
              "      <td>2.58</td>\n",
              "      <td>7.84</td>\n",
              "      <td>6.41</td>\n",
              "      <td>41</td>\n",
              "      <td>53.30</td>\n",
              "      <td>606</td>\n",
              "      <td>1.41</td>\n",
              "      <td>1.63</td>\n",
              "      <td>Pacientes tratados mediante anillos</td>\n",
              "    </tr>\n",
              "    <tr>\n",
              "      <th>22</th>\n",
              "      <td>2778</td>\n",
              "      <td>2853</td>\n",
              "      <td>5.42</td>\n",
              "      <td>3.72</td>\n",
              "      <td>3.14</td>\n",
              "      <td>3.94</td>\n",
              "      <td>7.40</td>\n",
              "      <td>6.11</td>\n",
              "      <td>64</td>\n",
              "      <td>62.33</td>\n",
              "      <td>452</td>\n",
              "      <td>0.36</td>\n",
              "      <td>0.68</td>\n",
              "      <td>Pacientes tratados mediante anillos</td>\n",
              "    </tr>\n",
              "    <tr>\n",
              "      <th>23</th>\n",
              "      <td>2413</td>\n",
              "      <td>2523</td>\n",
              "      <td>5.72</td>\n",
              "      <td>3.85</td>\n",
              "      <td>3.07</td>\n",
              "      <td>3.50</td>\n",
              "      <td>7.81</td>\n",
              "      <td>6.23</td>\n",
              "      <td>23</td>\n",
              "      <td>59.03</td>\n",
              "      <td>473</td>\n",
              "      <td>1.03</td>\n",
              "      <td>0.92</td>\n",
              "      <td>Pacientes tratados mediante anillos</td>\n",
              "    </tr>\n",
              "    <tr>\n",
              "      <th>24</th>\n",
              "      <td>2385</td>\n",
              "      <td>2628</td>\n",
              "      <td>5.19</td>\n",
              "      <td>3.55</td>\n",
              "      <td>3.59</td>\n",
              "      <td>4.55</td>\n",
              "      <td>7.69</td>\n",
              "      <td>6.18</td>\n",
              "      <td>23</td>\n",
              "      <td>65.07</td>\n",
              "      <td>462</td>\n",
              "      <td>0.73</td>\n",
              "      <td>1.02</td>\n",
              "      <td>Pacientes tratados mediante anillos</td>\n",
              "    </tr>\n",
              "    <tr>\n",
              "      <th>25</th>\n",
              "      <td>2492</td>\n",
              "      <td>2638</td>\n",
              "      <td>5.23</td>\n",
              "      <td>3.45</td>\n",
              "      <td>3.58</td>\n",
              "      <td>4.51</td>\n",
              "      <td>7.70</td>\n",
              "      <td>6.16</td>\n",
              "      <td>23</td>\n",
              "      <td>64.53</td>\n",
              "      <td>454</td>\n",
              "      <td>0.86</td>\n",
              "      <td>0.60</td>\n",
              "      <td>Pacientes tratados mediante anillos</td>\n",
              "    </tr>\n",
              "    <tr>\n",
              "      <th>26</th>\n",
              "      <td>2754</td>\n",
              "      <td>2929</td>\n",
              "      <td>7.52</td>\n",
              "      <td>6.12</td>\n",
              "      <td>1.55</td>\n",
              "      <td>1.24</td>\n",
              "      <td>8.08</td>\n",
              "      <td>6.66</td>\n",
              "      <td>39</td>\n",
              "      <td>44.91</td>\n",
              "      <td>539</td>\n",
              "      <td>3.35</td>\n",
              "      <td>2.36</td>\n",
              "      <td>Pacientes tratados mediante anillos</td>\n",
              "    </tr>\n",
              "    <tr>\n",
              "      <th>27</th>\n",
              "      <td>2426</td>\n",
              "      <td>2463</td>\n",
              "      <td>5.60</td>\n",
              "      <td>3.59</td>\n",
              "      <td>3.30</td>\n",
              "      <td>4.53</td>\n",
              "      <td>7.65</td>\n",
              "      <td>6.10</td>\n",
              "      <td>25</td>\n",
              "      <td>60.29</td>\n",
              "      <td>490</td>\n",
              "      <td>0.22</td>\n",
              "      <td>0.45</td>\n",
              "      <td>Pacientes tratados mediante anillos</td>\n",
              "    </tr>\n",
              "    <tr>\n",
              "      <th>28</th>\n",
              "      <td>2895</td>\n",
              "      <td>2785</td>\n",
              "      <td>6.13</td>\n",
              "      <td>4.93</td>\n",
              "      <td>2.80</td>\n",
              "      <td>2.39</td>\n",
              "      <td>7.28</td>\n",
              "      <td>6.00</td>\n",
              "      <td>37</td>\n",
              "      <td>55.02</td>\n",
              "      <td>399</td>\n",
              "      <td>2.83</td>\n",
              "      <td>1.25</td>\n",
              "      <td>Pacientes tratados mediante anillos</td>\n",
              "    </tr>\n",
              "    <tr>\n",
              "      <th>29</th>\n",
              "      <td>2818</td>\n",
              "      <td>2915</td>\n",
              "      <td>4.99</td>\n",
              "      <td>3.41</td>\n",
              "      <td>4.61</td>\n",
              "      <td>5.36</td>\n",
              "      <td>7.43</td>\n",
              "      <td>6.17</td>\n",
              "      <td>38</td>\n",
              "      <td>67.70</td>\n",
              "      <td>378</td>\n",
              "      <td>0.36</td>\n",
              "      <td>1.06</td>\n",
              "      <td>Pacientes tratados mediante anillos</td>\n",
              "    </tr>\n",
              "    <tr>\n",
              "      <th>...</th>\n",
              "      <td>...</td>\n",
              "      <td>...</td>\n",
              "      <td>...</td>\n",
              "      <td>...</td>\n",
              "      <td>...</td>\n",
              "      <td>...</td>\n",
              "      <td>...</td>\n",
              "      <td>...</td>\n",
              "      <td>...</td>\n",
              "      <td>...</td>\n",
              "      <td>...</td>\n",
              "      <td>...</td>\n",
              "      <td>...</td>\n",
              "      <td>...</td>\n",
              "    </tr>\n",
              "    <tr>\n",
              "      <th>431</th>\n",
              "      <td>2529</td>\n",
              "      <td>2622</td>\n",
              "      <td>6.78</td>\n",
              "      <td>5.10</td>\n",
              "      <td>1.95</td>\n",
              "      <td>2.15</td>\n",
              "      <td>7.72</td>\n",
              "      <td>6.27</td>\n",
              "      <td>49</td>\n",
              "      <td>49.80</td>\n",
              "      <td>513</td>\n",
              "      <td>0.92</td>\n",
              "      <td>1.70</td>\n",
              "      <td>Pacientes sin operar</td>\n",
              "    </tr>\n",
              "    <tr>\n",
              "      <th>432</th>\n",
              "      <td>2415</td>\n",
              "      <td>2510</td>\n",
              "      <td>7.71</td>\n",
              "      <td>6.20</td>\n",
              "      <td>1.50</td>\n",
              "      <td>1.38</td>\n",
              "      <td>8.23</td>\n",
              "      <td>6.74</td>\n",
              "      <td>43</td>\n",
              "      <td>43.79</td>\n",
              "      <td>527</td>\n",
              "      <td>2.38</td>\n",
              "      <td>3.28</td>\n",
              "      <td>Pacientes sin operar</td>\n",
              "    </tr>\n",
              "    <tr>\n",
              "      <th>433</th>\n",
              "      <td>2359</td>\n",
              "      <td>2550</td>\n",
              "      <td>6.55</td>\n",
              "      <td>5.08</td>\n",
              "      <td>2.69</td>\n",
              "      <td>2.93</td>\n",
              "      <td>7.59</td>\n",
              "      <td>6.30</td>\n",
              "      <td>63</td>\n",
              "      <td>51.55</td>\n",
              "      <td>467</td>\n",
              "      <td>1.21</td>\n",
              "      <td>0.85</td>\n",
              "      <td>Pacientes sin operar</td>\n",
              "    </tr>\n",
              "    <tr>\n",
              "      <th>434</th>\n",
              "      <td>2763</td>\n",
              "      <td>2762</td>\n",
              "      <td>7.00</td>\n",
              "      <td>5.20</td>\n",
              "      <td>1.53</td>\n",
              "      <td>2.26</td>\n",
              "      <td>7.67</td>\n",
              "      <td>6.30</td>\n",
              "      <td>34</td>\n",
              "      <td>48.22</td>\n",
              "      <td>486</td>\n",
              "      <td>0.86</td>\n",
              "      <td>1.02</td>\n",
              "      <td>Pacientes sin operar</td>\n",
              "    </tr>\n",
              "    <tr>\n",
              "      <th>435</th>\n",
              "      <td>2452</td>\n",
              "      <td>2634</td>\n",
              "      <td>7.29</td>\n",
              "      <td>5.32</td>\n",
              "      <td>2.26</td>\n",
              "      <td>2.41</td>\n",
              "      <td>8.45</td>\n",
              "      <td>6.67</td>\n",
              "      <td>42</td>\n",
              "      <td>46.29</td>\n",
              "      <td>484</td>\n",
              "      <td>1.04</td>\n",
              "      <td>0.82</td>\n",
              "      <td>Pacientes sin operar</td>\n",
              "    </tr>\n",
              "    <tr>\n",
              "      <th>436</th>\n",
              "      <td>2294</td>\n",
              "      <td>2327</td>\n",
              "      <td>6.95</td>\n",
              "      <td>4.85</td>\n",
              "      <td>2.51</td>\n",
              "      <td>3.15</td>\n",
              "      <td>8.20</td>\n",
              "      <td>6.78</td>\n",
              "      <td>62</td>\n",
              "      <td>48.54</td>\n",
              "      <td>492</td>\n",
              "      <td>1.10</td>\n",
              "      <td>1.41</td>\n",
              "      <td>Pacientes sin operar</td>\n",
              "    </tr>\n",
              "    <tr>\n",
              "      <th>437</th>\n",
              "      <td>2842</td>\n",
              "      <td>2933</td>\n",
              "      <td>5.24</td>\n",
              "      <td>3.50</td>\n",
              "      <td>4.20</td>\n",
              "      <td>4.51</td>\n",
              "      <td>7.40</td>\n",
              "      <td>6.03</td>\n",
              "      <td>38</td>\n",
              "      <td>64.39</td>\n",
              "      <td>404</td>\n",
              "      <td>0.14</td>\n",
              "      <td>0.96</td>\n",
              "      <td>Pacientes sin operar</td>\n",
              "    </tr>\n",
              "    <tr>\n",
              "      <th>438</th>\n",
              "      <td>2538</td>\n",
              "      <td>2677</td>\n",
              "      <td>6.74</td>\n",
              "      <td>5.00</td>\n",
              "      <td>2.20</td>\n",
              "      <td>2.75</td>\n",
              "      <td>7.86</td>\n",
              "      <td>6.42</td>\n",
              "      <td>38</td>\n",
              "      <td>50.10</td>\n",
              "      <td>486</td>\n",
              "      <td>1.49</td>\n",
              "      <td>2.08</td>\n",
              "      <td>Pacientes sin operar</td>\n",
              "    </tr>\n",
              "    <tr>\n",
              "      <th>439</th>\n",
              "      <td>2363</td>\n",
              "      <td>2610</td>\n",
              "      <td>6.60</td>\n",
              "      <td>4.91</td>\n",
              "      <td>2.00</td>\n",
              "      <td>2.50</td>\n",
              "      <td>7.63</td>\n",
              "      <td>6.21</td>\n",
              "      <td>39</td>\n",
              "      <td>51.16</td>\n",
              "      <td>486</td>\n",
              "      <td>0.92</td>\n",
              "      <td>0.36</td>\n",
              "      <td>Pacientes sin operar</td>\n",
              "    </tr>\n",
              "    <tr>\n",
              "      <th>440</th>\n",
              "      <td>2439</td>\n",
              "      <td>2625</td>\n",
              "      <td>6.93</td>\n",
              "      <td>5.13</td>\n",
              "      <td>2.12</td>\n",
              "      <td>2.15</td>\n",
              "      <td>7.71</td>\n",
              "      <td>6.22</td>\n",
              "      <td>39</td>\n",
              "      <td>48.69</td>\n",
              "      <td>492</td>\n",
              "      <td>0.64</td>\n",
              "      <td>0.28</td>\n",
              "      <td>Pacientes sin operar</td>\n",
              "    </tr>\n",
              "    <tr>\n",
              "      <th>441</th>\n",
              "      <td>2921</td>\n",
              "      <td>2996</td>\n",
              "      <td>6.96</td>\n",
              "      <td>5.32</td>\n",
              "      <td>2.01</td>\n",
              "      <td>2.47</td>\n",
              "      <td>8.02</td>\n",
              "      <td>6.66</td>\n",
              "      <td>36</td>\n",
              "      <td>48.48</td>\n",
              "      <td>414</td>\n",
              "      <td>2.25</td>\n",
              "      <td>3.58</td>\n",
              "      <td>Pacientes sin operar</td>\n",
              "    </tr>\n",
              "    <tr>\n",
              "      <th>442</th>\n",
              "      <td>2979</td>\n",
              "      <td>3137</td>\n",
              "      <td>6.59</td>\n",
              "      <td>4.74</td>\n",
              "      <td>2.85</td>\n",
              "      <td>2.63</td>\n",
              "      <td>7.80</td>\n",
              "      <td>6.20</td>\n",
              "      <td>57</td>\n",
              "      <td>51.28</td>\n",
              "      <td>460</td>\n",
              "      <td>0.95</td>\n",
              "      <td>0.12</td>\n",
              "      <td>Pacientes sin operar</td>\n",
              "    </tr>\n",
              "    <tr>\n",
              "      <th>443</th>\n",
              "      <td>2763</td>\n",
              "      <td>3011</td>\n",
              "      <td>7.40</td>\n",
              "      <td>5.08</td>\n",
              "      <td>3.08</td>\n",
              "      <td>2.21</td>\n",
              "      <td>8.02</td>\n",
              "      <td>6.35</td>\n",
              "      <td>57</td>\n",
              "      <td>45.61</td>\n",
              "      <td>484</td>\n",
              "      <td>5.19</td>\n",
              "      <td>5.41</td>\n",
              "      <td>Pacientes sin operar</td>\n",
              "    </tr>\n",
              "    <tr>\n",
              "      <th>444</th>\n",
              "      <td>2804</td>\n",
              "      <td>2681</td>\n",
              "      <td>5.86</td>\n",
              "      <td>4.35</td>\n",
              "      <td>3.04</td>\n",
              "      <td>3.56</td>\n",
              "      <td>7.64</td>\n",
              "      <td>6.40</td>\n",
              "      <td>31</td>\n",
              "      <td>57.57</td>\n",
              "      <td>450</td>\n",
              "      <td>1.39</td>\n",
              "      <td>2.22</td>\n",
              "      <td>Pacientes sin operar</td>\n",
              "    </tr>\n",
              "    <tr>\n",
              "      <th>445</th>\n",
              "      <td>3018</td>\n",
              "      <td>3047</td>\n",
              "      <td>7.05</td>\n",
              "      <td>5.45</td>\n",
              "      <td>1.62</td>\n",
              "      <td>2.04</td>\n",
              "      <td>7.77</td>\n",
              "      <td>6.45</td>\n",
              "      <td>36</td>\n",
              "      <td>47.86</td>\n",
              "      <td>477</td>\n",
              "      <td>1.78</td>\n",
              "      <td>1.87</td>\n",
              "      <td>Pacientes sin operar</td>\n",
              "    </tr>\n",
              "    <tr>\n",
              "      <th>446</th>\n",
              "      <td>2780</td>\n",
              "      <td>2895</td>\n",
              "      <td>6.76</td>\n",
              "      <td>5.25</td>\n",
              "      <td>2.30</td>\n",
              "      <td>2.32</td>\n",
              "      <td>7.68</td>\n",
              "      <td>6.24</td>\n",
              "      <td>39</td>\n",
              "      <td>49.96</td>\n",
              "      <td>488</td>\n",
              "      <td>2.34</td>\n",
              "      <td>2.63</td>\n",
              "      <td>Pacientes sin operar</td>\n",
              "    </tr>\n",
              "    <tr>\n",
              "      <th>447</th>\n",
              "      <td>4071</td>\n",
              "      <td>4292</td>\n",
              "      <td>6.60</td>\n",
              "      <td>5.00</td>\n",
              "      <td>2.84</td>\n",
              "      <td>2.94</td>\n",
              "      <td>7.94</td>\n",
              "      <td>6.49</td>\n",
              "      <td>59</td>\n",
              "      <td>51.17</td>\n",
              "      <td>466</td>\n",
              "      <td>1.64</td>\n",
              "      <td>1.84</td>\n",
              "      <td>Pacientes sin operar</td>\n",
              "    </tr>\n",
              "    <tr>\n",
              "      <th>448</th>\n",
              "      <td>2916</td>\n",
              "      <td>3000</td>\n",
              "      <td>6.32</td>\n",
              "      <td>4.57</td>\n",
              "      <td>2.09</td>\n",
              "      <td>2.88</td>\n",
              "      <td>7.47</td>\n",
              "      <td>6.15</td>\n",
              "      <td>45</td>\n",
              "      <td>53.42</td>\n",
              "      <td>421</td>\n",
              "      <td>0.71</td>\n",
              "      <td>0.36</td>\n",
              "      <td>Pacientes sin operar</td>\n",
              "    </tr>\n",
              "    <tr>\n",
              "      <th>449</th>\n",
              "      <td>3162</td>\n",
              "      <td>3223</td>\n",
              "      <td>6.79</td>\n",
              "      <td>5.22</td>\n",
              "      <td>1.81</td>\n",
              "      <td>2.34</td>\n",
              "      <td>7.54</td>\n",
              "      <td>6.24</td>\n",
              "      <td>45</td>\n",
              "      <td>49.69</td>\n",
              "      <td>453</td>\n",
              "      <td>1.42</td>\n",
              "      <td>2.01</td>\n",
              "      <td>Pacientes sin operar</td>\n",
              "    </tr>\n",
              "    <tr>\n",
              "      <th>450</th>\n",
              "      <td>2709</td>\n",
              "      <td>2905</td>\n",
              "      <td>6.99</td>\n",
              "      <td>5.31</td>\n",
              "      <td>2.22</td>\n",
              "      <td>2.31</td>\n",
              "      <td>7.93</td>\n",
              "      <td>6.38</td>\n",
              "      <td>47</td>\n",
              "      <td>48.30</td>\n",
              "      <td>435</td>\n",
              "      <td>1.78</td>\n",
              "      <td>2.06</td>\n",
              "      <td>Pacientes sin operar</td>\n",
              "    </tr>\n",
              "    <tr>\n",
              "      <th>451</th>\n",
              "      <td>2823</td>\n",
              "      <td>2854</td>\n",
              "      <td>7.08</td>\n",
              "      <td>5.36</td>\n",
              "      <td>1.26</td>\n",
              "      <td>1.65</td>\n",
              "      <td>7.56</td>\n",
              "      <td>6.16</td>\n",
              "      <td>35</td>\n",
              "      <td>47.65</td>\n",
              "      <td>536</td>\n",
              "      <td>2.05</td>\n",
              "      <td>2.86</td>\n",
              "      <td>Pacientes sin operar</td>\n",
              "    </tr>\n",
              "    <tr>\n",
              "      <th>452</th>\n",
              "      <td>2404</td>\n",
              "      <td>2565</td>\n",
              "      <td>7.31</td>\n",
              "      <td>5.71</td>\n",
              "      <td>1.80</td>\n",
              "      <td>2.17</td>\n",
              "      <td>8.05</td>\n",
              "      <td>6.61</td>\n",
              "      <td>49</td>\n",
              "      <td>46.17</td>\n",
              "      <td>486</td>\n",
              "      <td>0.51</td>\n",
              "      <td>0.91</td>\n",
              "      <td>Pacientes sin operar</td>\n",
              "    </tr>\n",
              "    <tr>\n",
              "      <th>453</th>\n",
              "      <td>2484</td>\n",
              "      <td>2714</td>\n",
              "      <td>6.42</td>\n",
              "      <td>4.69</td>\n",
              "      <td>2.57</td>\n",
              "      <td>3.41</td>\n",
              "      <td>7.90</td>\n",
              "      <td>6.48</td>\n",
              "      <td>49</td>\n",
              "      <td>52.59</td>\n",
              "      <td>471</td>\n",
              "      <td>0.67</td>\n",
              "      <td>0.30</td>\n",
              "      <td>Pacientes sin operar</td>\n",
              "    </tr>\n",
              "    <tr>\n",
              "      <th>454</th>\n",
              "      <td>3207</td>\n",
              "      <td>3378</td>\n",
              "      <td>6.21</td>\n",
              "      <td>4.53</td>\n",
              "      <td>2.88</td>\n",
              "      <td>3.08</td>\n",
              "      <td>7.50</td>\n",
              "      <td>6.16</td>\n",
              "      <td>41</td>\n",
              "      <td>54.34</td>\n",
              "      <td>440</td>\n",
              "      <td>1.36</td>\n",
              "      <td>1.20</td>\n",
              "      <td>Pacientes sin operar</td>\n",
              "    </tr>\n",
              "    <tr>\n",
              "      <th>455</th>\n",
              "      <td>2520</td>\n",
              "      <td>2583</td>\n",
              "      <td>6.30</td>\n",
              "      <td>4.84</td>\n",
              "      <td>3.12</td>\n",
              "      <td>3.08</td>\n",
              "      <td>7.82</td>\n",
              "      <td>6.50</td>\n",
              "      <td>27</td>\n",
              "      <td>53.58</td>\n",
              "      <td>458</td>\n",
              "      <td>1.25</td>\n",
              "      <td>1.60</td>\n",
              "      <td>Pacientes sin operar</td>\n",
              "    </tr>\n",
              "    <tr>\n",
              "      <th>456</th>\n",
              "      <td>3560</td>\n",
              "      <td>3971</td>\n",
              "      <td>6.84</td>\n",
              "      <td>5.05</td>\n",
              "      <td>2.66</td>\n",
              "      <td>3.07</td>\n",
              "      <td>7.78</td>\n",
              "      <td>6.51</td>\n",
              "      <td>63</td>\n",
              "      <td>49.32</td>\n",
              "      <td>525</td>\n",
              "      <td>1.40</td>\n",
              "      <td>2.10</td>\n",
              "      <td>Pacientes sin operar</td>\n",
              "    </tr>\n",
              "    <tr>\n",
              "      <th>457</th>\n",
              "      <td>3047</td>\n",
              "      <td>3408</td>\n",
              "      <td>6.17</td>\n",
              "      <td>4.50</td>\n",
              "      <td>2.89</td>\n",
              "      <td>3.70</td>\n",
              "      <td>7.58</td>\n",
              "      <td>6.14</td>\n",
              "      <td>63</td>\n",
              "      <td>54.70</td>\n",
              "      <td>525</td>\n",
              "      <td>2.30</td>\n",
              "      <td>2.70</td>\n",
              "      <td>Pacientes sin operar</td>\n",
              "    </tr>\n",
              "    <tr>\n",
              "      <th>458</th>\n",
              "      <td>3191</td>\n",
              "      <td>3189</td>\n",
              "      <td>7.01</td>\n",
              "      <td>5.10</td>\n",
              "      <td>2.27</td>\n",
              "      <td>2.88</td>\n",
              "      <td>7.95</td>\n",
              "      <td>6.68</td>\n",
              "      <td>68</td>\n",
              "      <td>48.16</td>\n",
              "      <td>495</td>\n",
              "      <td>1.12</td>\n",
              "      <td>2.00</td>\n",
              "      <td>Pacientes sin operar</td>\n",
              "    </tr>\n",
              "    <tr>\n",
              "      <th>459</th>\n",
              "      <td>2548</td>\n",
              "      <td>2710</td>\n",
              "      <td>6.45</td>\n",
              "      <td>4.46</td>\n",
              "      <td>2.86</td>\n",
              "      <td>3.16</td>\n",
              "      <td>8.18</td>\n",
              "      <td>6.58</td>\n",
              "      <td>39</td>\n",
              "      <td>52.33</td>\n",
              "      <td>552</td>\n",
              "      <td>0.41</td>\n",
              "      <td>0.51</td>\n",
              "      <td>Pacientes sin operar</td>\n",
              "    </tr>\n",
              "    <tr>\n",
              "      <th>460</th>\n",
              "      <td>2832</td>\n",
              "      <td>3167</td>\n",
              "      <td>6.30</td>\n",
              "      <td>4.54</td>\n",
              "      <td>3.20</td>\n",
              "      <td>4.87</td>\n",
              "      <td>7.85</td>\n",
              "      <td>6.51</td>\n",
              "      <td>55</td>\n",
              "      <td>53.58</td>\n",
              "      <td>482</td>\n",
              "      <td>1.17</td>\n",
              "      <td>2.34</td>\n",
              "      <td>Pacientes sin operar</td>\n",
              "    </tr>\n",
              "  </tbody>\n",
              "</table>\n",
              "<p>461 rows × 14 columns</p>\n",
              "</div>"
            ],
            "text/plain": [
              "     Max Depth Front  ...                            Treatment\n",
              "0               2590  ...  Pacientes tratados mediante anillos\n",
              "1               2432  ...  Pacientes tratados mediante anillos\n",
              "2               2833  ...  Pacientes tratados mediante anillos\n",
              "3               3101  ...  Pacientes tratados mediante anillos\n",
              "4               2435  ...  Pacientes tratados mediante anillos\n",
              "5               2527  ...  Pacientes tratados mediante anillos\n",
              "6               2614  ...  Pacientes tratados mediante anillos\n",
              "7               2339  ...  Pacientes tratados mediante anillos\n",
              "8               2695  ...  Pacientes tratados mediante anillos\n",
              "9               2568  ...  Pacientes tratados mediante anillos\n",
              "10              2490  ...  Pacientes tratados mediante anillos\n",
              "11              2601  ...  Pacientes tratados mediante anillos\n",
              "12              2469  ...  Pacientes tratados mediante anillos\n",
              "13              2329  ...  Pacientes tratados mediante anillos\n",
              "14              2581  ...  Pacientes tratados mediante anillos\n",
              "15              2562  ...  Pacientes tratados mediante anillos\n",
              "16              2675  ...  Pacientes tratados mediante anillos\n",
              "17              2528  ...  Pacientes tratados mediante anillos\n",
              "18              2808  ...  Pacientes tratados mediante anillos\n",
              "19              2980  ...  Pacientes tratados mediante anillos\n",
              "20              2695  ...  Pacientes tratados mediante anillos\n",
              "21              3049  ...  Pacientes tratados mediante anillos\n",
              "22              2778  ...  Pacientes tratados mediante anillos\n",
              "23              2413  ...  Pacientes tratados mediante anillos\n",
              "24              2385  ...  Pacientes tratados mediante anillos\n",
              "25              2492  ...  Pacientes tratados mediante anillos\n",
              "26              2754  ...  Pacientes tratados mediante anillos\n",
              "27              2426  ...  Pacientes tratados mediante anillos\n",
              "28              2895  ...  Pacientes tratados mediante anillos\n",
              "29              2818  ...  Pacientes tratados mediante anillos\n",
              "..               ...  ...                                  ...\n",
              "431             2529  ...                 Pacientes sin operar\n",
              "432             2415  ...                 Pacientes sin operar\n",
              "433             2359  ...                 Pacientes sin operar\n",
              "434             2763  ...                 Pacientes sin operar\n",
              "435             2452  ...                 Pacientes sin operar\n",
              "436             2294  ...                 Pacientes sin operar\n",
              "437             2842  ...                 Pacientes sin operar\n",
              "438             2538  ...                 Pacientes sin operar\n",
              "439             2363  ...                 Pacientes sin operar\n",
              "440             2439  ...                 Pacientes sin operar\n",
              "441             2921  ...                 Pacientes sin operar\n",
              "442             2979  ...                 Pacientes sin operar\n",
              "443             2763  ...                 Pacientes sin operar\n",
              "444             2804  ...                 Pacientes sin operar\n",
              "445             3018  ...                 Pacientes sin operar\n",
              "446             2780  ...                 Pacientes sin operar\n",
              "447             4071  ...                 Pacientes sin operar\n",
              "448             2916  ...                 Pacientes sin operar\n",
              "449             3162  ...                 Pacientes sin operar\n",
              "450             2709  ...                 Pacientes sin operar\n",
              "451             2823  ...                 Pacientes sin operar\n",
              "452             2404  ...                 Pacientes sin operar\n",
              "453             2484  ...                 Pacientes sin operar\n",
              "454             3207  ...                 Pacientes sin operar\n",
              "455             2520  ...                 Pacientes sin operar\n",
              "456             3560  ...                 Pacientes sin operar\n",
              "457             3047  ...                 Pacientes sin operar\n",
              "458             3191  ...                 Pacientes sin operar\n",
              "459             2548  ...                 Pacientes sin operar\n",
              "460             2832  ...                 Pacientes sin operar\n",
              "\n",
              "[461 rows x 14 columns]"
            ]
          },
          "metadata": {
            "tags": []
          },
          "execution_count": 75
        }
      ]
    },
    {
      "cell_type": "markdown",
      "metadata": {
        "colab_type": "text",
        "id": "aztjeb8ic2ee"
      },
      "source": [
        "Como podemos ver existe correlación entre las elevaciones y las curvaturas máximas entre la cara anterior y posterior."
      ]
    },
    {
      "cell_type": "code",
      "metadata": {
        "colab_type": "code",
        "id": "YyjmOeRBc2ee",
        "outputId": "8748b119-692c-479b-9385-85755c03deb1",
        "colab": {
          "base_uri": "https://localhost:8080/",
          "height": 585
        }
      },
      "source": [
        "eye_df.corr()"
      ],
      "execution_count": 76,
      "outputs": [
        {
          "output_type": "execute_result",
          "data": {
            "text/html": [
              "<div>\n",
              "<style scoped>\n",
              "    .dataframe tbody tr th:only-of-type {\n",
              "        vertical-align: middle;\n",
              "    }\n",
              "\n",
              "    .dataframe tbody tr th {\n",
              "        vertical-align: top;\n",
              "    }\n",
              "\n",
              "    .dataframe thead th {\n",
              "        text-align: right;\n",
              "    }\n",
              "</style>\n",
              "<table border=\"1\" class=\"dataframe\">\n",
              "  <thead>\n",
              "    <tr style=\"text-align: right;\">\n",
              "      <th></th>\n",
              "      <th>Max Depth Front</th>\n",
              "      <th>Max Depth Back</th>\n",
              "      <th>Max Curve Front</th>\n",
              "      <th>Max Curve Back</th>\n",
              "      <th>Max Variation Curve Front</th>\n",
              "      <th>Max Variation Curve Back</th>\n",
              "      <th>Mean Curve Front</th>\n",
              "      <th>Mean Curve Back</th>\n",
              "      <th>Age</th>\n",
              "      <th>K Max</th>\n",
              "      <th>Paqui Min</th>\n",
              "      <th>Distance Between Max Curve and Min Paqui</th>\n",
              "      <th>Position of Most Curve Point Relative to Center</th>\n",
              "    </tr>\n",
              "  </thead>\n",
              "  <tbody>\n",
              "    <tr>\n",
              "      <th>Max Depth Front</th>\n",
              "      <td>1.000000</td>\n",
              "      <td>0.918769</td>\n",
              "      <td>0.148906</td>\n",
              "      <td>0.180076</td>\n",
              "      <td>-0.101847</td>\n",
              "      <td>-0.177493</td>\n",
              "      <td>-0.008407</td>\n",
              "      <td>0.015985</td>\n",
              "      <td>0.038626</td>\n",
              "      <td>-0.166420</td>\n",
              "      <td>0.007536</td>\n",
              "      <td>0.099422</td>\n",
              "      <td>0.130465</td>\n",
              "    </tr>\n",
              "    <tr>\n",
              "      <th>Max Depth Back</th>\n",
              "      <td>0.918769</td>\n",
              "      <td>1.000000</td>\n",
              "      <td>0.135230</td>\n",
              "      <td>0.146079</td>\n",
              "      <td>-0.076268</td>\n",
              "      <td>-0.140805</td>\n",
              "      <td>-0.028989</td>\n",
              "      <td>-0.052281</td>\n",
              "      <td>0.045135</td>\n",
              "      <td>-0.140972</td>\n",
              "      <td>-0.008846</td>\n",
              "      <td>0.137598</td>\n",
              "      <td>0.141763</td>\n",
              "    </tr>\n",
              "    <tr>\n",
              "      <th>Max Curve Front</th>\n",
              "      <td>0.148906</td>\n",
              "      <td>0.135230</td>\n",
              "      <td>1.000000</td>\n",
              "      <td>0.931793</td>\n",
              "      <td>-0.744736</td>\n",
              "      <td>-0.435254</td>\n",
              "      <td>0.539516</td>\n",
              "      <td>0.518290</td>\n",
              "      <td>0.160518</td>\n",
              "      <td>-0.983708</td>\n",
              "      <td>0.556916</td>\n",
              "      <td>0.020488</td>\n",
              "      <td>0.055171</td>\n",
              "    </tr>\n",
              "    <tr>\n",
              "      <th>Max Curve Back</th>\n",
              "      <td>0.180076</td>\n",
              "      <td>0.146079</td>\n",
              "      <td>0.931793</td>\n",
              "      <td>1.000000</td>\n",
              "      <td>-0.675757</td>\n",
              "      <td>-0.485264</td>\n",
              "      <td>0.483655</td>\n",
              "      <td>0.519664</td>\n",
              "      <td>0.129078</td>\n",
              "      <td>-0.909349</td>\n",
              "      <td>0.544147</td>\n",
              "      <td>0.073439</td>\n",
              "      <td>0.134985</td>\n",
              "    </tr>\n",
              "    <tr>\n",
              "      <th>Max Variation Curve Front</th>\n",
              "      <td>-0.101847</td>\n",
              "      <td>-0.076268</td>\n",
              "      <td>-0.744736</td>\n",
              "      <td>-0.675757</td>\n",
              "      <td>1.000000</td>\n",
              "      <td>0.438443</td>\n",
              "      <td>-0.169504</td>\n",
              "      <td>-0.189050</td>\n",
              "      <td>-0.033004</td>\n",
              "      <td>0.740876</td>\n",
              "      <td>-0.443434</td>\n",
              "      <td>0.340081</td>\n",
              "      <td>0.306191</td>\n",
              "    </tr>\n",
              "    <tr>\n",
              "      <th>Max Variation Curve Back</th>\n",
              "      <td>-0.177493</td>\n",
              "      <td>-0.140805</td>\n",
              "      <td>-0.435254</td>\n",
              "      <td>-0.485264</td>\n",
              "      <td>0.438443</td>\n",
              "      <td>1.000000</td>\n",
              "      <td>-0.148551</td>\n",
              "      <td>-0.031054</td>\n",
              "      <td>-0.015036</td>\n",
              "      <td>0.425902</td>\n",
              "      <td>-0.194438</td>\n",
              "      <td>0.131606</td>\n",
              "      <td>-0.000394</td>\n",
              "    </tr>\n",
              "    <tr>\n",
              "      <th>Mean Curve Front</th>\n",
              "      <td>-0.008407</td>\n",
              "      <td>-0.028989</td>\n",
              "      <td>0.539516</td>\n",
              "      <td>0.483655</td>\n",
              "      <td>-0.169504</td>\n",
              "      <td>-0.148551</td>\n",
              "      <td>1.000000</td>\n",
              "      <td>0.896174</td>\n",
              "      <td>-0.140134</td>\n",
              "      <td>-0.526604</td>\n",
              "      <td>0.360344</td>\n",
              "      <td>0.115398</td>\n",
              "      <td>0.135702</td>\n",
              "    </tr>\n",
              "    <tr>\n",
              "      <th>Mean Curve Back</th>\n",
              "      <td>0.015985</td>\n",
              "      <td>-0.052281</td>\n",
              "      <td>0.518290</td>\n",
              "      <td>0.519664</td>\n",
              "      <td>-0.189050</td>\n",
              "      <td>-0.031054</td>\n",
              "      <td>0.896174</td>\n",
              "      <td>1.000000</td>\n",
              "      <td>-0.023933</td>\n",
              "      <td>-0.505723</td>\n",
              "      <td>0.309405</td>\n",
              "      <td>0.108834</td>\n",
              "      <td>0.163733</td>\n",
              "    </tr>\n",
              "    <tr>\n",
              "      <th>Age</th>\n",
              "      <td>0.038626</td>\n",
              "      <td>0.045135</td>\n",
              "      <td>0.160518</td>\n",
              "      <td>0.129078</td>\n",
              "      <td>-0.033004</td>\n",
              "      <td>-0.015036</td>\n",
              "      <td>-0.140134</td>\n",
              "      <td>-0.023933</td>\n",
              "      <td>1.000000</td>\n",
              "      <td>-0.168898</td>\n",
              "      <td>0.070463</td>\n",
              "      <td>0.089815</td>\n",
              "      <td>0.101973</td>\n",
              "    </tr>\n",
              "    <tr>\n",
              "      <th>K Max</th>\n",
              "      <td>-0.166420</td>\n",
              "      <td>-0.140972</td>\n",
              "      <td>-0.983708</td>\n",
              "      <td>-0.909349</td>\n",
              "      <td>0.740876</td>\n",
              "      <td>0.425902</td>\n",
              "      <td>-0.526604</td>\n",
              "      <td>-0.505723</td>\n",
              "      <td>-0.168898</td>\n",
              "      <td>1.000000</td>\n",
              "      <td>-0.545111</td>\n",
              "      <td>-0.001841</td>\n",
              "      <td>-0.032807</td>\n",
              "    </tr>\n",
              "    <tr>\n",
              "      <th>Paqui Min</th>\n",
              "      <td>0.007536</td>\n",
              "      <td>-0.008846</td>\n",
              "      <td>0.556916</td>\n",
              "      <td>0.544147</td>\n",
              "      <td>-0.443434</td>\n",
              "      <td>-0.194438</td>\n",
              "      <td>0.360344</td>\n",
              "      <td>0.309405</td>\n",
              "      <td>0.070463</td>\n",
              "      <td>-0.545111</td>\n",
              "      <td>1.000000</td>\n",
              "      <td>-0.013823</td>\n",
              "      <td>0.009084</td>\n",
              "    </tr>\n",
              "    <tr>\n",
              "      <th>Distance Between Max Curve and Min Paqui</th>\n",
              "      <td>0.099422</td>\n",
              "      <td>0.137598</td>\n",
              "      <td>0.020488</td>\n",
              "      <td>0.073439</td>\n",
              "      <td>0.340081</td>\n",
              "      <td>0.131606</td>\n",
              "      <td>0.115398</td>\n",
              "      <td>0.108834</td>\n",
              "      <td>0.089815</td>\n",
              "      <td>-0.001841</td>\n",
              "      <td>-0.013823</td>\n",
              "      <td>1.000000</td>\n",
              "      <td>0.886387</td>\n",
              "    </tr>\n",
              "    <tr>\n",
              "      <th>Position of Most Curve Point Relative to Center</th>\n",
              "      <td>0.130465</td>\n",
              "      <td>0.141763</td>\n",
              "      <td>0.055171</td>\n",
              "      <td>0.134985</td>\n",
              "      <td>0.306191</td>\n",
              "      <td>-0.000394</td>\n",
              "      <td>0.135702</td>\n",
              "      <td>0.163733</td>\n",
              "      <td>0.101973</td>\n",
              "      <td>-0.032807</td>\n",
              "      <td>0.009084</td>\n",
              "      <td>0.886387</td>\n",
              "      <td>1.000000</td>\n",
              "    </tr>\n",
              "  </tbody>\n",
              "</table>\n",
              "</div>"
            ],
            "text/plain": [
              "                                                 Max Depth Front  ...  Position of Most Curve Point Relative to Center\n",
              "Max Depth Front                                         1.000000  ...                                         0.130465\n",
              "Max Depth Back                                          0.918769  ...                                         0.141763\n",
              "Max Curve Front                                         0.148906  ...                                         0.055171\n",
              "Max Curve Back                                          0.180076  ...                                         0.134985\n",
              "Max Variation Curve Front                              -0.101847  ...                                         0.306191\n",
              "Max Variation Curve Back                               -0.177493  ...                                        -0.000394\n",
              "Mean Curve Front                                       -0.008407  ...                                         0.135702\n",
              "Mean Curve Back                                         0.015985  ...                                         0.163733\n",
              "Age                                                     0.038626  ...                                         0.101973\n",
              "K Max                                                  -0.166420  ...                                        -0.032807\n",
              "Paqui Min                                               0.007536  ...                                         0.009084\n",
              "Distance Between Max Curve and Min Paqui                0.099422  ...                                         0.886387\n",
              "Position of Most Curve Point Relative to Center         0.130465  ...                                         1.000000\n",
              "\n",
              "[13 rows x 13 columns]"
            ]
          },
          "metadata": {
            "tags": []
          },
          "execution_count": 76
        }
      ]
    },
    {
      "cell_type": "markdown",
      "metadata": {
        "colab_type": "text",
        "id": "CrEKvUyMc2ei"
      },
      "source": [
        "Vamos a intentar reducir la correlación, cogiendo únicamente un valor máximo de los dos que poseemos."
      ]
    },
    {
      "cell_type": "code",
      "metadata": {
        "colab_type": "code",
        "id": "cahhRmvQc2ej",
        "outputId": "57fdd391-5ee5-4241-8baf-0b3ecdfab2d7",
        "colab": {
          "base_uri": "https://localhost:8080/",
          "height": 397
        }
      },
      "source": [
        "eye_df['Max Depth'] = np.where(eye_df['Max Depth Front'] > eye_df['Max Depth Back'], eye_df['Max Depth Front'], eye_df['Max Depth Back'])\n",
        "eye_df.drop(['Max Depth Front', 'Max Depth Back'], axis = 1, inplace = True)\n",
        "eye_df.head(5)"
      ],
      "execution_count": 77,
      "outputs": [
        {
          "output_type": "execute_result",
          "data": {
            "text/html": [
              "<div>\n",
              "<style scoped>\n",
              "    .dataframe tbody tr th:only-of-type {\n",
              "        vertical-align: middle;\n",
              "    }\n",
              "\n",
              "    .dataframe tbody tr th {\n",
              "        vertical-align: top;\n",
              "    }\n",
              "\n",
              "    .dataframe thead th {\n",
              "        text-align: right;\n",
              "    }\n",
              "</style>\n",
              "<table border=\"1\" class=\"dataframe\">\n",
              "  <thead>\n",
              "    <tr style=\"text-align: right;\">\n",
              "      <th></th>\n",
              "      <th>Max Curve Front</th>\n",
              "      <th>Max Curve Back</th>\n",
              "      <th>Max Variation Curve Front</th>\n",
              "      <th>Max Variation Curve Back</th>\n",
              "      <th>Mean Curve Front</th>\n",
              "      <th>Mean Curve Back</th>\n",
              "      <th>Age</th>\n",
              "      <th>K Max</th>\n",
              "      <th>Paqui Min</th>\n",
              "      <th>Distance Between Max Curve and Min Paqui</th>\n",
              "      <th>Position of Most Curve Point Relative to Center</th>\n",
              "      <th>Treatment</th>\n",
              "      <th>Max Depth</th>\n",
              "    </tr>\n",
              "  </thead>\n",
              "  <tbody>\n",
              "    <tr>\n",
              "      <th>0</th>\n",
              "      <td>6.24</td>\n",
              "      <td>4.56</td>\n",
              "      <td>3.72</td>\n",
              "      <td>3.64</td>\n",
              "      <td>7.86</td>\n",
              "      <td>6.49</td>\n",
              "      <td>24</td>\n",
              "      <td>54.11</td>\n",
              "      <td>429</td>\n",
              "      <td>0.78</td>\n",
              "      <td>1.09</td>\n",
              "      <td>Pacientes tratados mediante anillos</td>\n",
              "      <td>2670</td>\n",
              "    </tr>\n",
              "    <tr>\n",
              "      <th>1</th>\n",
              "      <td>6.35</td>\n",
              "      <td>4.62</td>\n",
              "      <td>3.41</td>\n",
              "      <td>3.44</td>\n",
              "      <td>7.86</td>\n",
              "      <td>6.51</td>\n",
              "      <td>24</td>\n",
              "      <td>53.18</td>\n",
              "      <td>425</td>\n",
              "      <td>0.54</td>\n",
              "      <td>0.96</td>\n",
              "      <td>Pacientes tratados mediante anillos</td>\n",
              "      <td>2449</td>\n",
              "    </tr>\n",
              "    <tr>\n",
              "      <th>2</th>\n",
              "      <td>5.04</td>\n",
              "      <td>3.51</td>\n",
              "      <td>5.54</td>\n",
              "      <td>5.35</td>\n",
              "      <td>7.84</td>\n",
              "      <td>6.37</td>\n",
              "      <td>35</td>\n",
              "      <td>66.97</td>\n",
              "      <td>408</td>\n",
              "      <td>4.87</td>\n",
              "      <td>4.65</td>\n",
              "      <td>Pacientes tratados mediante anillos</td>\n",
              "      <td>2842</td>\n",
              "    </tr>\n",
              "    <tr>\n",
              "      <th>3</th>\n",
              "      <td>5.26</td>\n",
              "      <td>3.62</td>\n",
              "      <td>5.10</td>\n",
              "      <td>4.91</td>\n",
              "      <td>7.93</td>\n",
              "      <td>6.44</td>\n",
              "      <td>35</td>\n",
              "      <td>64.18</td>\n",
              "      <td>372</td>\n",
              "      <td>5.50</td>\n",
              "      <td>4.88</td>\n",
              "      <td>Pacientes tratados mediante anillos</td>\n",
              "      <td>3124</td>\n",
              "    </tr>\n",
              "    <tr>\n",
              "      <th>4</th>\n",
              "      <td>5.25</td>\n",
              "      <td>3.44</td>\n",
              "      <td>4.61</td>\n",
              "      <td>5.25</td>\n",
              "      <td>7.20</td>\n",
              "      <td>5.85</td>\n",
              "      <td>35</td>\n",
              "      <td>64.33</td>\n",
              "      <td>466</td>\n",
              "      <td>0.40</td>\n",
              "      <td>1.02</td>\n",
              "      <td>Pacientes tratados mediante anillos</td>\n",
              "      <td>2692</td>\n",
              "    </tr>\n",
              "  </tbody>\n",
              "</table>\n",
              "</div>"
            ],
            "text/plain": [
              "   Max Curve Front  ...  Max Depth\n",
              "0             6.24  ...       2670\n",
              "1             6.35  ...       2449\n",
              "2             5.04  ...       2842\n",
              "3             5.26  ...       3124\n",
              "4             5.25  ...       2692\n",
              "\n",
              "[5 rows x 13 columns]"
            ]
          },
          "metadata": {
            "tags": []
          },
          "execution_count": 77
        }
      ]
    },
    {
      "cell_type": "code",
      "metadata": {
        "colab_type": "code",
        "id": "5t6Gg1Hac2em",
        "outputId": "cab19e04-90c0-48e0-b900-fa20b28f7800",
        "colab": {
          "base_uri": "https://localhost:8080/",
          "height": 313
        }
      },
      "source": [
        "eye_df['Max Curve'] = np.where(eye_df['Max Curve Front'] < eye_df['Max Curve Back'], eye_df['Max Curve Front'], eye_df['Max Curve Back'])\n",
        "eye_df.drop(['Max Curve Front', 'Max Curve Back'], axis = 1, inplace = True)\n",
        "eye_df.head(5)"
      ],
      "execution_count": 78,
      "outputs": [
        {
          "output_type": "execute_result",
          "data": {
            "text/html": [
              "<div>\n",
              "<style scoped>\n",
              "    .dataframe tbody tr th:only-of-type {\n",
              "        vertical-align: middle;\n",
              "    }\n",
              "\n",
              "    .dataframe tbody tr th {\n",
              "        vertical-align: top;\n",
              "    }\n",
              "\n",
              "    .dataframe thead th {\n",
              "        text-align: right;\n",
              "    }\n",
              "</style>\n",
              "<table border=\"1\" class=\"dataframe\">\n",
              "  <thead>\n",
              "    <tr style=\"text-align: right;\">\n",
              "      <th></th>\n",
              "      <th>Max Variation Curve Front</th>\n",
              "      <th>Max Variation Curve Back</th>\n",
              "      <th>Mean Curve Front</th>\n",
              "      <th>Mean Curve Back</th>\n",
              "      <th>Age</th>\n",
              "      <th>K Max</th>\n",
              "      <th>Paqui Min</th>\n",
              "      <th>Distance Between Max Curve and Min Paqui</th>\n",
              "      <th>Position of Most Curve Point Relative to Center</th>\n",
              "      <th>Treatment</th>\n",
              "      <th>Max Depth</th>\n",
              "      <th>Max Curve</th>\n",
              "    </tr>\n",
              "  </thead>\n",
              "  <tbody>\n",
              "    <tr>\n",
              "      <th>0</th>\n",
              "      <td>3.72</td>\n",
              "      <td>3.64</td>\n",
              "      <td>7.86</td>\n",
              "      <td>6.49</td>\n",
              "      <td>24</td>\n",
              "      <td>54.11</td>\n",
              "      <td>429</td>\n",
              "      <td>0.78</td>\n",
              "      <td>1.09</td>\n",
              "      <td>Pacientes tratados mediante anillos</td>\n",
              "      <td>2670</td>\n",
              "      <td>4.56</td>\n",
              "    </tr>\n",
              "    <tr>\n",
              "      <th>1</th>\n",
              "      <td>3.41</td>\n",
              "      <td>3.44</td>\n",
              "      <td>7.86</td>\n",
              "      <td>6.51</td>\n",
              "      <td>24</td>\n",
              "      <td>53.18</td>\n",
              "      <td>425</td>\n",
              "      <td>0.54</td>\n",
              "      <td>0.96</td>\n",
              "      <td>Pacientes tratados mediante anillos</td>\n",
              "      <td>2449</td>\n",
              "      <td>4.62</td>\n",
              "    </tr>\n",
              "    <tr>\n",
              "      <th>2</th>\n",
              "      <td>5.54</td>\n",
              "      <td>5.35</td>\n",
              "      <td>7.84</td>\n",
              "      <td>6.37</td>\n",
              "      <td>35</td>\n",
              "      <td>66.97</td>\n",
              "      <td>408</td>\n",
              "      <td>4.87</td>\n",
              "      <td>4.65</td>\n",
              "      <td>Pacientes tratados mediante anillos</td>\n",
              "      <td>2842</td>\n",
              "      <td>3.51</td>\n",
              "    </tr>\n",
              "    <tr>\n",
              "      <th>3</th>\n",
              "      <td>5.10</td>\n",
              "      <td>4.91</td>\n",
              "      <td>7.93</td>\n",
              "      <td>6.44</td>\n",
              "      <td>35</td>\n",
              "      <td>64.18</td>\n",
              "      <td>372</td>\n",
              "      <td>5.50</td>\n",
              "      <td>4.88</td>\n",
              "      <td>Pacientes tratados mediante anillos</td>\n",
              "      <td>3124</td>\n",
              "      <td>3.62</td>\n",
              "    </tr>\n",
              "    <tr>\n",
              "      <th>4</th>\n",
              "      <td>4.61</td>\n",
              "      <td>5.25</td>\n",
              "      <td>7.20</td>\n",
              "      <td>5.85</td>\n",
              "      <td>35</td>\n",
              "      <td>64.33</td>\n",
              "      <td>466</td>\n",
              "      <td>0.40</td>\n",
              "      <td>1.02</td>\n",
              "      <td>Pacientes tratados mediante anillos</td>\n",
              "      <td>2692</td>\n",
              "      <td>3.44</td>\n",
              "    </tr>\n",
              "  </tbody>\n",
              "</table>\n",
              "</div>"
            ],
            "text/plain": [
              "   Max Variation Curve Front  Max Variation Curve Back  ...  Max Depth  Max Curve\n",
              "0                       3.72                      3.64  ...       2670       4.56\n",
              "1                       3.41                      3.44  ...       2449       4.62\n",
              "2                       5.54                      5.35  ...       2842       3.51\n",
              "3                       5.10                      4.91  ...       3124       3.62\n",
              "4                       4.61                      5.25  ...       2692       3.44\n",
              "\n",
              "[5 rows x 12 columns]"
            ]
          },
          "metadata": {
            "tags": []
          },
          "execution_count": 78
        }
      ]
    },
    {
      "cell_type": "markdown",
      "metadata": {
        "colab_type": "text",
        "id": "TlCJ0okrc2eq"
      },
      "source": [
        "Volvemos a comprobar la correlación entre las variables"
      ]
    },
    {
      "cell_type": "code",
      "metadata": {
        "colab_type": "code",
        "id": "PAjenmAHc2er",
        "outputId": "81ca3ec9-9cae-4ee6-baec-5e3ed1eac7c9",
        "colab": {
          "base_uri": "https://localhost:8080/",
          "height": 492
        }
      },
      "source": [
        "eye_df.corr()"
      ],
      "execution_count": 79,
      "outputs": [
        {
          "output_type": "execute_result",
          "data": {
            "text/html": [
              "<div>\n",
              "<style scoped>\n",
              "    .dataframe tbody tr th:only-of-type {\n",
              "        vertical-align: middle;\n",
              "    }\n",
              "\n",
              "    .dataframe tbody tr th {\n",
              "        vertical-align: top;\n",
              "    }\n",
              "\n",
              "    .dataframe thead th {\n",
              "        text-align: right;\n",
              "    }\n",
              "</style>\n",
              "<table border=\"1\" class=\"dataframe\">\n",
              "  <thead>\n",
              "    <tr style=\"text-align: right;\">\n",
              "      <th></th>\n",
              "      <th>Max Variation Curve Front</th>\n",
              "      <th>Max Variation Curve Back</th>\n",
              "      <th>Mean Curve Front</th>\n",
              "      <th>Mean Curve Back</th>\n",
              "      <th>Age</th>\n",
              "      <th>K Max</th>\n",
              "      <th>Paqui Min</th>\n",
              "      <th>Distance Between Max Curve and Min Paqui</th>\n",
              "      <th>Position of Most Curve Point Relative to Center</th>\n",
              "      <th>Max Depth</th>\n",
              "      <th>Max Curve</th>\n",
              "    </tr>\n",
              "  </thead>\n",
              "  <tbody>\n",
              "    <tr>\n",
              "      <th>Max Variation Curve Front</th>\n",
              "      <td>1.000000</td>\n",
              "      <td>0.438443</td>\n",
              "      <td>-0.169504</td>\n",
              "      <td>-0.189050</td>\n",
              "      <td>-0.033004</td>\n",
              "      <td>0.740876</td>\n",
              "      <td>-0.443434</td>\n",
              "      <td>0.340081</td>\n",
              "      <td>0.306191</td>\n",
              "      <td>-0.050586</td>\n",
              "      <td>-0.675757</td>\n",
              "    </tr>\n",
              "    <tr>\n",
              "      <th>Max Variation Curve Back</th>\n",
              "      <td>0.438443</td>\n",
              "      <td>1.000000</td>\n",
              "      <td>-0.148551</td>\n",
              "      <td>-0.031054</td>\n",
              "      <td>-0.015036</td>\n",
              "      <td>0.425902</td>\n",
              "      <td>-0.194438</td>\n",
              "      <td>0.131606</td>\n",
              "      <td>-0.000394</td>\n",
              "      <td>-0.129462</td>\n",
              "      <td>-0.485264</td>\n",
              "    </tr>\n",
              "    <tr>\n",
              "      <th>Mean Curve Front</th>\n",
              "      <td>-0.169504</td>\n",
              "      <td>-0.148551</td>\n",
              "      <td>1.000000</td>\n",
              "      <td>0.896174</td>\n",
              "      <td>-0.140134</td>\n",
              "      <td>-0.526604</td>\n",
              "      <td>0.360344</td>\n",
              "      <td>0.115398</td>\n",
              "      <td>0.135702</td>\n",
              "      <td>-0.030029</td>\n",
              "      <td>0.483655</td>\n",
              "    </tr>\n",
              "    <tr>\n",
              "      <th>Mean Curve Back</th>\n",
              "      <td>-0.189050</td>\n",
              "      <td>-0.031054</td>\n",
              "      <td>0.896174</td>\n",
              "      <td>1.000000</td>\n",
              "      <td>-0.023933</td>\n",
              "      <td>-0.505723</td>\n",
              "      <td>0.309405</td>\n",
              "      <td>0.108834</td>\n",
              "      <td>0.163733</td>\n",
              "      <td>-0.049156</td>\n",
              "      <td>0.519664</td>\n",
              "    </tr>\n",
              "    <tr>\n",
              "      <th>Age</th>\n",
              "      <td>-0.033004</td>\n",
              "      <td>-0.015036</td>\n",
              "      <td>-0.140134</td>\n",
              "      <td>-0.023933</td>\n",
              "      <td>1.000000</td>\n",
              "      <td>-0.168898</td>\n",
              "      <td>0.070463</td>\n",
              "      <td>0.089815</td>\n",
              "      <td>0.101973</td>\n",
              "      <td>0.047569</td>\n",
              "      <td>0.129078</td>\n",
              "    </tr>\n",
              "    <tr>\n",
              "      <th>K Max</th>\n",
              "      <td>0.740876</td>\n",
              "      <td>0.425902</td>\n",
              "      <td>-0.526604</td>\n",
              "      <td>-0.505723</td>\n",
              "      <td>-0.168898</td>\n",
              "      <td>1.000000</td>\n",
              "      <td>-0.545111</td>\n",
              "      <td>-0.001841</td>\n",
              "      <td>-0.032807</td>\n",
              "      <td>-0.130900</td>\n",
              "      <td>-0.909349</td>\n",
              "    </tr>\n",
              "    <tr>\n",
              "      <th>Paqui Min</th>\n",
              "      <td>-0.443434</td>\n",
              "      <td>-0.194438</td>\n",
              "      <td>0.360344</td>\n",
              "      <td>0.309405</td>\n",
              "      <td>0.070463</td>\n",
              "      <td>-0.545111</td>\n",
              "      <td>1.000000</td>\n",
              "      <td>-0.013823</td>\n",
              "      <td>0.009084</td>\n",
              "      <td>-0.008025</td>\n",
              "      <td>0.544147</td>\n",
              "    </tr>\n",
              "    <tr>\n",
              "      <th>Distance Between Max Curve and Min Paqui</th>\n",
              "      <td>0.340081</td>\n",
              "      <td>0.131606</td>\n",
              "      <td>0.115398</td>\n",
              "      <td>0.108834</td>\n",
              "      <td>0.089815</td>\n",
              "      <td>-0.001841</td>\n",
              "      <td>-0.013823</td>\n",
              "      <td>1.000000</td>\n",
              "      <td>0.886387</td>\n",
              "      <td>0.158610</td>\n",
              "      <td>0.073439</td>\n",
              "    </tr>\n",
              "    <tr>\n",
              "      <th>Position of Most Curve Point Relative to Center</th>\n",
              "      <td>0.306191</td>\n",
              "      <td>-0.000394</td>\n",
              "      <td>0.135702</td>\n",
              "      <td>0.163733</td>\n",
              "      <td>0.101973</td>\n",
              "      <td>-0.032807</td>\n",
              "      <td>0.009084</td>\n",
              "      <td>0.886387</td>\n",
              "      <td>1.000000</td>\n",
              "      <td>0.162860</td>\n",
              "      <td>0.134985</td>\n",
              "    </tr>\n",
              "    <tr>\n",
              "      <th>Max Depth</th>\n",
              "      <td>-0.050586</td>\n",
              "      <td>-0.129462</td>\n",
              "      <td>-0.030029</td>\n",
              "      <td>-0.049156</td>\n",
              "      <td>0.047569</td>\n",
              "      <td>-0.130900</td>\n",
              "      <td>-0.008025</td>\n",
              "      <td>0.158610</td>\n",
              "      <td>0.162860</td>\n",
              "      <td>1.000000</td>\n",
              "      <td>0.137536</td>\n",
              "    </tr>\n",
              "    <tr>\n",
              "      <th>Max Curve</th>\n",
              "      <td>-0.675757</td>\n",
              "      <td>-0.485264</td>\n",
              "      <td>0.483655</td>\n",
              "      <td>0.519664</td>\n",
              "      <td>0.129078</td>\n",
              "      <td>-0.909349</td>\n",
              "      <td>0.544147</td>\n",
              "      <td>0.073439</td>\n",
              "      <td>0.134985</td>\n",
              "      <td>0.137536</td>\n",
              "      <td>1.000000</td>\n",
              "    </tr>\n",
              "  </tbody>\n",
              "</table>\n",
              "</div>"
            ],
            "text/plain": [
              "                                                 Max Variation Curve Front  ...  Max Curve\n",
              "Max Variation Curve Front                                         1.000000  ...  -0.675757\n",
              "Max Variation Curve Back                                          0.438443  ...  -0.485264\n",
              "Mean Curve Front                                                 -0.169504  ...   0.483655\n",
              "Mean Curve Back                                                  -0.189050  ...   0.519664\n",
              "Age                                                              -0.033004  ...   0.129078\n",
              "K Max                                                             0.740876  ...  -0.909349\n",
              "Paqui Min                                                        -0.443434  ...   0.544147\n",
              "Distance Between Max Curve and Min Paqui                          0.340081  ...   0.073439\n",
              "Position of Most Curve Point Relative to Center                   0.306191  ...   0.134985\n",
              "Max Depth                                                        -0.050586  ...   0.137536\n",
              "Max Curve                                                        -0.675757  ...   1.000000\n",
              "\n",
              "[11 rows x 11 columns]"
            ]
          },
          "metadata": {
            "tags": []
          },
          "execution_count": 79
        }
      ]
    },
    {
      "cell_type": "markdown",
      "metadata": {
        "colab_type": "text",
        "id": "0ZG1ZsS8c2ew"
      },
      "source": [
        "Podemos ver que hay una gran correlación entre las curvaturas y la k max\n",
        "\n",
        "Vamos a sacar la máxima variación total de curvatura igual que en los procedimientos anteriores, para reducir el número de parámetros"
      ]
    },
    {
      "cell_type": "code",
      "metadata": {
        "colab_type": "code",
        "id": "SiYCjmmfc2ex",
        "outputId": "f07725c6-f1db-4119-bb39-718b2e26e489",
        "colab": {
          "base_uri": "https://localhost:8080/",
          "height": 313
        }
      },
      "source": [
        "eye_df['Max Variation Curve'] = np.where(eye_df['Max Variation Curve Front'] > eye_df['Max Variation Curve Back'], eye_df['Max Variation Curve Front'], eye_df['Max Variation Curve Back'])\n",
        "eye_df.drop(['Max Variation Curve Front', 'Max Variation Curve Back'], axis = 1, inplace = True)\n",
        "eye_df.head(5)"
      ],
      "execution_count": 80,
      "outputs": [
        {
          "output_type": "execute_result",
          "data": {
            "text/html": [
              "<div>\n",
              "<style scoped>\n",
              "    .dataframe tbody tr th:only-of-type {\n",
              "        vertical-align: middle;\n",
              "    }\n",
              "\n",
              "    .dataframe tbody tr th {\n",
              "        vertical-align: top;\n",
              "    }\n",
              "\n",
              "    .dataframe thead th {\n",
              "        text-align: right;\n",
              "    }\n",
              "</style>\n",
              "<table border=\"1\" class=\"dataframe\">\n",
              "  <thead>\n",
              "    <tr style=\"text-align: right;\">\n",
              "      <th></th>\n",
              "      <th>Mean Curve Front</th>\n",
              "      <th>Mean Curve Back</th>\n",
              "      <th>Age</th>\n",
              "      <th>K Max</th>\n",
              "      <th>Paqui Min</th>\n",
              "      <th>Distance Between Max Curve and Min Paqui</th>\n",
              "      <th>Position of Most Curve Point Relative to Center</th>\n",
              "      <th>Treatment</th>\n",
              "      <th>Max Depth</th>\n",
              "      <th>Max Curve</th>\n",
              "      <th>Max Variation Curve</th>\n",
              "    </tr>\n",
              "  </thead>\n",
              "  <tbody>\n",
              "    <tr>\n",
              "      <th>0</th>\n",
              "      <td>7.86</td>\n",
              "      <td>6.49</td>\n",
              "      <td>24</td>\n",
              "      <td>54.11</td>\n",
              "      <td>429</td>\n",
              "      <td>0.78</td>\n",
              "      <td>1.09</td>\n",
              "      <td>Pacientes tratados mediante anillos</td>\n",
              "      <td>2670</td>\n",
              "      <td>4.56</td>\n",
              "      <td>3.72</td>\n",
              "    </tr>\n",
              "    <tr>\n",
              "      <th>1</th>\n",
              "      <td>7.86</td>\n",
              "      <td>6.51</td>\n",
              "      <td>24</td>\n",
              "      <td>53.18</td>\n",
              "      <td>425</td>\n",
              "      <td>0.54</td>\n",
              "      <td>0.96</td>\n",
              "      <td>Pacientes tratados mediante anillos</td>\n",
              "      <td>2449</td>\n",
              "      <td>4.62</td>\n",
              "      <td>3.44</td>\n",
              "    </tr>\n",
              "    <tr>\n",
              "      <th>2</th>\n",
              "      <td>7.84</td>\n",
              "      <td>6.37</td>\n",
              "      <td>35</td>\n",
              "      <td>66.97</td>\n",
              "      <td>408</td>\n",
              "      <td>4.87</td>\n",
              "      <td>4.65</td>\n",
              "      <td>Pacientes tratados mediante anillos</td>\n",
              "      <td>2842</td>\n",
              "      <td>3.51</td>\n",
              "      <td>5.54</td>\n",
              "    </tr>\n",
              "    <tr>\n",
              "      <th>3</th>\n",
              "      <td>7.93</td>\n",
              "      <td>6.44</td>\n",
              "      <td>35</td>\n",
              "      <td>64.18</td>\n",
              "      <td>372</td>\n",
              "      <td>5.50</td>\n",
              "      <td>4.88</td>\n",
              "      <td>Pacientes tratados mediante anillos</td>\n",
              "      <td>3124</td>\n",
              "      <td>3.62</td>\n",
              "      <td>5.10</td>\n",
              "    </tr>\n",
              "    <tr>\n",
              "      <th>4</th>\n",
              "      <td>7.20</td>\n",
              "      <td>5.85</td>\n",
              "      <td>35</td>\n",
              "      <td>64.33</td>\n",
              "      <td>466</td>\n",
              "      <td>0.40</td>\n",
              "      <td>1.02</td>\n",
              "      <td>Pacientes tratados mediante anillos</td>\n",
              "      <td>2692</td>\n",
              "      <td>3.44</td>\n",
              "      <td>5.25</td>\n",
              "    </tr>\n",
              "  </tbody>\n",
              "</table>\n",
              "</div>"
            ],
            "text/plain": [
              "   Mean Curve Front  Mean Curve Back  ...  Max Curve  Max Variation Curve\n",
              "0              7.86             6.49  ...       4.56                 3.72\n",
              "1              7.86             6.51  ...       4.62                 3.44\n",
              "2              7.84             6.37  ...       3.51                 5.54\n",
              "3              7.93             6.44  ...       3.62                 5.10\n",
              "4              7.20             5.85  ...       3.44                 5.25\n",
              "\n",
              "[5 rows x 11 columns]"
            ]
          },
          "metadata": {
            "tags": []
          },
          "execution_count": 80
        }
      ]
    },
    {
      "cell_type": "code",
      "metadata": {
        "colab_type": "code",
        "id": "-dZEatPbc2e2",
        "outputId": "28e121c6-71f0-4064-b97b-b8ce2f6fee11",
        "colab": {
          "base_uri": "https://localhost:8080/",
          "height": 412
        }
      },
      "source": [
        "eye_df.corr()"
      ],
      "execution_count": 81,
      "outputs": [
        {
          "output_type": "execute_result",
          "data": {
            "text/html": [
              "<div>\n",
              "<style scoped>\n",
              "    .dataframe tbody tr th:only-of-type {\n",
              "        vertical-align: middle;\n",
              "    }\n",
              "\n",
              "    .dataframe tbody tr th {\n",
              "        vertical-align: top;\n",
              "    }\n",
              "\n",
              "    .dataframe thead th {\n",
              "        text-align: right;\n",
              "    }\n",
              "</style>\n",
              "<table border=\"1\" class=\"dataframe\">\n",
              "  <thead>\n",
              "    <tr style=\"text-align: right;\">\n",
              "      <th></th>\n",
              "      <th>Mean Curve Front</th>\n",
              "      <th>Mean Curve Back</th>\n",
              "      <th>Age</th>\n",
              "      <th>K Max</th>\n",
              "      <th>Paqui Min</th>\n",
              "      <th>Distance Between Max Curve and Min Paqui</th>\n",
              "      <th>Position of Most Curve Point Relative to Center</th>\n",
              "      <th>Max Depth</th>\n",
              "      <th>Max Curve</th>\n",
              "      <th>Max Variation Curve</th>\n",
              "    </tr>\n",
              "  </thead>\n",
              "  <tbody>\n",
              "    <tr>\n",
              "      <th>Mean Curve Front</th>\n",
              "      <td>1.000000</td>\n",
              "      <td>0.896174</td>\n",
              "      <td>-0.140134</td>\n",
              "      <td>-0.526604</td>\n",
              "      <td>0.360344</td>\n",
              "      <td>0.115398</td>\n",
              "      <td>0.135702</td>\n",
              "      <td>-0.030029</td>\n",
              "      <td>0.483655</td>\n",
              "      <td>-0.160306</td>\n",
              "    </tr>\n",
              "    <tr>\n",
              "      <th>Mean Curve Back</th>\n",
              "      <td>0.896174</td>\n",
              "      <td>1.000000</td>\n",
              "      <td>-0.023933</td>\n",
              "      <td>-0.505723</td>\n",
              "      <td>0.309405</td>\n",
              "      <td>0.108834</td>\n",
              "      <td>0.163733</td>\n",
              "      <td>-0.049156</td>\n",
              "      <td>0.519664</td>\n",
              "      <td>-0.057291</td>\n",
              "    </tr>\n",
              "    <tr>\n",
              "      <th>Age</th>\n",
              "      <td>-0.140134</td>\n",
              "      <td>-0.023933</td>\n",
              "      <td>1.000000</td>\n",
              "      <td>-0.168898</td>\n",
              "      <td>0.070463</td>\n",
              "      <td>0.089815</td>\n",
              "      <td>0.101973</td>\n",
              "      <td>0.047569</td>\n",
              "      <td>0.129078</td>\n",
              "      <td>0.011298</td>\n",
              "    </tr>\n",
              "    <tr>\n",
              "      <th>K Max</th>\n",
              "      <td>-0.526604</td>\n",
              "      <td>-0.505723</td>\n",
              "      <td>-0.168898</td>\n",
              "      <td>1.000000</td>\n",
              "      <td>-0.545111</td>\n",
              "      <td>-0.001841</td>\n",
              "      <td>-0.032807</td>\n",
              "      <td>-0.130900</td>\n",
              "      <td>-0.909349</td>\n",
              "      <td>0.435817</td>\n",
              "    </tr>\n",
              "    <tr>\n",
              "      <th>Paqui Min</th>\n",
              "      <td>0.360344</td>\n",
              "      <td>0.309405</td>\n",
              "      <td>0.070463</td>\n",
              "      <td>-0.545111</td>\n",
              "      <td>1.000000</td>\n",
              "      <td>-0.013823</td>\n",
              "      <td>0.009084</td>\n",
              "      <td>-0.008025</td>\n",
              "      <td>0.544147</td>\n",
              "      <td>-0.211920</td>\n",
              "    </tr>\n",
              "    <tr>\n",
              "      <th>Distance Between Max Curve and Min Paqui</th>\n",
              "      <td>0.115398</td>\n",
              "      <td>0.108834</td>\n",
              "      <td>0.089815</td>\n",
              "      <td>-0.001841</td>\n",
              "      <td>-0.013823</td>\n",
              "      <td>1.000000</td>\n",
              "      <td>0.886387</td>\n",
              "      <td>0.158610</td>\n",
              "      <td>0.073439</td>\n",
              "      <td>0.234977</td>\n",
              "    </tr>\n",
              "    <tr>\n",
              "      <th>Position of Most Curve Point Relative to Center</th>\n",
              "      <td>0.135702</td>\n",
              "      <td>0.163733</td>\n",
              "      <td>0.101973</td>\n",
              "      <td>-0.032807</td>\n",
              "      <td>0.009084</td>\n",
              "      <td>0.886387</td>\n",
              "      <td>1.000000</td>\n",
              "      <td>0.162860</td>\n",
              "      <td>0.134985</td>\n",
              "      <td>0.103506</td>\n",
              "    </tr>\n",
              "    <tr>\n",
              "      <th>Max Depth</th>\n",
              "      <td>-0.030029</td>\n",
              "      <td>-0.049156</td>\n",
              "      <td>0.047569</td>\n",
              "      <td>-0.130900</td>\n",
              "      <td>-0.008025</td>\n",
              "      <td>0.158610</td>\n",
              "      <td>0.162860</td>\n",
              "      <td>1.000000</td>\n",
              "      <td>0.137536</td>\n",
              "      <td>-0.112890</td>\n",
              "    </tr>\n",
              "    <tr>\n",
              "      <th>Max Curve</th>\n",
              "      <td>0.483655</td>\n",
              "      <td>0.519664</td>\n",
              "      <td>0.129078</td>\n",
              "      <td>-0.909349</td>\n",
              "      <td>0.544147</td>\n",
              "      <td>0.073439</td>\n",
              "      <td>0.134985</td>\n",
              "      <td>0.137536</td>\n",
              "      <td>1.000000</td>\n",
              "      <td>-0.472522</td>\n",
              "    </tr>\n",
              "    <tr>\n",
              "      <th>Max Variation Curve</th>\n",
              "      <td>-0.160306</td>\n",
              "      <td>-0.057291</td>\n",
              "      <td>0.011298</td>\n",
              "      <td>0.435817</td>\n",
              "      <td>-0.211920</td>\n",
              "      <td>0.234977</td>\n",
              "      <td>0.103506</td>\n",
              "      <td>-0.112890</td>\n",
              "      <td>-0.472522</td>\n",
              "      <td>1.000000</td>\n",
              "    </tr>\n",
              "  </tbody>\n",
              "</table>\n",
              "</div>"
            ],
            "text/plain": [
              "                                                 Mean Curve Front  ...  Max Variation Curve\n",
              "Mean Curve Front                                         1.000000  ...            -0.160306\n",
              "Mean Curve Back                                          0.896174  ...            -0.057291\n",
              "Age                                                     -0.140134  ...             0.011298\n",
              "K Max                                                   -0.526604  ...             0.435817\n",
              "Paqui Min                                                0.360344  ...            -0.211920\n",
              "Distance Between Max Curve and Min Paqui                 0.115398  ...             0.234977\n",
              "Position of Most Curve Point Relative to Center          0.135702  ...             0.103506\n",
              "Max Depth                                               -0.030029  ...            -0.112890\n",
              "Max Curve                                                0.483655  ...            -0.472522\n",
              "Max Variation Curve                                     -0.160306  ...             1.000000\n",
              "\n",
              "[10 rows x 10 columns]"
            ]
          },
          "metadata": {
            "tags": []
          },
          "execution_count": 81
        }
      ]
    },
    {
      "cell_type": "markdown",
      "metadata": {
        "colab_type": "text",
        "id": "pMLgVD49c2e5"
      },
      "source": [
        "Vemos que obtenemos una gran correlación entre las medias de las curvaturas, por lo que tambien vamos a unificar las medias de las curvaturas"
      ]
    },
    {
      "cell_type": "code",
      "metadata": {
        "colab_type": "code",
        "id": "4JuPWFEzc2e6",
        "outputId": "85ba77c4-1ed4-4ce4-ccd2-f0404327a132",
        "colab": {
          "base_uri": "https://localhost:8080/",
          "height": 297
        }
      },
      "source": [
        "eye_df['Mean Curve'] = np.where(eye_df['Mean Curve Front'] < eye_df['Mean Curve Back'], eye_df['Mean Curve Front'], eye_df['Mean Curve Back'])\n",
        "eye_df.drop(['Mean Curve Front', 'Mean Curve Back'], axis = 1, inplace = True)\n",
        "eye_df.head(5)"
      ],
      "execution_count": 82,
      "outputs": [
        {
          "output_type": "execute_result",
          "data": {
            "text/html": [
              "<div>\n",
              "<style scoped>\n",
              "    .dataframe tbody tr th:only-of-type {\n",
              "        vertical-align: middle;\n",
              "    }\n",
              "\n",
              "    .dataframe tbody tr th {\n",
              "        vertical-align: top;\n",
              "    }\n",
              "\n",
              "    .dataframe thead th {\n",
              "        text-align: right;\n",
              "    }\n",
              "</style>\n",
              "<table border=\"1\" class=\"dataframe\">\n",
              "  <thead>\n",
              "    <tr style=\"text-align: right;\">\n",
              "      <th></th>\n",
              "      <th>Age</th>\n",
              "      <th>K Max</th>\n",
              "      <th>Paqui Min</th>\n",
              "      <th>Distance Between Max Curve and Min Paqui</th>\n",
              "      <th>Position of Most Curve Point Relative to Center</th>\n",
              "      <th>Treatment</th>\n",
              "      <th>Max Depth</th>\n",
              "      <th>Max Curve</th>\n",
              "      <th>Max Variation Curve</th>\n",
              "      <th>Mean Curve</th>\n",
              "    </tr>\n",
              "  </thead>\n",
              "  <tbody>\n",
              "    <tr>\n",
              "      <th>0</th>\n",
              "      <td>24</td>\n",
              "      <td>54.11</td>\n",
              "      <td>429</td>\n",
              "      <td>0.78</td>\n",
              "      <td>1.09</td>\n",
              "      <td>Pacientes tratados mediante anillos</td>\n",
              "      <td>2670</td>\n",
              "      <td>4.56</td>\n",
              "      <td>3.72</td>\n",
              "      <td>6.49</td>\n",
              "    </tr>\n",
              "    <tr>\n",
              "      <th>1</th>\n",
              "      <td>24</td>\n",
              "      <td>53.18</td>\n",
              "      <td>425</td>\n",
              "      <td>0.54</td>\n",
              "      <td>0.96</td>\n",
              "      <td>Pacientes tratados mediante anillos</td>\n",
              "      <td>2449</td>\n",
              "      <td>4.62</td>\n",
              "      <td>3.44</td>\n",
              "      <td>6.51</td>\n",
              "    </tr>\n",
              "    <tr>\n",
              "      <th>2</th>\n",
              "      <td>35</td>\n",
              "      <td>66.97</td>\n",
              "      <td>408</td>\n",
              "      <td>4.87</td>\n",
              "      <td>4.65</td>\n",
              "      <td>Pacientes tratados mediante anillos</td>\n",
              "      <td>2842</td>\n",
              "      <td>3.51</td>\n",
              "      <td>5.54</td>\n",
              "      <td>6.37</td>\n",
              "    </tr>\n",
              "    <tr>\n",
              "      <th>3</th>\n",
              "      <td>35</td>\n",
              "      <td>64.18</td>\n",
              "      <td>372</td>\n",
              "      <td>5.50</td>\n",
              "      <td>4.88</td>\n",
              "      <td>Pacientes tratados mediante anillos</td>\n",
              "      <td>3124</td>\n",
              "      <td>3.62</td>\n",
              "      <td>5.10</td>\n",
              "      <td>6.44</td>\n",
              "    </tr>\n",
              "    <tr>\n",
              "      <th>4</th>\n",
              "      <td>35</td>\n",
              "      <td>64.33</td>\n",
              "      <td>466</td>\n",
              "      <td>0.40</td>\n",
              "      <td>1.02</td>\n",
              "      <td>Pacientes tratados mediante anillos</td>\n",
              "      <td>2692</td>\n",
              "      <td>3.44</td>\n",
              "      <td>5.25</td>\n",
              "      <td>5.85</td>\n",
              "    </tr>\n",
              "  </tbody>\n",
              "</table>\n",
              "</div>"
            ],
            "text/plain": [
              "   Age  K Max  Paqui Min  ...  Max Curve  Max Variation Curve Mean Curve\n",
              "0   24  54.11        429  ...       4.56                 3.72       6.49\n",
              "1   24  53.18        425  ...       4.62                 3.44       6.51\n",
              "2   35  66.97        408  ...       3.51                 5.54       6.37\n",
              "3   35  64.18        372  ...       3.62                 5.10       6.44\n",
              "4   35  64.33        466  ...       3.44                 5.25       5.85\n",
              "\n",
              "[5 rows x 10 columns]"
            ]
          },
          "metadata": {
            "tags": []
          },
          "execution_count": 82
        }
      ]
    },
    {
      "cell_type": "code",
      "metadata": {
        "colab_type": "code",
        "id": "vreFskVxc2e9",
        "outputId": "6a745ea5-c953-40f5-e1a2-1d721400a5da",
        "colab": {
          "base_uri": "https://localhost:8080/",
          "height": 382
        }
      },
      "source": [
        "eye_df.corr()"
      ],
      "execution_count": 83,
      "outputs": [
        {
          "output_type": "execute_result",
          "data": {
            "text/html": [
              "<div>\n",
              "<style scoped>\n",
              "    .dataframe tbody tr th:only-of-type {\n",
              "        vertical-align: middle;\n",
              "    }\n",
              "\n",
              "    .dataframe tbody tr th {\n",
              "        vertical-align: top;\n",
              "    }\n",
              "\n",
              "    .dataframe thead th {\n",
              "        text-align: right;\n",
              "    }\n",
              "</style>\n",
              "<table border=\"1\" class=\"dataframe\">\n",
              "  <thead>\n",
              "    <tr style=\"text-align: right;\">\n",
              "      <th></th>\n",
              "      <th>Age</th>\n",
              "      <th>K Max</th>\n",
              "      <th>Paqui Min</th>\n",
              "      <th>Distance Between Max Curve and Min Paqui</th>\n",
              "      <th>Position of Most Curve Point Relative to Center</th>\n",
              "      <th>Max Depth</th>\n",
              "      <th>Max Curve</th>\n",
              "      <th>Max Variation Curve</th>\n",
              "      <th>Mean Curve</th>\n",
              "    </tr>\n",
              "  </thead>\n",
              "  <tbody>\n",
              "    <tr>\n",
              "      <th>Age</th>\n",
              "      <td>1.000000</td>\n",
              "      <td>-0.168898</td>\n",
              "      <td>0.070463</td>\n",
              "      <td>0.089815</td>\n",
              "      <td>0.101973</td>\n",
              "      <td>0.047569</td>\n",
              "      <td>0.129078</td>\n",
              "      <td>0.011298</td>\n",
              "      <td>-0.023933</td>\n",
              "    </tr>\n",
              "    <tr>\n",
              "      <th>K Max</th>\n",
              "      <td>-0.168898</td>\n",
              "      <td>1.000000</td>\n",
              "      <td>-0.545111</td>\n",
              "      <td>-0.001841</td>\n",
              "      <td>-0.032807</td>\n",
              "      <td>-0.130900</td>\n",
              "      <td>-0.909349</td>\n",
              "      <td>0.435817</td>\n",
              "      <td>-0.505723</td>\n",
              "    </tr>\n",
              "    <tr>\n",
              "      <th>Paqui Min</th>\n",
              "      <td>0.070463</td>\n",
              "      <td>-0.545111</td>\n",
              "      <td>1.000000</td>\n",
              "      <td>-0.013823</td>\n",
              "      <td>0.009084</td>\n",
              "      <td>-0.008025</td>\n",
              "      <td>0.544147</td>\n",
              "      <td>-0.211920</td>\n",
              "      <td>0.309405</td>\n",
              "    </tr>\n",
              "    <tr>\n",
              "      <th>Distance Between Max Curve and Min Paqui</th>\n",
              "      <td>0.089815</td>\n",
              "      <td>-0.001841</td>\n",
              "      <td>-0.013823</td>\n",
              "      <td>1.000000</td>\n",
              "      <td>0.886387</td>\n",
              "      <td>0.158610</td>\n",
              "      <td>0.073439</td>\n",
              "      <td>0.234977</td>\n",
              "      <td>0.108834</td>\n",
              "    </tr>\n",
              "    <tr>\n",
              "      <th>Position of Most Curve Point Relative to Center</th>\n",
              "      <td>0.101973</td>\n",
              "      <td>-0.032807</td>\n",
              "      <td>0.009084</td>\n",
              "      <td>0.886387</td>\n",
              "      <td>1.000000</td>\n",
              "      <td>0.162860</td>\n",
              "      <td>0.134985</td>\n",
              "      <td>0.103506</td>\n",
              "      <td>0.163733</td>\n",
              "    </tr>\n",
              "    <tr>\n",
              "      <th>Max Depth</th>\n",
              "      <td>0.047569</td>\n",
              "      <td>-0.130900</td>\n",
              "      <td>-0.008025</td>\n",
              "      <td>0.158610</td>\n",
              "      <td>0.162860</td>\n",
              "      <td>1.000000</td>\n",
              "      <td>0.137536</td>\n",
              "      <td>-0.112890</td>\n",
              "      <td>-0.049156</td>\n",
              "    </tr>\n",
              "    <tr>\n",
              "      <th>Max Curve</th>\n",
              "      <td>0.129078</td>\n",
              "      <td>-0.909349</td>\n",
              "      <td>0.544147</td>\n",
              "      <td>0.073439</td>\n",
              "      <td>0.134985</td>\n",
              "      <td>0.137536</td>\n",
              "      <td>1.000000</td>\n",
              "      <td>-0.472522</td>\n",
              "      <td>0.519664</td>\n",
              "    </tr>\n",
              "    <tr>\n",
              "      <th>Max Variation Curve</th>\n",
              "      <td>0.011298</td>\n",
              "      <td>0.435817</td>\n",
              "      <td>-0.211920</td>\n",
              "      <td>0.234977</td>\n",
              "      <td>0.103506</td>\n",
              "      <td>-0.112890</td>\n",
              "      <td>-0.472522</td>\n",
              "      <td>1.000000</td>\n",
              "      <td>-0.057291</td>\n",
              "    </tr>\n",
              "    <tr>\n",
              "      <th>Mean Curve</th>\n",
              "      <td>-0.023933</td>\n",
              "      <td>-0.505723</td>\n",
              "      <td>0.309405</td>\n",
              "      <td>0.108834</td>\n",
              "      <td>0.163733</td>\n",
              "      <td>-0.049156</td>\n",
              "      <td>0.519664</td>\n",
              "      <td>-0.057291</td>\n",
              "      <td>1.000000</td>\n",
              "    </tr>\n",
              "  </tbody>\n",
              "</table>\n",
              "</div>"
            ],
            "text/plain": [
              "                                                      Age  ...  Mean Curve\n",
              "Age                                              1.000000  ...   -0.023933\n",
              "K Max                                           -0.168898  ...   -0.505723\n",
              "Paqui Min                                        0.070463  ...    0.309405\n",
              "Distance Between Max Curve and Min Paqui         0.089815  ...    0.108834\n",
              "Position of Most Curve Point Relative to Center  0.101973  ...    0.163733\n",
              "Max Depth                                        0.047569  ...   -0.049156\n",
              "Max Curve                                        0.129078  ...    0.519664\n",
              "Max Variation Curve                              0.011298  ...   -0.057291\n",
              "Mean Curve                                      -0.023933  ...    1.000000\n",
              "\n",
              "[9 rows x 9 columns]"
            ]
          },
          "metadata": {
            "tags": []
          },
          "execution_count": 83
        }
      ]
    },
    {
      "cell_type": "markdown",
      "metadata": {
        "colab_type": "text",
        "id": "Ql5dV-brc2fA"
      },
      "source": [
        "Como estos valores están sacados del Pentacam, la máquina que nos permite obtener los mapas paquimétricos, de elevación y de curvatura , empleando un describe podemos ver si tenemos algún dato máximo o mínimo que no se ajusten a un ojo real. En este caso, con ayuda de un especialista en óptica, podemos ver que no tenemos ningún dato fuera de la normalidad."
      ]
    },
    {
      "cell_type": "code",
      "metadata": {
        "colab_type": "code",
        "id": "tbUv8QvNc2fB",
        "outputId": "c950c374-4959-49e9-9f75-ad5e90aeb831",
        "colab": {
          "base_uri": "https://localhost:8080/",
          "height": 319
        }
      },
      "source": [
        "eye_df.describe()"
      ],
      "execution_count": 84,
      "outputs": [
        {
          "output_type": "execute_result",
          "data": {
            "text/html": [
              "<div>\n",
              "<style scoped>\n",
              "    .dataframe tbody tr th:only-of-type {\n",
              "        vertical-align: middle;\n",
              "    }\n",
              "\n",
              "    .dataframe tbody tr th {\n",
              "        vertical-align: top;\n",
              "    }\n",
              "\n",
              "    .dataframe thead th {\n",
              "        text-align: right;\n",
              "    }\n",
              "</style>\n",
              "<table border=\"1\" class=\"dataframe\">\n",
              "  <thead>\n",
              "    <tr style=\"text-align: right;\">\n",
              "      <th></th>\n",
              "      <th>Age</th>\n",
              "      <th>K Max</th>\n",
              "      <th>Paqui Min</th>\n",
              "      <th>Distance Between Max Curve and Min Paqui</th>\n",
              "      <th>Position of Most Curve Point Relative to Center</th>\n",
              "      <th>Max Depth</th>\n",
              "      <th>Max Curve</th>\n",
              "      <th>Max Variation Curve</th>\n",
              "      <th>Mean Curve</th>\n",
              "    </tr>\n",
              "  </thead>\n",
              "  <tbody>\n",
              "    <tr>\n",
              "      <th>count</th>\n",
              "      <td>461.000000</td>\n",
              "      <td>461.000000</td>\n",
              "      <td>461.000000</td>\n",
              "      <td>461.000000</td>\n",
              "      <td>461.000000</td>\n",
              "      <td>461.000000</td>\n",
              "      <td>461.000000</td>\n",
              "      <td>461.000000</td>\n",
              "      <td>461.000000</td>\n",
              "    </tr>\n",
              "    <tr>\n",
              "      <th>mean</th>\n",
              "      <td>42.121475</td>\n",
              "      <td>53.808872</td>\n",
              "      <td>468.449024</td>\n",
              "      <td>1.503449</td>\n",
              "      <td>1.687657</td>\n",
              "      <td>2851.835141</td>\n",
              "      <td>4.670954</td>\n",
              "      <td>3.552560</td>\n",
              "      <td>6.414816</td>\n",
              "    </tr>\n",
              "    <tr>\n",
              "      <th>std</th>\n",
              "      <td>13.967758</td>\n",
              "      <td>6.350378</td>\n",
              "      <td>46.357544</td>\n",
              "      <td>1.362391</td>\n",
              "      <td>1.396684</td>\n",
              "      <td>381.546964</td>\n",
              "      <td>0.693313</td>\n",
              "      <td>1.963347</td>\n",
              "      <td>0.282299</td>\n",
              "    </tr>\n",
              "    <tr>\n",
              "      <th>min</th>\n",
              "      <td>15.000000</td>\n",
              "      <td>42.730000</td>\n",
              "      <td>297.000000</td>\n",
              "      <td>0.100000</td>\n",
              "      <td>0.060000</td>\n",
              "      <td>1854.000000</td>\n",
              "      <td>2.420000</td>\n",
              "      <td>1.290000</td>\n",
              "      <td>5.240000</td>\n",
              "    </tr>\n",
              "    <tr>\n",
              "      <th>25%</th>\n",
              "      <td>31.000000</td>\n",
              "      <td>49.190000</td>\n",
              "      <td>435.000000</td>\n",
              "      <td>0.760000</td>\n",
              "      <td>0.780000</td>\n",
              "      <td>2622.000000</td>\n",
              "      <td>4.190000</td>\n",
              "      <td>2.710000</td>\n",
              "      <td>6.230000</td>\n",
              "    </tr>\n",
              "    <tr>\n",
              "      <th>50%</th>\n",
              "      <td>42.000000</td>\n",
              "      <td>52.490000</td>\n",
              "      <td>472.000000</td>\n",
              "      <td>1.080000</td>\n",
              "      <td>1.250000</td>\n",
              "      <td>2807.000000</td>\n",
              "      <td>4.750000</td>\n",
              "      <td>3.240000</td>\n",
              "      <td>6.420000</td>\n",
              "    </tr>\n",
              "    <tr>\n",
              "      <th>75%</th>\n",
              "      <td>50.000000</td>\n",
              "      <td>56.930000</td>\n",
              "      <td>498.000000</td>\n",
              "      <td>1.490000</td>\n",
              "      <td>2.070000</td>\n",
              "      <td>3003.000000</td>\n",
              "      <td>5.180000</td>\n",
              "      <td>4.000000</td>\n",
              "      <td>6.610000</td>\n",
              "    </tr>\n",
              "    <tr>\n",
              "      <th>max</th>\n",
              "      <td>95.000000</td>\n",
              "      <td>88.100000</td>\n",
              "      <td>617.000000</td>\n",
              "      <td>6.930000</td>\n",
              "      <td>6.900000</td>\n",
              "      <td>4787.000000</td>\n",
              "      <td>6.360000</td>\n",
              "      <td>31.000000</td>\n",
              "      <td>7.160000</td>\n",
              "    </tr>\n",
              "  </tbody>\n",
              "</table>\n",
              "</div>"
            ],
            "text/plain": [
              "              Age       K Max  ...  Max Variation Curve  Mean Curve\n",
              "count  461.000000  461.000000  ...           461.000000  461.000000\n",
              "mean    42.121475   53.808872  ...             3.552560    6.414816\n",
              "std     13.967758    6.350378  ...             1.963347    0.282299\n",
              "min     15.000000   42.730000  ...             1.290000    5.240000\n",
              "25%     31.000000   49.190000  ...             2.710000    6.230000\n",
              "50%     42.000000   52.490000  ...             3.240000    6.420000\n",
              "75%     50.000000   56.930000  ...             4.000000    6.610000\n",
              "max     95.000000   88.100000  ...            31.000000    7.160000\n",
              "\n",
              "[8 rows x 9 columns]"
            ]
          },
          "metadata": {
            "tags": []
          },
          "execution_count": 84
        }
      ]
    },
    {
      "cell_type": "markdown",
      "metadata": {
        "colab_type": "text",
        "id": "aPlBvZvec2fD"
      },
      "source": [
        "Vamos a comprobar el numero de muestras que poseemos de cada una de las etiquetas"
      ]
    },
    {
      "cell_type": "code",
      "metadata": {
        "colab_type": "code",
        "id": "zMe7F4E1c2fE",
        "outputId": "a7bd213b-14d1-4e79-ff55-254735058c4d",
        "colab": {
          "base_uri": "https://localhost:8080/",
          "height": 100
        }
      },
      "source": [
        "eye_df.groupby(['Treatment'])['Treatment'].count()"
      ],
      "execution_count": 85,
      "outputs": [
        {
          "output_type": "execute_result",
          "data": {
            "text/plain": [
              "Treatment\n",
              "Pacientes sin operar                        230\n",
              "Pacientes tratados mediante anillos         169\n",
              "Pacientes tratados mediante crosslinking     62\n",
              "Name: Treatment, dtype: int64"
            ]
          },
          "metadata": {
            "tags": []
          },
          "execution_count": 85
        }
      ]
    },
    {
      "cell_type": "markdown",
      "metadata": {
        "id": "duzdf0YW0ie9",
        "colab_type": "text"
      },
      "source": [
        "## Modelado"
      ]
    },
    {
      "cell_type": "markdown",
      "metadata": {
        "colab_type": "text",
        "id": "xDo1s8yHc2fI"
      },
      "source": [
        "Como podemos ver, tenemos el dataset bastante desbalanceado, siendo el número de pacientes sin tratar mayor que el numero de pacientes tratados mediante anillos y mediante crosslinking.\n",
        "\n",
        "Vamos a intentar, en primera instancia, crear un clasificador capaz de detectar si un paciente se le debe operar o no, por lo que debemos crear una nueva columna"
      ]
    },
    {
      "cell_type": "code",
      "metadata": {
        "colab_type": "code",
        "id": "DhYDB8pjc2fJ",
        "colab": {}
      },
      "source": [
        "eye_df_cl_1 = copy.deepcopy(eye_df)"
      ],
      "execution_count": 0,
      "outputs": []
    },
    {
      "cell_type": "code",
      "metadata": {
        "colab_type": "code",
        "id": "pRrvPRJzc2fL",
        "outputId": "82dca5f0-ba13-4798-db22-8eb4f9a5c03a",
        "colab": {
          "base_uri": "https://localhost:8080/",
          "height": 313
        }
      },
      "source": [
        "eye_df_cl_1['Operated'] = np.where(eye_df_cl_1['Treatment'] == 'Pacientes sin operar', 'No', 'Yes')\n",
        "eye_df_cl_1['Operated Binary'] = np.where(eye_df_cl_1['Treatment'] == 'Pacientes sin operar', 0, 1)\n",
        "eye_df_cl_1.head(5)"
      ],
      "execution_count": 210,
      "outputs": [
        {
          "output_type": "execute_result",
          "data": {
            "text/html": [
              "<div>\n",
              "<style scoped>\n",
              "    .dataframe tbody tr th:only-of-type {\n",
              "        vertical-align: middle;\n",
              "    }\n",
              "\n",
              "    .dataframe tbody tr th {\n",
              "        vertical-align: top;\n",
              "    }\n",
              "\n",
              "    .dataframe thead th {\n",
              "        text-align: right;\n",
              "    }\n",
              "</style>\n",
              "<table border=\"1\" class=\"dataframe\">\n",
              "  <thead>\n",
              "    <tr style=\"text-align: right;\">\n",
              "      <th></th>\n",
              "      <th>Age</th>\n",
              "      <th>K Max</th>\n",
              "      <th>Paqui Min</th>\n",
              "      <th>Distance Between Max Curve and Min Paqui</th>\n",
              "      <th>Position of Most Curve Point Relative to Center</th>\n",
              "      <th>Treatment</th>\n",
              "      <th>Max Depth</th>\n",
              "      <th>Max Curve</th>\n",
              "      <th>Max Variation Curve</th>\n",
              "      <th>Mean Curve</th>\n",
              "      <th>Operated</th>\n",
              "      <th>Operated Binary</th>\n",
              "    </tr>\n",
              "  </thead>\n",
              "  <tbody>\n",
              "    <tr>\n",
              "      <th>0</th>\n",
              "      <td>24</td>\n",
              "      <td>54.11</td>\n",
              "      <td>429</td>\n",
              "      <td>0.78</td>\n",
              "      <td>1.09</td>\n",
              "      <td>Pacientes tratados mediante anillos</td>\n",
              "      <td>2670</td>\n",
              "      <td>4.56</td>\n",
              "      <td>3.72</td>\n",
              "      <td>6.49</td>\n",
              "      <td>Yes</td>\n",
              "      <td>1</td>\n",
              "    </tr>\n",
              "    <tr>\n",
              "      <th>1</th>\n",
              "      <td>24</td>\n",
              "      <td>53.18</td>\n",
              "      <td>425</td>\n",
              "      <td>0.54</td>\n",
              "      <td>0.96</td>\n",
              "      <td>Pacientes tratados mediante anillos</td>\n",
              "      <td>2449</td>\n",
              "      <td>4.62</td>\n",
              "      <td>3.44</td>\n",
              "      <td>6.51</td>\n",
              "      <td>Yes</td>\n",
              "      <td>1</td>\n",
              "    </tr>\n",
              "    <tr>\n",
              "      <th>2</th>\n",
              "      <td>35</td>\n",
              "      <td>66.97</td>\n",
              "      <td>408</td>\n",
              "      <td>4.87</td>\n",
              "      <td>4.65</td>\n",
              "      <td>Pacientes tratados mediante anillos</td>\n",
              "      <td>2842</td>\n",
              "      <td>3.51</td>\n",
              "      <td>5.54</td>\n",
              "      <td>6.37</td>\n",
              "      <td>Yes</td>\n",
              "      <td>1</td>\n",
              "    </tr>\n",
              "    <tr>\n",
              "      <th>3</th>\n",
              "      <td>35</td>\n",
              "      <td>64.18</td>\n",
              "      <td>372</td>\n",
              "      <td>5.50</td>\n",
              "      <td>4.88</td>\n",
              "      <td>Pacientes tratados mediante anillos</td>\n",
              "      <td>3124</td>\n",
              "      <td>3.62</td>\n",
              "      <td>5.10</td>\n",
              "      <td>6.44</td>\n",
              "      <td>Yes</td>\n",
              "      <td>1</td>\n",
              "    </tr>\n",
              "    <tr>\n",
              "      <th>4</th>\n",
              "      <td>35</td>\n",
              "      <td>64.33</td>\n",
              "      <td>466</td>\n",
              "      <td>0.40</td>\n",
              "      <td>1.02</td>\n",
              "      <td>Pacientes tratados mediante anillos</td>\n",
              "      <td>2692</td>\n",
              "      <td>3.44</td>\n",
              "      <td>5.25</td>\n",
              "      <td>5.85</td>\n",
              "      <td>Yes</td>\n",
              "      <td>1</td>\n",
              "    </tr>\n",
              "  </tbody>\n",
              "</table>\n",
              "</div>"
            ],
            "text/plain": [
              "   Age  K Max  Paqui Min  ...  Mean Curve  Operated Operated Binary\n",
              "0   24  54.11        429  ...        6.49       Yes               1\n",
              "1   24  53.18        425  ...        6.51       Yes               1\n",
              "2   35  66.97        408  ...        6.37       Yes               1\n",
              "3   35  64.18        372  ...        6.44       Yes               1\n",
              "4   35  64.33        466  ...        5.85       Yes               1\n",
              "\n",
              "[5 rows x 12 columns]"
            ]
          },
          "metadata": {
            "tags": []
          },
          "execution_count": 210
        }
      ]
    },
    {
      "cell_type": "markdown",
      "metadata": {
        "colab_type": "text",
        "id": "X1jVCAaEc2fO"
      },
      "source": [
        "Como podemos ver, en este caso tenemos el dataset mucho más balaceado que en el caso anterior, por lo que se convierte en un buen inicio para probar clasificadores"
      ]
    },
    {
      "cell_type": "code",
      "metadata": {
        "colab_type": "code",
        "id": "E4As0o24c2fP",
        "outputId": "0e718ce9-2de7-45e8-be54-33d75cb9aefa",
        "colab": {
          "base_uri": "https://localhost:8080/",
          "height": 84
        }
      },
      "source": [
        "eye_df_cl_1.groupby(['Operated'])['Operated'].count()"
      ],
      "execution_count": 88,
      "outputs": [
        {
          "output_type": "execute_result",
          "data": {
            "text/plain": [
              "Operated\n",
              "No     230\n",
              "Yes    231\n",
              "Name: Operated, dtype: int64"
            ]
          },
          "metadata": {
            "tags": []
          },
          "execution_count": 88
        }
      ]
    },
    {
      "cell_type": "markdown",
      "metadata": {
        "colab_type": "text",
        "id": "DgDiVY_sc2fS"
      },
      "source": [
        "Para probar los modelos, creamos los vectores x e y que nos permitirán entrenarlos"
      ]
    },
    {
      "cell_type": "code",
      "metadata": {
        "colab_type": "code",
        "id": "RMFioTl4c2fT",
        "colab": {}
      },
      "source": [
        "x = eye_df_cl_1[['Max Depth', 'Max Curve', 'Max Variation Curve', 'Mean Curve', 'Age', 'K Max', 'Paqui Min', 'Distance Between Max Curve and Min Paqui', 'Position of Most Curve Point Relative to Center']]\n",
        "y = eye_df_cl_1['Operated']\n",
        "y_dl = eye_df_cl_1['Operated Binary']"
      ],
      "execution_count": 0,
      "outputs": []
    },
    {
      "cell_type": "markdown",
      "metadata": {
        "id": "qD5oRD7i0ifT",
        "colab_type": "text"
      },
      "source": [
        "### Regresión Logística"
      ]
    },
    {
      "cell_type": "markdown",
      "metadata": {
        "colab_type": "text",
        "id": "EYBzUNlpc2fV"
      },
      "source": [
        "Vamos a comenzar con una regresión logistica"
      ]
    },
    {
      "cell_type": "code",
      "metadata": {
        "colab_type": "code",
        "id": "fdNP5p9Qc2fW",
        "colab": {}
      },
      "source": [
        "clf = LogisticRegression()"
      ],
      "execution_count": 0,
      "outputs": []
    },
    {
      "cell_type": "markdown",
      "metadata": {
        "colab_type": "text",
        "id": "mZzurNr6c2fb"
      },
      "source": [
        "Para probar los clasificadores, vamos a emplear una validación cruzada. Vamos a utilizar la siguiente función para valorar mediante la función classification_report los resultados obtenidos mediante la validación cruzada. Esta función la introduciremos dentro de un make_scorer."
      ]
    },
    {
      "cell_type": "code",
      "metadata": {
        "colab_type": "code",
        "id": "8VYk7eEec2fc",
        "colab": {}
      },
      "source": [
        "def classification_report_with_accuracy_score(y_true, y_pred):\n",
        "\n",
        "    print (classification_report(y_true, y_pred))\n",
        "    return accuracy_score(y_true, y_pred)"
      ],
      "execution_count": 0,
      "outputs": []
    },
    {
      "cell_type": "markdown",
      "metadata": {
        "id": "ppYEdbuJ_TLH",
        "colab_type": "text"
      },
      "source": [
        "Vamos a emplear esta función obtenida de Scikit Learn para pintar la matriz de confusión"
      ]
    },
    {
      "cell_type": "code",
      "metadata": {
        "id": "8NhQB8Je-ucf",
        "colab_type": "code",
        "colab": {}
      },
      "source": [
        "def plot_confusion_matrix(y_true, y_pred, classes,\n",
        "                          normalize=False,\n",
        "                          title=None,\n",
        "                          cmap=plt.cm.Blues):\n",
        "    \"\"\"\n",
        "    This function prints and plots the confusion matrix.\n",
        "    Normalization can be applied by setting `normalize=True`.\n",
        "    \"\"\"\n",
        "    if not title:\n",
        "        if normalize:\n",
        "            title = 'Normalized confusion matrix'\n",
        "        else:\n",
        "            title = 'Confusion matrix, without normalization'\n",
        "\n",
        "    # Compute confusion matrix\n",
        "    cm = confusion_matrix(y_true, y_pred)\n",
        "    # Only use the labels that appear in the data\n",
        "    #classes = classes[unique_labels(y_true, y_pred)]\n",
        "    if normalize:\n",
        "        cm = cm.astype('float') / cm.sum(axis=1)[:, np.newaxis]\n",
        "        print(\"Normalized confusion matrix\")\n",
        "    else:\n",
        "        print('Confusion matrix, without normalization')\n",
        "\n",
        "    print(cm)\n",
        "\n",
        "    fig, ax = plt.subplots()\n",
        "    im = ax.imshow(cm, interpolation='nearest', cmap=cmap)\n",
        "    ax.figure.colorbar(im, ax=ax)\n",
        "    # We want to show all ticks...\n",
        "    ax.set(xticks=np.arange(cm.shape[1]),\n",
        "           yticks=np.arange(cm.shape[0]),\n",
        "           # ... and label them with the respective list entries\n",
        "           xticklabels=classes, yticklabels=classes,\n",
        "           title=title,\n",
        "           ylabel='True label',\n",
        "           xlabel='Predicted label')\n",
        "\n",
        "    # Rotate the tick labels and set their alignment.\n",
        "    plt.setp(ax.get_xticklabels(), rotation=45, ha=\"right\",\n",
        "             rotation_mode=\"anchor\")\n",
        "\n",
        "    # Loop over data dimensions and create text annotations.\n",
        "    fmt = '.2f' if normalize else 'd'\n",
        "    thresh = cm.max() / 2.\n",
        "    for i in range(cm.shape[0]):\n",
        "        for j in range(cm.shape[1]):\n",
        "            ax.text(j, i, format(cm[i, j], fmt),\n",
        "                    ha=\"center\", va=\"center\",\n",
        "                    color= \"black\")\n",
        "    fig.tight_layout()\n",
        "    return ax"
      ],
      "execution_count": 0,
      "outputs": []
    },
    {
      "cell_type": "markdown",
      "metadata": {
        "colab_type": "text",
        "id": "bOY-0B6Kc2fe"
      },
      "source": [
        "Como podemos comprobar, tenemos un accuracy medio en las 10 iteraciones de un 73 %."
      ]
    },
    {
      "cell_type": "code",
      "metadata": {
        "colab_type": "code",
        "id": "1pcSLo-qc2ff",
        "outputId": "4749e015-d74e-462c-8bc8-6725b125d01e",
        "colab": {
          "base_uri": "https://localhost:8080/",
          "height": 1893
        }
      },
      "source": [
        "cross_val_score(clf, x, y, cv=10, scoring = make_scorer(classification_report_with_accuracy_score)).mean()"
      ],
      "execution_count": 93,
      "outputs": [
        {
          "output_type": "stream",
          "text": [
            "              precision    recall  f1-score   support\n",
            "\n",
            "          No       0.68      0.83      0.75        23\n",
            "         Yes       0.79      0.62      0.70        24\n",
            "\n",
            "    accuracy                           0.72        47\n",
            "   macro avg       0.73      0.73      0.72        47\n",
            "weighted avg       0.74      0.72      0.72        47\n",
            "\n",
            "              precision    recall  f1-score   support\n",
            "\n",
            "          No       0.79      0.65      0.71        23\n",
            "         Yes       0.70      0.83      0.76        23\n",
            "\n",
            "    accuracy                           0.74        46\n",
            "   macro avg       0.75      0.74      0.74        46\n",
            "weighted avg       0.75      0.74      0.74        46\n",
            "\n",
            "              precision    recall  f1-score   support\n",
            "\n",
            "          No       0.76      0.83      0.79        23\n",
            "         Yes       0.81      0.74      0.77        23\n",
            "\n",
            "    accuracy                           0.78        46\n",
            "   macro avg       0.78      0.78      0.78        46\n",
            "weighted avg       0.78      0.78      0.78        46\n",
            "\n",
            "              precision    recall  f1-score   support\n",
            "\n",
            "          No       0.61      0.74      0.67        23\n",
            "         Yes       0.67      0.52      0.59        23\n",
            "\n",
            "    accuracy                           0.63        46\n",
            "   macro avg       0.64      0.63      0.63        46\n",
            "weighted avg       0.64      0.63      0.63        46\n",
            "\n",
            "              precision    recall  f1-score   support\n",
            "\n",
            "          No       0.73      0.70      0.71        23\n",
            "         Yes       0.71      0.74      0.72        23\n",
            "\n",
            "    accuracy                           0.72        46\n",
            "   macro avg       0.72      0.72      0.72        46\n",
            "weighted avg       0.72      0.72      0.72        46\n",
            "\n",
            "              precision    recall  f1-score   support\n",
            "\n",
            "          No       0.71      0.87      0.78        23\n",
            "         Yes       0.83      0.65      0.73        23\n",
            "\n",
            "    accuracy                           0.76        46\n",
            "   macro avg       0.77      0.76      0.76        46\n",
            "weighted avg       0.77      0.76      0.76        46\n",
            "\n",
            "              precision    recall  f1-score   support\n",
            "\n",
            "          No       0.60      0.65      0.63        23\n",
            "         Yes       0.62      0.57      0.59        23\n",
            "\n",
            "    accuracy                           0.61        46\n",
            "   macro avg       0.61      0.61      0.61        46\n",
            "weighted avg       0.61      0.61      0.61        46\n",
            "\n",
            "              precision    recall  f1-score   support\n",
            "\n",
            "          No       0.73      0.83      0.78        23\n",
            "         Yes       0.80      0.70      0.74        23\n",
            "\n",
            "    accuracy                           0.76        46\n",
            "   macro avg       0.77      0.76      0.76        46\n",
            "weighted avg       0.77      0.76      0.76        46\n",
            "\n",
            "              precision    recall  f1-score   support\n",
            "\n",
            "          No       0.82      0.78      0.80        23\n",
            "         Yes       0.79      0.83      0.81        23\n",
            "\n",
            "    accuracy                           0.80        46\n",
            "   macro avg       0.80      0.80      0.80        46\n",
            "weighted avg       0.80      0.80      0.80        46\n",
            "\n",
            "              precision    recall  f1-score   support\n",
            "\n",
            "          No       0.74      0.87      0.80        23\n",
            "         Yes       0.84      0.70      0.76        23\n",
            "\n",
            "    accuracy                           0.78        46\n",
            "   macro avg       0.79      0.78      0.78        46\n",
            "weighted avg       0.79      0.78      0.78        46\n",
            "\n"
          ],
          "name": "stdout"
        },
        {
          "output_type": "stream",
          "text": [
            "/usr/local/lib/python3.6/dist-packages/sklearn/linear_model/logistic.py:432: FutureWarning: Default solver will be changed to 'lbfgs' in 0.22. Specify a solver to silence this warning.\n",
            "  FutureWarning)\n",
            "/usr/local/lib/python3.6/dist-packages/sklearn/linear_model/logistic.py:432: FutureWarning: Default solver will be changed to 'lbfgs' in 0.22. Specify a solver to silence this warning.\n",
            "  FutureWarning)\n",
            "/usr/local/lib/python3.6/dist-packages/sklearn/linear_model/logistic.py:432: FutureWarning: Default solver will be changed to 'lbfgs' in 0.22. Specify a solver to silence this warning.\n",
            "  FutureWarning)\n",
            "/usr/local/lib/python3.6/dist-packages/sklearn/linear_model/logistic.py:432: FutureWarning: Default solver will be changed to 'lbfgs' in 0.22. Specify a solver to silence this warning.\n",
            "  FutureWarning)\n",
            "/usr/local/lib/python3.6/dist-packages/sklearn/linear_model/logistic.py:432: FutureWarning: Default solver will be changed to 'lbfgs' in 0.22. Specify a solver to silence this warning.\n",
            "  FutureWarning)\n",
            "/usr/local/lib/python3.6/dist-packages/sklearn/linear_model/logistic.py:432: FutureWarning: Default solver will be changed to 'lbfgs' in 0.22. Specify a solver to silence this warning.\n",
            "  FutureWarning)\n",
            "/usr/local/lib/python3.6/dist-packages/sklearn/linear_model/logistic.py:432: FutureWarning: Default solver will be changed to 'lbfgs' in 0.22. Specify a solver to silence this warning.\n",
            "  FutureWarning)\n",
            "/usr/local/lib/python3.6/dist-packages/sklearn/linear_model/logistic.py:432: FutureWarning: Default solver will be changed to 'lbfgs' in 0.22. Specify a solver to silence this warning.\n",
            "  FutureWarning)\n",
            "/usr/local/lib/python3.6/dist-packages/sklearn/linear_model/logistic.py:432: FutureWarning: Default solver will be changed to 'lbfgs' in 0.22. Specify a solver to silence this warning.\n",
            "  FutureWarning)\n",
            "/usr/local/lib/python3.6/dist-packages/sklearn/linear_model/logistic.py:432: FutureWarning: Default solver will be changed to 'lbfgs' in 0.22. Specify a solver to silence this warning.\n",
            "  FutureWarning)\n"
          ],
          "name": "stderr"
        },
        {
          "output_type": "execute_result",
          "data": {
            "text/plain": [
              "0.731036077705828"
            ]
          },
          "metadata": {
            "tags": []
          },
          "execution_count": 93
        }
      ]
    },
    {
      "cell_type": "code",
      "metadata": {
        "id": "Rwcr6GIb9179",
        "colab_type": "code",
        "colab": {}
      },
      "source": [
        "X_train, X_test, y_train, y_test = train_test_split(x, y, test_size=0.3)"
      ],
      "execution_count": 0,
      "outputs": []
    },
    {
      "cell_type": "code",
      "metadata": {
        "id": "HTwTC9Os91zs",
        "colab_type": "code",
        "colab": {
          "base_uri": "https://localhost:8080/",
          "height": 154
        },
        "outputId": "59d99e86-293d-4f8b-da2e-3c5a3366fbe6"
      },
      "source": [
        "clf.fit(X_train, y_train)"
      ],
      "execution_count": 184,
      "outputs": [
        {
          "output_type": "stream",
          "text": [
            "/usr/local/lib/python3.6/dist-packages/sklearn/linear_model/logistic.py:432: FutureWarning: Default solver will be changed to 'lbfgs' in 0.22. Specify a solver to silence this warning.\n",
            "  FutureWarning)\n"
          ],
          "name": "stderr"
        },
        {
          "output_type": "execute_result",
          "data": {
            "text/plain": [
              "LogisticRegression(C=1.0, class_weight=None, dual=False, fit_intercept=True,\n",
              "                   intercept_scaling=1, l1_ratio=None, max_iter=100,\n",
              "                   multi_class='warn', n_jobs=None, penalty='l2',\n",
              "                   random_state=None, solver='warn', tol=0.0001, verbose=0,\n",
              "                   warm_start=False)"
            ]
          },
          "metadata": {
            "tags": []
          },
          "execution_count": 184
        }
      ]
    },
    {
      "cell_type": "code",
      "metadata": {
        "id": "_qwANIp291rr",
        "colab_type": "code",
        "colab": {
          "base_uri": "https://localhost:8080/",
          "height": 364
        },
        "outputId": "1d92c4ce-03f5-44b2-ae99-273f88c095bc"
      },
      "source": [
        "y_pred_log_reg=clf.predict(X_test)\n",
        "cm_log_reg = confusion_matrix(y_test, y_pred_log_reg)\n",
        "classes = ['Yes', 'No']\n",
        "plot_confusion_matrix(y_test, y_pred_log_reg, classes=classes, title='Matriz de confusión de la regresión logística')"
      ],
      "execution_count": 188,
      "outputs": [
        {
          "output_type": "stream",
          "text": [
            "Confusion matrix, without normalization\n",
            "[[59 16]\n",
            " [16 48]]\n"
          ],
          "name": "stdout"
        },
        {
          "output_type": "execute_result",
          "data": {
            "text/plain": [
              "<matplotlib.axes._subplots.AxesSubplot at 0x7f334d53ca58>"
            ]
          },
          "metadata": {
            "tags": []
          },
          "execution_count": 188
        },
        {
          "output_type": "display_data",
          "data": {
            "image/png": "[encoded data removed]",
            "text/plain": [
              "<Figure size 432x288 with 2 Axes>"
            ]
          },
          "metadata": {
            "tags": []
          }
        }
      ]
    },
    {
      "cell_type": "code",
      "metadata": {
        "id": "EF9OHBjVCyJB",
        "colab_type": "code",
        "colab": {
          "base_uri": "https://localhost:8080/",
          "height": 184
        },
        "outputId": "55361207-cc14-4e1b-95e5-9acb9a93fb40"
      },
      "source": [
        "print (classification_report(y_test, y_pred_log_reg, target_names=classes))\n",
        "print (accuracy_score(y_test, y_pred_log_reg))"
      ],
      "execution_count": 189,
      "outputs": [
        {
          "output_type": "stream",
          "text": [
            "              precision    recall  f1-score   support\n",
            "\n",
            "         Yes       0.79      0.79      0.79        75\n",
            "          No       0.75      0.75      0.75        64\n",
            "\n",
            "    accuracy                           0.77       139\n",
            "   macro avg       0.77      0.77      0.77       139\n",
            "weighted avg       0.77      0.77      0.77       139\n",
            "\n",
            "0.7697841726618705\n"
          ],
          "name": "stdout"
        }
      ]
    },
    {
      "cell_type": "markdown",
      "metadata": {
        "id": "CyfiBHBp0ifo",
        "colab_type": "text"
      },
      "source": [
        "### K Nearest Neighbors"
      ]
    },
    {
      "cell_type": "markdown",
      "metadata": {
        "colab_type": "text",
        "id": "tzuq0fzJc2fi"
      },
      "source": [
        "Una vez probada la regresión logística, vamos a probar a implementar un k nearest neighbors. Para este caso, para encontrar los hiperparámetros más óptimos, vamos a emplear un gridsearch. Vamos a utilizar un número de vecinos bajo ya que el número de muestras de nuestro dataset es bajo."
      ]
    },
    {
      "cell_type": "code",
      "metadata": {
        "colab_type": "code",
        "id": "XFXIA4GTc2fj",
        "colab": {}
      },
      "source": [
        "clf_kn = GridSearchCV(KNeighborsClassifier(),\n",
        "                  param_grid={\"n_neighbors\":np.arange(2, 20)},\n",
        "                  cv=5,\n",
        "                  scoring='accuracy')"
      ],
      "execution_count": 0,
      "outputs": []
    },
    {
      "cell_type": "code",
      "metadata": {
        "colab_type": "code",
        "id": "Gp3yDRvLc2fl",
        "outputId": "9112375a-4623-4400-8dbe-a3751732a9c6",
        "colab": {
          "base_uri": "https://localhost:8080/",
          "height": 201
        }
      },
      "source": [
        "clf_kn.fit(x, y)"
      ],
      "execution_count": 106,
      "outputs": [
        {
          "output_type": "execute_result",
          "data": {
            "text/plain": [
              "GridSearchCV(cv=5, error_score='raise-deprecating',\n",
              "             estimator=KNeighborsClassifier(algorithm='auto', leaf_size=30,\n",
              "                                            metric='minkowski',\n",
              "                                            metric_params=None, n_jobs=None,\n",
              "                                            n_neighbors=5, p=2,\n",
              "                                            weights='uniform'),\n",
              "             iid='warn', n_jobs=None,\n",
              "             param_grid={'n_neighbors': array([ 2,  3,  4,  5,  6,  7,  8,  9, 10, 11, 12, 13, 14, 15, 16, 17, 18,\n",
              "       19])},\n",
              "             pre_dispatch='2*n_jobs', refit=True, return_train_score=False,\n",
              "             scoring='accuracy', verbose=0)"
            ]
          },
          "metadata": {
            "tags": []
          },
          "execution_count": 106
        }
      ]
    },
    {
      "cell_type": "markdown",
      "metadata": {
        "colab_type": "text",
        "id": "EXCX5BASc2fp"
      },
      "source": [
        "Como podemos ver, para este caso los k nearest neighbors no funcionan tan bien como el modelo anterior, obteniendo un accuracy máximo de 61%, lo cual es inferior al 73 % de la regresión logística. "
      ]
    },
    {
      "cell_type": "code",
      "metadata": {
        "colab_type": "code",
        "id": "gqX87jaCc2fp",
        "outputId": "05b03810-ae1e-41e0-f67e-b2a01054bb7a",
        "colab": {
          "base_uri": "https://localhost:8080/",
          "height": 33
        }
      },
      "source": [
        "clf_kn.best_score_"
      ],
      "execution_count": 107,
      "outputs": [
        {
          "output_type": "execute_result",
          "data": {
            "text/plain": [
              "0.613882863340564"
            ]
          },
          "metadata": {
            "tags": []
          },
          "execution_count": 107
        }
      ]
    },
    {
      "cell_type": "code",
      "metadata": {
        "colab_type": "code",
        "id": "xxiiWUs-c2fs",
        "outputId": "90336da7-f791-4797-ae18-5e65486845cb",
        "colab": {
          "base_uri": "https://localhost:8080/",
          "height": 33
        }
      },
      "source": [
        "clf_kn.best_params_"
      ],
      "execution_count": 108,
      "outputs": [
        {
          "output_type": "execute_result",
          "data": {
            "text/plain": [
              "{'n_neighbors': 9}"
            ]
          },
          "metadata": {
            "tags": []
          },
          "execution_count": 108
        }
      ]
    },
    {
      "cell_type": "code",
      "metadata": {
        "id": "HE4_UAeXFUAL",
        "colab_type": "code",
        "colab": {
          "base_uri": "https://localhost:8080/",
          "height": 254
        },
        "outputId": "b0315c48-216d-4935-c944-a4989b281858"
      },
      "source": [
        "clf_kn.fit(X_train, y_train)"
      ],
      "execution_count": 109,
      "outputs": [
        {
          "output_type": "stream",
          "text": [
            "/usr/local/lib/python3.6/dist-packages/sklearn/model_selection/_search.py:813: DeprecationWarning: The default of the `iid` parameter will change from True to False in version 0.22 and will be removed in 0.24. This will change numeric results when test-set sizes are unequal.\n",
            "  DeprecationWarning)\n"
          ],
          "name": "stderr"
        },
        {
          "output_type": "execute_result",
          "data": {
            "text/plain": [
              "GridSearchCV(cv=5, error_score='raise-deprecating',\n",
              "             estimator=KNeighborsClassifier(algorithm='auto', leaf_size=30,\n",
              "                                            metric='minkowski',\n",
              "                                            metric_params=None, n_jobs=None,\n",
              "                                            n_neighbors=5, p=2,\n",
              "                                            weights='uniform'),\n",
              "             iid='warn', n_jobs=None,\n",
              "             param_grid={'n_neighbors': array([ 2,  3,  4,  5,  6,  7,  8,  9, 10, 11, 12, 13, 14, 15, 16, 17, 18,\n",
              "       19])},\n",
              "             pre_dispatch='2*n_jobs', refit=True, return_train_score=False,\n",
              "             scoring='accuracy', verbose=0)"
            ]
          },
          "metadata": {
            "tags": []
          },
          "execution_count": 109
        }
      ]
    },
    {
      "cell_type": "code",
      "metadata": {
        "id": "4TaqgdMXFZ5S",
        "colab_type": "code",
        "colab": {
          "base_uri": "https://localhost:8080/",
          "height": 364
        },
        "outputId": "30d3f914-3d59-4c4e-9e67-ec558b4f8bfb"
      },
      "source": [
        "y_pred_kn=clf_kn.best_estimator_.predict(X_test)\n",
        "classes = ['Yes', 'No']\n",
        "plot_confusion_matrix(y_test, y_pred_kn, classes=classes, title='Matriz de confusión del K Nearest Neighbors')"
      ],
      "execution_count": 115,
      "outputs": [
        {
          "output_type": "stream",
          "text": [
            "Confusion matrix, without normalization\n",
            "[[48 25]\n",
            " [23 43]]\n"
          ],
          "name": "stdout"
        },
        {
          "output_type": "execute_result",
          "data": {
            "text/plain": [
              "<matplotlib.axes._subplots.AxesSubplot at 0x7f334d9d4358>"
            ]
          },
          "metadata": {
            "tags": []
          },
          "execution_count": 115
        },
        {
          "output_type": "display_data",
          "data": {
            "image/png": "[encoded data removed]",
            "text/plain": [
              "<Figure size 432x288 with 2 Axes>"
            ]
          },
          "metadata": {
            "tags": []
          }
        }
      ]
    },
    {
      "cell_type": "code",
      "metadata": {
        "id": "rV6VCdugF5gC",
        "colab_type": "code",
        "colab": {
          "base_uri": "https://localhost:8080/",
          "height": 184
        },
        "outputId": "562c235c-b4fd-49a8-a9e5-6861a14d464e"
      },
      "source": [
        "print (classification_report(y_test, y_pred_kn, target_names=classes))\n",
        "print (accuracy_score(y_test, y_pred_kn))"
      ],
      "execution_count": 114,
      "outputs": [
        {
          "output_type": "stream",
          "text": [
            "              precision    recall  f1-score   support\n",
            "\n",
            "         Yes       0.68      0.66      0.67        73\n",
            "          No       0.63      0.65      0.64        66\n",
            "\n",
            "    accuracy                           0.65       139\n",
            "   macro avg       0.65      0.65      0.65       139\n",
            "weighted avg       0.66      0.65      0.65       139\n",
            "\n",
            "0.6546762589928058\n"
          ],
          "name": "stdout"
        }
      ]
    },
    {
      "cell_type": "markdown",
      "metadata": {
        "id": "pYMiQDqW0if5",
        "colab_type": "text"
      },
      "source": [
        "### SVM"
      ]
    },
    {
      "cell_type": "markdown",
      "metadata": {
        "colab_type": "text",
        "id": "KzXMVv15c2fv"
      },
      "source": [
        "El siguiente paso es probar con un Support Vector Machine. Vamos a comprobar los distintos tipos que existen de este clasificador para comprobar si alguno de estos se puede ajustar más al dataset que tenemos. En primer lugar vamos a probar con un kernel linear, empleando un gridsearch para encontrar el mejor hiperparámetro. Obtenemos un resultado parecido a la regresión logística, con aproximadamente un 74 % de accuracy."
      ]
    },
    {
      "cell_type": "code",
      "metadata": {
        "colab_type": "code",
        "id": "iLSQSZYDc2fw",
        "colab": {}
      },
      "source": [
        "clf_svml = GridSearchCV(SVC(kernel=\"linear\",),\n",
        "                  param_grid={\"C\":[1,10,100,1000,10000]},\n",
        "                  cv=10,\n",
        "                  scoring=\"accuracy\")"
      ],
      "execution_count": 0,
      "outputs": []
    },
    {
      "cell_type": "code",
      "metadata": {
        "colab_type": "code",
        "id": "LjTIAU7qc2fx",
        "outputId": "8689e3ca-1191-4c0e-ee3e-4107d7191fed",
        "colab": {
          "base_uri": "https://localhost:8080/",
          "height": 184
        }
      },
      "source": [
        "clf_svml.fit(x, y)"
      ],
      "execution_count": 117,
      "outputs": [
        {
          "output_type": "execute_result",
          "data": {
            "text/plain": [
              "GridSearchCV(cv=10, error_score='raise-deprecating',\n",
              "             estimator=SVC(C=1.0, cache_size=200, class_weight=None, coef0=0.0,\n",
              "                           decision_function_shape='ovr', degree=3,\n",
              "                           gamma='auto_deprecated', kernel='linear',\n",
              "                           max_iter=-1, probability=False, random_state=None,\n",
              "                           shrinking=True, tol=0.001, verbose=False),\n",
              "             iid='warn', n_jobs=None,\n",
              "             param_grid={'C': [1, 10, 100, 1000, 10000]},\n",
              "             pre_dispatch='2*n_jobs', refit=True, return_train_score=False,\n",
              "             scoring='accuracy', verbose=0)"
            ]
          },
          "metadata": {
            "tags": []
          },
          "execution_count": 117
        }
      ]
    },
    {
      "cell_type": "code",
      "metadata": {
        "colab_type": "code",
        "id": "t-t3UFSxc2f1",
        "outputId": "f5ac2306-5862-4115-aedf-9397bc020259",
        "colab": {
          "base_uri": "https://localhost:8080/",
          "height": 33
        }
      },
      "source": [
        "clf_svml.best_score_"
      ],
      "execution_count": 118,
      "outputs": [
        {
          "output_type": "execute_result",
          "data": {
            "text/plain": [
              "0.7396963123644251"
            ]
          },
          "metadata": {
            "tags": []
          },
          "execution_count": 118
        }
      ]
    },
    {
      "cell_type": "code",
      "metadata": {
        "colab_type": "code",
        "id": "wM-gYyLCc2f4",
        "outputId": "3ec490da-1603-414c-f835-f1d91c221174",
        "colab": {
          "base_uri": "https://localhost:8080/",
          "height": 33
        }
      },
      "source": [
        "clf_svml.best_params_"
      ],
      "execution_count": 119,
      "outputs": [
        {
          "output_type": "execute_result",
          "data": {
            "text/plain": [
              "{'C': 1000}"
            ]
          },
          "metadata": {
            "tags": []
          },
          "execution_count": 119
        }
      ]
    },
    {
      "cell_type": "code",
      "metadata": {
        "id": "LwDyGAJCISPQ",
        "colab_type": "code",
        "colab": {
          "base_uri": "https://localhost:8080/",
          "height": 237
        },
        "outputId": "cee467e2-f4ab-4f6c-a576-ae87b8c195cb"
      },
      "source": [
        "clf_svml.fit(X_train, y_train)"
      ],
      "execution_count": 120,
      "outputs": [
        {
          "output_type": "stream",
          "text": [
            "/usr/local/lib/python3.6/dist-packages/sklearn/model_selection/_search.py:813: DeprecationWarning: The default of the `iid` parameter will change from True to False in version 0.22 and will be removed in 0.24. This will change numeric results when test-set sizes are unequal.\n",
            "  DeprecationWarning)\n"
          ],
          "name": "stderr"
        },
        {
          "output_type": "execute_result",
          "data": {
            "text/plain": [
              "GridSearchCV(cv=10, error_score='raise-deprecating',\n",
              "             estimator=SVC(C=1.0, cache_size=200, class_weight=None, coef0=0.0,\n",
              "                           decision_function_shape='ovr', degree=3,\n",
              "                           gamma='auto_deprecated', kernel='linear',\n",
              "                           max_iter=-1, probability=False, random_state=None,\n",
              "                           shrinking=True, tol=0.001, verbose=False),\n",
              "             iid='warn', n_jobs=None,\n",
              "             param_grid={'C': [1, 10, 100, 1000, 10000]},\n",
              "             pre_dispatch='2*n_jobs', refit=True, return_train_score=False,\n",
              "             scoring='accuracy', verbose=0)"
            ]
          },
          "metadata": {
            "tags": []
          },
          "execution_count": 120
        }
      ]
    },
    {
      "cell_type": "code",
      "metadata": {
        "id": "oJt7x8r7ISCQ",
        "colab_type": "code",
        "colab": {
          "base_uri": "https://localhost:8080/",
          "height": 364
        },
        "outputId": "cffb9b4b-41ec-43da-f081-ab6ad35f91ce"
      },
      "source": [
        "y_pred_svm=clf_svml.best_estimator_.predict(X_test)\n",
        "classes = ['Yes', 'No']\n",
        "plot_confusion_matrix(y_test, y_pred_svm, classes=classes, title='Matriz de confusión del SVM')"
      ],
      "execution_count": 121,
      "outputs": [
        {
          "output_type": "stream",
          "text": [
            "Confusion matrix, without normalization\n",
            "[[50 23]\n",
            " [17 49]]\n"
          ],
          "name": "stdout"
        },
        {
          "output_type": "execute_result",
          "data": {
            "text/plain": [
              "<matplotlib.axes._subplots.AxesSubplot at 0x7f334d94b278>"
            ]
          },
          "metadata": {
            "tags": []
          },
          "execution_count": 121
        },
        {
          "output_type": "display_data",
          "data": {
            "image/png": "[encoded data removed]",
            "text/plain": [
              "<Figure size 432x288 with 2 Axes>"
            ]
          },
          "metadata": {
            "tags": []
          }
        }
      ]
    },
    {
      "cell_type": "code",
      "metadata": {
        "id": "qFeVX089IR_b",
        "colab_type": "code",
        "colab": {
          "base_uri": "https://localhost:8080/",
          "height": 184
        },
        "outputId": "49d1467c-32b2-4a4b-ce3f-bdd77c4c500c"
      },
      "source": [
        "print (classification_report(y_test, y_pred_svm, target_names=classes))\n",
        "print (accuracy_score(y_test, y_pred_svm))"
      ],
      "execution_count": 122,
      "outputs": [
        {
          "output_type": "stream",
          "text": [
            "              precision    recall  f1-score   support\n",
            "\n",
            "         Yes       0.75      0.68      0.71        73\n",
            "          No       0.68      0.74      0.71        66\n",
            "\n",
            "    accuracy                           0.71       139\n",
            "   macro avg       0.71      0.71      0.71       139\n",
            "weighted avg       0.72      0.71      0.71       139\n",
            "\n",
            "0.7122302158273381\n"
          ],
          "name": "stdout"
        }
      ]
    },
    {
      "cell_type": "markdown",
      "metadata": {
        "id": "DyTDwGkZ0igO",
        "colab_type": "text"
      },
      "source": [
        "### Decision Tree"
      ]
    },
    {
      "cell_type": "markdown",
      "metadata": {
        "colab_type": "text",
        "id": "c7ZKA3k3c_to"
      },
      "source": [
        "Una vez comprobados los SVM, vamos a comprobar los árboles de decisión. Como podemos observar, mediante el árbol de decisión no somos capaces de conseguir más accuracy comparado con la regresión logística."
      ]
    },
    {
      "cell_type": "code",
      "metadata": {
        "colab_type": "code",
        "id": "5SP47Sxhc2gG",
        "colab": {}
      },
      "source": [
        "clf_dt = GridSearchCV(DecisionTreeClassifier(),\n",
        "                      param_grid={\"min_samples_leaf\":np.arange(1,100),\n",
        "                                 'max_depth': np.arange(2, 20)},\n",
        "                     cv = 10,\n",
        "                     scoring = \"accuracy\")"
      ],
      "execution_count": 0,
      "outputs": []
    },
    {
      "cell_type": "code",
      "metadata": {
        "colab_type": "code",
        "id": "2xv1_MyCc2gM",
        "outputId": "7315f3af-f58c-4794-9c14-6997bf55e966",
        "colab": {
          "base_uri": "https://localhost:8080/",
          "height": 421
        }
      },
      "source": [
        "clf_dt.fit(x, y)"
      ],
      "execution_count": 132,
      "outputs": [
        {
          "output_type": "stream",
          "text": [
            "/usr/local/lib/python3.6/dist-packages/sklearn/model_selection/_search.py:813: DeprecationWarning: The default of the `iid` parameter will change from True to False in version 0.22 and will be removed in 0.24. This will change numeric results when test-set sizes are unequal.\n",
            "  DeprecationWarning)\n"
          ],
          "name": "stderr"
        },
        {
          "output_type": "execute_result",
          "data": {
            "text/plain": [
              "GridSearchCV(cv=10, error_score='raise-deprecating',\n",
              "             estimator=DecisionTreeClassifier(class_weight=None,\n",
              "                                              criterion='gini', max_depth=None,\n",
              "                                              max_features=None,\n",
              "                                              max_leaf_nodes=None,\n",
              "                                              min_impurity_decrease=0.0,\n",
              "                                              min_impurity_split=None,\n",
              "                                              min_samples_leaf=1,\n",
              "                                              min_samples_split=2,\n",
              "                                              min_weight_fraction_leaf=0.0,\n",
              "                                              presort=False, random_state=None,\n",
              "                                              splitter='best'),\n",
              "             iid='warn',...\n",
              "                         'min_samples_leaf': array([ 1,  2,  3,  4,  5,  6,  7,  8,  9, 10, 11, 12, 13, 14, 15, 16, 17,\n",
              "       18, 19, 20, 21, 22, 23, 24, 25, 26, 27, 28, 29, 30, 31, 32, 33, 34,\n",
              "       35, 36, 37, 38, 39, 40, 41, 42, 43, 44, 45, 46, 47, 48, 49, 50, 51,\n",
              "       52, 53, 54, 55, 56, 57, 58, 59, 60, 61, 62, 63, 64, 65, 66, 67, 68,\n",
              "       69, 70, 71, 72, 73, 74, 75, 76, 77, 78, 79, 80, 81, 82, 83, 84, 85,\n",
              "       86, 87, 88, 89, 90, 91, 92, 93, 94, 95, 96, 97, 98, 99])},\n",
              "             pre_dispatch='2*n_jobs', refit=True, return_train_score=False,\n",
              "             scoring='accuracy', verbose=0)"
            ]
          },
          "metadata": {
            "tags": []
          },
          "execution_count": 132
        }
      ]
    },
    {
      "cell_type": "code",
      "metadata": {
        "colab_type": "code",
        "id": "2dd5qR8xc2gP",
        "outputId": "cebe7888-b68f-4d57-fef9-1d263fe02cca",
        "colab": {
          "base_uri": "https://localhost:8080/",
          "height": 33
        }
      },
      "source": [
        "clf_dt.best_params_"
      ],
      "execution_count": 137,
      "outputs": [
        {
          "output_type": "execute_result",
          "data": {
            "text/plain": [
              "{'max_depth': 7, 'min_samples_leaf': 13}"
            ]
          },
          "metadata": {
            "tags": []
          },
          "execution_count": 137
        }
      ]
    },
    {
      "cell_type": "code",
      "metadata": {
        "colab_type": "code",
        "id": "Ab8NkGi0c2gT",
        "outputId": "6c82b77e-9574-438b-f719-dbe9908d8ef1",
        "colab": {
          "base_uri": "https://localhost:8080/",
          "height": 33
        }
      },
      "source": [
        "clf_dt.best_score_"
      ],
      "execution_count": 126,
      "outputs": [
        {
          "output_type": "execute_result",
          "data": {
            "text/plain": [
              "0.702819956616052"
            ]
          },
          "metadata": {
            "tags": []
          },
          "execution_count": 126
        }
      ]
    },
    {
      "cell_type": "code",
      "metadata": {
        "id": "iTE1o0uBKS9M",
        "colab_type": "code",
        "colab": {
          "base_uri": "https://localhost:8080/",
          "height": 421
        },
        "outputId": "9abdb827-7125-4fef-9136-df912f245a02"
      },
      "source": [
        "clf_dt.fit(X_train, y_train)"
      ],
      "execution_count": 128,
      "outputs": [
        {
          "output_type": "stream",
          "text": [
            "/usr/local/lib/python3.6/dist-packages/sklearn/model_selection/_search.py:813: DeprecationWarning: The default of the `iid` parameter will change from True to False in version 0.22 and will be removed in 0.24. This will change numeric results when test-set sizes are unequal.\n",
            "  DeprecationWarning)\n"
          ],
          "name": "stderr"
        },
        {
          "output_type": "execute_result",
          "data": {
            "text/plain": [
              "GridSearchCV(cv=10, error_score='raise-deprecating',\n",
              "             estimator=DecisionTreeClassifier(class_weight=None,\n",
              "                                              criterion='gini', max_depth=None,\n",
              "                                              max_features=None,\n",
              "                                              max_leaf_nodes=None,\n",
              "                                              min_impurity_decrease=0.0,\n",
              "                                              min_impurity_split=None,\n",
              "                                              min_samples_leaf=1,\n",
              "                                              min_samples_split=2,\n",
              "                                              min_weight_fraction_leaf=0.0,\n",
              "                                              presort=False, random_state=None,\n",
              "                                              splitter='best'),\n",
              "             iid='warn',...\n",
              "                         'min_samples_leaf': array([ 1,  2,  3,  4,  5,  6,  7,  8,  9, 10, 11, 12, 13, 14, 15, 16, 17,\n",
              "       18, 19, 20, 21, 22, 23, 24, 25, 26, 27, 28, 29, 30, 31, 32, 33, 34,\n",
              "       35, 36, 37, 38, 39, 40, 41, 42, 43, 44, 45, 46, 47, 48, 49, 50, 51,\n",
              "       52, 53, 54, 55, 56, 57, 58, 59, 60, 61, 62, 63, 64, 65, 66, 67, 68,\n",
              "       69, 70, 71, 72, 73, 74, 75, 76, 77, 78, 79, 80, 81, 82, 83, 84, 85,\n",
              "       86, 87, 88, 89, 90, 91, 92, 93, 94, 95, 96, 97, 98, 99])},\n",
              "             pre_dispatch='2*n_jobs', refit=True, return_train_score=False,\n",
              "             scoring='accuracy', verbose=0)"
            ]
          },
          "metadata": {
            "tags": []
          },
          "execution_count": 128
        }
      ]
    },
    {
      "cell_type": "code",
      "metadata": {
        "id": "SbJYgHEGKS3y",
        "colab_type": "code",
        "colab": {
          "base_uri": "https://localhost:8080/",
          "height": 364
        },
        "outputId": "ca03834f-90c1-4149-a917-deef4708e0b5"
      },
      "source": [
        "clf_dt_test = DecisionTreeClassifier(max_depth = 7, min_samples_leaf = 13)\n",
        "clf_dt_test.fit(X_train, y_train)\n",
        "y_pred_dt=clf_dt_test.predict(X_test)\n",
        "classes = ['Yes', 'No']\n",
        "plot_confusion_matrix(y_test, y_pred_dt, classes=classes, title='Matriz de confusión del Decision Tree')"
      ],
      "execution_count": 135,
      "outputs": [
        {
          "output_type": "stream",
          "text": [
            "Confusion matrix, without normalization\n",
            "[[48 25]\n",
            " [25 41]]\n"
          ],
          "name": "stdout"
        },
        {
          "output_type": "execute_result",
          "data": {
            "text/plain": [
              "<matplotlib.axes._subplots.AxesSubplot at 0x7f334cbae5f8>"
            ]
          },
          "metadata": {
            "tags": []
          },
          "execution_count": 135
        },
        {
          "output_type": "display_data",
          "data": {
            "image/png": "[encoded data removed]",
            "text/plain": [
              "<Figure size 432x288 with 2 Axes>"
            ]
          },
          "metadata": {
            "tags": []
          }
        }
      ]
    },
    {
      "cell_type": "code",
      "metadata": {
        "id": "oD-Ct4JrKS08",
        "colab_type": "code",
        "colab": {
          "base_uri": "https://localhost:8080/",
          "height": 184
        },
        "outputId": "acfb32ae-ec7f-4b14-e0f5-68f7ad3c4ffa"
      },
      "source": [
        "print (classification_report(y_test, y_pred_dt, target_names=classes))\n",
        "print (accuracy_score(y_test, y_pred_dt))"
      ],
      "execution_count": 136,
      "outputs": [
        {
          "output_type": "stream",
          "text": [
            "              precision    recall  f1-score   support\n",
            "\n",
            "         Yes       0.66      0.66      0.66        73\n",
            "          No       0.62      0.62      0.62        66\n",
            "\n",
            "    accuracy                           0.64       139\n",
            "   macro avg       0.64      0.64      0.64       139\n",
            "weighted avg       0.64      0.64      0.64       139\n",
            "\n",
            "0.6402877697841727\n"
          ],
          "name": "stdout"
        }
      ]
    },
    {
      "cell_type": "markdown",
      "metadata": {
        "id": "Sf14QgIj0igu",
        "colab_type": "text"
      },
      "source": [
        "### Random Forest"
      ]
    },
    {
      "cell_type": "markdown",
      "metadata": {
        "colab_type": "text",
        "id": "O06w5oLAPOEo"
      },
      "source": [
        "Vamos a intentar implementar un Random Forest. Como hemos podido ver, heredando el valor de min_samples_leaf del árbol de decisión, hemos conseguido mejorar el accuracy hasta un 76.57%"
      ]
    },
    {
      "cell_type": "code",
      "metadata": {
        "colab_type": "code",
        "id": "yUkEMRtEc2gX",
        "colab": {}
      },
      "source": [
        "clf_rf = GridSearchCV(RandomForestClassifier(),\n",
        "                      param_grid = {'min_samples_leaf': np.arange(1,20,2),\n",
        "                                    'n_estimators': np.arange(20,300, 20),\n",
        "                                    'max_depth': np.arange(2,10)\n",
        "                      },\n",
        "                      cv = 5,\n",
        "                      scoring = 'accuracy',\n",
        "                      n_jobs = -1)"
      ],
      "execution_count": 0,
      "outputs": []
    },
    {
      "cell_type": "code",
      "metadata": {
        "colab_type": "code",
        "id": "JzM_MlZwc2gO",
        "outputId": "3a4b8ea5-5a8c-43bd-b7a8-54d7f83aa9ff",
        "colab": {
          "base_uri": "https://localhost:8080/",
          "height": 368
        }
      },
      "source": [
        "clf_rf.fit(x, y)"
      ],
      "execution_count": 154,
      "outputs": [
        {
          "output_type": "execute_result",
          "data": {
            "text/plain": [
              "GridSearchCV(cv=5, error_score='raise-deprecating',\n",
              "             estimator=RandomForestClassifier(bootstrap=True, class_weight=None,\n",
              "                                              criterion='gini', max_depth=None,\n",
              "                                              max_features='auto',\n",
              "                                              max_leaf_nodes=None,\n",
              "                                              min_impurity_decrease=0.0,\n",
              "                                              min_impurity_split=None,\n",
              "                                              min_samples_leaf=1,\n",
              "                                              min_samples_split=2,\n",
              "                                              min_weight_fraction_leaf=0.0,\n",
              "                                              n_estimators='warn', n_jobs=None,\n",
              "                                              oob_score=False,\n",
              "                                              random_state=None, verbose=0,\n",
              "                                              warm_start=False),\n",
              "             iid='warn', n_jobs=-1,\n",
              "             param_grid={'max_depth': array([2, 3, 4, 5, 6, 7, 8, 9]),\n",
              "                         'min_samples_leaf': array([ 1,  3,  5,  7,  9, 11, 13, 15, 17, 19]),\n",
              "                         'n_estimators': array([ 20,  40,  60,  80, 100, 120, 140, 160, 180, 200, 220, 240, 260,\n",
              "       280])},\n",
              "             pre_dispatch='2*n_jobs', refit=True, return_train_score=False,\n",
              "             scoring='accuracy', verbose=0)"
            ]
          },
          "metadata": {
            "tags": []
          },
          "execution_count": 154
        }
      ]
    },
    {
      "cell_type": "code",
      "metadata": {
        "colab_type": "code",
        "id": "L8GSyfeXc2gP",
        "outputId": "1afd8455-0a10-43c2-a902-9616fcef4eec",
        "colab": {
          "base_uri": "https://localhost:8080/",
          "height": 33
        }
      },
      "source": [
        "clf_rf.best_score_"
      ],
      "execution_count": 155,
      "outputs": [
        {
          "output_type": "execute_result",
          "data": {
            "text/plain": [
              "0.7613882863340564"
            ]
          },
          "metadata": {
            "tags": []
          },
          "execution_count": 155
        }
      ]
    },
    {
      "cell_type": "code",
      "metadata": {
        "colab_type": "code",
        "id": "8UEOsUNcc2gS",
        "outputId": "f385e25f-9b46-44ce-c94d-8c7cdae62704",
        "colab": {
          "base_uri": "https://localhost:8080/",
          "height": 33
        }
      },
      "source": [
        "clf_rf.best_params_"
      ],
      "execution_count": 156,
      "outputs": [
        {
          "output_type": "execute_result",
          "data": {
            "text/plain": [
              "{'max_depth': 7, 'min_samples_leaf': 1, 'n_estimators': 140}"
            ]
          },
          "metadata": {
            "tags": []
          },
          "execution_count": 156
        }
      ]
    },
    {
      "cell_type": "code",
      "metadata": {
        "colab_type": "code",
        "id": "M4Mmp-Fwc2gU",
        "colab": {}
      },
      "source": [
        "clf_rf_good = clf_rf.best_estimator_"
      ],
      "execution_count": 0,
      "outputs": []
    },
    {
      "cell_type": "markdown",
      "metadata": {
        "colab_type": "text",
        "id": "nqo86Xp3TJa0"
      },
      "source": [
        "Mediante el método feature_importances_ podemos ver cómo influyen cada una de las variables a la decisión tomada por el Random Forest, siendo la más importante la máxima variación de la curvatura y la menos importante la media de las curvaturas."
      ]
    },
    {
      "cell_type": "code",
      "metadata": {
        "colab_type": "code",
        "id": "sOezR4qBc2gZ",
        "outputId": "3fe606ff-e119-44fd-c1ac-752e712c4a54",
        "colab": {
          "base_uri": "https://localhost:8080/",
          "height": 50
        }
      },
      "source": [
        "clf_rf_good.feature_importances_"
      ],
      "execution_count": 159,
      "outputs": [
        {
          "output_type": "execute_result",
          "data": {
            "text/plain": [
              "array([0.1078405 , 0.11441745, 0.17603685, 0.04377307, 0.16115489,\n",
              "       0.17603678, 0.08121399, 0.08692425, 0.05260224])"
            ]
          },
          "metadata": {
            "tags": []
          },
          "execution_count": 159
        }
      ]
    },
    {
      "cell_type": "code",
      "metadata": {
        "colab_type": "code",
        "id": "dyhIqfBPTHV-",
        "outputId": "9e5a78f5-d273-4320-c48e-beabce9926bd",
        "colab": {
          "base_uri": "https://localhost:8080/",
          "height": 84
        }
      },
      "source": [
        "x.columns"
      ],
      "execution_count": 160,
      "outputs": [
        {
          "output_type": "execute_result",
          "data": {
            "text/plain": [
              "Index(['Max Depth', 'Max Curve', 'Max Variation Curve', 'Mean Curve', 'Age',\n",
              "       'K Max', 'Paqui Min', 'Distance Between Max Curve and Min Paqui',\n",
              "       'Position of Most Curve Point Relative to Center'],\n",
              "      dtype='object')"
            ]
          },
          "metadata": {
            "tags": []
          },
          "execution_count": 160
        }
      ]
    },
    {
      "cell_type": "markdown",
      "metadata": {
        "colab_type": "text",
        "id": "0JNFsOB1TrOu"
      },
      "source": [
        "Vamos a  hacer una prueba eliminando las columnas menos influyentes, para comprobar como se comporta el Random Forest, y como podemos comprobar, eliminando la media de las curvaturas, podemos subir a un 76% el accuracy."
      ]
    },
    {
      "cell_type": "code",
      "metadata": {
        "colab_type": "code",
        "id": "phcKWNpkS0qJ",
        "colab": {}
      },
      "source": [
        "x_upgrade = eye_df_cl_1[['Max Depth', 'Max Curve', 'Max Variation Curve', 'Age', 'K Max', 'Paqui Min', 'Distance Between Max Curve and Min Paqui', 'Position of Most Curve Point Relative to Center']]"
      ],
      "execution_count": 0,
      "outputs": []
    },
    {
      "cell_type": "code",
      "metadata": {
        "colab_type": "code",
        "id": "BdwQbzaUS0nC",
        "outputId": "c008a8cc-80d8-4acc-c656-945087f660ab",
        "colab": {
          "base_uri": "https://localhost:8080/",
          "height": 368
        }
      },
      "source": [
        "clf_rf.fit(x_upgrade, y)"
      ],
      "execution_count": 162,
      "outputs": [
        {
          "output_type": "execute_result",
          "data": {
            "text/plain": [
              "GridSearchCV(cv=5, error_score='raise-deprecating',\n",
              "             estimator=RandomForestClassifier(bootstrap=True, class_weight=None,\n",
              "                                              criterion='gini', max_depth=None,\n",
              "                                              max_features='auto',\n",
              "                                              max_leaf_nodes=None,\n",
              "                                              min_impurity_decrease=0.0,\n",
              "                                              min_impurity_split=None,\n",
              "                                              min_samples_leaf=1,\n",
              "                                              min_samples_split=2,\n",
              "                                              min_weight_fraction_leaf=0.0,\n",
              "                                              n_estimators='warn', n_jobs=None,\n",
              "                                              oob_score=False,\n",
              "                                              random_state=None, verbose=0,\n",
              "                                              warm_start=False),\n",
              "             iid='warn', n_jobs=-1,\n",
              "             param_grid={'max_depth': array([2, 3, 4, 5, 6, 7, 8, 9]),\n",
              "                         'min_samples_leaf': array([ 1,  3,  5,  7,  9, 11, 13, 15, 17, 19]),\n",
              "                         'n_estimators': array([ 20,  40,  60,  80, 100, 120, 140, 160, 180, 200, 220, 240, 260,\n",
              "       280])},\n",
              "             pre_dispatch='2*n_jobs', refit=True, return_train_score=False,\n",
              "             scoring='accuracy', verbose=0)"
            ]
          },
          "metadata": {
            "tags": []
          },
          "execution_count": 162
        }
      ]
    },
    {
      "cell_type": "code",
      "metadata": {
        "colab_type": "code",
        "id": "INfxIlopS0lB",
        "outputId": "7b19ef1e-d657-4357-8211-7e5abbf97431",
        "colab": {
          "base_uri": "https://localhost:8080/",
          "height": 33
        }
      },
      "source": [
        "clf_rf.best_params_"
      ],
      "execution_count": 163,
      "outputs": [
        {
          "output_type": "execute_result",
          "data": {
            "text/plain": [
              "{'max_depth': 9, 'min_samples_leaf': 1, 'n_estimators': 180}"
            ]
          },
          "metadata": {
            "tags": []
          },
          "execution_count": 163
        }
      ]
    },
    {
      "cell_type": "code",
      "metadata": {
        "colab_type": "code",
        "id": "AU42tuUpS0jK",
        "outputId": "95ead79f-8f7a-44dc-9fe6-32a4d3b6fd35",
        "colab": {
          "base_uri": "https://localhost:8080/",
          "height": 33
        }
      },
      "source": [
        "clf_rf.best_score_"
      ],
      "execution_count": 164,
      "outputs": [
        {
          "output_type": "execute_result",
          "data": {
            "text/plain": [
              "0.7657266811279827"
            ]
          },
          "metadata": {
            "tags": []
          },
          "execution_count": 164
        }
      ]
    },
    {
      "cell_type": "markdown",
      "metadata": {
        "colab_type": "text",
        "id": "klHQksN7U-RL"
      },
      "source": [
        "Vamos a intentar volver a iterar eliminando un parámetro más que no sea determinante para el predictor. Como podemos ver, en este caso el parámetro menos influyente es la posición del punto más curvo con respecto al centro. En este caso, perdemos accuracy a pesar de quitar un parámetro poco influyente, por lo que vamos a mantener el vector x anterior."
      ]
    },
    {
      "cell_type": "code",
      "metadata": {
        "colab_type": "code",
        "id": "540QIeRYS0hV",
        "colab": {}
      },
      "source": [
        "clf_rf_good = clf_rf.best_estimator_"
      ],
      "execution_count": 0,
      "outputs": []
    },
    {
      "cell_type": "code",
      "metadata": {
        "colab_type": "code",
        "id": "2s2VYUIGS0cZ",
        "outputId": "f5d19fca-f2a6-45ef-a22b-f2e0543f052b",
        "colab": {
          "base_uri": "https://localhost:8080/",
          "height": 50
        }
      },
      "source": [
        "clf_rf_good.feature_importances_"
      ],
      "execution_count": 166,
      "outputs": [
        {
          "output_type": "execute_result",
          "data": {
            "text/plain": [
              "array([0.12127613, 0.11774145, 0.17263985, 0.15211056, 0.16140923,\n",
              "       0.104629  , 0.09725746, 0.07293632])"
            ]
          },
          "metadata": {
            "tags": []
          },
          "execution_count": 166
        }
      ]
    },
    {
      "cell_type": "code",
      "metadata": {
        "colab_type": "code",
        "id": "FlCUuKK3S0aT",
        "outputId": "4e727932-fde7-405b-821e-4c9f0345dc7f",
        "colab": {
          "base_uri": "https://localhost:8080/",
          "height": 84
        }
      },
      "source": [
        "x_upgrade.columns"
      ],
      "execution_count": 167,
      "outputs": [
        {
          "output_type": "execute_result",
          "data": {
            "text/plain": [
              "Index(['Max Depth', 'Max Curve', 'Max Variation Curve', 'Age', 'K Max',\n",
              "       'Paqui Min', 'Distance Between Max Curve and Min Paqui',\n",
              "       'Position of Most Curve Point Relative to Center'],\n",
              "      dtype='object')"
            ]
          },
          "metadata": {
            "tags": []
          },
          "execution_count": 167
        }
      ]
    },
    {
      "cell_type": "code",
      "metadata": {
        "colab_type": "code",
        "id": "GFTUQO9GS0Wc",
        "colab": {}
      },
      "source": [
        "x_upgrade_2 = eye_df_cl_1[['Max Depth', 'Max Curve', 'Max Variation Curve', 'Age', 'K Max', 'Paqui Min', 'Distance Between Max Curve and Min Paqui']]"
      ],
      "execution_count": 0,
      "outputs": []
    },
    {
      "cell_type": "code",
      "metadata": {
        "colab_type": "code",
        "id": "kevLsEQNS0Tk",
        "outputId": "31c06a36-3c15-4d2f-d588-fa787aad9f8c",
        "colab": {
          "base_uri": "https://localhost:8080/",
          "height": 368
        }
      },
      "source": [
        "clf_rf.fit(x_upgrade_2, y)"
      ],
      "execution_count": 169,
      "outputs": [
        {
          "output_type": "execute_result",
          "data": {
            "text/plain": [
              "GridSearchCV(cv=5, error_score='raise-deprecating',\n",
              "             estimator=RandomForestClassifier(bootstrap=True, class_weight=None,\n",
              "                                              criterion='gini', max_depth=None,\n",
              "                                              max_features='auto',\n",
              "                                              max_leaf_nodes=None,\n",
              "                                              min_impurity_decrease=0.0,\n",
              "                                              min_impurity_split=None,\n",
              "                                              min_samples_leaf=1,\n",
              "                                              min_samples_split=2,\n",
              "                                              min_weight_fraction_leaf=0.0,\n",
              "                                              n_estimators='warn', n_jobs=None,\n",
              "                                              oob_score=False,\n",
              "                                              random_state=None, verbose=0,\n",
              "                                              warm_start=False),\n",
              "             iid='warn', n_jobs=-1,\n",
              "             param_grid={'max_depth': array([2, 3, 4, 5, 6, 7, 8, 9]),\n",
              "                         'min_samples_leaf': array([ 1,  3,  5,  7,  9, 11, 13, 15, 17, 19]),\n",
              "                         'n_estimators': array([ 20,  40,  60,  80, 100, 120, 140, 160, 180, 200, 220, 240, 260,\n",
              "       280])},\n",
              "             pre_dispatch='2*n_jobs', refit=True, return_train_score=False,\n",
              "             scoring='accuracy', verbose=0)"
            ]
          },
          "metadata": {
            "tags": []
          },
          "execution_count": 169
        }
      ]
    },
    {
      "cell_type": "code",
      "metadata": {
        "colab_type": "code",
        "id": "lOsnsVl-VzYV",
        "outputId": "c2f1bb82-8ce9-4887-915d-71707db1eeaa",
        "colab": {
          "base_uri": "https://localhost:8080/",
          "height": 33
        }
      },
      "source": [
        "clf_rf.best_score_"
      ],
      "execution_count": 170,
      "outputs": [
        {
          "output_type": "execute_result",
          "data": {
            "text/plain": [
              "0.7613882863340564"
            ]
          },
          "metadata": {
            "tags": []
          },
          "execution_count": 170
        }
      ]
    },
    {
      "cell_type": "code",
      "metadata": {
        "colab_type": "code",
        "id": "yJO6xkD-VzWs",
        "outputId": "9e10c5d8-bd69-4d74-fb71-d082571ddfdf",
        "colab": {
          "base_uri": "https://localhost:8080/",
          "height": 33
        }
      },
      "source": [
        "clf_rf.best_params_"
      ],
      "execution_count": 171,
      "outputs": [
        {
          "output_type": "execute_result",
          "data": {
            "text/plain": [
              "{'max_depth': 9, 'min_samples_leaf': 3, 'n_estimators': 200}"
            ]
          },
          "metadata": {
            "tags": []
          },
          "execution_count": 171
        }
      ]
    },
    {
      "cell_type": "code",
      "metadata": {
        "id": "Cpd3ZE3RVVpI",
        "colab_type": "code",
        "colab": {}
      },
      "source": [
        "X_train_upgrade, X_test_upgrade, y_train_upgrade, y_test_upgrade = train_test_split(x_upgrade, y, test_size=0.2)"
      ],
      "execution_count": 0,
      "outputs": []
    },
    {
      "cell_type": "code",
      "metadata": {
        "id": "Nt2bBteyVCMh",
        "colab_type": "code",
        "colab": {
          "base_uri": "https://localhost:8080/",
          "height": 364
        },
        "outputId": "b2219889-cead-4114-fd11-36103dd117e1"
      },
      "source": [
        "clf_rf_test = RandomForestClassifier(n_estimators = 180, max_depth = 9, min_samples_leaf = 1)\n",
        "clf_rf_test.fit(X_train_upgrade, y_train_upgrade)\n",
        "y_pred_rf=clf_rf_test.predict(X_test_upgrade)\n",
        "classes = ['Yes', 'No']\n",
        "plot_confusion_matrix(y_test_upgrade, y_pred_rf, classes=classes, title='Matriz de confusión del Random Forest')"
      ],
      "execution_count": 191,
      "outputs": [
        {
          "output_type": "stream",
          "text": [
            "Confusion matrix, without normalization\n",
            "[[40 16]\n",
            " [ 6 31]]\n"
          ],
          "name": "stdout"
        },
        {
          "output_type": "execute_result",
          "data": {
            "text/plain": [
              "<matplotlib.axes._subplots.AxesSubplot at 0x7f334d3d5080>"
            ]
          },
          "metadata": {
            "tags": []
          },
          "execution_count": 191
        },
        {
          "output_type": "display_data",
          "data": {
            "image/png": "[encoded data removed]",
            "text/plain": [
              "<Figure size 432x288 with 2 Axes>"
            ]
          },
          "metadata": {
            "tags": []
          }
        }
      ]
    },
    {
      "cell_type": "code",
      "metadata": {
        "id": "txo8E0_VVCJu",
        "colab_type": "code",
        "colab": {
          "base_uri": "https://localhost:8080/",
          "height": 184
        },
        "outputId": "4107c95e-a4bc-4bbd-f74c-1eb98ef4e7be"
      },
      "source": [
        "print (classification_report(y_test_upgrade, y_pred_rf, target_names=classes))\n",
        "print (accuracy_score(y_test_upgrade, y_pred_rf))"
      ],
      "execution_count": 192,
      "outputs": [
        {
          "output_type": "stream",
          "text": [
            "              precision    recall  f1-score   support\n",
            "\n",
            "         Yes       0.87      0.71      0.78        56\n",
            "          No       0.66      0.84      0.74        37\n",
            "\n",
            "    accuracy                           0.76        93\n",
            "   macro avg       0.76      0.78      0.76        93\n",
            "weighted avg       0.79      0.76      0.77        93\n",
            "\n",
            "0.7634408602150538\n"
          ],
          "name": "stdout"
        }
      ]
    },
    {
      "cell_type": "markdown",
      "metadata": {
        "id": "qH_LkTY10ih5",
        "colab_type": "text"
      },
      "source": [
        "### XGBoost"
      ]
    },
    {
      "cell_type": "markdown",
      "metadata": {
        "colab_type": "text",
        "id": "sNev7a9LYN0M"
      },
      "source": [
        "Para el siguiente paso vamos a comprobar la eficacia de un xgboost en nuestro sistema. Como podemos ver se comporta de manera parecida al Random Forest, obteniendo resultados del 76 % de aciertos."
      ]
    },
    {
      "cell_type": "code",
      "metadata": {
        "colab_type": "code",
        "id": "KxZPfamPVzVO",
        "colab": {}
      },
      "source": [
        "clf_xg = GridSearchCV(XGBClassifier(),\n",
        "                      param_grid = {'max_depth': np.arange(2,10),\n",
        "                                   \"learning_rate\": np.arange(0.04, 0.32, 0.04),\n",
        "                                   \"n_estimators\": np.arange(100, 150, 10)},\n",
        "                      cv = 10,\n",
        "                      scoring = 'accuracy',\n",
        "                      n_jobs = -1\n",
        "         )"
      ],
      "execution_count": 0,
      "outputs": []
    },
    {
      "cell_type": "code",
      "metadata": {
        "colab_type": "code",
        "id": "X1bRbsn_VzTy",
        "outputId": "ece8dee4-0c6e-437f-d8f4-53b750bacf0d",
        "colab": {
          "base_uri": "https://localhost:8080/",
          "height": 354
        }
      },
      "source": [
        "clf_xg.fit(x_upgrade, y)"
      ],
      "execution_count": 195,
      "outputs": [
        {
          "output_type": "stream",
          "text": [
            "/usr/local/lib/python3.6/dist-packages/sklearn/model_selection/_search.py:813: DeprecationWarning: The default of the `iid` parameter will change from True to False in version 0.22 and will be removed in 0.24. This will change numeric results when test-set sizes are unequal.\n",
            "  DeprecationWarning)\n"
          ],
          "name": "stderr"
        },
        {
          "output_type": "execute_result",
          "data": {
            "text/plain": [
              "GridSearchCV(cv=10, error_score='raise-deprecating',\n",
              "             estimator=XGBClassifier(base_score=0.5, booster='gbtree',\n",
              "                                     colsample_bylevel=1, colsample_bynode=1,\n",
              "                                     colsample_bytree=1, gamma=0,\n",
              "                                     learning_rate=0.1, max_delta_step=0,\n",
              "                                     max_depth=3, min_child_weight=1,\n",
              "                                     missing=None, n_estimators=100, n_jobs=1,\n",
              "                                     nthread=None, objective='binary:logistic',\n",
              "                                     random_state=0, reg_alpha=0, reg_lambda=1,\n",
              "                                     scale_pos_weight=1, seed=None, silent=None,\n",
              "                                     subsample=1, verbosity=1),\n",
              "             iid='warn', n_jobs=-1,\n",
              "             param_grid={'learning_rate': array([0.04, 0.08, 0.12, 0.16, 0.2 , 0.24, 0.28, 0.32]),\n",
              "                         'max_depth': array([2, 3, 4, 5, 6, 7, 8, 9]),\n",
              "                         'n_estimators': array([100, 110, 120, 130, 140])},\n",
              "             pre_dispatch='2*n_jobs', refit=True, return_train_score=False,\n",
              "             scoring='accuracy', verbose=0)"
            ]
          },
          "metadata": {
            "tags": []
          },
          "execution_count": 195
        }
      ]
    },
    {
      "cell_type": "code",
      "metadata": {
        "colab_type": "code",
        "id": "NTY1gcu3VzR4",
        "outputId": "2c3ee475-6e70-4eb4-ad1f-1fe47eb652ea",
        "colab": {
          "base_uri": "https://localhost:8080/",
          "height": 33
        }
      },
      "source": [
        "clf_xg.best_params_"
      ],
      "execution_count": 196,
      "outputs": [
        {
          "output_type": "execute_result",
          "data": {
            "text/plain": [
              "{'learning_rate': 0.16, 'max_depth': 2, 'n_estimators': 130}"
            ]
          },
          "metadata": {
            "tags": []
          },
          "execution_count": 196
        }
      ]
    },
    {
      "cell_type": "code",
      "metadata": {
        "colab_type": "code",
        "id": "pcebiQHAVzQh",
        "outputId": "d390fc0d-0a03-4228-cf7a-abbffcb6e79a",
        "colab": {
          "base_uri": "https://localhost:8080/",
          "height": 33
        }
      },
      "source": [
        "clf_xg.best_score_"
      ],
      "execution_count": 197,
      "outputs": [
        {
          "output_type": "execute_result",
          "data": {
            "text/plain": [
              "0.7657266811279827"
            ]
          },
          "metadata": {
            "tags": []
          },
          "execution_count": 197
        }
      ]
    },
    {
      "cell_type": "code",
      "metadata": {
        "id": "hX4p28JYX4j8",
        "colab_type": "code",
        "colab": {
          "base_uri": "https://localhost:8080/",
          "height": 364
        },
        "outputId": "77532506-97a4-411e-c996-0505dcff07f7"
      },
      "source": [
        "clf_xgb_test = XGBClassifier(learning_rate = 0.16, max_depth = 2, n_estimators = 130)\n",
        "clf_xgb_test.fit(X_train_upgrade, y_train_upgrade)\n",
        "y_pred_xgb=clf_xgb_test.predict(X_test_upgrade)\n",
        "classes = ['Yes', 'No']\n",
        "plot_confusion_matrix(y_test_upgrade, y_pred_xgb, classes=classes, title='Matriz de confusión del XGBoost')"
      ],
      "execution_count": 198,
      "outputs": [
        {
          "output_type": "stream",
          "text": [
            "Confusion matrix, without normalization\n",
            "[[39 17]\n",
            " [ 9 28]]\n"
          ],
          "name": "stdout"
        },
        {
          "output_type": "execute_result",
          "data": {
            "text/plain": [
              "<matplotlib.axes._subplots.AxesSubplot at 0x7f334d29e208>"
            ]
          },
          "metadata": {
            "tags": []
          },
          "execution_count": 198
        },
        {
          "output_type": "display_data",
          "data": {
            "image/png": "[encoded data removed]",
            "text/plain": [
              "<Figure size 432x288 with 2 Axes>"
            ]
          },
          "metadata": {
            "tags": []
          }
        }
      ]
    },
    {
      "cell_type": "code",
      "metadata": {
        "id": "JF1VStvvX4hX",
        "colab_type": "code",
        "colab": {
          "base_uri": "https://localhost:8080/",
          "height": 184
        },
        "outputId": "ede142e9-701f-4d63-cb67-2a429eaa1ca0"
      },
      "source": [
        "print (classification_report(y_test_upgrade, y_pred_xgb, target_names=classes))\n",
        "print (accuracy_score(y_test_upgrade, y_pred_xgb))"
      ],
      "execution_count": 199,
      "outputs": [
        {
          "output_type": "stream",
          "text": [
            "              precision    recall  f1-score   support\n",
            "\n",
            "         Yes       0.81      0.70      0.75        56\n",
            "          No       0.62      0.76      0.68        37\n",
            "\n",
            "    accuracy                           0.72        93\n",
            "   macro avg       0.72      0.73      0.72        93\n",
            "weighted avg       0.74      0.72      0.72        93\n",
            "\n",
            "0.7204301075268817\n"
          ],
          "name": "stdout"
        }
      ]
    },
    {
      "cell_type": "markdown",
      "metadata": {
        "id": "5gaM6lJN0iiV",
        "colab_type": "text"
      },
      "source": [
        "### Gradient Boosted Trees"
      ]
    },
    {
      "cell_type": "markdown",
      "metadata": {
        "id": "i_7caY5c9IVj",
        "colab_type": "text"
      },
      "source": [
        "Para el siguiente caso vamos a utilizar un Gradient Boosted Tree, de la libreria de Scikit Learn. Como podemos ver, el resultado obtenido no supera a los resultados del XGBoost, por lo que nuestro mejor resultado sigue siendo el 76.57 %.\n",
        "\n"
      ]
    },
    {
      "cell_type": "code",
      "metadata": {
        "id": "JPkEEsED0iiZ",
        "colab_type": "code",
        "colab": {}
      },
      "source": [
        "clf_gbt = GridSearchCV(ensemble.GradientBoostingClassifier(),\n",
        "                      param_grid = {'max_depth': np.arange(2,10),\n",
        "                                   \"n_estimators\": np.arange(1000, 2000, 200),\n",
        "                                   \"max_leaf_nodes\": np.arange(2, 6, 1),\n",
        "                                   \"min_samples_leaf\": np.arange(2, 6, 1)},\n",
        "                      cv = 5,\n",
        "                      scoring = 'accuracy',\n",
        "         )"
      ],
      "execution_count": 0,
      "outputs": []
    },
    {
      "cell_type": "code",
      "metadata": {
        "id": "7mpH_G2O0iib",
        "colab_type": "code",
        "outputId": "7b9880c0-4ac2-4c07-8f7c-c26475cdc265",
        "colab": {
          "base_uri": "https://localhost:8080/",
          "height": 401
        }
      },
      "source": [
        "clf_gbt.fit(x_upgrade, y)"
      ],
      "execution_count": 275,
      "outputs": [
        {
          "output_type": "execute_result",
          "data": {
            "text/plain": [
              "GridSearchCV(cv=5, error_score='raise-deprecating',\n",
              "             estimator=GradientBoostingClassifier(criterion='friedman_mse',\n",
              "                                                  init=None, learning_rate=0.1,\n",
              "                                                  loss='deviance', max_depth=3,\n",
              "                                                  max_features=None,\n",
              "                                                  max_leaf_nodes=None,\n",
              "                                                  min_impurity_decrease=0.0,\n",
              "                                                  min_impurity_split=None,\n",
              "                                                  min_samples_leaf=1,\n",
              "                                                  min_samples_split=2,\n",
              "                                                  min_weight_fraction_leaf=0.0,\n",
              "                                                  n_estimators=100,\n",
              "                                                  n_iter_no...\n",
              "                                                  subsample=1.0, tol=0.0001,\n",
              "                                                  validation_fraction=0.1,\n",
              "                                                  verbose=0, warm_start=False),\n",
              "             iid='warn', n_jobs=None,\n",
              "             param_grid={'max_depth': array([2, 3, 4, 5, 6, 7, 8, 9]),\n",
              "                         'max_leaf_nodes': array([2, 3, 4, 5]),\n",
              "                         'min_samples_leaf': array([2, 3, 4, 5]),\n",
              "                         'n_estimators': array([1000, 1200, 1400, 1600, 1800])},\n",
              "             pre_dispatch='2*n_jobs', refit=True, return_train_score=False,\n",
              "             scoring='accuracy', verbose=0)"
            ]
          },
          "metadata": {
            "tags": []
          },
          "execution_count": 275
        }
      ]
    },
    {
      "cell_type": "code",
      "metadata": {
        "id": "e90579oq0iig",
        "colab_type": "code",
        "colab": {
          "base_uri": "https://localhost:8080/",
          "height": 84
        },
        "outputId": "3bc0b0ad-a08a-4635-f479-df2280a27452"
      },
      "source": [
        "clf_gbt.best_params_"
      ],
      "execution_count": 276,
      "outputs": [
        {
          "output_type": "execute_result",
          "data": {
            "text/plain": [
              "{'max_depth': 3,\n",
              " 'max_leaf_nodes': 5,\n",
              " 'min_samples_leaf': 3,\n",
              " 'n_estimators': 1200}"
            ]
          },
          "metadata": {
            "tags": []
          },
          "execution_count": 276
        }
      ]
    },
    {
      "cell_type": "code",
      "metadata": {
        "colab_type": "code",
        "id": "IOofXbOBVzLf",
        "colab": {
          "base_uri": "https://localhost:8080/",
          "height": 33
        },
        "outputId": "f9b89af6-ae9f-4a60-dc18-ad6fc6e34c43"
      },
      "source": [
        "clf_gbt.best_score_"
      ],
      "execution_count": 277,
      "outputs": [
        {
          "output_type": "execute_result",
          "data": {
            "text/plain": [
              "0.7223427331887202"
            ]
          },
          "metadata": {
            "tags": []
          },
          "execution_count": 277
        }
      ]
    },
    {
      "cell_type": "markdown",
      "metadata": {
        "id": "a_KSF_a_-c_C",
        "colab_type": "text"
      },
      "source": [
        "### Ensamblaje de modelos"
      ]
    },
    {
      "cell_type": "markdown",
      "metadata": {
        "id": "Mfd-8tun-f-H",
        "colab_type": "text"
      },
      "source": [
        "Una vez que tenemos ya una buena serie de modelos creados, y con sus métricas establecidas, vamos a intentar combinarlos para conseguir obtener mejores resultados. En primera instancia vamos a intentar crear un VottingClassifier para intentar combinar los dos clasificadores que nos dieron mejores resultados. Como podemos ver, si juntamos el Gradient Boosted Tree con el XGBoost (el mejor clasificador hasta ahora), no obtenemos mejores resultados que con el Random Forest solo."
      ]
    },
    {
      "cell_type": "code",
      "metadata": {
        "id": "XoHyoC4Y0ii7",
        "colab_type": "code",
        "colab": {
          "base_uri": "https://localhost:8080/",
          "height": 33
        },
        "outputId": "40856e62-2725-48c6-c2cc-a3678114651a"
      },
      "source": [
        "clf_xg.best_params_"
      ],
      "execution_count": 278,
      "outputs": [
        {
          "output_type": "execute_result",
          "data": {
            "text/plain": [
              "{'learning_rate': 0.16, 'max_depth': 2, 'n_estimators': 130}"
            ]
          },
          "metadata": {
            "tags": []
          },
          "execution_count": 278
        }
      ]
    },
    {
      "cell_type": "code",
      "metadata": {
        "id": "ZJ4yEGXH0ii-",
        "colab_type": "code",
        "colab": {
          "base_uri": "https://localhost:8080/",
          "height": 84
        },
        "outputId": "fe7b038d-5166-4ad9-eb7d-2593d7991e40"
      },
      "source": [
        "clf_gbt.best_params_"
      ],
      "execution_count": 279,
      "outputs": [
        {
          "output_type": "execute_result",
          "data": {
            "text/plain": [
              "{'max_depth': 3,\n",
              " 'max_leaf_nodes': 5,\n",
              " 'min_samples_leaf': 3,\n",
              " 'n_estimators': 1200}"
            ]
          },
          "metadata": {
            "tags": []
          },
          "execution_count": 279
        }
      ]
    },
    {
      "cell_type": "code",
      "metadata": {
        "colab_type": "code",
        "id": "6AHK_YSfVzC9",
        "colab": {}
      },
      "source": [
        "clf_votting = VotingClassifier(estimators=[('xgboost', XGBClassifier(learning_rate = 0.16, max_depth = 2, n_estimators = 130)), \n",
        "                                           ('gbt', ensemble.GradientBoostingClassifier(max_depth = 3, max_leaf_nodes = 5, min_samples_leaf = 3, n_estimators = 1200))])"
      ],
      "execution_count": 0,
      "outputs": []
    },
    {
      "cell_type": "code",
      "metadata": {
        "colab_type": "code",
        "id": "zUB6HBMeVzA-",
        "scrolled": true,
        "colab": {
          "base_uri": "https://localhost:8080/",
          "height": 1539
        },
        "outputId": "bb9273c6-f86e-47ba-b42e-5e516cee6e17"
      },
      "source": [
        "#para entrenar al sistema utilizaremos una validación cruzada\n",
        "\n",
        "cross_val_score(clf_votting, x_upgrade, y, cv = 10, scoring = make_scorer(classification_report_with_accuracy_score)).mean()"
      ],
      "execution_count": 281,
      "outputs": [
        {
          "output_type": "stream",
          "text": [
            "              precision    recall  f1-score   support\n",
            "\n",
            "          No       0.67      0.87      0.75        23\n",
            "         Yes       0.82      0.58      0.68        24\n",
            "\n",
            "    accuracy                           0.72        47\n",
            "   macro avg       0.75      0.73      0.72        47\n",
            "weighted avg       0.75      0.72      0.72        47\n",
            "\n",
            "              precision    recall  f1-score   support\n",
            "\n",
            "          No       0.71      0.74      0.72        23\n",
            "         Yes       0.73      0.70      0.71        23\n",
            "\n",
            "    accuracy                           0.72        46\n",
            "   macro avg       0.72      0.72      0.72        46\n",
            "weighted avg       0.72      0.72      0.72        46\n",
            "\n",
            "              precision    recall  f1-score   support\n",
            "\n",
            "          No       0.77      0.87      0.82        23\n",
            "         Yes       0.85      0.74      0.79        23\n",
            "\n",
            "    accuracy                           0.80        46\n",
            "   macro avg       0.81      0.80      0.80        46\n",
            "weighted avg       0.81      0.80      0.80        46\n",
            "\n",
            "              precision    recall  f1-score   support\n",
            "\n",
            "          No       0.61      0.74      0.67        23\n",
            "         Yes       0.67      0.52      0.59        23\n",
            "\n",
            "    accuracy                           0.63        46\n",
            "   macro avg       0.64      0.63      0.63        46\n",
            "weighted avg       0.64      0.63      0.63        46\n",
            "\n",
            "              precision    recall  f1-score   support\n",
            "\n",
            "          No       0.67      0.70      0.68        23\n",
            "         Yes       0.68      0.65      0.67        23\n",
            "\n",
            "    accuracy                           0.67        46\n",
            "   macro avg       0.67      0.67      0.67        46\n",
            "weighted avg       0.67      0.67      0.67        46\n",
            "\n",
            "              precision    recall  f1-score   support\n",
            "\n",
            "          No       0.73      0.83      0.78        23\n",
            "         Yes       0.80      0.70      0.74        23\n",
            "\n",
            "    accuracy                           0.76        46\n",
            "   macro avg       0.77      0.76      0.76        46\n",
            "weighted avg       0.77      0.76      0.76        46\n",
            "\n",
            "              precision    recall  f1-score   support\n",
            "\n",
            "          No       0.67      0.78      0.72        23\n",
            "         Yes       0.74      0.61      0.67        23\n",
            "\n",
            "    accuracy                           0.70        46\n",
            "   macro avg       0.70      0.70      0.69        46\n",
            "weighted avg       0.70      0.70      0.69        46\n",
            "\n",
            "              precision    recall  f1-score   support\n",
            "\n",
            "          No       0.80      0.87      0.83        23\n",
            "         Yes       0.86      0.78      0.82        23\n",
            "\n",
            "    accuracy                           0.83        46\n",
            "   macro avg       0.83      0.83      0.83        46\n",
            "weighted avg       0.83      0.83      0.83        46\n",
            "\n",
            "              precision    recall  f1-score   support\n",
            "\n",
            "          No       0.79      0.83      0.81        23\n",
            "         Yes       0.82      0.78      0.80        23\n",
            "\n",
            "    accuracy                           0.80        46\n",
            "   macro avg       0.80      0.80      0.80        46\n",
            "weighted avg       0.80      0.80      0.80        46\n",
            "\n",
            "              precision    recall  f1-score   support\n",
            "\n",
            "          No       0.79      0.83      0.81        23\n",
            "         Yes       0.82      0.78      0.80        23\n",
            "\n",
            "    accuracy                           0.80        46\n",
            "   macro avg       0.80      0.80      0.80        46\n",
            "weighted avg       0.80      0.80      0.80        46\n",
            "\n"
          ],
          "name": "stdout"
        },
        {
          "output_type": "execute_result",
          "data": {
            "text/plain": [
              "0.7440795559666975"
            ]
          },
          "metadata": {
            "tags": []
          },
          "execution_count": 281
        }
      ]
    },
    {
      "cell_type": "code",
      "metadata": {
        "id": "l_QjX_DVsFFi",
        "colab_type": "code",
        "colab": {
          "base_uri": "https://localhost:8080/",
          "height": 332
        },
        "outputId": "f48617b5-c2ac-48a4-e8b8-f77605a1ea04"
      },
      "source": [
        "clf_votting.fit(X_train_upgrade, y_train_upgrade)\n",
        "y_pred_vot=clf_votting.predict(X_test_upgrade)\n",
        "classes = ['Yes', 'No']\n",
        "plot_confusion_matrix(y_test_upgrade, y_pred_vot, classes=classes, title='Matriz de confusión del clasificador de voto entre el XGBoost y el Gradient Boosted Tree')"
      ],
      "execution_count": 282,
      "outputs": [
        {
          "output_type": "stream",
          "text": [
            "Confusion matrix, without normalization\n",
            "[[41 15]\n",
            " [12 25]]\n"
          ],
          "name": "stdout"
        },
        {
          "output_type": "execute_result",
          "data": {
            "text/plain": [
              "<matplotlib.axes._subplots.AxesSubplot at 0x7f32e2db6080>"
            ]
          },
          "metadata": {
            "tags": []
          },
          "execution_count": 282
        },
        {
          "output_type": "display_data",
          "data": {
            "image/png": "[encoded data removed]",
            "text/plain": [
              "<Figure size 432x288 with 2 Axes>"
            ]
          },
          "metadata": {
            "tags": []
          }
        }
      ]
    },
    {
      "cell_type": "code",
      "metadata": {
        "id": "5nrb_IZBsFAI",
        "colab_type": "code",
        "colab": {
          "base_uri": "https://localhost:8080/",
          "height": 184
        },
        "outputId": "a1849f40-1751-456d-c775-698c5122df86"
      },
      "source": [
        "print (classification_report(y_test_upgrade, y_pred_vot, target_names=classes))\n",
        "print (accuracy_score(y_test_upgrade, y_pred_vot))"
      ],
      "execution_count": 283,
      "outputs": [
        {
          "output_type": "stream",
          "text": [
            "              precision    recall  f1-score   support\n",
            "\n",
            "         Yes       0.77      0.73      0.75        56\n",
            "          No       0.62      0.68      0.65        37\n",
            "\n",
            "    accuracy                           0.71        93\n",
            "   macro avg       0.70      0.70      0.70        93\n",
            "weighted avg       0.71      0.71      0.71        93\n",
            "\n",
            "0.7096774193548387\n"
          ],
          "name": "stdout"
        }
      ]
    },
    {
      "cell_type": "markdown",
      "metadata": {
        "id": "S6r6MzP--pmP",
        "colab_type": "text"
      },
      "source": [
        "Si por otro lado juntamos el mejor clasificador que hemos obtenido, el XGBoost, con el Random Forest, podemos ver que mejoramos los resultados con el intento anterior, pero no llegamos a superar los resultados obtenidos con el XGBoost por separado."
      ]
    },
    {
      "cell_type": "code",
      "metadata": {
        "colab_type": "code",
        "id": "ldNZxpFES0RQ",
        "outputId": "b69cfd97-b9c1-42e8-8a16-fa7a79ce83bc",
        "colab": {}
      },
      "source": [
        "clf_rf.best_params_"
      ],
      "execution_count": 0,
      "outputs": [
        {
          "output_type": "execute_result",
          "data": {
            "text/plain": [
              "{'max_depth': 8, 'n_estimators': 220}"
            ]
          },
          "metadata": {
            "tags": []
          },
          "execution_count": 93
        }
      ]
    },
    {
      "cell_type": "code",
      "metadata": {
        "id": "t4M-4ybt0ijb",
        "colab_type": "code",
        "colab": {}
      },
      "source": [
        "clf_votting_v2 = VotingClassifier(estimators=[('xgboost', XGBClassifier(learning_rate = 0.16, max_depth = 2, n_estimators = 130)), \n",
        "                                           ('rf', RandomForestClassifier(min_samples_leaf = 1, max_depth = 9, n_estimators = 180))])"
      ],
      "execution_count": 0,
      "outputs": []
    },
    {
      "cell_type": "code",
      "metadata": {
        "scrolled": true,
        "id": "q0SSHeh30ijc",
        "colab_type": "code",
        "outputId": "9f7050db-5d65-4165-d380-8fedff00c119",
        "colab": {
          "base_uri": "https://localhost:8080/",
          "height": 1539
        }
      },
      "source": [
        "cross_val_score(clf_votting_v2, x_upgrade, y, cv = 10, scoring = make_scorer(classification_report_with_accuracy_score)).mean()"
      ],
      "execution_count": 201,
      "outputs": [
        {
          "output_type": "stream",
          "text": [
            "              precision    recall  f1-score   support\n",
            "\n",
            "          No       0.71      0.87      0.78        23\n",
            "         Yes       0.84      0.67      0.74        24\n",
            "\n",
            "    accuracy                           0.77        47\n",
            "   macro avg       0.78      0.77      0.76        47\n",
            "weighted avg       0.78      0.77      0.76        47\n",
            "\n",
            "              precision    recall  f1-score   support\n",
            "\n",
            "          No       0.73      0.70      0.71        23\n",
            "         Yes       0.71      0.74      0.72        23\n",
            "\n",
            "    accuracy                           0.72        46\n",
            "   macro avg       0.72      0.72      0.72        46\n",
            "weighted avg       0.72      0.72      0.72        46\n",
            "\n",
            "              precision    recall  f1-score   support\n",
            "\n",
            "          No       0.78      0.91      0.84        23\n",
            "         Yes       0.89      0.74      0.81        23\n",
            "\n",
            "    accuracy                           0.83        46\n",
            "   macro avg       0.84      0.83      0.82        46\n",
            "weighted avg       0.84      0.83      0.82        46\n",
            "\n",
            "              precision    recall  f1-score   support\n",
            "\n",
            "          No       0.60      0.78      0.68        23\n",
            "         Yes       0.69      0.48      0.56        23\n",
            "\n",
            "    accuracy                           0.63        46\n",
            "   macro avg       0.64      0.63      0.62        46\n",
            "weighted avg       0.64      0.63      0.62        46\n",
            "\n",
            "              precision    recall  f1-score   support\n",
            "\n",
            "          No       0.65      0.74      0.69        23\n",
            "         Yes       0.70      0.61      0.65        23\n",
            "\n",
            "    accuracy                           0.67        46\n",
            "   macro avg       0.68      0.67      0.67        46\n",
            "weighted avg       0.68      0.67      0.67        46\n",
            "\n",
            "              precision    recall  f1-score   support\n",
            "\n",
            "          No       0.77      0.87      0.82        23\n",
            "         Yes       0.85      0.74      0.79        23\n",
            "\n",
            "    accuracy                           0.80        46\n",
            "   macro avg       0.81      0.80      0.80        46\n",
            "weighted avg       0.81      0.80      0.80        46\n",
            "\n",
            "              precision    recall  f1-score   support\n",
            "\n",
            "          No       0.64      0.78      0.71        23\n",
            "         Yes       0.72      0.57      0.63        23\n",
            "\n",
            "    accuracy                           0.67        46\n",
            "   macro avg       0.68      0.67      0.67        46\n",
            "weighted avg       0.68      0.67      0.67        46\n",
            "\n",
            "              precision    recall  f1-score   support\n",
            "\n",
            "          No       0.78      0.91      0.84        23\n",
            "         Yes       0.89      0.74      0.81        23\n",
            "\n",
            "    accuracy                           0.83        46\n",
            "   macro avg       0.84      0.83      0.82        46\n",
            "weighted avg       0.84      0.83      0.82        46\n",
            "\n",
            "              precision    recall  f1-score   support\n",
            "\n",
            "          No       0.77      0.74      0.76        23\n",
            "         Yes       0.75      0.78      0.77        23\n",
            "\n",
            "    accuracy                           0.76        46\n",
            "   macro avg       0.76      0.76      0.76        46\n",
            "weighted avg       0.76      0.76      0.76        46\n",
            "\n",
            "              precision    recall  f1-score   support\n",
            "\n",
            "          No       0.76      0.83      0.79        23\n",
            "         Yes       0.81      0.74      0.77        23\n",
            "\n",
            "    accuracy                           0.78        46\n",
            "   macro avg       0.78      0.78      0.78        46\n",
            "weighted avg       0.78      0.78      0.78        46\n",
            "\n"
          ],
          "name": "stdout"
        },
        {
          "output_type": "execute_result",
          "data": {
            "text/plain": [
              "0.7461609620721554"
            ]
          },
          "metadata": {
            "tags": []
          },
          "execution_count": 201
        }
      ]
    },
    {
      "cell_type": "code",
      "metadata": {
        "id": "e87B4KhFZ9co",
        "colab_type": "code",
        "colab": {
          "base_uri": "https://localhost:8080/",
          "height": 360
        },
        "outputId": "c1132033-9973-4646-e2fa-8229fdf4d666"
      },
      "source": [
        "clf_votting_v2.fit(X_train_upgrade, y_train_upgrade)\n",
        "y_pred_vot=clf_votting_v2.predict(X_test_upgrade)\n",
        "classes = ['Yes', 'No']\n",
        "plot_confusion_matrix(y_test_upgrade, y_pred_vot, classes=classes, title='Matriz de confusión del clasificador de voto entre el Random Forest y el XGBoost')"
      ],
      "execution_count": 202,
      "outputs": [
        {
          "output_type": "stream",
          "text": [
            "Confusion matrix, without normalization\n",
            "[[41 15]\n",
            " [ 9 28]]\n"
          ],
          "name": "stdout"
        },
        {
          "output_type": "execute_result",
          "data": {
            "text/plain": [
              "<matplotlib.axes._subplots.AxesSubplot at 0x7f334d746320>"
            ]
          },
          "metadata": {
            "tags": []
          },
          "execution_count": 202
        },
        {
          "output_type": "display_data",
          "data": {
            "image/png": "[encoded data removed]",
            "text/plain": [
              "<Figure size 432x288 with 2 Axes>"
            ]
          },
          "metadata": {
            "tags": []
          }
        }
      ]
    },
    {
      "cell_type": "code",
      "metadata": {
        "id": "f3bIio2JZ9ZR",
        "colab_type": "code",
        "colab": {
          "base_uri": "https://localhost:8080/",
          "height": 184
        },
        "outputId": "be471a08-2c83-4501-f1f2-7b39a28dffdd"
      },
      "source": [
        "print (classification_report(y_test_upgrade, y_pred_vot, target_names=classes))\n",
        "print (accuracy_score(y_test_upgrade, y_pred_vot))"
      ],
      "execution_count": 203,
      "outputs": [
        {
          "output_type": "stream",
          "text": [
            "              precision    recall  f1-score   support\n",
            "\n",
            "         Yes       0.82      0.73      0.77        56\n",
            "          No       0.65      0.76      0.70        37\n",
            "\n",
            "    accuracy                           0.74        93\n",
            "   macro avg       0.74      0.74      0.74        93\n",
            "weighted avg       0.75      0.74      0.74        93\n",
            "\n",
            "0.7419354838709677\n"
          ],
          "name": "stdout"
        }
      ]
    },
    {
      "cell_type": "markdown",
      "metadata": {
        "id": "vcySQd430ijp",
        "colab_type": "text"
      },
      "source": [
        "Como último intento, vamos a intentar juntar los tres clasificadores en uno solo, para comprobar los resultados que obtenemos. Como podemos ver, se sigue notando una mejoría, pero seguimos sin superar el 76,35 % del accuracy obtenido con el XGBoost"
      ]
    },
    {
      "cell_type": "code",
      "metadata": {
        "id": "ibrswzAR0ijq",
        "colab_type": "code",
        "colab": {}
      },
      "source": [
        "clf_votting_v3 = VotingClassifier(estimators=[('xgboost', XGBClassifier(learning_rate = 0.16, max_depth = 2, n_estimators = 130)), \n",
        "                                           ('rf', RandomForestClassifier(min_samples_leaf = 1, max_depth = 9, n_estimators = 180)),\n",
        "                                           ('gbt', ensemble.GradientBoostingClassifier(max_depth = 3, max_leaf_nodes = 5, min_samples_leaf = 3, n_estimators = 1200))])"
      ],
      "execution_count": 0,
      "outputs": []
    },
    {
      "cell_type": "code",
      "metadata": {
        "scrolled": true,
        "id": "wY8R-mWh0iju",
        "colab_type": "code",
        "outputId": "20f89132-b53a-45af-bf67-0c2fa89d2b72",
        "colab": {
          "base_uri": "https://localhost:8080/",
          "height": 1539
        }
      },
      "source": [
        "cross_val_score(clf_votting_v3, x_upgrade, y, cv = 10, scoring = make_scorer(classification_report_with_accuracy_score)).mean()"
      ],
      "execution_count": 285,
      "outputs": [
        {
          "output_type": "stream",
          "text": [
            "              precision    recall  f1-score   support\n",
            "\n",
            "          No       0.69      0.78      0.73        23\n",
            "         Yes       0.76      0.67      0.71        24\n",
            "\n",
            "    accuracy                           0.72        47\n",
            "   macro avg       0.73      0.72      0.72        47\n",
            "weighted avg       0.73      0.72      0.72        47\n",
            "\n",
            "              precision    recall  f1-score   support\n",
            "\n",
            "          No       0.76      0.70      0.73        23\n",
            "         Yes       0.72      0.78      0.75        23\n",
            "\n",
            "    accuracy                           0.74        46\n",
            "   macro avg       0.74      0.74      0.74        46\n",
            "weighted avg       0.74      0.74      0.74        46\n",
            "\n",
            "              precision    recall  f1-score   support\n",
            "\n",
            "          No       0.86      0.78      0.82        23\n",
            "         Yes       0.80      0.87      0.83        23\n",
            "\n",
            "    accuracy                           0.83        46\n",
            "   macro avg       0.83      0.83      0.83        46\n",
            "weighted avg       0.83      0.83      0.83        46\n",
            "\n",
            "              precision    recall  f1-score   support\n",
            "\n",
            "          No       0.62      0.70      0.65        23\n",
            "         Yes       0.65      0.57      0.60        23\n",
            "\n",
            "    accuracy                           0.63        46\n",
            "   macro avg       0.63      0.63      0.63        46\n",
            "weighted avg       0.63      0.63      0.63        46\n",
            "\n",
            "              precision    recall  f1-score   support\n",
            "\n",
            "          No       0.70      0.70      0.70        23\n",
            "         Yes       0.70      0.70      0.70        23\n",
            "\n",
            "    accuracy                           0.70        46\n",
            "   macro avg       0.70      0.70      0.70        46\n",
            "weighted avg       0.70      0.70      0.70        46\n",
            "\n",
            "              precision    recall  f1-score   support\n",
            "\n",
            "          No       0.79      0.83      0.81        23\n",
            "         Yes       0.82      0.78      0.80        23\n",
            "\n",
            "    accuracy                           0.80        46\n",
            "   macro avg       0.80      0.80      0.80        46\n",
            "weighted avg       0.80      0.80      0.80        46\n",
            "\n",
            "              precision    recall  f1-score   support\n",
            "\n",
            "          No       0.69      0.78      0.73        23\n",
            "         Yes       0.75      0.65      0.70        23\n",
            "\n",
            "    accuracy                           0.72        46\n",
            "   macro avg       0.72      0.72      0.72        46\n",
            "weighted avg       0.72      0.72      0.72        46\n",
            "\n",
            "              precision    recall  f1-score   support\n",
            "\n",
            "          No       0.82      0.78      0.80        23\n",
            "         Yes       0.79      0.83      0.81        23\n",
            "\n",
            "    accuracy                           0.80        46\n",
            "   macro avg       0.80      0.80      0.80        46\n",
            "weighted avg       0.80      0.80      0.80        46\n",
            "\n",
            "              precision    recall  f1-score   support\n",
            "\n",
            "          No       0.81      0.74      0.77        23\n",
            "         Yes       0.76      0.83      0.79        23\n",
            "\n",
            "    accuracy                           0.78        46\n",
            "   macro avg       0.78      0.78      0.78        46\n",
            "weighted avg       0.78      0.78      0.78        46\n",
            "\n",
            "              precision    recall  f1-score   support\n",
            "\n",
            "          No       0.79      0.83      0.81        23\n",
            "         Yes       0.82      0.78      0.80        23\n",
            "\n",
            "    accuracy                           0.80        46\n",
            "   macro avg       0.80      0.80      0.80        46\n",
            "weighted avg       0.80      0.80      0.80        46\n",
            "\n"
          ],
          "name": "stdout"
        },
        {
          "output_type": "execute_result",
          "data": {
            "text/plain": [
              "0.7527752081406106"
            ]
          },
          "metadata": {
            "tags": []
          },
          "execution_count": 285
        }
      ]
    },
    {
      "cell_type": "code",
      "metadata": {
        "id": "euBrVrvrs-SP",
        "colab_type": "code",
        "colab": {
          "base_uri": "https://localhost:8080/",
          "height": 360
        },
        "outputId": "5a4f7ad2-cf1f-4575-96aa-a9df4857d8a8"
      },
      "source": [
        "clf_votting_v3.fit(X_train_upgrade, y_train_upgrade)\n",
        "y_pred_vot=clf_votting_v3.predict(X_test_upgrade)\n",
        "classes = ['Yes', 'No']\n",
        "plot_confusion_matrix(y_test_upgrade, y_pred_vot, classes=classes, title='Matriz de confusión del clasificador de voto entre el Random Forest y el XGBoost')"
      ],
      "execution_count": 286,
      "outputs": [
        {
          "output_type": "stream",
          "text": [
            "Confusion matrix, without normalization\n",
            "[[40 16]\n",
            " [ 7 30]]\n"
          ],
          "name": "stdout"
        },
        {
          "output_type": "execute_result",
          "data": {
            "text/plain": [
              "<matplotlib.axes._subplots.AxesSubplot at 0x7f32e1a7c7b8>"
            ]
          },
          "metadata": {
            "tags": []
          },
          "execution_count": 286
        },
        {
          "output_type": "display_data",
          "data": {
            "image/png": "[encoded data removed]",
            "text/plain": [
              "<Figure size 432x288 with 2 Axes>"
            ]
          },
          "metadata": {
            "tags": []
          }
        }
      ]
    },
    {
      "cell_type": "code",
      "metadata": {
        "id": "deW00wyCs-PP",
        "colab_type": "code",
        "colab": {
          "base_uri": "https://localhost:8080/",
          "height": 184
        },
        "outputId": "fe08689b-034f-41b6-d902-bb38d1a02baf"
      },
      "source": [
        "print (classification_report(y_test_upgrade, y_pred_vot, target_names=classes))\n",
        "print (accuracy_score(y_test_upgrade, y_pred_vot))"
      ],
      "execution_count": 287,
      "outputs": [
        {
          "output_type": "stream",
          "text": [
            "              precision    recall  f1-score   support\n",
            "\n",
            "         Yes       0.85      0.71      0.78        56\n",
            "          No       0.65      0.81      0.72        37\n",
            "\n",
            "    accuracy                           0.75        93\n",
            "   macro avg       0.75      0.76      0.75        93\n",
            "weighted avg       0.77      0.75      0.76        93\n",
            "\n",
            "0.7526881720430108\n"
          ],
          "name": "stdout"
        }
      ]
    },
    {
      "cell_type": "markdown",
      "metadata": {
        "id": "KaqbPi9p0ij1",
        "colab_type": "text"
      },
      "source": [
        "### Bagging"
      ]
    },
    {
      "cell_type": "markdown",
      "metadata": {
        "id": "-feZAQJr0ij1",
        "colab_type": "text"
      },
      "source": [
        "Una vez hemos terminado de probar modelos, vamos a tratar de mejorar el Decision Tree con la técnica del Bagging. Como podemos ver, mejoramos un poco los resultados obtenidos pero sin llegar a los resultados obtenidos por el Random Forest ni, por supuesto, por el XGBoost."
      ]
    },
    {
      "cell_type": "code",
      "metadata": {
        "id": "U1tCBnzj0ij2",
        "colab_type": "code",
        "outputId": "c55a02ee-5a28-427b-eb05-5a3826263fcf",
        "colab": {
          "base_uri": "https://localhost:8080/",
          "height": 33
        }
      },
      "source": [
        "clf_dt.best_params_"
      ],
      "execution_count": 288,
      "outputs": [
        {
          "output_type": "execute_result",
          "data": {
            "text/plain": [
              "{'max_depth': 7, 'min_samples_leaf': 13}"
            ]
          },
          "metadata": {
            "tags": []
          },
          "execution_count": 288
        }
      ]
    },
    {
      "cell_type": "code",
      "metadata": {
        "id": "yloKtXee0ij3",
        "colab_type": "code",
        "colab": {}
      },
      "source": [
        "clf_xbg_bag = BaggingClassifier(base_estimator=DecisionTreeClassifier(min_samples_leaf = 7, max_depth = 13), n_estimators=100, oob_score =True)"
      ],
      "execution_count": 0,
      "outputs": []
    },
    {
      "cell_type": "code",
      "metadata": {
        "scrolled": true,
        "id": "ziHpzqYE0ij5",
        "colab_type": "code",
        "outputId": "0ea1e64c-bd88-4d07-c45b-0ec7daaecb8b",
        "colab": {
          "base_uri": "https://localhost:8080/",
          "height": 1539
        }
      },
      "source": [
        "cross_val_score(clf_xbg_bag, x_upgrade, y, cv = 10, scoring = make_scorer(classification_report_with_accuracy_score)).mean()"
      ],
      "execution_count": 290,
      "outputs": [
        {
          "output_type": "stream",
          "text": [
            "              precision    recall  f1-score   support\n",
            "\n",
            "          No       0.68      0.74      0.71        23\n",
            "         Yes       0.73      0.67      0.70        24\n",
            "\n",
            "    accuracy                           0.70        47\n",
            "   macro avg       0.70      0.70      0.70        47\n",
            "weighted avg       0.70      0.70      0.70        47\n",
            "\n",
            "              precision    recall  f1-score   support\n",
            "\n",
            "          No       0.76      0.70      0.73        23\n",
            "         Yes       0.72      0.78      0.75        23\n",
            "\n",
            "    accuracy                           0.74        46\n",
            "   macro avg       0.74      0.74      0.74        46\n",
            "weighted avg       0.74      0.74      0.74        46\n",
            "\n",
            "              precision    recall  f1-score   support\n",
            "\n",
            "          No       0.79      0.83      0.81        23\n",
            "         Yes       0.82      0.78      0.80        23\n",
            "\n",
            "    accuracy                           0.80        46\n",
            "   macro avg       0.80      0.80      0.80        46\n",
            "weighted avg       0.80      0.80      0.80        46\n",
            "\n",
            "              precision    recall  f1-score   support\n",
            "\n",
            "          No       0.63      0.74      0.68        23\n",
            "         Yes       0.68      0.57      0.62        23\n",
            "\n",
            "    accuracy                           0.65        46\n",
            "   macro avg       0.66      0.65      0.65        46\n",
            "weighted avg       0.66      0.65      0.65        46\n",
            "\n",
            "              precision    recall  f1-score   support\n",
            "\n",
            "          No       0.69      0.78      0.73        23\n",
            "         Yes       0.75      0.65      0.70        23\n",
            "\n",
            "    accuracy                           0.72        46\n",
            "   macro avg       0.72      0.72      0.72        46\n",
            "weighted avg       0.72      0.72      0.72        46\n",
            "\n",
            "              precision    recall  f1-score   support\n",
            "\n",
            "          No       0.76      0.83      0.79        23\n",
            "         Yes       0.81      0.74      0.77        23\n",
            "\n",
            "    accuracy                           0.78        46\n",
            "   macro avg       0.78      0.78      0.78        46\n",
            "weighted avg       0.78      0.78      0.78        46\n",
            "\n",
            "              precision    recall  f1-score   support\n",
            "\n",
            "          No       0.68      0.74      0.71        23\n",
            "         Yes       0.71      0.65      0.68        23\n",
            "\n",
            "    accuracy                           0.70        46\n",
            "   macro avg       0.70      0.70      0.70        46\n",
            "weighted avg       0.70      0.70      0.70        46\n",
            "\n",
            "              precision    recall  f1-score   support\n",
            "\n",
            "          No       0.78      0.78      0.78        23\n",
            "         Yes       0.78      0.78      0.78        23\n",
            "\n",
            "    accuracy                           0.78        46\n",
            "   macro avg       0.78      0.78      0.78        46\n",
            "weighted avg       0.78      0.78      0.78        46\n",
            "\n",
            "              precision    recall  f1-score   support\n",
            "\n",
            "          No       0.79      0.65      0.71        23\n",
            "         Yes       0.70      0.83      0.76        23\n",
            "\n",
            "    accuracy                           0.74        46\n",
            "   macro avg       0.75      0.74      0.74        46\n",
            "weighted avg       0.75      0.74      0.74        46\n",
            "\n",
            "              precision    recall  f1-score   support\n",
            "\n",
            "          No       0.73      0.83      0.78        23\n",
            "         Yes       0.80      0.70      0.74        23\n",
            "\n",
            "    accuracy                           0.76        46\n",
            "   macro avg       0.77      0.76      0.76        46\n",
            "weighted avg       0.77      0.76      0.76        46\n",
            "\n"
          ],
          "name": "stdout"
        },
        {
          "output_type": "execute_result",
          "data": {
            "text/plain": [
              "0.7376040703052729"
            ]
          },
          "metadata": {
            "tags": []
          },
          "execution_count": 290
        }
      ]
    },
    {
      "cell_type": "markdown",
      "metadata": {
        "id": "NqUrqYYy0ij8",
        "colab_type": "text"
      },
      "source": [
        "### Deep Learning"
      ]
    },
    {
      "cell_type": "markdown",
      "metadata": {
        "id": "9wCudAFb0ij8",
        "colab_type": "text"
      },
      "source": [
        "Con las nociones aprendidas durante el curso, vamos a intentar implementar una red neuronal capaz de superar los resultados obtenidos por el XGBoost, sin llegar a producir overfitting."
      ]
    },
    {
      "cell_type": "code",
      "metadata": {
        "id": "xN5JJvrINV__",
        "colab_type": "code",
        "outputId": "73956efc-e17f-4a5b-a320-b4975578e705",
        "colab": {
          "base_uri": "https://localhost:8080/",
          "height": 33
        }
      },
      "source": [
        "x_upgrade.shape"
      ],
      "execution_count": 204,
      "outputs": [
        {
          "output_type": "execute_result",
          "data": {
            "text/plain": [
              "(461, 8)"
            ]
          },
          "metadata": {
            "tags": []
          },
          "execution_count": 204
        }
      ]
    },
    {
      "cell_type": "code",
      "metadata": {
        "id": "LQubJBFgZnKQ",
        "colab_type": "code",
        "colab": {}
      },
      "source": [
        "x_upgrade"
      ],
      "execution_count": 0,
      "outputs": []
    },
    {
      "cell_type": "markdown",
      "metadata": {
        "id": "RZE6lsUDYu8t",
        "colab_type": "text"
      },
      "source": [
        "Vamos a normalizar los datos de nuestro dataset para que sean más sencillos de tratar para nuestra red"
      ]
    },
    {
      "cell_type": "code",
      "metadata": {
        "id": "l2EyySOaaFpL",
        "colab_type": "code",
        "outputId": "91224eca-d232-4ba8-b4da-5756845cde40",
        "colab": {
          "base_uri": "https://localhost:8080/",
          "height": 84
        }
      },
      "source": [
        "x_upgrade.columns"
      ],
      "execution_count": 206,
      "outputs": [
        {
          "output_type": "execute_result",
          "data": {
            "text/plain": [
              "Index(['Max Depth', 'Max Curve', 'Max Variation Curve', 'Age', 'K Max',\n",
              "       'Paqui Min', 'Distance Between Max Curve and Min Paqui',\n",
              "       'Position of Most Curve Point Relative to Center'],\n",
              "      dtype='object')"
            ]
          },
          "metadata": {
            "tags": []
          },
          "execution_count": 206
        }
      ]
    },
    {
      "cell_type": "code",
      "metadata": {
        "id": "nkJ2Va0JYtOE",
        "colab_type": "code",
        "colab": {
          "base_uri": "https://localhost:8080/",
          "height": 217
        },
        "outputId": "b1fe064d-6fb8-418b-bd07-4aed7467dcd5"
      },
      "source": [
        "x_upgrade['Max Depth Norm'] = x_upgrade['Max Depth'] / x_upgrade['Max Depth'].max()\n",
        "x_upgrade['Max Curve Norm'] = x_upgrade['Max Curve'] / x_upgrade['Max Curve'].max()\n",
        "x_upgrade['Max Variation Curve Norm'] = x_upgrade['Max Variation Curve'] / x_upgrade['Max Variation Curve'].max()\n",
        "x_upgrade['Age Norm'] = x_upgrade['Age'] / x_upgrade['Age'].max()\n",
        "x_upgrade['K Max Norm'] = x_upgrade['K Max'] / x_upgrade['K Max'].max()\n",
        "x_upgrade['Paqui Min Norm'] = x_upgrade['Paqui Min'] / x_upgrade['Paqui Min'].max()\n",
        "x_upgrade['Distance Between Max Curve and Min Paqui Norm'] = x_upgrade['Distance Between Max Curve and Min Paqui'] / x_upgrade['Distance Between Max Curve and Min Paqui'].max()\n",
        "x_upgrade['Position of Most Curve Point Relative to Center Norm'] = x_upgrade['Position of Most Curve Point Relative to Center'] / x_upgrade['Position of Most Curve Point Relative to Center'].max()"
      ],
      "execution_count": 207,
      "outputs": [
        {
          "output_type": "stream",
          "text": [
            "/usr/local/lib/python3.6/dist-packages/ipykernel_launcher.py:1: SettingWithCopyWarning: \n",
            "A value is trying to be set on a copy of a slice from a DataFrame.\n",
            "Try using .loc[row_indexer,col_indexer] = value instead\n",
            "\n",
            "See the caveats in the documentation: http://pandas.pydata.org/pandas-docs/stable/indexing.html#indexing-view-versus-copy\n",
            "  \"\"\"Entry point for launching an IPython kernel.\n",
            "/usr/local/lib/python3.6/dist-packages/ipykernel_launcher.py:2: SettingWithCopyWarning: \n",
            "A value is trying to be set on a copy of a slice from a DataFrame.\n",
            "Try using .loc[row_indexer,col_indexer] = value instead\n",
            "\n",
            "See the caveats in the documentation: http://pandas.pydata.org/pandas-docs/stable/indexing.html#indexing-view-versus-copy\n",
            "  \n"
          ],
          "name": "stderr"
        }
      ]
    },
    {
      "cell_type": "code",
      "metadata": {
        "id": "6CxB1GYLbLZ5",
        "colab_type": "code",
        "colab": {}
      },
      "source": [
        "x_upgrade_dl = x_upgrade[['Max Depth Norm', 'Max Curve Norm', 'Max Variation Curve Norm', 'Age Norm', 'K Max Norm', 'Paqui Min Norm', 'Distance Between Max Curve and Min Paqui Norm', 'Position of Most Curve Point Relative to Center Norm']]"
      ],
      "execution_count": 0,
      "outputs": []
    },
    {
      "cell_type": "code",
      "metadata": {
        "id": "qp3hdOrfU7YK",
        "colab_type": "code",
        "colab": {}
      },
      "source": [
        "x_train_list = x_upgrade_dl.values\n",
        "y_cat = y_dl.values\n",
        "y_list = y_dl.values\n",
        "y_cat = utils.to_categorical(y_cat)"
      ],
      "execution_count": 0,
      "outputs": []
    },
    {
      "cell_type": "markdown",
      "metadata": {
        "id": "0cjVo-1mdgIS",
        "colab_type": "text"
      },
      "source": [
        "Vamos a utilizar esta función enseñada durante el curso para ir comprobando los resultados que vamos obteniendo"
      ]
    },
    {
      "cell_type": "code",
      "metadata": {
        "id": "S1lVuK6MddXz",
        "colab_type": "code",
        "colab": {}
      },
      "source": [
        "def plot_metric(history, metric):\n",
        "    history_dict = history.history\n",
        "    values = history_dict[metric]\n",
        "    if 'val_' + metric in history_dict.keys():  \n",
        "        val_values = history_dict['val_' + metric]\n",
        "\n",
        "    epochs = range(1, len(values) + 1)\n",
        "\n",
        "    if 'val_' + metric in history_dict.keys():  \n",
        "        plt.plot(epochs, val_values, label='Validation')\n",
        "    plt.semilogy(epochs, values, label='Training')\n",
        "\n",
        "    if 'val_' + metric in history_dict.keys():  \n",
        "        plt.title('Training and validation %s' % metric)\n",
        "    else:\n",
        "        plt.title('Training %s' % metric)\n",
        "    plt.xlabel('Epochs')\n",
        "    plt.ylabel(metric.capitalize())\n",
        "    plt.legend()\n",
        "    plt.grid()\n",
        "\n",
        "    plt.show()  "
      ],
      "execution_count": 0,
      "outputs": []
    },
    {
      "cell_type": "markdown",
      "metadata": {
        "id": "ldA4UXIWPTiV",
        "colab_type": "text"
      },
      "source": [
        "Vamos a intentar crear una red neuronal sencilla para observar los resultados obtenidos"
      ]
    },
    {
      "cell_type": "code",
      "metadata": {
        "id": "SBoNrh8B0ij9",
        "colab_type": "code",
        "colab": {}
      },
      "source": [
        "def build_model():\n",
        "  m = models.Sequential()\n",
        "  m.add(layers.Dense(32, input_shape = (8, ), activation='relu'))\n",
        "  m.add(layers.Dense(16, activation='relu'))\n",
        "  m.add(layers.Dense(2, activation='softmax'))\n",
        "  return m"
      ],
      "execution_count": 0,
      "outputs": []
    },
    {
      "cell_type": "code",
      "metadata": {
        "id": "msZBLzOu0ij_",
        "colab_type": "code",
        "colab": {
          "base_uri": "https://localhost:8080/",
          "height": 154
        },
        "outputId": "391a21f2-5c14-40ba-87ea-8cc74300e519"
      },
      "source": [
        "model = build_model()"
      ],
      "execution_count": 215,
      "outputs": [
        {
          "output_type": "stream",
          "text": [
            "WARNING: Logging before flag parsing goes to stderr.\n",
            "W0616 17:54:58.432621 139859853621120 deprecation_wrapper.py:119] From /usr/local/lib/python3.6/dist-packages/keras/backend/tensorflow_backend.py:74: The name tf.get_default_graph is deprecated. Please use tf.compat.v1.get_default_graph instead.\n",
            "\n",
            "W0616 17:54:58.479238 139859853621120 deprecation_wrapper.py:119] From /usr/local/lib/python3.6/dist-packages/keras/backend/tensorflow_backend.py:517: The name tf.placeholder is deprecated. Please use tf.compat.v1.placeholder instead.\n",
            "\n",
            "W0616 17:54:58.487771 139859853621120 deprecation_wrapper.py:119] From /usr/local/lib/python3.6/dist-packages/keras/backend/tensorflow_backend.py:4138: The name tf.random_uniform is deprecated. Please use tf.random.uniform instead.\n",
            "\n"
          ],
          "name": "stderr"
        }
      ]
    },
    {
      "cell_type": "code",
      "metadata": {
        "id": "Kyq1KfWs0ikB",
        "colab_type": "code",
        "colab": {
          "base_uri": "https://localhost:8080/",
          "height": 104
        },
        "outputId": "98bbda0a-bb8f-483d-f813-6f0fb8d94b57"
      },
      "source": [
        "model.compile(\n",
        "    optimizer=optimizers.rmsprop(),\n",
        "    loss=losses.categorical_crossentropy,\n",
        "    metrics=[metrics.categorical_accuracy]   \n",
        "    )"
      ],
      "execution_count": 216,
      "outputs": [
        {
          "output_type": "stream",
          "text": [
            "W0616 17:55:01.445647 139859853621120 deprecation_wrapper.py:119] From /usr/local/lib/python3.6/dist-packages/keras/optimizers.py:790: The name tf.train.Optimizer is deprecated. Please use tf.compat.v1.train.Optimizer instead.\n",
            "\n",
            "W0616 17:55:01.458747 139859853621120 deprecation_wrapper.py:119] From /usr/local/lib/python3.6/dist-packages/keras/backend/tensorflow_backend.py:3295: The name tf.log is deprecated. Please use tf.math.log instead.\n",
            "\n"
          ],
          "name": "stderr"
        }
      ]
    },
    {
      "cell_type": "code",
      "metadata": {
        "id": "m8PrDZ6P0ikE",
        "colab_type": "code",
        "outputId": "c865132c-98b5-4b73-d8ba-2719eec0f5e3",
        "colab": {
          "base_uri": "https://localhost:8080/",
          "height": 234
        }
      },
      "source": [
        "model.summary()"
      ],
      "execution_count": 217,
      "outputs": [
        {
          "output_type": "stream",
          "text": [
            "_________________________________________________________________\n",
            "Layer (type)                 Output Shape              Param #   \n",
            "=================================================================\n",
            "dense_1 (Dense)              (None, 32)                288       \n",
            "_________________________________________________________________\n",
            "dense_2 (Dense)              (None, 16)                528       \n",
            "_________________________________________________________________\n",
            "dense_3 (Dense)              (None, 2)                 34        \n",
            "=================================================================\n",
            "Total params: 850\n",
            "Trainable params: 850\n",
            "Non-trainable params: 0\n",
            "_________________________________________________________________\n"
          ],
          "name": "stdout"
        }
      ]
    },
    {
      "cell_type": "code",
      "metadata": {
        "id": "BvA1FctP0ikM",
        "colab_type": "code",
        "outputId": "bc7995fe-a1f1-4a3f-9c9f-7e51968be9f6",
        "colab": {
          "base_uri": "https://localhost:8080/",
          "height": 1475
        }
      },
      "source": [
        "h = model.fit(x_train_list, y_cat, epochs=40, batch_size=10, validation_split=.2)"
      ],
      "execution_count": 218,
      "outputs": [
        {
          "output_type": "stream",
          "text": [
            "W0616 17:55:06.931737 139859853621120 deprecation.py:323] From /usr/local/lib/python3.6/dist-packages/tensorflow/python/ops/math_grad.py:1250: add_dispatch_support.<locals>.wrapper (from tensorflow.python.ops.array_ops) is deprecated and will be removed in a future version.\n",
            "Instructions for updating:\n",
            "Use tf.where in 2.0, which has the same broadcast rule as np.where\n",
            "W0616 17:55:06.996841 139859853621120 deprecation_wrapper.py:119] From /usr/local/lib/python3.6/dist-packages/keras/backend/tensorflow_backend.py:986: The name tf.assign_add is deprecated. Please use tf.compat.v1.assign_add instead.\n",
            "\n"
          ],
          "name": "stderr"
        },
        {
          "output_type": "stream",
          "text": [
            "Train on 368 samples, validate on 93 samples\n",
            "Epoch 1/40\n",
            "368/368 [==============================] - 4s 11ms/step - loss: 0.6630 - categorical_accuracy: 0.6277 - val_loss: 0.9856 - val_categorical_accuracy: 0.0000e+00\n",
            "Epoch 2/40\n",
            "368/368 [==============================] - 0s 352us/step - loss: 0.6550 - categorical_accuracy: 0.6277 - val_loss: 0.9091 - val_categorical_accuracy: 0.0000e+00\n",
            "Epoch 3/40\n",
            "368/368 [==============================] - 0s 368us/step - loss: 0.6513 - categorical_accuracy: 0.6277 - val_loss: 0.9280 - val_categorical_accuracy: 0.0000e+00\n",
            "Epoch 4/40\n",
            "368/368 [==============================] - 0s 335us/step - loss: 0.6458 - categorical_accuracy: 0.6277 - val_loss: 0.9031 - val_categorical_accuracy: 0.0000e+00\n",
            "Epoch 5/40\n",
            "368/368 [==============================] - 0s 348us/step - loss: 0.6430 - categorical_accuracy: 0.6277 - val_loss: 0.9047 - val_categorical_accuracy: 0.0000e+00\n",
            "Epoch 6/40\n",
            "368/368 [==============================] - 0s 395us/step - loss: 0.6375 - categorical_accuracy: 0.6277 - val_loss: 0.8893 - val_categorical_accuracy: 0.0000e+00\n",
            "Epoch 7/40\n",
            "368/368 [==============================] - 0s 341us/step - loss: 0.6319 - categorical_accuracy: 0.6304 - val_loss: 0.9750 - val_categorical_accuracy: 0.0000e+00\n",
            "Epoch 8/40\n",
            "368/368 [==============================] - 0s 347us/step - loss: 0.6275 - categorical_accuracy: 0.6277 - val_loss: 0.9536 - val_categorical_accuracy: 0.0000e+00\n",
            "Epoch 9/40\n",
            "368/368 [==============================] - 0s 345us/step - loss: 0.6220 - categorical_accuracy: 0.6304 - val_loss: 0.9671 - val_categorical_accuracy: 0.0000e+00\n",
            "Epoch 10/40\n",
            "368/368 [==============================] - 0s 331us/step - loss: 0.6174 - categorical_accuracy: 0.6304 - val_loss: 0.8694 - val_categorical_accuracy: 0.0430\n",
            "Epoch 11/40\n",
            "368/368 [==============================] - 0s 363us/step - loss: 0.6117 - categorical_accuracy: 0.6549 - val_loss: 0.9169 - val_categorical_accuracy: 0.0215\n",
            "Epoch 12/40\n",
            "368/368 [==============================] - 0s 354us/step - loss: 0.6056 - categorical_accuracy: 0.6522 - val_loss: 0.8545 - val_categorical_accuracy: 0.0860\n",
            "Epoch 13/40\n",
            "368/368 [==============================] - 0s 361us/step - loss: 0.6024 - categorical_accuracy: 0.6576 - val_loss: 0.9412 - val_categorical_accuracy: 0.0323\n",
            "Epoch 14/40\n",
            "368/368 [==============================] - 0s 313us/step - loss: 0.5963 - categorical_accuracy: 0.6603 - val_loss: 0.8868 - val_categorical_accuracy: 0.0860\n",
            "Epoch 15/40\n",
            "368/368 [==============================] - 0s 301us/step - loss: 0.5921 - categorical_accuracy: 0.6793 - val_loss: 0.9246 - val_categorical_accuracy: 0.0753\n",
            "Epoch 16/40\n",
            "368/368 [==============================] - 0s 332us/step - loss: 0.5852 - categorical_accuracy: 0.6630 - val_loss: 0.8100 - val_categorical_accuracy: 0.3333\n",
            "Epoch 17/40\n",
            "368/368 [==============================] - 0s 308us/step - loss: 0.5804 - categorical_accuracy: 0.6821 - val_loss: 0.8340 - val_categorical_accuracy: 0.3333\n",
            "Epoch 18/40\n",
            "368/368 [==============================] - 0s 288us/step - loss: 0.5771 - categorical_accuracy: 0.6929 - val_loss: 0.8607 - val_categorical_accuracy: 0.3011\n",
            "Epoch 19/40\n",
            "368/368 [==============================] - 0s 290us/step - loss: 0.5699 - categorical_accuracy: 0.7011 - val_loss: 0.7714 - val_categorical_accuracy: 0.4946\n",
            "Epoch 20/40\n",
            "368/368 [==============================] - 0s 298us/step - loss: 0.5630 - categorical_accuracy: 0.7337 - val_loss: 0.8082 - val_categorical_accuracy: 0.4086\n",
            "Epoch 21/40\n",
            "368/368 [==============================] - 0s 287us/step - loss: 0.5619 - categorical_accuracy: 0.6984 - val_loss: 0.8200 - val_categorical_accuracy: 0.4086\n",
            "Epoch 22/40\n",
            "368/368 [==============================] - 0s 323us/step - loss: 0.5526 - categorical_accuracy: 0.7283 - val_loss: 0.7823 - val_categorical_accuracy: 0.4946\n",
            "Epoch 23/40\n",
            "368/368 [==============================] - 0s 289us/step - loss: 0.5533 - categorical_accuracy: 0.7310 - val_loss: 0.7906 - val_categorical_accuracy: 0.4946\n",
            "Epoch 24/40\n",
            "368/368 [==============================] - 0s 295us/step - loss: 0.5516 - categorical_accuracy: 0.7120 - val_loss: 0.8041 - val_categorical_accuracy: 0.4731\n",
            "Epoch 25/40\n",
            "368/368 [==============================] - 0s 282us/step - loss: 0.5470 - categorical_accuracy: 0.7310 - val_loss: 0.7275 - val_categorical_accuracy: 0.5914\n",
            "Epoch 26/40\n",
            "368/368 [==============================] - 0s 289us/step - loss: 0.5450 - categorical_accuracy: 0.7310 - val_loss: 0.7798 - val_categorical_accuracy: 0.5161\n",
            "Epoch 27/40\n",
            "368/368 [==============================] - 0s 290us/step - loss: 0.5428 - categorical_accuracy: 0.7174 - val_loss: 0.7651 - val_categorical_accuracy: 0.5161\n",
            "Epoch 28/40\n",
            "368/368 [==============================] - 0s 291us/step - loss: 0.5399 - categorical_accuracy: 0.7391 - val_loss: 0.7306 - val_categorical_accuracy: 0.5914\n",
            "Epoch 29/40\n",
            "368/368 [==============================] - 0s 294us/step - loss: 0.5388 - categorical_accuracy: 0.7391 - val_loss: 0.7789 - val_categorical_accuracy: 0.5376\n",
            "Epoch 30/40\n",
            "368/368 [==============================] - 0s 298us/step - loss: 0.5347 - categorical_accuracy: 0.7092 - val_loss: 0.9442 - val_categorical_accuracy: 0.3656\n",
            "Epoch 31/40\n",
            "368/368 [==============================] - 0s 287us/step - loss: 0.5351 - categorical_accuracy: 0.7310 - val_loss: 0.8449 - val_categorical_accuracy: 0.4516\n",
            "Epoch 32/40\n",
            "368/368 [==============================] - 0s 336us/step - loss: 0.5305 - categorical_accuracy: 0.7283 - val_loss: 0.7458 - val_categorical_accuracy: 0.5806\n",
            "Epoch 33/40\n",
            "368/368 [==============================] - 0s 299us/step - loss: 0.5265 - categorical_accuracy: 0.7446 - val_loss: 0.9663 - val_categorical_accuracy: 0.3871\n",
            "Epoch 34/40\n",
            "368/368 [==============================] - 0s 285us/step - loss: 0.5307 - categorical_accuracy: 0.7228 - val_loss: 0.6816 - val_categorical_accuracy: 0.6667\n",
            "Epoch 35/40\n",
            "368/368 [==============================] - 0s 301us/step - loss: 0.5281 - categorical_accuracy: 0.7337 - val_loss: 0.8340 - val_categorical_accuracy: 0.4839\n",
            "Epoch 36/40\n",
            "368/368 [==============================] - 0s 292us/step - loss: 0.5267 - categorical_accuracy: 0.7310 - val_loss: 0.6759 - val_categorical_accuracy: 0.6667\n",
            "Epoch 37/40\n",
            "368/368 [==============================] - 0s 295us/step - loss: 0.5234 - categorical_accuracy: 0.7364 - val_loss: 0.8522 - val_categorical_accuracy: 0.4624\n",
            "Epoch 38/40\n",
            "368/368 [==============================] - 0s 335us/step - loss: 0.5213 - categorical_accuracy: 0.7364 - val_loss: 0.5669 - val_categorical_accuracy: 0.7527\n",
            "Epoch 39/40\n",
            "368/368 [==============================] - 0s 292us/step - loss: 0.5241 - categorical_accuracy: 0.7364 - val_loss: 1.0260 - val_categorical_accuracy: 0.3548\n",
            "Epoch 40/40\n",
            "368/368 [==============================] - 0s 284us/step - loss: 0.5257 - categorical_accuracy: 0.7174 - val_loss: 0.8594 - val_categorical_accuracy: 0.4731\n"
          ],
          "name": "stdout"
        }
      ]
    },
    {
      "cell_type": "markdown",
      "metadata": {
        "id": "yl8OI97egcqI",
        "colab_type": "text"
      },
      "source": [
        "Como podemos ver, con esta red sencilla no nos acercamos nada a los resultados obtenidos por el XGBoost."
      ]
    },
    {
      "cell_type": "code",
      "metadata": {
        "id": "T21ZiQRx0ikP",
        "colab_type": "code",
        "outputId": "5c863d03-519f-4237-dd51-b0695de6411e",
        "colab": {
          "base_uri": "https://localhost:8080/",
          "height": 294
        }
      },
      "source": [
        "plot_metric(h, 'loss')"
      ],
      "execution_count": 219,
      "outputs": [
        {
          "output_type": "display_data",
          "data": {
            "image/png": "[encoded data removed]",
            "text/plain": [
              "<Figure size 432x288 with 1 Axes>"
            ]
          },
          "metadata": {
            "tags": []
          }
        }
      ]
    },
    {
      "cell_type": "code",
      "metadata": {
        "id": "UBpR2Jez0ikR",
        "colab_type": "code",
        "outputId": "260a80b9-4803-4fb1-8426-2315b1c55496",
        "colab": {
          "base_uri": "https://localhost:8080/",
          "height": 294
        }
      },
      "source": [
        "plot_metric(h, 'categorical_accuracy')"
      ],
      "execution_count": 220,
      "outputs": [
        {
          "output_type": "display_data",
          "data": {
            "image/png": "[encoded data removed]",
            "text/plain": [
              "<Figure size 432x288 with 1 Axes>"
            ]
          },
          "metadata": {
            "tags": []
          }
        }
      ]
    },
    {
      "cell_type": "markdown",
      "metadata": {
        "id": "LQmEYZ-rgtlt",
        "colab_type": "text"
      },
      "source": [
        "Vamos a jugar un poco con la configuración del entrenamiento para conseguir encontrar la configuración más idonea."
      ]
    },
    {
      "cell_type": "code",
      "metadata": {
        "id": "AOM-qsiOegUA",
        "colab_type": "code",
        "outputId": "ca81255f-98ba-4c99-e17f-b469ce0771c4",
        "colab": {
          "base_uri": "https://localhost:8080/",
          "height": 5942
        }
      },
      "source": [
        "model = build_model()\n",
        "model.compile(\n",
        "    optimizer=optimizers.rmsprop(),\n",
        "    loss=losses.categorical_crossentropy,\n",
        "    metrics=[metrics.categorical_accuracy]   \n",
        "    )\n",
        "h = model.fit(x_train_list, y_cat, epochs=160, batch_size=5, validation_split=.2)\n",
        "plot_metric(h, 'loss')\n",
        "plot_metric(h, 'categorical_accuracy')"
      ],
      "execution_count": 221,
      "outputs": [
        {
          "output_type": "stream",
          "text": [
            "Train on 368 samples, validate on 93 samples\n",
            "Epoch 1/160\n",
            "368/368 [==============================] - 0s 1ms/step - loss: 0.6542 - categorical_accuracy: 0.6277 - val_loss: 0.8875 - val_categorical_accuracy: 0.0000e+00\n",
            "Epoch 2/160\n",
            "368/368 [==============================] - 0s 692us/step - loss: 0.6404 - categorical_accuracy: 0.6277 - val_loss: 0.9078 - val_categorical_accuracy: 0.0000e+00\n",
            "Epoch 3/160\n",
            "368/368 [==============================] - 0s 710us/step - loss: 0.6259 - categorical_accuracy: 0.6250 - val_loss: 1.0745 - val_categorical_accuracy: 0.0000e+00\n",
            "Epoch 4/160\n",
            "368/368 [==============================] - 0s 687us/step - loss: 0.6173 - categorical_accuracy: 0.6277 - val_loss: 0.9424 - val_categorical_accuracy: 0.0108\n",
            "Epoch 5/160\n",
            "368/368 [==============================] - 0s 784us/step - loss: 0.6035 - categorical_accuracy: 0.6549 - val_loss: 1.0582 - val_categorical_accuracy: 0.0000e+00\n",
            "Epoch 6/160\n",
            "368/368 [==============================] - 0s 665us/step - loss: 0.5952 - categorical_accuracy: 0.6576 - val_loss: 1.0416 - val_categorical_accuracy: 0.0645\n",
            "Epoch 7/160\n",
            "368/368 [==============================] - 0s 678us/step - loss: 0.5866 - categorical_accuracy: 0.6793 - val_loss: 0.7871 - val_categorical_accuracy: 0.5054\n",
            "Epoch 8/160\n",
            "368/368 [==============================] - 0s 667us/step - loss: 0.5767 - categorical_accuracy: 0.7147 - val_loss: 0.9233 - val_categorical_accuracy: 0.3011\n",
            "Epoch 9/160\n",
            "368/368 [==============================] - 0s 617us/step - loss: 0.5718 - categorical_accuracy: 0.7092 - val_loss: 0.9164 - val_categorical_accuracy: 0.3441\n",
            "Epoch 10/160\n",
            "368/368 [==============================] - 0s 588us/step - loss: 0.5622 - categorical_accuracy: 0.6984 - val_loss: 0.7573 - val_categorical_accuracy: 0.5699\n",
            "Epoch 11/160\n",
            "368/368 [==============================] - 0s 630us/step - loss: 0.5613 - categorical_accuracy: 0.7065 - val_loss: 0.7492 - val_categorical_accuracy: 0.5806\n",
            "Epoch 12/160\n",
            "368/368 [==============================] - 0s 575us/step - loss: 0.5536 - categorical_accuracy: 0.7201 - val_loss: 0.9144 - val_categorical_accuracy: 0.3871\n",
            "Epoch 13/160\n",
            "368/368 [==============================] - 0s 599us/step - loss: 0.5533 - categorical_accuracy: 0.7120 - val_loss: 0.7931 - val_categorical_accuracy: 0.5806\n",
            "Epoch 14/160\n",
            "368/368 [==============================] - 0s 566us/step - loss: 0.5452 - categorical_accuracy: 0.7201 - val_loss: 1.1457 - val_categorical_accuracy: 0.2151\n",
            "Epoch 15/160\n",
            "368/368 [==============================] - 0s 574us/step - loss: 0.5462 - categorical_accuracy: 0.7065 - val_loss: 0.8998 - val_categorical_accuracy: 0.4086\n",
            "Epoch 16/160\n",
            "368/368 [==============================] - 0s 572us/step - loss: 0.5441 - categorical_accuracy: 0.7147 - val_loss: 1.0368 - val_categorical_accuracy: 0.3441\n",
            "Epoch 17/160\n",
            "368/368 [==============================] - 0s 598us/step - loss: 0.5431 - categorical_accuracy: 0.7283 - val_loss: 0.8431 - val_categorical_accuracy: 0.5161\n",
            "Epoch 18/160\n",
            "368/368 [==============================] - 0s 596us/step - loss: 0.5381 - categorical_accuracy: 0.7174 - val_loss: 0.8725 - val_categorical_accuracy: 0.4946\n",
            "Epoch 19/160\n",
            "368/368 [==============================] - 0s 580us/step - loss: 0.5395 - categorical_accuracy: 0.7201 - val_loss: 0.8299 - val_categorical_accuracy: 0.5269\n",
            "Epoch 20/160\n",
            "368/368 [==============================] - 0s 572us/step - loss: 0.5342 - categorical_accuracy: 0.7228 - val_loss: 0.8352 - val_categorical_accuracy: 0.5269\n",
            "Epoch 21/160\n",
            "368/368 [==============================] - 0s 573us/step - loss: 0.5288 - categorical_accuracy: 0.7228 - val_loss: 0.9243 - val_categorical_accuracy: 0.4301\n",
            "Epoch 22/160\n",
            "368/368 [==============================] - 0s 577us/step - loss: 0.5302 - categorical_accuracy: 0.7201 - val_loss: 1.0282 - val_categorical_accuracy: 0.3763\n",
            "Epoch 23/160\n",
            "368/368 [==============================] - 0s 598us/step - loss: 0.5332 - categorical_accuracy: 0.7120 - val_loss: 0.8359 - val_categorical_accuracy: 0.5376\n",
            "Epoch 24/160\n",
            "368/368 [==============================] - 0s 575us/step - loss: 0.5320 - categorical_accuracy: 0.7283 - val_loss: 0.9687 - val_categorical_accuracy: 0.4194\n",
            "Epoch 25/160\n",
            "368/368 [==============================] - 0s 593us/step - loss: 0.5306 - categorical_accuracy: 0.7283 - val_loss: 0.7583 - val_categorical_accuracy: 0.6237\n",
            "Epoch 26/160\n",
            "368/368 [==============================] - 0s 579us/step - loss: 0.5262 - categorical_accuracy: 0.7201 - val_loss: 1.0254 - val_categorical_accuracy: 0.3871\n",
            "Epoch 27/160\n",
            "368/368 [==============================] - 0s 575us/step - loss: 0.5286 - categorical_accuracy: 0.7283 - val_loss: 0.7644 - val_categorical_accuracy: 0.6129\n",
            "Epoch 28/160\n",
            "368/368 [==============================] - 0s 601us/step - loss: 0.5277 - categorical_accuracy: 0.7310 - val_loss: 0.8916 - val_categorical_accuracy: 0.4731\n",
            "Epoch 29/160\n",
            "368/368 [==============================] - 0s 590us/step - loss: 0.5242 - categorical_accuracy: 0.7228 - val_loss: 0.8206 - val_categorical_accuracy: 0.5806\n",
            "Epoch 30/160\n",
            "368/368 [==============================] - 0s 570us/step - loss: 0.5236 - categorical_accuracy: 0.7228 - val_loss: 0.7321 - val_categorical_accuracy: 0.6559\n",
            "Epoch 31/160\n",
            "368/368 [==============================] - 0s 579us/step - loss: 0.5235 - categorical_accuracy: 0.7201 - val_loss: 0.7321 - val_categorical_accuracy: 0.6559\n",
            "Epoch 32/160\n",
            "368/368 [==============================] - 0s 609us/step - loss: 0.5207 - categorical_accuracy: 0.7337 - val_loss: 0.7284 - val_categorical_accuracy: 0.6667\n",
            "Epoch 33/160\n",
            "368/368 [==============================] - 0s 570us/step - loss: 0.5215 - categorical_accuracy: 0.7228 - val_loss: 0.6409 - val_categorical_accuracy: 0.7204\n",
            "Epoch 34/160\n",
            "368/368 [==============================] - 0s 565us/step - loss: 0.5162 - categorical_accuracy: 0.7391 - val_loss: 0.7518 - val_categorical_accuracy: 0.6559\n",
            "Epoch 35/160\n",
            "368/368 [==============================] - 0s 581us/step - loss: 0.5207 - categorical_accuracy: 0.7310 - val_loss: 0.6177 - val_categorical_accuracy: 0.7204\n",
            "Epoch 36/160\n",
            "368/368 [==============================] - 0s 591us/step - loss: 0.5160 - categorical_accuracy: 0.7283 - val_loss: 0.8587 - val_categorical_accuracy: 0.5269\n",
            "Epoch 37/160\n",
            "368/368 [==============================] - 0s 617us/step - loss: 0.5149 - categorical_accuracy: 0.7391 - val_loss: 0.7309 - val_categorical_accuracy: 0.6667\n",
            "Epoch 38/160\n",
            "368/368 [==============================] - 0s 570us/step - loss: 0.5139 - categorical_accuracy: 0.7364 - val_loss: 0.8285 - val_categorical_accuracy: 0.5376\n",
            "Epoch 39/160\n",
            "368/368 [==============================] - 0s 579us/step - loss: 0.5179 - categorical_accuracy: 0.7228 - val_loss: 0.7195 - val_categorical_accuracy: 0.6667\n",
            "Epoch 40/160\n",
            "368/368 [==============================] - 0s 578us/step - loss: 0.5202 - categorical_accuracy: 0.7310 - val_loss: 0.6146 - val_categorical_accuracy: 0.7312\n",
            "Epoch 41/160\n",
            "368/368 [==============================] - 0s 588us/step - loss: 0.5120 - categorical_accuracy: 0.7364 - val_loss: 0.9986 - val_categorical_accuracy: 0.4409\n",
            "Epoch 42/160\n",
            "368/368 [==============================] - 0s 588us/step - loss: 0.5171 - categorical_accuracy: 0.7418 - val_loss: 0.5844 - val_categorical_accuracy: 0.7527\n",
            "Epoch 43/160\n",
            "368/368 [==============================] - 0s 574us/step - loss: 0.5145 - categorical_accuracy: 0.7446 - val_loss: 1.0898 - val_categorical_accuracy: 0.3978\n",
            "Epoch 44/160\n",
            "368/368 [==============================] - 0s 582us/step - loss: 0.5101 - categorical_accuracy: 0.7527 - val_loss: 0.8030 - val_categorical_accuracy: 0.6022\n",
            "Epoch 45/160\n",
            "368/368 [==============================] - 0s 585us/step - loss: 0.5142 - categorical_accuracy: 0.7446 - val_loss: 0.7595 - val_categorical_accuracy: 0.6237\n",
            "Epoch 46/160\n",
            "368/368 [==============================] - 0s 567us/step - loss: 0.5121 - categorical_accuracy: 0.7310 - val_loss: 0.6926 - val_categorical_accuracy: 0.6989\n",
            "Epoch 47/160\n",
            "368/368 [==============================] - 0s 611us/step - loss: 0.5097 - categorical_accuracy: 0.7446 - val_loss: 0.5390 - val_categorical_accuracy: 0.7742\n",
            "Epoch 48/160\n",
            "368/368 [==============================] - 0s 574us/step - loss: 0.5103 - categorical_accuracy: 0.7473 - val_loss: 0.6252 - val_categorical_accuracy: 0.7312\n",
            "Epoch 49/160\n",
            "368/368 [==============================] - 0s 576us/step - loss: 0.5075 - categorical_accuracy: 0.7418 - val_loss: 0.7684 - val_categorical_accuracy: 0.6237\n",
            "Epoch 50/160\n",
            "368/368 [==============================] - 0s 570us/step - loss: 0.5081 - categorical_accuracy: 0.7255 - val_loss: 0.9690 - val_categorical_accuracy: 0.4516\n",
            "Epoch 51/160\n",
            "368/368 [==============================] - 0s 667us/step - loss: 0.5072 - categorical_accuracy: 0.7418 - val_loss: 0.7330 - val_categorical_accuracy: 0.6667\n",
            "Epoch 52/160\n",
            "368/368 [==============================] - 0s 581us/step - loss: 0.5107 - categorical_accuracy: 0.7446 - val_loss: 0.6741 - val_categorical_accuracy: 0.6989\n",
            "Epoch 53/160\n",
            "368/368 [==============================] - 0s 585us/step - loss: 0.5037 - categorical_accuracy: 0.7636 - val_loss: 0.9836 - val_categorical_accuracy: 0.4516\n",
            "Epoch 54/160\n",
            "368/368 [==============================] - 0s 574us/step - loss: 0.5073 - categorical_accuracy: 0.7391 - val_loss: 0.6215 - val_categorical_accuracy: 0.7312\n",
            "Epoch 55/160\n",
            "368/368 [==============================] - 0s 574us/step - loss: 0.5094 - categorical_accuracy: 0.7092 - val_loss: 0.6476 - val_categorical_accuracy: 0.7312\n",
            "Epoch 56/160\n",
            "368/368 [==============================] - 0s 613us/step - loss: 0.5047 - categorical_accuracy: 0.7527 - val_loss: 0.6154 - val_categorical_accuracy: 0.7419\n",
            "Epoch 57/160\n",
            "368/368 [==============================] - 0s 582us/step - loss: 0.5052 - categorical_accuracy: 0.7391 - val_loss: 0.8558 - val_categorical_accuracy: 0.5269\n",
            "Epoch 58/160\n",
            "368/368 [==============================] - 0s 580us/step - loss: 0.5011 - categorical_accuracy: 0.7310 - val_loss: 1.0014 - val_categorical_accuracy: 0.4409\n",
            "Epoch 59/160\n",
            "368/368 [==============================] - 0s 586us/step - loss: 0.5058 - categorical_accuracy: 0.7418 - val_loss: 0.7535 - val_categorical_accuracy: 0.6452\n",
            "Epoch 60/160\n",
            "368/368 [==============================] - 0s 590us/step - loss: 0.5055 - categorical_accuracy: 0.7527 - val_loss: 0.6862 - val_categorical_accuracy: 0.6989\n",
            "Epoch 61/160\n",
            "368/368 [==============================] - 0s 615us/step - loss: 0.5028 - categorical_accuracy: 0.7473 - val_loss: 0.8228 - val_categorical_accuracy: 0.5806\n",
            "Epoch 62/160\n",
            "368/368 [==============================] - 0s 572us/step - loss: 0.5051 - categorical_accuracy: 0.7554 - val_loss: 0.8006 - val_categorical_accuracy: 0.6129\n",
            "Epoch 63/160\n",
            "368/368 [==============================] - 0s 577us/step - loss: 0.4990 - categorical_accuracy: 0.7663 - val_loss: 0.9191 - val_categorical_accuracy: 0.5054\n",
            "Epoch 64/160\n",
            "368/368 [==============================] - 0s 583us/step - loss: 0.5016 - categorical_accuracy: 0.7500 - val_loss: 0.6305 - val_categorical_accuracy: 0.7527\n",
            "Epoch 65/160\n",
            "368/368 [==============================] - 0s 608us/step - loss: 0.5006 - categorical_accuracy: 0.7527 - val_loss: 0.5872 - val_categorical_accuracy: 0.7742\n",
            "Epoch 66/160\n",
            "368/368 [==============================] - 0s 577us/step - loss: 0.5042 - categorical_accuracy: 0.7391 - val_loss: 0.6861 - val_categorical_accuracy: 0.6882\n",
            "Epoch 67/160\n",
            "368/368 [==============================] - 0s 573us/step - loss: 0.4935 - categorical_accuracy: 0.7500 - val_loss: 0.4840 - val_categorical_accuracy: 0.8387\n",
            "Epoch 68/160\n",
            "368/368 [==============================] - 0s 583us/step - loss: 0.5013 - categorical_accuracy: 0.7255 - val_loss: 0.6494 - val_categorical_accuracy: 0.7527\n",
            "Epoch 69/160\n",
            "368/368 [==============================] - 0s 581us/step - loss: 0.4953 - categorical_accuracy: 0.7391 - val_loss: 0.9979 - val_categorical_accuracy: 0.4516\n",
            "Epoch 70/160\n",
            "368/368 [==============================] - 0s 608us/step - loss: 0.5003 - categorical_accuracy: 0.7554 - val_loss: 0.7233 - val_categorical_accuracy: 0.6559\n",
            "Epoch 71/160\n",
            "368/368 [==============================] - 0s 587us/step - loss: 0.4985 - categorical_accuracy: 0.7418 - val_loss: 0.7759 - val_categorical_accuracy: 0.6237\n",
            "Epoch 72/160\n",
            "368/368 [==============================] - 0s 573us/step - loss: 0.4997 - categorical_accuracy: 0.7391 - val_loss: 0.7136 - val_categorical_accuracy: 0.6667\n",
            "Epoch 73/160\n",
            "368/368 [==============================] - 0s 594us/step - loss: 0.4943 - categorical_accuracy: 0.7554 - val_loss: 0.7499 - val_categorical_accuracy: 0.6559\n",
            "Epoch 74/160\n",
            "368/368 [==============================] - 0s 583us/step - loss: 0.4973 - categorical_accuracy: 0.7500 - val_loss: 0.6865 - val_categorical_accuracy: 0.6882\n",
            "Epoch 75/160\n",
            "368/368 [==============================] - 0s 602us/step - loss: 0.4975 - categorical_accuracy: 0.7582 - val_loss: 0.7952 - val_categorical_accuracy: 0.6022\n",
            "Epoch 76/160\n",
            "368/368 [==============================] - 0s 594us/step - loss: 0.4948 - categorical_accuracy: 0.7473 - val_loss: 0.6254 - val_categorical_accuracy: 0.7527\n",
            "Epoch 77/160\n",
            "368/368 [==============================] - 0s 583us/step - loss: 0.4998 - categorical_accuracy: 0.7283 - val_loss: 0.8908 - val_categorical_accuracy: 0.5376\n",
            "Epoch 78/160\n",
            "368/368 [==============================] - 0s 584us/step - loss: 0.4948 - categorical_accuracy: 0.7554 - val_loss: 0.7141 - val_categorical_accuracy: 0.6774\n",
            "Epoch 79/160\n",
            "368/368 [==============================] - 0s 606us/step - loss: 0.4897 - categorical_accuracy: 0.7473 - val_loss: 0.8481 - val_categorical_accuracy: 0.5376\n",
            "Epoch 80/160\n",
            "368/368 [==============================] - 0s 577us/step - loss: 0.4960 - categorical_accuracy: 0.7337 - val_loss: 0.8811 - val_categorical_accuracy: 0.5376\n",
            "Epoch 81/160\n",
            "368/368 [==============================] - 0s 582us/step - loss: 0.4857 - categorical_accuracy: 0.7609 - val_loss: 0.4203 - val_categorical_accuracy: 0.8280\n",
            "Epoch 82/160\n",
            "368/368 [==============================] - 0s 595us/step - loss: 0.4987 - categorical_accuracy: 0.7500 - val_loss: 0.5901 - val_categorical_accuracy: 0.7527\n",
            "Epoch 83/160\n",
            "368/368 [==============================] - 0s 571us/step - loss: 0.4897 - categorical_accuracy: 0.7690 - val_loss: 0.5347 - val_categorical_accuracy: 0.7957\n",
            "Epoch 84/160\n",
            "368/368 [==============================] - 0s 597us/step - loss: 0.4978 - categorical_accuracy: 0.7500 - val_loss: 0.7764 - val_categorical_accuracy: 0.6237\n",
            "Epoch 85/160\n",
            "368/368 [==============================] - 0s 581us/step - loss: 0.4918 - categorical_accuracy: 0.7554 - val_loss: 0.5931 - val_categorical_accuracy: 0.7527\n",
            "Epoch 86/160\n",
            "368/368 [==============================] - 0s 583us/step - loss: 0.4937 - categorical_accuracy: 0.7527 - val_loss: 0.7571 - val_categorical_accuracy: 0.6129\n",
            "Epoch 87/160\n",
            "368/368 [==============================] - 0s 566us/step - loss: 0.4915 - categorical_accuracy: 0.7527 - val_loss: 0.6599 - val_categorical_accuracy: 0.7204\n",
            "Epoch 88/160\n",
            "368/368 [==============================] - 0s 580us/step - loss: 0.4938 - categorical_accuracy: 0.7554 - val_loss: 0.6152 - val_categorical_accuracy: 0.7634\n",
            "Epoch 89/160\n",
            "368/368 [==============================] - 0s 602us/step - loss: 0.4915 - categorical_accuracy: 0.7527 - val_loss: 0.6269 - val_categorical_accuracy: 0.7527\n",
            "Epoch 90/160\n",
            "368/368 [==============================] - 0s 569us/step - loss: 0.4918 - categorical_accuracy: 0.7500 - val_loss: 0.6035 - val_categorical_accuracy: 0.7634\n",
            "Epoch 91/160\n",
            "368/368 [==============================] - 0s 567us/step - loss: 0.4908 - categorical_accuracy: 0.7582 - val_loss: 0.6387 - val_categorical_accuracy: 0.7419\n",
            "Epoch 92/160\n",
            "368/368 [==============================] - 0s 577us/step - loss: 0.4901 - categorical_accuracy: 0.7500 - val_loss: 0.7653 - val_categorical_accuracy: 0.6452\n",
            "Epoch 93/160\n",
            "368/368 [==============================] - 0s 588us/step - loss: 0.4884 - categorical_accuracy: 0.7527 - val_loss: 1.0654 - val_categorical_accuracy: 0.4086\n",
            "Epoch 94/160\n",
            "368/368 [==============================] - 0s 612us/step - loss: 0.4856 - categorical_accuracy: 0.7582 - val_loss: 0.8475 - val_categorical_accuracy: 0.5699\n",
            "Epoch 95/160\n",
            "368/368 [==============================] - 0s 569us/step - loss: 0.4851 - categorical_accuracy: 0.7473 - val_loss: 0.8660 - val_categorical_accuracy: 0.5376\n",
            "Epoch 96/160\n",
            "368/368 [==============================] - 0s 591us/step - loss: 0.4882 - categorical_accuracy: 0.7636 - val_loss: 0.7903 - val_categorical_accuracy: 0.6344\n",
            "Epoch 97/160\n",
            "368/368 [==============================] - 0s 572us/step - loss: 0.4878 - categorical_accuracy: 0.7527 - val_loss: 0.7465 - val_categorical_accuracy: 0.6344\n",
            "Epoch 98/160\n",
            "368/368 [==============================] - 0s 603us/step - loss: 0.4878 - categorical_accuracy: 0.7473 - val_loss: 0.6238 - val_categorical_accuracy: 0.7634\n",
            "Epoch 99/160\n",
            "368/368 [==============================] - 0s 639us/step - loss: 0.4907 - categorical_accuracy: 0.7500 - val_loss: 0.5682 - val_categorical_accuracy: 0.7742\n",
            "Epoch 100/160\n",
            "368/368 [==============================] - 0s 578us/step - loss: 0.4836 - categorical_accuracy: 0.7745 - val_loss: 0.8237 - val_categorical_accuracy: 0.5914\n",
            "Epoch 101/160\n",
            "368/368 [==============================] - 0s 571us/step - loss: 0.4877 - categorical_accuracy: 0.7663 - val_loss: 0.6764 - val_categorical_accuracy: 0.7419\n",
            "Epoch 102/160\n",
            "368/368 [==============================] - 0s 581us/step - loss: 0.4867 - categorical_accuracy: 0.7582 - val_loss: 0.6543 - val_categorical_accuracy: 0.7419\n",
            "Epoch 103/160\n",
            "368/368 [==============================] - 0s 635us/step - loss: 0.4892 - categorical_accuracy: 0.7446 - val_loss: 0.7911 - val_categorical_accuracy: 0.6129\n",
            "Epoch 104/160\n",
            "368/368 [==============================] - 0s 582us/step - loss: 0.4891 - categorical_accuracy: 0.7446 - val_loss: 0.7474 - val_categorical_accuracy: 0.6452\n",
            "Epoch 105/160\n",
            "368/368 [==============================] - 0s 565us/step - loss: 0.4851 - categorical_accuracy: 0.7609 - val_loss: 0.5757 - val_categorical_accuracy: 0.7849\n",
            "Epoch 106/160\n",
            "368/368 [==============================] - 0s 577us/step - loss: 0.4859 - categorical_accuracy: 0.7582 - val_loss: 0.7621 - val_categorical_accuracy: 0.6452\n",
            "Epoch 107/160\n",
            "368/368 [==============================] - 0s 581us/step - loss: 0.4860 - categorical_accuracy: 0.7473 - val_loss: 0.7139 - val_categorical_accuracy: 0.6774\n",
            "Epoch 108/160\n",
            "368/368 [==============================] - 0s 599us/step - loss: 0.4842 - categorical_accuracy: 0.7745 - val_loss: 0.8921 - val_categorical_accuracy: 0.5376\n",
            "Epoch 109/160\n",
            "368/368 [==============================] - 0s 580us/step - loss: 0.4862 - categorical_accuracy: 0.7473 - val_loss: 0.6231 - val_categorical_accuracy: 0.7634\n",
            "Epoch 110/160\n",
            "368/368 [==============================] - 0s 571us/step - loss: 0.4843 - categorical_accuracy: 0.7500 - val_loss: 0.8520 - val_categorical_accuracy: 0.5806\n",
            "Epoch 111/160\n",
            "368/368 [==============================] - 0s 586us/step - loss: 0.4868 - categorical_accuracy: 0.7554 - val_loss: 0.6242 - val_categorical_accuracy: 0.7634\n",
            "Epoch 112/160\n",
            "368/368 [==============================] - 0s 633us/step - loss: 0.4805 - categorical_accuracy: 0.7582 - val_loss: 0.5440 - val_categorical_accuracy: 0.7957\n",
            "Epoch 113/160\n",
            "368/368 [==============================] - 0s 603us/step - loss: 0.4771 - categorical_accuracy: 0.7717 - val_loss: 0.7051 - val_categorical_accuracy: 0.7204\n",
            "Epoch 114/160\n",
            "368/368 [==============================] - 0s 575us/step - loss: 0.4815 - categorical_accuracy: 0.7582 - val_loss: 0.8741 - val_categorical_accuracy: 0.5376\n",
            "Epoch 115/160\n",
            "368/368 [==============================] - 0s 570us/step - loss: 0.4821 - categorical_accuracy: 0.7337 - val_loss: 0.8217 - val_categorical_accuracy: 0.6022\n",
            "Epoch 116/160\n",
            "368/368 [==============================] - 0s 575us/step - loss: 0.4871 - categorical_accuracy: 0.7609 - val_loss: 0.7148 - val_categorical_accuracy: 0.7312\n",
            "Epoch 117/160\n",
            "368/368 [==============================] - 0s 613us/step - loss: 0.4832 - categorical_accuracy: 0.7554 - val_loss: 0.5963 - val_categorical_accuracy: 0.7634\n",
            "Epoch 118/160\n",
            "368/368 [==============================] - 0s 571us/step - loss: 0.4708 - categorical_accuracy: 0.7663 - val_loss: 0.6402 - val_categorical_accuracy: 0.7527\n",
            "Epoch 119/160\n",
            "368/368 [==============================] - 0s 577us/step - loss: 0.4796 - categorical_accuracy: 0.7527 - val_loss: 0.6176 - val_categorical_accuracy: 0.7634\n",
            "Epoch 120/160\n",
            "368/368 [==============================] - 0s 589us/step - loss: 0.4776 - categorical_accuracy: 0.7500 - val_loss: 0.6718 - val_categorical_accuracy: 0.7312\n",
            "Epoch 121/160\n",
            "368/368 [==============================] - 0s 579us/step - loss: 0.4795 - categorical_accuracy: 0.7527 - val_loss: 0.5590 - val_categorical_accuracy: 0.7742\n",
            "Epoch 122/160\n",
            "368/368 [==============================] - 0s 605us/step - loss: 0.4737 - categorical_accuracy: 0.7636 - val_loss: 0.7469 - val_categorical_accuracy: 0.6559\n",
            "Epoch 123/160\n",
            "368/368 [==============================] - 0s 576us/step - loss: 0.4785 - categorical_accuracy: 0.7500 - val_loss: 0.6467 - val_categorical_accuracy: 0.7312\n",
            "Epoch 124/160\n",
            "368/368 [==============================] - 0s 593us/step - loss: 0.4761 - categorical_accuracy: 0.7745 - val_loss: 0.7182 - val_categorical_accuracy: 0.6989\n",
            "Epoch 125/160\n",
            "368/368 [==============================] - 0s 573us/step - loss: 0.4800 - categorical_accuracy: 0.7690 - val_loss: 0.8503 - val_categorical_accuracy: 0.5914\n",
            "Epoch 126/160\n",
            "368/368 [==============================] - 0s 602us/step - loss: 0.4775 - categorical_accuracy: 0.7636 - val_loss: 0.8021 - val_categorical_accuracy: 0.6022\n",
            "Epoch 127/160\n",
            "368/368 [==============================] - 0s 614us/step - loss: 0.4802 - categorical_accuracy: 0.7473 - val_loss: 0.6427 - val_categorical_accuracy: 0.7527\n",
            "Epoch 128/160\n",
            "368/368 [==============================] - 0s 578us/step - loss: 0.4769 - categorical_accuracy: 0.7527 - val_loss: 0.8400 - val_categorical_accuracy: 0.5699\n",
            "Epoch 129/160\n",
            "368/368 [==============================] - 0s 598us/step - loss: 0.4833 - categorical_accuracy: 0.7745 - val_loss: 0.6924 - val_categorical_accuracy: 0.7312\n",
            "Epoch 130/160\n",
            "368/368 [==============================] - 0s 580us/step - loss: 0.4781 - categorical_accuracy: 0.7717 - val_loss: 0.6015 - val_categorical_accuracy: 0.7742\n",
            "Epoch 131/160\n",
            "368/368 [==============================] - 0s 611us/step - loss: 0.4764 - categorical_accuracy: 0.7772 - val_loss: 0.7291 - val_categorical_accuracy: 0.6774\n",
            "Epoch 132/160\n",
            "368/368 [==============================] - 0s 585us/step - loss: 0.4736 - categorical_accuracy: 0.7554 - val_loss: 0.6891 - val_categorical_accuracy: 0.7204\n",
            "Epoch 133/160\n",
            "368/368 [==============================] - 0s 575us/step - loss: 0.4762 - categorical_accuracy: 0.7500 - val_loss: 0.7615 - val_categorical_accuracy: 0.6559\n",
            "Epoch 134/160\n",
            "368/368 [==============================] - 0s 576us/step - loss: 0.4734 - categorical_accuracy: 0.7582 - val_loss: 0.7668 - val_categorical_accuracy: 0.6667\n",
            "Epoch 135/160\n",
            "368/368 [==============================] - 0s 592us/step - loss: 0.4784 - categorical_accuracy: 0.7690 - val_loss: 0.7092 - val_categorical_accuracy: 0.7097\n",
            "Epoch 136/160\n",
            "368/368 [==============================] - 0s 598us/step - loss: 0.4749 - categorical_accuracy: 0.7663 - val_loss: 0.6563 - val_categorical_accuracy: 0.7634\n",
            "Epoch 137/160\n",
            "368/368 [==============================] - 0s 573us/step - loss: 0.4734 - categorical_accuracy: 0.7500 - val_loss: 0.6409 - val_categorical_accuracy: 0.7634\n",
            "Epoch 138/160\n",
            "368/368 [==============================] - 0s 576us/step - loss: 0.4718 - categorical_accuracy: 0.7745 - val_loss: 0.8652 - val_categorical_accuracy: 0.5591\n",
            "Epoch 139/160\n",
            "368/368 [==============================] - 0s 586us/step - loss: 0.4752 - categorical_accuracy: 0.7636 - val_loss: 0.6975 - val_categorical_accuracy: 0.7097\n",
            "Epoch 140/160\n",
            "368/368 [==============================] - 0s 574us/step - loss: 0.4734 - categorical_accuracy: 0.7826 - val_loss: 0.4978 - val_categorical_accuracy: 0.8065\n",
            "Epoch 141/160\n",
            "368/368 [==============================] - 0s 634us/step - loss: 0.4717 - categorical_accuracy: 0.7663 - val_loss: 0.6904 - val_categorical_accuracy: 0.7097\n",
            "Epoch 142/160\n",
            "368/368 [==============================] - 0s 574us/step - loss: 0.4702 - categorical_accuracy: 0.7663 - val_loss: 0.5329 - val_categorical_accuracy: 0.7957\n",
            "Epoch 143/160\n",
            "368/368 [==============================] - 0s 577us/step - loss: 0.4737 - categorical_accuracy: 0.7690 - val_loss: 0.7046 - val_categorical_accuracy: 0.6882\n",
            "Epoch 144/160\n",
            "368/368 [==============================] - 0s 589us/step - loss: 0.4661 - categorical_accuracy: 0.7582 - val_loss: 0.5723 - val_categorical_accuracy: 0.7742\n",
            "Epoch 145/160\n",
            "368/368 [==============================] - 0s 651us/step - loss: 0.4695 - categorical_accuracy: 0.7418 - val_loss: 0.9872 - val_categorical_accuracy: 0.4946\n",
            "Epoch 146/160\n",
            "368/368 [==============================] - 0s 589us/step - loss: 0.4770 - categorical_accuracy: 0.7554 - val_loss: 0.5719 - val_categorical_accuracy: 0.7849\n",
            "Epoch 147/160\n",
            "368/368 [==============================] - 0s 580us/step - loss: 0.4730 - categorical_accuracy: 0.7446 - val_loss: 0.5734 - val_categorical_accuracy: 0.7742\n",
            "Epoch 148/160\n",
            "368/368 [==============================] - 0s 580us/step - loss: 0.4693 - categorical_accuracy: 0.7554 - val_loss: 0.8448 - val_categorical_accuracy: 0.5914\n",
            "Epoch 149/160\n",
            "368/368 [==============================] - 0s 580us/step - loss: 0.4764 - categorical_accuracy: 0.7690 - val_loss: 0.6837 - val_categorical_accuracy: 0.6989\n",
            "Epoch 150/160\n",
            "368/368 [==============================] - 0s 600us/step - loss: 0.4705 - categorical_accuracy: 0.7663 - val_loss: 0.6026 - val_categorical_accuracy: 0.7634\n",
            "Epoch 151/160\n",
            "368/368 [==============================] - 0s 572us/step - loss: 0.4702 - categorical_accuracy: 0.7745 - val_loss: 0.8407 - val_categorical_accuracy: 0.6022\n",
            "Epoch 152/160\n",
            "368/368 [==============================] - 0s 576us/step - loss: 0.4680 - categorical_accuracy: 0.7717 - val_loss: 0.4416 - val_categorical_accuracy: 0.8495\n",
            "Epoch 153/160\n",
            "368/368 [==============================] - 0s 580us/step - loss: 0.4758 - categorical_accuracy: 0.7663 - val_loss: 0.5803 - val_categorical_accuracy: 0.7849\n",
            "Epoch 154/160\n",
            "368/368 [==============================] - 0s 586us/step - loss: 0.4651 - categorical_accuracy: 0.7745 - val_loss: 0.6095 - val_categorical_accuracy: 0.7742\n",
            "Epoch 155/160\n",
            "368/368 [==============================] - 0s 592us/step - loss: 0.4671 - categorical_accuracy: 0.7609 - val_loss: 1.0664 - val_categorical_accuracy: 0.4301\n",
            "Epoch 156/160\n",
            "368/368 [==============================] - 0s 571us/step - loss: 0.4721 - categorical_accuracy: 0.7554 - val_loss: 0.8138 - val_categorical_accuracy: 0.5699\n",
            "Epoch 157/160\n",
            "368/368 [==============================] - 0s 604us/step - loss: 0.4673 - categorical_accuracy: 0.7554 - val_loss: 0.7895 - val_categorical_accuracy: 0.6344\n",
            "Epoch 158/160\n",
            "368/368 [==============================] - 0s 573us/step - loss: 0.4651 - categorical_accuracy: 0.7609 - val_loss: 0.6838 - val_categorical_accuracy: 0.7097\n",
            "Epoch 159/160\n",
            "368/368 [==============================] - 0s 610us/step - loss: 0.4724 - categorical_accuracy: 0.7690 - val_loss: 0.6393 - val_categorical_accuracy: 0.7527\n",
            "Epoch 160/160\n",
            "368/368 [==============================] - 0s 568us/step - loss: 0.4646 - categorical_accuracy: 0.7853 - val_loss: 0.8432 - val_categorical_accuracy: 0.5699\n"
          ],
          "name": "stdout"
        },
        {
          "output_type": "display_data",
          "data": {
            "image/png": "[encoded data removed]",
            "text/plain": [
              "<Figure size 432x288 with 1 Axes>"
            ]
          },
          "metadata": {
            "tags": []
          }
        },
        {
          "output_type": "display_data",
          "data": {
            "image/png": "[encoded data removed]",
            "text/plain": [
              "<Figure size 432x288 with 1 Axes>"
            ]
          },
          "metadata": {
            "tags": []
          }
        }
      ]
    },
    {
      "cell_type": "markdown",
      "metadata": {
        "id": "zo1tPL6LjpER",
        "colab_type": "text"
      },
      "source": [
        "Podemos ver que con un optimizador adam nuestra red funciona mejor."
      ]
    },
    {
      "cell_type": "code",
      "metadata": {
        "id": "q8htwNrHegSW",
        "colab_type": "code",
        "outputId": "13a644ee-ad4a-4aaa-abcd-33838c970053",
        "colab": {
          "base_uri": "https://localhost:8080/",
          "height": 5942
        }
      },
      "source": [
        "model = build_model()\n",
        "model.compile(\n",
        "    optimizer=optimizers.adam(),\n",
        "    loss=losses.categorical_crossentropy,\n",
        "    metrics=[metrics.categorical_accuracy]   \n",
        "    )\n",
        "h = model.fit(x_train_list, y_cat, epochs=160, batch_size=5, validation_split=.2)\n",
        "plot_metric(h, 'loss')\n",
        "plot_metric(h, 'categorical_accuracy')"
      ],
      "execution_count": 222,
      "outputs": [
        {
          "output_type": "stream",
          "text": [
            "Train on 368 samples, validate on 93 samples\n",
            "Epoch 1/160\n",
            "368/368 [==============================] - 1s 1ms/step - loss: 0.6585 - categorical_accuracy: 0.6277 - val_loss: 0.8723 - val_categorical_accuracy: 0.0000e+00\n",
            "Epoch 2/160\n",
            "368/368 [==============================] - 0s 645us/step - loss: 0.6417 - categorical_accuracy: 0.6223 - val_loss: 1.0632 - val_categorical_accuracy: 0.0000e+00\n",
            "Epoch 3/160\n",
            "368/368 [==============================] - 0s 642us/step - loss: 0.6397 - categorical_accuracy: 0.6277 - val_loss: 1.0060 - val_categorical_accuracy: 0.0000e+00\n",
            "Epoch 4/160\n",
            "368/368 [==============================] - 0s 658us/step - loss: 0.6255 - categorical_accuracy: 0.6277 - val_loss: 0.9387 - val_categorical_accuracy: 0.0000e+00\n",
            "Epoch 5/160\n",
            "368/368 [==============================] - 0s 641us/step - loss: 0.6139 - categorical_accuracy: 0.6304 - val_loss: 0.8776 - val_categorical_accuracy: 0.0645\n",
            "Epoch 6/160\n",
            "368/368 [==============================] - 0s 659us/step - loss: 0.6041 - categorical_accuracy: 0.6549 - val_loss: 0.9603 - val_categorical_accuracy: 0.0538\n",
            "Epoch 7/160\n",
            "368/368 [==============================] - 0s 647us/step - loss: 0.5957 - categorical_accuracy: 0.6603 - val_loss: 0.9709 - val_categorical_accuracy: 0.0753\n",
            "Epoch 8/160\n",
            "368/368 [==============================] - 0s 632us/step - loss: 0.5859 - categorical_accuracy: 0.6712 - val_loss: 0.8190 - val_categorical_accuracy: 0.3226\n",
            "Epoch 9/160\n",
            "368/368 [==============================] - 0s 681us/step - loss: 0.5757 - categorical_accuracy: 0.6848 - val_loss: 0.7099 - val_categorical_accuracy: 0.5484\n",
            "Epoch 10/160\n",
            "368/368 [==============================] - 0s 642us/step - loss: 0.5726 - categorical_accuracy: 0.6875 - val_loss: 0.7805 - val_categorical_accuracy: 0.4409\n",
            "Epoch 11/160\n",
            "368/368 [==============================] - 0s 641us/step - loss: 0.5642 - categorical_accuracy: 0.6984 - val_loss: 0.9093 - val_categorical_accuracy: 0.2258\n",
            "Epoch 12/160\n",
            "368/368 [==============================] - 0s 652us/step - loss: 0.5628 - categorical_accuracy: 0.7065 - val_loss: 0.6454 - val_categorical_accuracy: 0.6667\n",
            "Epoch 13/160\n",
            "368/368 [==============================] - 0s 673us/step - loss: 0.5587 - categorical_accuracy: 0.6957 - val_loss: 0.8880 - val_categorical_accuracy: 0.3333\n",
            "Epoch 14/160\n",
            "368/368 [==============================] - 0s 641us/step - loss: 0.5509 - categorical_accuracy: 0.7011 - val_loss: 0.6878 - val_categorical_accuracy: 0.5914\n",
            "Epoch 15/160\n",
            "368/368 [==============================] - 0s 646us/step - loss: 0.5430 - categorical_accuracy: 0.7147 - val_loss: 0.7521 - val_categorical_accuracy: 0.5484\n",
            "Epoch 16/160\n",
            "368/368 [==============================] - 0s 646us/step - loss: 0.5397 - categorical_accuracy: 0.7201 - val_loss: 1.0393 - val_categorical_accuracy: 0.2043\n",
            "Epoch 17/160\n",
            "368/368 [==============================] - 0s 667us/step - loss: 0.5417 - categorical_accuracy: 0.7174 - val_loss: 0.6868 - val_categorical_accuracy: 0.6344\n",
            "Epoch 18/160\n",
            "368/368 [==============================] - 0s 632us/step - loss: 0.5386 - categorical_accuracy: 0.7255 - val_loss: 0.6781 - val_categorical_accuracy: 0.6237\n",
            "Epoch 19/160\n",
            "368/368 [==============================] - 0s 636us/step - loss: 0.5308 - categorical_accuracy: 0.7255 - val_loss: 0.9712 - val_categorical_accuracy: 0.3548\n",
            "Epoch 20/160\n",
            "368/368 [==============================] - 0s 630us/step - loss: 0.5335 - categorical_accuracy: 0.7174 - val_loss: 1.0148 - val_categorical_accuracy: 0.3118\n",
            "Epoch 21/160\n",
            "368/368 [==============================] - 0s 670us/step - loss: 0.5293 - categorical_accuracy: 0.7283 - val_loss: 0.5642 - val_categorical_accuracy: 0.7742\n",
            "Epoch 22/160\n",
            "368/368 [==============================] - 0s 635us/step - loss: 0.5508 - categorical_accuracy: 0.7011 - val_loss: 0.5891 - val_categorical_accuracy: 0.7312\n",
            "Epoch 23/160\n",
            "368/368 [==============================] - 0s 634us/step - loss: 0.5383 - categorical_accuracy: 0.7201 - val_loss: 0.9391 - val_categorical_accuracy: 0.3978\n",
            "Epoch 24/160\n",
            "368/368 [==============================] - 0s 635us/step - loss: 0.5271 - categorical_accuracy: 0.7174 - val_loss: 0.9200 - val_categorical_accuracy: 0.4194\n",
            "Epoch 25/160\n",
            "368/368 [==============================] - 0s 652us/step - loss: 0.5292 - categorical_accuracy: 0.7065 - val_loss: 0.8534 - val_categorical_accuracy: 0.4624\n",
            "Epoch 26/160\n",
            "368/368 [==============================] - 0s 676us/step - loss: 0.5315 - categorical_accuracy: 0.7201 - val_loss: 0.8258 - val_categorical_accuracy: 0.5269\n",
            "Epoch 27/160\n",
            "368/368 [==============================] - 0s 647us/step - loss: 0.5290 - categorical_accuracy: 0.7174 - val_loss: 0.7558 - val_categorical_accuracy: 0.5806\n",
            "Epoch 28/160\n",
            "368/368 [==============================] - 0s 639us/step - loss: 0.5216 - categorical_accuracy: 0.7391 - val_loss: 0.9088 - val_categorical_accuracy: 0.4731\n",
            "Epoch 29/160\n",
            "368/368 [==============================] - 0s 642us/step - loss: 0.5132 - categorical_accuracy: 0.7364 - val_loss: 0.5986 - val_categorical_accuracy: 0.7419\n",
            "Epoch 30/160\n",
            "368/368 [==============================] - 0s 687us/step - loss: 0.5240 - categorical_accuracy: 0.7174 - val_loss: 0.7034 - val_categorical_accuracy: 0.6452\n",
            "Epoch 31/160\n",
            "368/368 [==============================] - 0s 647us/step - loss: 0.5253 - categorical_accuracy: 0.7228 - val_loss: 0.8921 - val_categorical_accuracy: 0.4839\n",
            "Epoch 32/160\n",
            "368/368 [==============================] - 0s 648us/step - loss: 0.5236 - categorical_accuracy: 0.7473 - val_loss: 0.6206 - val_categorical_accuracy: 0.7204\n",
            "Epoch 33/160\n",
            "368/368 [==============================] - 0s 641us/step - loss: 0.5211 - categorical_accuracy: 0.7418 - val_loss: 0.7663 - val_categorical_accuracy: 0.5806\n",
            "Epoch 34/160\n",
            "368/368 [==============================] - 0s 719us/step - loss: 0.5207 - categorical_accuracy: 0.7337 - val_loss: 0.7351 - val_categorical_accuracy: 0.6344\n",
            "Epoch 35/160\n",
            "368/368 [==============================] - 0s 640us/step - loss: 0.5101 - categorical_accuracy: 0.7418 - val_loss: 1.1570 - val_categorical_accuracy: 0.2796\n",
            "Epoch 36/160\n",
            "368/368 [==============================] - 0s 656us/step - loss: 0.5205 - categorical_accuracy: 0.7446 - val_loss: 0.7009 - val_categorical_accuracy: 0.6667\n",
            "Epoch 37/160\n",
            "368/368 [==============================] - 0s 632us/step - loss: 0.5189 - categorical_accuracy: 0.7391 - val_loss: 0.6163 - val_categorical_accuracy: 0.7312\n",
            "Epoch 38/160\n",
            "368/368 [==============================] - 0s 664us/step - loss: 0.5154 - categorical_accuracy: 0.7364 - val_loss: 0.9142 - val_categorical_accuracy: 0.4839\n",
            "Epoch 39/160\n",
            "368/368 [==============================] - 0s 643us/step - loss: 0.5145 - categorical_accuracy: 0.7446 - val_loss: 0.7172 - val_categorical_accuracy: 0.6452\n",
            "Epoch 40/160\n",
            "368/368 [==============================] - 0s 643us/step - loss: 0.5148 - categorical_accuracy: 0.7446 - val_loss: 0.7239 - val_categorical_accuracy: 0.6129\n",
            "Epoch 41/160\n",
            "368/368 [==============================] - 0s 639us/step - loss: 0.5178 - categorical_accuracy: 0.7310 - val_loss: 0.8304 - val_categorical_accuracy: 0.5376\n",
            "Epoch 42/160\n",
            "368/368 [==============================] - 0s 638us/step - loss: 0.5129 - categorical_accuracy: 0.7446 - val_loss: 0.8023 - val_categorical_accuracy: 0.5484\n",
            "Epoch 43/160\n",
            "368/368 [==============================] - 0s 661us/step - loss: 0.5120 - categorical_accuracy: 0.7527 - val_loss: 0.6499 - val_categorical_accuracy: 0.7312\n",
            "Epoch 44/160\n",
            "368/368 [==============================] - 0s 645us/step - loss: 0.5152 - categorical_accuracy: 0.7337 - val_loss: 0.6827 - val_categorical_accuracy: 0.6989\n",
            "Epoch 45/160\n",
            "368/368 [==============================] - 0s 640us/step - loss: 0.5111 - categorical_accuracy: 0.7391 - val_loss: 0.5155 - val_categorical_accuracy: 0.8065\n",
            "Epoch 46/160\n",
            "368/368 [==============================] - 0s 634us/step - loss: 0.5166 - categorical_accuracy: 0.7473 - val_loss: 0.6729 - val_categorical_accuracy: 0.7097\n",
            "Epoch 47/160\n",
            "368/368 [==============================] - 0s 707us/step - loss: 0.5063 - categorical_accuracy: 0.7527 - val_loss: 0.8721 - val_categorical_accuracy: 0.4946\n",
            "Epoch 48/160\n",
            "368/368 [==============================] - 0s 648us/step - loss: 0.5080 - categorical_accuracy: 0.7473 - val_loss: 0.7430 - val_categorical_accuracy: 0.6022\n",
            "Epoch 49/160\n",
            "368/368 [==============================] - 0s 650us/step - loss: 0.5113 - categorical_accuracy: 0.7446 - val_loss: 0.6543 - val_categorical_accuracy: 0.7312\n",
            "Epoch 50/160\n",
            "368/368 [==============================] - 0s 654us/step - loss: 0.5187 - categorical_accuracy: 0.7473 - val_loss: 0.8395 - val_categorical_accuracy: 0.5269\n",
            "Epoch 51/160\n",
            "368/368 [==============================] - 0s 662us/step - loss: 0.5082 - categorical_accuracy: 0.7473 - val_loss: 0.6423 - val_categorical_accuracy: 0.7312\n",
            "Epoch 52/160\n",
            "368/368 [==============================] - 0s 640us/step - loss: 0.5151 - categorical_accuracy: 0.7446 - val_loss: 0.7946 - val_categorical_accuracy: 0.5699\n",
            "Epoch 53/160\n",
            "368/368 [==============================] - 0s 649us/step - loss: 0.5115 - categorical_accuracy: 0.7364 - val_loss: 0.7836 - val_categorical_accuracy: 0.5806\n",
            "Epoch 54/160\n",
            "368/368 [==============================] - 0s 637us/step - loss: 0.5123 - categorical_accuracy: 0.7364 - val_loss: 0.7437 - val_categorical_accuracy: 0.6344\n",
            "Epoch 55/160\n",
            "368/368 [==============================] - 0s 686us/step - loss: 0.5149 - categorical_accuracy: 0.7364 - val_loss: 0.8119 - val_categorical_accuracy: 0.5591\n",
            "Epoch 56/160\n",
            "368/368 [==============================] - 0s 663us/step - loss: 0.5080 - categorical_accuracy: 0.7636 - val_loss: 0.6779 - val_categorical_accuracy: 0.6989\n",
            "Epoch 57/160\n",
            "368/368 [==============================] - 0s 643us/step - loss: 0.5043 - categorical_accuracy: 0.7582 - val_loss: 0.7605 - val_categorical_accuracy: 0.5806\n",
            "Epoch 58/160\n",
            "368/368 [==============================] - 0s 641us/step - loss: 0.5085 - categorical_accuracy: 0.7527 - val_loss: 0.7435 - val_categorical_accuracy: 0.6667\n",
            "Epoch 59/160\n",
            "368/368 [==============================] - 0s 647us/step - loss: 0.5057 - categorical_accuracy: 0.7391 - val_loss: 0.8318 - val_categorical_accuracy: 0.5484\n",
            "Epoch 60/160\n",
            "368/368 [==============================] - 0s 674us/step - loss: 0.5136 - categorical_accuracy: 0.7310 - val_loss: 0.8171 - val_categorical_accuracy: 0.5591\n",
            "Epoch 61/160\n",
            "368/368 [==============================] - 0s 649us/step - loss: 0.5059 - categorical_accuracy: 0.7446 - val_loss: 0.5890 - val_categorical_accuracy: 0.7527\n",
            "Epoch 62/160\n",
            "368/368 [==============================] - 0s 631us/step - loss: 0.5162 - categorical_accuracy: 0.7391 - val_loss: 0.7438 - val_categorical_accuracy: 0.6344\n",
            "Epoch 63/160\n",
            "368/368 [==============================] - 0s 647us/step - loss: 0.5040 - categorical_accuracy: 0.7446 - val_loss: 0.7850 - val_categorical_accuracy: 0.5914\n",
            "Epoch 64/160\n",
            "368/368 [==============================] - 0s 674us/step - loss: 0.5019 - categorical_accuracy: 0.7446 - val_loss: 0.5586 - val_categorical_accuracy: 0.7849\n",
            "Epoch 65/160\n",
            "368/368 [==============================] - 0s 636us/step - loss: 0.5093 - categorical_accuracy: 0.7364 - val_loss: 0.6219 - val_categorical_accuracy: 0.7312\n",
            "Epoch 66/160\n",
            "368/368 [==============================] - 0s 651us/step - loss: 0.5129 - categorical_accuracy: 0.7337 - val_loss: 0.8032 - val_categorical_accuracy: 0.5806\n",
            "Epoch 67/160\n",
            "368/368 [==============================] - 0s 639us/step - loss: 0.5041 - categorical_accuracy: 0.7582 - val_loss: 0.7904 - val_categorical_accuracy: 0.5806\n",
            "Epoch 68/160\n",
            "368/368 [==============================] - 0s 667us/step - loss: 0.5101 - categorical_accuracy: 0.7391 - val_loss: 0.8128 - val_categorical_accuracy: 0.5591\n",
            "Epoch 69/160\n",
            "368/368 [==============================] - 0s 631us/step - loss: 0.5002 - categorical_accuracy: 0.7500 - val_loss: 0.8260 - val_categorical_accuracy: 0.5376\n",
            "Epoch 70/160\n",
            "368/368 [==============================] - 0s 637us/step - loss: 0.4965 - categorical_accuracy: 0.7690 - val_loss: 0.5841 - val_categorical_accuracy: 0.7634\n",
            "Epoch 71/160\n",
            "368/368 [==============================] - 0s 644us/step - loss: 0.4981 - categorical_accuracy: 0.7527 - val_loss: 0.8588 - val_categorical_accuracy: 0.5484\n",
            "Epoch 72/160\n",
            "368/368 [==============================] - 0s 665us/step - loss: 0.4987 - categorical_accuracy: 0.7554 - val_loss: 0.7013 - val_categorical_accuracy: 0.7097\n",
            "Epoch 73/160\n",
            "368/368 [==============================] - 0s 647us/step - loss: 0.5103 - categorical_accuracy: 0.7473 - val_loss: 0.8070 - val_categorical_accuracy: 0.5806\n",
            "Epoch 74/160\n",
            "368/368 [==============================] - 0s 638us/step - loss: 0.5058 - categorical_accuracy: 0.7500 - val_loss: 0.8169 - val_categorical_accuracy: 0.5806\n",
            "Epoch 75/160\n",
            "368/368 [==============================] - 0s 639us/step - loss: 0.5048 - categorical_accuracy: 0.7527 - val_loss: 0.5544 - val_categorical_accuracy: 0.7742\n",
            "Epoch 76/160\n",
            "368/368 [==============================] - 0s 628us/step - loss: 0.4960 - categorical_accuracy: 0.7582 - val_loss: 0.8588 - val_categorical_accuracy: 0.5161\n",
            "Epoch 77/160\n",
            "368/368 [==============================] - 0s 665us/step - loss: 0.4977 - categorical_accuracy: 0.7500 - val_loss: 0.8785 - val_categorical_accuracy: 0.5054\n",
            "Epoch 78/160\n",
            "368/368 [==============================] - 0s 689us/step - loss: 0.5046 - categorical_accuracy: 0.7582 - val_loss: 0.7655 - val_categorical_accuracy: 0.6237\n",
            "Epoch 79/160\n",
            "368/368 [==============================] - 0s 648us/step - loss: 0.4990 - categorical_accuracy: 0.7582 - val_loss: 0.5507 - val_categorical_accuracy: 0.7849\n",
            "Epoch 80/160\n",
            "368/368 [==============================] - 0s 637us/step - loss: 0.5013 - categorical_accuracy: 0.7500 - val_loss: 0.7998 - val_categorical_accuracy: 0.5914\n",
            "Epoch 81/160\n",
            "368/368 [==============================] - 0s 674us/step - loss: 0.5056 - categorical_accuracy: 0.7418 - val_loss: 0.5844 - val_categorical_accuracy: 0.7634\n",
            "Epoch 82/160\n",
            "368/368 [==============================] - 0s 659us/step - loss: 0.5012 - categorical_accuracy: 0.7500 - val_loss: 0.8102 - val_categorical_accuracy: 0.5591\n",
            "Epoch 83/160\n",
            "368/368 [==============================] - 0s 638us/step - loss: 0.5029 - categorical_accuracy: 0.7609 - val_loss: 0.8646 - val_categorical_accuracy: 0.5161\n",
            "Epoch 84/160\n",
            "368/368 [==============================] - 0s 634us/step - loss: 0.5022 - categorical_accuracy: 0.7473 - val_loss: 0.6130 - val_categorical_accuracy: 0.7527\n",
            "Epoch 85/160\n",
            "368/368 [==============================] - 0s 676us/step - loss: 0.4988 - categorical_accuracy: 0.7554 - val_loss: 0.7536 - val_categorical_accuracy: 0.6667\n",
            "Epoch 86/160\n",
            "368/368 [==============================] - 0s 643us/step - loss: 0.4908 - categorical_accuracy: 0.7554 - val_loss: 0.9800 - val_categorical_accuracy: 0.3978\n",
            "Epoch 87/160\n",
            "368/368 [==============================] - 0s 643us/step - loss: 0.4998 - categorical_accuracy: 0.7636 - val_loss: 0.6441 - val_categorical_accuracy: 0.7204\n",
            "Epoch 88/160\n",
            "368/368 [==============================] - 0s 679us/step - loss: 0.4990 - categorical_accuracy: 0.7527 - val_loss: 0.6490 - val_categorical_accuracy: 0.7312\n",
            "Epoch 89/160\n",
            "368/368 [==============================] - 0s 673us/step - loss: 0.4970 - categorical_accuracy: 0.7418 - val_loss: 0.5755 - val_categorical_accuracy: 0.7742\n",
            "Epoch 90/160\n",
            "368/368 [==============================] - 0s 660us/step - loss: 0.4997 - categorical_accuracy: 0.7391 - val_loss: 0.6715 - val_categorical_accuracy: 0.7097\n",
            "Epoch 91/160\n",
            "368/368 [==============================] - 0s 646us/step - loss: 0.4962 - categorical_accuracy: 0.7500 - val_loss: 0.7248 - val_categorical_accuracy: 0.6774\n",
            "Epoch 92/160\n",
            "368/368 [==============================] - 0s 638us/step - loss: 0.4951 - categorical_accuracy: 0.7582 - val_loss: 0.7449 - val_categorical_accuracy: 0.6774\n",
            "Epoch 93/160\n",
            "368/368 [==============================] - 0s 643us/step - loss: 0.5001 - categorical_accuracy: 0.7500 - val_loss: 0.9079 - val_categorical_accuracy: 0.4946\n",
            "Epoch 94/160\n",
            "368/368 [==============================] - 0s 665us/step - loss: 0.4978 - categorical_accuracy: 0.7772 - val_loss: 0.7712 - val_categorical_accuracy: 0.6237\n",
            "Epoch 95/160\n",
            "368/368 [==============================] - 0s 641us/step - loss: 0.4997 - categorical_accuracy: 0.7690 - val_loss: 0.7351 - val_categorical_accuracy: 0.6667\n",
            "Epoch 96/160\n",
            "368/368 [==============================] - 0s 641us/step - loss: 0.4980 - categorical_accuracy: 0.7663 - val_loss: 0.8449 - val_categorical_accuracy: 0.5484\n",
            "Epoch 97/160\n",
            "368/368 [==============================] - 0s 646us/step - loss: 0.4909 - categorical_accuracy: 0.7582 - val_loss: 0.7349 - val_categorical_accuracy: 0.6774\n",
            "Epoch 98/160\n",
            "368/368 [==============================] - 0s 656us/step - loss: 0.4978 - categorical_accuracy: 0.7527 - val_loss: 0.7179 - val_categorical_accuracy: 0.6667\n",
            "Epoch 99/160\n",
            "368/368 [==============================] - 0s 644us/step - loss: 0.4965 - categorical_accuracy: 0.7554 - val_loss: 0.5813 - val_categorical_accuracy: 0.7849\n",
            "Epoch 100/160\n",
            "368/368 [==============================] - 0s 639us/step - loss: 0.4961 - categorical_accuracy: 0.7527 - val_loss: 0.7884 - val_categorical_accuracy: 0.6129\n",
            "Epoch 101/160\n",
            "368/368 [==============================] - 0s 621us/step - loss: 0.4940 - categorical_accuracy: 0.7717 - val_loss: 0.7406 - val_categorical_accuracy: 0.6452\n",
            "Epoch 102/160\n",
            "368/368 [==============================] - 0s 669us/step - loss: 0.4954 - categorical_accuracy: 0.7609 - val_loss: 0.6640 - val_categorical_accuracy: 0.7097\n",
            "Epoch 103/160\n",
            "368/368 [==============================] - 0s 616us/step - loss: 0.4929 - categorical_accuracy: 0.7717 - val_loss: 0.7439 - val_categorical_accuracy: 0.6774\n",
            "Epoch 104/160\n",
            "368/368 [==============================] - 0s 634us/step - loss: 0.4975 - categorical_accuracy: 0.7636 - val_loss: 0.7737 - val_categorical_accuracy: 0.6237\n",
            "Epoch 105/160\n",
            "368/368 [==============================] - 0s 635us/step - loss: 0.4916 - categorical_accuracy: 0.7554 - val_loss: 0.9177 - val_categorical_accuracy: 0.4409\n",
            "Epoch 106/160\n",
            "368/368 [==============================] - 0s 638us/step - loss: 0.4966 - categorical_accuracy: 0.7500 - val_loss: 0.6575 - val_categorical_accuracy: 0.7097\n",
            "Epoch 107/160\n",
            "368/368 [==============================] - 0s 661us/step - loss: 0.4915 - categorical_accuracy: 0.7663 - val_loss: 0.7500 - val_categorical_accuracy: 0.6237\n",
            "Epoch 108/160\n",
            "368/368 [==============================] - 0s 643us/step - loss: 0.4913 - categorical_accuracy: 0.7609 - val_loss: 0.8015 - val_categorical_accuracy: 0.5806\n",
            "Epoch 109/160\n",
            "368/368 [==============================] - 0s 640us/step - loss: 0.5045 - categorical_accuracy: 0.7554 - val_loss: 0.6520 - val_categorical_accuracy: 0.7312\n",
            "Epoch 110/160\n",
            "368/368 [==============================] - 0s 638us/step - loss: 0.4974 - categorical_accuracy: 0.7418 - val_loss: 0.7783 - val_categorical_accuracy: 0.6452\n",
            "Epoch 111/160\n",
            "368/368 [==============================] - 0s 669us/step - loss: 0.4923 - categorical_accuracy: 0.7527 - val_loss: 0.6683 - val_categorical_accuracy: 0.6989\n",
            "Epoch 112/160\n",
            "368/368 [==============================] - 0s 641us/step - loss: 0.4946 - categorical_accuracy: 0.7636 - val_loss: 0.6782 - val_categorical_accuracy: 0.7204\n",
            "Epoch 113/160\n",
            "368/368 [==============================] - 0s 646us/step - loss: 0.4931 - categorical_accuracy: 0.7500 - val_loss: 0.6532 - val_categorical_accuracy: 0.7097\n",
            "Epoch 114/160\n",
            "368/368 [==============================] - 0s 635us/step - loss: 0.4886 - categorical_accuracy: 0.7554 - val_loss: 0.8357 - val_categorical_accuracy: 0.5806\n",
            "Epoch 115/160\n",
            "368/368 [==============================] - 0s 661us/step - loss: 0.4950 - categorical_accuracy: 0.7663 - val_loss: 0.7479 - val_categorical_accuracy: 0.6452\n",
            "Epoch 116/160\n",
            "368/368 [==============================] - 0s 636us/step - loss: 0.4925 - categorical_accuracy: 0.7500 - val_loss: 0.8300 - val_categorical_accuracy: 0.5806\n",
            "Epoch 117/160\n",
            "368/368 [==============================] - 0s 637us/step - loss: 0.4919 - categorical_accuracy: 0.7554 - val_loss: 0.7042 - val_categorical_accuracy: 0.6882\n",
            "Epoch 118/160\n",
            "368/368 [==============================] - 0s 654us/step - loss: 0.4846 - categorical_accuracy: 0.7663 - val_loss: 0.7924 - val_categorical_accuracy: 0.5914\n",
            "Epoch 119/160\n",
            "368/368 [==============================] - 0s 674us/step - loss: 0.4883 - categorical_accuracy: 0.7582 - val_loss: 0.7212 - val_categorical_accuracy: 0.6667\n",
            "Epoch 120/160\n",
            "368/368 [==============================] - 0s 639us/step - loss: 0.4864 - categorical_accuracy: 0.7582 - val_loss: 0.8165 - val_categorical_accuracy: 0.5914\n",
            "Epoch 121/160\n",
            "368/368 [==============================] - 0s 690us/step - loss: 0.4925 - categorical_accuracy: 0.7554 - val_loss: 0.7102 - val_categorical_accuracy: 0.6882\n",
            "Epoch 122/160\n",
            "368/368 [==============================] - 0s 663us/step - loss: 0.4943 - categorical_accuracy: 0.7772 - val_loss: 0.7728 - val_categorical_accuracy: 0.6129\n",
            "Epoch 123/160\n",
            "368/368 [==============================] - 0s 642us/step - loss: 0.4886 - categorical_accuracy: 0.7636 - val_loss: 0.5157 - val_categorical_accuracy: 0.8065\n",
            "Epoch 124/160\n",
            "368/368 [==============================] - 0s 654us/step - loss: 0.4879 - categorical_accuracy: 0.7582 - val_loss: 0.6882 - val_categorical_accuracy: 0.7097\n",
            "Epoch 125/160\n",
            "368/368 [==============================] - 0s 641us/step - loss: 0.4850 - categorical_accuracy: 0.7582 - val_loss: 0.8112 - val_categorical_accuracy: 0.5806\n",
            "Epoch 126/160\n",
            "368/368 [==============================] - 0s 640us/step - loss: 0.4857 - categorical_accuracy: 0.7663 - val_loss: 0.6667 - val_categorical_accuracy: 0.7419\n",
            "Epoch 127/160\n",
            "368/368 [==============================] - 0s 632us/step - loss: 0.4914 - categorical_accuracy: 0.7609 - val_loss: 0.8654 - val_categorical_accuracy: 0.5269\n",
            "Epoch 128/160\n",
            "368/368 [==============================] - 0s 680us/step - loss: 0.4906 - categorical_accuracy: 0.7663 - val_loss: 0.6993 - val_categorical_accuracy: 0.7204\n",
            "Epoch 129/160\n",
            "368/368 [==============================] - 0s 647us/step - loss: 0.4864 - categorical_accuracy: 0.7799 - val_loss: 0.6335 - val_categorical_accuracy: 0.7527\n",
            "Epoch 130/160\n",
            "368/368 [==============================] - 0s 658us/step - loss: 0.4927 - categorical_accuracy: 0.7717 - val_loss: 0.6280 - val_categorical_accuracy: 0.7742\n",
            "Epoch 131/160\n",
            "368/368 [==============================] - 0s 645us/step - loss: 0.4869 - categorical_accuracy: 0.7500 - val_loss: 0.5843 - val_categorical_accuracy: 0.7634\n",
            "Epoch 132/160\n",
            "368/368 [==============================] - 0s 662us/step - loss: 0.4924 - categorical_accuracy: 0.7663 - val_loss: 0.7406 - val_categorical_accuracy: 0.6559\n",
            "Epoch 133/160\n",
            "368/368 [==============================] - 0s 652us/step - loss: 0.4937 - categorical_accuracy: 0.7527 - val_loss: 0.8350 - val_categorical_accuracy: 0.6022\n",
            "Epoch 134/160\n",
            "368/368 [==============================] - 0s 649us/step - loss: 0.4879 - categorical_accuracy: 0.7663 - val_loss: 0.9069 - val_categorical_accuracy: 0.4946\n",
            "Epoch 135/160\n",
            "368/368 [==============================] - 0s 630us/step - loss: 0.4851 - categorical_accuracy: 0.7500 - val_loss: 0.8024 - val_categorical_accuracy: 0.5806\n",
            "Epoch 136/160\n",
            "368/368 [==============================] - 0s 665us/step - loss: 0.4893 - categorical_accuracy: 0.7799 - val_loss: 0.5786 - val_categorical_accuracy: 0.7957\n",
            "Epoch 137/160\n",
            "368/368 [==============================] - 0s 649us/step - loss: 0.4853 - categorical_accuracy: 0.7826 - val_loss: 0.5780 - val_categorical_accuracy: 0.8065\n",
            "Epoch 138/160\n",
            "368/368 [==============================] - 0s 643us/step - loss: 0.4826 - categorical_accuracy: 0.7636 - val_loss: 0.6008 - val_categorical_accuracy: 0.7957\n",
            "Epoch 139/160\n",
            "368/368 [==============================] - 0s 654us/step - loss: 0.4847 - categorical_accuracy: 0.7609 - val_loss: 0.7911 - val_categorical_accuracy: 0.6344\n",
            "Epoch 140/160\n",
            "368/368 [==============================] - 0s 636us/step - loss: 0.4909 - categorical_accuracy: 0.7582 - val_loss: 0.6296 - val_categorical_accuracy: 0.7527\n",
            "Epoch 141/160\n",
            "368/368 [==============================] - 0s 680us/step - loss: 0.4857 - categorical_accuracy: 0.7609 - val_loss: 0.5853 - val_categorical_accuracy: 0.7849\n",
            "Epoch 142/160\n",
            "368/368 [==============================] - 0s 662us/step - loss: 0.4824 - categorical_accuracy: 0.7582 - val_loss: 0.6788 - val_categorical_accuracy: 0.7204\n",
            "Epoch 143/160\n",
            "368/368 [==============================] - 0s 641us/step - loss: 0.5037 - categorical_accuracy: 0.7391 - val_loss: 0.7397 - val_categorical_accuracy: 0.6774\n",
            "Epoch 144/160\n",
            "368/368 [==============================] - 0s 648us/step - loss: 0.4963 - categorical_accuracy: 0.7717 - val_loss: 0.5371 - val_categorical_accuracy: 0.7957\n",
            "Epoch 145/160\n",
            "368/368 [==============================] - 0s 680us/step - loss: 0.4881 - categorical_accuracy: 0.7745 - val_loss: 0.7697 - val_categorical_accuracy: 0.6452\n",
            "Epoch 146/160\n",
            "368/368 [==============================] - 0s 646us/step - loss: 0.4870 - categorical_accuracy: 0.7609 - val_loss: 0.7948 - val_categorical_accuracy: 0.6344\n",
            "Epoch 147/160\n",
            "368/368 [==============================] - 0s 642us/step - loss: 0.4792 - categorical_accuracy: 0.7745 - val_loss: 0.7865 - val_categorical_accuracy: 0.6129\n",
            "Epoch 148/160\n",
            "368/368 [==============================] - 0s 640us/step - loss: 0.4824 - categorical_accuracy: 0.7690 - val_loss: 0.5259 - val_categorical_accuracy: 0.8065\n",
            "Epoch 149/160\n",
            "368/368 [==============================] - 0s 669us/step - loss: 0.4948 - categorical_accuracy: 0.7636 - val_loss: 0.5186 - val_categorical_accuracy: 0.8065\n",
            "Epoch 150/160\n",
            "368/368 [==============================] - 0s 650us/step - loss: 0.4868 - categorical_accuracy: 0.7690 - val_loss: 0.6832 - val_categorical_accuracy: 0.7204\n",
            "Epoch 151/160\n",
            "368/368 [==============================] - 0s 656us/step - loss: 0.4804 - categorical_accuracy: 0.7826 - val_loss: 0.6587 - val_categorical_accuracy: 0.7634\n",
            "Epoch 152/160\n",
            "368/368 [==============================] - 0s 633us/step - loss: 0.4800 - categorical_accuracy: 0.7745 - val_loss: 0.6140 - val_categorical_accuracy: 0.7419\n",
            "Epoch 153/160\n",
            "368/368 [==============================] - 0s 667us/step - loss: 0.4845 - categorical_accuracy: 0.7717 - val_loss: 0.7078 - val_categorical_accuracy: 0.6989\n",
            "Epoch 154/160\n",
            "368/368 [==============================] - 0s 652us/step - loss: 0.4867 - categorical_accuracy: 0.7636 - val_loss: 0.6245 - val_categorical_accuracy: 0.7419\n",
            "Epoch 155/160\n",
            "368/368 [==============================] - 0s 631us/step - loss: 0.4861 - categorical_accuracy: 0.7663 - val_loss: 0.6441 - val_categorical_accuracy: 0.7312\n",
            "Epoch 156/160\n",
            "368/368 [==============================] - 0s 650us/step - loss: 0.4825 - categorical_accuracy: 0.7663 - val_loss: 0.6642 - val_categorical_accuracy: 0.7312\n",
            "Epoch 157/160\n",
            "368/368 [==============================] - 0s 633us/step - loss: 0.4797 - categorical_accuracy: 0.7772 - val_loss: 0.7014 - val_categorical_accuracy: 0.6882\n",
            "Epoch 158/160\n",
            "368/368 [==============================] - 0s 678us/step - loss: 0.4871 - categorical_accuracy: 0.7717 - val_loss: 0.7888 - val_categorical_accuracy: 0.6344\n",
            "Epoch 159/160\n",
            "368/368 [==============================] - 0s 647us/step - loss: 0.4867 - categorical_accuracy: 0.7663 - val_loss: 0.8865 - val_categorical_accuracy: 0.5591\n",
            "Epoch 160/160\n",
            "368/368 [==============================] - 0s 681us/step - loss: 0.4891 - categorical_accuracy: 0.7663 - val_loss: 0.6312 - val_categorical_accuracy: 0.7419\n"
          ],
          "name": "stdout"
        },
        {
          "output_type": "display_data",
          "data": {
            "image/png": "[encoded data removed]",
            "text/plain": [
              "<Figure size 432x288 with 1 Axes>"
            ]
          },
          "metadata": {
            "tags": []
          }
        },
        {
          "output_type": "display_data",
          "data": {
            "image/png": "[encoded data removed]",
            "text/plain": [
              "<Figure size 432x288 with 1 Axes>"
            ]
          },
          "metadata": {
            "tags": []
          }
        }
      ]
    },
    {
      "cell_type": "markdown",
      "metadata": {
        "id": "AYGmH-dzj1ZI",
        "colab_type": "text"
      },
      "source": [
        "En este punto, vamos a intentar modificar la configuración de la red para mejorar los resultados"
      ]
    },
    {
      "cell_type": "code",
      "metadata": {
        "id": "Z28GkhVzj9Z7",
        "colab_type": "code",
        "colab": {}
      },
      "source": [
        "def build_model():\n",
        "  m = models.Sequential()\n",
        "  m.add(layers.Dense(32, input_dim = 8, kernel_initializer='normal', activation='relu'))\n",
        "  m.add(layers.Dense(16, kernel_initializer='normal', activation='relu'))\n",
        "  #m.add(layers.Dense(8, kernel_initializer='normal', activation='relu'))\n",
        "  #m.add(layers.Dropout(0.1))\n",
        "  m.add(layers.Dense(2, kernel_initializer='normal', activation='sigmoid'))\n",
        "  return m"
      ],
      "execution_count": 0,
      "outputs": []
    },
    {
      "cell_type": "code",
      "metadata": {
        "id": "stedMGIcegQt",
        "colab_type": "code",
        "outputId": "95d0cce1-4916-4f0b-fe42-80a8d625e45f",
        "colab": {
          "base_uri": "https://localhost:8080/",
          "height": 10625
        }
      },
      "source": [
        "model = build_model()\n",
        "model.compile(\n",
        "    optimizer=optimizers.adam(),\n",
        "    loss=losses.categorical_crossentropy,\n",
        "    metrics=[metrics.categorical_accuracy]   \n",
        "    )\n",
        "h = model.fit(x_train_list, y_cat, epochs=300, batch_size=5, validation_split=.2)\n",
        "plot_metric(h, 'loss')\n",
        "plot_metric(h, 'categorical_accuracy')"
      ],
      "execution_count": 224,
      "outputs": [
        {
          "output_type": "stream",
          "text": [
            "Train on 368 samples, validate on 93 samples\n",
            "Epoch 1/300\n",
            "368/368 [==============================] - 1s 2ms/step - loss: 0.6879 - categorical_accuracy: 0.6250 - val_loss: 0.7707 - val_categorical_accuracy: 0.0000e+00\n",
            "Epoch 2/300\n",
            "368/368 [==============================] - 0s 726us/step - loss: 0.6696 - categorical_accuracy: 0.6277 - val_loss: 0.9229 - val_categorical_accuracy: 0.0000e+00\n",
            "Epoch 3/300\n",
            "368/368 [==============================] - 0s 742us/step - loss: 0.6624 - categorical_accuracy: 0.6277 - val_loss: 0.9991 - val_categorical_accuracy: 0.0000e+00\n",
            "Epoch 4/300\n",
            "368/368 [==============================] - 0s 732us/step - loss: 0.6596 - categorical_accuracy: 0.6277 - val_loss: 0.9544 - val_categorical_accuracy: 0.0000e+00\n",
            "Epoch 5/300\n",
            "368/368 [==============================] - 0s 755us/step - loss: 0.6578 - categorical_accuracy: 0.6277 - val_loss: 0.9891 - val_categorical_accuracy: 0.0000e+00\n",
            "Epoch 6/300\n",
            "368/368 [==============================] - 0s 709us/step - loss: 0.6562 - categorical_accuracy: 0.6277 - val_loss: 0.9893 - val_categorical_accuracy: 0.0000e+00\n",
            "Epoch 7/300\n",
            "368/368 [==============================] - 0s 690us/step - loss: 0.6549 - categorical_accuracy: 0.6277 - val_loss: 0.9955 - val_categorical_accuracy: 0.0000e+00\n",
            "Epoch 8/300\n",
            "368/368 [==============================] - 0s 701us/step - loss: 0.6532 - categorical_accuracy: 0.6277 - val_loss: 0.9585 - val_categorical_accuracy: 0.0000e+00\n",
            "Epoch 9/300\n",
            "368/368 [==============================] - 0s 701us/step - loss: 0.6502 - categorical_accuracy: 0.6277 - val_loss: 0.9940 - val_categorical_accuracy: 0.0000e+00\n",
            "Epoch 10/300\n",
            "368/368 [==============================] - 0s 668us/step - loss: 0.6478 - categorical_accuracy: 0.6277 - val_loss: 0.9565 - val_categorical_accuracy: 0.0000e+00\n",
            "Epoch 11/300\n",
            "368/368 [==============================] - 0s 661us/step - loss: 0.6457 - categorical_accuracy: 0.6277 - val_loss: 0.9971 - val_categorical_accuracy: 0.0000e+00\n",
            "Epoch 12/300\n",
            "368/368 [==============================] - 0s 666us/step - loss: 0.6410 - categorical_accuracy: 0.6277 - val_loss: 0.9184 - val_categorical_accuracy: 0.0000e+00\n",
            "Epoch 13/300\n",
            "368/368 [==============================] - 0s 695us/step - loss: 0.6341 - categorical_accuracy: 0.6277 - val_loss: 0.9949 - val_categorical_accuracy: 0.0000e+00\n",
            "Epoch 14/300\n",
            "368/368 [==============================] - 0s 664us/step - loss: 0.6271 - categorical_accuracy: 0.6277 - val_loss: 0.9953 - val_categorical_accuracy: 0.0000e+00\n",
            "Epoch 15/300\n",
            "368/368 [==============================] - 0s 709us/step - loss: 0.6200 - categorical_accuracy: 0.6277 - val_loss: 0.9553 - val_categorical_accuracy: 0.0000e+00\n",
            "Epoch 16/300\n",
            "368/368 [==============================] - 0s 643us/step - loss: 0.6113 - categorical_accuracy: 0.6277 - val_loss: 1.0698 - val_categorical_accuracy: 0.0000e+00\n",
            "Epoch 17/300\n",
            "368/368 [==============================] - 0s 654us/step - loss: 0.6010 - categorical_accuracy: 0.6277 - val_loss: 0.9690 - val_categorical_accuracy: 0.0000e+00\n",
            "Epoch 18/300\n",
            "368/368 [==============================] - 0s 637us/step - loss: 0.5914 - categorical_accuracy: 0.6277 - val_loss: 1.0148 - val_categorical_accuracy: 0.0000e+00\n",
            "Epoch 19/300\n",
            "368/368 [==============================] - 0s 619us/step - loss: 0.5840 - categorical_accuracy: 0.6277 - val_loss: 0.8620 - val_categorical_accuracy: 0.0000e+00\n",
            "Epoch 20/300\n",
            "368/368 [==============================] - 0s 645us/step - loss: 0.5717 - categorical_accuracy: 0.6739 - val_loss: 1.0668 - val_categorical_accuracy: 0.1075\n",
            "Epoch 21/300\n",
            "368/368 [==============================] - 0s 663us/step - loss: 0.5562 - categorical_accuracy: 0.7065 - val_loss: 0.8579 - val_categorical_accuracy: 0.4624\n",
            "Epoch 22/300\n",
            "368/368 [==============================] - 0s 649us/step - loss: 0.5510 - categorical_accuracy: 0.7092 - val_loss: 0.9200 - val_categorical_accuracy: 0.3978\n",
            "Epoch 23/300\n",
            "368/368 [==============================] - 0s 618us/step - loss: 0.5475 - categorical_accuracy: 0.7228 - val_loss: 0.8229 - val_categorical_accuracy: 0.5591\n",
            "Epoch 24/300\n",
            "368/368 [==============================] - 0s 636us/step - loss: 0.5435 - categorical_accuracy: 0.7092 - val_loss: 0.7789 - val_categorical_accuracy: 0.6344\n",
            "Epoch 25/300\n",
            "368/368 [==============================] - 0s 616us/step - loss: 0.5430 - categorical_accuracy: 0.7201 - val_loss: 0.8066 - val_categorical_accuracy: 0.5914\n",
            "Epoch 26/300\n",
            "368/368 [==============================] - 0s 668us/step - loss: 0.5366 - categorical_accuracy: 0.7174 - val_loss: 0.6222 - val_categorical_accuracy: 0.8172\n",
            "Epoch 27/300\n",
            "368/368 [==============================] - 0s 654us/step - loss: 0.5491 - categorical_accuracy: 0.6929 - val_loss: 0.6782 - val_categorical_accuracy: 0.7527\n",
            "Epoch 28/300\n",
            "368/368 [==============================] - 0s 640us/step - loss: 0.5431 - categorical_accuracy: 0.7147 - val_loss: 0.9805 - val_categorical_accuracy: 0.4086\n",
            "Epoch 29/300\n",
            "368/368 [==============================] - 0s 614us/step - loss: 0.5417 - categorical_accuracy: 0.7038 - val_loss: 0.7053 - val_categorical_accuracy: 0.7097\n",
            "Epoch 30/300\n",
            "368/368 [==============================] - 0s 673us/step - loss: 0.5349 - categorical_accuracy: 0.7255 - val_loss: 0.8108 - val_categorical_accuracy: 0.5806\n",
            "Epoch 31/300\n",
            "368/368 [==============================] - 0s 633us/step - loss: 0.5342 - categorical_accuracy: 0.7092 - val_loss: 0.8036 - val_categorical_accuracy: 0.5914\n",
            "Epoch 32/300\n",
            "368/368 [==============================] - 0s 644us/step - loss: 0.5261 - categorical_accuracy: 0.7337 - val_loss: 0.6174 - val_categorical_accuracy: 0.8065\n",
            "Epoch 33/300\n",
            "368/368 [==============================] - 0s 639us/step - loss: 0.5356 - categorical_accuracy: 0.7038 - val_loss: 0.9387 - val_categorical_accuracy: 0.4624\n",
            "Epoch 34/300\n",
            "368/368 [==============================] - 0s 655us/step - loss: 0.5276 - categorical_accuracy: 0.7283 - val_loss: 0.7075 - val_categorical_accuracy: 0.7097\n",
            "Epoch 35/300\n",
            "368/368 [==============================] - 0s 619us/step - loss: 0.5313 - categorical_accuracy: 0.7147 - val_loss: 0.8327 - val_categorical_accuracy: 0.5806\n",
            "Epoch 36/300\n",
            "368/368 [==============================] - 0s 656us/step - loss: 0.5285 - categorical_accuracy: 0.7092 - val_loss: 0.6803 - val_categorical_accuracy: 0.7312\n",
            "Epoch 37/300\n",
            "368/368 [==============================] - 0s 616us/step - loss: 0.5302 - categorical_accuracy: 0.7283 - val_loss: 0.7539 - val_categorical_accuracy: 0.6667\n",
            "Epoch 38/300\n",
            "368/368 [==============================] - 0s 635us/step - loss: 0.5315 - categorical_accuracy: 0.7255 - val_loss: 0.9064 - val_categorical_accuracy: 0.5269\n",
            "Epoch 39/300\n",
            "368/368 [==============================] - 0s 662us/step - loss: 0.5323 - categorical_accuracy: 0.7310 - val_loss: 0.9039 - val_categorical_accuracy: 0.5054\n",
            "Epoch 40/300\n",
            "368/368 [==============================] - 0s 636us/step - loss: 0.5276 - categorical_accuracy: 0.7147 - val_loss: 0.7771 - val_categorical_accuracy: 0.6452\n",
            "Epoch 41/300\n",
            "368/368 [==============================] - 0s 701us/step - loss: 0.5294 - categorical_accuracy: 0.7120 - val_loss: 0.8006 - val_categorical_accuracy: 0.6129\n",
            "Epoch 42/300\n",
            "368/368 [==============================] - 0s 632us/step - loss: 0.5315 - categorical_accuracy: 0.7201 - val_loss: 0.7322 - val_categorical_accuracy: 0.6774\n",
            "Epoch 43/300\n",
            "368/368 [==============================] - 0s 674us/step - loss: 0.5253 - categorical_accuracy: 0.7255 - val_loss: 0.6658 - val_categorical_accuracy: 0.7312\n",
            "Epoch 44/300\n",
            "368/368 [==============================] - 0s 616us/step - loss: 0.5246 - categorical_accuracy: 0.7255 - val_loss: 0.9660 - val_categorical_accuracy: 0.4409\n",
            "Epoch 45/300\n",
            "368/368 [==============================] - 0s 630us/step - loss: 0.5314 - categorical_accuracy: 0.7065 - val_loss: 0.7719 - val_categorical_accuracy: 0.6344\n",
            "Epoch 46/300\n",
            "368/368 [==============================] - 0s 643us/step - loss: 0.5239 - categorical_accuracy: 0.7283 - val_loss: 0.6715 - val_categorical_accuracy: 0.7312\n",
            "Epoch 47/300\n",
            "368/368 [==============================] - 0s 672us/step - loss: 0.5250 - categorical_accuracy: 0.7228 - val_loss: 0.8788 - val_categorical_accuracy: 0.5591\n",
            "Epoch 48/300\n",
            "368/368 [==============================] - 0s 628us/step - loss: 0.5267 - categorical_accuracy: 0.7255 - val_loss: 0.7837 - val_categorical_accuracy: 0.6344\n",
            "Epoch 49/300\n",
            "368/368 [==============================] - 0s 648us/step - loss: 0.5287 - categorical_accuracy: 0.7147 - val_loss: 0.8698 - val_categorical_accuracy: 0.5806\n",
            "Epoch 50/300\n",
            "368/368 [==============================] - 0s 635us/step - loss: 0.5251 - categorical_accuracy: 0.7174 - val_loss: 0.6810 - val_categorical_accuracy: 0.7204\n",
            "Epoch 51/300\n",
            "368/368 [==============================] - 0s 620us/step - loss: 0.5240 - categorical_accuracy: 0.7446 - val_loss: 0.7654 - val_categorical_accuracy: 0.6559\n",
            "Epoch 52/300\n",
            "368/368 [==============================] - 0s 686us/step - loss: 0.5301 - categorical_accuracy: 0.7120 - val_loss: 0.7033 - val_categorical_accuracy: 0.6989\n",
            "Epoch 53/300\n",
            "368/368 [==============================] - 0s 657us/step - loss: 0.5274 - categorical_accuracy: 0.7364 - val_loss: 0.7364 - val_categorical_accuracy: 0.6774\n",
            "Epoch 54/300\n",
            "368/368 [==============================] - 0s 640us/step - loss: 0.5266 - categorical_accuracy: 0.7147 - val_loss: 0.9115 - val_categorical_accuracy: 0.5161\n",
            "Epoch 55/300\n",
            "368/368 [==============================] - 0s 633us/step - loss: 0.5190 - categorical_accuracy: 0.7283 - val_loss: 0.8030 - val_categorical_accuracy: 0.6129\n",
            "Epoch 56/300\n",
            "368/368 [==============================] - 0s 663us/step - loss: 0.5235 - categorical_accuracy: 0.7283 - val_loss: 0.7798 - val_categorical_accuracy: 0.6237\n",
            "Epoch 57/300\n",
            "368/368 [==============================] - 0s 631us/step - loss: 0.5213 - categorical_accuracy: 0.7337 - val_loss: 0.8028 - val_categorical_accuracy: 0.6237\n",
            "Epoch 58/300\n",
            "368/368 [==============================] - 0s 647us/step - loss: 0.5199 - categorical_accuracy: 0.7337 - val_loss: 0.6572 - val_categorical_accuracy: 0.7419\n",
            "Epoch 59/300\n",
            "368/368 [==============================] - 0s 636us/step - loss: 0.5240 - categorical_accuracy: 0.7364 - val_loss: 0.7237 - val_categorical_accuracy: 0.6882\n",
            "Epoch 60/300\n",
            "368/368 [==============================] - 0s 671us/step - loss: 0.5221 - categorical_accuracy: 0.7283 - val_loss: 0.7805 - val_categorical_accuracy: 0.6129\n",
            "Epoch 61/300\n",
            "368/368 [==============================] - 0s 639us/step - loss: 0.5215 - categorical_accuracy: 0.7174 - val_loss: 0.8216 - val_categorical_accuracy: 0.5914\n",
            "Epoch 62/300\n",
            "368/368 [==============================] - 0s 639us/step - loss: 0.5208 - categorical_accuracy: 0.7310 - val_loss: 0.7859 - val_categorical_accuracy: 0.6344\n",
            "Epoch 63/300\n",
            "368/368 [==============================] - 0s 639us/step - loss: 0.5239 - categorical_accuracy: 0.7337 - val_loss: 0.6846 - val_categorical_accuracy: 0.7097\n",
            "Epoch 64/300\n",
            "368/368 [==============================] - 0s 650us/step - loss: 0.5195 - categorical_accuracy: 0.7255 - val_loss: 0.6954 - val_categorical_accuracy: 0.6989\n",
            "Epoch 65/300\n",
            "368/368 [==============================] - 0s 651us/step - loss: 0.5212 - categorical_accuracy: 0.7228 - val_loss: 0.8345 - val_categorical_accuracy: 0.5591\n",
            "Epoch 66/300\n",
            "368/368 [==============================] - 0s 642us/step - loss: 0.5209 - categorical_accuracy: 0.7582 - val_loss: 0.7801 - val_categorical_accuracy: 0.6344\n",
            "Epoch 67/300\n",
            "368/368 [==============================] - 0s 631us/step - loss: 0.5210 - categorical_accuracy: 0.7310 - val_loss: 0.6815 - val_categorical_accuracy: 0.6989\n",
            "Epoch 68/300\n",
            "368/368 [==============================] - 0s 618us/step - loss: 0.5176 - categorical_accuracy: 0.7120 - val_loss: 0.7957 - val_categorical_accuracy: 0.6237\n",
            "Epoch 69/300\n",
            "368/368 [==============================] - 0s 663us/step - loss: 0.5211 - categorical_accuracy: 0.7364 - val_loss: 0.6534 - val_categorical_accuracy: 0.7419\n",
            "Epoch 70/300\n",
            "368/368 [==============================] - 0s 628us/step - loss: 0.5196 - categorical_accuracy: 0.7391 - val_loss: 0.7493 - val_categorical_accuracy: 0.6667\n",
            "Epoch 71/300\n",
            "368/368 [==============================] - 0s 641us/step - loss: 0.5220 - categorical_accuracy: 0.7255 - val_loss: 0.7986 - val_categorical_accuracy: 0.6129\n",
            "Epoch 72/300\n",
            "368/368 [==============================] - 0s 626us/step - loss: 0.5184 - categorical_accuracy: 0.7255 - val_loss: 0.8165 - val_categorical_accuracy: 0.6022\n",
            "Epoch 73/300\n",
            "368/368 [==============================] - 0s 671us/step - loss: 0.5168 - categorical_accuracy: 0.6984 - val_loss: 1.0513 - val_categorical_accuracy: 0.4301\n",
            "Epoch 74/300\n",
            "368/368 [==============================] - 0s 617us/step - loss: 0.5259 - categorical_accuracy: 0.7120 - val_loss: 0.9609 - val_categorical_accuracy: 0.4624\n",
            "Epoch 75/300\n",
            "368/368 [==============================] - 0s 634us/step - loss: 0.5193 - categorical_accuracy: 0.7255 - val_loss: 0.7815 - val_categorical_accuracy: 0.6452\n",
            "Epoch 76/300\n",
            "368/368 [==============================] - 0s 647us/step - loss: 0.5184 - categorical_accuracy: 0.7228 - val_loss: 0.6832 - val_categorical_accuracy: 0.7097\n",
            "Epoch 77/300\n",
            "368/368 [==============================] - 0s 671us/step - loss: 0.5160 - categorical_accuracy: 0.7364 - val_loss: 0.6739 - val_categorical_accuracy: 0.7097\n",
            "Epoch 78/300\n",
            "368/368 [==============================] - 0s 628us/step - loss: 0.5204 - categorical_accuracy: 0.7310 - val_loss: 0.7359 - val_categorical_accuracy: 0.6667\n",
            "Epoch 79/300\n",
            "368/368 [==============================] - 0s 642us/step - loss: 0.5143 - categorical_accuracy: 0.7364 - val_loss: 0.7313 - val_categorical_accuracy: 0.6774\n",
            "Epoch 80/300\n",
            "368/368 [==============================] - 0s 635us/step - loss: 0.5153 - categorical_accuracy: 0.7500 - val_loss: 0.7106 - val_categorical_accuracy: 0.6882\n",
            "Epoch 81/300\n",
            "368/368 [==============================] - 0s 635us/step - loss: 0.5140 - categorical_accuracy: 0.7310 - val_loss: 0.8028 - val_categorical_accuracy: 0.6022\n",
            "Epoch 82/300\n",
            "368/368 [==============================] - 0s 686us/step - loss: 0.5171 - categorical_accuracy: 0.7391 - val_loss: 0.7386 - val_categorical_accuracy: 0.6774\n",
            "Epoch 83/300\n",
            "368/368 [==============================] - 0s 652us/step - loss: 0.5150 - categorical_accuracy: 0.7228 - val_loss: 0.7339 - val_categorical_accuracy: 0.6774\n",
            "Epoch 84/300\n",
            "368/368 [==============================] - 0s 682us/step - loss: 0.5127 - categorical_accuracy: 0.7473 - val_loss: 0.7238 - val_categorical_accuracy: 0.6774\n",
            "Epoch 85/300\n",
            "368/368 [==============================] - 0s 656us/step - loss: 0.5192 - categorical_accuracy: 0.7201 - val_loss: 0.6921 - val_categorical_accuracy: 0.6882\n",
            "Epoch 86/300\n",
            "368/368 [==============================] - 0s 657us/step - loss: 0.5163 - categorical_accuracy: 0.7228 - val_loss: 0.7371 - val_categorical_accuracy: 0.6774\n",
            "Epoch 87/300\n",
            "368/368 [==============================] - 0s 645us/step - loss: 0.5169 - categorical_accuracy: 0.7228 - val_loss: 0.7579 - val_categorical_accuracy: 0.6667\n",
            "Epoch 88/300\n",
            "368/368 [==============================] - 0s 635us/step - loss: 0.5129 - categorical_accuracy: 0.7337 - val_loss: 0.8217 - val_categorical_accuracy: 0.5806\n",
            "Epoch 89/300\n",
            "368/368 [==============================] - 0s 638us/step - loss: 0.5127 - categorical_accuracy: 0.7310 - val_loss: 0.7472 - val_categorical_accuracy: 0.6667\n",
            "Epoch 90/300\n",
            "368/368 [==============================] - 0s 677us/step - loss: 0.5080 - categorical_accuracy: 0.7446 - val_loss: 0.9400 - val_categorical_accuracy: 0.5269\n",
            "Epoch 91/300\n",
            "368/368 [==============================] - 0s 645us/step - loss: 0.5160 - categorical_accuracy: 0.7337 - val_loss: 0.7008 - val_categorical_accuracy: 0.6774\n",
            "Epoch 92/300\n",
            "368/368 [==============================] - 0s 641us/step - loss: 0.5097 - categorical_accuracy: 0.7418 - val_loss: 0.7331 - val_categorical_accuracy: 0.6774\n",
            "Epoch 93/300\n",
            "368/368 [==============================] - 0s 632us/step - loss: 0.5102 - categorical_accuracy: 0.7500 - val_loss: 0.8171 - val_categorical_accuracy: 0.5914\n",
            "Epoch 94/300\n",
            "368/368 [==============================] - 0s 661us/step - loss: 0.5155 - categorical_accuracy: 0.7364 - val_loss: 0.6645 - val_categorical_accuracy: 0.7097\n",
            "Epoch 95/300\n",
            "368/368 [==============================] - 0s 646us/step - loss: 0.5116 - categorical_accuracy: 0.7446 - val_loss: 0.7169 - val_categorical_accuracy: 0.6774\n",
            "Epoch 96/300\n",
            "368/368 [==============================] - 0s 645us/step - loss: 0.5111 - categorical_accuracy: 0.7228 - val_loss: 0.8234 - val_categorical_accuracy: 0.5806\n",
            "Epoch 97/300\n",
            "368/368 [==============================] - 0s 652us/step - loss: 0.5113 - categorical_accuracy: 0.7364 - val_loss: 0.7292 - val_categorical_accuracy: 0.6774\n",
            "Epoch 98/300\n",
            "368/368 [==============================] - 0s 631us/step - loss: 0.5137 - categorical_accuracy: 0.7391 - val_loss: 0.7300 - val_categorical_accuracy: 0.6774\n",
            "Epoch 99/300\n",
            "368/368 [==============================] - 0s 653us/step - loss: 0.5110 - categorical_accuracy: 0.7418 - val_loss: 0.8611 - val_categorical_accuracy: 0.5376\n",
            "Epoch 100/300\n",
            "368/368 [==============================] - 0s 639us/step - loss: 0.5094 - categorical_accuracy: 0.7418 - val_loss: 0.6630 - val_categorical_accuracy: 0.7204\n",
            "Epoch 101/300\n",
            "368/368 [==============================] - 0s 645us/step - loss: 0.5152 - categorical_accuracy: 0.7391 - val_loss: 0.7486 - val_categorical_accuracy: 0.6667\n",
            "Epoch 102/300\n",
            "368/368 [==============================] - 0s 626us/step - loss: 0.5079 - categorical_accuracy: 0.7337 - val_loss: 0.7240 - val_categorical_accuracy: 0.6774\n",
            "Epoch 103/300\n",
            "368/368 [==============================] - 0s 669us/step - loss: 0.5072 - categorical_accuracy: 0.7337 - val_loss: 0.9288 - val_categorical_accuracy: 0.4731\n",
            "Epoch 104/300\n",
            "368/368 [==============================] - 0s 635us/step - loss: 0.5107 - categorical_accuracy: 0.7364 - val_loss: 0.7662 - val_categorical_accuracy: 0.6452\n",
            "Epoch 105/300\n",
            "368/368 [==============================] - 0s 651us/step - loss: 0.5075 - categorical_accuracy: 0.7418 - val_loss: 0.8274 - val_categorical_accuracy: 0.5699\n",
            "Epoch 106/300\n",
            "368/368 [==============================] - 0s 635us/step - loss: 0.5075 - categorical_accuracy: 0.7255 - val_loss: 0.8422 - val_categorical_accuracy: 0.5699\n",
            "Epoch 107/300\n",
            "368/368 [==============================] - 0s 665us/step - loss: 0.5154 - categorical_accuracy: 0.7310 - val_loss: 0.5625 - val_categorical_accuracy: 0.7742\n",
            "Epoch 108/300\n",
            "368/368 [==============================] - 0s 649us/step - loss: 0.5109 - categorical_accuracy: 0.7065 - val_loss: 0.9274 - val_categorical_accuracy: 0.5161\n",
            "Epoch 109/300\n",
            "368/368 [==============================] - 0s 622us/step - loss: 0.5156 - categorical_accuracy: 0.7228 - val_loss: 0.7610 - val_categorical_accuracy: 0.6774\n",
            "Epoch 110/300\n",
            "368/368 [==============================] - 0s 634us/step - loss: 0.5114 - categorical_accuracy: 0.7527 - val_loss: 0.7379 - val_categorical_accuracy: 0.6774\n",
            "Epoch 111/300\n",
            "368/368 [==============================] - 0s 627us/step - loss: 0.5085 - categorical_accuracy: 0.7364 - val_loss: 0.5646 - val_categorical_accuracy: 0.7742\n",
            "Epoch 112/300\n",
            "368/368 [==============================] - 0s 658us/step - loss: 0.5074 - categorical_accuracy: 0.7473 - val_loss: 0.8199 - val_categorical_accuracy: 0.5806\n",
            "Epoch 113/300\n",
            "368/368 [==============================] - 0s 642us/step - loss: 0.5066 - categorical_accuracy: 0.7337 - val_loss: 0.7689 - val_categorical_accuracy: 0.6667\n",
            "Epoch 114/300\n",
            "368/368 [==============================] - 0s 621us/step - loss: 0.5075 - categorical_accuracy: 0.7418 - val_loss: 0.6595 - val_categorical_accuracy: 0.6989\n",
            "Epoch 115/300\n",
            "368/368 [==============================] - 0s 646us/step - loss: 0.5061 - categorical_accuracy: 0.7418 - val_loss: 0.7481 - val_categorical_accuracy: 0.6774\n",
            "Epoch 116/300\n",
            "368/368 [==============================] - 0s 668us/step - loss: 0.5078 - categorical_accuracy: 0.7527 - val_loss: 0.7100 - val_categorical_accuracy: 0.6882\n",
            "Epoch 117/300\n",
            "368/368 [==============================] - 0s 656us/step - loss: 0.5023 - categorical_accuracy: 0.7364 - val_loss: 0.8741 - val_categorical_accuracy: 0.5699\n",
            "Epoch 118/300\n",
            "368/368 [==============================] - 0s 651us/step - loss: 0.5062 - categorical_accuracy: 0.7554 - val_loss: 0.7182 - val_categorical_accuracy: 0.6882\n",
            "Epoch 119/300\n",
            "368/368 [==============================] - 0s 631us/step - loss: 0.5048 - categorical_accuracy: 0.7418 - val_loss: 0.7501 - val_categorical_accuracy: 0.6559\n",
            "Epoch 120/300\n",
            "368/368 [==============================] - 0s 674us/step - loss: 0.5066 - categorical_accuracy: 0.7391 - val_loss: 0.7444 - val_categorical_accuracy: 0.6559\n",
            "Epoch 121/300\n",
            "368/368 [==============================] - 0s 630us/step - loss: 0.5075 - categorical_accuracy: 0.7418 - val_loss: 0.6805 - val_categorical_accuracy: 0.6882\n",
            "Epoch 122/300\n",
            "368/368 [==============================] - 0s 617us/step - loss: 0.5047 - categorical_accuracy: 0.7446 - val_loss: 0.6771 - val_categorical_accuracy: 0.6989\n",
            "Epoch 123/300\n",
            "368/368 [==============================] - 0s 636us/step - loss: 0.5051 - categorical_accuracy: 0.7364 - val_loss: 0.7501 - val_categorical_accuracy: 0.6559\n",
            "Epoch 124/300\n",
            "368/368 [==============================] - 0s 666us/step - loss: 0.5015 - categorical_accuracy: 0.7391 - val_loss: 0.8369 - val_categorical_accuracy: 0.5591\n",
            "Epoch 125/300\n",
            "368/368 [==============================] - 0s 636us/step - loss: 0.5048 - categorical_accuracy: 0.7418 - val_loss: 0.6779 - val_categorical_accuracy: 0.6989\n",
            "Epoch 126/300\n",
            "368/368 [==============================] - 0s 629us/step - loss: 0.5020 - categorical_accuracy: 0.7337 - val_loss: 0.6991 - val_categorical_accuracy: 0.6882\n",
            "Epoch 127/300\n",
            "368/368 [==============================] - 0s 704us/step - loss: 0.5025 - categorical_accuracy: 0.7473 - val_loss: 0.7373 - val_categorical_accuracy: 0.6774\n",
            "Epoch 128/300\n",
            "368/368 [==============================] - 0s 637us/step - loss: 0.5034 - categorical_accuracy: 0.7337 - val_loss: 0.7209 - val_categorical_accuracy: 0.6882\n",
            "Epoch 129/300\n",
            "368/368 [==============================] - 0s 685us/step - loss: 0.5043 - categorical_accuracy: 0.7418 - val_loss: 0.7017 - val_categorical_accuracy: 0.6882\n",
            "Epoch 130/300\n",
            "368/368 [==============================] - 0s 647us/step - loss: 0.5016 - categorical_accuracy: 0.7418 - val_loss: 0.7068 - val_categorical_accuracy: 0.6774\n",
            "Epoch 131/300\n",
            "368/368 [==============================] - 0s 631us/step - loss: 0.5053 - categorical_accuracy: 0.7418 - val_loss: 0.6865 - val_categorical_accuracy: 0.6882\n",
            "Epoch 132/300\n",
            "368/368 [==============================] - 0s 633us/step - loss: 0.4982 - categorical_accuracy: 0.7554 - val_loss: 0.5649 - val_categorical_accuracy: 0.7634\n",
            "Epoch 133/300\n",
            "368/368 [==============================] - 0s 669us/step - loss: 0.5056 - categorical_accuracy: 0.7283 - val_loss: 0.7517 - val_categorical_accuracy: 0.6452\n",
            "Epoch 134/300\n",
            "368/368 [==============================] - 0s 629us/step - loss: 0.4977 - categorical_accuracy: 0.7473 - val_loss: 0.9066 - val_categorical_accuracy: 0.4946\n",
            "Epoch 135/300\n",
            "368/368 [==============================] - 0s 636us/step - loss: 0.5031 - categorical_accuracy: 0.7527 - val_loss: 0.7760 - val_categorical_accuracy: 0.6344\n",
            "Epoch 136/300\n",
            "368/368 [==============================] - 0s 658us/step - loss: 0.5028 - categorical_accuracy: 0.7473 - val_loss: 0.6970 - val_categorical_accuracy: 0.6882\n",
            "Epoch 137/300\n",
            "368/368 [==============================] - 0s 666us/step - loss: 0.5007 - categorical_accuracy: 0.7554 - val_loss: 0.6375 - val_categorical_accuracy: 0.7204\n",
            "Epoch 138/300\n",
            "368/368 [==============================] - 0s 640us/step - loss: 0.5007 - categorical_accuracy: 0.7418 - val_loss: 0.8259 - val_categorical_accuracy: 0.5806\n",
            "Epoch 139/300\n",
            "368/368 [==============================] - 0s 623us/step - loss: 0.4988 - categorical_accuracy: 0.7527 - val_loss: 0.6989 - val_categorical_accuracy: 0.6882\n",
            "Epoch 140/300\n",
            "368/368 [==============================] - 0s 640us/step - loss: 0.4982 - categorical_accuracy: 0.7391 - val_loss: 0.8689 - val_categorical_accuracy: 0.5376\n",
            "Epoch 141/300\n",
            "368/368 [==============================] - 0s 673us/step - loss: 0.5102 - categorical_accuracy: 0.7255 - val_loss: 0.6777 - val_categorical_accuracy: 0.6882\n",
            "Epoch 142/300\n",
            "368/368 [==============================] - 0s 638us/step - loss: 0.5014 - categorical_accuracy: 0.7473 - val_loss: 0.6098 - val_categorical_accuracy: 0.7312\n",
            "Epoch 143/300\n",
            "368/368 [==============================] - 0s 646us/step - loss: 0.5031 - categorical_accuracy: 0.7446 - val_loss: 0.7165 - val_categorical_accuracy: 0.6882\n",
            "Epoch 144/300\n",
            "368/368 [==============================] - 0s 621us/step - loss: 0.5006 - categorical_accuracy: 0.7418 - val_loss: 0.7375 - val_categorical_accuracy: 0.6559\n",
            "Epoch 145/300\n",
            "368/368 [==============================] - 0s 630us/step - loss: 0.5010 - categorical_accuracy: 0.7283 - val_loss: 0.7401 - val_categorical_accuracy: 0.6667\n",
            "Epoch 146/300\n",
            "368/368 [==============================] - 0s 670us/step - loss: 0.5090 - categorical_accuracy: 0.7636 - val_loss: 0.6750 - val_categorical_accuracy: 0.6989\n",
            "Epoch 147/300\n",
            "368/368 [==============================] - 0s 640us/step - loss: 0.5037 - categorical_accuracy: 0.7364 - val_loss: 0.7915 - val_categorical_accuracy: 0.6344\n",
            "Epoch 148/300\n",
            "368/368 [==============================] - 0s 623us/step - loss: 0.4988 - categorical_accuracy: 0.7636 - val_loss: 0.6509 - val_categorical_accuracy: 0.6989\n",
            "Epoch 149/300\n",
            "368/368 [==============================] - 0s 635us/step - loss: 0.4977 - categorical_accuracy: 0.7418 - val_loss: 0.7427 - val_categorical_accuracy: 0.6667\n",
            "Epoch 150/300\n",
            "368/368 [==============================] - 0s 668us/step - loss: 0.4953 - categorical_accuracy: 0.7636 - val_loss: 0.6561 - val_categorical_accuracy: 0.6989\n",
            "Epoch 151/300\n",
            "368/368 [==============================] - 0s 635us/step - loss: 0.4974 - categorical_accuracy: 0.7582 - val_loss: 0.5835 - val_categorical_accuracy: 0.7312\n",
            "Epoch 152/300\n",
            "368/368 [==============================] - 0s 670us/step - loss: 0.4960 - categorical_accuracy: 0.7473 - val_loss: 0.8704 - val_categorical_accuracy: 0.5484\n",
            "Epoch 153/300\n",
            "368/368 [==============================] - 0s 628us/step - loss: 0.5010 - categorical_accuracy: 0.7473 - val_loss: 0.6815 - val_categorical_accuracy: 0.6882\n",
            "Epoch 154/300\n",
            "368/368 [==============================] - 0s 672us/step - loss: 0.5034 - categorical_accuracy: 0.7228 - val_loss: 0.5475 - val_categorical_accuracy: 0.7527\n",
            "Epoch 155/300\n",
            "368/368 [==============================] - 0s 641us/step - loss: 0.5031 - categorical_accuracy: 0.7500 - val_loss: 0.7465 - val_categorical_accuracy: 0.6667\n",
            "Epoch 156/300\n",
            "368/368 [==============================] - 0s 645us/step - loss: 0.5066 - categorical_accuracy: 0.7500 - val_loss: 0.8529 - val_categorical_accuracy: 0.5699\n",
            "Epoch 157/300\n",
            "368/368 [==============================] - 0s 650us/step - loss: 0.5035 - categorical_accuracy: 0.7310 - val_loss: 0.8144 - val_categorical_accuracy: 0.5914\n",
            "Epoch 158/300\n",
            "368/368 [==============================] - 0s 621us/step - loss: 0.5008 - categorical_accuracy: 0.7446 - val_loss: 0.8158 - val_categorical_accuracy: 0.6022\n",
            "Epoch 159/300\n",
            "368/368 [==============================] - 0s 666us/step - loss: 0.4955 - categorical_accuracy: 0.7527 - val_loss: 0.6387 - val_categorical_accuracy: 0.7097\n",
            "Epoch 160/300\n",
            "368/368 [==============================] - 0s 637us/step - loss: 0.4985 - categorical_accuracy: 0.7446 - val_loss: 0.8287 - val_categorical_accuracy: 0.5591\n",
            "Epoch 161/300\n",
            "368/368 [==============================] - 0s 643us/step - loss: 0.5013 - categorical_accuracy: 0.7446 - val_loss: 0.7882 - val_categorical_accuracy: 0.6129\n",
            "Epoch 162/300\n",
            "368/368 [==============================] - 0s 640us/step - loss: 0.4976 - categorical_accuracy: 0.7527 - val_loss: 0.6133 - val_categorical_accuracy: 0.7312\n",
            "Epoch 163/300\n",
            "368/368 [==============================] - 0s 645us/step - loss: 0.4970 - categorical_accuracy: 0.7446 - val_loss: 0.6509 - val_categorical_accuracy: 0.6989\n",
            "Epoch 164/300\n",
            "368/368 [==============================] - 0s 639us/step - loss: 0.4968 - categorical_accuracy: 0.7418 - val_loss: 0.8038 - val_categorical_accuracy: 0.6129\n",
            "Epoch 165/300\n",
            "368/368 [==============================] - 0s 616us/step - loss: 0.4998 - categorical_accuracy: 0.7554 - val_loss: 0.9084 - val_categorical_accuracy: 0.4946\n",
            "Epoch 166/300\n",
            "368/368 [==============================] - 0s 620us/step - loss: 0.4944 - categorical_accuracy: 0.7418 - val_loss: 0.6243 - val_categorical_accuracy: 0.7312\n",
            "Epoch 167/300\n",
            "368/368 [==============================] - 0s 669us/step - loss: 0.4974 - categorical_accuracy: 0.7527 - val_loss: 0.6052 - val_categorical_accuracy: 0.7312\n",
            "Epoch 168/300\n",
            "368/368 [==============================] - 0s 630us/step - loss: 0.4959 - categorical_accuracy: 0.7473 - val_loss: 0.7017 - val_categorical_accuracy: 0.6774\n",
            "Epoch 169/300\n",
            "368/368 [==============================] - 0s 617us/step - loss: 0.4953 - categorical_accuracy: 0.7527 - val_loss: 0.7133 - val_categorical_accuracy: 0.6882\n",
            "Epoch 170/300\n",
            "368/368 [==============================] - 0s 703us/step - loss: 0.4946 - categorical_accuracy: 0.7500 - val_loss: 0.7257 - val_categorical_accuracy: 0.6559\n",
            "Epoch 171/300\n",
            "368/368 [==============================] - 0s 638us/step - loss: 0.4945 - categorical_accuracy: 0.7609 - val_loss: 0.7273 - val_categorical_accuracy: 0.6559\n",
            "Epoch 172/300\n",
            "368/368 [==============================] - 0s 659us/step - loss: 0.4964 - categorical_accuracy: 0.7582 - val_loss: 0.7095 - val_categorical_accuracy: 0.6774\n",
            "Epoch 173/300\n",
            "368/368 [==============================] - 0s 620us/step - loss: 0.4972 - categorical_accuracy: 0.7418 - val_loss: 0.7361 - val_categorical_accuracy: 0.6452\n",
            "Epoch 174/300\n",
            "368/368 [==============================] - 0s 636us/step - loss: 0.4989 - categorical_accuracy: 0.7473 - val_loss: 0.7498 - val_categorical_accuracy: 0.6452\n",
            "Epoch 175/300\n",
            "368/368 [==============================] - 0s 634us/step - loss: 0.4950 - categorical_accuracy: 0.7337 - val_loss: 0.7334 - val_categorical_accuracy: 0.6452\n",
            "Epoch 176/300\n",
            "368/368 [==============================] - 0s 664us/step - loss: 0.4980 - categorical_accuracy: 0.7609 - val_loss: 0.5576 - val_categorical_accuracy: 0.7527\n",
            "Epoch 177/300\n",
            "368/368 [==============================] - 0s 635us/step - loss: 0.4947 - categorical_accuracy: 0.7582 - val_loss: 0.7403 - val_categorical_accuracy: 0.6559\n",
            "Epoch 178/300\n",
            "368/368 [==============================] - 0s 636us/step - loss: 0.4944 - categorical_accuracy: 0.7473 - val_loss: 0.6414 - val_categorical_accuracy: 0.7312\n",
            "Epoch 179/300\n",
            "368/368 [==============================] - 0s 642us/step - loss: 0.4930 - categorical_accuracy: 0.7473 - val_loss: 0.6283 - val_categorical_accuracy: 0.7097\n",
            "Epoch 180/300\n",
            "368/368 [==============================] - 0s 664us/step - loss: 0.4946 - categorical_accuracy: 0.7446 - val_loss: 0.8163 - val_categorical_accuracy: 0.5484\n",
            "Epoch 181/300\n",
            "368/368 [==============================] - 0s 639us/step - loss: 0.5002 - categorical_accuracy: 0.7554 - val_loss: 0.6839 - val_categorical_accuracy: 0.6989\n",
            "Epoch 182/300\n",
            "368/368 [==============================] - 0s 640us/step - loss: 0.4944 - categorical_accuracy: 0.7500 - val_loss: 0.7038 - val_categorical_accuracy: 0.6774\n",
            "Epoch 183/300\n",
            "368/368 [==============================] - 0s 639us/step - loss: 0.5018 - categorical_accuracy: 0.7337 - val_loss: 0.6335 - val_categorical_accuracy: 0.7204\n",
            "Epoch 184/300\n",
            "368/368 [==============================] - 0s 668us/step - loss: 0.4919 - categorical_accuracy: 0.7527 - val_loss: 0.8311 - val_categorical_accuracy: 0.5269\n",
            "Epoch 185/300\n",
            "368/368 [==============================] - 0s 637us/step - loss: 0.5002 - categorical_accuracy: 0.7663 - val_loss: 0.7837 - val_categorical_accuracy: 0.6237\n",
            "Epoch 186/300\n",
            "368/368 [==============================] - 0s 636us/step - loss: 0.4937 - categorical_accuracy: 0.7527 - val_loss: 0.6725 - val_categorical_accuracy: 0.6882\n",
            "Epoch 187/300\n",
            "368/368 [==============================] - 0s 638us/step - loss: 0.4980 - categorical_accuracy: 0.7418 - val_loss: 0.7187 - val_categorical_accuracy: 0.6774\n",
            "Epoch 188/300\n",
            "368/368 [==============================] - 0s 623us/step - loss: 0.4923 - categorical_accuracy: 0.7473 - val_loss: 0.6955 - val_categorical_accuracy: 0.6774\n",
            "Epoch 189/300\n",
            "368/368 [==============================] - 0s 674us/step - loss: 0.4944 - categorical_accuracy: 0.7500 - val_loss: 0.7019 - val_categorical_accuracy: 0.6774\n",
            "Epoch 190/300\n",
            "368/368 [==============================] - 0s 642us/step - loss: 0.4923 - categorical_accuracy: 0.7582 - val_loss: 0.6301 - val_categorical_accuracy: 0.7312\n",
            "Epoch 191/300\n",
            "368/368 [==============================] - 0s 651us/step - loss: 0.4932 - categorical_accuracy: 0.7609 - val_loss: 0.6443 - val_categorical_accuracy: 0.7204\n",
            "Epoch 192/300\n",
            "368/368 [==============================] - 0s 634us/step - loss: 0.4906 - categorical_accuracy: 0.7554 - val_loss: 0.7093 - val_categorical_accuracy: 0.6882\n",
            "Epoch 193/300\n",
            "368/368 [==============================] - 0s 656us/step - loss: 0.4903 - categorical_accuracy: 0.7582 - val_loss: 0.6728 - val_categorical_accuracy: 0.6989\n",
            "Epoch 194/300\n",
            "368/368 [==============================] - 0s 629us/step - loss: 0.4959 - categorical_accuracy: 0.7391 - val_loss: 0.8404 - val_categorical_accuracy: 0.5269\n",
            "Epoch 195/300\n",
            "368/368 [==============================] - 0s 640us/step - loss: 0.4936 - categorical_accuracy: 0.7527 - val_loss: 0.8430 - val_categorical_accuracy: 0.5376\n",
            "Epoch 196/300\n",
            "368/368 [==============================] - 0s 640us/step - loss: 0.4992 - categorical_accuracy: 0.7255 - val_loss: 0.7549 - val_categorical_accuracy: 0.6452\n",
            "Epoch 197/300\n",
            "368/368 [==============================] - 0s 656us/step - loss: 0.4946 - categorical_accuracy: 0.7527 - val_loss: 0.7150 - val_categorical_accuracy: 0.6989\n",
            "Epoch 198/300\n",
            "368/368 [==============================] - 0s 636us/step - loss: 0.4903 - categorical_accuracy: 0.7473 - val_loss: 0.6759 - val_categorical_accuracy: 0.6882\n",
            "Epoch 199/300\n",
            "368/368 [==============================] - 0s 626us/step - loss: 0.4912 - categorical_accuracy: 0.7636 - val_loss: 0.7334 - val_categorical_accuracy: 0.6452\n",
            "Epoch 200/300\n",
            "368/368 [==============================] - 0s 648us/step - loss: 0.4890 - categorical_accuracy: 0.7582 - val_loss: 0.7457 - val_categorical_accuracy: 0.6559\n",
            "Epoch 201/300\n",
            "368/368 [==============================] - 0s 628us/step - loss: 0.4894 - categorical_accuracy: 0.7554 - val_loss: 0.8135 - val_categorical_accuracy: 0.6129\n",
            "Epoch 202/300\n",
            "368/368 [==============================] - 0s 678us/step - loss: 0.4899 - categorical_accuracy: 0.7500 - val_loss: 0.6982 - val_categorical_accuracy: 0.6774\n",
            "Epoch 203/300\n",
            "368/368 [==============================] - 0s 611us/step - loss: 0.4909 - categorical_accuracy: 0.7500 - val_loss: 0.7035 - val_categorical_accuracy: 0.6774\n",
            "Epoch 204/300\n",
            "368/368 [==============================] - 0s 661us/step - loss: 0.4857 - categorical_accuracy: 0.7663 - val_loss: 0.7137 - val_categorical_accuracy: 0.6452\n",
            "Epoch 205/300\n",
            "368/368 [==============================] - 0s 613us/step - loss: 0.4883 - categorical_accuracy: 0.7609 - val_loss: 0.7319 - val_categorical_accuracy: 0.6667\n",
            "Epoch 206/300\n",
            "368/368 [==============================] - 0s 658us/step - loss: 0.4905 - categorical_accuracy: 0.7527 - val_loss: 0.7256 - val_categorical_accuracy: 0.6667\n",
            "Epoch 207/300\n",
            "368/368 [==============================] - 0s 637us/step - loss: 0.4860 - categorical_accuracy: 0.7473 - val_loss: 0.6360 - val_categorical_accuracy: 0.7097\n",
            "Epoch 208/300\n",
            "368/368 [==============================] - 0s 616us/step - loss: 0.4895 - categorical_accuracy: 0.7527 - val_loss: 0.7188 - val_categorical_accuracy: 0.6667\n",
            "Epoch 209/300\n",
            "368/368 [==============================] - 0s 636us/step - loss: 0.4930 - categorical_accuracy: 0.7609 - val_loss: 0.7517 - val_categorical_accuracy: 0.6022\n",
            "Epoch 210/300\n",
            "368/368 [==============================] - 0s 673us/step - loss: 0.4967 - categorical_accuracy: 0.7527 - val_loss: 0.6176 - val_categorical_accuracy: 0.7097\n",
            "Epoch 211/300\n",
            "368/368 [==============================] - 0s 635us/step - loss: 0.4869 - categorical_accuracy: 0.7636 - val_loss: 0.6980 - val_categorical_accuracy: 0.6667\n",
            "Epoch 212/300\n",
            "368/368 [==============================] - 0s 643us/step - loss: 0.4882 - categorical_accuracy: 0.7609 - val_loss: 0.6604 - val_categorical_accuracy: 0.6989\n",
            "Epoch 213/300\n",
            "368/368 [==============================] - 0s 690us/step - loss: 0.4875 - categorical_accuracy: 0.7636 - val_loss: 0.7686 - val_categorical_accuracy: 0.6237\n",
            "Epoch 214/300\n",
            "368/368 [==============================] - 0s 641us/step - loss: 0.4872 - categorical_accuracy: 0.7446 - val_loss: 0.6499 - val_categorical_accuracy: 0.7204\n",
            "Epoch 215/300\n",
            "368/368 [==============================] - 0s 680us/step - loss: 0.4868 - categorical_accuracy: 0.7500 - val_loss: 0.6656 - val_categorical_accuracy: 0.6989\n",
            "Epoch 216/300\n",
            "368/368 [==============================] - 0s 640us/step - loss: 0.4946 - categorical_accuracy: 0.7500 - val_loss: 0.6075 - val_categorical_accuracy: 0.7419\n",
            "Epoch 217/300\n",
            "368/368 [==============================] - 0s 649us/step - loss: 0.4913 - categorical_accuracy: 0.7582 - val_loss: 0.6553 - val_categorical_accuracy: 0.7097\n",
            "Epoch 218/300\n",
            "368/368 [==============================] - 0s 618us/step - loss: 0.4826 - categorical_accuracy: 0.7717 - val_loss: 0.7923 - val_categorical_accuracy: 0.6344\n",
            "Epoch 219/300\n",
            "368/368 [==============================] - 0s 670us/step - loss: 0.4849 - categorical_accuracy: 0.7527 - val_loss: 0.6966 - val_categorical_accuracy: 0.6774\n",
            "Epoch 220/300\n",
            "368/368 [==============================] - 0s 652us/step - loss: 0.4849 - categorical_accuracy: 0.7582 - val_loss: 0.7191 - val_categorical_accuracy: 0.6667\n",
            "Epoch 221/300\n",
            "368/368 [==============================] - 0s 630us/step - loss: 0.4906 - categorical_accuracy: 0.7364 - val_loss: 0.5794 - val_categorical_accuracy: 0.7527\n",
            "Epoch 222/300\n",
            "368/368 [==============================] - 0s 649us/step - loss: 0.4898 - categorical_accuracy: 0.7554 - val_loss: 0.6454 - val_categorical_accuracy: 0.7204\n",
            "Epoch 223/300\n",
            "368/368 [==============================] - 0s 652us/step - loss: 0.4823 - categorical_accuracy: 0.7609 - val_loss: 0.5592 - val_categorical_accuracy: 0.7527\n",
            "Epoch 224/300\n",
            "368/368 [==============================] - 0s 635us/step - loss: 0.4883 - categorical_accuracy: 0.7609 - val_loss: 0.5665 - val_categorical_accuracy: 0.7634\n",
            "Epoch 225/300\n",
            "368/368 [==============================] - 0s 651us/step - loss: 0.4815 - categorical_accuracy: 0.7663 - val_loss: 0.8513 - val_categorical_accuracy: 0.5376\n",
            "Epoch 226/300\n",
            "368/368 [==============================] - 0s 609us/step - loss: 0.4875 - categorical_accuracy: 0.7446 - val_loss: 0.8165 - val_categorical_accuracy: 0.5484\n",
            "Epoch 227/300\n",
            "368/368 [==============================] - 0s 665us/step - loss: 0.4824 - categorical_accuracy: 0.7527 - val_loss: 0.8020 - val_categorical_accuracy: 0.5806\n",
            "Epoch 228/300\n",
            "368/368 [==============================] - 0s 643us/step - loss: 0.4841 - categorical_accuracy: 0.7717 - val_loss: 0.7263 - val_categorical_accuracy: 0.6774\n",
            "Epoch 229/300\n",
            "368/368 [==============================] - 0s 646us/step - loss: 0.4786 - categorical_accuracy: 0.7582 - val_loss: 0.6591 - val_categorical_accuracy: 0.6882\n",
            "Epoch 230/300\n",
            "368/368 [==============================] - 0s 650us/step - loss: 0.4801 - categorical_accuracy: 0.7663 - val_loss: 0.7657 - val_categorical_accuracy: 0.6022\n",
            "Epoch 231/300\n",
            "368/368 [==============================] - 0s 645us/step - loss: 0.4890 - categorical_accuracy: 0.7500 - val_loss: 0.8445 - val_categorical_accuracy: 0.5806\n",
            "Epoch 232/300\n",
            "368/368 [==============================] - 0s 681us/step - loss: 0.4794 - categorical_accuracy: 0.7690 - val_loss: 0.6085 - val_categorical_accuracy: 0.7634\n",
            "Epoch 233/300\n",
            "368/368 [==============================] - 0s 643us/step - loss: 0.4812 - categorical_accuracy: 0.7554 - val_loss: 0.7428 - val_categorical_accuracy: 0.6774\n",
            "Epoch 234/300\n",
            "368/368 [==============================] - 0s 632us/step - loss: 0.4813 - categorical_accuracy: 0.7609 - val_loss: 0.6041 - val_categorical_accuracy: 0.7527\n",
            "Epoch 235/300\n",
            "368/368 [==============================] - 0s 640us/step - loss: 0.4853 - categorical_accuracy: 0.7554 - val_loss: 0.6776 - val_categorical_accuracy: 0.7097\n",
            "Epoch 236/300\n",
            "368/368 [==============================] - 0s 661us/step - loss: 0.4806 - categorical_accuracy: 0.7636 - val_loss: 0.7673 - val_categorical_accuracy: 0.6237\n",
            "Epoch 237/300\n",
            "368/368 [==============================] - 0s 644us/step - loss: 0.4800 - categorical_accuracy: 0.7582 - val_loss: 0.6687 - val_categorical_accuracy: 0.7204\n",
            "Epoch 238/300\n",
            "368/368 [==============================] - 0s 637us/step - loss: 0.4831 - categorical_accuracy: 0.7636 - val_loss: 0.7408 - val_categorical_accuracy: 0.6452\n",
            "Epoch 239/300\n",
            "368/368 [==============================] - 0s 641us/step - loss: 0.4755 - categorical_accuracy: 0.7636 - val_loss: 0.9090 - val_categorical_accuracy: 0.5054\n",
            "Epoch 240/300\n",
            "368/368 [==============================] - 0s 675us/step - loss: 0.4853 - categorical_accuracy: 0.7690 - val_loss: 0.5650 - val_categorical_accuracy: 0.7742\n",
            "Epoch 241/300\n",
            "368/368 [==============================] - 0s 639us/step - loss: 0.4770 - categorical_accuracy: 0.7663 - val_loss: 0.7585 - val_categorical_accuracy: 0.6129\n",
            "Epoch 242/300\n",
            "368/368 [==============================] - 0s 623us/step - loss: 0.4760 - categorical_accuracy: 0.7745 - val_loss: 0.6160 - val_categorical_accuracy: 0.7634\n",
            "Epoch 243/300\n",
            "368/368 [==============================] - 0s 647us/step - loss: 0.4756 - categorical_accuracy: 0.7717 - val_loss: 0.7508 - val_categorical_accuracy: 0.6237\n",
            "Epoch 244/300\n",
            "368/368 [==============================] - 0s 629us/step - loss: 0.4778 - categorical_accuracy: 0.7609 - val_loss: 0.9122 - val_categorical_accuracy: 0.3978\n",
            "Epoch 245/300\n",
            "368/368 [==============================] - 0s 677us/step - loss: 0.4913 - categorical_accuracy: 0.7500 - val_loss: 0.7680 - val_categorical_accuracy: 0.6022\n",
            "Epoch 246/300\n",
            "368/368 [==============================] - 0s 640us/step - loss: 0.4785 - categorical_accuracy: 0.7799 - val_loss: 0.5670 - val_categorical_accuracy: 0.7742\n",
            "Epoch 247/300\n",
            "368/368 [==============================] - 0s 645us/step - loss: 0.4762 - categorical_accuracy: 0.7636 - val_loss: 0.8417 - val_categorical_accuracy: 0.5484\n",
            "Epoch 248/300\n",
            "368/368 [==============================] - 0s 621us/step - loss: 0.4746 - categorical_accuracy: 0.7745 - val_loss: 0.6324 - val_categorical_accuracy: 0.7527\n",
            "Epoch 249/300\n",
            "368/368 [==============================] - 0s 669us/step - loss: 0.4742 - categorical_accuracy: 0.7663 - val_loss: 0.5053 - val_categorical_accuracy: 0.8065\n",
            "Epoch 250/300\n",
            "368/368 [==============================] - 0s 641us/step - loss: 0.4807 - categorical_accuracy: 0.7745 - val_loss: 0.6020 - val_categorical_accuracy: 0.7527\n",
            "Epoch 251/300\n",
            "368/368 [==============================] - 0s 642us/step - loss: 0.4735 - categorical_accuracy: 0.7663 - val_loss: 0.6954 - val_categorical_accuracy: 0.7204\n",
            "Epoch 252/300\n",
            "368/368 [==============================] - 0s 628us/step - loss: 0.4737 - categorical_accuracy: 0.7690 - val_loss: 0.7097 - val_categorical_accuracy: 0.6559\n",
            "Epoch 253/300\n",
            "368/368 [==============================] - 0s 666us/step - loss: 0.4750 - categorical_accuracy: 0.7690 - val_loss: 0.7315 - val_categorical_accuracy: 0.6774\n",
            "Epoch 254/300\n",
            "368/368 [==============================] - 0s 648us/step - loss: 0.4757 - categorical_accuracy: 0.7853 - val_loss: 0.8225 - val_categorical_accuracy: 0.5914\n",
            "Epoch 255/300\n",
            "368/368 [==============================] - 0s 627us/step - loss: 0.4750 - categorical_accuracy: 0.7636 - val_loss: 0.7725 - val_categorical_accuracy: 0.5914\n",
            "Epoch 256/300\n",
            "368/368 [==============================] - 0s 679us/step - loss: 0.4787 - categorical_accuracy: 0.7636 - val_loss: 0.6228 - val_categorical_accuracy: 0.7204\n",
            "Epoch 257/300\n",
            "368/368 [==============================] - 0s 668us/step - loss: 0.4740 - categorical_accuracy: 0.7799 - val_loss: 0.8043 - val_categorical_accuracy: 0.5914\n",
            "Epoch 258/300\n",
            "368/368 [==============================] - 0s 645us/step - loss: 0.4728 - categorical_accuracy: 0.7717 - val_loss: 0.6632 - val_categorical_accuracy: 0.7204\n",
            "Epoch 259/300\n",
            "368/368 [==============================] - 0s 643us/step - loss: 0.4727 - categorical_accuracy: 0.7690 - val_loss: 0.6887 - val_categorical_accuracy: 0.6989\n",
            "Epoch 260/300\n",
            "368/368 [==============================] - 0s 644us/step - loss: 0.4740 - categorical_accuracy: 0.7690 - val_loss: 0.9019 - val_categorical_accuracy: 0.4301\n",
            "Epoch 261/300\n",
            "368/368 [==============================] - 0s 645us/step - loss: 0.4745 - categorical_accuracy: 0.7663 - val_loss: 0.8283 - val_categorical_accuracy: 0.5699\n",
            "Epoch 262/300\n",
            "368/368 [==============================] - 0s 666us/step - loss: 0.4717 - categorical_accuracy: 0.7690 - val_loss: 0.6759 - val_categorical_accuracy: 0.7097\n",
            "Epoch 263/300\n",
            "368/368 [==============================] - 0s 636us/step - loss: 0.4734 - categorical_accuracy: 0.7690 - val_loss: 0.7470 - val_categorical_accuracy: 0.6452\n",
            "Epoch 264/300\n",
            "368/368 [==============================] - 0s 663us/step - loss: 0.4702 - categorical_accuracy: 0.7690 - val_loss: 0.8279 - val_categorical_accuracy: 0.5484\n",
            "Epoch 265/300\n",
            "368/368 [==============================] - 0s 655us/step - loss: 0.4697 - categorical_accuracy: 0.7799 - val_loss: 0.5962 - val_categorical_accuracy: 0.7634\n",
            "Epoch 266/300\n",
            "368/368 [==============================] - 0s 675us/step - loss: 0.4700 - categorical_accuracy: 0.7554 - val_loss: 0.7754 - val_categorical_accuracy: 0.6129\n",
            "Epoch 267/300\n",
            "368/368 [==============================] - 0s 645us/step - loss: 0.4685 - categorical_accuracy: 0.7772 - val_loss: 0.8587 - val_categorical_accuracy: 0.5269\n",
            "Epoch 268/300\n",
            "368/368 [==============================] - 0s 645us/step - loss: 0.4782 - categorical_accuracy: 0.7636 - val_loss: 0.7046 - val_categorical_accuracy: 0.6774\n",
            "Epoch 269/300\n",
            "368/368 [==============================] - 0s 637us/step - loss: 0.4785 - categorical_accuracy: 0.7663 - val_loss: 0.8243 - val_categorical_accuracy: 0.5914\n",
            "Epoch 270/300\n",
            "368/368 [==============================] - 0s 672us/step - loss: 0.4684 - categorical_accuracy: 0.7636 - val_loss: 0.7311 - val_categorical_accuracy: 0.6882\n",
            "Epoch 271/300\n",
            "368/368 [==============================] - 0s 635us/step - loss: 0.4720 - categorical_accuracy: 0.7663 - val_loss: 0.7756 - val_categorical_accuracy: 0.6129\n",
            "Epoch 272/300\n",
            "368/368 [==============================] - 0s 609us/step - loss: 0.4697 - categorical_accuracy: 0.7772 - val_loss: 0.7634 - val_categorical_accuracy: 0.6237\n",
            "Epoch 273/300\n",
            "368/368 [==============================] - 0s 621us/step - loss: 0.4716 - categorical_accuracy: 0.7745 - val_loss: 0.7436 - val_categorical_accuracy: 0.6237\n",
            "Epoch 274/300\n",
            "368/368 [==============================] - 0s 637us/step - loss: 0.4718 - categorical_accuracy: 0.7609 - val_loss: 0.7013 - val_categorical_accuracy: 0.7097\n",
            "Epoch 275/300\n",
            "368/368 [==============================] - 0s 649us/step - loss: 0.4683 - categorical_accuracy: 0.7717 - val_loss: 0.6352 - val_categorical_accuracy: 0.7204\n",
            "Epoch 276/300\n",
            "368/368 [==============================] - 0s 637us/step - loss: 0.4647 - categorical_accuracy: 0.7772 - val_loss: 0.8257 - val_categorical_accuracy: 0.5806\n",
            "Epoch 277/300\n",
            "368/368 [==============================] - 0s 612us/step - loss: 0.4738 - categorical_accuracy: 0.7745 - val_loss: 0.6166 - val_categorical_accuracy: 0.7527\n",
            "Epoch 278/300\n",
            "368/368 [==============================] - 0s 616us/step - loss: 0.4692 - categorical_accuracy: 0.7636 - val_loss: 0.7360 - val_categorical_accuracy: 0.6559\n",
            "Epoch 279/300\n",
            "368/368 [==============================] - 0s 674us/step - loss: 0.4741 - categorical_accuracy: 0.7663 - val_loss: 0.6855 - val_categorical_accuracy: 0.6882\n",
            "Epoch 280/300\n",
            "368/368 [==============================] - 0s 630us/step - loss: 0.4668 - categorical_accuracy: 0.7799 - val_loss: 0.7345 - val_categorical_accuracy: 0.6452\n",
            "Epoch 281/300\n",
            "368/368 [==============================] - 0s 645us/step - loss: 0.4677 - categorical_accuracy: 0.7717 - val_loss: 0.5102 - val_categorical_accuracy: 0.8065\n",
            "Epoch 282/300\n",
            "368/368 [==============================] - 0s 618us/step - loss: 0.4726 - categorical_accuracy: 0.7717 - val_loss: 0.5794 - val_categorical_accuracy: 0.7634\n",
            "Epoch 283/300\n",
            "368/368 [==============================] - 0s 658us/step - loss: 0.4788 - categorical_accuracy: 0.7690 - val_loss: 0.5181 - val_categorical_accuracy: 0.7957\n",
            "Epoch 284/300\n",
            "368/368 [==============================] - 0s 637us/step - loss: 0.4681 - categorical_accuracy: 0.7690 - val_loss: 0.7854 - val_categorical_accuracy: 0.6022\n",
            "Epoch 285/300\n",
            "368/368 [==============================] - 0s 616us/step - loss: 0.4708 - categorical_accuracy: 0.7690 - val_loss: 0.5529 - val_categorical_accuracy: 0.7742\n",
            "Epoch 286/300\n",
            "368/368 [==============================] - 0s 606us/step - loss: 0.4623 - categorical_accuracy: 0.7799 - val_loss: 0.6859 - val_categorical_accuracy: 0.7097\n",
            "Epoch 287/300\n",
            "368/368 [==============================] - 0s 619us/step - loss: 0.4702 - categorical_accuracy: 0.7636 - val_loss: 0.7481 - val_categorical_accuracy: 0.6129\n",
            "Epoch 288/300\n",
            "368/368 [==============================] - 0s 665us/step - loss: 0.4674 - categorical_accuracy: 0.7853 - val_loss: 0.6968 - val_categorical_accuracy: 0.6882\n",
            "Epoch 289/300\n",
            "368/368 [==============================] - 0s 640us/step - loss: 0.4673 - categorical_accuracy: 0.7690 - val_loss: 0.7749 - val_categorical_accuracy: 0.6344\n",
            "Epoch 290/300\n",
            "368/368 [==============================] - 0s 631us/step - loss: 0.4727 - categorical_accuracy: 0.7690 - val_loss: 0.8387 - val_categorical_accuracy: 0.5699\n",
            "Epoch 291/300\n",
            "368/368 [==============================] - 0s 616us/step - loss: 0.4638 - categorical_accuracy: 0.7717 - val_loss: 0.6360 - val_categorical_accuracy: 0.7419\n",
            "Epoch 292/300\n",
            "368/368 [==============================] - 0s 658us/step - loss: 0.4671 - categorical_accuracy: 0.7772 - val_loss: 0.7650 - val_categorical_accuracy: 0.6344\n",
            "Epoch 293/300\n",
            "368/368 [==============================] - 0s 644us/step - loss: 0.4639 - categorical_accuracy: 0.7745 - val_loss: 0.6207 - val_categorical_accuracy: 0.7419\n",
            "Epoch 294/300\n",
            "368/368 [==============================] - 0s 634us/step - loss: 0.4667 - categorical_accuracy: 0.7717 - val_loss: 0.6524 - val_categorical_accuracy: 0.7097\n",
            "Epoch 295/300\n",
            "368/368 [==============================] - 0s 634us/step - loss: 0.4644 - categorical_accuracy: 0.7799 - val_loss: 0.6551 - val_categorical_accuracy: 0.7419\n",
            "Epoch 296/300\n",
            "368/368 [==============================] - 0s 666us/step - loss: 0.4638 - categorical_accuracy: 0.7690 - val_loss: 0.6617 - val_categorical_accuracy: 0.7204\n",
            "Epoch 297/300\n",
            "368/368 [==============================] - 0s 618us/step - loss: 0.4625 - categorical_accuracy: 0.7745 - val_loss: 0.8166 - val_categorical_accuracy: 0.6022\n",
            "Epoch 298/300\n",
            "368/368 [==============================] - 0s 637us/step - loss: 0.4646 - categorical_accuracy: 0.7745 - val_loss: 0.7352 - val_categorical_accuracy: 0.6237\n",
            "Epoch 299/300\n",
            "368/368 [==============================] - 0s 699us/step - loss: 0.4671 - categorical_accuracy: 0.7799 - val_loss: 0.7547 - val_categorical_accuracy: 0.6022\n",
            "Epoch 300/300\n",
            "368/368 [==============================] - 0s 630us/step - loss: 0.4644 - categorical_accuracy: 0.7717 - val_loss: 0.6576 - val_categorical_accuracy: 0.7312\n"
          ],
          "name": "stdout"
        },
        {
          "output_type": "display_data",
          "data": {
            "image/png": "[encoded data removed]",
            "text/plain": [
              "<Figure size 432x288 with 1 Axes>"
            ]
          },
          "metadata": {
            "tags": []
          }
        },
        {
          "output_type": "display_data",
          "data": {
            "image/png": "[encoded data removed]",
            "text/plain": [
              "<Figure size 432x288 with 1 Axes>"
            ]
          },
          "metadata": {
            "tags": []
          }
        }
      ]
    },
    {
      "cell_type": "markdown",
      "metadata": {
        "id": "sG4a0Q9Erjlx",
        "colab_type": "text"
      },
      "source": [
        "Viendo que no somos capaces de mejorar los resultados, vamos a intentar modificar los datos de entrada. Vamos a probar con estandarizar las escalas de los datos de entrada."
      ]
    },
    {
      "cell_type": "code",
      "metadata": {
        "id": "WaV2Bu9itSST",
        "colab_type": "code",
        "outputId": "c8543674-6bb3-463d-b360-b299ef7e1a38",
        "colab": {
          "base_uri": "https://localhost:8080/",
          "height": 134
        }
      },
      "source": [
        "x_upgrade.columns"
      ],
      "execution_count": 225,
      "outputs": [
        {
          "output_type": "execute_result",
          "data": {
            "text/plain": [
              "Index(['Max Depth', 'Max Curve', 'Max Variation Curve', 'Age', 'K Max',\n",
              "       'Paqui Min', 'Distance Between Max Curve and Min Paqui',\n",
              "       'Position of Most Curve Point Relative to Center', 'Max Depth Norm',\n",
              "       'Max Curve Norm', 'Max Variation Curve Norm', 'Age Norm', 'K Max Norm',\n",
              "       'Paqui Min Norm', 'Distance Between Max Curve and Min Paqui Norm',\n",
              "       'Position of Most Curve Point Relative to Center Norm'],\n",
              "      dtype='object')"
            ]
          },
          "metadata": {
            "tags": []
          },
          "execution_count": 225
        }
      ]
    },
    {
      "cell_type": "code",
      "metadata": {
        "id": "NyThFhvvegO9",
        "colab_type": "code",
        "colab": {}
      },
      "source": [
        "sc = StandardScaler()\n",
        "x_upgrade.drop(['Max Depth Norm', 'Max Curve Norm', 'Max Variation Curve Norm', 'Age Norm', 'K Max Norm',\n",
        "       'Paqui Min Norm', 'Distance Between Max Curve and Min Paqui Norm',\n",
        "       'Position of Most Curve Point Relative to Center Norm'], axis = 1, inplace = True)\n",
        "x_SC = sc.fit_transform(x_upgrade.values)"
      ],
      "execution_count": 0,
      "outputs": []
    },
    {
      "cell_type": "code",
      "metadata": {
        "id": "sLsncHvgegNO",
        "colab_type": "code",
        "outputId": "e92bbfe5-7a8f-420e-c44e-afa4258c2c77",
        "colab": {
          "base_uri": "https://localhost:8080/",
          "height": 234
        }
      },
      "source": [
        "x_SC"
      ],
      "execution_count": 227,
      "outputs": [
        {
          "output_type": "execute_result",
          "data": {
            "text/plain": [
              "array([[-0.47709115, -0.16020906,  0.08537577, ..., -0.8518976 ,\n",
              "        -0.53159119, -0.42837659],\n",
              "       [-1.05694136, -0.07357401, -0.05739278, ..., -0.93827718,\n",
              "        -0.70794347, -0.52155534],\n",
              "       [-0.02580502, -1.67632237,  1.01337129, ..., -1.30539043,\n",
              "         2.4737456 ,  2.12328765],\n",
              "       ...,\n",
              "       [ 0.88988604,  0.61950636, -0.34292986, ...,  0.57336559,\n",
              "        -0.28175879,  0.22387466],\n",
              "       [-0.37214089, -0.3046008 , -0.20016132, ...,  1.8042747 ,\n",
              "        -0.80346762, -0.84409717],\n",
              "       [ 0.82691588, -0.18908741,  0.67174656, ...,  0.29263193,\n",
              "        -0.24501873,  0.46757293]])"
            ]
          },
          "metadata": {
            "tags": []
          },
          "execution_count": 227
        }
      ]
    },
    {
      "cell_type": "markdown",
      "metadata": {
        "id": "JgKv1f-JsaqH",
        "colab_type": "text"
      },
      "source": [
        "Vamos a separar las muestras en train y test, para realizar las comprobaciones necesarias posteriormente."
      ]
    },
    {
      "cell_type": "code",
      "metadata": {
        "id": "D6s6aYm_egLP",
        "colab_type": "code",
        "colab": {}
      },
      "source": [
        "X_train_dl, X_test_dl, y_train_dl, y_test_dl = train_test_split(x_SC, y_list, test_size=0.3)"
      ],
      "execution_count": 0,
      "outputs": []
    },
    {
      "cell_type": "code",
      "metadata": {
        "id": "z1ee4jmwtHe-",
        "colab_type": "code",
        "outputId": "7e7369fa-b6ff-40ed-c0f1-995ae77ba4f3",
        "colab": {
          "base_uri": "https://localhost:8080/",
          "height": 33
        }
      },
      "source": [
        "X_train_dl.shape"
      ],
      "execution_count": 229,
      "outputs": [
        {
          "output_type": "execute_result",
          "data": {
            "text/plain": [
              "(322, 8)"
            ]
          },
          "metadata": {
            "tags": []
          },
          "execution_count": 229
        }
      ]
    },
    {
      "cell_type": "code",
      "metadata": {
        "id": "9zqVGhptegHm",
        "colab_type": "code",
        "colab": {}
      },
      "source": [
        "def build_model():\n",
        "  m = models.Sequential()\n",
        "  m.add(layers.Dense(4, input_dim = 8, activation='relu'))\n",
        "  m.add(layers.Dense(4, activation='relu'))\n",
        "  #m.add(layers.Dense(8, kernel_initializer='normal', activation='relu'))\n",
        "  #m.add(layers.Dropout(0.1))\n",
        "  m.add(layers.Dense(1, activation='sigmoid'))\n",
        "  return m"
      ],
      "execution_count": 0,
      "outputs": []
    },
    {
      "cell_type": "code",
      "metadata": {
        "id": "UFyw6uMdegEG",
        "colab_type": "code",
        "outputId": "63b6acbc-8a93-47fc-e3d3-7e113539c5d2",
        "colab": {
          "base_uri": "https://localhost:8080/",
          "height": 3934
        }
      },
      "source": [
        "model = build_model()\n",
        "model.compile(\n",
        "    optimizer=optimizers.adam(),\n",
        "    loss=losses.binary_crossentropy,\n",
        "    metrics=[metrics.binary_accuracy]   \n",
        "    )\n",
        "h = model.fit(X_train_dl, y_train_dl, epochs=100, batch_size=5, validation_split=.2)\n",
        "plot_metric(h, 'loss')\n",
        "plot_metric(h, 'binary_accuracy')"
      ],
      "execution_count": 261,
      "outputs": [
        {
          "output_type": "stream",
          "text": [
            "Train on 257 samples, validate on 65 samples\n",
            "Epoch 1/100\n",
            "257/257 [==============================] - 2s 6ms/step - loss: 0.6832 - binary_accuracy: 0.5992 - val_loss: 0.6653 - val_binary_accuracy: 0.6308\n",
            "Epoch 2/100\n",
            "257/257 [==============================] - 0s 859us/step - loss: 0.6764 - binary_accuracy: 0.6265 - val_loss: 0.6617 - val_binary_accuracy: 0.6308\n",
            "Epoch 3/100\n",
            "257/257 [==============================] - 0s 841us/step - loss: 0.6699 - binary_accuracy: 0.6342 - val_loss: 0.6559 - val_binary_accuracy: 0.6462\n",
            "Epoch 4/100\n",
            "257/257 [==============================] - 0s 762us/step - loss: 0.6627 - binary_accuracy: 0.6420 - val_loss: 0.6520 - val_binary_accuracy: 0.6462\n",
            "Epoch 5/100\n",
            "257/257 [==============================] - 0s 807us/step - loss: 0.6550 - binary_accuracy: 0.6420 - val_loss: 0.6475 - val_binary_accuracy: 0.6462\n",
            "Epoch 6/100\n",
            "257/257 [==============================] - 0s 738us/step - loss: 0.6476 - binary_accuracy: 0.6576 - val_loss: 0.6419 - val_binary_accuracy: 0.6462\n",
            "Epoch 7/100\n",
            "257/257 [==============================] - 0s 717us/step - loss: 0.6399 - binary_accuracy: 0.6693 - val_loss: 0.6365 - val_binary_accuracy: 0.6615\n",
            "Epoch 8/100\n",
            "257/257 [==============================] - 0s 775us/step - loss: 0.6319 - binary_accuracy: 0.6770 - val_loss: 0.6300 - val_binary_accuracy: 0.6615\n",
            "Epoch 9/100\n",
            "257/257 [==============================] - 0s 716us/step - loss: 0.6241 - binary_accuracy: 0.6848 - val_loss: 0.6229 - val_binary_accuracy: 0.6923\n",
            "Epoch 10/100\n",
            "257/257 [==============================] - 0s 708us/step - loss: 0.6160 - binary_accuracy: 0.6809 - val_loss: 0.6170 - val_binary_accuracy: 0.6923\n",
            "Epoch 11/100\n",
            "257/257 [==============================] - 0s 720us/step - loss: 0.6094 - binary_accuracy: 0.6926 - val_loss: 0.6117 - val_binary_accuracy: 0.6923\n",
            "Epoch 12/100\n",
            "257/257 [==============================] - 0s 711us/step - loss: 0.6030 - binary_accuracy: 0.6926 - val_loss: 0.6071 - val_binary_accuracy: 0.6923\n",
            "Epoch 13/100\n",
            "257/257 [==============================] - 0s 749us/step - loss: 0.5978 - binary_accuracy: 0.6926 - val_loss: 0.6036 - val_binary_accuracy: 0.6923\n",
            "Epoch 14/100\n",
            "257/257 [==============================] - 0s 735us/step - loss: 0.5927 - binary_accuracy: 0.6965 - val_loss: 0.5980 - val_binary_accuracy: 0.6923\n",
            "Epoch 15/100\n",
            "257/257 [==============================] - 0s 719us/step - loss: 0.5880 - binary_accuracy: 0.7004 - val_loss: 0.5974 - val_binary_accuracy: 0.6923\n",
            "Epoch 16/100\n",
            "257/257 [==============================] - 0s 711us/step - loss: 0.5831 - binary_accuracy: 0.7043 - val_loss: 0.5935 - val_binary_accuracy: 0.6923\n",
            "Epoch 17/100\n",
            "257/257 [==============================] - 0s 713us/step - loss: 0.5792 - binary_accuracy: 0.7043 - val_loss: 0.5906 - val_binary_accuracy: 0.7077\n",
            "Epoch 18/100\n",
            "257/257 [==============================] - 0s 728us/step - loss: 0.5754 - binary_accuracy: 0.7082 - val_loss: 0.5881 - val_binary_accuracy: 0.6923\n",
            "Epoch 19/100\n",
            "257/257 [==============================] - 0s 765us/step - loss: 0.5720 - binary_accuracy: 0.7160 - val_loss: 0.5872 - val_binary_accuracy: 0.6769\n",
            "Epoch 20/100\n",
            "257/257 [==============================] - 0s 798us/step - loss: 0.5693 - binary_accuracy: 0.7121 - val_loss: 0.5857 - val_binary_accuracy: 0.6769\n",
            "Epoch 21/100\n",
            "257/257 [==============================] - 0s 722us/step - loss: 0.5667 - binary_accuracy: 0.7121 - val_loss: 0.5852 - val_binary_accuracy: 0.6769\n",
            "Epoch 22/100\n",
            "257/257 [==============================] - 0s 719us/step - loss: 0.5635 - binary_accuracy: 0.7160 - val_loss: 0.5853 - val_binary_accuracy: 0.6769\n",
            "Epoch 23/100\n",
            "257/257 [==============================] - 0s 707us/step - loss: 0.5607 - binary_accuracy: 0.7237 - val_loss: 0.5842 - val_binary_accuracy: 0.6769\n",
            "Epoch 24/100\n",
            "257/257 [==============================] - 0s 740us/step - loss: 0.5580 - binary_accuracy: 0.7276 - val_loss: 0.5835 - val_binary_accuracy: 0.6769\n",
            "Epoch 25/100\n",
            "257/257 [==============================] - 0s 714us/step - loss: 0.5555 - binary_accuracy: 0.7237 - val_loss: 0.5814 - val_binary_accuracy: 0.6769\n",
            "Epoch 26/100\n",
            "257/257 [==============================] - 0s 708us/step - loss: 0.5531 - binary_accuracy: 0.7237 - val_loss: 0.5818 - val_binary_accuracy: 0.6769\n",
            "Epoch 27/100\n",
            "257/257 [==============================] - 0s 728us/step - loss: 0.5503 - binary_accuracy: 0.7237 - val_loss: 0.5809 - val_binary_accuracy: 0.6769\n",
            "Epoch 28/100\n",
            "257/257 [==============================] - 0s 703us/step - loss: 0.5485 - binary_accuracy: 0.7237 - val_loss: 0.5805 - val_binary_accuracy: 0.6769\n",
            "Epoch 29/100\n",
            "257/257 [==============================] - 0s 707us/step - loss: 0.5463 - binary_accuracy: 0.7237 - val_loss: 0.5800 - val_binary_accuracy: 0.6769\n",
            "Epoch 30/100\n",
            "257/257 [==============================] - 0s 769us/step - loss: 0.5443 - binary_accuracy: 0.7276 - val_loss: 0.5795 - val_binary_accuracy: 0.6769\n",
            "Epoch 31/100\n",
            "257/257 [==============================] - 0s 712us/step - loss: 0.5423 - binary_accuracy: 0.7315 - val_loss: 0.5789 - val_binary_accuracy: 0.6769\n",
            "Epoch 32/100\n",
            "257/257 [==============================] - 0s 714us/step - loss: 0.5406 - binary_accuracy: 0.7315 - val_loss: 0.5778 - val_binary_accuracy: 0.6769\n",
            "Epoch 33/100\n",
            "257/257 [==============================] - 0s 716us/step - loss: 0.5388 - binary_accuracy: 0.7354 - val_loss: 0.5775 - val_binary_accuracy: 0.6769\n",
            "Epoch 34/100\n",
            "257/257 [==============================] - 0s 684us/step - loss: 0.5364 - binary_accuracy: 0.7393 - val_loss: 0.5783 - val_binary_accuracy: 0.6769\n",
            "Epoch 35/100\n",
            "257/257 [==============================] - 0s 764us/step - loss: 0.5351 - binary_accuracy: 0.7432 - val_loss: 0.5771 - val_binary_accuracy: 0.6769\n",
            "Epoch 36/100\n",
            "257/257 [==============================] - 0s 724us/step - loss: 0.5330 - binary_accuracy: 0.7432 - val_loss: 0.5766 - val_binary_accuracy: 0.6769\n",
            "Epoch 37/100\n",
            "257/257 [==============================] - 0s 710us/step - loss: 0.5311 - binary_accuracy: 0.7432 - val_loss: 0.5761 - val_binary_accuracy: 0.6923\n",
            "Epoch 38/100\n",
            "257/257 [==============================] - 0s 715us/step - loss: 0.5298 - binary_accuracy: 0.7432 - val_loss: 0.5762 - val_binary_accuracy: 0.6923\n",
            "Epoch 39/100\n",
            "257/257 [==============================] - 0s 708us/step - loss: 0.5280 - binary_accuracy: 0.7471 - val_loss: 0.5764 - val_binary_accuracy: 0.6923\n",
            "Epoch 40/100\n",
            "257/257 [==============================] - 0s 701us/step - loss: 0.5264 - binary_accuracy: 0.7471 - val_loss: 0.5749 - val_binary_accuracy: 0.6923\n",
            "Epoch 41/100\n",
            "257/257 [==============================] - 0s 763us/step - loss: 0.5252 - binary_accuracy: 0.7471 - val_loss: 0.5743 - val_binary_accuracy: 0.6923\n",
            "Epoch 42/100\n",
            "257/257 [==============================] - 0s 732us/step - loss: 0.5238 - binary_accuracy: 0.7510 - val_loss: 0.5750 - val_binary_accuracy: 0.6923\n",
            "Epoch 43/100\n",
            "257/257 [==============================] - 0s 705us/step - loss: 0.5221 - binary_accuracy: 0.7510 - val_loss: 0.5747 - val_binary_accuracy: 0.6923\n",
            "Epoch 44/100\n",
            "257/257 [==============================] - 0s 720us/step - loss: 0.5205 - binary_accuracy: 0.7510 - val_loss: 0.5739 - val_binary_accuracy: 0.6923\n",
            "Epoch 45/100\n",
            "257/257 [==============================] - 0s 711us/step - loss: 0.5188 - binary_accuracy: 0.7510 - val_loss: 0.5741 - val_binary_accuracy: 0.6923\n",
            "Epoch 46/100\n",
            "257/257 [==============================] - 0s 757us/step - loss: 0.5177 - binary_accuracy: 0.7510 - val_loss: 0.5743 - val_binary_accuracy: 0.6923\n",
            "Epoch 47/100\n",
            "257/257 [==============================] - 0s 744us/step - loss: 0.5162 - binary_accuracy: 0.7510 - val_loss: 0.5738 - val_binary_accuracy: 0.6923\n",
            "Epoch 48/100\n",
            "257/257 [==============================] - 0s 699us/step - loss: 0.5151 - binary_accuracy: 0.7471 - val_loss: 0.5734 - val_binary_accuracy: 0.6923\n",
            "Epoch 49/100\n",
            "257/257 [==============================] - 0s 723us/step - loss: 0.5139 - binary_accuracy: 0.7432 - val_loss: 0.5741 - val_binary_accuracy: 0.6923\n",
            "Epoch 50/100\n",
            "257/257 [==============================] - 0s 720us/step - loss: 0.5124 - binary_accuracy: 0.7471 - val_loss: 0.5731 - val_binary_accuracy: 0.6923\n",
            "Epoch 51/100\n",
            "257/257 [==============================] - 0s 710us/step - loss: 0.5116 - binary_accuracy: 0.7471 - val_loss: 0.5718 - val_binary_accuracy: 0.7077\n",
            "Epoch 52/100\n",
            "257/257 [==============================] - 0s 763us/step - loss: 0.5106 - binary_accuracy: 0.7510 - val_loss: 0.5730 - val_binary_accuracy: 0.7077\n",
            "Epoch 53/100\n",
            "257/257 [==============================] - 0s 726us/step - loss: 0.5098 - binary_accuracy: 0.7510 - val_loss: 0.5726 - val_binary_accuracy: 0.7231\n",
            "Epoch 54/100\n",
            "257/257 [==============================] - 0s 714us/step - loss: 0.5084 - binary_accuracy: 0.7471 - val_loss: 0.5711 - val_binary_accuracy: 0.7231\n",
            "Epoch 55/100\n",
            "257/257 [==============================] - 0s 731us/step - loss: 0.5077 - binary_accuracy: 0.7471 - val_loss: 0.5711 - val_binary_accuracy: 0.7385\n",
            "Epoch 56/100\n",
            "257/257 [==============================] - 0s 714us/step - loss: 0.5066 - binary_accuracy: 0.7549 - val_loss: 0.5700 - val_binary_accuracy: 0.7385\n",
            "Epoch 57/100\n",
            "257/257 [==============================] - 0s 738us/step - loss: 0.5053 - binary_accuracy: 0.7510 - val_loss: 0.5706 - val_binary_accuracy: 0.7385\n",
            "Epoch 58/100\n",
            "257/257 [==============================] - 0s 737us/step - loss: 0.5043 - binary_accuracy: 0.7510 - val_loss: 0.5704 - val_binary_accuracy: 0.7385\n",
            "Epoch 59/100\n",
            "257/257 [==============================] - 0s 723us/step - loss: 0.5027 - binary_accuracy: 0.7588 - val_loss: 0.5697 - val_binary_accuracy: 0.7385\n",
            "Epoch 60/100\n",
            "257/257 [==============================] - 0s 716us/step - loss: 0.5020 - binary_accuracy: 0.7432 - val_loss: 0.5686 - val_binary_accuracy: 0.7538\n",
            "Epoch 61/100\n",
            "257/257 [==============================] - 0s 744us/step - loss: 0.5011 - binary_accuracy: 0.7549 - val_loss: 0.5680 - val_binary_accuracy: 0.7538\n",
            "Epoch 62/100\n",
            "257/257 [==============================] - 0s 776us/step - loss: 0.4994 - binary_accuracy: 0.7549 - val_loss: 0.5670 - val_binary_accuracy: 0.7538\n",
            "Epoch 63/100\n",
            "257/257 [==============================] - 0s 725us/step - loss: 0.4996 - binary_accuracy: 0.7626 - val_loss: 0.5675 - val_binary_accuracy: 0.7538\n",
            "Epoch 64/100\n",
            "257/257 [==============================] - 0s 686us/step - loss: 0.4972 - binary_accuracy: 0.7588 - val_loss: 0.5675 - val_binary_accuracy: 0.7538\n",
            "Epoch 65/100\n",
            "257/257 [==============================] - 0s 724us/step - loss: 0.4961 - binary_accuracy: 0.7704 - val_loss: 0.5688 - val_binary_accuracy: 0.7538\n",
            "Epoch 66/100\n",
            "257/257 [==============================] - 0s 730us/step - loss: 0.4949 - binary_accuracy: 0.7626 - val_loss: 0.5686 - val_binary_accuracy: 0.7692\n",
            "Epoch 67/100\n",
            "257/257 [==============================] - 0s 724us/step - loss: 0.4936 - binary_accuracy: 0.7549 - val_loss: 0.5670 - val_binary_accuracy: 0.7538\n",
            "Epoch 68/100\n",
            "257/257 [==============================] - 0s 742us/step - loss: 0.4926 - binary_accuracy: 0.7626 - val_loss: 0.5686 - val_binary_accuracy: 0.7538\n",
            "Epoch 69/100\n",
            "257/257 [==============================] - 0s 703us/step - loss: 0.4916 - binary_accuracy: 0.7588 - val_loss: 0.5685 - val_binary_accuracy: 0.7538\n",
            "Epoch 70/100\n",
            "257/257 [==============================] - 0s 709us/step - loss: 0.4898 - binary_accuracy: 0.7665 - val_loss: 0.5690 - val_binary_accuracy: 0.7692\n",
            "Epoch 71/100\n",
            "257/257 [==============================] - 0s 715us/step - loss: 0.4888 - binary_accuracy: 0.7704 - val_loss: 0.5683 - val_binary_accuracy: 0.7538\n",
            "Epoch 72/100\n",
            "257/257 [==============================] - 0s 697us/step - loss: 0.4876 - binary_accuracy: 0.7665 - val_loss: 0.5661 - val_binary_accuracy: 0.7538\n",
            "Epoch 73/100\n",
            "257/257 [==============================] - 0s 748us/step - loss: 0.4878 - binary_accuracy: 0.7626 - val_loss: 0.5658 - val_binary_accuracy: 0.7538\n",
            "Epoch 74/100\n",
            "257/257 [==============================] - 0s 779us/step - loss: 0.4861 - binary_accuracy: 0.7704 - val_loss: 0.5666 - val_binary_accuracy: 0.7538\n",
            "Epoch 75/100\n",
            "257/257 [==============================] - 0s 739us/step - loss: 0.4853 - binary_accuracy: 0.7626 - val_loss: 0.5642 - val_binary_accuracy: 0.7385\n",
            "Epoch 76/100\n",
            "257/257 [==============================] - 0s 708us/step - loss: 0.4839 - binary_accuracy: 0.7626 - val_loss: 0.5643 - val_binary_accuracy: 0.7385\n",
            "Epoch 77/100\n",
            "257/257 [==============================] - 0s 719us/step - loss: 0.4833 - binary_accuracy: 0.7626 - val_loss: 0.5646 - val_binary_accuracy: 0.7385\n",
            "Epoch 78/100\n",
            "257/257 [==============================] - 0s 689us/step - loss: 0.4824 - binary_accuracy: 0.7588 - val_loss: 0.5650 - val_binary_accuracy: 0.7385\n",
            "Epoch 79/100\n",
            "257/257 [==============================] - 0s 750us/step - loss: 0.4821 - binary_accuracy: 0.7626 - val_loss: 0.5653 - val_binary_accuracy: 0.7385\n",
            "Epoch 80/100\n",
            "257/257 [==============================] - 0s 698us/step - loss: 0.4810 - binary_accuracy: 0.7665 - val_loss: 0.5653 - val_binary_accuracy: 0.7385\n",
            "Epoch 81/100\n",
            "257/257 [==============================] - 0s 706us/step - loss: 0.4801 - binary_accuracy: 0.7665 - val_loss: 0.5662 - val_binary_accuracy: 0.7385\n",
            "Epoch 82/100\n",
            "257/257 [==============================] - 0s 701us/step - loss: 0.4801 - binary_accuracy: 0.7626 - val_loss: 0.5656 - val_binary_accuracy: 0.7385\n",
            "Epoch 83/100\n",
            "257/257 [==============================] - 0s 714us/step - loss: 0.4787 - binary_accuracy: 0.7665 - val_loss: 0.5672 - val_binary_accuracy: 0.7385\n",
            "Epoch 84/100\n",
            "257/257 [==============================] - 0s 754us/step - loss: 0.4781 - binary_accuracy: 0.7704 - val_loss: 0.5673 - val_binary_accuracy: 0.7385\n",
            "Epoch 85/100\n",
            "257/257 [==============================] - 0s 711us/step - loss: 0.4779 - binary_accuracy: 0.7704 - val_loss: 0.5673 - val_binary_accuracy: 0.7385\n",
            "Epoch 86/100\n",
            "257/257 [==============================] - 0s 712us/step - loss: 0.4766 - binary_accuracy: 0.7704 - val_loss: 0.5679 - val_binary_accuracy: 0.7538\n",
            "Epoch 87/100\n",
            "257/257 [==============================] - 0s 712us/step - loss: 0.4759 - binary_accuracy: 0.7704 - val_loss: 0.5675 - val_binary_accuracy: 0.7385\n",
            "Epoch 88/100\n",
            "257/257 [==============================] - 0s 719us/step - loss: 0.4753 - binary_accuracy: 0.7704 - val_loss: 0.5677 - val_binary_accuracy: 0.7385\n",
            "Epoch 89/100\n",
            "257/257 [==============================] - 0s 723us/step - loss: 0.4746 - binary_accuracy: 0.7704 - val_loss: 0.5682 - val_binary_accuracy: 0.7385\n",
            "Epoch 90/100\n",
            "257/257 [==============================] - 0s 757us/step - loss: 0.4741 - binary_accuracy: 0.7743 - val_loss: 0.5687 - val_binary_accuracy: 0.7385\n",
            "Epoch 91/100\n",
            "257/257 [==============================] - 0s 715us/step - loss: 0.4736 - binary_accuracy: 0.7743 - val_loss: 0.5675 - val_binary_accuracy: 0.7385\n",
            "Epoch 92/100\n",
            "257/257 [==============================] - 0s 699us/step - loss: 0.4735 - binary_accuracy: 0.7782 - val_loss: 0.5678 - val_binary_accuracy: 0.7385\n",
            "Epoch 93/100\n",
            "257/257 [==============================] - 0s 711us/step - loss: 0.4717 - binary_accuracy: 0.7743 - val_loss: 0.5696 - val_binary_accuracy: 0.7385\n",
            "Epoch 94/100\n",
            "257/257 [==============================] - 0s 709us/step - loss: 0.4703 - binary_accuracy: 0.7782 - val_loss: 0.5684 - val_binary_accuracy: 0.7538\n",
            "Epoch 95/100\n",
            "257/257 [==============================] - 0s 754us/step - loss: 0.4706 - binary_accuracy: 0.7782 - val_loss: 0.5669 - val_binary_accuracy: 0.7538\n",
            "Epoch 96/100\n",
            "257/257 [==============================] - 0s 727us/step - loss: 0.4691 - binary_accuracy: 0.7782 - val_loss: 0.5690 - val_binary_accuracy: 0.7538\n",
            "Epoch 97/100\n",
            "257/257 [==============================] - 0s 695us/step - loss: 0.4677 - binary_accuracy: 0.7821 - val_loss: 0.5680 - val_binary_accuracy: 0.7692\n",
            "Epoch 98/100\n",
            "257/257 [==============================] - 0s 699us/step - loss: 0.4667 - binary_accuracy: 0.7860 - val_loss: 0.5678 - val_binary_accuracy: 0.7692\n",
            "Epoch 99/100\n",
            "257/257 [==============================] - 0s 699us/step - loss: 0.4664 - binary_accuracy: 0.7860 - val_loss: 0.5688 - val_binary_accuracy: 0.7692\n",
            "Epoch 100/100\n",
            "257/257 [==============================] - 0s 716us/step - loss: 0.4646 - binary_accuracy: 0.7860 - val_loss: 0.5678 - val_binary_accuracy: 0.7538\n"
          ],
          "name": "stdout"
        },
        {
          "output_type": "display_data",
          "data": {
            "image/png": "[encoded data removed]",
            "text/plain": [
              "<Figure size 432x288 with 1 Axes>"
            ]
          },
          "metadata": {
            "tags": []
          }
        },
        {
          "output_type": "display_data",
          "data": {
            "image/png": "[encoded data removed]",
            "text/plain": [
              "<Figure size 432x288 with 1 Axes>"
            ]
          },
          "metadata": {
            "tags": []
          }
        }
      ]
    },
    {
      "cell_type": "code",
      "metadata": {
        "id": "IgxJDUPWegCY",
        "colab_type": "code",
        "outputId": "7989d4d8-52d3-4003-94f7-2d2344452a23",
        "colab": {
          "base_uri": "https://localhost:8080/",
          "height": 50
        }
      },
      "source": [
        "eval_model=model.evaluate(X_train_dl, y_train_dl)\n",
        "eval_model"
      ],
      "execution_count": 262,
      "outputs": [
        {
          "output_type": "stream",
          "text": [
            "322/322 [==============================] - 0s 79us/step\n"
          ],
          "name": "stdout"
        },
        {
          "output_type": "execute_result",
          "data": {
            "text/plain": [
              "[0.48428134888595675, 0.782608695652174]"
            ]
          },
          "metadata": {
            "tags": []
          },
          "execution_count": 262
        }
      ]
    },
    {
      "cell_type": "markdown",
      "metadata": {
        "id": "bvMe47-zxCUO",
        "colab_type": "text"
      },
      "source": [
        "Vamos a comprobar los resultados obtenidos en la red neuronal y mostrarla en una matriz de confusión. Como podemos observar, con el conjunto de test obtenemos un accuracy de 0.72 y una precisión de 0.71."
      ]
    },
    {
      "cell_type": "code",
      "metadata": {
        "id": "-b01mfv4fihR",
        "colab_type": "code",
        "colab": {
          "base_uri": "https://localhost:8080/",
          "height": 234
        },
        "outputId": "3f0291f8-ac6a-42dc-b1a4-bea6099f4eef"
      },
      "source": [
        "model.summary()"
      ],
      "execution_count": 265,
      "outputs": [
        {
          "output_type": "stream",
          "text": [
            "_________________________________________________________________\n",
            "Layer (type)                 Output Shape              Param #   \n",
            "=================================================================\n",
            "dense_52 (Dense)             (None, 4)                 36        \n",
            "_________________________________________________________________\n",
            "dense_53 (Dense)             (None, 4)                 20        \n",
            "_________________________________________________________________\n",
            "dense_54 (Dense)             (None, 1)                 5         \n",
            "=================================================================\n",
            "Total params: 61\n",
            "Trainable params: 61\n",
            "Non-trainable params: 0\n",
            "_________________________________________________________________\n"
          ],
          "name": "stdout"
        }
      ]
    },
    {
      "cell_type": "code",
      "metadata": {
        "id": "rK8azRAHegAS",
        "colab_type": "code",
        "outputId": "2a0a6b60-5d3f-48ae-95c3-e9dd3e772337",
        "colab": {
          "base_uri": "https://localhost:8080/",
          "height": 50
        }
      },
      "source": [
        "y_pred_dl=model.predict(X_test_dl)\n",
        "y_pred_dl =(y_pred_dl>0.5)\n",
        "cm = confusion_matrix(y_test_dl, y_pred_dl)\n",
        "print(cm)"
      ],
      "execution_count": 263,
      "outputs": [
        {
          "output_type": "stream",
          "text": [
            "[[53 19]\n",
            " [17 50]]\n"
          ],
          "name": "stdout"
        }
      ]
    },
    {
      "cell_type": "code",
      "metadata": {
        "id": "kFx-0OrwxnMx",
        "colab_type": "code",
        "outputId": "664d819a-3d56-4312-ebed-6c29684adc81",
        "colab": {
          "base_uri": "https://localhost:8080/",
          "height": 67
        }
      },
      "source": [
        "Accuracy = (cm[0][0] + cm[1][1]) / (cm[0][0] + cm[1][1] + cm[1][0] + cm[0][1])\n",
        "print (\"El accuracy es \" + str(Accuracy))\n",
        "Precission = (cm[0][0]) / (cm[0][0] + cm[0][1])\n",
        "print (\"La precisión es \" + str(Precission))\n",
        "Precission_2 = (cm[1][1]) / (cm[1][1] + cm[1][0])\n",
        "print (\"La precisión es \" + str(Precission_2))"
      ],
      "execution_count": 267,
      "outputs": [
        {
          "output_type": "stream",
          "text": [
            "El accuracy es 0.7410071942446043\n",
            "La precisión es 0.7361111111111112\n",
            "La precisión es 0.746268656716418\n"
          ],
          "name": "stdout"
        }
      ]
    },
    {
      "cell_type": "markdown",
      "metadata": {
        "id": "fR6Twjx_y_KX",
        "colab_type": "text"
      },
      "source": [
        "Para hacer una comprobación final, vamos a entrenar el XGBoost con un train_test_split para compararlo con los resultado obtenidos con la red neuronal."
      ]
    },
    {
      "cell_type": "code",
      "metadata": {
        "id": "H-WqV2v7ef-Q",
        "colab_type": "code",
        "colab": {}
      },
      "source": [
        "X_train, X_test, y_train, y_test = train_test_split(x_upgrade, y, test_size=0.3)"
      ],
      "execution_count": 0,
      "outputs": []
    },
    {
      "cell_type": "code",
      "metadata": {
        "id": "c0Zluv2I6PAK",
        "colab_type": "code",
        "colab": {}
      },
      "source": [
        "xgb_clas = GridSearchCV(XGBClassifier(),\n",
        "                      param_grid = {'max_depth': np.arange(2,10),\n",
        "                                   \"learning_rate\": np.arange(0.04, 0.32, 0.04),\n",
        "                                   \"n_estimators\": np.arange(100, 150, 10)},\n",
        "                      cv = 10,\n",
        "                      scoring = 'accuracy',\n",
        "                      n_jobs = -1\n",
        "         )"
      ],
      "execution_count": 0,
      "outputs": []
    },
    {
      "cell_type": "code",
      "metadata": {
        "id": "7kjLWP1yy85_",
        "colab_type": "code",
        "outputId": "565a412a-88f1-4a04-d8d7-bc69c8af7923",
        "colab": {
          "base_uri": "https://localhost:8080/",
          "height": 354
        }
      },
      "source": [
        "xgb_clas.fit(X_train, y_train)"
      ],
      "execution_count": 270,
      "outputs": [
        {
          "output_type": "stream",
          "text": [
            "/usr/local/lib/python3.6/dist-packages/sklearn/model_selection/_search.py:813: DeprecationWarning: The default of the `iid` parameter will change from True to False in version 0.22 and will be removed in 0.24. This will change numeric results when test-set sizes are unequal.\n",
            "  DeprecationWarning)\n"
          ],
          "name": "stderr"
        },
        {
          "output_type": "execute_result",
          "data": {
            "text/plain": [
              "GridSearchCV(cv=10, error_score='raise-deprecating',\n",
              "             estimator=XGBClassifier(base_score=0.5, booster='gbtree',\n",
              "                                     colsample_bylevel=1, colsample_bynode=1,\n",
              "                                     colsample_bytree=1, gamma=0,\n",
              "                                     learning_rate=0.1, max_delta_step=0,\n",
              "                                     max_depth=3, min_child_weight=1,\n",
              "                                     missing=None, n_estimators=100, n_jobs=1,\n",
              "                                     nthread=None, objective='binary:logistic',\n",
              "                                     random_state=0, reg_alpha=0, reg_lambda=1,\n",
              "                                     scale_pos_weight=1, seed=None, silent=None,\n",
              "                                     subsample=1, verbosity=1),\n",
              "             iid='warn', n_jobs=-1,\n",
              "             param_grid={'learning_rate': array([0.04, 0.08, 0.12, 0.16, 0.2 , 0.24, 0.28, 0.32]),\n",
              "                         'max_depth': array([2, 3, 4, 5, 6, 7, 8, 9]),\n",
              "                         'n_estimators': array([100, 110, 120, 130, 140])},\n",
              "             pre_dispatch='2*n_jobs', refit=True, return_train_score=False,\n",
              "             scoring='accuracy', verbose=0)"
            ]
          },
          "metadata": {
            "tags": []
          },
          "execution_count": 270
        }
      ]
    },
    {
      "cell_type": "code",
      "metadata": {
        "id": "P2GcIfUSy81x",
        "colab_type": "code",
        "outputId": "8acd8a5c-24e8-4627-cf77-a2bd0ef15630",
        "colab": {
          "base_uri": "https://localhost:8080/",
          "height": 50
        }
      },
      "source": [
        "y_result = xgb_clas.best_estimator_.predict(X_test)\n",
        "cm_xgb = confusion_matrix(y_test, y_result)\n",
        "print(cm_xgb)"
      ],
      "execution_count": 272,
      "outputs": [
        {
          "output_type": "stream",
          "text": [
            "[[55 19]\n",
            " [17 48]]\n"
          ],
          "name": "stdout"
        }
      ]
    },
    {
      "cell_type": "markdown",
      "metadata": {
        "id": "GdOesX8L4Wwf",
        "colab_type": "text"
      },
      "source": [
        "Como se puede observar, en una prueba real las métricas del XGBoost bajan debido a que se ha producido cierto OverFitting durante el entrenamiento."
      ]
    },
    {
      "cell_type": "code",
      "metadata": {
        "id": "uikfm6sYy8y9",
        "colab_type": "code",
        "outputId": "0c330c8e-132d-4d1b-8e3e-e5da3cb95cf7",
        "colab": {
          "base_uri": "https://localhost:8080/",
          "height": 50
        }
      },
      "source": [
        "Accuracy = (cm_xgb[0][0] + cm_xgb[1][1]) / (cm_xgb[0][0] + cm_xgb[1][1] + cm_xgb[1][0] + cm_xgb[0][1])\n",
        "print (\"El accuracy es \" + str(Accuracy))\n",
        "Precission = (cm_xgb[0][0]) / (cm_xgb[0][0] + cm_xgb[0][1])\n",
        "print (\"La precisión es \" + str(Precission))"
      ],
      "execution_count": 273,
      "outputs": [
        {
          "output_type": "stream",
          "text": [
            "El accuracy es 0.7410071942446043\n",
            "La precisión es 0.7432432432432432\n"
          ],
          "name": "stdout"
        }
      ]
    },
    {
      "cell_type": "code",
      "metadata": {
        "id": "CXFslnk2y8w2",
        "colab_type": "code",
        "colab": {}
      },
      "source": [
        ""
      ],
      "execution_count": 0,
      "outputs": []
    },
    {
      "cell_type": "code",
      "metadata": {
        "id": "ClJ9ApX1y8uU",
        "colab_type": "code",
        "colab": {}
      },
      "source": [
        ""
      ],
      "execution_count": 0,
      "outputs": []
    }
  ]
}