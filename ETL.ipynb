{
  "nbformat": 4,
  "nbformat_minor": 0,
  "metadata": {
    "colab": {
      "name": "ETL.ipynb",
      "version": "0.3.2",
      "provenance": [],
      "collapsed_sections": [],
      "include_colab_link": true
    },
    "kernelspec": {
      "name": "python3",
      "display_name": "Python 3"
    },
    "accelerator": "GPU"
  },
  "cells": [
    {
      "cell_type": "markdown",
      "metadata": {
        "id": "view-in-github",
        "colab_type": "text"
      },
      "source": [
        "<a href=\"https://colab.research.google.com/github/diegoalvzfdez/master-data-science/blob/master/ETL.ipynb\" target=\"_parent\"><img src=\"https://colab.research.google.com/assets/colab-badge.svg\" alt=\"Open In Colab\"/></a>"
      ]
    },
    {
      "cell_type": "code",
      "metadata": {
        "id": "uEQAapFAk8lS",
        "colab_type": "code",
        "outputId": "c365a0a7-a25f-4899-e54b-ec39a35c6105",
        "colab": {
          "base_uri": "https://localhost:8080/",
          "height": 120
        }
      },
      "source": [
        "import pandas as pd\n",
        "\n",
        "#Obtenemos los datos guardados en la nube de Google Drive\n",
        "from google.colab import drive\n",
        "drive.mount('/content/drive')\n"
      ],
      "execution_count": 1,
      "outputs": [
        {
          "output_type": "stream",
          "text": [
            "Go to this URL in a browser: https://accounts.google.com/o/oauth2/auth?client_id=947318989803-6bn6qk8qdgf4n4g3pfee6491hc0brc4i.apps.googleusercontent.com&redirect_uri=urn%3Aietf%3Awg%3Aoauth%3A2.0%3Aoob&scope=email%20https%3A%2F%2Fwww.googleapis.com%2Fauth%2Fdocs.test%20https%3A%2F%2Fwww.googleapis.com%2Fauth%2Fdrive%20https%3A%2F%2Fwww.googleapis.com%2Fauth%2Fdrive.photos.readonly%20https%3A%2F%2Fwww.googleapis.com%2Fauth%2Fpeopleapi.readonly&response_type=code\n",
            "\n",
            "Enter your authorization code:\n",
            "··········\n",
            "Mounted at /content/drive\n"
          ],
          "name": "stdout"
        }
      ]
    },
    {
      "cell_type": "code",
      "metadata": {
        "id": "vi4d_dNIltCZ",
        "colab_type": "code",
        "outputId": "509ffc6c-62f8-4777-b2b6-e474abd990f6",
        "colab": {
          "base_uri": "https://localhost:8080/",
          "height": 33
        }
      },
      "source": [
        "cd /content/drive/My\\ Drive/TFM\\ Data\\ Science/Gonzalo\\ Velarde"
      ],
      "execution_count": 2,
      "outputs": [
        {
          "output_type": "stream",
          "text": [
            "/content/drive/My Drive/TFM Data Science/Gonzalo Velarde\n"
          ],
          "name": "stdout"
        }
      ]
    },
    {
      "cell_type": "code",
      "metadata": {
        "id": "nH08nIOJn0gV",
        "colab_type": "code",
        "colab": {}
      },
      "source": [
        "#leemos el fichero\n",
        "df = pd.read_csv('Velarde Rodriguez_Gonzalo_OD_31052017_120629_ELE.CSV', sep = ';', index_col= 0, header = 0, encoding = \"ISO-8859-1\")"
      ],
      "execution_count": 0,
      "outputs": []
    },
    {
      "cell_type": "markdown",
      "metadata": {
        "id": "gABWePgxqRB3",
        "colab_type": "text"
      },
      "source": [
        "Tenemos un fichero con la siguiente forma:\n",
        "\n",
        "![](https://drive.google.com/uc?export=view&id=15UODzawnIyQqmrKIcTLwNOBOkcjqJh28)\n",
        "\n",
        "Lo que tenemos es una representación de la profundidad de un ojo (eje z) en las coordenadas x (primera columna) y coordenadas y (primera fila)\n",
        "\n",
        "Para poder manejar estos datos, en primer lugar buscaremos una manera de poder tener los datos más significativos de la manera más comoda para introducirlos en un clasificador.\n",
        "\n",
        "En esta zona apuntaré las ideas que se me vayan ocurriendo para tratar dicha problemática (esperemos que no tener que escribir muchas):\n",
        "\n",
        "1. Conseguir un vector de los n puntos con mayor profundidad: para ello vamos a tener que stackear los datos para conseguir todos los valores en una misma columna para después ordenarlos. (descartada)\n",
        "\n",
        "2. Desechar la idea de introducir un vector de puntos e intentar definir el ojo del paciente mediante parámetros que nos permitan entrenar un sistema de clasificación. Si introducimos una gran cantidad de parámetros, generaremos una gran cantidad de ruido innecesario que nos impedirá entrenar el sistema de una manera eficiente."
      ]
    },
    {
      "cell_type": "markdown",
      "metadata": {
        "id": "9a88_qoRh-cf",
        "colab_type": "text"
      },
      "source": [
        "# Idea 2"
      ]
    },
    {
      "cell_type": "markdown",
      "metadata": {
        "id": "NtR6ZQKfiEPw",
        "colab_type": "text"
      },
      "source": [
        "Para este caso vamos a intentar definir los parámetros más característicos que nos permitan entrenar el sistema de clasificación de la manera más eficiente. Los valores que vamos a definir son:\n",
        "\n",
        "- Punto de máxima elevación\n",
        "- Máxima curvatura (esta está definida mediante el radio de curvatura, por lo que a menor radio, mayor curvatura, por lo que nos quedaremos con el menor valor)\n",
        "- Máxima desviación de la curvatura (en un ojo sano, la diferencia entre la menor curvatura y la mayor curvatura es pequeña, siendo en el caso de un ojo con queratocono más grande y por lo tanto un parámetro más a estudiar)\n",
        "- Media de la elevación del ojo (en un ojo sano, la media de la elevación va a ser menor que en el caso de un ojo con queratocono, ya que existen valores más elevados. Además nos da una referencia de la distribución de la elevación de todo el ojo, sin estar definido unicamente por la máxima elevación)\n",
        "- Media de la curvatura del ojo (en un ojo sano, esta media debe de estar casi siempre dentro de unos límites. En el caso de un ojo con queratocono, esta media nos permitirá definir como se distrubuyen las curvaturas en dicho ojo)\n",
        "- Edad\n",
        "- K máxima\n",
        "- Paqui más fina\n"
      ]
    },
    {
      "cell_type": "code",
      "metadata": {
        "id": "ZN0udn2bkLeZ",
        "colab_type": "code",
        "colab": {}
      },
      "source": [
        "#Generamos los vectores que nos permitirán entrenar nuestro futuro sistema de clasificación\n",
        "\n",
        "x_train = []\n",
        "y_train = []"
      ],
      "execution_count": 0,
      "outputs": []
    },
    {
      "cell_type": "code",
      "metadata": {
        "id": "SEyQ8oci2KSP",
        "colab_type": "code",
        "colab": {}
      },
      "source": [
        "#generamos los parámetros necesarios para el fichero de elevación\n",
        "\n",
        "df_ele = pd.read_csv('Velarde Rodriguez_Gonzalo_OD_31052017_120629_ELE.CSV', sep = ';', index_col= 0, header = 0, encoding = \"ISO-8859-1\")"
      ],
      "execution_count": 0,
      "outputs": []
    },
    {
      "cell_type": "code",
      "metadata": {
        "id": "R8Joc0SW2KQh",
        "colab_type": "code",
        "outputId": "8ddb7790-3c64-43a0-b204-d5dfdeb5ca02",
        "colab": {
          "base_uri": "https://localhost:8080/",
          "height": 196
        }
      },
      "source": [
        "#Stackeamos los datos para obtener las coordenadas de cada punto\n",
        "df_ele_stacked = df_ele.stack()\n",
        "df_ele_stacked = df_ele_stacked.reset_index()\n",
        "df_ele_stacked = df_ele_stacked.rename(index = str, columns = {'FRONT': 'X', 'level_1': 'Y', 0: 'Z'})\n",
        "#necesitamos una columna que simule el índice del dataframe\n",
        "df_ele_stacked['ID'] = df_ele_stacked.index\n",
        "df_ele_stacked['ID'] = pd.to_numeric(df_ele_stacked['ID'])\n",
        "df_ele_stacked.head()"
      ],
      "execution_count": 6,
      "outputs": [
        {
          "output_type": "execute_result",
          "data": {
            "text/html": [
              "<div>\n",
              "<style scoped>\n",
              "    .dataframe tbody tr th:only-of-type {\n",
              "        vertical-align: middle;\n",
              "    }\n",
              "\n",
              "    .dataframe tbody tr th {\n",
              "        vertical-align: top;\n",
              "    }\n",
              "\n",
              "    .dataframe thead th {\n",
              "        text-align: right;\n",
              "    }\n",
              "</style>\n",
              "<table border=\"1\" class=\"dataframe\">\n",
              "  <thead>\n",
              "    <tr style=\"text-align: right;\">\n",
              "      <th></th>\n",
              "      <th>X</th>\n",
              "      <th>Y</th>\n",
              "      <th>Z</th>\n",
              "      <th>ID</th>\n",
              "    </tr>\n",
              "  </thead>\n",
              "  <tbody>\n",
              "    <tr>\n",
              "      <th>0</th>\n",
              "      <td>5,200</td>\n",
              "      <td>-0,900</td>\n",
              "      <td>1967</td>\n",
              "      <td>0</td>\n",
              "    </tr>\n",
              "    <tr>\n",
              "      <th>1</th>\n",
              "      <td>5,200</td>\n",
              "      <td>-0,800</td>\n",
              "      <td>1954</td>\n",
              "      <td>1</td>\n",
              "    </tr>\n",
              "    <tr>\n",
              "      <th>2</th>\n",
              "      <td>5,200</td>\n",
              "      <td>-0,700</td>\n",
              "      <td>1943</td>\n",
              "      <td>2</td>\n",
              "    </tr>\n",
              "    <tr>\n",
              "      <th>3</th>\n",
              "      <td>5,200</td>\n",
              "      <td>-0,600</td>\n",
              "      <td>1933</td>\n",
              "      <td>3</td>\n",
              "    </tr>\n",
              "    <tr>\n",
              "      <th>4</th>\n",
              "      <td>5,200</td>\n",
              "      <td>-0,500</td>\n",
              "      <td>1925</td>\n",
              "      <td>4</td>\n",
              "    </tr>\n",
              "  </tbody>\n",
              "</table>\n",
              "</div>"
            ],
            "text/plain": [
              "       X       Y     Z  ID\n",
              "0  5,200  -0,900  1967   0\n",
              "1  5,200  -0,800  1954   1\n",
              "2  5,200  -0,700  1943   2\n",
              "3  5,200  -0,600  1933   3\n",
              "4  5,200  -0,500  1925   4"
            ]
          },
          "metadata": {
            "tags": []
          },
          "execution_count": 6
        }
      ]
    },
    {
      "cell_type": "code",
      "metadata": {
        "id": "Z4ZqBXti2KO9",
        "colab_type": "code",
        "outputId": "a7237bcb-6618-4848-dab4-02257191ab82",
        "colab": {
          "base_uri": "https://localhost:8080/",
          "height": 198
        }
      },
      "source": [
        "df_ele_stacked_front = df_ele_stacked[df_ele_stacked['ID'] < list(df_ele_stacked[df_ele_stacked['X'] == 'BACK']['ID'])[0]]\n",
        "df_ele_stacked_front.tail()"
      ],
      "execution_count": 0,
      "outputs": [
        {
          "output_type": "execute_result",
          "data": {
            "text/html": [
              "<div>\n",
              "<style scoped>\n",
              "    .dataframe tbody tr th:only-of-type {\n",
              "        vertical-align: middle;\n",
              "    }\n",
              "\n",
              "    .dataframe tbody tr th {\n",
              "        vertical-align: top;\n",
              "    }\n",
              "\n",
              "    .dataframe thead th {\n",
              "        text-align: right;\n",
              "    }\n",
              "</style>\n",
              "<table border=\"1\" class=\"dataframe\">\n",
              "  <thead>\n",
              "    <tr style=\"text-align: right;\">\n",
              "      <th></th>\n",
              "      <th>X</th>\n",
              "      <th>Y</th>\n",
              "      <th>Z</th>\n",
              "      <th>ID</th>\n",
              "    </tr>\n",
              "  </thead>\n",
              "  <tbody>\n",
              "    <tr>\n",
              "      <th>9973</th>\n",
              "      <td>-5,900</td>\n",
              "      <td>0,100</td>\n",
              "      <td>2650</td>\n",
              "      <td>9973</td>\n",
              "    </tr>\n",
              "    <tr>\n",
              "      <th>9974</th>\n",
              "      <td>-5,900</td>\n",
              "      <td>0,200</td>\n",
              "      <td>2653</td>\n",
              "      <td>9974</td>\n",
              "    </tr>\n",
              "    <tr>\n",
              "      <th>9975</th>\n",
              "      <td>-5,900</td>\n",
              "      <td>0,300</td>\n",
              "      <td>2658</td>\n",
              "      <td>9975</td>\n",
              "    </tr>\n",
              "    <tr>\n",
              "      <th>9976</th>\n",
              "      <td>-5,900</td>\n",
              "      <td>0,400</td>\n",
              "      <td>2665</td>\n",
              "      <td>9976</td>\n",
              "    </tr>\n",
              "    <tr>\n",
              "      <th>9977</th>\n",
              "      <td>-5,900</td>\n",
              "      <td>0,500</td>\n",
              "      <td>2674</td>\n",
              "      <td>9977</td>\n",
              "    </tr>\n",
              "  </tbody>\n",
              "</table>\n",
              "</div>"
            ],
            "text/plain": [
              "           X      Y     Z    ID\n",
              "9973  -5,900  0,100  2650  9973\n",
              "9974  -5,900  0,200  2653  9974\n",
              "9975  -5,900  0,300  2658  9975\n",
              "9976  -5,900  0,400  2665  9976\n",
              "9977  -5,900  0,500  2674  9977"
            ]
          },
          "metadata": {
            "tags": []
          },
          "execution_count": 10
        }
      ]
    },
    {
      "cell_type": "code",
      "metadata": {
        "id": "-kmGQw3U2KNC",
        "colab_type": "code",
        "outputId": "2e75b08c-e2cd-4081-9dfb-ec3b7eda7105",
        "colab": {
          "base_uri": "https://localhost:8080/",
          "height": 108
        }
      },
      "source": [
        "#Borramos las columnas que no nos son necesarias\n",
        "df_ele_stacked_front.drop(['X', 'Y', 'ID'], axis = 1, inplace = True)"
      ],
      "execution_count": 0,
      "outputs": [
        {
          "output_type": "stream",
          "text": [
            "/usr/local/lib/python3.6/dist-packages/pandas/core/frame.py:3940: SettingWithCopyWarning: \n",
            "A value is trying to be set on a copy of a slice from a DataFrame\n",
            "\n",
            "See the caveats in the documentation: http://pandas.pydata.org/pandas-docs/stable/indexing.html#indexing-view-versus-copy\n",
            "  errors=errors)\n"
          ],
          "name": "stderr"
        }
      ]
    },
    {
      "cell_type": "code",
      "metadata": {
        "id": "YqeeXBIMlubh",
        "colab_type": "code",
        "outputId": "fc419dc3-e8f5-41f9-9d6a-f160767b7388",
        "colab": {
          "base_uri": "https://localhost:8080/",
          "height": 235
        }
      },
      "source": [
        "#obtenemos el valor máximo de profundidad del ojo\n",
        "\n",
        "df_ele_stacked_front['Z'] = pd.to_numeric(df_ele_stacked_front['Z'])\n",
        "df_ele_stacked_front.sort_values('Z', ascending=False, inplace = True)\n",
        "maxima_profundidad = df_ele_stacked_front['Z'][0]\n",
        "print (maxima_profundidad)"
      ],
      "execution_count": 0,
      "outputs": [
        {
          "output_type": "stream",
          "text": [
            "2687\n"
          ],
          "name": "stdout"
        },
        {
          "output_type": "stream",
          "text": [
            "/usr/local/lib/python3.6/dist-packages/ipykernel_launcher.py:2: SettingWithCopyWarning: \n",
            "A value is trying to be set on a copy of a slice from a DataFrame.\n",
            "Try using .loc[row_indexer,col_indexer] = value instead\n",
            "\n",
            "See the caveats in the documentation: http://pandas.pydata.org/pandas-docs/stable/indexing.html#indexing-view-versus-copy\n",
            "  \n",
            "/usr/local/lib/python3.6/dist-packages/ipykernel_launcher.py:3: SettingWithCopyWarning: \n",
            "A value is trying to be set on a copy of a slice from a DataFrame\n",
            "\n",
            "See the caveats in the documentation: http://pandas.pydata.org/pandas-docs/stable/indexing.html#indexing-view-versus-copy\n",
            "  This is separate from the ipykernel package so we can avoid doing imports until\n"
          ],
          "name": "stderr"
        }
      ]
    },
    {
      "cell_type": "code",
      "metadata": {
        "id": "vx4VLXN62KJh",
        "colab_type": "code",
        "outputId": "85b987c4-945e-4134-b908-7564ef8a5d6e",
        "colab": {
          "base_uri": "https://localhost:8080/",
          "height": 126
        }
      },
      "source": [
        "#una vez obtenido el máximo valor de profundidad, modificamos el valor de todos los puntos para tenerlos obtener la bóveda sin invertir\n",
        "\n",
        "df_ele_stacked_front['Z'] = (1 - (df_ele_stacked_front['Z']/maxima_profundidad))*maxima_profundidad\n",
        "df_ele_stacked_front['Z'] = pd.to_numeric(df_ele_stacked_front['Z'])\n",
        "df_ele_stacked_front.sort_values('Z', ascending=False, inplace = True)"
      ],
      "execution_count": 0,
      "outputs": [
        {
          "output_type": "stream",
          "text": [
            "/usr/local/lib/python3.6/dist-packages/ipykernel_launcher.py:2: SettingWithCopyWarning: \n",
            "A value is trying to be set on a copy of a slice from a DataFrame.\n",
            "Try using .loc[row_indexer,col_indexer] = value instead\n",
            "\n",
            "See the caveats in the documentation: http://pandas.pydata.org/pandas-docs/stable/indexing.html#indexing-view-versus-copy\n",
            "  \n"
          ],
          "name": "stderr"
        }
      ]
    },
    {
      "cell_type": "code",
      "metadata": {
        "id": "A8AN2cxc2KF6",
        "colab_type": "code",
        "outputId": "431616d3-f3a3-4278-9a16-da94295f2b9b",
        "colab": {
          "base_uri": "https://localhost:8080/",
          "height": 35
        }
      },
      "source": [
        "#Obtenemos el punto de máxima elevación\n",
        "\n",
        "df_ele_stacked_front['Z'].max()"
      ],
      "execution_count": 0,
      "outputs": [
        {
          "output_type": "execute_result",
          "data": {
            "text/plain": [
              "2687.0"
            ]
          },
          "metadata": {
            "tags": []
          },
          "execution_count": 15
        }
      ]
    },
    {
      "cell_type": "code",
      "metadata": {
        "id": "m_SLYnPQnN_D",
        "colab_type": "code",
        "colab": {}
      },
      "source": [
        "x_train = []\n",
        "x_train_v = []"
      ],
      "execution_count": 0,
      "outputs": []
    },
    {
      "cell_type": "code",
      "metadata": {
        "id": "fE0N5v5TmPz2",
        "colab_type": "code",
        "colab": {}
      },
      "source": [
        "#añadimos dicho valor al vector x_train_v (vector virtual que nos permitirá añadir valores al vector de entrenamiento)\n",
        "x_train_v = []\n",
        "x_train_v.append(int(df_ele_stacked_front['Z'].max()))"
      ],
      "execution_count": 0,
      "outputs": []
    },
    {
      "cell_type": "code",
      "metadata": {
        "id": "B0PxTd5SmPyC",
        "colab_type": "code",
        "colab": {}
      },
      "source": [
        "#para obtener los valores que definen la curvatura, debemos importar el fichero de curvatura\n",
        "\n",
        "df_cur = pd.read_csv('Velarde Rodriguez_Gonzalo_OD_31052017_120629_CUR.CSV', sep = ';', index_col= 0, header = 0, encoding = \"ISO-8859-1\")"
      ],
      "execution_count": 0,
      "outputs": []
    },
    {
      "cell_type": "code",
      "metadata": {
        "id": "F2gQ6UesmPwG",
        "colab_type": "code",
        "outputId": "fdc53250-10a4-4bae-8d66-e15136aecb15",
        "colab": {
          "base_uri": "https://localhost:8080/",
          "height": 198
        }
      },
      "source": [
        "#realizamos las mismas transformaciones que con el fichero de elevación para poder obtener los valores que necesitamos\n",
        "\n",
        "#Stackeamos los datos para obtener las coordenadas de cada punto\n",
        "df_cur_stacked = df_cur.stack()\n",
        "df_cur_stacked = df_cur_stacked.reset_index()\n",
        "df_cur_stacked = df_cur_stacked.rename(index = str, columns = {'FRONT': 'X', 'level_1': 'Y', 0: 'Z'})\n",
        "#necesitamos una columna que simule el índice del dataframe\n",
        "df_cur_stacked['ID'] = df_cur_stacked.index\n",
        "df_cur_stacked['ID'] = pd.to_numeric(df_cur_stacked['ID'])\n",
        "df_cur_stacked.head()"
      ],
      "execution_count": 0,
      "outputs": [
        {
          "output_type": "execute_result",
          "data": {
            "text/html": [
              "<div>\n",
              "<style scoped>\n",
              "    .dataframe tbody tr th:only-of-type {\n",
              "        vertical-align: middle;\n",
              "    }\n",
              "\n",
              "    .dataframe tbody tr th {\n",
              "        vertical-align: top;\n",
              "    }\n",
              "\n",
              "    .dataframe thead th {\n",
              "        text-align: right;\n",
              "    }\n",
              "</style>\n",
              "<table border=\"1\" class=\"dataframe\">\n",
              "  <thead>\n",
              "    <tr style=\"text-align: right;\">\n",
              "      <th></th>\n",
              "      <th>X</th>\n",
              "      <th>Y</th>\n",
              "      <th>Z</th>\n",
              "      <th>ID</th>\n",
              "    </tr>\n",
              "  </thead>\n",
              "  <tbody>\n",
              "    <tr>\n",
              "      <th>0</th>\n",
              "      <td>5,200</td>\n",
              "      <td>-0,900</td>\n",
              "      <td>8,27</td>\n",
              "      <td>0</td>\n",
              "    </tr>\n",
              "    <tr>\n",
              "      <th>1</th>\n",
              "      <td>5,200</td>\n",
              "      <td>-0,800</td>\n",
              "      <td>8,25</td>\n",
              "      <td>1</td>\n",
              "    </tr>\n",
              "    <tr>\n",
              "      <th>2</th>\n",
              "      <td>5,200</td>\n",
              "      <td>-0,700</td>\n",
              "      <td>8,24</td>\n",
              "      <td>2</td>\n",
              "    </tr>\n",
              "    <tr>\n",
              "      <th>3</th>\n",
              "      <td>5,200</td>\n",
              "      <td>-0,600</td>\n",
              "      <td>8,22</td>\n",
              "      <td>3</td>\n",
              "    </tr>\n",
              "    <tr>\n",
              "      <th>4</th>\n",
              "      <td>5,200</td>\n",
              "      <td>-0,500</td>\n",
              "      <td>8,21</td>\n",
              "      <td>4</td>\n",
              "    </tr>\n",
              "  </tbody>\n",
              "</table>\n",
              "</div>"
            ],
            "text/plain": [
              "       X       Y     Z  ID\n",
              "0  5,200  -0,900  8,27   0\n",
              "1  5,200  -0,800  8,25   1\n",
              "2  5,200  -0,700  8,24   2\n",
              "3  5,200  -0,600  8,22   3\n",
              "4  5,200  -0,500  8,21   4"
            ]
          },
          "metadata": {
            "tags": []
          },
          "execution_count": 33
        }
      ]
    },
    {
      "cell_type": "code",
      "metadata": {
        "id": "6JLSTyD0mPuZ",
        "colab_type": "code",
        "outputId": "4988e6de-f304-4344-92d5-631eb34f6d49",
        "colab": {
          "base_uri": "https://localhost:8080/",
          "height": 198
        }
      },
      "source": [
        "df_cur_stacked_front = df_cur_stacked[df_cur_stacked['ID'] < list(df_cur_stacked[df_cur_stacked['X'] == 'BACK']['ID'])[0]]\n",
        "df_cur_stacked_front.tail()"
      ],
      "execution_count": 0,
      "outputs": [
        {
          "output_type": "execute_result",
          "data": {
            "text/html": [
              "<div>\n",
              "<style scoped>\n",
              "    .dataframe tbody tr th:only-of-type {\n",
              "        vertical-align: middle;\n",
              "    }\n",
              "\n",
              "    .dataframe tbody tr th {\n",
              "        vertical-align: top;\n",
              "    }\n",
              "\n",
              "    .dataframe thead th {\n",
              "        text-align: right;\n",
              "    }\n",
              "</style>\n",
              "<table border=\"1\" class=\"dataframe\">\n",
              "  <thead>\n",
              "    <tr style=\"text-align: right;\">\n",
              "      <th></th>\n",
              "      <th>X</th>\n",
              "      <th>Y</th>\n",
              "      <th>Z</th>\n",
              "      <th>ID</th>\n",
              "    </tr>\n",
              "  </thead>\n",
              "  <tbody>\n",
              "    <tr>\n",
              "      <th>9973</th>\n",
              "      <td>-5,900</td>\n",
              "      <td>0,100</td>\n",
              "      <td>7,98</td>\n",
              "      <td>9973</td>\n",
              "    </tr>\n",
              "    <tr>\n",
              "      <th>9974</th>\n",
              "      <td>-5,900</td>\n",
              "      <td>0,200</td>\n",
              "      <td>7,98</td>\n",
              "      <td>9974</td>\n",
              "    </tr>\n",
              "    <tr>\n",
              "      <th>9975</th>\n",
              "      <td>-5,900</td>\n",
              "      <td>0,300</td>\n",
              "      <td>7,98</td>\n",
              "      <td>9975</td>\n",
              "    </tr>\n",
              "    <tr>\n",
              "      <th>9976</th>\n",
              "      <td>-5,900</td>\n",
              "      <td>0,400</td>\n",
              "      <td>7,98</td>\n",
              "      <td>9976</td>\n",
              "    </tr>\n",
              "    <tr>\n",
              "      <th>9977</th>\n",
              "      <td>-5,900</td>\n",
              "      <td>0,500</td>\n",
              "      <td>7,98</td>\n",
              "      <td>9977</td>\n",
              "    </tr>\n",
              "  </tbody>\n",
              "</table>\n",
              "</div>"
            ],
            "text/plain": [
              "           X      Y     Z    ID\n",
              "9973  -5,900  0,100  7,98  9973\n",
              "9974  -5,900  0,200  7,98  9974\n",
              "9975  -5,900  0,300  7,98  9975\n",
              "9976  -5,900  0,400  7,98  9976\n",
              "9977  -5,900  0,500  7,98  9977"
            ]
          },
          "metadata": {
            "tags": []
          },
          "execution_count": 34
        }
      ]
    },
    {
      "cell_type": "code",
      "metadata": {
        "id": "esWl204pmPso",
        "colab_type": "code",
        "outputId": "567a34e9-1d81-4a61-929b-bd673b8964cf",
        "colab": {
          "base_uri": "https://localhost:8080/",
          "height": 108
        }
      },
      "source": [
        "#Borramos las columnas que no nos son necesarias\n",
        "df_cur_stacked_front.drop(['X', 'Y', 'ID'], axis = 1, inplace = True)"
      ],
      "execution_count": 0,
      "outputs": [
        {
          "output_type": "stream",
          "text": [
            "/usr/local/lib/python3.6/dist-packages/pandas/core/frame.py:3940: SettingWithCopyWarning: \n",
            "A value is trying to be set on a copy of a slice from a DataFrame\n",
            "\n",
            "See the caveats in the documentation: http://pandas.pydata.org/pandas-docs/stable/indexing.html#indexing-view-versus-copy\n",
            "  errors=errors)\n"
          ],
          "name": "stderr"
        }
      ]
    },
    {
      "cell_type": "code",
      "metadata": {
        "id": "DHaD6NwEmPqw",
        "colab_type": "code",
        "outputId": "70486465-675c-4d69-f65d-db6b1eac7056",
        "colab": {
          "base_uri": "https://localhost:8080/",
          "height": 326
        }
      },
      "source": [
        "df_cur_stacked_front['Z'] = df_cur_stacked_front['Z'].apply(lambda x: x.replace(',', '.'))\n",
        "df_cur_stacked_front['Z'] = pd.to_numeric(df_cur_stacked_front['Z'])\n",
        "df_cur_stacked_front.sort_values('Z', ascending=True, inplace = True)"
      ],
      "execution_count": 0,
      "outputs": [
        {
          "output_type": "stream",
          "text": [
            "/usr/local/lib/python3.6/dist-packages/ipykernel_launcher.py:1: SettingWithCopyWarning: \n",
            "A value is trying to be set on a copy of a slice from a DataFrame.\n",
            "Try using .loc[row_indexer,col_indexer] = value instead\n",
            "\n",
            "See the caveats in the documentation: http://pandas.pydata.org/pandas-docs/stable/indexing.html#indexing-view-versus-copy\n",
            "  \"\"\"Entry point for launching an IPython kernel.\n",
            "/usr/local/lib/python3.6/dist-packages/ipykernel_launcher.py:2: SettingWithCopyWarning: \n",
            "A value is trying to be set on a copy of a slice from a DataFrame.\n",
            "Try using .loc[row_indexer,col_indexer] = value instead\n",
            "\n",
            "See the caveats in the documentation: http://pandas.pydata.org/pandas-docs/stable/indexing.html#indexing-view-versus-copy\n",
            "  \n",
            "/usr/local/lib/python3.6/dist-packages/ipykernel_launcher.py:3: SettingWithCopyWarning: \n",
            "A value is trying to be set on a copy of a slice from a DataFrame\n",
            "\n",
            "See the caveats in the documentation: http://pandas.pydata.org/pandas-docs/stable/indexing.html#indexing-view-versus-copy\n",
            "  This is separate from the ipykernel package so we can avoid doing imports until\n"
          ],
          "name": "stderr"
        }
      ]
    },
    {
      "cell_type": "code",
      "metadata": {
        "id": "c65ThGZ8mPow",
        "colab_type": "code",
        "colab": {}
      },
      "source": [
        "#teniendo ya tratado el fichero de elevación, ya podemos introducir los valores necesarios para los parámetros de elevación\n",
        "\n",
        "#introducimos el valor de maxima curvatura\n",
        "x_train_v.append(float(df_cur_stacked_front.min()))"
      ],
      "execution_count": 0,
      "outputs": []
    },
    {
      "cell_type": "code",
      "metadata": {
        "id": "7ze5wkpbp3po",
        "colab_type": "code",
        "colab": {}
      },
      "source": [
        "#introducimos el valor de la mayor desviación de la curvatura\n",
        "\n",
        "x_train_v.append(float(df_cur_stacked_front.max()) - float(df_cur_stacked_front.min()))"
      ],
      "execution_count": 0,
      "outputs": []
    },
    {
      "cell_type": "code",
      "metadata": {
        "id": "rcwOlFFCp3oB",
        "colab_type": "code",
        "colab": {}
      },
      "source": [
        "#introducimos el valor de la media de las elevaciones\n",
        "\n",
        "x_train_v.append(float(df_ele_stacked_front['Z'].mean()))"
      ],
      "execution_count": 0,
      "outputs": []
    },
    {
      "cell_type": "code",
      "metadata": {
        "id": "3aw8skfEp3mI",
        "colab_type": "code",
        "colab": {}
      },
      "source": [
        "#introducimos el valor de la media de las curvaturas\n",
        "\n",
        "x_train_v.append(float(df_cur_stacked_front['Z'].mean()))"
      ],
      "execution_count": 0,
      "outputs": []
    },
    {
      "cell_type": "code",
      "metadata": {
        "id": "bG0Wk2RIp3kt",
        "colab_type": "code",
        "colab": {}
      },
      "source": [
        "#Obtenemos la edad del usuario\n",
        "\n",
        "fecha_de_nacimiento = df_ele_stacked[df_ele_stacked['X'] == 'DateOfBirth']['Z'].get_values()[0]"
      ],
      "execution_count": 0,
      "outputs": []
    },
    {
      "cell_type": "code",
      "metadata": {
        "id": "4J8m5LKGp3jB",
        "colab_type": "code",
        "colab": {}
      },
      "source": [
        "#convertimos la fecha a formato fecha\n",
        "\n",
        "import datetime\n",
        "\n",
        "fecha_de_nacimiento = datetime.datetime.strptime(fecha_de_nacimiento, '%d-%m-%Y')"
      ],
      "execution_count": 0,
      "outputs": []
    },
    {
      "cell_type": "code",
      "metadata": {
        "id": "Xc0Oo2EEp3hJ",
        "colab_type": "code",
        "colab": {}
      },
      "source": [
        "#Introducimos al vector la edad del paciente\n",
        "\n",
        "x_train_v.append(2019 - int(fecha_de_nacimiento.year))"
      ],
      "execution_count": 0,
      "outputs": []
    },
    {
      "cell_type": "code",
      "metadata": {
        "id": "VIkxdpq-p3ff",
        "colab_type": "code",
        "outputId": "c5365313-37d2-49e9-eeec-c764c79171ec",
        "colab": {
          "base_uri": "https://localhost:8080/",
          "height": 35
        }
      },
      "source": [
        "x_train_v"
      ],
      "execution_count": 0,
      "outputs": [
        {
          "output_type": "execute_result",
          "data": {
            "text/plain": [
              "[2687, 7.85, 1.42, 1585.9665263579875, 8.069427741030163, 30]"
            ]
          },
          "metadata": {
            "tags": []
          },
          "execution_count": 85
        }
      ]
    },
    {
      "cell_type": "code",
      "metadata": {
        "id": "K0CmkmYCp3eD",
        "colab_type": "code",
        "colab": {}
      },
      "source": [
        "#Introducimos la k máxima\n",
        "\n",
        "k_max = df_ele_stacked[df_ele_stacked['X'] == 'K Max (Front)']['Z'].get_values()[0]"
      ],
      "execution_count": 0,
      "outputs": []
    },
    {
      "cell_type": "code",
      "metadata": {
        "id": "x_Cqbv5Rz_6g",
        "colab_type": "code",
        "outputId": "13b2a21e-fd73-4024-cb1f-b90170f66ac6",
        "colab": {
          "base_uri": "https://localhost:8080/",
          "height": 35
        }
      },
      "source": [
        "k_max = k_max.replace(',','.')"
      ],
      "execution_count": 0,
      "outputs": [
        {
          "output_type": "execute_result",
          "data": {
            "text/plain": [
              "False"
            ]
          },
          "metadata": {
            "tags": []
          },
          "execution_count": 94
        }
      ]
    },
    {
      "cell_type": "code",
      "metadata": {
        "id": "iDXuCYqmp3aJ",
        "colab_type": "code",
        "colab": {}
      },
      "source": [
        "x_train_v.append(float(k_max))"
      ],
      "execution_count": 0,
      "outputs": []
    },
    {
      "cell_type": "code",
      "metadata": {
        "id": "-kGVhQSk0awT",
        "colab_type": "code",
        "outputId": "3b4de17a-eaee-41ff-cf8c-d2df7075b67d",
        "colab": {
          "base_uri": "https://localhost:8080/",
          "height": 35
        }
      },
      "source": [
        "x_train_v"
      ],
      "execution_count": 0,
      "outputs": [
        {
          "output_type": "execute_result",
          "data": {
            "text/plain": [
              "[2687, 7.85, 1.42, 1585.9665263579875, 8.069427741030163, 30, 42.98]"
            ]
          },
          "metadata": {
            "tags": []
          },
          "execution_count": 99
        }
      ]
    },
    {
      "cell_type": "code",
      "metadata": {
        "id": "q_DiA18U0au0",
        "colab_type": "code",
        "colab": {}
      },
      "source": [
        "#Introducimos la paqui más fina\n",
        "\n",
        "paqui_min = df_ele_stacked[df_ele_stacked['X'] == 'Pachy Min']['Z'].get_values()[0]"
      ],
      "execution_count": 0,
      "outputs": []
    },
    {
      "cell_type": "code",
      "metadata": {
        "id": "XRzZ0TND0as7",
        "colab_type": "code",
        "colab": {}
      },
      "source": [
        "x_train_v.append(int(paqui_min))"
      ],
      "execution_count": 0,
      "outputs": []
    },
    {
      "cell_type": "code",
      "metadata": {
        "id": "NXSekYAJ0wlz",
        "colab_type": "code",
        "outputId": "4822bd97-73e7-4bb1-d80f-9427edc6ed2b",
        "colab": {
          "base_uri": "https://localhost:8080/",
          "height": 35
        }
      },
      "source": [
        "x_train_v"
      ],
      "execution_count": 0,
      "outputs": [
        {
          "output_type": "execute_result",
          "data": {
            "text/plain": [
              "[2687, 7.85, 1.42, 1585.9665263579875, 8.069427741030163, 30, 42.98, 471]"
            ]
          },
          "metadata": {
            "tags": []
          },
          "execution_count": 102
        }
      ]
    },
    {
      "cell_type": "code",
      "metadata": {
        "id": "brjhijUv0wjH",
        "colab_type": "code",
        "colab": {
          "base_uri": "https://localhost:8080/",
          "height": 196
        },
        "outputId": "d16b5b66-37d0-49cb-a592-77841867ad33"
      },
      "source": [
        "df_ele_stacked_back = df_ele_stacked[df_ele_stacked['ID'] > list(df_ele_stacked[df_ele_stacked['X'] == 'BACK']['ID'])[0]]\n",
        "df_ele_stacked_back = df_ele_stacked[df_ele_stacked['ID'] < list(df_ele_stacked[df_ele_stacked['X'] == 'BACK related to FRONT']['ID'])[0]]\n",
        "df_ele_stacked_back.head()"
      ],
      "execution_count": 12,
      "outputs": [
        {
          "output_type": "execute_result",
          "data": {
            "text/html": [
              "<div>\n",
              "<style scoped>\n",
              "    .dataframe tbody tr th:only-of-type {\n",
              "        vertical-align: middle;\n",
              "    }\n",
              "\n",
              "    .dataframe tbody tr th {\n",
              "        vertical-align: top;\n",
              "    }\n",
              "\n",
              "    .dataframe thead th {\n",
              "        text-align: right;\n",
              "    }\n",
              "</style>\n",
              "<table border=\"1\" class=\"dataframe\">\n",
              "  <thead>\n",
              "    <tr style=\"text-align: right;\">\n",
              "      <th></th>\n",
              "      <th>X</th>\n",
              "      <th>Y</th>\n",
              "      <th>Z</th>\n",
              "      <th>ID</th>\n",
              "    </tr>\n",
              "  </thead>\n",
              "  <tbody>\n",
              "    <tr>\n",
              "      <th>0</th>\n",
              "      <td>5,200</td>\n",
              "      <td>-0,900</td>\n",
              "      <td>1967</td>\n",
              "      <td>0</td>\n",
              "    </tr>\n",
              "    <tr>\n",
              "      <th>1</th>\n",
              "      <td>5,200</td>\n",
              "      <td>-0,800</td>\n",
              "      <td>1954</td>\n",
              "      <td>1</td>\n",
              "    </tr>\n",
              "    <tr>\n",
              "      <th>2</th>\n",
              "      <td>5,200</td>\n",
              "      <td>-0,700</td>\n",
              "      <td>1943</td>\n",
              "      <td>2</td>\n",
              "    </tr>\n",
              "    <tr>\n",
              "      <th>3</th>\n",
              "      <td>5,200</td>\n",
              "      <td>-0,600</td>\n",
              "      <td>1933</td>\n",
              "      <td>3</td>\n",
              "    </tr>\n",
              "    <tr>\n",
              "      <th>4</th>\n",
              "      <td>5,200</td>\n",
              "      <td>-0,500</td>\n",
              "      <td>1925</td>\n",
              "      <td>4</td>\n",
              "    </tr>\n",
              "  </tbody>\n",
              "</table>\n",
              "</div>"
            ],
            "text/plain": [
              "       X       Y     Z  ID\n",
              "0  5,200  -0,900  1967   0\n",
              "1  5,200  -0,800  1954   1\n",
              "2  5,200  -0,700  1943   2\n",
              "3  5,200  -0,600  1933   3\n",
              "4  5,200  -0,500  1925   4"
            ]
          },
          "metadata": {
            "tags": []
          },
          "execution_count": 12
        }
      ]
    },
    {
      "cell_type": "code",
      "metadata": {
        "id": "nahuUA5U_Obq",
        "colab_type": "code",
        "colab": {}
      },
      "source": [
        ""
      ],
      "execution_count": 0,
      "outputs": []
    },
    {
      "cell_type": "code",
      "metadata": {
        "id": "-Lv5HJOi_OZh",
        "colab_type": "code",
        "colab": {}
      },
      "source": [
        ""
      ],
      "execution_count": 0,
      "outputs": []
    },
    {
      "cell_type": "code",
      "metadata": {
        "id": "JaL8sTU5_OWe",
        "colab_type": "code",
        "colab": {}
      },
      "source": [
        ""
      ],
      "execution_count": 0,
      "outputs": []
    },
    {
      "cell_type": "code",
      "metadata": {
        "id": "XJKqHLjo_OUo",
        "colab_type": "code",
        "colab": {}
      },
      "source": [
        ""
      ],
      "execution_count": 0,
      "outputs": []
    },
    {
      "cell_type": "code",
      "metadata": {
        "id": "_9Qlykvl_OSr",
        "colab_type": "code",
        "colab": {}
      },
      "source": [
        ""
      ],
      "execution_count": 0,
      "outputs": []
    },
    {
      "cell_type": "code",
      "metadata": {
        "id": "3w_VszJO_OQh",
        "colab_type": "code",
        "colab": {}
      },
      "source": [
        ""
      ],
      "execution_count": 0,
      "outputs": []
    },
    {
      "cell_type": "code",
      "metadata": {
        "id": "8bU25IKn0whF",
        "colab_type": "code",
        "colab": {}
      },
      "source": [
        ""
      ],
      "execution_count": 0,
      "outputs": []
    }
  ]
}