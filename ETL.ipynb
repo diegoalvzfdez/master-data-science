{
  "nbformat": 4,
  "nbformat_minor": 0,
  "metadata": {
    "colab": {
      "name": "ETL.ipynb",
      "version": "0.3.2",
      "provenance": [],
      "collapsed_sections": [],
      "include_colab_link": true
    },
    "kernelspec": {
      "name": "python3",
      "display_name": "Python 3"
    },
    "accelerator": "GPU"
  },
  "cells": [
    {
      "cell_type": "markdown",
      "metadata": {
        "id": "view-in-github",
        "colab_type": "text"
      },
      "source": [
        "<a href=\"https://colab.research.google.com/github/diegoalvzfdez/master-data-science/blob/master/ETL.ipynb\" target=\"_parent\"><img src=\"https://colab.research.google.com/assets/colab-badge.svg\" alt=\"Open In Colab\"/></a>"
      ]
    },
    {
      "metadata": {
        "id": "uEQAapFAk8lS",
        "colab_type": "code",
        "outputId": "5a83fb42-db9e-4317-dec5-4502dc7cc468",
        "colab": {
          "base_uri": "https://localhost:8080/",
          "height": 122
        }
      },
      "cell_type": "code",
      "source": [
        "import pandas as pd\n",
        "\n",
        "#Obtenemos los datos guardados en la nube de Google Drive\n",
        "from google.colab import drive\n",
        "drive.mount('/content/drive')\n"
      ],
      "execution_count": 1,
      "outputs": [
        {
          "output_type": "stream",
          "text": [
            "Go to this URL in a browser: https://accounts.google.com/o/oauth2/auth?client_id=947318989803-6bn6qk8qdgf4n4g3pfee6491hc0brc4i.apps.googleusercontent.com&redirect_uri=urn%3Aietf%3Awg%3Aoauth%3A2.0%3Aoob&scope=email%20https%3A%2F%2Fwww.googleapis.com%2Fauth%2Fdocs.test%20https%3A%2F%2Fwww.googleapis.com%2Fauth%2Fdrive%20https%3A%2F%2Fwww.googleapis.com%2Fauth%2Fdrive.photos.readonly%20https%3A%2F%2Fwww.googleapis.com%2Fauth%2Fpeopleapi.readonly&response_type=code\n",
            "\n",
            "Enter your authorization code:\n",
            "··········\n",
            "Mounted at /content/drive\n"
          ],
          "name": "stdout"
        }
      ]
    },
    {
      "metadata": {
        "id": "vi4d_dNIltCZ",
        "colab_type": "code",
        "outputId": "6f7e82f7-73a9-48a2-9b15-2c95d4ab616f",
        "colab": {
          "base_uri": "https://localhost:8080/",
          "height": 34
        }
      },
      "cell_type": "code",
      "source": [
        "cd /content/drive/My\\ Drive/TFM\\ Data\\ Science/Gonzalo\\ Velarde"
      ],
      "execution_count": 2,
      "outputs": [
        {
          "output_type": "stream",
          "text": [
            "/content/drive/My Drive/TFM Data Science/Gonzalo Velarde\n"
          ],
          "name": "stdout"
        }
      ]
    },
    {
      "metadata": {
        "id": "nH08nIOJn0gV",
        "colab_type": "code",
        "colab": {}
      },
      "cell_type": "code",
      "source": [
        "#leemos el fichero\n",
        "df = pd.read_csv('Velarde Rodriguez_Gonzalo_OD_31052017_120629_ELE.CSV', sep = ';', index_col= 0, header = 0, encoding = \"ISO-8859-1\")"
      ],
      "execution_count": 0,
      "outputs": []
    },
    {
      "metadata": {
        "id": "gABWePgxqRB3",
        "colab_type": "text"
      },
      "cell_type": "markdown",
      "source": [
        "Tenemos un fichero con la siguiente forma:\n",
        "\n",
        "![](https://drive.google.com/uc?export=view&id=15UODzawnIyQqmrKIcTLwNOBOkcjqJh28)\n",
        "\n",
        "Lo que tenemos es una representación de la profundidad de un ojo (eje z) en las coordenadas x (primera columna) y coordenadas y (primera fila)\n",
        "\n",
        "Para poder manejar estos datos, en primer lugar buscaremos una manera de poder tener los datos más significativos de la manera más comoda para introducirlos en un clasificador.\n",
        "\n",
        "En esta zona apuntaré las ideas que se me vayan ocurriendo para tratar dicha problemática (esperemos que no tener que escribir muchas):\n",
        "\n",
        "1. Conseguir un vector de los n puntos con mayor profundidad: para ello vamos a tener que stackear los datos para conseguir todos los valores en una misma columna para después ordenarlos."
      ]
    },
    {
      "metadata": {
        "id": "dfUjgW2H1_CB",
        "colab_type": "text"
      },
      "cell_type": "markdown",
      "source": [
        "# Idea 1"
      ]
    },
    {
      "metadata": {
        "id": "DFqwBUVytvvT",
        "colab_type": "code",
        "outputId": "08ccb775-d0ed-48ae-deff-0a6e0deaac47",
        "colab": {
          "base_uri": "https://localhost:8080/",
          "height": 204
        }
      },
      "cell_type": "code",
      "source": [
        "#Stackeamos los datos para obtener las coordenadas de cada punto\n",
        "df_stacked = df.stack()\n",
        "df_stacked = df_stacked.reset_index()\n",
        "df_stacked = df_stacked.rename(index = str, columns = {'FRONT': 'X', 'level_1': 'Y', 0: 'Z'})\n",
        "#necesitamos una columna que simule el índice del dataframe\n",
        "df_stacked['ID'] = df_stacked.index\n",
        "df_stacked['ID'] = pd.to_numeric(df_stacked['ID'])\n",
        "df_stacked.head()\n"
      ],
      "execution_count": 11,
      "outputs": [
        {
          "output_type": "execute_result",
          "data": {
            "text/html": [
              "<div>\n",
              "<style scoped>\n",
              "    .dataframe tbody tr th:only-of-type {\n",
              "        vertical-align: middle;\n",
              "    }\n",
              "\n",
              "    .dataframe tbody tr th {\n",
              "        vertical-align: top;\n",
              "    }\n",
              "\n",
              "    .dataframe thead th {\n",
              "        text-align: right;\n",
              "    }\n",
              "</style>\n",
              "<table border=\"1\" class=\"dataframe\">\n",
              "  <thead>\n",
              "    <tr style=\"text-align: right;\">\n",
              "      <th></th>\n",
              "      <th>X</th>\n",
              "      <th>Y</th>\n",
              "      <th>Z</th>\n",
              "      <th>ID</th>\n",
              "    </tr>\n",
              "  </thead>\n",
              "  <tbody>\n",
              "    <tr>\n",
              "      <th>0</th>\n",
              "      <td>5,200</td>\n",
              "      <td>-0,900</td>\n",
              "      <td>1967</td>\n",
              "      <td>0</td>\n",
              "    </tr>\n",
              "    <tr>\n",
              "      <th>1</th>\n",
              "      <td>5,200</td>\n",
              "      <td>-0,800</td>\n",
              "      <td>1954</td>\n",
              "      <td>1</td>\n",
              "    </tr>\n",
              "    <tr>\n",
              "      <th>2</th>\n",
              "      <td>5,200</td>\n",
              "      <td>-0,700</td>\n",
              "      <td>1943</td>\n",
              "      <td>2</td>\n",
              "    </tr>\n",
              "    <tr>\n",
              "      <th>3</th>\n",
              "      <td>5,200</td>\n",
              "      <td>-0,600</td>\n",
              "      <td>1933</td>\n",
              "      <td>3</td>\n",
              "    </tr>\n",
              "    <tr>\n",
              "      <th>4</th>\n",
              "      <td>5,200</td>\n",
              "      <td>-0,500</td>\n",
              "      <td>1925</td>\n",
              "      <td>4</td>\n",
              "    </tr>\n",
              "  </tbody>\n",
              "</table>\n",
              "</div>"
            ],
            "text/plain": [
              "       X       Y     Z  ID\n",
              "0  5,200  -0,900  1967   0\n",
              "1  5,200  -0,800  1954   1\n",
              "2  5,200  -0,700  1943   2\n",
              "3  5,200  -0,600  1933   3\n",
              "4  5,200  -0,500  1925   4"
            ]
          },
          "metadata": {
            "tags": []
          },
          "execution_count": 11
        }
      ]
    },
    {
      "metadata": {
        "id": "3wUaRgeowczh",
        "colab_type": "text"
      },
      "cell_type": "markdown",
      "source": [
        "Como se puede observar en el fichero, las coordenadas del ojo finalizan cuando en lugar de un numero hay un nombre en la columna del eje X, por lo que a partir de ese punto hay que cortar todo el dataset"
      ]
    },
    {
      "metadata": {
        "id": "68pVOMUjzFvj",
        "colab_type": "code",
        "outputId": "af0227a0-6018-4cda-c299-ed2111251ce5",
        "colab": {
          "base_uri": "https://localhost:8080/",
          "height": 204
        }
      },
      "cell_type": "code",
      "source": [
        "df_stacked_first_eye = df_stacked[df_stacked['ID'] < list(df_stacked[df_stacked['X'] == 'BACK']['ID'])[0]]\n",
        "df_stacked_first_eye.tail()"
      ],
      "execution_count": 12,
      "outputs": [
        {
          "output_type": "execute_result",
          "data": {
            "text/html": [
              "<div>\n",
              "<style scoped>\n",
              "    .dataframe tbody tr th:only-of-type {\n",
              "        vertical-align: middle;\n",
              "    }\n",
              "\n",
              "    .dataframe tbody tr th {\n",
              "        vertical-align: top;\n",
              "    }\n",
              "\n",
              "    .dataframe thead th {\n",
              "        text-align: right;\n",
              "    }\n",
              "</style>\n",
              "<table border=\"1\" class=\"dataframe\">\n",
              "  <thead>\n",
              "    <tr style=\"text-align: right;\">\n",
              "      <th></th>\n",
              "      <th>X</th>\n",
              "      <th>Y</th>\n",
              "      <th>Z</th>\n",
              "      <th>ID</th>\n",
              "    </tr>\n",
              "  </thead>\n",
              "  <tbody>\n",
              "    <tr>\n",
              "      <th>9973</th>\n",
              "      <td>-5,900</td>\n",
              "      <td>0,100</td>\n",
              "      <td>2650</td>\n",
              "      <td>9973</td>\n",
              "    </tr>\n",
              "    <tr>\n",
              "      <th>9974</th>\n",
              "      <td>-5,900</td>\n",
              "      <td>0,200</td>\n",
              "      <td>2653</td>\n",
              "      <td>9974</td>\n",
              "    </tr>\n",
              "    <tr>\n",
              "      <th>9975</th>\n",
              "      <td>-5,900</td>\n",
              "      <td>0,300</td>\n",
              "      <td>2658</td>\n",
              "      <td>9975</td>\n",
              "    </tr>\n",
              "    <tr>\n",
              "      <th>9976</th>\n",
              "      <td>-5,900</td>\n",
              "      <td>0,400</td>\n",
              "      <td>2665</td>\n",
              "      <td>9976</td>\n",
              "    </tr>\n",
              "    <tr>\n",
              "      <th>9977</th>\n",
              "      <td>-5,900</td>\n",
              "      <td>0,500</td>\n",
              "      <td>2674</td>\n",
              "      <td>9977</td>\n",
              "    </tr>\n",
              "  </tbody>\n",
              "</table>\n",
              "</div>"
            ],
            "text/plain": [
              "           X      Y     Z    ID\n",
              "9973  -5,900  0,100  2650  9973\n",
              "9974  -5,900  0,200  2653  9974\n",
              "9975  -5,900  0,300  2658  9975\n",
              "9976  -5,900  0,400  2665  9976\n",
              "9977  -5,900  0,500  2674  9977"
            ]
          },
          "metadata": {
            "tags": []
          },
          "execution_count": 12
        }
      ]
    },
    {
      "metadata": {
        "id": "4y0b8Nij2NM5",
        "colab_type": "text"
      },
      "cell_type": "markdown",
      "source": [
        "Para el siguiente paso necesitamos obtener los puntos de mayor profundidad, para obtener los puntos más característicos de nuestra muestra."
      ]
    },
    {
      "metadata": {
        "id": "cssOsNsVydvo",
        "colab_type": "code",
        "outputId": "76d61309-1498-4ff3-b52a-a7071fac4646",
        "colab": {
          "base_uri": "https://localhost:8080/",
          "height": 102
        }
      },
      "cell_type": "code",
      "source": [
        "#Borramos las columnas que no nos son necesarias\n",
        "df_stacked_first_eye.drop(['X', 'Y', 'ID'], axis = 1, inplace = True)"
      ],
      "execution_count": 13,
      "outputs": [
        {
          "output_type": "stream",
          "text": [
            "/usr/local/lib/python3.6/dist-packages/pandas/core/frame.py:3940: SettingWithCopyWarning: \n",
            "A value is trying to be set on a copy of a slice from a DataFrame\n",
            "\n",
            "See the caveats in the documentation: http://pandas.pydata.org/pandas-docs/stable/indexing.html#indexing-view-versus-copy\n",
            "  errors=errors)\n"
          ],
          "name": "stderr"
        }
      ]
    },
    {
      "metadata": {
        "id": "_2eF7QlFhCzq",
        "colab_type": "text"
      },
      "cell_type": "markdown",
      "source": [
        "Los valores obtenidos nos vienen en forma de bóveda invertida, por lo que los valores con mayor valor de profundidad están en los extremos. Para poder tener unos datos acordes a la desviación proporcional de la curvatura del ojo, vamos a convertir los datos para obtener una bóveda sin invertir.\n",
        "\n"
      ]
    },
    {
      "metadata": {
        "id": "SSLU_hNJhCeD",
        "colab_type": "code",
        "colab": {
          "base_uri": "https://localhost:8080/",
          "height": 204
        },
        "outputId": "2500bd01-ae1c-4724-b17d-af60f1b8793b"
      },
      "cell_type": "code",
      "source": [
        "#obtenemos el valor máximo de profundidad del ojo\n",
        "\n",
        "df_stacked_first_eye['Z'] = pd.to_numeric(df_stacked_first_eye['Z'])\n",
        "df_stacked_first_eye.sort_values('Z', ascending=False, inplace = True)\n",
        "maxima_profundidad = df_stacked_first_eye['Z'][0]"
      ],
      "execution_count": 14,
      "outputs": [
        {
          "output_type": "stream",
          "text": [
            "/usr/local/lib/python3.6/dist-packages/ipykernel_launcher.py:2: SettingWithCopyWarning: \n",
            "A value is trying to be set on a copy of a slice from a DataFrame.\n",
            "Try using .loc[row_indexer,col_indexer] = value instead\n",
            "\n",
            "See the caveats in the documentation: http://pandas.pydata.org/pandas-docs/stable/indexing.html#indexing-view-versus-copy\n",
            "  \n",
            "/usr/local/lib/python3.6/dist-packages/ipykernel_launcher.py:3: SettingWithCopyWarning: \n",
            "A value is trying to be set on a copy of a slice from a DataFrame\n",
            "\n",
            "See the caveats in the documentation: http://pandas.pydata.org/pandas-docs/stable/indexing.html#indexing-view-versus-copy\n",
            "  This is separate from the ipykernel package so we can avoid doing imports until\n"
          ],
          "name": "stderr"
        }
      ]
    },
    {
      "metadata": {
        "id": "PXsQ4Wsni0fY",
        "colab_type": "code",
        "colab": {
          "base_uri": "https://localhost:8080/",
          "height": 119
        },
        "outputId": "4cc01369-ebef-4608-ea6b-466caacb8486"
      },
      "cell_type": "code",
      "source": [
        "#una vez obtenido el máximo valor de profundidad, modificamos el valor de todos los puntos para tenerlos obtener la bóveda sin invertir\n",
        "\n",
        "df_stacked_first_eye['Z'] = (1 - (df_stacked_first_eye['Z']/maxima_profundidad))*maxima_profundidad"
      ],
      "execution_count": 15,
      "outputs": [
        {
          "output_type": "stream",
          "text": [
            "/usr/local/lib/python3.6/dist-packages/ipykernel_launcher.py:2: SettingWithCopyWarning: \n",
            "A value is trying to be set on a copy of a slice from a DataFrame.\n",
            "Try using .loc[row_indexer,col_indexer] = value instead\n",
            "\n",
            "See the caveats in the documentation: http://pandas.pydata.org/pandas-docs/stable/indexing.html#indexing-view-versus-copy\n",
            "  \n"
          ],
          "name": "stderr"
        }
      ]
    },
    {
      "metadata": {
        "id": "vk3Jpj6D2KVe",
        "colab_type": "code",
        "outputId": "e3b77847-3259-4af3-b28e-31769bfac0be",
        "colab": {
          "base_uri": "https://localhost:8080/",
          "height": 701
        }
      },
      "cell_type": "code",
      "source": [
        "#ordenamos los valores de Z para obtener los puntos más elevados\n",
        "df_stacked_first_eye['Z'] = pd.to_numeric(df_stacked_first_eye['Z'])\n",
        "df_stacked_first_eye.sort_values('Z', ascending=False, inplace = True)\n",
        "df_stacked_first_eye.head(15)"
      ],
      "execution_count": 18,
      "outputs": [
        {
          "output_type": "stream",
          "text": [
            "/usr/local/lib/python3.6/dist-packages/ipykernel_launcher.py:1: SettingWithCopyWarning: \n",
            "A value is trying to be set on a copy of a slice from a DataFrame.\n",
            "Try using .loc[row_indexer,col_indexer] = value instead\n",
            "\n",
            "See the caveats in the documentation: http://pandas.pydata.org/pandas-docs/stable/indexing.html#indexing-view-versus-copy\n",
            "  \"\"\"Entry point for launching an IPython kernel.\n",
            "/usr/local/lib/python3.6/dist-packages/ipykernel_launcher.py:2: SettingWithCopyWarning: \n",
            "A value is trying to be set on a copy of a slice from a DataFrame\n",
            "\n",
            "See the caveats in the documentation: http://pandas.pydata.org/pandas-docs/stable/indexing.html#indexing-view-versus-copy\n",
            "  \n"
          ],
          "name": "stderr"
        },
        {
          "output_type": "execute_result",
          "data": {
            "text/html": [
              "<div>\n",
              "<style scoped>\n",
              "    .dataframe tbody tr th:only-of-type {\n",
              "        vertical-align: middle;\n",
              "    }\n",
              "\n",
              "    .dataframe tbody tr th {\n",
              "        vertical-align: top;\n",
              "    }\n",
              "\n",
              "    .dataframe thead th {\n",
              "        text-align: right;\n",
              "    }\n",
              "</style>\n",
              "<table border=\"1\" class=\"dataframe\">\n",
              "  <thead>\n",
              "    <tr style=\"text-align: right;\">\n",
              "      <th></th>\n",
              "      <th>Z</th>\n",
              "    </tr>\n",
              "  </thead>\n",
              "  <tbody>\n",
              "    <tr>\n",
              "      <th>4500</th>\n",
              "      <td>2687.0</td>\n",
              "    </tr>\n",
              "    <tr>\n",
              "      <th>4613</th>\n",
              "      <td>2687.0</td>\n",
              "    </tr>\n",
              "    <tr>\n",
              "      <th>4499</th>\n",
              "      <td>2686.0</td>\n",
              "    </tr>\n",
              "    <tr>\n",
              "      <th>4726</th>\n",
              "      <td>2686.0</td>\n",
              "    </tr>\n",
              "    <tr>\n",
              "      <th>4614</th>\n",
              "      <td>2686.0</td>\n",
              "    </tr>\n",
              "    <tr>\n",
              "      <th>4725</th>\n",
              "      <td>2686.0</td>\n",
              "    </tr>\n",
              "    <tr>\n",
              "      <th>4501</th>\n",
              "      <td>2686.0</td>\n",
              "    </tr>\n",
              "    <tr>\n",
              "      <th>4727</th>\n",
              "      <td>2686.0</td>\n",
              "    </tr>\n",
              "    <tr>\n",
              "      <th>4612</th>\n",
              "      <td>2686.0</td>\n",
              "    </tr>\n",
              "    <tr>\n",
              "      <th>4387</th>\n",
              "      <td>2685.0</td>\n",
              "    </tr>\n",
              "    <tr>\n",
              "      <th>4611</th>\n",
              "      <td>2685.0</td>\n",
              "    </tr>\n",
              "    <tr>\n",
              "      <th>4615</th>\n",
              "      <td>2685.0</td>\n",
              "    </tr>\n",
              "    <tr>\n",
              "      <th>4838</th>\n",
              "      <td>2684.0</td>\n",
              "    </tr>\n",
              "    <tr>\n",
              "      <th>4502</th>\n",
              "      <td>2684.0</td>\n",
              "    </tr>\n",
              "    <tr>\n",
              "      <th>4724</th>\n",
              "      <td>2684.0</td>\n",
              "    </tr>\n",
              "  </tbody>\n",
              "</table>\n",
              "</div>"
            ],
            "text/plain": [
              "           Z\n",
              "4500  2687.0\n",
              "4613  2687.0\n",
              "4499  2686.0\n",
              "4726  2686.0\n",
              "4614  2686.0\n",
              "4725  2686.0\n",
              "4501  2686.0\n",
              "4727  2686.0\n",
              "4612  2686.0\n",
              "4387  2685.0\n",
              "4611  2685.0\n",
              "4615  2685.0\n",
              "4838  2684.0\n",
              "4502  2684.0\n",
              "4724  2684.0"
            ]
          },
          "metadata": {
            "tags": []
          },
          "execution_count": 18
        }
      ]
    },
    {
      "metadata": {
        "id": "lXBh91yq2KTp",
        "colab_type": "code",
        "colab": {}
      },
      "cell_type": "code",
      "source": [
        ""
      ],
      "execution_count": 0,
      "outputs": []
    },
    {
      "metadata": {
        "id": "SEyQ8oci2KSP",
        "colab_type": "code",
        "colab": {}
      },
      "cell_type": "code",
      "source": [
        ""
      ],
      "execution_count": 0,
      "outputs": []
    },
    {
      "metadata": {
        "id": "R8Joc0SW2KQh",
        "colab_type": "code",
        "colab": {}
      },
      "cell_type": "code",
      "source": [
        ""
      ],
      "execution_count": 0,
      "outputs": []
    },
    {
      "metadata": {
        "id": "Z4ZqBXti2KO9",
        "colab_type": "code",
        "colab": {}
      },
      "cell_type": "code",
      "source": [
        ""
      ],
      "execution_count": 0,
      "outputs": []
    },
    {
      "metadata": {
        "id": "-kmGQw3U2KNC",
        "colab_type": "code",
        "colab": {}
      },
      "cell_type": "code",
      "source": [
        ""
      ],
      "execution_count": 0,
      "outputs": []
    },
    {
      "metadata": {
        "id": "vx4VLXN62KJh",
        "colab_type": "code",
        "colab": {}
      },
      "cell_type": "code",
      "source": [
        ""
      ],
      "execution_count": 0,
      "outputs": []
    },
    {
      "metadata": {
        "id": "35R4IgLe2KHx",
        "colab_type": "code",
        "colab": {}
      },
      "cell_type": "code",
      "source": [
        ""
      ],
      "execution_count": 0,
      "outputs": []
    },
    {
      "metadata": {
        "id": "A8AN2cxc2KF6",
        "colab_type": "code",
        "colab": {}
      },
      "cell_type": "code",
      "source": [
        ""
      ],
      "execution_count": 0,
      "outputs": []
    }
  ]
}