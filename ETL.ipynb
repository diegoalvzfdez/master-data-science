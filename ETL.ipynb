{
  "nbformat": 4,
  "nbformat_minor": 0,
  "metadata": {
    "colab": {
      "name": "ETL.ipynb",
      "version": "0.3.2",
      "provenance": [],
      "collapsed_sections": [],
      "include_colab_link": true
    },
    "kernelspec": {
      "name": "python3",
      "display_name": "Python 3"
    },
    "accelerator": "GPU"
  },
  "cells": [
    {
      "cell_type": "markdown",
      "metadata": {
        "id": "view-in-github",
        "colab_type": "text"
      },
      "source": [
        "<a href=\"https://colab.research.google.com/github/diegoalvzfdez/master-data-science/blob/master/ETL.ipynb\" target=\"_parent\"><img src=\"https://colab.research.google.com/assets/colab-badge.svg\" alt=\"Open In Colab\"/></a>"
      ]
    },
    {
      "metadata": {
        "id": "uEQAapFAk8lS",
        "colab_type": "code",
        "outputId": "a83418a7-6d5f-40e1-e478-ef05fb8bdad2",
        "colab": {
          "base_uri": "https://localhost:8080/",
          "height": 34
        }
      },
      "cell_type": "code",
      "source": [
        "import pandas as pd\n",
        "\n",
        "#Obtenemos los datos guardados en la nube de Google Drive\n",
        "from google.colab import drive\n",
        "drive.mount('/content/drive')\n"
      ],
      "execution_count": 0,
      "outputs": [
        {
          "output_type": "stream",
          "text": [
            "Drive already mounted at /content/drive; to attempt to forcibly remount, call drive.mount(\"/content/drive\", force_remount=True).\n"
          ],
          "name": "stdout"
        }
      ]
    },
    {
      "metadata": {
        "id": "vi4d_dNIltCZ",
        "colab_type": "code",
        "outputId": "b9fcd51e-b7f3-41f7-f341-8d4d74b23963",
        "colab": {
          "base_uri": "https://localhost:8080/",
          "height": 34
        }
      },
      "cell_type": "code",
      "source": [
        "cd /content/drive/My\\ Drive/TFM\\ Data\\ Science/Gonzalo\\ Velarde"
      ],
      "execution_count": 0,
      "outputs": [
        {
          "output_type": "stream",
          "text": [
            "/content/drive/My Drive/TFM Data Science/Gonzalo Velarde\n"
          ],
          "name": "stdout"
        }
      ]
    },
    {
      "metadata": {
        "id": "nH08nIOJn0gV",
        "colab_type": "code",
        "colab": {}
      },
      "cell_type": "code",
      "source": [
        "#leemos el fichero\n",
        "df = pd.read_csv('Velarde Rodriguez_Gonzalo_OD_31052017_120629_ELE.CSV', sep = ';', index_col= 0, header = 0, encoding = \"ISO-8859-1\")"
      ],
      "execution_count": 0,
      "outputs": []
    },
    {
      "metadata": {
        "id": "gABWePgxqRB3",
        "colab_type": "text"
      },
      "cell_type": "markdown",
      "source": [
        "Tenemos un fichero con la siguiente forma:\n",
        "\n",
        "![](https://drive.google.com/uc?export=view&id=15UODzawnIyQqmrKIcTLwNOBOkcjqJh28)\n",
        "\n",
        "Lo que tenemos es una representación de la profundidad de un ojo (eje z) en las coordenadas x (primera columna) y coordenadas y (primera fila)\n",
        "\n",
        "Para poder manejar estos datos, en primer lugar buscaremos una manera de poder tener los datos más significativos de la manera más comoda para introducirlos en un clasificador.\n",
        "\n",
        "En esta zona apuntaré las ideas que se me vayan ocurriendo para tratar dicha problemática (esperemos que no tener que escribir muchas):\n",
        "\n",
        "1. Conseguir un vector de los n puntos con mayor profundidad: para ello vamos a tener que stackear los datos para conseguir todos los valores en una misma columna para después ordenarlos."
      ]
    },
    {
      "metadata": {
        "id": "dfUjgW2H1_CB",
        "colab_type": "text"
      },
      "cell_type": "markdown",
      "source": [
        "# Idea 1"
      ]
    },
    {
      "metadata": {
        "id": "DFqwBUVytvvT",
        "colab_type": "code",
        "outputId": "012dfefa-e93c-42eb-ad6b-ee18051d098e",
        "colab": {
          "base_uri": "https://localhost:8080/",
          "height": 204
        }
      },
      "cell_type": "code",
      "source": [
        "#Stackeamos los datos para obtener las coordenadas de cada punto\n",
        "df_stacked = df.stack()\n",
        "df_stacked = df_stacked.reset_index()\n",
        "df_stacked = df_stacked.rename(index = str, columns = {'FRONT': 'X', 'level_1': 'Y', 0: 'Z'})\n",
        "#necesitamos una columna que simule el índice del dataframe\n",
        "df_stacked['ID'] = df_stacked.index\n",
        "df_stacked['ID'] = pd.to_numeric(df_stacked['ID'])\n",
        "df_stacked.head()\n"
      ],
      "execution_count": 0,
      "outputs": [
        {
          "output_type": "execute_result",
          "data": {
            "text/html": [
              "<div>\n",
              "<style scoped>\n",
              "    .dataframe tbody tr th:only-of-type {\n",
              "        vertical-align: middle;\n",
              "    }\n",
              "\n",
              "    .dataframe tbody tr th {\n",
              "        vertical-align: top;\n",
              "    }\n",
              "\n",
              "    .dataframe thead th {\n",
              "        text-align: right;\n",
              "    }\n",
              "</style>\n",
              "<table border=\"1\" class=\"dataframe\">\n",
              "  <thead>\n",
              "    <tr style=\"text-align: right;\">\n",
              "      <th></th>\n",
              "      <th>X</th>\n",
              "      <th>Y</th>\n",
              "      <th>Z</th>\n",
              "      <th>ID</th>\n",
              "    </tr>\n",
              "  </thead>\n",
              "  <tbody>\n",
              "    <tr>\n",
              "      <th>0</th>\n",
              "      <td>5,200</td>\n",
              "      <td>-0,900</td>\n",
              "      <td>1967</td>\n",
              "      <td>0</td>\n",
              "    </tr>\n",
              "    <tr>\n",
              "      <th>1</th>\n",
              "      <td>5,200</td>\n",
              "      <td>-0,800</td>\n",
              "      <td>1954</td>\n",
              "      <td>1</td>\n",
              "    </tr>\n",
              "    <tr>\n",
              "      <th>2</th>\n",
              "      <td>5,200</td>\n",
              "      <td>-0,700</td>\n",
              "      <td>1943</td>\n",
              "      <td>2</td>\n",
              "    </tr>\n",
              "    <tr>\n",
              "      <th>3</th>\n",
              "      <td>5,200</td>\n",
              "      <td>-0,600</td>\n",
              "      <td>1933</td>\n",
              "      <td>3</td>\n",
              "    </tr>\n",
              "    <tr>\n",
              "      <th>4</th>\n",
              "      <td>5,200</td>\n",
              "      <td>-0,500</td>\n",
              "      <td>1925</td>\n",
              "      <td>4</td>\n",
              "    </tr>\n",
              "  </tbody>\n",
              "</table>\n",
              "</div>"
            ],
            "text/plain": [
              "       X       Y     Z  ID\n",
              "0  5,200  -0,900  1967   0\n",
              "1  5,200  -0,800  1954   1\n",
              "2  5,200  -0,700  1943   2\n",
              "3  5,200  -0,600  1933   3\n",
              "4  5,200  -0,500  1925   4"
            ]
          },
          "metadata": {
            "tags": []
          },
          "execution_count": 123
        }
      ]
    },
    {
      "metadata": {
        "id": "3wUaRgeowczh",
        "colab_type": "text"
      },
      "cell_type": "markdown",
      "source": [
        "Como se puede observar en el fichero, las coordenadas del ojo finalizan cuando en lugar de un numero hay un nombre en la columna del eje X, por lo que a partir de ese punto hay que cortar todo el dataset"
      ]
    },
    {
      "metadata": {
        "id": "68pVOMUjzFvj",
        "colab_type": "code",
        "outputId": "532c83a0-ce31-4bca-9ffe-6425afd2bddc",
        "colab": {
          "base_uri": "https://localhost:8080/",
          "height": 204
        }
      },
      "cell_type": "code",
      "source": [
        "df_stacked_first_eye = df_stacked[df_stacked['ID'] < list(df_stacked[df_stacked['X'] == 'BACK']['ID'])[0]]\n",
        "df_stacked_first_eye.tail()"
      ],
      "execution_count": 0,
      "outputs": [
        {
          "output_type": "execute_result",
          "data": {
            "text/html": [
              "<div>\n",
              "<style scoped>\n",
              "    .dataframe tbody tr th:only-of-type {\n",
              "        vertical-align: middle;\n",
              "    }\n",
              "\n",
              "    .dataframe tbody tr th {\n",
              "        vertical-align: top;\n",
              "    }\n",
              "\n",
              "    .dataframe thead th {\n",
              "        text-align: right;\n",
              "    }\n",
              "</style>\n",
              "<table border=\"1\" class=\"dataframe\">\n",
              "  <thead>\n",
              "    <tr style=\"text-align: right;\">\n",
              "      <th></th>\n",
              "      <th>X</th>\n",
              "      <th>Y</th>\n",
              "      <th>Z</th>\n",
              "      <th>ID</th>\n",
              "    </tr>\n",
              "  </thead>\n",
              "  <tbody>\n",
              "    <tr>\n",
              "      <th>9973</th>\n",
              "      <td>-5,900</td>\n",
              "      <td>0,100</td>\n",
              "      <td>2650</td>\n",
              "      <td>9973</td>\n",
              "    </tr>\n",
              "    <tr>\n",
              "      <th>9974</th>\n",
              "      <td>-5,900</td>\n",
              "      <td>0,200</td>\n",
              "      <td>2653</td>\n",
              "      <td>9974</td>\n",
              "    </tr>\n",
              "    <tr>\n",
              "      <th>9975</th>\n",
              "      <td>-5,900</td>\n",
              "      <td>0,300</td>\n",
              "      <td>2658</td>\n",
              "      <td>9975</td>\n",
              "    </tr>\n",
              "    <tr>\n",
              "      <th>9976</th>\n",
              "      <td>-5,900</td>\n",
              "      <td>0,400</td>\n",
              "      <td>2665</td>\n",
              "      <td>9976</td>\n",
              "    </tr>\n",
              "    <tr>\n",
              "      <th>9977</th>\n",
              "      <td>-5,900</td>\n",
              "      <td>0,500</td>\n",
              "      <td>2674</td>\n",
              "      <td>9977</td>\n",
              "    </tr>\n",
              "  </tbody>\n",
              "</table>\n",
              "</div>"
            ],
            "text/plain": [
              "           X      Y     Z    ID\n",
              "9973  -5,900  0,100  2650  9973\n",
              "9974  -5,900  0,200  2653  9974\n",
              "9975  -5,900  0,300  2658  9975\n",
              "9976  -5,900  0,400  2665  9976\n",
              "9977  -5,900  0,500  2674  9977"
            ]
          },
          "metadata": {
            "tags": []
          },
          "execution_count": 136
        }
      ]
    },
    {
      "metadata": {
        "id": "4y0b8Nij2NM5",
        "colab_type": "text"
      },
      "cell_type": "markdown",
      "source": [
        "Para el siguiente paso necesitamos obtener los puntos de mayor profundidad, para obtener los puntos más característicos de nuestra muestra."
      ]
    },
    {
      "metadata": {
        "id": "cssOsNsVydvo",
        "colab_type": "code",
        "outputId": "f3cecd4d-a2d7-4213-9574-54c3c38d0527",
        "colab": {
          "base_uri": "https://localhost:8080/",
          "height": 102
        }
      },
      "cell_type": "code",
      "source": [
        "#Borramos las columnas que no nos son necesarias\n",
        "df_stacked_first_eye.drop(['X', 'Y', 'ID'], axis = 1, inplace = True)"
      ],
      "execution_count": 0,
      "outputs": [
        {
          "output_type": "stream",
          "text": [
            "/usr/local/lib/python3.6/dist-packages/pandas/core/frame.py:3940: SettingWithCopyWarning: \n",
            "A value is trying to be set on a copy of a slice from a DataFrame\n",
            "\n",
            "See the caveats in the documentation: http://pandas.pydata.org/pandas-docs/stable/indexing.html#indexing-view-versus-copy\n",
            "  errors=errors)\n"
          ],
          "name": "stderr"
        }
      ]
    },
    {
      "metadata": {
        "id": "vk3Jpj6D2KVe",
        "colab_type": "code",
        "outputId": "21e80588-26a0-42fc-a4c3-2b00bdb3ff69",
        "colab": {
          "base_uri": "https://localhost:8080/",
          "height": 701
        }
      },
      "cell_type": "code",
      "source": [
        "#ordenamos los valores de Z para obtener los puntos más elevados\n",
        "df_stacked_first_eye['Z'] = pd.to_numeric(df_stacked_first_eye['Z'])\n",
        "df_stacked_first_eye.sort_values('Z', ascending=False, inplace = True)\n",
        "df_stacked_first_eye.head(15)"
      ],
      "execution_count": 0,
      "outputs": [
        {
          "output_type": "stream",
          "text": [
            "/usr/local/lib/python3.6/dist-packages/ipykernel_launcher.py:1: SettingWithCopyWarning: \n",
            "A value is trying to be set on a copy of a slice from a DataFrame.\n",
            "Try using .loc[row_indexer,col_indexer] = value instead\n",
            "\n",
            "See the caveats in the documentation: http://pandas.pydata.org/pandas-docs/stable/indexing.html#indexing-view-versus-copy\n",
            "  \"\"\"Entry point for launching an IPython kernel.\n",
            "/usr/local/lib/python3.6/dist-packages/ipykernel_launcher.py:2: SettingWithCopyWarning: \n",
            "A value is trying to be set on a copy of a slice from a DataFrame\n",
            "\n",
            "See the caveats in the documentation: http://pandas.pydata.org/pandas-docs/stable/indexing.html#indexing-view-versus-copy\n",
            "  \n"
          ],
          "name": "stderr"
        },
        {
          "output_type": "execute_result",
          "data": {
            "text/html": [
              "<div>\n",
              "<style scoped>\n",
              "    .dataframe tbody tr th:only-of-type {\n",
              "        vertical-align: middle;\n",
              "    }\n",
              "\n",
              "    .dataframe tbody tr th {\n",
              "        vertical-align: top;\n",
              "    }\n",
              "\n",
              "    .dataframe thead th {\n",
              "        text-align: right;\n",
              "    }\n",
              "</style>\n",
              "<table border=\"1\" class=\"dataframe\">\n",
              "  <thead>\n",
              "    <tr style=\"text-align: right;\">\n",
              "      <th></th>\n",
              "      <th>Z</th>\n",
              "    </tr>\n",
              "  </thead>\n",
              "  <tbody>\n",
              "    <tr>\n",
              "      <th>9965</th>\n",
              "      <td>2687</td>\n",
              "    </tr>\n",
              "    <tr>\n",
              "      <th>9940</th>\n",
              "      <td>2681</td>\n",
              "    </tr>\n",
              "    <tr>\n",
              "      <th>9907</th>\n",
              "      <td>2678</td>\n",
              "    </tr>\n",
              "    <tr>\n",
              "      <th>9966</th>\n",
              "      <td>2677</td>\n",
              "    </tr>\n",
              "    <tr>\n",
              "      <th>9977</th>\n",
              "      <td>2674</td>\n",
              "    </tr>\n",
              "    <tr>\n",
              "      <th>9868</th>\n",
              "      <td>2671</td>\n",
              "    </tr>\n",
              "    <tr>\n",
              "      <th>9967</th>\n",
              "      <td>2667</td>\n",
              "    </tr>\n",
              "    <tr>\n",
              "      <th>9776</th>\n",
              "      <td>2667</td>\n",
              "    </tr>\n",
              "    <tr>\n",
              "      <th>9976</th>\n",
              "      <td>2665</td>\n",
              "    </tr>\n",
              "    <tr>\n",
              "      <th>9666</th>\n",
              "      <td>2664</td>\n",
              "    </tr>\n",
              "    <tr>\n",
              "      <th>9723</th>\n",
              "      <td>2661</td>\n",
              "    </tr>\n",
              "    <tr>\n",
              "      <th>9941</th>\n",
              "      <td>2660</td>\n",
              "    </tr>\n",
              "    <tr>\n",
              "      <th>9968</th>\n",
              "      <td>2660</td>\n",
              "    </tr>\n",
              "    <tr>\n",
              "      <th>9975</th>\n",
              "      <td>2658</td>\n",
              "    </tr>\n",
              "    <tr>\n",
              "      <th>9969</th>\n",
              "      <td>2654</td>\n",
              "    </tr>\n",
              "  </tbody>\n",
              "</table>\n",
              "</div>"
            ],
            "text/plain": [
              "         Z\n",
              "9965  2687\n",
              "9940  2681\n",
              "9907  2678\n",
              "9966  2677\n",
              "9977  2674\n",
              "9868  2671\n",
              "9967  2667\n",
              "9776  2667\n",
              "9976  2665\n",
              "9666  2664\n",
              "9723  2661\n",
              "9941  2660\n",
              "9968  2660\n",
              "9975  2658\n",
              "9969  2654"
            ]
          },
          "metadata": {
            "tags": []
          },
          "execution_count": 149
        }
      ]
    },
    {
      "metadata": {
        "id": "lXBh91yq2KTp",
        "colab_type": "code",
        "colab": {}
      },
      "cell_type": "code",
      "source": [
        ""
      ],
      "execution_count": 0,
      "outputs": []
    },
    {
      "metadata": {
        "id": "SEyQ8oci2KSP",
        "colab_type": "code",
        "colab": {}
      },
      "cell_type": "code",
      "source": [
        ""
      ],
      "execution_count": 0,
      "outputs": []
    },
    {
      "metadata": {
        "id": "R8Joc0SW2KQh",
        "colab_type": "code",
        "colab": {}
      },
      "cell_type": "code",
      "source": [
        ""
      ],
      "execution_count": 0,
      "outputs": []
    },
    {
      "metadata": {
        "id": "Z4ZqBXti2KO9",
        "colab_type": "code",
        "colab": {}
      },
      "cell_type": "code",
      "source": [
        ""
      ],
      "execution_count": 0,
      "outputs": []
    },
    {
      "metadata": {
        "id": "-kmGQw3U2KNC",
        "colab_type": "code",
        "colab": {}
      },
      "cell_type": "code",
      "source": [
        ""
      ],
      "execution_count": 0,
      "outputs": []
    },
    {
      "metadata": {
        "id": "vx4VLXN62KJh",
        "colab_type": "code",
        "colab": {}
      },
      "cell_type": "code",
      "source": [
        ""
      ],
      "execution_count": 0,
      "outputs": []
    },
    {
      "metadata": {
        "id": "35R4IgLe2KHx",
        "colab_type": "code",
        "colab": {}
      },
      "cell_type": "code",
      "source": [
        ""
      ],
      "execution_count": 0,
      "outputs": []
    },
    {
      "metadata": {
        "id": "A8AN2cxc2KF6",
        "colab_type": "code",
        "colab": {}
      },
      "cell_type": "code",
      "source": [
        ""
      ],
      "execution_count": 0,
      "outputs": []
    }
  ]
}